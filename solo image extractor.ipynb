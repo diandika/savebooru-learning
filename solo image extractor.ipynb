{
 "cells": [
  {
   "cell_type": "code",
   "execution_count": 22,
   "metadata": {},
   "outputs": [],
   "source": [
    "import pandas as pd\n",
    "import requests\n",
    "import os\n",
    "import csv\n",
    "from tqdm import tqdm\n",
    "from PIL import Image"
   ]
  },
  {
   "cell_type": "code",
   "execution_count": 2,
   "metadata": {},
   "outputs": [
    {
     "data": {
      "text/html": [
       "<div>\n",
       "<style scoped>\n",
       "    .dataframe tbody tr th:only-of-type {\n",
       "        vertical-align: middle;\n",
       "    }\n",
       "\n",
       "    .dataframe tbody tr th {\n",
       "        vertical-align: top;\n",
       "    }\n",
       "\n",
       "    .dataframe thead th {\n",
       "        text-align: right;\n",
       "    }\n",
       "</style>\n",
       "<table border=\"1\" class=\"dataframe\">\n",
       "  <thead>\n",
       "    <tr style=\"text-align: right;\">\n",
       "      <th></th>\n",
       "      <th>id</th>\n",
       "      <th>created_at</th>\n",
       "      <th>rating</th>\n",
       "      <th>score</th>\n",
       "      <th>sample_url</th>\n",
       "      <th>sample_width</th>\n",
       "      <th>sample_height</th>\n",
       "      <th>preview_url</th>\n",
       "      <th>tags</th>\n",
       "    </tr>\n",
       "  </thead>\n",
       "  <tbody>\n",
       "    <tr>\n",
       "      <th>0</th>\n",
       "      <td>1</td>\n",
       "      <td>1264803292</td>\n",
       "      <td>s</td>\n",
       "      <td>37</td>\n",
       "      <td>//safebooru.org/samples/1/sample_e7b3dc281d431...</td>\n",
       "      <td>850</td>\n",
       "      <td>638</td>\n",
       "      <td>//safebooru.org/thumbnails/1/thumbnail_e7b3dc2...</td>\n",
       "      <td>1girl bag black_hair blush bob_cut bowieknife ...</td>\n",
       "    </tr>\n",
       "    <tr>\n",
       "      <th>1</th>\n",
       "      <td>2</td>\n",
       "      <td>1264803292</td>\n",
       "      <td>s</td>\n",
       "      <td>12</td>\n",
       "      <td>//safebooru.org/samples/1/sample_27ff11b17a2c3...</td>\n",
       "      <td>850</td>\n",
       "      <td>1208</td>\n",
       "      <td>//safebooru.org/thumbnails/1/thumbnail_27ff11b...</td>\n",
       "      <td>barding black cape celty_sturluson dress dulla...</td>\n",
       "    </tr>\n",
       "    <tr>\n",
       "      <th>2</th>\n",
       "      <td>3</td>\n",
       "      <td>1264803298</td>\n",
       "      <td>s</td>\n",
       "      <td>8</td>\n",
       "      <td>//safebooru.org/samples/1/sample_ebd16eb1d1547...</td>\n",
       "      <td>850</td>\n",
       "      <td>599</td>\n",
       "      <td>//safebooru.org/thumbnails/1/thumbnail_ebd16eb...</td>\n",
       "      <td>blue_eyes blush brown_hair original scan takoy...</td>\n",
       "    </tr>\n",
       "    <tr>\n",
       "      <th>3</th>\n",
       "      <td>4</td>\n",
       "      <td>1264803299</td>\n",
       "      <td>s</td>\n",
       "      <td>5</td>\n",
       "      <td>//safebooru.org/samples/1/sample_6fbb9a4b9099e...</td>\n",
       "      <td>850</td>\n",
       "      <td>519</td>\n",
       "      <td>//safebooru.org/thumbnails/1/thumbnail_6fbb9a4...</td>\n",
       "      <td>game_cg hagall_valkyr mecha_musume shirogane_n...</td>\n",
       "    </tr>\n",
       "    <tr>\n",
       "      <th>4</th>\n",
       "      <td>6</td>\n",
       "      <td>1264803304</td>\n",
       "      <td>s</td>\n",
       "      <td>11</td>\n",
       "      <td>//safebooru.org/samples/1/sample_113cb63dc5412...</td>\n",
       "      <td>850</td>\n",
       "      <td>601</td>\n",
       "      <td>//safebooru.org/thumbnails/1/thumbnail_113cb63...</td>\n",
       "      <td>blush idolmaster kisaragi_chihaya komi_zumiko ...</td>\n",
       "    </tr>\n",
       "    <tr>\n",
       "      <th>5</th>\n",
       "      <td>7</td>\n",
       "      <td>1264803305</td>\n",
       "      <td>s</td>\n",
       "      <td>2</td>\n",
       "      <td>//safebooru.org/samples/1/sample_e7fbb7b5e3d0a...</td>\n",
       "      <td>850</td>\n",
       "      <td>531</td>\n",
       "      <td>//safebooru.org/thumbnails/1/thumbnail_e7fbb7b...</td>\n",
       "      <td>blonde_hair detached_sleeves gloves green_eyes...</td>\n",
       "    </tr>\n",
       "    <tr>\n",
       "      <th>6</th>\n",
       "      <td>8</td>\n",
       "      <td>1264803306</td>\n",
       "      <td>s</td>\n",
       "      <td>3</td>\n",
       "      <td>//safebooru.org/samples/1/sample_b60156c722313...</td>\n",
       "      <td>850</td>\n",
       "      <td>638</td>\n",
       "      <td>//safebooru.org/thumbnails/1/thumbnail_b60156c...</td>\n",
       "      <td>absolute_terror_field clouds dust electricity ...</td>\n",
       "    </tr>\n",
       "    <tr>\n",
       "      <th>7</th>\n",
       "      <td>9</td>\n",
       "      <td>1264803306</td>\n",
       "      <td>s</td>\n",
       "      <td>4</td>\n",
       "      <td>//safebooru.org/samples/1/sample_933e11fc0f99d...</td>\n",
       "      <td>850</td>\n",
       "      <td>378</td>\n",
       "      <td>//safebooru.org/thumbnails/1/thumbnail_933e11f...</td>\n",
       "      <td>armor cleavage game_cg hagall_valkyr shirogane...</td>\n",
       "    </tr>\n",
       "    <tr>\n",
       "      <th>8</th>\n",
       "      <td>10</td>\n",
       "      <td>1264803308</td>\n",
       "      <td>s</td>\n",
       "      <td>17</td>\n",
       "      <td>//safebooru.org/samples/1/sample_253c55b8e4f68...</td>\n",
       "      <td>850</td>\n",
       "      <td>567</td>\n",
       "      <td>//safebooru.org/thumbnails/1/thumbnail_253c55b...</td>\n",
       "      <td>bdsm bed blonde_hair bondage bow broken broken...</td>\n",
       "    </tr>\n",
       "    <tr>\n",
       "      <th>9</th>\n",
       "      <td>11</td>\n",
       "      <td>1264803309</td>\n",
       "      <td>s</td>\n",
       "      <td>7</td>\n",
       "      <td>//safebooru.org/samples/1/sample_24f0c579396f9...</td>\n",
       "      <td>850</td>\n",
       "      <td>601</td>\n",
       "      <td>//safebooru.org/thumbnails/1/thumbnail_24f0c57...</td>\n",
       "      <td>2_sing_4_u_(vocaloid) alternate_costume black_...</td>\n",
       "    </tr>\n",
       "  </tbody>\n",
       "</table>\n",
       "</div>"
      ],
      "text/plain": [
       "   id  created_at rating  score  \\\n",
       "0   1  1264803292      s     37   \n",
       "1   2  1264803292      s     12   \n",
       "2   3  1264803298      s      8   \n",
       "3   4  1264803299      s      5   \n",
       "4   6  1264803304      s     11   \n",
       "5   7  1264803305      s      2   \n",
       "6   8  1264803306      s      3   \n",
       "7   9  1264803306      s      4   \n",
       "8  10  1264803308      s     17   \n",
       "9  11  1264803309      s      7   \n",
       "\n",
       "                                          sample_url  sample_width  \\\n",
       "0  //safebooru.org/samples/1/sample_e7b3dc281d431...           850   \n",
       "1  //safebooru.org/samples/1/sample_27ff11b17a2c3...           850   \n",
       "2  //safebooru.org/samples/1/sample_ebd16eb1d1547...           850   \n",
       "3  //safebooru.org/samples/1/sample_6fbb9a4b9099e...           850   \n",
       "4  //safebooru.org/samples/1/sample_113cb63dc5412...           850   \n",
       "5  //safebooru.org/samples/1/sample_e7fbb7b5e3d0a...           850   \n",
       "6  //safebooru.org/samples/1/sample_b60156c722313...           850   \n",
       "7  //safebooru.org/samples/1/sample_933e11fc0f99d...           850   \n",
       "8  //safebooru.org/samples/1/sample_253c55b8e4f68...           850   \n",
       "9  //safebooru.org/samples/1/sample_24f0c579396f9...           850   \n",
       "\n",
       "   sample_height                                        preview_url  \\\n",
       "0            638  //safebooru.org/thumbnails/1/thumbnail_e7b3dc2...   \n",
       "1           1208  //safebooru.org/thumbnails/1/thumbnail_27ff11b...   \n",
       "2            599  //safebooru.org/thumbnails/1/thumbnail_ebd16eb...   \n",
       "3            519  //safebooru.org/thumbnails/1/thumbnail_6fbb9a4...   \n",
       "4            601  //safebooru.org/thumbnails/1/thumbnail_113cb63...   \n",
       "5            531  //safebooru.org/thumbnails/1/thumbnail_e7fbb7b...   \n",
       "6            638  //safebooru.org/thumbnails/1/thumbnail_b60156c...   \n",
       "7            378  //safebooru.org/thumbnails/1/thumbnail_933e11f...   \n",
       "8            567  //safebooru.org/thumbnails/1/thumbnail_253c55b...   \n",
       "9            601  //safebooru.org/thumbnails/1/thumbnail_24f0c57...   \n",
       "\n",
       "                                                tags  \n",
       "0  1girl bag black_hair blush bob_cut bowieknife ...  \n",
       "1  barding black cape celty_sturluson dress dulla...  \n",
       "2  blue_eyes blush brown_hair original scan takoy...  \n",
       "3  game_cg hagall_valkyr mecha_musume shirogane_n...  \n",
       "4  blush idolmaster kisaragi_chihaya komi_zumiko ...  \n",
       "5  blonde_hair detached_sleeves gloves green_eyes...  \n",
       "6  absolute_terror_field clouds dust electricity ...  \n",
       "7  armor cleavage game_cg hagall_valkyr shirogane...  \n",
       "8  bdsm bed blonde_hair bondage bow broken broken...  \n",
       "9  2_sing_4_u_(vocaloid) alternate_costume black_...  "
      ]
     },
     "execution_count": 2,
     "metadata": {},
     "output_type": "execute_result"
    }
   ],
   "source": [
    "df = pd.read_csv('data/all_data.csv', sep=',')\n",
    "df.head(10)"
   ]
  },
  {
   "cell_type": "code",
   "execution_count": 3,
   "metadata": {},
   "outputs": [
    {
     "name": "stdout",
     "output_type": "stream",
     "text": [
      "amount of all data:  3020460\n",
      "amount of cleaned data:  3020460\n"
     ]
    }
   ],
   "source": [
    "print(\"amount of all data: \", len(df))\n",
    "df = df[df[\"id\"].notna() & df[\"preview_url\"].notna() & df[\"tags\"].notna()]\n",
    "print(\"amount of cleaned data: \", len(df))"
   ]
  },
  {
   "cell_type": "code",
   "execution_count": 4,
   "metadata": {},
   "outputs": [],
   "source": [
    "def make_dir(path):\n",
    "    try:\n",
    "        os.mkdir(path)\n",
    "    except:\n",
    "        print(\"Directory already exist\")"
   ]
  },
  {
   "cell_type": "code",
   "execution_count": 5,
   "metadata": {},
   "outputs": [
    {
     "name": "stdout",
     "output_type": "stream",
     "text": [
      "Directory already exist\n"
     ]
    }
   ],
   "source": [
    "IMAGE_DIR = 'image'\n",
    "make_dir(IMAGE_DIR)"
   ]
  },
  {
   "cell_type": "code",
   "execution_count": 6,
   "metadata": {},
   "outputs": [
    {
     "name": "stderr",
     "output_type": "stream",
     "text": [
      "Download progress: 100%|████████████████████████████████| 3020460/3020460 [14:18<00:00, 3519.12it/s]\n"
     ]
    }
   ],
   "source": [
    "solo_art = []\n",
    "solo = 'solo'\n",
    "for idx in tqdm(range(len(df)), desc='Download progress', ncols=100):\n",
    "    row = df.iloc[idx]\n",
    "    tags = row[\"tags\"].split(' ')\n",
    "    if solo in tags:\n",
    "        solo_art.append(row)"
   ]
  },
  {
   "cell_type": "code",
   "execution_count": 15,
   "metadata": {},
   "outputs": [
    {
     "name": "stderr",
     "output_type": "stream",
     "text": [
      "progress: 100%|███████████████████████████████████████| 1420969/1420969 [00:06<00:00, 217518.20it/s]"
     ]
    },
    {
     "name": "stdout",
     "output_type": "stream",
     "text": [
      "[[1, 1264803292, 's', 37, '//safebooru.org/samples/1/sample_e7b3dc281d431f7a9f4ab81986d2de9a20d36d2e.jpg', 850, 638, '//safebooru.org/thumbnails/1/thumbnail_e7b3dc281d431f7a9f4ab81986d2de9a20d36d2e.jpg', '1girl bag black_hair blush bob_cut bowieknife breath coat girls gloves jacket landscape miniskirt mountain necktie original pantyhose peacoat purse scarf short_hair skirt snow solo toggles uniform'], [2, 1264803292, 's', 12, '//safebooru.org/samples/1/sample_27ff11b17a2c3f83dcb6d1e10b8b3191b4ffb129.jpg', 850, 1208, '//safebooru.org/thumbnails/1/thumbnail_27ff11b17a2c3f83dcb6d1e10b8b3191b4ffb129.jpg', 'barding black cape celty_sturluson dress dullahan durarara!! headless highres horse horseback_riding janemere smoke solo'], [7, 1264803305, 's', 2, '//safebooru.org/samples/1/sample_e7fbb7b5e3d0acea7a8ab37260e4570e317d28ab.png', 850, 531, '//safebooru.org/thumbnails/1/thumbnail_e7fbb7b5e3d0acea7a8ab37260e4570e317d28ab.png', 'blonde_hair detached_sleeves gloves green_eyes hair_ribbon ribbon rpg seitokai_no_ichizon shiina_mafuyu solo vector'], [11, 1264803309, 's', 7, '//safebooru.org/samples/1/sample_24f0c579396f9870146ad476fe7bdc6a54cb6f52.jpg', 850, 601, '//safebooru.org/thumbnails/1/thumbnail_24f0c579396f9870146ad476fe7bdc6a54cb6f52.jpg', '2_sing_4_u_(vocaloid) alternate_costume black_dress blue_eyes breasts cleavage curtains detached_sleeves dress gothic hair_ornament hair_over_one_eye hairband hijikini large_breasts long_hair megurine_luka necklace pink_hair portrait solo spotlight stockings thighhighs transparent vocaloid'], [15, 1264803312, 's', 27, '//safebooru.org/samples/1/sample_05a8d8706fdfd49e5e3b431c961a826d7b3ea9f6.jpg', 850, 606, '//safebooru.org/thumbnails/1/thumbnail_05a8d8706fdfd49e5e3b431c961a826d7b3ea9f6.jpg', 'ahoge bad_id blush bottle brown_hair can cellphone chair chinese closed_eyes coffee computer computer_keyboard drawing drink drool drooling highres long_hair musical_note nescafe office_chair original painttool_sai pantyhose phone photoshop product_placement recursion reflection saliva sayori sayori_(character) shirt short_hair sitting sleeping smile solo striped striped_shirt stylus tablet trash venus_symbol wacom water_bottle windows']]\n"
     ]
    },
    {
     "name": "stderr",
     "output_type": "stream",
     "text": [
      "\n"
     ]
    }
   ],
   "source": [
    "for i in tqdm(range(len(solo_art)), desc=\"progress\", ncols=100):\n",
    "    solo_art[i] = solo_art[i].tolist()\n",
    "print(solo_art[:5])"
   ]
  },
  {
   "cell_type": "code",
   "execution_count": 26,
   "metadata": {},
   "outputs": [
    {
     "name": "stderr",
     "output_type": "stream",
     "text": [
      "writing progress: 100%|████████████████████████████████| 1420969/1420969 [00:58<00:00, 24126.70it/s]\n"
     ]
    }
   ],
   "source": [
    "header = df.columns.values.tolist()\n",
    "#print(header)\n",
    "with open('data/solo_art.csv', 'w') as solo_data:\n",
    "    writer = csv.writer(solo_data)\n",
    "    writer.writerow(header)\n",
    "    for item in tqdm(solo_art, desc=\"writing progress\", ncols=100):\n",
    "        writer.writerow(item)"
   ]
  },
  {
   "cell_type": "code",
   "execution_count": null,
   "metadata": {},
   "outputs": [],
   "source": []
  }
 ],
 "metadata": {
  "kernelspec": {
   "display_name": "Python 3",
   "language": "python",
   "name": "python3"
  },
  "language_info": {
   "codemirror_mode": {
    "name": "ipython",
    "version": 3
   },
   "file_extension": ".py",
   "mimetype": "text/x-python",
   "name": "python",
   "nbconvert_exporter": "python",
   "pygments_lexer": "ipython3",
   "version": "3.7.7"
  }
 },
 "nbformat": 4,
 "nbformat_minor": 4
}
