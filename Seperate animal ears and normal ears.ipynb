{
 "cells": [
  {
   "cell_type": "code",
   "execution_count": 2,
   "metadata": {},
   "outputs": [],
   "source": [
    "import pandas as pd\n",
    "import os\n",
    "import csv\n",
    "import numpy as np\n",
    "from tqdm import tqdm"
   ]
  },
  {
   "cell_type": "code",
   "execution_count": 3,
   "metadata": {},
   "outputs": [
    {
     "data": {
      "text/html": [
       "<div>\n",
       "<style scoped>\n",
       "    .dataframe tbody tr th:only-of-type {\n",
       "        vertical-align: middle;\n",
       "    }\n",
       "\n",
       "    .dataframe tbody tr th {\n",
       "        vertical-align: top;\n",
       "    }\n",
       "\n",
       "    .dataframe thead th {\n",
       "        text-align: right;\n",
       "    }\n",
       "</style>\n",
       "<table border=\"1\" class=\"dataframe\">\n",
       "  <thead>\n",
       "    <tr style=\"text-align: right;\">\n",
       "      <th></th>\n",
       "      <th>id</th>\n",
       "      <th>created_at</th>\n",
       "      <th>rating</th>\n",
       "      <th>score</th>\n",
       "      <th>sample_url</th>\n",
       "      <th>sample_width</th>\n",
       "      <th>sample_height</th>\n",
       "      <th>preview_url</th>\n",
       "      <th>tags</th>\n",
       "    </tr>\n",
       "  </thead>\n",
       "  <tbody>\n",
       "    <tr>\n",
       "      <td>0</td>\n",
       "      <td>1</td>\n",
       "      <td>1264803292</td>\n",
       "      <td>s</td>\n",
       "      <td>37</td>\n",
       "      <td>//safebooru.org/samples/1/sample_e7b3dc281d431...</td>\n",
       "      <td>850</td>\n",
       "      <td>638</td>\n",
       "      <td>//safebooru.org/thumbnails/1/thumbnail_e7b3dc2...</td>\n",
       "      <td>1girl bag black_hair blush bob_cut bowieknife ...</td>\n",
       "    </tr>\n",
       "    <tr>\n",
       "      <td>1</td>\n",
       "      <td>2</td>\n",
       "      <td>1264803292</td>\n",
       "      <td>s</td>\n",
       "      <td>12</td>\n",
       "      <td>//safebooru.org/samples/1/sample_27ff11b17a2c3...</td>\n",
       "      <td>850</td>\n",
       "      <td>1208</td>\n",
       "      <td>//safebooru.org/thumbnails/1/thumbnail_27ff11b...</td>\n",
       "      <td>barding black cape celty_sturluson dress dulla...</td>\n",
       "    </tr>\n",
       "    <tr>\n",
       "      <td>2</td>\n",
       "      <td>7</td>\n",
       "      <td>1264803305</td>\n",
       "      <td>s</td>\n",
       "      <td>2</td>\n",
       "      <td>//safebooru.org/samples/1/sample_e7fbb7b5e3d0a...</td>\n",
       "      <td>850</td>\n",
       "      <td>531</td>\n",
       "      <td>//safebooru.org/thumbnails/1/thumbnail_e7fbb7b...</td>\n",
       "      <td>blonde_hair detached_sleeves gloves green_eyes...</td>\n",
       "    </tr>\n",
       "    <tr>\n",
       "      <td>3</td>\n",
       "      <td>11</td>\n",
       "      <td>1264803309</td>\n",
       "      <td>s</td>\n",
       "      <td>7</td>\n",
       "      <td>//safebooru.org/samples/1/sample_24f0c579396f9...</td>\n",
       "      <td>850</td>\n",
       "      <td>601</td>\n",
       "      <td>//safebooru.org/thumbnails/1/thumbnail_24f0c57...</td>\n",
       "      <td>2_sing_4_u_(vocaloid) alternate_costume black_...</td>\n",
       "    </tr>\n",
       "    <tr>\n",
       "      <td>4</td>\n",
       "      <td>15</td>\n",
       "      <td>1264803312</td>\n",
       "      <td>s</td>\n",
       "      <td>27</td>\n",
       "      <td>//safebooru.org/samples/1/sample_05a8d8706fdfd...</td>\n",
       "      <td>850</td>\n",
       "      <td>606</td>\n",
       "      <td>//safebooru.org/thumbnails/1/thumbnail_05a8d87...</td>\n",
       "      <td>ahoge bad_id blush bottle brown_hair can cellp...</td>\n",
       "    </tr>\n",
       "  </tbody>\n",
       "</table>\n",
       "</div>"
      ],
      "text/plain": [
       "   id  created_at rating  score  \\\n",
       "0   1  1264803292      s     37   \n",
       "1   2  1264803292      s     12   \n",
       "2   7  1264803305      s      2   \n",
       "3  11  1264803309      s      7   \n",
       "4  15  1264803312      s     27   \n",
       "\n",
       "                                          sample_url  sample_width  \\\n",
       "0  //safebooru.org/samples/1/sample_e7b3dc281d431...           850   \n",
       "1  //safebooru.org/samples/1/sample_27ff11b17a2c3...           850   \n",
       "2  //safebooru.org/samples/1/sample_e7fbb7b5e3d0a...           850   \n",
       "3  //safebooru.org/samples/1/sample_24f0c579396f9...           850   \n",
       "4  //safebooru.org/samples/1/sample_05a8d8706fdfd...           850   \n",
       "\n",
       "   sample_height                                        preview_url  \\\n",
       "0            638  //safebooru.org/thumbnails/1/thumbnail_e7b3dc2...   \n",
       "1           1208  //safebooru.org/thumbnails/1/thumbnail_27ff11b...   \n",
       "2            531  //safebooru.org/thumbnails/1/thumbnail_e7fbb7b...   \n",
       "3            601  //safebooru.org/thumbnails/1/thumbnail_24f0c57...   \n",
       "4            606  //safebooru.org/thumbnails/1/thumbnail_05a8d87...   \n",
       "\n",
       "                                                tags  \n",
       "0  1girl bag black_hair blush bob_cut bowieknife ...  \n",
       "1  barding black cape celty_sturluson dress dulla...  \n",
       "2  blonde_hair detached_sleeves gloves green_eyes...  \n",
       "3  2_sing_4_u_(vocaloid) alternate_costume black_...  \n",
       "4  ahoge bad_id blush bottle brown_hair can cellp...  "
      ]
     },
     "execution_count": 3,
     "metadata": {},
     "output_type": "execute_result"
    }
   ],
   "source": [
    "df = pd.read_csv('data/solo_art.csv')\n",
    "df.head(5)"
   ]
  },
  {
   "cell_type": "code",
   "execution_count": 4,
   "metadata": {},
   "outputs": [],
   "source": [
    "def makedir(path):\n",
    "    try:\n",
    "        os.mkdir(path)\n",
    "    except:\n",
    "        print(\"Directory '\", path, \"' already exist\")"
   ]
  },
  {
   "cell_type": "code",
   "execution_count": 5,
   "metadata": {},
   "outputs": [],
   "source": [
    "image_dir = 'image'\n",
    "animal_ears = 'animal_ears'\n",
    "human_ears = 'human_ears'\n",
    "animal_dir = os.path.join(image_dir, animal_ears)\n",
    "human_dir = os.path.join(image_dir, human_ears)"
   ]
  },
  {
   "cell_type": "code",
   "execution_count": 6,
   "metadata": {},
   "outputs": [],
   "source": [
    "header = df.columns.values.tolist()\n",
    "numpy_data = df.to_numpy()"
   ]
  },
  {
   "cell_type": "code",
   "execution_count": 7,
   "metadata": {},
   "outputs": [
    {
     "name": "stderr",
     "output_type": "stream",
     "text": [
      "100%|█████████████████████████████████████████████████| 1420969/1420969 [00:07<00:00, 177924.98it/s]"
     ]
    },
    {
     "name": "stdout",
     "output_type": "stream",
     "text": [
      "animal_ears count:  1288700\n",
      "human_ears count:  132269\n",
      "total:  1420969\n"
     ]
    },
    {
     "name": "stderr",
     "output_type": "stream",
     "text": [
      "\n"
     ]
    }
   ],
   "source": [
    "tags_idx = -1\n",
    "#both = pd.DataFrame(columns = header)\n",
    "#nan = pd.DataFrame(columns = header)\n",
    "art_animal_ears = []\n",
    "art_human_ears = []\n",
    "for item in tqdm(numpy_data, ncols=100):\n",
    "    tags = item[tags_idx].split(' ')\n",
    "    if 'animal_ears' in tags:\n",
    "        art_animal_ears.append(item)\n",
    "    else:\n",
    "        art_human_ears.append(item)\n",
    "#print(\"Hemaphrodite count: \", len(both))\n",
    "#print(\"Questionable count: \", len(nan))\n",
    "print(\"animal_ears count: \", len(art_animal_ears))\n",
    "print(\"human_ears count: \", len(art_human_ears))\n",
    "print(\"total: \", len(art_animal_ears) + len(art_human_ears))"
   ]
  },
  {
   "cell_type": "code",
   "execution_count": 8,
   "metadata": {},
   "outputs": [
    {
     "name": "stderr",
     "output_type": "stream",
     "text": [
      "changing animal_ears' tags: 100%|█████████████████████| 1288700/1288700 [00:01<00:00, 961551.21it/s]\n",
      "changing human_ears' tags: 100%|████████████████████████| 132269/132269 [00:00<00:00, 876472.47it/s]\n"
     ]
    }
   ],
   "source": [
    "for item in tqdm(art_animal_ears, desc=\"changing animal_ears' tags\", ncols=100):\n",
    "    item[tags_idx] = 'animal_ears'\n",
    "for item in tqdm(art_human_ears, desc=\"changing human_ears' tags\", ncols=100):\n",
    "    item[tags_idx] = 'human_ears'"
   ]
  },
  {
   "cell_type": "code",
   "execution_count": 9,
   "metadata": {},
   "outputs": [
    {
     "name": "stderr",
     "output_type": "stream",
     "text": [
      "writing animal_ears progress:   0%|                       | 3264/1288700 [00:00<00:39, 32335.43it/s]"
     ]
    },
    {
     "name": "stdout",
     "output_type": "stream",
     "text": [
      "writing to animal_ears_art.csv ...\n"
     ]
    },
    {
     "name": "stderr",
     "output_type": "stream",
     "text": [
      "writing animal_ears progress: 100%|████████████████████| 1288700/1288700 [00:23<00:00, 55333.90it/s]\n",
      "writing human_ears progress:   4%|▉                        | 4932/132269 [00:00<00:02, 49293.60it/s]"
     ]
    },
    {
     "name": "stdout",
     "output_type": "stream",
     "text": [
      "done writing  1288699  lines and  1  error lines\n",
      "writing to human_ears_art.csv ...\n"
     ]
    },
    {
     "name": "stderr",
     "output_type": "stream",
     "text": [
      "writing human_ears progress: 100%|███████████████████████| 132269/132269 [00:02<00:00, 55003.23it/s]"
     ]
    },
    {
     "name": "stdout",
     "output_type": "stream",
     "text": [
      "done writing  132269  lines and  0  error lines\n"
     ]
    },
    {
     "name": "stderr",
     "output_type": "stream",
     "text": [
      "\n"
     ]
    }
   ],
   "source": [
    "header = df.columns.values.tolist()\n",
    "\n",
    "print('writing to animal_ears_art.csv ...')\n",
    "with open('data/animal_ears_art.csv', 'w', newline='') as data:\n",
    "    writer = csv.writer(data)\n",
    "    writer.writerow(header)\n",
    "    error = 1\n",
    "    for item in tqdm(art_animal_ears, desc=\"writing animal_ears progress\", ncols=100):\n",
    "        try:\n",
    "            writer.writerow(item)\n",
    "        except:\n",
    "            error = error + 1\n",
    "print('done writing ', len(art_animal_ears) - error, ' lines and ', error, ' error lines')\n",
    "\n",
    "print('writing to human_ears_art.csv ...')\n",
    "with open('data/human_ears_art.csv', 'w', newline='') as data:\n",
    "    writer = csv.writer(data)\n",
    "    writer.writerow(header)\n",
    "    error = 0\n",
    "    for item in tqdm(art_human_ears, desc=\"writing human_ears progress\", ncols=100):\n",
    "        try:\n",
    "            writer.writerow(item)\n",
    "        except:\n",
    "            error = error + 1\n",
    "print('done writing ', len(art_human_ears) - error, ' lines and ', error, ' error lines')"
   ]
  },
  {
   "cell_type": "code",
   "execution_count": null,
   "metadata": {},
   "outputs": [],
   "source": []
  }
 ],
 "metadata": {
  "kernelspec": {
   "display_name": "Python 3",
   "language": "python",
   "name": "python3"
  },
  "language_info": {
   "codemirror_mode": {
    "name": "ipython",
    "version": 3
   },
   "file_extension": ".py",
   "mimetype": "text/x-python",
   "name": "python",
   "nbconvert_exporter": "python",
   "pygments_lexer": "ipython3",
   "version": "3.7.7"
  }
 },
 "nbformat": 4,
 "nbformat_minor": 4
}
