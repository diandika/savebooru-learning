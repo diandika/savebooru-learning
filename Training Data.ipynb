{
 "cells": [
  {
   "cell_type": "code",
   "execution_count": 22,
   "metadata": {},
   "outputs": [
    {
     "name": "stdout",
     "output_type": "stream",
     "text": [
      "2.1.0\n"
     ]
    }
   ],
   "source": [
    "import os\n",
    "import tensorflow as tf\n",
    "import random\n",
    "import shutil\n",
    "from tqdm import tqdm\n",
    "from tensorflow.keras.preprocessing.image import ImageDataGenerator\n",
    "from tensorflow.keras.layers import Dense, Flatten, Dropout, Conv2D, MaxPooling2D\n",
    "from tensorflow.keras.optimizers import Adam, RMSprop, SGD, Adadelta, Adagrad\n",
    "print(tf.__version__)"
   ]
  },
  {
   "cell_type": "code",
   "execution_count": 2,
   "metadata": {},
   "outputs": [],
   "source": [
    "animal_ears_SAMPLE_DIR = 'sample/animal_ears'\n",
    "human_ears_SAMPLE_DIR = 'sample/human_ears'\n",
    "\n",
    "animal_earss = os.listdir(animal_ears_SAMPLE_DIR)\n",
    "human_earss = os.listdir(human_ears_SAMPLE_DIR)"
   ]
  },
  {
   "cell_type": "code",
   "execution_count": 3,
   "metadata": {},
   "outputs": [],
   "source": [
    "training_size = 90\n",
    "\n",
    "animal_earss_train = random.sample(animal_earss, len(animal_earss)*training_size//100)\n",
    "human_earss_train = random.sample(human_earss, len(human_earss)*training_size//100)\n",
    "\n",
    "animal_earss_test = [item for item in animal_earss if item not in animal_earss_train]\n",
    "human_earss_test = [item for item in human_earss if item not in human_earss_train]"
   ]
  },
  {
   "cell_type": "code",
   "execution_count": 7,
   "metadata": {},
   "outputs": [],
   "source": [
    "BASE_DIR = 'image'\n",
    "TRAIN_DIR = os.path.join(BASE_DIR, 'train')\n",
    "VAL_DIR = os.path.join(BASE_DIR, 'val')\n",
    "\n",
    "animal_ears_TRAIN_DIR = os.path.join(TRAIN_DIR, 'animal_ears')\n",
    "human_ears_TRAIN_DIR = os.path.join(TRAIN_DIR, 'human_ears')\n",
    "animal_ears_VAL_DIR = os.path.join(VAL_DIR, 'animal_ears')\n",
    "human_ears_VAL_DIR = os.path.join(VAL_DIR, 'human_ears')"
   ]
  },
  {
   "cell_type": "code",
   "execution_count": 5,
   "metadata": {},
   "outputs": [
    {
     "name": "stderr",
     "output_type": "stream",
     "text": [
      "100%|█████████████████████████████████████████████████████████████████████████████| 1800/1800 [00:03<00:00, 596.61it/s]\n",
      "100%|█████████████████████████████████████████████████████████████████████████████| 1800/1800 [00:03<00:00, 593.92it/s]\n",
      "100%|███████████████████████████████████████████████████████████████████████████████| 200/200 [00:00<00:00, 722.91it/s]\n",
      "100%|███████████████████████████████████████████████████████████████████████████████| 200/200 [00:00<00:00, 608.25it/s]\n"
     ]
    }
   ],
   "source": [
    "for image in tqdm(animal_earss_train):\n",
    "    src = os.path.join(animal_ears_SAMPLE_DIR, image)\n",
    "    des = animal_ears_TRAIN_DIR\n",
    "    shutil.copy(src, des)\n",
    "\n",
    "for image in tqdm(human_earss_train):\n",
    "    src = os.path.join(human_ears_SAMPLE_DIR, image)\n",
    "    des = human_ears_TRAIN_DIR\n",
    "    shutil.copy(src, des)\n",
    "\n",
    "for image in tqdm(animal_earss_test):\n",
    "    src = os.path.join(animal_ears_SAMPLE_DIR, image)\n",
    "    des = animal_ears_VAL_DIR\n",
    "    shutil.copy(src, des)\n",
    "\n",
    "for image in tqdm(human_earss_test):\n",
    "    src = os.path.join(human_ears_SAMPLE_DIR, image)\n",
    "    des = human_ears_VAL_DIR\n",
    "    shutil.copy(src, des)"
   ]
  },
  {
   "cell_type": "code",
   "execution_count": 32,
   "metadata": {},
   "outputs": [
    {
     "name": "stdout",
     "output_type": "stream",
     "text": [
      "Found 3600 images belonging to 2 classes.\n",
      "Found 400 images belonging to 2 classes.\n"
     ]
    }
   ],
   "source": [
    "train_datagen = ImageDataGenerator(\n",
    "    rescale = 1.255,\n",
    "    rotation_range = 30,\n",
    "    height_shift_range = 0.4,\n",
    "    width_shift_range = 0.4,\n",
    "    zoom_range = 0.2,\n",
    "    horizontal_flip = True,\n",
    "    vertical_flip = True,\n",
    "    fill_mode = 'nearest'\n",
    ")\n",
    "train_generator = train_datagen.flow_from_directory(\n",
    "    TRAIN_DIR,\n",
    "    batch_size = 32,\n",
    "    target_size= (54, 54),\n",
    "    class_mode = 'binary'\n",
    ")\n",
    "\n",
    "val_datagen =  ImageDataGenerator(rescale = 1.255)\n",
    "val_generator = val_datagen.flow_from_directory(\n",
    "    VAL_DIR,\n",
    "    batch_size = 32,\n",
    "    target_size= (54, 54),\n",
    "    class_mode = 'binary'\n",
    ")"
   ]
  },
  {
   "cell_type": "code",
   "execution_count": 46,
   "metadata": {},
   "outputs": [
    {
     "name": "stdout",
     "output_type": "stream",
     "text": [
      "Model: \"sequential_3\"\n",
      "_________________________________________________________________\n",
      "Layer (type)                 Output Shape              Param #   \n",
      "=================================================================\n",
      "conv2d_4 (Conv2D)            (None, 52, 52, 16)        448       \n",
      "_________________________________________________________________\n",
      "max_pooling2d_4 (MaxPooling2 (None, 26, 26, 16)        0         \n",
      "_________________________________________________________________\n",
      "conv2d_5 (Conv2D)            (None, 24, 24, 16)        2320      \n",
      "_________________________________________________________________\n",
      "max_pooling2d_5 (MaxPooling2 (None, 12, 12, 16)        0         \n",
      "_________________________________________________________________\n",
      "flatten_2 (Flatten)          (None, 2304)              0         \n",
      "_________________________________________________________________\n",
      "dense_2 (Dense)              (None, 128)               295040    \n",
      "_________________________________________________________________\n",
      "dropout (Dropout)            (None, 128)               0         \n",
      "_________________________________________________________________\n",
      "dense_3 (Dense)              (None, 1)                 129       \n",
      "=================================================================\n",
      "Total params: 297,937\n",
      "Trainable params: 297,937\n",
      "Non-trainable params: 0\n",
      "_________________________________________________________________\n"
     ]
    }
   ],
   "source": [
    "model = tf.keras.Sequential()\n",
    "model.add(Conv2D(16, (3, 3), activation='relu', input_shape=(54, 54, 3)))\n",
    "model.add(MaxPooling2D((2, 2)))\n",
    "model.add(Conv2D(16, (3, 3), activation='relu'))\n",
    "model.add(MaxPooling2D((2, 2)))\n",
    "model.add(Flatten())\n",
    "model.add(Dense(128, activation=tf.nn.leaky_relu))\n",
    "model.add(Dropout(0.4))\n",
    "model.add(Dense(1, activation='sigmoid'))\n",
    "\n",
    "model.summary()"
   ]
  },
  {
   "cell_type": "code",
   "execution_count": 49,
   "metadata": {},
   "outputs": [],
   "source": [
    "model.compile(optimizer=Adam(lr=0.1), loss='binary_crossentropy', metrics=['accuracy'])"
   ]
  },
  {
   "cell_type": "code",
   "execution_count": 50,
   "metadata": {},
   "outputs": [
    {
     "name": "stdout",
     "output_type": "stream",
     "text": [
      "WARNING:tensorflow:sample_weight modes were coerced from\n",
      "  ...\n",
      "    to  \n",
      "  ['...']\n",
      "WARNING:tensorflow:sample_weight modes were coerced from\n",
      "  ...\n",
      "    to  \n",
      "  ['...']\n",
      "Train for 113 steps, validate for 13 steps\n",
      "Epoch 1/10\n",
      "113/113 [==============================] - 16s 142ms/step - loss: nan - accuracy: 0.5000 - val_loss: nan - val_accuracy: 0.5000\n",
      "Epoch 2/10\n",
      "113/113 [==============================] - 18s 157ms/step - loss: nan - accuracy: 0.5000 - val_loss: nan - val_accuracy: 0.5000\n",
      "Epoch 3/10\n",
      "113/113 [==============================] - 17s 148ms/step - loss: nan - accuracy: 0.5000 - val_loss: nan - val_accuracy: 0.5000\n",
      "Epoch 4/10\n",
      "113/113 [==============================] - 19s 167ms/step - loss: nan - accuracy: 0.5000 - val_loss: nan - val_accuracy: 0.5000\n",
      "Epoch 5/10\n",
      "113/113 [==============================] - 17s 146ms/step - loss: nan - accuracy: 0.5000 - val_loss: nan - val_accuracy: 0.5000\n",
      "Epoch 6/10\n",
      "113/113 [==============================] - 17s 147ms/step - loss: nan - accuracy: 0.5000 - val_loss: nan - val_accuracy: 0.5000\n",
      "Epoch 7/10\n",
      "113/113 [==============================] - 17s 148ms/step - loss: nan - accuracy: 0.5000 - val_loss: nan - val_accuracy: 0.5000\n",
      "Epoch 8/10\n",
      "113/113 [==============================] - 17s 150ms/step - loss: nan - accuracy: 0.5000 - val_loss: nan - val_accuracy: 0.5000\n",
      "Epoch 9/10\n",
      "113/113 [==============================] - 17s 151ms/step - loss: nan - accuracy: 0.5000 - val_loss: nan - val_accuracy: 0.5000\n",
      "Epoch 10/10\n",
      "113/113 [==============================] - 17s 154ms/step - loss: nan - accuracy: 0.5000 - val_loss: nan - val_accuracy: 0.5000\n"
     ]
    }
   ],
   "source": [
    "history = model.fit(\n",
    "    train_generator,\n",
    "    epochs = 10,\n",
    "    validation_data = val_generator,\n",
    "    verbose = 1\n",
    ")"
   ]
  },
  {
   "cell_type": "code",
   "execution_count": 42,
   "metadata": {},
   "outputs": [],
   "source": [
    "tf.keras.backend.clear_session()"
   ]
  },
  {
   "cell_type": "code",
   "execution_count": null,
   "metadata": {},
   "outputs": [],
   "source": []
  }
 ],
 "metadata": {
  "kernelspec": {
   "display_name": "Python 3",
   "language": "python",
   "name": "python3"
  },
  "language_info": {
   "codemirror_mode": {
    "name": "ipython",
    "version": 3
   },
   "file_extension": ".py",
   "mimetype": "text/x-python",
   "name": "python",
   "nbconvert_exporter": "python",
   "pygments_lexer": "ipython3",
   "version": "3.7.7"
  }
 },
 "nbformat": 4,
 "nbformat_minor": 4
}
