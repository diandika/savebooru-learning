{
 "cells": [
  {
   "cell_type": "code",
   "execution_count": 1,
   "metadata": {},
   "outputs": [],
   "source": [
    "import pandas as pd\n",
    "import numpy as np\n",
    "import os\n",
    "import csv\n",
    "import requests\n",
    "from urllib import request, error\n",
    "from PIL import Image\n",
    "from io import BytesIO\n",
    "from datetime import datetime\n",
    "from tqdm import tqdm"
   ]
  },
  {
   "cell_type": "code",
   "execution_count": 2,
   "metadata": {},
   "outputs": [
    {
     "data": {
      "text/html": [
       "<div>\n",
       "<style scoped>\n",
       "    .dataframe tbody tr th:only-of-type {\n",
       "        vertical-align: middle;\n",
       "    }\n",
       "\n",
       "    .dataframe tbody tr th {\n",
       "        vertical-align: top;\n",
       "    }\n",
       "\n",
       "    .dataframe thead th {\n",
       "        text-align: right;\n",
       "    }\n",
       "</style>\n",
       "<table border=\"1\" class=\"dataframe\">\n",
       "  <thead>\n",
       "    <tr style=\"text-align: right;\">\n",
       "      <th></th>\n",
       "      <th>id</th>\n",
       "      <th>created_at</th>\n",
       "      <th>rating</th>\n",
       "      <th>score</th>\n",
       "      <th>sample_url</th>\n",
       "      <th>sample_width</th>\n",
       "      <th>sample_height</th>\n",
       "      <th>preview_url</th>\n",
       "      <th>tags</th>\n",
       "    </tr>\n",
       "  </thead>\n",
       "  <tbody>\n",
       "    <tr>\n",
       "      <td>0</td>\n",
       "      <td>111</td>\n",
       "      <td>1264803408</td>\n",
       "      <td>s</td>\n",
       "      <td>6</td>\n",
       "      <td>//safebooru.org/images/1/0f06585c990985a740b89...</td>\n",
       "      <td>480</td>\n",
       "      <td>1200</td>\n",
       "      <td>//safebooru.org/thumbnails/1/thumbnail_0f06585...</td>\n",
       "      <td>boy</td>\n",
       "    </tr>\n",
       "    <tr>\n",
       "      <td>1</td>\n",
       "      <td>132</td>\n",
       "      <td>1264803422</td>\n",
       "      <td>s</td>\n",
       "      <td>5</td>\n",
       "      <td>//safebooru.org/images/1/4054c004887474c5bd809...</td>\n",
       "      <td>567</td>\n",
       "      <td>800</td>\n",
       "      <td>//safebooru.org/thumbnails/1/thumbnail_4054c00...</td>\n",
       "      <td>boy</td>\n",
       "    </tr>\n",
       "    <tr>\n",
       "      <td>2</td>\n",
       "      <td>283</td>\n",
       "      <td>1264803550</td>\n",
       "      <td>s</td>\n",
       "      <td>0</td>\n",
       "      <td>//safebooru.org/samples/1/sample_2d52076d1ec3f...</td>\n",
       "      <td>850</td>\n",
       "      <td>513</td>\n",
       "      <td>//safebooru.org/thumbnails/1/thumbnail_2d52076...</td>\n",
       "      <td>boy</td>\n",
       "    </tr>\n",
       "    <tr>\n",
       "      <td>3</td>\n",
       "      <td>310</td>\n",
       "      <td>1264803570</td>\n",
       "      <td>s</td>\n",
       "      <td>0</td>\n",
       "      <td>//safebooru.org/samples/1/sample_56ea37fa0d914...</td>\n",
       "      <td>850</td>\n",
       "      <td>531</td>\n",
       "      <td>//safebooru.org/thumbnails/1/thumbnail_56ea37f...</td>\n",
       "      <td>boy</td>\n",
       "    </tr>\n",
       "    <tr>\n",
       "      <td>4</td>\n",
       "      <td>377</td>\n",
       "      <td>1264803623</td>\n",
       "      <td>s</td>\n",
       "      <td>2</td>\n",
       "      <td>//safebooru.org/images/1/e0826090e906fb6abe5b0...</td>\n",
       "      <td>1680</td>\n",
       "      <td>1050</td>\n",
       "      <td>//safebooru.org/thumbnails/1/thumbnail_e082609...</td>\n",
       "      <td>boy</td>\n",
       "    </tr>\n",
       "  </tbody>\n",
       "</table>\n",
       "</div>"
      ],
      "text/plain": [
       "    id  created_at rating  score  \\\n",
       "0  111  1264803408      s      6   \n",
       "1  132  1264803422      s      5   \n",
       "2  283  1264803550      s      0   \n",
       "3  310  1264803570      s      0   \n",
       "4  377  1264803623      s      2   \n",
       "\n",
       "                                          sample_url  sample_width  \\\n",
       "0  //safebooru.org/images/1/0f06585c990985a740b89...           480   \n",
       "1  //safebooru.org/images/1/4054c004887474c5bd809...           567   \n",
       "2  //safebooru.org/samples/1/sample_2d52076d1ec3f...           850   \n",
       "3  //safebooru.org/samples/1/sample_56ea37fa0d914...           850   \n",
       "4  //safebooru.org/images/1/e0826090e906fb6abe5b0...          1680   \n",
       "\n",
       "   sample_height                                        preview_url tags  \n",
       "0           1200  //safebooru.org/thumbnails/1/thumbnail_0f06585...  boy  \n",
       "1            800  //safebooru.org/thumbnails/1/thumbnail_4054c00...  boy  \n",
       "2            513  //safebooru.org/thumbnails/1/thumbnail_2d52076...  boy  \n",
       "3            531  //safebooru.org/thumbnails/1/thumbnail_56ea37f...  boy  \n",
       "4           1050  //safebooru.org/thumbnails/1/thumbnail_e082609...  boy  "
      ]
     },
     "execution_count": 2,
     "metadata": {},
     "output_type": "execute_result"
    }
   ],
   "source": [
    "girl = pd.read_csv('data/girl_art.csv')\n",
    "girl.head(5)\n",
    "boy = pd.read_csv('data/boy_art.csv')\n",
    "boy.head(5)"
   ]
  },
  {
   "cell_type": "code",
   "execution_count": 4,
   "metadata": {},
   "outputs": [
    {
     "name": "stdout",
     "output_type": "stream",
     "text": [
      "<class 'numpy.ndarray'>\n",
      "<class 'numpy.ndarray'>\n"
     ]
    }
   ],
   "source": [
    "girl_data = girl.to_numpy()\n",
    "print(type(girl_data))\n",
    "boy_data = boy.to_numpy()\n",
    "print(type(boy_data))"
   ]
  },
  {
   "cell_type": "code",
   "execution_count": 5,
   "metadata": {},
   "outputs": [
    {
     "name": "stdout",
     "output_type": "stream",
     "text": [
      "32000\n",
      "32000\n"
     ]
    }
   ],
   "source": [
    "#get new list of 32000 data\n",
    "idx = np.random.choice(girl_data.shape[0], 32000, replace=False)\n",
    "girl_sample = np.array(girl_data[idx,:])\n",
    "print(len(girl_sample))\n",
    "idx = np.random.choice(boy_data.shape[0], 32000, replace=False)\n",
    "boy_sample = np.array(boy_data[idx,:])\n",
    "print(len(boy_sample))"
   ]
  },
  {
   "cell_type": "code",
   "execution_count": 6,
   "metadata": {},
   "outputs": [],
   "source": [
    "def make_dir(path):\n",
    "    try:\n",
    "        os.mkdir(path)\n",
    "    except:\n",
    "        print('Directory ', path, ' already exist')"
   ]
  },
  {
   "cell_type": "code",
   "execution_count": 7,
   "metadata": {},
   "outputs": [
    {
     "name": "stdout",
     "output_type": "stream",
     "text": [
      "Directory  image\\train  already exist\n",
      "Directory  image\\val  already exist\n"
     ]
    }
   ],
   "source": [
    "IMAGE_DIR = 'image'\n",
    "TRAINING_DIR = os.path.join(IMAGE_DIR, 'train')\n",
    "VALIDATION_DIR = os.path.join(IMAGE_DIR, 'val')\n",
    "make_dir(TRAINING_DIR)\n",
    "make_dir(VALIDATION_DIR)"
   ]
  },
  {
   "cell_type": "code",
   "execution_count": 8,
   "metadata": {},
   "outputs": [
    {
     "name": "stdout",
     "output_type": "stream",
     "text": [
      "Directory  image\\train\\boy  already exist\n",
      "Directory  image\\train\\girl  already exist\n",
      "Directory  image\\val\\boy  already exist\n",
      "Directory  image\\val\\girl  already exist\n"
     ]
    }
   ],
   "source": [
    "BOY_TRAIN = os.path.join(TRAINING_DIR, 'boy')\n",
    "GIRL_TRAIN = os.path.join(TRAINING_DIR, 'girl')\n",
    "BOY_VAL = os.path.join(VALIDATION_DIR, 'boy')\n",
    "GIRL_VAL = os.path.join(VALIDATION_DIR, 'girl')\n",
    "make_dir(BOY_TRAIN)\n",
    "make_dir(GIRL_TRAIN)\n",
    "make_dir(BOY_VAL)\n",
    "make_dir(GIRL_VAL)"
   ]
  },
  {
   "cell_type": "code",
   "execution_count": 9,
   "metadata": {},
   "outputs": [],
   "source": [
    "BOY_SAMPLE = 'sample/boy'\n",
    "GIRL_SAMPLE = 'sample/girl'\n",
    "boy_url_sample = np.array(boy_sample[:,-2])\n",
    "girl_url_sample = np.array(girl_sample[:,-2])"
   ]
  },
  {
   "cell_type": "code",
   "execution_count": 10,
   "metadata": {},
   "outputs": [
    {
     "name": "stderr",
     "output_type": "stream",
     "text": [
      "100%|████████████████████████████████████████████████████████████████████████| 32000/32000 [00:00<00:00, 516289.55it/s]\n",
      "100%|████████████████████████████████████████████████████████████████████████| 32000/32000 [00:00<00:00, 532751.68it/s]"
     ]
    },
    {
     "name": "stdout",
     "output_type": "stream",
     "text": [
      "['https://safebooru.org/thumbnails/1668/thumbnail_93cf2b2735f290bc105f870213e4407751e51fe6.png'\n",
      " 'https://safebooru.org/thumbnails/1827/thumbnail_f9221ef14b6cf1d9e6363476e63f1b5bb738fc5d.jpeg'\n",
      " 'https://safebooru.org/thumbnails/2242/thumbnail_ecb05b09514e7c5a0b70173443abbbcf8d5de293.jpg'\n",
      " ...\n",
      " 'https://safebooru.org/thumbnails/2908/thumbnail_988ce4563f62fb8835963be5de5e059847729b1e.png'\n",
      " 'https://safebooru.org/thumbnails/1898/thumbnail_cc6d155788bbd331c46ee41c5e0fa8c8ebab1526.gif'\n",
      " 'https://safebooru.org/thumbnails/2829/thumbnail_4d9e3ed7912fbf2848b3bdd94153d55d47ba51b6.jpg']\n",
      "['https://safebooru.org/thumbnails/2975/thumbnail_01ddff18768ea541a30493ac4497cbe59fa4a8d5.jpg'\n",
      " 'https://safebooru.org/thumbnails/2229/thumbnail_82c612179f1b9e59f96bdb49d40865d6206a60b7.jpg'\n",
      " 'https://safebooru.org/thumbnails/2127/thumbnail_ac0fc4093c8c4a9fbfdb32a495b7c118bb7d641b.jpg'\n",
      " ...\n",
      " 'https://safebooru.org/thumbnails/1547/thumbnail_5fdcb1c1ce5f4bb03e977a15f9d6fe0b72972042.jpg'\n",
      " 'https://safebooru.org/thumbnails/1685/thumbnail_d4551cba4b1091af055542abe31f5556a0b84401.jpg'\n",
      " 'https://safebooru.org/thumbnails/2114/thumbnail_41a061b577973e62318f43b74834f0193db44af1.jpg']\n"
     ]
    },
    {
     "name": "stderr",
     "output_type": "stream",
     "text": [
      "\n"
     ]
    }
   ],
   "source": [
    "pathinit = 'https:'\n",
    "for idx in tqdm(range(len(boy_url_sample))):\n",
    "    if pathinit not in boy_url_sample[idx]:\n",
    "        boy_url_sample[idx] = pathinit + boy_url_sample[idx]\n",
    "print(boy_url_sample)\n",
    "for idx in tqdm(range(len(girl_url_sample))):\n",
    "    if pathinit not in girl_url_sample[idx]:\n",
    "        girl_url_sample[idx] = pathinit + girl_url_sample[idx]\n",
    "print(girl_url_sample)"
   ]
  },
  {
   "cell_type": "code",
   "execution_count": 11,
   "metadata": {},
   "outputs": [],
   "source": [
    "def download_image(key, url):\n",
    "    out_dir = 'sample'\n",
    "    filename = os.path.join(out_dir, '{}.jpg'.format(key))\n",
    "\n",
    "    if os.path.exists(filename):\n",
    "        print('Image {} already exists. Skipping download.'.format(filename))\n",
    "        return\n",
    "\n",
    "    try:\n",
    "        response = request.urlopen(url)\n",
    "        image_data = response.read()\n",
    "    except:\n",
    "        print('Warning: Could not download image {} from {}'.format(key, url))\n",
    "        return\n",
    "\n",
    "    try:\n",
    "        pil_image = Image.open(BytesIO(image_data))\n",
    "    except:\n",
    "        print('Warning: Failed to parse image {}'.format(key))\n",
    "        return\n",
    "\n",
    "    try:\n",
    "        pil_image_rgb = pil_image.convert('RGB')\n",
    "    except:\n",
    "        print('Warning: Failed to convert image {} to RGB'.format(key))\n",
    "        return\n",
    "\n",
    "    try:\n",
    "        pil_image_rgb.save(filename, format='JPEG', quality=90)\n",
    "    except:\n",
    "        print('Warning: Failed to save image {}'.format(filename))\n",
    "        return"
   ]
  },
  {
   "cell_type": "code",
   "execution_count": null,
   "metadata": {},
   "outputs": [
    {
     "name": "stderr",
     "output_type": "stream",
     "text": [
      "  0%|                                                                             | 1/32000 [00:06<57:55:26,  6.52s/it]"
     ]
    },
    {
     "name": "stdout",
     "output_type": "stream",
     "text": [
      "Warning: Could not download image 0 from https://safebooru.org/thumbnails/1668/thumbnail_93cf2b2735f290bc105f870213e4407751e51fe6.png\n"
     ]
    },
    {
     "name": "stderr",
     "output_type": "stream",
     "text": [
      "\r",
      "  0%|                                                                             | 2/32000 [00:07<44:28:12,  5.00s/it]"
     ]
    },
    {
     "name": "stdout",
     "output_type": "stream",
     "text": [
      "Warning: Could not download image 1 from https://safebooru.org/thumbnails/1827/thumbnail_f9221ef14b6cf1d9e6363476e63f1b5bb738fc5d.jpeg\n"
     ]
    },
    {
     "name": "stderr",
     "output_type": "stream",
     "text": [
      "  0%|                                                                             | 4/32000 [00:11<29:04:48,  3.27s/it]"
     ]
    },
    {
     "name": "stdout",
     "output_type": "stream",
     "text": [
      "Warning: Could not download image 3 from https://safebooru.org/thumbnails/2813/thumbnail_a5b020b137bad5ab2102606dc635c1822b6f9496.png\n"
     ]
    },
    {
     "name": "stderr",
     "output_type": "stream",
     "text": [
      "  0%|                                                                             | 6/32000 [00:15<23:43:37,  2.67s/it]"
     ]
    },
    {
     "name": "stdout",
     "output_type": "stream",
     "text": [
      "Warning: Could not download image 5 from https://safebooru.org/thumbnails/1397/thumbnail_282a31f80b134c0e057731e9c32ee73b795adbd5.png\n"
     ]
    },
    {
     "name": "stderr",
     "output_type": "stream",
     "text": [
      "\r",
      "  0%|                                                                             | 7/32000 [00:16<19:26:31,  2.19s/it]"
     ]
    },
    {
     "name": "stdout",
     "output_type": "stream",
     "text": [
      "Warning: Could not download image 6 from https://safebooru.org/thumbnails/748/thumbnail_97b4785ec6f14ce3d3095dcdbba15c26714f68af.png\n"
     ]
    },
    {
     "name": "stderr",
     "output_type": "stream",
     "text": [
      "  0%|                                                                            | 16/32000 [00:36<27:29:03,  3.09s/it]"
     ]
    },
    {
     "name": "stdout",
     "output_type": "stream",
     "text": [
      "Warning: Could not download image 15 from https://safebooru.org/thumbnails/1024/thumbnail_8560fa85b6f6317cba595f630f6f3269f92be32f.png\n"
     ]
    },
    {
     "name": "stderr",
     "output_type": "stream",
     "text": [
      "  0%|                                                                            | 20/32000 [00:42<18:45:57,  2.11s/it]"
     ]
    },
    {
     "name": "stdout",
     "output_type": "stream",
     "text": [
      "Warning: Failed to save image sample\\19.jpg\n"
     ]
    },
    {
     "name": "stderr",
     "output_type": "stream",
     "text": [
      "\r",
      "  0%|                                                                            | 21/32000 [00:44<17:03:52,  1.92s/it]"
     ]
    },
    {
     "name": "stdout",
     "output_type": "stream",
     "text": [
      "Warning: Failed to save image sample\\20.jpg\n"
     ]
    },
    {
     "name": "stderr",
     "output_type": "stream",
     "text": [
      "\r",
      "  0%|                                                                            | 22/32000 [00:45<15:49:17,  1.78s/it]"
     ]
    },
    {
     "name": "stdout",
     "output_type": "stream",
     "text": [
      "Warning: Failed to save image sample\\21.jpg\n"
     ]
    },
    {
     "name": "stderr",
     "output_type": "stream",
     "text": [
      "\r",
      "  0%|                                                                            | 23/32000 [00:47<14:56:07,  1.68s/it]"
     ]
    },
    {
     "name": "stdout",
     "output_type": "stream",
     "text": [
      "Warning: Could not download image 22 from https://safebooru.org/thumbnails/1043/thumbnail_55755ecce989b17d8a6fbc2e0ffc566d39e41a0f.png\n"
     ]
    },
    {
     "name": "stderr",
     "output_type": "stream",
     "text": [
      "\r",
      "  0%|                                                                            | 24/32000 [00:49<15:31:34,  1.75s/it]"
     ]
    },
    {
     "name": "stdout",
     "output_type": "stream",
     "text": [
      "Warning: Could not download image 23 from https://safebooru.org/thumbnails/62/thumbnail_f46ade10922b545bb0877c767bbcc1cbd3540a07.jpg\n"
     ]
    },
    {
     "name": "stderr",
     "output_type": "stream",
     "text": [
      "\r",
      "  0%|                                                                            | 25/32000 [00:50<14:46:04,  1.66s/it]"
     ]
    },
    {
     "name": "stdout",
     "output_type": "stream",
     "text": [
      "Warning: Could not download image 24 from https://safebooru.org/thumbnails/806/thumbnail_c0d0057e6d0de1fe259780822bb6af42c6445156.png\n"
     ]
    },
    {
     "name": "stderr",
     "output_type": "stream",
     "text": [
      "\r",
      "  0%|                                                                            | 26/32000 [00:51<13:09:09,  1.48s/it]"
     ]
    },
    {
     "name": "stdout",
     "output_type": "stream",
     "text": [
      "Warning: Failed to save image sample\\25.jpg\n"
     ]
    },
    {
     "name": "stderr",
     "output_type": "stream",
     "text": [
      "\r",
      "  0%|                                                                            | 27/32000 [00:53<13:41:17,  1.54s/it]"
     ]
    },
    {
     "name": "stdout",
     "output_type": "stream",
     "text": [
      "Warning: Could not download image 26 from https://safebooru.org/thumbnails/1901/thumbnail_838c06938680d39d52c5c6d8848a534ef4b4b678.gif\n"
     ]
    },
    {
     "name": "stderr",
     "output_type": "stream",
     "text": [
      "\r",
      "  0%|                                                                            | 28/32000 [00:54<12:23:47,  1.40s/it]"
     ]
    },
    {
     "name": "stdout",
     "output_type": "stream",
     "text": [
      "Warning: Failed to save image sample\\27.jpg\n"
     ]
    },
    {
     "name": "stderr",
     "output_type": "stream",
     "text": [
      "\r",
      "  0%|                                                                            | 29/32000 [00:56<13:06:26,  1.48s/it]"
     ]
    },
    {
     "name": "stdout",
     "output_type": "stream",
     "text": [
      "Warning: Failed to save image sample\\28.jpg\n"
     ]
    },
    {
     "name": "stderr",
     "output_type": "stream",
     "text": [
      "  0%|                                                                            | 34/32000 [01:02<12:29:27,  1.41s/it]"
     ]
    },
    {
     "name": "stdout",
     "output_type": "stream",
     "text": [
      "Warning: Could not download image 33 from https://safebooru.org/thumbnails/887/thumbnail_c621827cfd47e80b98e9a82b406867c07059ed2b.gif\n"
     ]
    },
    {
     "name": "stderr",
     "output_type": "stream",
     "text": [
      "  0%|                                                                            | 36/32000 [01:06<13:46:13,  1.55s/it]"
     ]
    }
   ],
   "source": [
    "for idx in tqdm(range(len(boy_url_sample))):\n",
    "    url = boy_url_sample[idx]\n",
    "    download_image(idx, url)\n",
    "for idx in tqdm(range(len(girl_url_sample))):\n",
    "    url = girl_url_sample[idx]\n",
    "    download_image(idx, url)"
   ]
  },
  {
   "cell_type": "code",
   "execution_count": 62,
   "metadata": {},
   "outputs": [
    {
     "ename": "IndexError",
     "evalue": "arrays used as indices must be of integer (or boolean) type",
     "output_type": "error",
     "traceback": [
      "\u001b[1;31m---------------------------------------------------------------------------\u001b[0m",
      "\u001b[1;31mIndexError\u001b[0m                                Traceback (most recent call last)",
      "\u001b[1;32m<ipython-input-62-859037ed2a0b>\u001b[0m in \u001b[0;36m<module>\u001b[1;34m\u001b[0m\n\u001b[0;32m      2\u001b[0m \u001b[0marrint\u001b[0m \u001b[1;33m=\u001b[0m \u001b[0mnp\u001b[0m\u001b[1;33m.\u001b[0m\u001b[0marange\u001b[0m\u001b[1;33m(\u001b[0m\u001b[1;36m32000\u001b[0m\u001b[1;33m)\u001b[0m\u001b[1;33m\u001b[0m\u001b[1;33m\u001b[0m\u001b[0m\n\u001b[0;32m      3\u001b[0m \u001b[0mboy_train_idx\u001b[0m \u001b[1;33m=\u001b[0m \u001b[0mnp\u001b[0m\u001b[1;33m.\u001b[0m\u001b[0mrandom\u001b[0m\u001b[1;33m.\u001b[0m\u001b[0mchoice\u001b[0m\u001b[1;33m(\u001b[0m\u001b[0mboy_url_sample\u001b[0m\u001b[1;33m,\u001b[0m \u001b[0mlen\u001b[0m\u001b[1;33m(\u001b[0m\u001b[0mboy_url_sample\u001b[0m\u001b[1;33m)\u001b[0m\u001b[1;33m*\u001b[0m\u001b[0mtraining_size\u001b[0m\u001b[1;33m//\u001b[0m\u001b[1;36m100\u001b[0m\u001b[1;33m,\u001b[0m \u001b[0mreplace\u001b[0m\u001b[1;33m=\u001b[0m\u001b[1;32mFalse\u001b[0m\u001b[1;33m)\u001b[0m\u001b[1;33m\u001b[0m\u001b[1;33m\u001b[0m\u001b[0m\n\u001b[1;32m----> 4\u001b[1;33m \u001b[0mboy_train_data\u001b[0m \u001b[1;33m=\u001b[0m \u001b[0mnp\u001b[0m\u001b[1;33m.\u001b[0m\u001b[0marray\u001b[0m\u001b[1;33m(\u001b[0m\u001b[0mboy_url_sample\u001b[0m\u001b[1;33m[\u001b[0m\u001b[0mboy_train_idx\u001b[0m\u001b[1;33m,\u001b[0m\u001b[1;33m:\u001b[0m\u001b[1;33m]\u001b[0m\u001b[1;33m)\u001b[0m\u001b[1;33m\u001b[0m\u001b[1;33m\u001b[0m\u001b[0m\n\u001b[0m\u001b[0;32m      5\u001b[0m \u001b[0mgirl_train_idx\u001b[0m \u001b[1;33m=\u001b[0m \u001b[0mnp\u001b[0m\u001b[1;33m.\u001b[0m\u001b[0mrandom\u001b[0m\u001b[1;33m.\u001b[0m\u001b[0mchoice\u001b[0m\u001b[1;33m(\u001b[0m\u001b[0mgirl_url_sample\u001b[0m\u001b[1;33m,\u001b[0m \u001b[0mlen\u001b[0m\u001b[1;33m(\u001b[0m\u001b[0mgirl_url_sample\u001b[0m\u001b[1;33m)\u001b[0m\u001b[1;33m*\u001b[0m\u001b[0mtraining_size\u001b[0m\u001b[1;33m//\u001b[0m\u001b[1;36m100\u001b[0m\u001b[1;33m,\u001b[0m \u001b[0mreplace\u001b[0m\u001b[1;33m=\u001b[0m\u001b[1;32mFalse\u001b[0m\u001b[1;33m)\u001b[0m\u001b[1;33m\u001b[0m\u001b[1;33m\u001b[0m\u001b[0m\n\u001b[0;32m      6\u001b[0m \u001b[0mgirl_train_data\u001b[0m \u001b[1;33m=\u001b[0m \u001b[0mnp\u001b[0m\u001b[1;33m.\u001b[0m\u001b[0marray\u001b[0m\u001b[1;33m(\u001b[0m\u001b[0mgirl_url_sample\u001b[0m\u001b[1;33m[\u001b[0m\u001b[0mgirl_train_idx\u001b[0m\u001b[1;33m,\u001b[0m\u001b[1;33m:\u001b[0m\u001b[1;33m]\u001b[0m\u001b[1;33m)\u001b[0m\u001b[1;33m\u001b[0m\u001b[1;33m\u001b[0m\u001b[0m\n",
      "\u001b[1;31mIndexError\u001b[0m: arrays used as indices must be of integer (or boolean) type"
     ]
    }
   ],
   "source": [
    "training_size = 90 #in percent\n",
    "arrint = np.arange(32000)\n",
    "boy_train_idx = np.random.choice(boy_url_sample, len(boy_url_sample)*training_size//100, replace=False)\n",
    "boy_train_data = np.array(boy_url_sample[boy_train_idx,:])\n",
    "girl_train_idx = np.random.choice(girl_url_sample, len(girl_url_sample)*training_size//100, replace=False)\n",
    "girl_train_data = np.array(girl_url_sample[girl_train_idx,:])\n",
    "boy_val_idx = np.array([item for item in tqdm(arrint) if item not in boy_train_idx])\n",
    "boy_val_data = np.array(boy_url_sample[boy_val_idx,:])\n",
    "girl_val_idx = np.array([item for item in tqdm(arrint) if item not in girl_train_idx])\n",
    "girl_val_data = np.array(girl_url_sample[girl_val_idx,:])\n",
    "print(\"train boys: \", len(boy_train_data))\n",
    "print(\"train girls: \", len(girl_train_data))\n",
    "print(\"validation boys: \", len(boy_val_data))\n",
    "print(\"validation girls: \", len(girl_val_data))"
   ]
  },
  {
   "cell_type": "code",
   "execution_count": null,
   "metadata": {},
   "outputs": [],
   "source": []
  }
 ],
 "metadata": {
  "kernelspec": {
   "display_name": "Python 3",
   "language": "python",
   "name": "python3"
  },
  "language_info": {
   "codemirror_mode": {
    "name": "ipython",
    "version": 3
   },
   "file_extension": ".py",
   "mimetype": "text/x-python",
   "name": "python",
   "nbconvert_exporter": "python",
   "pygments_lexer": "ipython3",
   "version": "3.7.7"
  }
 },
 "nbformat": 4,
 "nbformat_minor": 4
}
