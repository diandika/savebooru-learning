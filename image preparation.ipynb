{
 "cells": [
  {
   "cell_type": "code",
   "execution_count": 1,
   "metadata": {},
   "outputs": [],
   "source": [
    "import pandas as pd\n",
    "import numpy as np\n",
    "import os\n",
    "import csv\n",
    "import requests\n",
    "from urllib import request, error\n",
    "from PIL import Image\n",
    "from io import BytesIO\n",
    "from datetime import datetime\n",
    "from tqdm import tqdm"
   ]
  },
  {
   "cell_type": "code",
   "execution_count": 2,
   "metadata": {},
   "outputs": [
    {
     "data": {
      "text/html": [
       "<div>\n",
       "<style scoped>\n",
       "    .dataframe tbody tr th:only-of-type {\n",
       "        vertical-align: middle;\n",
       "    }\n",
       "\n",
       "    .dataframe tbody tr th {\n",
       "        vertical-align: top;\n",
       "    }\n",
       "\n",
       "    .dataframe thead th {\n",
       "        text-align: right;\n",
       "    }\n",
       "</style>\n",
       "<table border=\"1\" class=\"dataframe\">\n",
       "  <thead>\n",
       "    <tr style=\"text-align: right;\">\n",
       "      <th></th>\n",
       "      <th>id</th>\n",
       "      <th>created_at</th>\n",
       "      <th>rating</th>\n",
       "      <th>score</th>\n",
       "      <th>sample_url</th>\n",
       "      <th>sample_width</th>\n",
       "      <th>sample_height</th>\n",
       "      <th>preview_url</th>\n",
       "      <th>tags</th>\n",
       "    </tr>\n",
       "  </thead>\n",
       "  <tbody>\n",
       "    <tr>\n",
       "      <td>0</td>\n",
       "      <td>111</td>\n",
       "      <td>1264803408</td>\n",
       "      <td>s</td>\n",
       "      <td>6</td>\n",
       "      <td>//safebooru.org/images/1/0f06585c990985a740b89...</td>\n",
       "      <td>480</td>\n",
       "      <td>1200</td>\n",
       "      <td>//safebooru.org/thumbnails/1/thumbnail_0f06585...</td>\n",
       "      <td>boy</td>\n",
       "    </tr>\n",
       "    <tr>\n",
       "      <td>1</td>\n",
       "      <td>132</td>\n",
       "      <td>1264803422</td>\n",
       "      <td>s</td>\n",
       "      <td>5</td>\n",
       "      <td>//safebooru.org/images/1/4054c004887474c5bd809...</td>\n",
       "      <td>567</td>\n",
       "      <td>800</td>\n",
       "      <td>//safebooru.org/thumbnails/1/thumbnail_4054c00...</td>\n",
       "      <td>boy</td>\n",
       "    </tr>\n",
       "    <tr>\n",
       "      <td>2</td>\n",
       "      <td>283</td>\n",
       "      <td>1264803550</td>\n",
       "      <td>s</td>\n",
       "      <td>0</td>\n",
       "      <td>//safebooru.org/samples/1/sample_2d52076d1ec3f...</td>\n",
       "      <td>850</td>\n",
       "      <td>513</td>\n",
       "      <td>//safebooru.org/thumbnails/1/thumbnail_2d52076...</td>\n",
       "      <td>boy</td>\n",
       "    </tr>\n",
       "    <tr>\n",
       "      <td>3</td>\n",
       "      <td>310</td>\n",
       "      <td>1264803570</td>\n",
       "      <td>s</td>\n",
       "      <td>0</td>\n",
       "      <td>//safebooru.org/samples/1/sample_56ea37fa0d914...</td>\n",
       "      <td>850</td>\n",
       "      <td>531</td>\n",
       "      <td>//safebooru.org/thumbnails/1/thumbnail_56ea37f...</td>\n",
       "      <td>boy</td>\n",
       "    </tr>\n",
       "    <tr>\n",
       "      <td>4</td>\n",
       "      <td>377</td>\n",
       "      <td>1264803623</td>\n",
       "      <td>s</td>\n",
       "      <td>2</td>\n",
       "      <td>//safebooru.org/images/1/e0826090e906fb6abe5b0...</td>\n",
       "      <td>1680</td>\n",
       "      <td>1050</td>\n",
       "      <td>//safebooru.org/thumbnails/1/thumbnail_e082609...</td>\n",
       "      <td>boy</td>\n",
       "    </tr>\n",
       "  </tbody>\n",
       "</table>\n",
       "</div>"
      ],
      "text/plain": [
       "    id  created_at rating  score  \\\n",
       "0  111  1264803408      s      6   \n",
       "1  132  1264803422      s      5   \n",
       "2  283  1264803550      s      0   \n",
       "3  310  1264803570      s      0   \n",
       "4  377  1264803623      s      2   \n",
       "\n",
       "                                          sample_url  sample_width  \\\n",
       "0  //safebooru.org/images/1/0f06585c990985a740b89...           480   \n",
       "1  //safebooru.org/images/1/4054c004887474c5bd809...           567   \n",
       "2  //safebooru.org/samples/1/sample_2d52076d1ec3f...           850   \n",
       "3  //safebooru.org/samples/1/sample_56ea37fa0d914...           850   \n",
       "4  //safebooru.org/images/1/e0826090e906fb6abe5b0...          1680   \n",
       "\n",
       "   sample_height                                        preview_url tags  \n",
       "0           1200  //safebooru.org/thumbnails/1/thumbnail_0f06585...  boy  \n",
       "1            800  //safebooru.org/thumbnails/1/thumbnail_4054c00...  boy  \n",
       "2            513  //safebooru.org/thumbnails/1/thumbnail_2d52076...  boy  \n",
       "3            531  //safebooru.org/thumbnails/1/thumbnail_56ea37f...  boy  \n",
       "4           1050  //safebooru.org/thumbnails/1/thumbnail_e082609...  boy  "
      ]
     },
     "execution_count": 2,
     "metadata": {},
     "output_type": "execute_result"
    }
   ],
   "source": [
    "girl = pd.read_csv('data/girl_art.csv')\n",
    "girl.head(5)\n",
    "boy = pd.read_csv('data/boy_art.csv')\n",
    "boy.head(5)"
   ]
  },
  {
   "cell_type": "code",
   "execution_count": 3,
   "metadata": {},
   "outputs": [
    {
     "name": "stdout",
     "output_type": "stream",
     "text": [
      "<class 'numpy.ndarray'>\n",
      "<class 'numpy.ndarray'>\n"
     ]
    }
   ],
   "source": [
    "girl_data = girl.to_numpy()\n",
    "print(type(girl_data))\n",
    "boy_data = boy.to_numpy()\n",
    "print(type(boy_data))"
   ]
  },
  {
   "cell_type": "code",
   "execution_count": 4,
   "metadata": {},
   "outputs": [],
   "source": [
    "def make_dir(path):\n",
    "    try:\n",
    "        os.mkdir(path)\n",
    "    except:\n",
    "        print('Directory ', path, ' already exist')"
   ]
  },
  {
   "cell_type": "code",
   "execution_count": 5,
   "metadata": {},
   "outputs": [
    {
     "name": "stdout",
     "output_type": "stream",
     "text": [
      "Directory  image\\train  already exist\n",
      "Directory  image\\val  already exist\n"
     ]
    }
   ],
   "source": [
    "IMAGE_DIR = 'image'\n",
    "TRAINING_DIR = os.path.join(IMAGE_DIR, 'train')\n",
    "VALIDATION_DIR = os.path.join(IMAGE_DIR, 'val')\n",
    "make_dir(TRAINING_DIR)\n",
    "make_dir(VALIDATION_DIR)"
   ]
  },
  {
   "cell_type": "code",
   "execution_count": 6,
   "metadata": {},
   "outputs": [
    {
     "name": "stdout",
     "output_type": "stream",
     "text": [
      "Directory  image\\train\\boy  already exist\n",
      "Directory  image\\train\\girl  already exist\n",
      "Directory  image\\val\\boy  already exist\n",
      "Directory  image\\val\\girl  already exist\n"
     ]
    }
   ],
   "source": [
    "BOY_TRAIN = os.path.join(TRAINING_DIR, 'boy')\n",
    "GIRL_TRAIN = os.path.join(TRAINING_DIR, 'girl')\n",
    "BOY_VAL = os.path.join(VALIDATION_DIR, 'boy')\n",
    "GIRL_VAL = os.path.join(VALIDATION_DIR, 'girl')\n",
    "make_dir(BOY_TRAIN)\n",
    "make_dir(GIRL_TRAIN)\n",
    "make_dir(BOY_VAL)\n",
    "make_dir(GIRL_VAL)"
   ]
  },
  {
   "cell_type": "code",
   "execution_count": 7,
   "metadata": {},
   "outputs": [],
   "source": [
    "BOY_SAMPLE = 'sample/boy'\n",
    "GIRL_SAMPLE = 'sample/girl'\n",
    "boy_url_sample = np.array(boy_data[:,-2])\n",
    "girl_url_sample = np.array(girl_data[:,-2])"
   ]
  },
  {
   "cell_type": "code",
   "execution_count": 8,
   "metadata": {},
   "outputs": [],
   "source": [
    "def download_image(key, url):\n",
    "    out_dir = 'sample'\n",
    "    filename = os.path.join(out_dir, '{}.jpg'.format(key))\n",
    "\n",
    "    if os.path.exists(filename):\n",
    "        print('Image {} already exists. Skipping download.'.format(filename))\n",
    "        return 0\n",
    "\n",
    "    try:\n",
    "        response = request.urlopen(url)\n",
    "        image_data = response.read()\n",
    "    except:\n",
    "        print('Warning: Could not download image {} from {}'.format(key, url))\n",
    "        return 0\n",
    "\n",
    "    try:\n",
    "        pil_image = Image.open(BytesIO(image_data))\n",
    "    except:\n",
    "        print('Warning: Failed to parse image {}'.format(key))\n",
    "        return 0\n",
    "\n",
    "    try:\n",
    "        pil_image_rgb = pil_image.convert('RGB')\n",
    "    except:\n",
    "        print('Warning: Failed to convert image {} to RGB'.format(key))\n",
    "        return 0\n",
    "\n",
    "    try:\n",
    "        pil_image_rgb.save(filename, format='JPEG', quality=90)\n",
    "    except:\n",
    "        print('Warning: Failed to save image {}'.format(filename))\n",
    "        return 0\n",
    "    \n",
    "    return 1"
   ]
  },
  {
   "cell_type": "code",
   "execution_count": 11,
   "metadata": {},
   "outputs": [
    {
     "name": "stderr",
     "output_type": "stream",
     "text": [
      "  0%|                                                                         | 11/1055840 [00:12<316:34:06,  1.08s/it]"
     ]
    },
    {
     "name": "stdout",
     "output_type": "stream",
     "text": [
      "Warning: Could not download image girl\\10 from https://safebooru.org/thumbnails/1/thumbnail_81d3b944b17c15a98f7f6ff2fc39583375e307c9.png\n"
     ]
    },
    {
     "name": "stderr",
     "output_type": "stream",
     "text": [
      "\r",
      "  0%|                                                                         | 12/1055840 [00:13<315:14:20,  1.07s/it]"
     ]
    },
    {
     "name": "stdout",
     "output_type": "stream",
     "text": [
      "Warning: Could not download image girl\\11 from https://safebooru.org/thumbnails/1/thumbnail_1eab9dc27bdc289c5098bc50f70a1a97fece540c.png\n"
     ]
    },
    {
     "name": "stderr",
     "output_type": "stream",
     "text": [
      "  0%|                                                                         | 14/1055840 [00:15<312:58:11,  1.07s/it]"
     ]
    },
    {
     "name": "stdout",
     "output_type": "stream",
     "text": [
      "Warning: Could not download image girl\\13 from https://safebooru.org/thumbnails/1/thumbnail_b32287dec17bcb1240cdf8088803897a35d7075d.png\n"
     ]
    },
    {
     "name": "stderr",
     "output_type": "stream",
     "text": [
      "\r",
      "  0%|                                                                         | 15/1055840 [00:16<310:25:05,  1.06s/it]"
     ]
    },
    {
     "name": "stdout",
     "output_type": "stream",
     "text": [
      "Warning: Could not download image girl\\14 from https://safebooru.org/thumbnails/1/thumbnail_55de2d7278cacfd50db7fca4be229ec45c9452c5.png\n"
     ]
    },
    {
     "name": "stderr",
     "output_type": "stream",
     "text": [
      "  0%|                                                                         | 27/1055840 [00:28<310:20:34,  1.06s/it]"
     ]
    },
    {
     "name": "stdout",
     "output_type": "stream",
     "text": [
      "Warning: Could not download image girl\\26 from https://safebooru.org/thumbnails/1/thumbnail_aec7da9519470b05bb9625ee18c96cbd69ebb76b.png\n"
     ]
    },
    {
     "name": "stderr",
     "output_type": "stream",
     "text": [
      "  0%|                                                                         | 34/1055840 [00:36<313:29:17,  1.07s/it]"
     ]
    },
    {
     "name": "stdout",
     "output_type": "stream",
     "text": [
      "Warning: Could not download image girl\\33 from https://safebooru.org/thumbnails/1/thumbnail_437ab8f5fac971b72a5069665056af9aa3f97f85.png\n"
     ]
    },
    {
     "name": "stderr",
     "output_type": "stream",
     "text": [
      "  0%|                                                                         | 45/1055840 [00:48<314:40:53,  1.07s/it]"
     ]
    },
    {
     "name": "stdout",
     "output_type": "stream",
     "text": [
      "Warning: Could not download image girl\\44 from https://safebooru.org/thumbnails/2/thumbnail_82e2e99f12d43537c2d5a7f2ebcbdf9f6286ab11.png\n"
     ]
    },
    {
     "name": "stderr",
     "output_type": "stream",
     "text": [
      "  0%|                                                                         | 52/1055840 [00:56<308:37:59,  1.05s/it]"
     ]
    },
    {
     "name": "stdout",
     "output_type": "stream",
     "text": [
      "Warning: Could not download image girl\\51 from https://safebooru.org/thumbnails/2/thumbnail_4ea2deff71f2e836451828bcd6280b485592502b.png\n"
     ]
    },
    {
     "name": "stderr",
     "output_type": "stream",
     "text": [
      "  0%|                                                                         | 65/1055840 [01:09<306:00:27,  1.04s/it]"
     ]
    },
    {
     "name": "stdout",
     "output_type": "stream",
     "text": [
      "Warning: Could not download image girl\\64 from https://safebooru.org/thumbnails/2/thumbnail_1cc5fd2ad4fcbcf7309238382ac7e2d274c73b44.png\n"
     ]
    },
    {
     "name": "stderr",
     "output_type": "stream",
     "text": [
      "  0%|                                                                         | 68/1055840 [01:13<320:48:30,  1.09s/it]"
     ]
    },
    {
     "name": "stdout",
     "output_type": "stream",
     "text": [
      "Warning: Could not download image girl\\67 from https://safebooru.org/thumbnails/3/thumbnail_c18c6d155d6e38a8f1089753f9f6583afd7beac8.png\n"
     ]
    },
    {
     "name": "stderr",
     "output_type": "stream",
     "text": [
      "\r",
      "  0%|                                                                         | 69/1055840 [01:14<317:22:31,  1.08s/it]"
     ]
    },
    {
     "name": "stdout",
     "output_type": "stream",
     "text": [
      "Warning: Could not download image girl\\68 from https://safebooru.org/thumbnails/3/thumbnail_3aed9436e9e3067fc2d2769b32d1c60f1ea2ebf7.png\n"
     ]
    },
    {
     "name": "stderr",
     "output_type": "stream",
     "text": [
      "  0%|                                                                         | 75/1055840 [01:20<318:50:31,  1.09s/it]"
     ]
    },
    {
     "name": "stdout",
     "output_type": "stream",
     "text": [
      "Warning: Could not download image girl\\74 from https://safebooru.org/thumbnails/3/thumbnail_e2722f675e74888e463d684777ee695c9b6eb571.png\n"
     ]
    },
    {
     "name": "stderr",
     "output_type": "stream",
     "text": [
      "  0%|                                                                         | 79/1055840 [01:25<312:01:01,  1.06s/it]"
     ]
    },
    {
     "name": "stdout",
     "output_type": "stream",
     "text": [
      "Warning: Could not download image girl\\78 from https://safebooru.org/thumbnails/3/thumbnail_af02772989e7239830c4a17e7b43ad19344996cd.png\n"
     ]
    },
    {
     "name": "stderr",
     "output_type": "stream",
     "text": [
      "  0%|                                                                         | 86/1055840 [01:32<312:03:52,  1.06s/it]"
     ]
    },
    {
     "name": "stdout",
     "output_type": "stream",
     "text": [
      "Warning: Could not download image girl\\85 from https://safebooru.org/thumbnails/3/thumbnail_dd26e341482fc96f8d9f34c473284ec7bb891138.png\n"
     ]
    },
    {
     "name": "stderr",
     "output_type": "stream",
     "text": [
      "  0%|                                                                         | 90/1055840 [01:36<308:34:18,  1.05s/it]"
     ]
    },
    {
     "name": "stdout",
     "output_type": "stream",
     "text": [
      "Warning: Could not download image girl\\89 from https://safebooru.org/thumbnails/4/thumbnail_8b2ae427af1e762ddf70c26ef54cc6f30c7f39af.png\n"
     ]
    },
    {
     "name": "stderr",
     "output_type": "stream",
     "text": [
      "  0%|                                                                        | 145/1055840 [02:38<309:26:59,  1.06s/it]"
     ]
    },
    {
     "name": "stdout",
     "output_type": "stream",
     "text": [
      "Warning: Could not download image girl\\144 from https://safebooru.org/thumbnails/6/thumbnail_034b531dba35a37e9586a0169a0d8d1b039422e5.png\n"
     ]
    },
    {
     "name": "stderr",
     "output_type": "stream",
     "text": [
      "\r",
      "  0%|                                                                        | 146/1055840 [02:39<308:17:09,  1.05s/it]"
     ]
    },
    {
     "name": "stdout",
     "output_type": "stream",
     "text": [
      "Warning: Could not download image girl\\145 from https://safebooru.org/thumbnails/6/thumbnail_302edbc319783cc5564eef5aff2d710ecfd87dc5.png\n"
     ]
    },
    {
     "name": "stderr",
     "output_type": "stream",
     "text": [
      "  0%|                                                                        | 155/1055840 [02:48<310:17:28,  1.06s/it]"
     ]
    },
    {
     "name": "stdout",
     "output_type": "stream",
     "text": [
      "Warning: Could not download image girl\\154 from https://safebooru.org/thumbnails/6/thumbnail_32fead3e36f37413162922c3834e683cda59c4eb.png\n"
     ]
    },
    {
     "name": "stderr",
     "output_type": "stream",
     "text": [
      "  0%|                                                                        | 166/1055840 [03:00<313:29:31,  1.07s/it]"
     ]
    },
    {
     "name": "stdout",
     "output_type": "stream",
     "text": [
      "Warning: Could not download image girl\\165 from https://safebooru.org/thumbnails/7/thumbnail_c675c68ce6bfc7f7d3f2e988cae34625531d485c.png\n"
     ]
    },
    {
     "name": "stderr",
     "output_type": "stream",
     "text": [
      "  0%|                                                                        | 190/1055840 [03:26<330:29:37,  1.13s/it]"
     ]
    },
    {
     "name": "stdout",
     "output_type": "stream",
     "text": [
      "Warning: Could not download image girl\\189 from https://safebooru.org/thumbnails/7/thumbnail_98c835d9b1573ac7be1cb2d8dd789947de729644.gif\n"
     ]
    },
    {
     "name": "stderr",
     "output_type": "stream",
     "text": [
      "\r",
      "  0%|                                                                        | 191/1055840 [03:27<325:57:30,  1.11s/it]"
     ]
    },
    {
     "name": "stdout",
     "output_type": "stream",
     "text": [
      "Warning: Could not download image girl\\190 from https://safebooru.org/thumbnails/7/thumbnail_98009529eb05b0debd3cab35b6be533dc16aa92a.gif\n"
     ]
    },
    {
     "name": "stderr",
     "output_type": "stream",
     "text": [
      "  0%|                                                                        | 197/1055840 [03:33<312:41:43,  1.07s/it]"
     ]
    },
    {
     "name": "stdout",
     "output_type": "stream",
     "text": [
      "Warning: Could not download image girl\\196 from https://safebooru.org/thumbnails/7/thumbnail_1e9545243dfb7a79a08e6a962aac57f61f6cc40c.gif\n"
     ]
    },
    {
     "name": "stderr",
     "output_type": "stream",
     "text": [
      "\r",
      "  0%|                                                                        | 198/1055840 [03:34<311:16:57,  1.06s/it]"
     ]
    },
    {
     "name": "stdout",
     "output_type": "stream",
     "text": [
      "Warning: Could not download image girl\\197 from https://safebooru.org/thumbnails/7/thumbnail_1348f2afff34fd117bdd66c04b987135c185c56c.png\n"
     ]
    },
    {
     "name": "stderr",
     "output_type": "stream",
     "text": [
      "  0%|                                                                        | 263/1055840 [04:43<310:48:06,  1.06s/it]"
     ]
    },
    {
     "name": "stdout",
     "output_type": "stream",
     "text": [
      "Warning: Could not download image girl\\262 from https://safebooru.org/thumbnails/10/thumbnail_140e67dd9322bc52b42744f629a6773c0cb15fbd.png\n"
     ]
    },
    {
     "name": "stderr",
     "output_type": "stream",
     "text": [
      "  0%|                                                                        | 282/1055840 [05:04<320:15:59,  1.09s/it]"
     ]
    },
    {
     "name": "stdout",
     "output_type": "stream",
     "text": [
      "Warning: Could not download image girl\\281 from https://safebooru.org/thumbnails/11/thumbnail_5217d734872da0c8f0e24ca95324fc6a48ed5d2a.png\n"
     ]
    },
    {
     "name": "stderr",
     "output_type": "stream",
     "text": [
      "  0%|                                                                        | 284/1055840 [05:06<315:13:03,  1.08s/it]"
     ]
    },
    {
     "name": "stdout",
     "output_type": "stream",
     "text": [
      "Warning: Could not download image girl\\283 from https://safebooru.org/thumbnails/11/thumbnail_3914b5a97fd59422ae3facbaa9fc513fc5943c13.png\n"
     ]
    },
    {
     "name": "stderr",
     "output_type": "stream",
     "text": [
      "  0%|                                                                        | 288/1055840 [05:11<316:25:32,  1.08s/it]"
     ]
    },
    {
     "name": "stdout",
     "output_type": "stream",
     "text": [
      "Warning: Could not download image girl\\287 from https://safebooru.org/thumbnails/11/thumbnail_119bddc9505e209c1a9bc9adb1e4b7067054cecd.png\n"
     ]
    },
    {
     "name": "stderr",
     "output_type": "stream",
     "text": [
      "  0%|                                                                        | 293/1055840 [05:16<313:15:45,  1.07s/it]"
     ]
    },
    {
     "name": "stdout",
     "output_type": "stream",
     "text": [
      "Warning: Could not download image girl\\292 from https://safebooru.org/thumbnails/11/thumbnail_d7bfdb8e64a873fe72db437b4a7d8fd01cffb859.png\n"
     ]
    },
    {
     "name": "stderr",
     "output_type": "stream",
     "text": [
      "\r",
      "  0%|                                                                        | 294/1055840 [05:17<311:11:15,  1.06s/it]"
     ]
    },
    {
     "name": "stdout",
     "output_type": "stream",
     "text": [
      "Warning: Could not download image girl\\293 from https://safebooru.org/thumbnails/11/thumbnail_e489abad6281f5a3cbf67fa466b52eabae08a85f.png\n"
     ]
    },
    {
     "name": "stderr",
     "output_type": "stream",
     "text": [
      "  0%|                                                                        | 298/1055840 [05:21<311:54:43,  1.06s/it]"
     ]
    },
    {
     "name": "stdout",
     "output_type": "stream",
     "text": [
      "Warning: Could not download image girl\\297 from https://safebooru.org/thumbnails/11/thumbnail_201cdea249556d89db4f9ddd37417f31312bcea4.png\n"
     ]
    },
    {
     "name": "stderr",
     "output_type": "stream",
     "text": [
      "\r",
      "  0%|                                                                        | 299/1055840 [05:22<314:39:37,  1.07s/it]"
     ]
    },
    {
     "name": "stdout",
     "output_type": "stream",
     "text": [
      "Warning: Could not download image girl\\298 from https://safebooru.org/thumbnails/11/thumbnail_8ecec9a99ec99cf03a817a818a529e19095ff87f.png\n"
     ]
    },
    {
     "name": "stderr",
     "output_type": "stream",
     "text": [
      "  0%|                                                                        | 303/1055840 [05:26<311:20:02,  1.06s/it]"
     ]
    },
    {
     "name": "stdout",
     "output_type": "stream",
     "text": [
      "Warning: Could not download image girl\\302 from https://safebooru.org/thumbnails/11/thumbnail_028292a346e861c62f987cb7d10904b40fd16c1d.png\n"
     ]
    },
    {
     "name": "stderr",
     "output_type": "stream",
     "text": [
      "  0%|                                                                        | 319/1055840 [05:43<299:28:32,  1.02s/it]"
     ]
    },
    {
     "name": "stdout",
     "output_type": "stream",
     "text": [
      "Warning: Could not download image girl\\318 from https://safebooru.org/thumbnails/12/thumbnail_7b56b52e2c2e3843cb7d92c8896283566ed411cf.png\n"
     ]
    },
    {
     "name": "stderr",
     "output_type": "stream",
     "text": [
      "  0%|                                                                        | 332/1055840 [05:56<305:57:25,  1.04s/it]"
     ]
    },
    {
     "name": "stdout",
     "output_type": "stream",
     "text": [
      "Warning: Could not download image girl\\331 from https://safebooru.org/thumbnails/13/thumbnail_e65f9639b7865393d06a3a6bdb2e081c6cdd16cc.png\n"
     ]
    },
    {
     "name": "stderr",
     "output_type": "stream",
     "text": [
      "  0%|                                                                        | 338/1055840 [06:03<332:28:25,  1.13s/it]"
     ]
    },
    {
     "name": "stdout",
     "output_type": "stream",
     "text": [
      "Warning: Could not download image girl\\337 from https://safebooru.org/thumbnails/13/thumbnail_a6277cf5ae2ff3926e09d47f88a66ca94684cde6.png\n"
     ]
    },
    {
     "name": "stderr",
     "output_type": "stream",
     "text": [
      "  0%|                                                                        | 341/1055840 [06:06<318:41:15,  1.09s/it]"
     ]
    },
    {
     "name": "stdout",
     "output_type": "stream",
     "text": [
      "Warning: Could not download image girl\\340 from https://safebooru.org/thumbnails/13/thumbnail_a97b77cd0778c7e6effabf7ff2cf722be18ee336.gif\n"
     ]
    },
    {
     "name": "stderr",
     "output_type": "stream",
     "text": [
      "  0%|                                                                        | 347/1055840 [06:13<311:29:42,  1.06s/it]"
     ]
    },
    {
     "name": "stdout",
     "output_type": "stream",
     "text": [
      "Warning: Could not download image girl\\346 from https://safebooru.org/thumbnails/13/thumbnail_1107a008af901c34731a56e8fe84cd1ebcb77cb2.png\n"
     ]
    },
    {
     "name": "stderr",
     "output_type": "stream",
     "text": [
      "  0%|                                                                        | 369/1055840 [06:36<310:27:07,  1.06s/it]"
     ]
    },
    {
     "name": "stdout",
     "output_type": "stream",
     "text": [
      "Warning: Could not download image girl\\368 from https://safebooru.org/thumbnails/14/thumbnail_b12816c19528cc408a8ac6f6c0845fcb9de82977.png\n"
     ]
    },
    {
     "name": "stderr",
     "output_type": "stream",
     "text": [
      "  0%|                                                                        | 382/1055840 [06:50<312:39:02,  1.07s/it]"
     ]
    },
    {
     "name": "stdout",
     "output_type": "stream",
     "text": [
      "Warning: Could not download image girl\\381 from https://safebooru.org/thumbnails/15/thumbnail_5fe6761520f9bd65194246275d10ec7a31143b03.png\n"
     ]
    },
    {
     "name": "stderr",
     "output_type": "stream",
     "text": [
      "  0%|                                                                        | 385/1055840 [06:53<308:22:09,  1.05s/it]"
     ]
    },
    {
     "name": "stdout",
     "output_type": "stream",
     "text": [
      "Warning: Could not download image girl\\384 from https://safebooru.org/thumbnails/15/thumbnail_4f160220c23b45d6c75ae9abd7244eba01ba9923.png\n"
     ]
    },
    {
     "name": "stderr",
     "output_type": "stream",
     "text": [
      "  0%|                                                                        | 388/1055840 [06:56<309:01:54,  1.05s/it]"
     ]
    },
    {
     "name": "stdout",
     "output_type": "stream",
     "text": [
      "Warning: Could not download image girl\\387 from https://safebooru.org/thumbnails/15/thumbnail_01fa666bec54f3cd77323a7d56348d69f5a86a59.png\n"
     ]
    },
    {
     "name": "stderr",
     "output_type": "stream",
     "text": [
      "  0%|                                                                        | 403/1055840 [07:13<324:48:56,  1.11s/it]"
     ]
    },
    {
     "name": "stdout",
     "output_type": "stream",
     "text": [
      "Warning: Could not download image girl\\402 from https://safebooru.org/thumbnails/16/thumbnail_0ecd53b5263cfa9c36357d2c9b8f74eed07789fa.png\n"
     ]
    },
    {
     "name": "stderr",
     "output_type": "stream",
     "text": [
      "  0%|                                                                        | 421/1055840 [07:32<315:05:29,  1.07s/it]"
     ]
    },
    {
     "name": "stdout",
     "output_type": "stream",
     "text": [
      "Warning: Could not download image girl\\420 from https://safebooru.org/thumbnails/17/thumbnail_c8342bf0262ad94e2f7533d2580a36b27a5cc200.png\n"
     ]
    },
    {
     "name": "stderr",
     "output_type": "stream",
     "text": [
      "\r",
      "  0%|                                                                        | 422/1055840 [07:33<314:06:37,  1.07s/it]"
     ]
    },
    {
     "name": "stdout",
     "output_type": "stream",
     "text": [
      "Warning: Could not download image girl\\421 from https://safebooru.org/thumbnails/17/thumbnail_0f677c3ceb8a090cf30301800d3df1b689adda27.png\n"
     ]
    },
    {
     "name": "stderr",
     "output_type": "stream",
     "text": [
      "  0%|                                                                        | 447/1055840 [08:00<279:12:45,  1.05it/s]"
     ]
    },
    {
     "name": "stdout",
     "output_type": "stream",
     "text": [
      "Warning: Could not download image girl\\446 from https://safebooru.org/thumbnails/17/thumbnail_57d1cb94b2e6a26597d134c38cd8140ae0d695b1.png\n"
     ]
    },
    {
     "name": "stderr",
     "output_type": "stream",
     "text": [
      "  0%|                                                                        | 456/1055840 [08:09<281:56:22,  1.04it/s]"
     ]
    },
    {
     "name": "stdout",
     "output_type": "stream",
     "text": [
      "Warning: Could not download image girl\\455 from https://safebooru.org/thumbnails/18/thumbnail_b62000a576faa6136cbffef3c4baf64eb60b8e1e.png\n"
     ]
    },
    {
     "name": "stderr",
     "output_type": "stream",
     "text": [
      "  0%|                                                                        | 462/1055840 [08:15<303:21:10,  1.03s/it]"
     ]
    },
    {
     "name": "stdout",
     "output_type": "stream",
     "text": [
      "Warning: Could not download image girl\\461 from https://safebooru.org/thumbnails/19/thumbnail_4132ae345a57b555feb078caf3ffa0053778c681.png\n"
     ]
    },
    {
     "name": "stderr",
     "output_type": "stream",
     "text": [
      "  0%|                                                                        | 473/1055840 [08:27<311:19:04,  1.06s/it]"
     ]
    },
    {
     "name": "stdout",
     "output_type": "stream",
     "text": [
      "Warning: Could not download image girl\\472 from https://safebooru.org/thumbnails/20/thumbnail_3bc1a001e50cbc9ae9a3549f04a21e73268991dd.png\n"
     ]
    },
    {
     "name": "stderr",
     "output_type": "stream",
     "text": [
      "  0%|                                                                        | 475/1055840 [08:29<319:57:49,  1.09s/it]"
     ]
    },
    {
     "name": "stdout",
     "output_type": "stream",
     "text": [
      "Warning: Could not download image girl\\474 from https://safebooru.org/thumbnails/20/thumbnail_1a709b839a31923bc716426395689f2cbc73ff9c.png\n"
     ]
    },
    {
     "name": "stderr",
     "output_type": "stream",
     "text": [
      "\r",
      "  0%|                                                                        | 476/1055840 [08:30<323:59:20,  1.11s/it]"
     ]
    },
    {
     "name": "stdout",
     "output_type": "stream",
     "text": [
      "Warning: Could not download image girl\\475 from https://safebooru.org/thumbnails/20/thumbnail_88bd45201041ae94819d265d602a0bee6edccac4.png\n"
     ]
    },
    {
     "name": "stderr",
     "output_type": "stream",
     "text": [
      "\r",
      "  0%|                                                                        | 477/1055840 [08:31<324:15:17,  1.11s/it]"
     ]
    },
    {
     "name": "stdout",
     "output_type": "stream",
     "text": [
      "Warning: Could not download image girl\\476 from https://safebooru.org/thumbnails/20/thumbnail_2408a00b36a5624177467f7300ecf9c570f2df6a.png\n"
     ]
    },
    {
     "name": "stderr",
     "output_type": "stream",
     "text": [
      "  0%|                                                                        | 485/1055840 [08:40<318:46:49,  1.09s/it]"
     ]
    },
    {
     "name": "stdout",
     "output_type": "stream",
     "text": [
      "Warning: Could not download image girl\\484 from https://safebooru.org/thumbnails/21/thumbnail_6c08750be7b4ca0dda7cf1e600118d01e3a148ac.png\n"
     ]
    },
    {
     "name": "stderr",
     "output_type": "stream",
     "text": [
      "  0%|                                                                        | 487/1055840 [08:42<319:15:50,  1.09s/it]"
     ]
    },
    {
     "name": "stdout",
     "output_type": "stream",
     "text": [
      "Warning: Could not download image girl\\486 from https://safebooru.org/thumbnails/21/thumbnail_c488ec425d9dc5806a46fc1822c05f4e25a9b642.png\n"
     ]
    },
    {
     "name": "stderr",
     "output_type": "stream",
     "text": [
      "  0%|                                                                        | 492/1055840 [08:47<309:03:18,  1.05s/it]"
     ]
    },
    {
     "name": "stdout",
     "output_type": "stream",
     "text": [
      "Warning: Could not download image girl\\491 from https://safebooru.org/thumbnails/21/thumbnail_f1240109afcc87e98faa2d03aada4a68ec359a44.png\n"
     ]
    },
    {
     "name": "stderr",
     "output_type": "stream",
     "text": [
      "  0%|                                                                        | 505/1055840 [09:02<322:45:32,  1.10s/it]"
     ]
    },
    {
     "name": "stdout",
     "output_type": "stream",
     "text": [
      "Warning: Could not download image girl\\504 from https://safebooru.org/thumbnails/22/thumbnail_e57bd836cd408cf0170955ae59d555611756166b.png\n"
     ]
    },
    {
     "name": "stderr",
     "output_type": "stream",
     "text": [
      "  0%|                                                                        | 514/1055840 [09:11<310:25:14,  1.06s/it]"
     ]
    },
    {
     "name": "stdout",
     "output_type": "stream",
     "text": [
      "Warning: Could not download image girl\\513 from https://safebooru.org/thumbnails/23/thumbnail_d89fbc61a84b58ecba5f97452f221d0169bb8372.png\n"
     ]
    },
    {
     "name": "stderr",
     "output_type": "stream",
     "text": [
      "  0%|                                                                        | 516/1055840 [09:13<311:18:13,  1.06s/it]"
     ]
    },
    {
     "name": "stdout",
     "output_type": "stream",
     "text": [
      "Warning: Could not download image girl\\515 from https://safebooru.org/thumbnails/23/thumbnail_44d7687ca17097b5c29e0995416e88814161b168.png\n"
     ]
    },
    {
     "name": "stderr",
     "output_type": "stream",
     "text": [
      "  0%|                                                                        | 521/1055840 [09:19<307:44:20,  1.05s/it]"
     ]
    },
    {
     "name": "stdout",
     "output_type": "stream",
     "text": [
      "Warning: Could not download image girl\\520 from https://safebooru.org/thumbnails/23/thumbnail_1b63af4d18e618e668e2752d64b11e59de029c1c.png\n"
     ]
    },
    {
     "name": "stderr",
     "output_type": "stream",
     "text": [
      "  0%|                                                                        | 523/1055840 [09:21<309:11:11,  1.05s/it]"
     ]
    },
    {
     "name": "stdout",
     "output_type": "stream",
     "text": [
      "Warning: Could not download image girl\\522 from https://safebooru.org/thumbnails/23/thumbnail_72525286ff21449a242ba502dfc454f969e2177c.png\n"
     ]
    },
    {
     "name": "stderr",
     "output_type": "stream",
     "text": [
      "\r",
      "  0%|                                                                        | 524/1055840 [09:22<311:19:44,  1.06s/it]"
     ]
    },
    {
     "name": "stdout",
     "output_type": "stream",
     "text": [
      "Warning: Could not download image girl\\523 from https://safebooru.org/thumbnails/23/thumbnail_84f58b374d9784420314f8f05752cd7dac8980c9.png\n"
     ]
    },
    {
     "name": "stderr",
     "output_type": "stream",
     "text": [
      "  0%|                                                                        | 530/1055840 [09:29<341:54:40,  1.17s/it]"
     ]
    },
    {
     "name": "stdout",
     "output_type": "stream",
     "text": [
      "Warning: Could not download image girl\\529 from https://safebooru.org/thumbnails/23/thumbnail_63fa61213277d0be37b740848c7bbfd4cd6212c4.png\n"
     ]
    },
    {
     "name": "stderr",
     "output_type": "stream",
     "text": [
      "  0%|                                                                        | 533/1055840 [09:32<352:00:47,  1.20s/it]"
     ]
    },
    {
     "name": "stdout",
     "output_type": "stream",
     "text": [
      "Warning: Could not download image girl\\532 from https://safebooru.org/thumbnails/24/thumbnail_394102e163b014715578f406048667f1db8100af.png\n"
     ]
    },
    {
     "name": "stderr",
     "output_type": "stream",
     "text": [
      "\r",
      "  0%|                                                                        | 534/1055840 [09:33<340:23:15,  1.16s/it]"
     ]
    },
    {
     "name": "stdout",
     "output_type": "stream",
     "text": [
      "Warning: Could not download image girl\\533 from https://safebooru.org/thumbnails/24/thumbnail_f41fd36dfb85fd7cdf4aaf94ebadc1953513110d.png\n"
     ]
    },
    {
     "name": "stderr",
     "output_type": "stream",
     "text": [
      "  0%|                                                                        | 543/1055840 [09:43<315:09:57,  1.08s/it]"
     ]
    },
    {
     "name": "stdout",
     "output_type": "stream",
     "text": [
      "Warning: Could not download image girl\\542 from https://safebooru.org/thumbnails/26/thumbnail_d193eb2f41edc77690e73cbd7c09ca46e38c0446.png\n"
     ]
    },
    {
     "name": "stderr",
     "output_type": "stream",
     "text": [
      "  0%|                                                                        | 548/1055840 [09:50<410:06:09,  1.40s/it]"
     ]
    },
    {
     "name": "stdout",
     "output_type": "stream",
     "text": [
      "Warning: Could not download image girl\\547 from https://safebooru.org/thumbnails/27/thumbnail_28604626319c5442a4f990eeeb63e45f4a6a5fb1.png\n"
     ]
    },
    {
     "name": "stderr",
     "output_type": "stream",
     "text": [
      "  0%|                                                                        | 550/1055840 [09:52<360:31:38,  1.23s/it]"
     ]
    },
    {
     "name": "stdout",
     "output_type": "stream",
     "text": [
      "Warning: Could not download image girl\\549 from https://safebooru.org/thumbnails/28/thumbnail_980e5822604c3aaee9dbd42361f7a2eaf93dcd5d.png\n"
     ]
    },
    {
     "name": "stderr",
     "output_type": "stream",
     "text": [
      "\r",
      "  0%|                                                                        | 551/1055840 [09:53<344:49:48,  1.18s/it]"
     ]
    },
    {
     "name": "stdout",
     "output_type": "stream",
     "text": [
      "Warning: Could not download image girl\\550 from https://safebooru.org/thumbnails/28/thumbnail_f0164bc940534a3ecbaea4abfe6c271510d7adb1.png\n"
     ]
    },
    {
     "name": "stderr",
     "output_type": "stream",
     "text": [
      "\r",
      "  0%|                                                                        | 552/1055840 [09:54<332:43:44,  1.14s/it]"
     ]
    },
    {
     "name": "stdout",
     "output_type": "stream",
     "text": [
      "Warning: Could not download image girl\\551 from https://safebooru.org/thumbnails/28/thumbnail_59d9e031611ea40c08354521645132a5b30f80ff.png\n"
     ]
    },
    {
     "name": "stderr",
     "output_type": "stream",
     "text": [
      "  0%|                                                                        | 562/1055840 [10:05<318:52:52,  1.09s/it]"
     ]
    },
    {
     "name": "stdout",
     "output_type": "stream",
     "text": [
      "Warning: Could not download image girl\\561 from https://safebooru.org/thumbnails/30/thumbnail_f680ba73d6cd194bc8b5f1249b6b00ea2bf92d9b.png\n"
     ]
    },
    {
     "name": "stderr",
     "output_type": "stream",
     "text": [
      "  0%|                                                                        | 566/1055840 [10:10<333:11:27,  1.14s/it]"
     ]
    },
    {
     "name": "stdout",
     "output_type": "stream",
     "text": [
      "Warning: Could not download image girl\\565 from https://safebooru.org/thumbnails/30/thumbnail_22e2653ec2a991a03fec835e9cc1ee31056f6048.png\n"
     ]
    },
    {
     "name": "stderr",
     "output_type": "stream",
     "text": [
      "  0%|                                                                        | 577/1055840 [10:22<315:52:41,  1.08s/it]"
     ]
    },
    {
     "name": "stdout",
     "output_type": "stream",
     "text": [
      "Warning: Could not download image girl\\576 from https://safebooru.org/thumbnails/32/thumbnail_34ff3136053847c9bce787e3b31304e227c44250.png\n"
     ]
    },
    {
     "name": "stderr",
     "output_type": "stream",
     "text": [
      "  0%|                                                                        | 583/1055840 [10:28<321:15:45,  1.10s/it]"
     ]
    },
    {
     "name": "stdout",
     "output_type": "stream",
     "text": [
      "Warning: Could not download image girl\\582 from https://safebooru.org/thumbnails/33/thumbnail_46bd3dc343e2b9a208c5097d57daa1180a800369.png\n"
     ]
    },
    {
     "name": "stderr",
     "output_type": "stream",
     "text": [
      "\r",
      "  0%|                                                                        | 584/1055840 [10:29<316:23:41,  1.08s/it]"
     ]
    },
    {
     "name": "stdout",
     "output_type": "stream",
     "text": [
      "Warning: Could not download image girl\\583 from https://safebooru.org/thumbnails/33/thumbnail_ad03baedcdf875fea28b0b827d36c673aec846c4.jpeg\n"
     ]
    },
    {
     "name": "stderr",
     "output_type": "stream",
     "text": [
      "  0%|                                                                        | 586/1055840 [10:31<312:20:46,  1.07s/it]"
     ]
    },
    {
     "name": "stdout",
     "output_type": "stream",
     "text": [
      "Warning: Could not download image girl\\585 from https://safebooru.org/thumbnails/34/thumbnail_38ba55f515ece18b3c15d7cdf762fc71c562f6ef.jpeg\n"
     ]
    },
    {
     "name": "stderr",
     "output_type": "stream",
     "text": [
      "  0%|                                                                        | 595/1055840 [10:41<313:12:42,  1.07s/it]"
     ]
    },
    {
     "name": "stdout",
     "output_type": "stream",
     "text": [
      "Warning: Could not download image girl\\594 from https://safebooru.org/thumbnails/36/thumbnail_9998aa40a52e13884367fa6e697ece6a73cf4b00.png\n"
     ]
    },
    {
     "name": "stderr",
     "output_type": "stream",
     "text": [
      "  0%|                                                                        | 603/1055840 [10:49<308:53:13,  1.05s/it]"
     ]
    },
    {
     "name": "stdout",
     "output_type": "stream",
     "text": [
      "Warning: Could not download image girl\\602 from https://safebooru.org/thumbnails/37/thumbnail_d3beb5769a25818b7f077584f9b5d5d588a8f6aa.png\n"
     ]
    },
    {
     "name": "stderr",
     "output_type": "stream",
     "text": [
      "  0%|                                                                        | 612/1055840 [10:59<309:43:31,  1.06s/it]"
     ]
    },
    {
     "name": "stdout",
     "output_type": "stream",
     "text": [
      "Warning: Could not download image girl\\611 from https://safebooru.org/thumbnails/39/thumbnail_ef97ad09d7e57c734b177713335186ff7ebb0fca.png\n"
     ]
    },
    {
     "name": "stderr",
     "output_type": "stream",
     "text": [
      "  0%|                                                                        | 625/1055840 [11:13<308:53:54,  1.05s/it]"
     ]
    },
    {
     "name": "stdout",
     "output_type": "stream",
     "text": [
      "Warning: Could not download image girl\\624 from https://safebooru.org/thumbnails/42/thumbnail_35634d45613a9534cec9575e02a350be5e0a6025.png\n"
     ]
    },
    {
     "name": "stderr",
     "output_type": "stream",
     "text": [
      "\r",
      "  0%|                                                                        | 626/1055840 [11:14<310:01:40,  1.06s/it]"
     ]
    },
    {
     "name": "stdout",
     "output_type": "stream",
     "text": [
      "Warning: Could not download image girl\\625 from https://safebooru.org/thumbnails/42/thumbnail_5fffa57401f9b930a966652ff83d7b68613954a3.png\n"
     ]
    },
    {
     "name": "stderr",
     "output_type": "stream",
     "text": [
      "  0%|                                                                        | 640/1055840 [11:28<275:10:32,  1.07it/s]"
     ]
    },
    {
     "name": "stdout",
     "output_type": "stream",
     "text": [
      "Warning: Could not download image girl\\639 from https://safebooru.org/thumbnails/43/thumbnail_8e778c713f3e240f8f250f0b5ea0c6fdb12def47.png\n"
     ]
    },
    {
     "name": "stderr",
     "output_type": "stream",
     "text": [
      "  0%|                                                                        | 662/1055840 [11:52<320:18:21,  1.09s/it]"
     ]
    },
    {
     "name": "stdout",
     "output_type": "stream",
     "text": [
      "Warning: Could not download image girl\\661 from https://safebooru.org/thumbnails/45/thumbnail_250e9304f03669294fc7b52ffe084a325691527c.png\n"
     ]
    },
    {
     "name": "stderr",
     "output_type": "stream",
     "text": [
      "  0%|                                                                        | 676/1055840 [12:06<308:06:02,  1.05s/it]"
     ]
    },
    {
     "name": "stdout",
     "output_type": "stream",
     "text": [
      "Warning: Could not download image girl\\675 from https://safebooru.org/thumbnails/48/thumbnail_772513f33b7e6541443d747aecac71694050fa32.png\n"
     ]
    },
    {
     "name": "stderr",
     "output_type": "stream",
     "text": [
      "  0%|                                                                        | 680/1055840 [12:11<311:12:46,  1.06s/it]"
     ]
    },
    {
     "name": "stdout",
     "output_type": "stream",
     "text": [
      "Warning: Could not download image girl\\679 from https://safebooru.org/thumbnails/49/thumbnail_e353c1dbdb46bea2a14ab567c74dfeb47e1d1030.png\n"
     ]
    },
    {
     "name": "stderr",
     "output_type": "stream",
     "text": [
      "\r",
      "  0%|                                                                        | 681/1055840 [12:12<310:13:10,  1.06s/it]"
     ]
    },
    {
     "name": "stdout",
     "output_type": "stream",
     "text": [
      "Warning: Could not download image girl\\680 from https://safebooru.org/thumbnails/49/thumbnail_09de049dae50faa682ceaae01b94fff31fa94dc6.png\n"
     ]
    },
    {
     "name": "stderr",
     "output_type": "stream",
     "text": [
      "\r",
      "  0%|                                                                        | 682/1055840 [12:13<309:32:34,  1.06s/it]"
     ]
    },
    {
     "name": "stdout",
     "output_type": "stream",
     "text": [
      "Warning: Could not download image girl\\681 from https://safebooru.org/thumbnails/49/thumbnail_42d4f3c5ba4d5ad3610805a036c82f84d844bd23.png\n"
     ]
    },
    {
     "name": "stderr",
     "output_type": "stream",
     "text": [
      "  0%|                                                                        | 693/1055840 [12:24<310:32:59,  1.06s/it]"
     ]
    },
    {
     "name": "stdout",
     "output_type": "stream",
     "text": [
      "Warning: Could not download image girl\\692 from https://safebooru.org/thumbnails/52/thumbnail_de81bd790dacbf732c275f5ab06b538cdc3c5045.png\n"
     ]
    },
    {
     "name": "stderr",
     "output_type": "stream",
     "text": [
      "  0%|                                                                        | 696/1055840 [12:28<309:02:32,  1.05s/it]"
     ]
    },
    {
     "name": "stdout",
     "output_type": "stream",
     "text": [
      "Warning: Could not download image girl\\695 from https://safebooru.org/thumbnails/52/thumbnail_0bdef165541b2bf57512f37fdb7f64133f4640f6.png\n"
     ]
    },
    {
     "name": "stderr",
     "output_type": "stream",
     "text": [
      "  0%|                                                                        | 719/1055840 [12:53<317:20:40,  1.08s/it]"
     ]
    },
    {
     "name": "stdout",
     "output_type": "stream",
     "text": [
      "Warning: Could not download image girl\\718 from https://safebooru.org/thumbnails/54/thumbnail_2f9851ac6a8e7b474bd3e027a48d4963014211e5.png\n"
     ]
    },
    {
     "name": "stderr",
     "output_type": "stream",
     "text": [
      "  0%|                                                                        | 725/1055840 [13:00<334:17:26,  1.14s/it]"
     ]
    },
    {
     "name": "stdout",
     "output_type": "stream",
     "text": [
      "Warning: Could not download image girl\\724 from https://safebooru.org/thumbnails/55/thumbnail_df1d8271b076ee7c0f94fcfa63304d4e39456680.png\n"
     ]
    },
    {
     "name": "stderr",
     "output_type": "stream",
     "text": [
      "  0%|                                                                        | 728/1055840 [13:03<317:32:36,  1.08s/it]"
     ]
    },
    {
     "name": "stdout",
     "output_type": "stream",
     "text": [
      "Warning: Could not download image girl\\727 from https://safebooru.org/thumbnails/56/thumbnail_283d10f00a66714464445266951ef53e21690161.png\n"
     ]
    },
    {
     "name": "stderr",
     "output_type": "stream",
     "text": [
      "  0%|                                                                        | 732/1055840 [13:07<320:08:37,  1.09s/it]"
     ]
    },
    {
     "name": "stdout",
     "output_type": "stream",
     "text": [
      "Warning: Could not download image girl\\731 from https://safebooru.org/thumbnails/57/thumbnail_6bf3ef33609e67d54c08aaad22bf6ab582971462.png\n"
     ]
    },
    {
     "name": "stderr",
     "output_type": "stream",
     "text": [
      "  0%|                                                                        | 736/1055840 [13:12<316:07:26,  1.08s/it]"
     ]
    },
    {
     "name": "stdout",
     "output_type": "stream",
     "text": [
      "Warning: Could not download image girl\\735 from https://safebooru.org/thumbnails/57/thumbnail_cdf752dc3824b23fa2d6c8a0ae1a59a64e484cde.jpeg\n"
     ]
    },
    {
     "name": "stderr",
     "output_type": "stream",
     "text": [
      "\r",
      "  0%|                                                                        | 737/1055840 [13:13<314:12:15,  1.07s/it]"
     ]
    },
    {
     "name": "stdout",
     "output_type": "stream",
     "text": [
      "Warning: Could not download image girl\\736 from https://safebooru.org/thumbnails/57/thumbnail_c88e03118dfcdbc6100103f41d7ec6e47699c4af.png\n"
     ]
    },
    {
     "name": "stderr",
     "output_type": "stream",
     "text": [
      "  0%|                                                                        | 739/1055840 [13:15<311:12:52,  1.06s/it]"
     ]
    },
    {
     "name": "stdout",
     "output_type": "stream",
     "text": [
      "Warning: Could not download image girl\\738 from https://safebooru.org/thumbnails/58/thumbnail_1c4ca1c556387b1d58a479cdd9b8878552561c3a.png\n"
     ]
    },
    {
     "name": "stderr",
     "output_type": "stream",
     "text": [
      "  0%|                                                                        | 744/1055840 [13:20<337:26:13,  1.15s/it]"
     ]
    },
    {
     "name": "stdout",
     "output_type": "stream",
     "text": [
      "Warning: Could not download image girl\\743 from https://safebooru.org/thumbnails/58/thumbnail_d52650df9ef6d51b257ea9a806d5fc6c646e9aea.png\n"
     ]
    },
    {
     "name": "stderr",
     "output_type": "stream",
     "text": [
      "  0%|                                                                        | 746/1055840 [13:23<357:18:13,  1.22s/it]"
     ]
    },
    {
     "name": "stdout",
     "output_type": "stream",
     "text": [
      "Warning: Could not download image girl\\745 from https://safebooru.org/thumbnails/58/thumbnail_02a445c4fb0b9404eaca64614d220fa05caf3d5b.png\n"
     ]
    },
    {
     "name": "stderr",
     "output_type": "stream",
     "text": [
      "\r",
      "  0%|                                                                        | 747/1055840 [13:24<344:46:04,  1.18s/it]"
     ]
    },
    {
     "name": "stdout",
     "output_type": "stream",
     "text": [
      "Warning: Could not download image girl\\746 from https://safebooru.org/thumbnails/58/thumbnail_b8b4e9d8a171525b9a76cd8e22f4e86fd622a225.png\n"
     ]
    },
    {
     "name": "stderr",
     "output_type": "stream",
     "text": [
      "\r",
      "  0%|                                                                        | 748/1055840 [13:25<334:18:51,  1.14s/it]"
     ]
    },
    {
     "name": "stdout",
     "output_type": "stream",
     "text": [
      "Warning: Could not download image girl\\747 from https://safebooru.org/thumbnails/58/thumbnail_bc0aff49211a7d75bc5d4c8e33c58685b6b39e7f.png\n"
     ]
    },
    {
     "name": "stderr",
     "output_type": "stream",
     "text": [
      "\r",
      "  0%|                                                                        | 749/1055840 [13:26<327:48:28,  1.12s/it]"
     ]
    },
    {
     "name": "stdout",
     "output_type": "stream",
     "text": [
      "Warning: Could not download image girl\\748 from https://safebooru.org/thumbnails/58/thumbnail_90b54f3e585b7d73a25cb2b012d58464e4a2dd8d.png\n"
     ]
    },
    {
     "name": "stderr",
     "output_type": "stream",
     "text": [
      "  0%|                                                                        | 753/1055840 [13:30<311:27:44,  1.06s/it]"
     ]
    },
    {
     "name": "stdout",
     "output_type": "stream",
     "text": [
      "Warning: Could not download image girl\\752 from https://safebooru.org/thumbnails/58/thumbnail_d69a47faa2a9fdfa6feb4c1f113c5c04e6d42b02.png\n"
     ]
    },
    {
     "name": "stderr",
     "output_type": "stream",
     "text": [
      "  0%|                                                                        | 757/1055840 [13:35<313:16:27,  1.07s/it]"
     ]
    },
    {
     "name": "stdout",
     "output_type": "stream",
     "text": [
      "Warning: Could not download image girl\\756 from https://safebooru.org/thumbnails/59/thumbnail_1f29a6dad703d32d5b806182b5a062c451e3d61a.png\n"
     ]
    },
    {
     "name": "stderr",
     "output_type": "stream",
     "text": [
      "  0%|                                                                        | 760/1055840 [13:38<309:13:13,  1.06s/it]"
     ]
    },
    {
     "name": "stdout",
     "output_type": "stream",
     "text": [
      "Warning: Could not download image girl\\759 from https://safebooru.org/thumbnails/59/thumbnail_ad171de72d600b0f6801de7fd5cb06b1c89eaaf2.png\n"
     ]
    },
    {
     "name": "stderr",
     "output_type": "stream",
     "text": [
      "\r",
      "  0%|                                                                        | 761/1055840 [13:39<308:08:26,  1.05s/it]"
     ]
    },
    {
     "name": "stdout",
     "output_type": "stream",
     "text": [
      "Warning: Could not download image girl\\760 from https://safebooru.org/thumbnails/59/thumbnail_d15efe6d389367bd762f2a1bf1e0a514e4fd6f14.png\n"
     ]
    },
    {
     "name": "stderr",
     "output_type": "stream",
     "text": [
      "\r",
      "  0%|                                                                        | 762/1055840 [13:40<306:58:16,  1.05s/it]"
     ]
    },
    {
     "name": "stdout",
     "output_type": "stream",
     "text": [
      "Warning: Could not download image girl\\761 from https://safebooru.org/thumbnails/59/thumbnail_423af8542fa551ccadcc09edf24bd3acbe4d9967.png\n"
     ]
    },
    {
     "name": "stderr",
     "output_type": "stream",
     "text": [
      "  0%|                                                                        | 764/1055840 [13:42<308:19:49,  1.05s/it]"
     ]
    },
    {
     "name": "stdout",
     "output_type": "stream",
     "text": [
      "Warning: Could not download image girl\\763 from https://safebooru.org/thumbnails/59/thumbnail_f5ee9c9e4f5b1019303de8c649f60e7e69c04f2d.png\n"
     ]
    },
    {
     "name": "stderr",
     "output_type": "stream",
     "text": [
      "  0%|                                                                        | 769/1055840 [13:47<315:31:13,  1.08s/it]"
     ]
    },
    {
     "name": "stdout",
     "output_type": "stream",
     "text": [
      "Warning: Could not download image girl\\768 from https://safebooru.org/thumbnails/59/thumbnail_6a55f4827969260e58e707904a6c7b5b4b367460.png\n"
     ]
    },
    {
     "name": "stderr",
     "output_type": "stream",
     "text": [
      "  0%|                                                                        | 777/1055840 [13:56<309:10:02,  1.05s/it]"
     ]
    },
    {
     "name": "stdout",
     "output_type": "stream",
     "text": [
      "Warning: Could not download image girl\\776 from https://safebooru.org/thumbnails/61/thumbnail_9ff83c3c744818632fb9e30baa79c2f58cf7f3d4.png\n"
     ]
    },
    {
     "name": "stderr",
     "output_type": "stream",
     "text": [
      "  0%|                                                                        | 788/1055840 [14:06<297:59:04,  1.02s/it]"
     ]
    },
    {
     "name": "stdout",
     "output_type": "stream",
     "text": [
      "Warning: Could not download image girl\\787 from https://safebooru.org/thumbnails/62/thumbnail_eaf37d280698ff2adc766d2a807a60268d645cfd.png\n"
     ]
    },
    {
     "name": "stderr",
     "output_type": "stream",
     "text": [
      "  0%|                                                                        | 793/1055840 [14:12<323:42:26,  1.10s/it]"
     ]
    },
    {
     "name": "stdout",
     "output_type": "stream",
     "text": [
      "Warning: Could not download image girl\\792 from https://safebooru.org/thumbnails/62/thumbnail_04a3767c54ccdf05d7f146fa4f98c11deefd0e74.png\n"
     ]
    },
    {
     "name": "stderr",
     "output_type": "stream",
     "text": [
      "  0%|                                                                        | 799/1055840 [14:18<311:10:24,  1.06s/it]"
     ]
    },
    {
     "name": "stdout",
     "output_type": "stream",
     "text": [
      "Warning: Could not download image girl\\798 from https://safebooru.org/thumbnails/63/thumbnail_73f124bc878a7d2ceb314b3591ba2acc7f26a498.jpeg\n"
     ]
    },
    {
     "name": "stderr",
     "output_type": "stream",
     "text": [
      "  0%|                                                                        | 806/1055840 [14:26<307:15:11,  1.05s/it]"
     ]
    },
    {
     "name": "stdout",
     "output_type": "stream",
     "text": [
      "Warning: Could not download image girl\\805 from https://safebooru.org/thumbnails/63/thumbnail_187ff41a6d60ccd905bf9e0ce8b0945ceccd1631.jpeg\n"
     ]
    },
    {
     "name": "stderr",
     "output_type": "stream",
     "text": [
      "  0%|                                                                        | 808/1055840 [14:28<311:50:43,  1.06s/it]"
     ]
    },
    {
     "name": "stdout",
     "output_type": "stream",
     "text": [
      "Warning: Could not download image girl\\807 from https://safebooru.org/thumbnails/63/thumbnail_4567469536c0394f11c6e0e5a288a7c2c16774ab.jpeg\n"
     ]
    },
    {
     "name": "stderr",
     "output_type": "stream",
     "text": [
      "  0%|                                                                        | 816/1055840 [14:35<243:42:16,  1.20it/s]"
     ]
    },
    {
     "name": "stdout",
     "output_type": "stream",
     "text": [
      "Warning: Could not download image girl\\815 from https://safebooru.org/thumbnails/64/thumbnail_b02538541ae55f4810371b5a80119d064fec7226.png\n"
     ]
    },
    {
     "name": "stderr",
     "output_type": "stream",
     "text": [
      "  0%|                                                                        | 819/1055840 [14:38<304:35:51,  1.04s/it]"
     ]
    },
    {
     "name": "stdout",
     "output_type": "stream",
     "text": [
      "Warning: Could not download image girl\\818 from https://safebooru.org/thumbnails/64/thumbnail_9a4e2b5d4041ef9d37fc702379e4ceb5ca87056a.png\n"
     ]
    },
    {
     "name": "stderr",
     "output_type": "stream",
     "text": [
      "\r",
      "  0%|                                                                        | 820/1055840 [14:39<305:53:55,  1.04s/it]"
     ]
    },
    {
     "name": "stdout",
     "output_type": "stream",
     "text": [
      "Warning: Could not download image girl\\819 from https://safebooru.org/thumbnails/64/thumbnail_1d8b58525a6991104f3aa3dddd855b083d104eda.png\n"
     ]
    },
    {
     "name": "stderr",
     "output_type": "stream",
     "text": [
      "  0%|                                                                        | 824/1055840 [14:44<327:46:06,  1.12s/it]"
     ]
    },
    {
     "name": "stdout",
     "output_type": "stream",
     "text": [
      "Warning: Could not download image girl\\823 from https://safebooru.org/thumbnails/64/thumbnail_6aa3bb635e55600fa6a38c66a1787808adc72747.png\n"
     ]
    },
    {
     "name": "stderr",
     "output_type": "stream",
     "text": [
      "\r",
      "  0%|                                                                        | 825/1055840 [14:45<322:28:02,  1.10s/it]"
     ]
    },
    {
     "name": "stdout",
     "output_type": "stream",
     "text": [
      "Warning: Could not download image girl\\824 from https://safebooru.org/thumbnails/64/thumbnail_2339999e8705d87fc6ad9448e9cd287bdb02d4c5.png\n"
     ]
    },
    {
     "name": "stderr",
     "output_type": "stream",
     "text": [
      "  0%|                                                                        | 830/1055840 [14:50<325:08:40,  1.11s/it]"
     ]
    },
    {
     "name": "stdout",
     "output_type": "stream",
     "text": [
      "Warning: Could not download image girl\\829 from https://safebooru.org/thumbnails/65/thumbnail_30fc40cb5e969be6d91512d81757499b905117c6.png\n"
     ]
    },
    {
     "name": "stderr",
     "output_type": "stream",
     "text": [
      "  0%|                                                                        | 834/1055840 [14:55<316:35:23,  1.08s/it]"
     ]
    },
    {
     "name": "stdout",
     "output_type": "stream",
     "text": [
      "Warning: Could not download image girl\\833 from https://safebooru.org/thumbnails/65/thumbnail_a852137f9950d39d500b883121b327584652f1a1.png\n"
     ]
    },
    {
     "name": "stderr",
     "output_type": "stream",
     "text": [
      "  0%|                                                                        | 837/1055840 [14:58<325:30:39,  1.11s/it]"
     ]
    },
    {
     "name": "stdout",
     "output_type": "stream",
     "text": [
      "Warning: Could not download image girl\\836 from https://safebooru.org/thumbnails/66/thumbnail_602aebeb9f34a1227ae2faf7782ef047687a57ab.jpeg\n"
     ]
    },
    {
     "name": "stderr",
     "output_type": "stream",
     "text": [
      "  0%|                                                                        | 842/1055840 [15:04<316:40:50,  1.08s/it]"
     ]
    },
    {
     "name": "stdout",
     "output_type": "stream",
     "text": [
      "Warning: Could not download image girl\\841 from https://safebooru.org/thumbnails/66/thumbnail_610250dce42453815205bf458e009df12f2e4587.png\n"
     ]
    },
    {
     "name": "stderr",
     "output_type": "stream",
     "text": [
      "\r",
      "  0%|                                                                        | 843/1055840 [15:05<312:27:17,  1.07s/it]"
     ]
    },
    {
     "name": "stdout",
     "output_type": "stream",
     "text": [
      "Warning: Could not download image girl\\842 from https://safebooru.org/thumbnails/66/thumbnail_cd7c5c78946eec3a8ef712e860f213cbe70394cb.png\n"
     ]
    },
    {
     "name": "stderr",
     "output_type": "stream",
     "text": [
      "\r",
      "  0%|                                                                        | 844/1055840 [15:06<312:02:31,  1.06s/it]"
     ]
    },
    {
     "name": "stdout",
     "output_type": "stream",
     "text": [
      "Warning: Could not download image girl\\843 from https://safebooru.org/thumbnails/66/thumbnail_952474cc2fc58f2e04a6855214baebc0af4ad14e.png\n"
     ]
    },
    {
     "name": "stderr",
     "output_type": "stream",
     "text": [
      "  0%|                                                                        | 846/1055840 [15:08<311:51:22,  1.06s/it]"
     ]
    },
    {
     "name": "stdout",
     "output_type": "stream",
     "text": [
      "Warning: Could not download image girl\\845 from https://safebooru.org/thumbnails/66/thumbnail_10381f500ba8062d8a0b274ec901773b10b26bee.png\n"
     ]
    },
    {
     "name": "stderr",
     "output_type": "stream",
     "text": [
      "  0%|                                                                        | 854/1055840 [15:16<300:20:46,  1.02s/it]"
     ]
    },
    {
     "name": "stdout",
     "output_type": "stream",
     "text": [
      "Warning: Could not download image girl\\853 from https://safebooru.org/thumbnails/66/thumbnail_bb0e138a5f01398b751484e85b71f9e4cfa4bb6e.png\n"
     ]
    },
    {
     "name": "stderr",
     "output_type": "stream",
     "text": [
      "  0%|                                                                        | 860/1055840 [15:22<306:47:50,  1.05s/it]"
     ]
    },
    {
     "name": "stdout",
     "output_type": "stream",
     "text": [
      "Warning: Could not download image girl\\859 from https://safebooru.org/thumbnails/67/thumbnail_3a12fca9398d821968c1253502a1466691e2af28.jpeg\n"
     ]
    },
    {
     "name": "stderr",
     "output_type": "stream",
     "text": [
      "\r",
      "  0%|                                                                        | 861/1055840 [15:23<308:13:15,  1.05s/it]"
     ]
    },
    {
     "name": "stdout",
     "output_type": "stream",
     "text": [
      "Warning: Could not download image girl\\860 from https://safebooru.org/thumbnails/67/thumbnail_38078fae6b96e08614e6c1b32c076b7b678638c9.jpeg\n"
     ]
    },
    {
     "name": "stderr",
     "output_type": "stream",
     "text": [
      "  0%|                                                                        | 871/1055840 [15:34<313:30:54,  1.07s/it]"
     ]
    },
    {
     "name": "stdout",
     "output_type": "stream",
     "text": [
      "Warning: Could not download image girl\\870 from https://safebooru.org/thumbnails/67/thumbnail_8c5bbdda817a5baedada4c63b33a48777f95eded.png\n"
     ]
    },
    {
     "name": "stderr",
     "output_type": "stream",
     "text": [
      "  0%|                                                                        | 874/1055840 [15:37<311:48:58,  1.06s/it]"
     ]
    },
    {
     "name": "stdout",
     "output_type": "stream",
     "text": [
      "Warning: Could not download image girl\\873 from https://safebooru.org/thumbnails/68/thumbnail_20dfc38af466d68bf7c692582583c1773a11e15f.png\n"
     ]
    },
    {
     "name": "stderr",
     "output_type": "stream",
     "text": [
      "  0%|                                                                        | 877/1055840 [15:40<309:28:28,  1.06s/it]"
     ]
    },
    {
     "name": "stdout",
     "output_type": "stream",
     "text": [
      "Warning: Could not download image girl\\876 from https://safebooru.org/thumbnails/68/thumbnail_ecc62071da570fa51b7f31537385554fb213c634.png\n"
     ]
    },
    {
     "name": "stderr",
     "output_type": "stream",
     "text": [
      "  0%|                                                                        | 885/1055840 [15:49<309:21:31,  1.06s/it]"
     ]
    },
    {
     "name": "stdout",
     "output_type": "stream",
     "text": [
      "Warning: Could not download image girl\\884 from https://safebooru.org/thumbnails/69/thumbnail_ad68d46375a145697336c2313bdc04501e8e166a.png\n"
     ]
    },
    {
     "name": "stderr",
     "output_type": "stream",
     "text": [
      "  0%|                                                                        | 890/1055840 [15:54<310:42:31,  1.06s/it]"
     ]
    },
    {
     "name": "stdout",
     "output_type": "stream",
     "text": [
      "Warning: Could not download image girl\\889 from https://safebooru.org/thumbnails/70/thumbnail_dfb7271a4ebae740c88deeec8ffa39aa6cb9df18.png\n"
     ]
    },
    {
     "name": "stderr",
     "output_type": "stream",
     "text": [
      "  0%|                                                                        | 893/1055840 [15:57<313:21:13,  1.07s/it]"
     ]
    },
    {
     "name": "stdout",
     "output_type": "stream",
     "text": [
      "Warning: Could not download image girl\\892 from https://safebooru.org/thumbnails/70/thumbnail_fb8150fcb5b6da188decbb3ad824e54051040254.png\n"
     ]
    },
    {
     "name": "stderr",
     "output_type": "stream",
     "text": [
      "  0%|                                                                        | 895/1055840 [15:59<313:04:04,  1.07s/it]"
     ]
    },
    {
     "name": "stdout",
     "output_type": "stream",
     "text": [
      "Warning: Could not download image girl\\894 from https://safebooru.org/thumbnails/70/thumbnail_d5486df45d6d18e90fdfc172eb7ff84210a8310a.png\n"
     ]
    },
    {
     "name": "stderr",
     "output_type": "stream",
     "text": [
      "\r",
      "  0%|                                                                        | 896/1055840 [16:00<312:22:42,  1.07s/it]"
     ]
    },
    {
     "name": "stdout",
     "output_type": "stream",
     "text": [
      "Warning: Could not download image girl\\895 from https://safebooru.org/thumbnails/70/thumbnail_6e88bffde2f17a01300c38094ecf65f617989acb.jpeg\n"
     ]
    },
    {
     "name": "stderr",
     "output_type": "stream",
     "text": [
      "  0%|                                                                        | 900/1055840 [16:05<309:00:53,  1.05s/it]"
     ]
    },
    {
     "name": "stdout",
     "output_type": "stream",
     "text": [
      "Warning: Could not download image girl\\899 from https://safebooru.org/thumbnails/70/thumbnail_c5e89992f5fef698b7ae80c45cbb9196f81f9854.png\n"
     ]
    },
    {
     "name": "stderr",
     "output_type": "stream",
     "text": [
      "  0%|                                                                        | 907/1055840 [16:11<280:20:56,  1.05it/s]"
     ]
    },
    {
     "name": "stdout",
     "output_type": "stream",
     "text": [
      "Warning: Could not download image girl\\906 from https://safebooru.org/thumbnails/71/thumbnail_c238bdaaba42a8f057c15d78e7525643ae610462.jpeg\n"
     ]
    },
    {
     "name": "stderr",
     "output_type": "stream",
     "text": [
      "  0%|                                                                        | 917/1055840 [16:22<322:02:30,  1.10s/it]"
     ]
    },
    {
     "name": "stdout",
     "output_type": "stream",
     "text": [
      "Warning: Could not download image girl\\916 from https://safebooru.org/thumbnails/72/thumbnail_1bcb91179f44fd7f497112d0ca13f8154526a776.png\n"
     ]
    },
    {
     "name": "stderr",
     "output_type": "stream",
     "text": [
      "\r",
      "  0%|                                                                        | 918/1055840 [16:24<319:48:20,  1.09s/it]"
     ]
    },
    {
     "name": "stdout",
     "output_type": "stream",
     "text": [
      "Warning: Could not download image girl\\917 from https://safebooru.org/thumbnails/72/thumbnail_748e0e91d9d7f9e4a10df839f93d09c9e4fb0e06.png\n"
     ]
    },
    {
     "name": "stderr",
     "output_type": "stream",
     "text": [
      "  0%|                                                                        | 947/1055840 [16:54<298:04:07,  1.02s/it]"
     ]
    },
    {
     "name": "stdout",
     "output_type": "stream",
     "text": [
      "Warning: Could not download image girl\\946 from https://safebooru.org/thumbnails/73/thumbnail_436f6f32fbe8703e99909bc06097b7001a70e6c8.png\n"
     ]
    },
    {
     "name": "stderr",
     "output_type": "stream",
     "text": [
      "  0%|                                                                        | 949/1055840 [16:56<303:33:45,  1.04s/it]"
     ]
    },
    {
     "name": "stdout",
     "output_type": "stream",
     "text": [
      "Warning: Could not download image girl\\948 from https://safebooru.org/thumbnails/73/thumbnail_5de922e71fe3dd4749ed3906c52f996589c10811.png\n"
     ]
    },
    {
     "name": "stderr",
     "output_type": "stream",
     "text": [
      "\r",
      "  0%|                                                                        | 950/1055840 [16:57<305:24:29,  1.04s/it]"
     ]
    },
    {
     "name": "stdout",
     "output_type": "stream",
     "text": [
      "Warning: Could not download image girl\\949 from https://safebooru.org/thumbnails/73/thumbnail_5081d9b4f9d48c0ca29d4342bf5f3af10f5acd7d.jpeg\n"
     ]
    },
    {
     "name": "stderr",
     "output_type": "stream",
     "text": [
      "  0%|                                                                        | 957/1055840 [17:05<310:17:56,  1.06s/it]"
     ]
    },
    {
     "name": "stdout",
     "output_type": "stream",
     "text": [
      "Warning: Could not download image girl\\956 from https://safebooru.org/thumbnails/74/thumbnail_9ecb96f21dc3e7d6f1989f9c396ab13653177009.jpeg\n"
     ]
    },
    {
     "name": "stderr",
     "output_type": "stream",
     "text": [
      "  0%|                                                                        | 963/1055840 [17:11<309:12:50,  1.06s/it]"
     ]
    },
    {
     "name": "stdout",
     "output_type": "stream",
     "text": [
      "Warning: Could not download image girl\\962 from https://safebooru.org/thumbnails/74/thumbnail_c26121a9b80d102a687d8558de684f7567996dd5.png\n"
     ]
    },
    {
     "name": "stderr",
     "output_type": "stream",
     "text": [
      "  0%|                                                                        | 967/1055840 [17:15<310:35:12,  1.06s/it]"
     ]
    },
    {
     "name": "stdout",
     "output_type": "stream",
     "text": [
      "Warning: Could not download image girl\\966 from https://safebooru.org/thumbnails/75/thumbnail_a59e822f6b607a566e9e68181c52ec89df692275.png\n"
     ]
    },
    {
     "name": "stderr",
     "output_type": "stream",
     "text": [
      "  0%|                                                                        | 973/1055840 [17:22<316:37:03,  1.08s/it]"
     ]
    },
    {
     "name": "stdout",
     "output_type": "stream",
     "text": [
      "Warning: Could not download image girl\\972 from https://safebooru.org/thumbnails/75/thumbnail_3dfdcf618cbc20fc2defeb978a0fc66bceb75aa0.png\n"
     ]
    },
    {
     "name": "stderr",
     "output_type": "stream",
     "text": [
      "  0%|                                                                        | 976/1055840 [17:25<316:57:11,  1.08s/it]"
     ]
    },
    {
     "name": "stdout",
     "output_type": "stream",
     "text": [
      "Warning: Could not download image girl\\975 from https://safebooru.org/thumbnails/76/thumbnail_bb5be58322b78b51b5ff5d1571c6147831a9534b.png\n"
     ]
    },
    {
     "name": "stderr",
     "output_type": "stream",
     "text": [
      "  0%|                                                                        | 981/1055840 [17:30<313:02:47,  1.07s/it]"
     ]
    },
    {
     "name": "stdout",
     "output_type": "stream",
     "text": [
      "Warning: Could not download image girl\\980 from https://safebooru.org/thumbnails/76/thumbnail_d874a1445f1e96939e26f597d49726915f398895.png\n"
     ]
    },
    {
     "name": "stderr",
     "output_type": "stream",
     "text": [
      "  0%|                                                                        | 990/1055840 [17:40<308:59:32,  1.05s/it]"
     ]
    },
    {
     "name": "stdout",
     "output_type": "stream",
     "text": [
      "Warning: Could not download image girl\\989 from https://safebooru.org/thumbnails/76/thumbnail_989d9fc4a91157f0de0e80b3e4bf17cbc4f1d1bc.png\n"
     ]
    },
    {
     "name": "stderr",
     "output_type": "stream",
     "text": [
      "  0%|                                                                        | 992/1055840 [17:42<309:47:50,  1.06s/it]"
     ]
    },
    {
     "name": "stdout",
     "output_type": "stream",
     "text": [
      "Warning: Could not download image girl\\991 from https://safebooru.org/thumbnails/77/thumbnail_aa9dcf6e3f7cd33ff11e5355c4aef5224842d6e3.png\n"
     ]
    },
    {
     "name": "stderr",
     "output_type": "stream",
     "text": [
      "  0%|                                                                        | 997/1055840 [17:47<309:42:09,  1.06s/it]"
     ]
    },
    {
     "name": "stdout",
     "output_type": "stream",
     "text": [
      "Warning: Could not download image girl\\996 from https://safebooru.org/thumbnails/77/thumbnail_a7d4af72172fda8ff32970d24ae3a13de9b8f303.png\n"
     ]
    },
    {
     "name": "stderr",
     "output_type": "stream",
     "text": [
      "  0%|                                                                       | 1001/1055840 [17:52<323:46:08,  1.10s/it]"
     ]
    },
    {
     "name": "stdout",
     "output_type": "stream",
     "text": [
      "Warning: Could not download image girl\\1000 from https://safebooru.org/thumbnails/77/thumbnail_c2e01e99ced6c3449c0c4b08100689098d88f993.png\n"
     ]
    },
    {
     "name": "stderr",
     "output_type": "stream",
     "text": [
      "  0%|                                                                       | 1006/1055840 [17:57<316:22:02,  1.08s/it]"
     ]
    },
    {
     "name": "stdout",
     "output_type": "stream",
     "text": [
      "Warning: Could not download image girl\\1005 from https://safebooru.org/thumbnails/78/thumbnail_b564d0c650b8b6b538fd7fbe25a56f03af14753d.png\n"
     ]
    },
    {
     "name": "stderr",
     "output_type": "stream",
     "text": [
      "  0%|                                                                       | 1008/1055840 [17:59<314:11:39,  1.07s/it]"
     ]
    },
    {
     "name": "stdout",
     "output_type": "stream",
     "text": [
      "Warning: Could not download image girl\\1007 from https://safebooru.org/thumbnails/78/thumbnail_e730807d7e7f65662447378b82c99dd357518672.png\n"
     ]
    },
    {
     "name": "stderr",
     "output_type": "stream",
     "text": [
      "  0%|                                                                       | 1016/1055840 [18:08<308:45:23,  1.05s/it]"
     ]
    },
    {
     "name": "stdout",
     "output_type": "stream",
     "text": [
      "Warning: Could not download image girl\\1015 from https://safebooru.org/thumbnails/78/thumbnail_734b7d5803197db4938189ab6c44ae059da6160a.png\n"
     ]
    },
    {
     "name": "stderr",
     "output_type": "stream",
     "text": [
      "  0%|                                                                       | 1019/1055840 [18:11<308:22:01,  1.05s/it]"
     ]
    },
    {
     "name": "stdout",
     "output_type": "stream",
     "text": [
      "Warning: Could not download image girl\\1018 from https://safebooru.org/thumbnails/78/thumbnail_13a9673eef101a320b931d625d714db6d4dd1cc4.png\n"
     ]
    },
    {
     "name": "stderr",
     "output_type": "stream",
     "text": [
      "  0%|                                                                       | 1025/1055840 [18:17<308:55:47,  1.05s/it]"
     ]
    },
    {
     "name": "stdout",
     "output_type": "stream",
     "text": [
      "Warning: Could not download image girl\\1024 from https://safebooru.org/thumbnails/79/thumbnail_e4016e465001aab41d987de37d317bd47f54ddee.png\n"
     ]
    },
    {
     "name": "stderr",
     "output_type": "stream",
     "text": [
      "\r",
      "  0%|                                                                       | 1026/1055840 [18:18<307:51:40,  1.05s/it]"
     ]
    },
    {
     "name": "stdout",
     "output_type": "stream",
     "text": [
      "Warning: Could not download image girl\\1025 from https://safebooru.org/thumbnails/79/thumbnail_9745ae077501d260ae6833172aa6e3c7e60851f4.png\n"
     ]
    },
    {
     "name": "stderr",
     "output_type": "stream",
     "text": [
      "  0%|                                                                       | 1028/1055840 [18:21<308:09:58,  1.05s/it]"
     ]
    },
    {
     "name": "stdout",
     "output_type": "stream",
     "text": [
      "Warning: Could not download image girl\\1027 from https://safebooru.org/thumbnails/79/thumbnail_b98bdff551bab80d77246898303208137c331486.png\n"
     ]
    },
    {
     "name": "stderr",
     "output_type": "stream",
     "text": [
      "  0%|                                                                       | 1036/1055840 [18:29<320:39:25,  1.09s/it]"
     ]
    },
    {
     "name": "stdout",
     "output_type": "stream",
     "text": [
      "Warning: Could not download image girl\\1035 from https://safebooru.org/thumbnails/80/thumbnail_51a83e9b055b694d17f5f1bc79696917bc74f401.png\n"
     ]
    },
    {
     "name": "stderr",
     "output_type": "stream",
     "text": [
      "  0%|                                                                       | 1041/1055840 [18:35<309:29:27,  1.06s/it]"
     ]
    },
    {
     "name": "stdout",
     "output_type": "stream",
     "text": [
      "Warning: Could not download image girl\\1040 from https://safebooru.org/thumbnails/80/thumbnail_c68ff12059d25fc2d1ace1dca69d62a58acbfe40.png\n"
     ]
    },
    {
     "name": "stderr",
     "output_type": "stream",
     "text": [
      "\r",
      "  0%|                                                                       | 1042/1055840 [18:36<309:30:41,  1.06s/it]"
     ]
    },
    {
     "name": "stdout",
     "output_type": "stream",
     "text": [
      "Warning: Could not download image girl\\1041 from https://safebooru.org/thumbnails/80/thumbnail_69d7fcac10b0e9694037d715f8a1c5b5d2c573f7.png\n"
     ]
    },
    {
     "name": "stderr",
     "output_type": "stream",
     "text": [
      "\r",
      "  0%|                                                                       | 1043/1055840 [18:37<312:35:08,  1.07s/it]"
     ]
    },
    {
     "name": "stdout",
     "output_type": "stream",
     "text": [
      "Warning: Could not download image girl\\1042 from https://safebooru.org/thumbnails/80/thumbnail_1847c5015d01bab315c3828755955be64699f679.png\n"
     ]
    },
    {
     "name": "stderr",
     "output_type": "stream",
     "text": [
      "\r",
      "  0%|                                                                       | 1044/1055840 [18:38<313:20:06,  1.07s/it]"
     ]
    },
    {
     "name": "stdout",
     "output_type": "stream",
     "text": [
      "Warning: Could not download image girl\\1043 from https://safebooru.org/thumbnails/80/thumbnail_7f9999280eb96c1631f09a33545d35796aa0e97d.png\n"
     ]
    },
    {
     "name": "stderr",
     "output_type": "stream",
     "text": [
      "  0%|                                                                       | 1049/1055840 [18:43<312:32:53,  1.07s/it]"
     ]
    },
    {
     "name": "stdout",
     "output_type": "stream",
     "text": [
      "Warning: Could not download image girl\\1048 from https://safebooru.org/thumbnails/81/thumbnail_f9fe2fc686dd829d3468b4fe9dcc57e49240dc3f.png\n"
     ]
    },
    {
     "name": "stderr",
     "output_type": "stream",
     "text": [
      "  0%|                                                                       | 1051/1055840 [18:45<311:09:49,  1.06s/it]"
     ]
    },
    {
     "name": "stdout",
     "output_type": "stream",
     "text": [
      "Warning: Could not download image girl\\1050 from https://safebooru.org/thumbnails/81/thumbnail_d6ca23aae34463889907b8c7af34a5d5d57556ca.png\n"
     ]
    },
    {
     "name": "stderr",
     "output_type": "stream",
     "text": [
      "  0%|                                                                       | 1054/1055840 [18:48<311:46:32,  1.06s/it]"
     ]
    },
    {
     "name": "stdout",
     "output_type": "stream",
     "text": [
      "Warning: Could not download image girl\\1053 from https://safebooru.org/thumbnails/81/thumbnail_288c72b8c6682c6ef77d813e4ac95398797e3a79.gif\n"
     ]
    },
    {
     "name": "stderr",
     "output_type": "stream",
     "text": [
      "\r",
      "  0%|                                                                       | 1055/1055840 [18:49<310:31:22,  1.06s/it]"
     ]
    },
    {
     "name": "stdout",
     "output_type": "stream",
     "text": [
      "Warning: Could not download image girl\\1054 from https://safebooru.org/thumbnails/81/thumbnail_5d23ebc9935f194c8729048d7a60d66c8bc70dfa.png\n"
     ]
    },
    {
     "name": "stderr",
     "output_type": "stream",
     "text": [
      "\r",
      "  0%|                                                                       | 1056/1055840 [18:51<312:05:59,  1.07s/it]"
     ]
    },
    {
     "name": "stdout",
     "output_type": "stream",
     "text": [
      "Warning: Could not download image girl\\1055 from https://safebooru.org/thumbnails/81/thumbnail_c0ef9a8d2e993f295607f302f6c2487455139191.png\n"
     ]
    },
    {
     "name": "stderr",
     "output_type": "stream",
     "text": [
      "\r",
      "  0%|                                                                       | 1057/1055840 [18:52<311:08:13,  1.06s/it]"
     ]
    },
    {
     "name": "stdout",
     "output_type": "stream",
     "text": [
      "Warning: Could not download image girl\\1056 from https://safebooru.org/thumbnails/81/thumbnail_1786f7aec4a1222f4ef90f3cac61bbaca6c31430.png\n"
     ]
    },
    {
     "name": "stderr",
     "output_type": "stream",
     "text": [
      "\r",
      "  0%|                                                                       | 1058/1055840 [18:53<311:04:29,  1.06s/it]"
     ]
    },
    {
     "name": "stdout",
     "output_type": "stream",
     "text": [
      "Warning: Could not download image girl\\1057 from https://safebooru.org/thumbnails/81/thumbnail_9bbcba67520cc7fbdc5dfd53b95f7c6dd6cd8ebd.png\n"
     ]
    },
    {
     "name": "stderr",
     "output_type": "stream",
     "text": [
      "  0%|                                                                       | 1071/1055840 [19:07<308:43:23,  1.05s/it]"
     ]
    },
    {
     "name": "stdout",
     "output_type": "stream",
     "text": [
      "Warning: Could not download image girl\\1070 from https://safebooru.org/thumbnails/83/thumbnail_6a18acf13dd85018031c36cb66d3681a770985ce.png\n"
     ]
    },
    {
     "name": "stderr",
     "output_type": "stream",
     "text": [
      "\r",
      "  0%|                                                                       | 1072/1055840 [19:08<309:33:14,  1.06s/it]"
     ]
    },
    {
     "name": "stdout",
     "output_type": "stream",
     "text": [
      "Warning: Could not download image girl\\1071 from https://safebooru.org/thumbnails/83/thumbnail_4e5d739431b78c435b180851ed793f6ea39162aa.jpeg\n"
     ]
    },
    {
     "name": "stderr",
     "output_type": "stream",
     "text": [
      "  0%|                                                                       | 1078/1055840 [19:14<328:37:04,  1.12s/it]"
     ]
    },
    {
     "name": "stdout",
     "output_type": "stream",
     "text": [
      "Warning: Could not download image girl\\1077 from https://safebooru.org/thumbnails/83/thumbnail_b8333a256e2e3f7633dd5d6d0d568e2f55706252.png\n"
     ]
    },
    {
     "name": "stderr",
     "output_type": "stream",
     "text": [
      "  0%|                                                                       | 1085/1055840 [19:22<314:54:38,  1.07s/it]"
     ]
    },
    {
     "name": "stdout",
     "output_type": "stream",
     "text": [
      "Warning: Could not download image girl\\1084 from https://safebooru.org/thumbnails/84/thumbnail_d0ccb355ae8534c6d37655c954b713480048b91a.png\n"
     ]
    },
    {
     "name": "stderr",
     "output_type": "stream",
     "text": [
      "\r",
      "  0%|                                                                       | 1086/1055840 [19:23<335:47:52,  1.15s/it]"
     ]
    },
    {
     "name": "stdout",
     "output_type": "stream",
     "text": [
      "Warning: Could not download image girl\\1085 from https://safebooru.org/thumbnails/84/thumbnail_a7e7b9eb92afcd56862cdc866040655b0da026de.jpeg\n"
     ]
    },
    {
     "name": "stderr",
     "output_type": "stream",
     "text": [
      "  0%|                                                                       | 1096/1055840 [19:34<315:31:45,  1.08s/it]"
     ]
    },
    {
     "name": "stdout",
     "output_type": "stream",
     "text": [
      "Warning: Could not download image girl\\1095 from https://safebooru.org/thumbnails/85/thumbnail_a991e8ba07d5ae75c7c83a03d41cab20357a4f6a.png\n"
     ]
    },
    {
     "name": "stderr",
     "output_type": "stream",
     "text": [
      "\r",
      "  0%|                                                                       | 1097/1055840 [19:35<316:18:28,  1.08s/it]"
     ]
    },
    {
     "name": "stdout",
     "output_type": "stream",
     "text": [
      "Warning: Could not download image girl\\1096 from https://safebooru.org/thumbnails/85/thumbnail_a12be2c73a46709ee7c53bfbcd1cdc1d627f614b.png\n"
     ]
    },
    {
     "name": "stderr",
     "output_type": "stream",
     "text": [
      "  0%|                                                                       | 1101/1055840 [19:39<311:22:22,  1.06s/it]"
     ]
    },
    {
     "name": "stdout",
     "output_type": "stream",
     "text": [
      "Warning: Could not download image girl\\1100 from https://safebooru.org/thumbnails/85/thumbnail_b12146e0620e32ac7cff4c0bcf1f9b1bfe00b444.png\n"
     ]
    },
    {
     "name": "stderr",
     "output_type": "stream",
     "text": [
      "  0%|                                                                       | 1119/1055840 [19:59<322:24:18,  1.10s/it]"
     ]
    },
    {
     "name": "stdout",
     "output_type": "stream",
     "text": [
      "Warning: Could not download image girl\\1118 from https://safebooru.org/thumbnails/87/thumbnail_696f8d0782224c1157eb53be6b5d4514747d2aea.png\n"
     ]
    },
    {
     "name": "stderr",
     "output_type": "stream",
     "text": [
      "  0%|                                                                       | 1135/1055840 [20:17<311:51:19,  1.06s/it]"
     ]
    },
    {
     "name": "stdout",
     "output_type": "stream",
     "text": [
      "Warning: Could not download image girl\\1134 from https://safebooru.org/thumbnails/88/thumbnail_bff0f1b60a3c3aadbfb1ee2675e90845a99a68ec.png\n"
     ]
    },
    {
     "name": "stderr",
     "output_type": "stream",
     "text": [
      "  0%|                                                                       | 1142/1055840 [20:24<311:54:14,  1.06s/it]"
     ]
    },
    {
     "name": "stdout",
     "output_type": "stream",
     "text": [
      "Warning: Could not download image girl\\1141 from https://safebooru.org/thumbnails/89/thumbnail_fc76d8f117257acc542515d18a6c03f332dc9367.png\n"
     ]
    },
    {
     "name": "stderr",
     "output_type": "stream",
     "text": [
      "  0%|                                                                       | 1144/1055840 [20:26<310:38:41,  1.06s/it]"
     ]
    },
    {
     "name": "stdout",
     "output_type": "stream",
     "text": [
      "Warning: Could not download image girl\\1143 from https://safebooru.org/thumbnails/89/thumbnail_fab273622b64dd8d8980021bc1884aa0b0dcfda0.png\n"
     ]
    },
    {
     "name": "stderr",
     "output_type": "stream",
     "text": [
      "\r",
      "  0%|                                                                       | 1145/1055840 [20:27<308:16:56,  1.05s/it]"
     ]
    },
    {
     "name": "stdout",
     "output_type": "stream",
     "text": [
      "Warning: Could not download image girl\\1144 from https://safebooru.org/thumbnails/89/thumbnail_df8a69463e0b572d1c8b92c9ce6c5e4d6d540b30.png\n"
     ]
    },
    {
     "name": "stderr",
     "output_type": "stream",
     "text": [
      "  0%|                                                                       | 1147/1055840 [20:29<306:59:04,  1.05s/it]"
     ]
    },
    {
     "name": "stdout",
     "output_type": "stream",
     "text": [
      "Warning: Could not download image girl\\1146 from https://safebooru.org/thumbnails/89/thumbnail_207e2e5645774f0acc0914e9133e752d41212d36.png\n"
     ]
    },
    {
     "name": "stderr",
     "output_type": "stream",
     "text": [
      "  0%|                                                                       | 1153/1055840 [20:36<329:36:36,  1.13s/it]"
     ]
    },
    {
     "name": "stdout",
     "output_type": "stream",
     "text": [
      "Warning: Could not download image girl\\1152 from https://safebooru.org/thumbnails/90/thumbnail_473c307168920908ca61bd0803cdb54cf6cbbdbd.jpeg\n"
     ]
    },
    {
     "name": "stderr",
     "output_type": "stream",
     "text": [
      "  0%|                                                                       | 1157/1055840 [20:42<388:36:10,  1.33s/it]"
     ]
    },
    {
     "name": "stdout",
     "output_type": "stream",
     "text": [
      "Warning: Could not download image girl\\1156 from https://safebooru.org/thumbnails/90/thumbnail_1854a07cb26b7005228c78891b6fe4efdbb79a2b.png\n"
     ]
    },
    {
     "name": "stderr",
     "output_type": "stream",
     "text": [
      "\r",
      "  0%|                                                                       | 1158/1055840 [20:43<362:22:30,  1.24s/it]"
     ]
    },
    {
     "name": "stdout",
     "output_type": "stream",
     "text": [
      "Warning: Could not download image girl\\1157 from https://safebooru.org/thumbnails/90/thumbnail_6d6189a2fc679edb5b73eebac30996eb20221881.png\n"
     ]
    },
    {
     "name": "stderr",
     "output_type": "stream",
     "text": [
      "\r",
      "  0%|                                                                       | 1159/1055840 [20:44<346:08:56,  1.18s/it]"
     ]
    },
    {
     "name": "stdout",
     "output_type": "stream",
     "text": [
      "Warning: Could not download image girl\\1158 from https://safebooru.org/thumbnails/90/thumbnail_4f4db64fac09266c52b8df3eadec9cc8a4f7fb8c.gif\n"
     ]
    },
    {
     "name": "stderr",
     "output_type": "stream",
     "text": [
      "  0%|                                                                       | 1171/1055840 [20:57<334:14:01,  1.14s/it]"
     ]
    },
    {
     "name": "stdout",
     "output_type": "stream",
     "text": [
      "Warning: Could not download image girl\\1170 from https://safebooru.org/thumbnails/91/thumbnail_a19328fc49f0d16821a11c914bff2717b69606a7.png\n"
     ]
    },
    {
     "name": "stderr",
     "output_type": "stream",
     "text": [
      "  0%|                                                                       | 1173/1055840 [20:59<322:52:15,  1.10s/it]"
     ]
    },
    {
     "name": "stdout",
     "output_type": "stream",
     "text": [
      "Warning: Could not download image girl\\1172 from https://safebooru.org/thumbnails/91/thumbnail_d3a8c3d46f1245ffc0760f286d813d1b66c2ebb8.png\n"
     ]
    },
    {
     "name": "stderr",
     "output_type": "stream",
     "text": [
      "  0%|                                                                       | 1183/1055840 [21:10<312:34:50,  1.07s/it]"
     ]
    },
    {
     "name": "stdout",
     "output_type": "stream",
     "text": [
      "Warning: Could not download image girl\\1182 from https://safebooru.org/thumbnails/92/thumbnail_984a164808e01f5be12c0feec2235b58ee7c1f74.png\n"
     ]
    },
    {
     "name": "stderr",
     "output_type": "stream",
     "text": [
      "  0%|                                                                       | 1194/1055840 [21:22<292:37:38,  1.00it/s]"
     ]
    },
    {
     "name": "stdout",
     "output_type": "stream",
     "text": [
      "Warning: Could not download image girl\\1193 from https://safebooru.org/thumbnails/93/thumbnail_036a757c53e1bb04c66e619b69bbe5a455baa7bf.png\n"
     ]
    },
    {
     "name": "stderr",
     "output_type": "stream",
     "text": [
      "  0%|                                                                       | 1198/1055840 [21:27<308:08:02,  1.05s/it]"
     ]
    },
    {
     "name": "stdout",
     "output_type": "stream",
     "text": [
      "Warning: Could not download image girl\\1197 from https://safebooru.org/thumbnails/93/thumbnail_934a946fc962449129ca09feab3a676f8c02332a.png\n"
     ]
    },
    {
     "name": "stderr",
     "output_type": "stream",
     "text": [
      "  0%|                                                                       | 1204/1055840 [21:33<310:16:45,  1.06s/it]"
     ]
    },
    {
     "name": "stdout",
     "output_type": "stream",
     "text": [
      "Warning: Could not download image girl\\1203 from https://safebooru.org/thumbnails/93/thumbnail_ba71133b5913618ed6af33ed66ec789bba460d51.png\n"
     ]
    },
    {
     "name": "stderr",
     "output_type": "stream",
     "text": [
      "  0%|                                                                       | 1212/1055840 [21:42<321:50:10,  1.10s/it]"
     ]
    },
    {
     "name": "stdout",
     "output_type": "stream",
     "text": [
      "Warning: Could not download image girl\\1211 from https://safebooru.org/thumbnails/94/thumbnail_f8db5c01ac68c937fc974ac800bc2d9f0448f815.jpeg\n"
     ]
    },
    {
     "name": "stderr",
     "output_type": "stream",
     "text": [
      "  0%|                                                                       | 1217/1055840 [21:47<314:42:53,  1.07s/it]"
     ]
    },
    {
     "name": "stdout",
     "output_type": "stream",
     "text": [
      "Warning: Could not download image girl\\1216 from https://safebooru.org/thumbnails/94/thumbnail_8eeb53ff8a6a765f5bb062b5f490e19182af2ec2.jpeg\n"
     ]
    },
    {
     "name": "stderr",
     "output_type": "stream",
     "text": [
      "  0%|                                                                       | 1219/1055840 [21:49<311:53:16,  1.06s/it]"
     ]
    },
    {
     "name": "stdout",
     "output_type": "stream",
     "text": [
      "Warning: Could not download image girl\\1218 from https://safebooru.org/thumbnails/94/thumbnail_09cae11a88bf1edc9572e5bd69ca9b3b6c9149d0.png\n"
     ]
    },
    {
     "name": "stderr",
     "output_type": "stream",
     "text": [
      "  0%|                                                                       | 1224/1055840 [21:55<395:26:03,  1.35s/it]"
     ]
    },
    {
     "name": "stdout",
     "output_type": "stream",
     "text": [
      "Warning: Could not download image girl\\1223 from https://safebooru.org/thumbnails/94/thumbnail_1521d8eaaebd51082d2db61a209b4321252d2cb5.png\n"
     ]
    },
    {
     "name": "stderr",
     "output_type": "stream",
     "text": [
      "  0%|                                                                       | 1246/1055840 [22:19<319:42:34,  1.09s/it]"
     ]
    },
    {
     "name": "stdout",
     "output_type": "stream",
     "text": [
      "Warning: Could not download image girl\\1245 from https://safebooru.org/thumbnails/95/thumbnail_2a40befef90d5565a5db6ae0a1e150522ce97a9d.gif\n"
     ]
    },
    {
     "name": "stderr",
     "output_type": "stream",
     "text": [
      "  0%|                                                                       | 1253/1055840 [22:26<283:59:37,  1.03it/s]"
     ]
    },
    {
     "name": "stdout",
     "output_type": "stream",
     "text": [
      "Warning: Could not download image girl\\1252 from https://safebooru.org/thumbnails/96/thumbnail_87cdb8ac42406381f29b16a988618fd8697d2fed.png\n"
     ]
    },
    {
     "name": "stderr",
     "output_type": "stream",
     "text": [
      "  0%|                                                                       | 1258/1055840 [22:31<314:58:05,  1.08s/it]"
     ]
    },
    {
     "name": "stdout",
     "output_type": "stream",
     "text": [
      "Warning: Could not download image girl\\1257 from https://safebooru.org/thumbnails/97/thumbnail_301359d04f3dccea7c51db9e7d32e0fde1103d38.png\n"
     ]
    },
    {
     "name": "stderr",
     "output_type": "stream",
     "text": [
      "  0%|                                                                       | 1264/1055840 [22:37<307:31:57,  1.05s/it]"
     ]
    },
    {
     "name": "stdout",
     "output_type": "stream",
     "text": [
      "Warning: Could not download image girl\\1263 from https://safebooru.org/thumbnails/98/thumbnail_31463f80bf7eddfb3348753fa2ccbae14670c383.png\n"
     ]
    },
    {
     "name": "stderr",
     "output_type": "stream",
     "text": [
      "  0%|                                                                       | 1272/1055840 [22:46<328:14:53,  1.12s/it]"
     ]
    },
    {
     "name": "stdout",
     "output_type": "stream",
     "text": [
      "Warning: Could not download image girl\\1271 from https://safebooru.org/thumbnails/98/thumbnail_b588c5e080c0e2e2371613fbbe25f823eb6a9147.png\n"
     ]
    },
    {
     "name": "stderr",
     "output_type": "stream",
     "text": [
      "  0%|                                                                       | 1280/1055840 [22:54<309:25:01,  1.06s/it]"
     ]
    },
    {
     "name": "stdout",
     "output_type": "stream",
     "text": [
      "Warning: Could not download image girl\\1279 from https://safebooru.org/thumbnails/99/thumbnail_62fa7873ecadec0b55228c615056bae021f197f6.png\n"
     ]
    },
    {
     "name": "stderr",
     "output_type": "stream",
     "text": [
      "  0%|                                                                       | 1282/1055840 [22:57<308:04:00,  1.05s/it]"
     ]
    },
    {
     "name": "stdout",
     "output_type": "stream",
     "text": [
      "Warning: Could not download image girl\\1281 from https://safebooru.org/thumbnails/99/thumbnail_e1226d7f3d4ccdbc539b95a7f8f92d7777f0bcfe.png\n"
     ]
    },
    {
     "name": "stderr",
     "output_type": "stream",
     "text": [
      "  0%|                                                                       | 1284/1055840 [22:59<309:52:54,  1.06s/it]"
     ]
    },
    {
     "name": "stdout",
     "output_type": "stream",
     "text": [
      "Warning: Could not download image girl\\1283 from https://safebooru.org/thumbnails/99/thumbnail_84899f73a61134b27eb721c247d751aac31637e3.jpeg\n"
     ]
    },
    {
     "name": "stderr",
     "output_type": "stream",
     "text": [
      "  0%|                                                                       | 1290/1055840 [23:05<306:33:21,  1.05s/it]"
     ]
    },
    {
     "name": "stdout",
     "output_type": "stream",
     "text": [
      "Warning: Could not download image girl\\1289 from https://safebooru.org/thumbnails/99/thumbnail_c2c4c5958562c9b562d84d883fc7ff10f0263855.png\n"
     ]
    },
    {
     "name": "stderr",
     "output_type": "stream",
     "text": [
      "\r",
      "  0%|                                                                       | 1291/1055840 [23:06<306:30:45,  1.05s/it]"
     ]
    },
    {
     "name": "stdout",
     "output_type": "stream",
     "text": [
      "Warning: Could not download image girl\\1290 from https://safebooru.org/thumbnails/100/thumbnail_41d7a826d76828568ddd3b49fcc192162a5454da.png\n"
     ]
    },
    {
     "name": "stderr",
     "output_type": "stream",
     "text": [
      "  0%|                                                                       | 1293/1055840 [23:07<265:23:47,  1.10it/s]"
     ]
    },
    {
     "name": "stdout",
     "output_type": "stream",
     "text": [
      "Warning: Could not download image girl\\1292 from https://safebooru.org/thumbnails/100/thumbnail_7096088427a5f24bf0a791053b8a696ab81ba9ed.png\n"
     ]
    },
    {
     "name": "stderr",
     "output_type": "stream",
     "text": [
      "  0%|                                                                       | 1296/1055840 [23:11<297:18:32,  1.01s/it]"
     ]
    },
    {
     "name": "stdout",
     "output_type": "stream",
     "text": [
      "Warning: Could not download image girl\\1295 from https://safebooru.org/thumbnails/100/thumbnail_45094ed947774a30bf4b70aa36f7dcf43753545f.png\n"
     ]
    },
    {
     "name": "stderr",
     "output_type": "stream",
     "text": [
      "  0%|                                                                       | 1302/1055840 [23:17<307:38:48,  1.05s/it]"
     ]
    },
    {
     "name": "stdout",
     "output_type": "stream",
     "text": [
      "Warning: Could not download image girl\\1301 from https://safebooru.org/thumbnails/101/thumbnail_0b4987ca0f69b50f8bcac9ec741871a2a3e25df6.png\n"
     ]
    },
    {
     "name": "stderr",
     "output_type": "stream",
     "text": [
      "  0%|                                                                       | 1312/1055840 [23:28<339:51:10,  1.16s/it]"
     ]
    },
    {
     "name": "stdout",
     "output_type": "stream",
     "text": [
      "Warning: Could not download image girl\\1311 from https://safebooru.org/thumbnails/102/thumbnail_61b9f87de53fb9061ccc74c1d86fed351f2731da.jpeg\n"
     ]
    },
    {
     "name": "stderr",
     "output_type": "stream",
     "text": [
      "  0%|                                                                       | 1318/1055840 [23:35<313:44:27,  1.07s/it]"
     ]
    },
    {
     "name": "stdout",
     "output_type": "stream",
     "text": [
      "Warning: Could not download image girl\\1317 from https://safebooru.org/thumbnails/102/thumbnail_7643bbadf0c0246c2ca018838da2fc807836b643.jpeg\n"
     ]
    },
    {
     "name": "stderr",
     "output_type": "stream",
     "text": [
      "  0%|                                                                       | 1323/1055840 [23:40<307:41:29,  1.05s/it]"
     ]
    },
    {
     "name": "stdout",
     "output_type": "stream",
     "text": [
      "Warning: Could not download image girl\\1322 from https://safebooru.org/thumbnails/102/thumbnail_24d2c8974fe357eceee73d852cd8887b076b621b.png\n"
     ]
    },
    {
     "name": "stderr",
     "output_type": "stream",
     "text": [
      "  0%|                                                                       | 1331/1055840 [23:48<309:43:33,  1.06s/it]"
     ]
    },
    {
     "name": "stdout",
     "output_type": "stream",
     "text": [
      "Warning: Could not download image girl\\1330 from https://safebooru.org/thumbnails/103/thumbnail_9a697ad3d92484bccecf7ff10b3b1071d83adcc9.png\n"
     ]
    },
    {
     "name": "stderr",
     "output_type": "stream",
     "text": [
      "  0%|                                                                       | 1336/1055840 [23:54<329:21:34,  1.12s/it]"
     ]
    },
    {
     "name": "stdout",
     "output_type": "stream",
     "text": [
      "Warning: Could not download image girl\\1335 from https://safebooru.org/thumbnails/103/thumbnail_585997e41bbb8b888060a1873f3d27b5b54cef4a.png\n"
     ]
    },
    {
     "name": "stderr",
     "output_type": "stream",
     "text": [
      "  0%|                                                                       | 1339/1055840 [23:57<320:07:22,  1.09s/it]"
     ]
    },
    {
     "name": "stdout",
     "output_type": "stream",
     "text": [
      "Warning: Could not download image girl\\1338 from https://safebooru.org/thumbnails/103/thumbnail_b159cc50989e8bfd93386a974a6a4f2ea1fdfe80.png\n"
     ]
    },
    {
     "name": "stderr",
     "output_type": "stream",
     "text": [
      "  0%|                                                                       | 1343/1055840 [24:01<310:29:13,  1.06s/it]"
     ]
    },
    {
     "name": "stdout",
     "output_type": "stream",
     "text": [
      "Warning: Could not download image girl\\1342 from https://safebooru.org/thumbnails/103/thumbnail_817ba4b3e9a25e5cd292942b890fc5fb624bdd24.jpeg\n"
     ]
    },
    {
     "name": "stderr",
     "output_type": "stream",
     "text": [
      "  0%|                                                                       | 1345/1055840 [24:03<310:55:22,  1.06s/it]"
     ]
    },
    {
     "name": "stdout",
     "output_type": "stream",
     "text": [
      "Warning: Could not download image girl\\1344 from https://safebooru.org/thumbnails/103/thumbnail_f31ce1c714702a44e7001832df97bd71563e6d8e.png\n"
     ]
    },
    {
     "name": "stderr",
     "output_type": "stream",
     "text": [
      "\r",
      "  0%|                                                                       | 1346/1055840 [24:04<313:58:58,  1.07s/it]"
     ]
    },
    {
     "name": "stdout",
     "output_type": "stream",
     "text": [
      "Warning: Could not download image girl\\1345 from https://safebooru.org/thumbnails/103/thumbnail_b853e512b498556e9edc985bce3ff824c73d3113.gif\n"
     ]
    },
    {
     "name": "stderr",
     "output_type": "stream",
     "text": [
      "  0%|                                                                       | 1353/1055840 [24:12<310:18:01,  1.06s/it]"
     ]
    },
    {
     "name": "stdout",
     "output_type": "stream",
     "text": [
      "Warning: Could not download image girl\\1352 from https://safebooru.org/thumbnails/104/thumbnail_f6f5dfd5cce69dbe48ea20859145972e29a0168f.gif\n"
     ]
    },
    {
     "name": "stderr",
     "output_type": "stream",
     "text": [
      "\r",
      "  0%|                                                                       | 1354/1055840 [24:13<309:56:14,  1.06s/it]"
     ]
    },
    {
     "name": "stdout",
     "output_type": "stream",
     "text": [
      "Warning: Could not download image girl\\1353 from https://safebooru.org/thumbnails/105/thumbnail_062c66f7d8667f2ebc44b9a8309d0441c15da60e.jpeg\n"
     ]
    },
    {
     "name": "stderr",
     "output_type": "stream",
     "text": [
      "  0%|                                                                       | 1359/1055840 [24:18<312:21:45,  1.07s/it]"
     ]
    },
    {
     "name": "stdout",
     "output_type": "stream",
     "text": [
      "Warning: Could not download image girl\\1358 from https://safebooru.org/thumbnails/105/thumbnail_3048b6b98e5c59c8c2a3a7419e46a10a0d05cd19.png\n"
     ]
    },
    {
     "name": "stderr",
     "output_type": "stream",
     "text": [
      "  0%|                                                                       | 1364/1055840 [24:24<310:39:53,  1.06s/it]"
     ]
    },
    {
     "name": "stdout",
     "output_type": "stream",
     "text": [
      "Warning: Could not download image girl\\1363 from https://safebooru.org/thumbnails/106/thumbnail_27e1ebe9b7669dba4f9dadfc8885bcd9100f56bc.png\n"
     ]
    },
    {
     "name": "stderr",
     "output_type": "stream",
     "text": [
      "  0%|                                                                       | 1368/1055840 [24:28<317:13:24,  1.08s/it]"
     ]
    },
    {
     "name": "stdout",
     "output_type": "stream",
     "text": [
      "Warning: Could not download image girl\\1367 from https://safebooru.org/thumbnails/106/thumbnail_2af4153d59d03a1987d63eb94f05db14164ddeda.png\n"
     ]
    },
    {
     "name": "stderr",
     "output_type": "stream",
     "text": [
      "  0%|                                                                       | 1370/1055840 [24:31<351:36:37,  1.20s/it]"
     ]
    },
    {
     "name": "stdout",
     "output_type": "stream",
     "text": [
      "Warning: Could not download image girl\\1369 from https://safebooru.org/thumbnails/106/thumbnail_cd66cae104d76eadb29a6813d442e20b96906f9e.png\n"
     ]
    },
    {
     "name": "stderr",
     "output_type": "stream",
     "text": [
      "  0%|                                                                       | 1374/1055840 [24:36<382:39:19,  1.31s/it]"
     ]
    },
    {
     "name": "stdout",
     "output_type": "stream",
     "text": [
      "Warning: Could not download image girl\\1373 from https://safebooru.org/thumbnails/106/thumbnail_92a11ecc2de0c66ce6f0e609afa2f74f79cca138.png\n"
     ]
    },
    {
     "name": "stderr",
     "output_type": "stream",
     "text": [
      "  0%|                                                                       | 1377/1055840 [24:39<336:47:35,  1.15s/it]"
     ]
    },
    {
     "name": "stdout",
     "output_type": "stream",
     "text": [
      "Warning: Could not download image girl\\1376 from https://safebooru.org/thumbnails/107/thumbnail_1bc4e62ce12b1cf0b274a6c664748e99e73b1601.gif\n"
     ]
    },
    {
     "name": "stderr",
     "output_type": "stream",
     "text": [
      "  0%|                                                                       | 1382/1055840 [24:44<319:10:58,  1.09s/it]"
     ]
    },
    {
     "name": "stdout",
     "output_type": "stream",
     "text": [
      "Warning: Could not download image girl\\1381 from https://safebooru.org/thumbnails/107/thumbnail_6594c47975acf75b3bac782c050bfbf3b6b9111d.png\n"
     ]
    },
    {
     "name": "stderr",
     "output_type": "stream",
     "text": [
      "  0%|                                                                       | 1391/1055840 [24:53<287:55:14,  1.02it/s]"
     ]
    },
    {
     "name": "stdout",
     "output_type": "stream",
     "text": [
      "Warning: Could not download image girl\\1390 from https://safebooru.org/thumbnails/108/thumbnail_9bf2d9add40891cd2fd5734b7b4429e957b2b4c8.png\n"
     ]
    },
    {
     "name": "stderr",
     "output_type": "stream",
     "text": [
      "  0%|                                                                       | 1399/1055840 [25:02<273:58:11,  1.07it/s]"
     ]
    },
    {
     "name": "stdout",
     "output_type": "stream",
     "text": [
      "Warning: Could not download image girl\\1398 from https://safebooru.org/thumbnails/108/thumbnail_eb6b447559dc4cfdc09168acaac1896ec53182cd.png\n"
     ]
    },
    {
     "name": "stderr",
     "output_type": "stream",
     "text": [
      "  0%|                                                                       | 1404/1055840 [25:07<302:42:36,  1.03s/it]"
     ]
    },
    {
     "name": "stdout",
     "output_type": "stream",
     "text": [
      "Warning: Could not download image girl\\1403 from https://safebooru.org/thumbnails/108/thumbnail_0553fa15cea19adf88a9b8c1f7db7e1e0f0ce2cb.png\n"
     ]
    },
    {
     "name": "stderr",
     "output_type": "stream",
     "text": [
      "  0%|                                                                       | 1416/1055840 [25:19<305:42:44,  1.04s/it]"
     ]
    },
    {
     "name": "stdout",
     "output_type": "stream",
     "text": [
      "Warning: Could not download image girl\\1415 from https://safebooru.org/thumbnails/109/thumbnail_e984b062cd6d787f8009669bb9d6f5e7539e373a.png\n"
     ]
    },
    {
     "name": "stderr",
     "output_type": "stream",
     "text": [
      "  0%|                                                                       | 1418/1055840 [25:21<307:08:36,  1.05s/it]"
     ]
    },
    {
     "name": "stdout",
     "output_type": "stream",
     "text": [
      "Warning: Could not download image girl\\1417 from https://safebooru.org/thumbnails/109/thumbnail_777ce097a2cde6bb77e42e3342249b5a3b2ff950.jpeg\n"
     ]
    },
    {
     "name": "stderr",
     "output_type": "stream",
     "text": [
      "  0%|                                                                       | 1430/1055840 [25:34<304:00:58,  1.04s/it]"
     ]
    },
    {
     "name": "stdout",
     "output_type": "stream",
     "text": [
      "Warning: Could not download image girl\\1429 from https://safebooru.org/thumbnails/111/thumbnail_618f38996aa71298e7000a7bf2541decf0437a1b.jpeg\n"
     ]
    },
    {
     "name": "stderr",
     "output_type": "stream",
     "text": [
      "  0%|                                                                       | 1434/1055840 [25:38<308:05:31,  1.05s/it]"
     ]
    },
    {
     "name": "stdout",
     "output_type": "stream",
     "text": [
      "Warning: Could not download image girl\\1433 from https://safebooru.org/thumbnails/111/thumbnail_5991f129ebb57070f0a49779564995c98f9445ba.jpeg\n"
     ]
    },
    {
     "name": "stderr",
     "output_type": "stream",
     "text": [
      "\r",
      "  0%|                                                                       | 1435/1055840 [25:39<309:18:02,  1.06s/it]"
     ]
    },
    {
     "name": "stdout",
     "output_type": "stream",
     "text": [
      "Warning: Could not download image girl\\1434 from https://safebooru.org/thumbnails/111/thumbnail_2ef68205393ee1a57f18b93bb126e1d0e4a348eb.jpeg\n"
     ]
    },
    {
     "name": "stderr",
     "output_type": "stream",
     "text": [
      "  0%|                                                                       | 1438/1055840 [25:42<317:09:05,  1.08s/it]"
     ]
    },
    {
     "name": "stdout",
     "output_type": "stream",
     "text": [
      "Warning: Could not download image girl\\1437 from https://safebooru.org/thumbnails/112/thumbnail_dfab04ac79b84859feca8176d72af501ee686e8a.png\n"
     ]
    },
    {
     "name": "stderr",
     "output_type": "stream",
     "text": [
      "  0%|                                                                       | 1443/1055840 [25:48<310:44:51,  1.06s/it]"
     ]
    },
    {
     "name": "stdout",
     "output_type": "stream",
     "text": [
      "Warning: Could not download image girl\\1442 from https://safebooru.org/thumbnails/112/thumbnail_1aae45c3d74b116ad18100ba42573f50d2e4018f.png\n"
     ]
    },
    {
     "name": "stderr",
     "output_type": "stream",
     "text": [
      "\r",
      "  0%|                                                                       | 1444/1055840 [25:49<309:17:48,  1.06s/it]"
     ]
    },
    {
     "name": "stdout",
     "output_type": "stream",
     "text": [
      "Warning: Could not download image girl\\1443 from https://safebooru.org/thumbnails/113/thumbnail_cec0d62440a575129aeeb9063beb3182045cd4f8.jpeg\n"
     ]
    },
    {
     "name": "stderr",
     "output_type": "stream",
     "text": [
      "  0%|                                                                       | 1461/1055840 [26:06<297:22:00,  1.02s/it]"
     ]
    },
    {
     "name": "stdout",
     "output_type": "stream",
     "text": [
      "Warning: Could not download image girl\\1460 from https://safebooru.org/thumbnails/114/thumbnail_a32224625576f7abc6dd2585aeadd85da3eeb2ed.png\n"
     ]
    },
    {
     "name": "stderr",
     "output_type": "stream",
     "text": [
      "\r",
      "  0%|                                                                       | 1462/1055840 [26:07<238:49:36,  1.23it/s]"
     ]
    },
    {
     "name": "stdout",
     "output_type": "stream",
     "text": [
      "Warning: Could not download image girl\\1461 from https://safebooru.org/thumbnails/114/thumbnail_2aa0799a15f3f913e2d13fccda2f141137fc6205.jpeg\n"
     ]
    },
    {
     "name": "stderr",
     "output_type": "stream",
     "text": [
      "  0%|                                                                       | 1468/1055840 [26:13<302:28:15,  1.03s/it]"
     ]
    },
    {
     "name": "stdout",
     "output_type": "stream",
     "text": [
      "Warning: Could not download image girl\\1467 from https://safebooru.org/thumbnails/114/thumbnail_af365c91581d66011382fd3899cad072bf5d84f8.png\n"
     ]
    },
    {
     "name": "stderr",
     "output_type": "stream",
     "text": [
      "  0%|                                                                       | 1470/1055840 [26:16<327:09:54,  1.12s/it]"
     ]
    },
    {
     "name": "stdout",
     "output_type": "stream",
     "text": [
      "Warning: Could not download image girl\\1469 from https://safebooru.org/thumbnails/114/thumbnail_0605fd38922baa5b258c468639d22705b2e15432.png\n"
     ]
    },
    {
     "name": "stderr",
     "output_type": "stream",
     "text": [
      "  0%|                                                                       | 1476/1055840 [26:22<311:57:47,  1.07s/it]"
     ]
    },
    {
     "name": "stdout",
     "output_type": "stream",
     "text": [
      "Warning: Could not download image girl\\1475 from https://safebooru.org/thumbnails/115/thumbnail_d2866717946e5e7dd0adda7f386b42ca33e56080.gif\n"
     ]
    },
    {
     "name": "stderr",
     "output_type": "stream",
     "text": [
      "\r",
      "  0%|                                                                       | 1477/1055840 [26:23<313:23:19,  1.07s/it]"
     ]
    },
    {
     "name": "stdout",
     "output_type": "stream",
     "text": [
      "Warning: Could not download image girl\\1476 from https://safebooru.org/thumbnails/115/thumbnail_46cb90455eb18bf7e7cb826d38e395f88a006f8d.png\n"
     ]
    },
    {
     "name": "stderr",
     "output_type": "stream",
     "text": [
      "  0%|                                                                       | 1479/1055840 [26:25<312:59:36,  1.07s/it]"
     ]
    },
    {
     "name": "stdout",
     "output_type": "stream",
     "text": [
      "Warning: Could not download image girl\\1478 from https://safebooru.org/thumbnails/115/thumbnail_06ca5938c5576403088172e62a317b9672b692d9.png\n"
     ]
    },
    {
     "name": "stderr",
     "output_type": "stream",
     "text": [
      "  0%|                                                                       | 1481/1055840 [26:27<332:01:22,  1.13s/it]"
     ]
    },
    {
     "name": "stdout",
     "output_type": "stream",
     "text": [
      "Warning: Could not download image girl\\1480 from https://safebooru.org/thumbnails/115/thumbnail_cf7c52366bd451331fb13eaaf67287d714a14e1c.png\n"
     ]
    },
    {
     "name": "stderr",
     "output_type": "stream",
     "text": [
      "  0%|                                                                       | 1489/1055840 [26:36<314:30:04,  1.07s/it]"
     ]
    },
    {
     "name": "stdout",
     "output_type": "stream",
     "text": [
      "Warning: Could not download image girl\\1488 from https://safebooru.org/thumbnails/116/thumbnail_cc80eb198c61d40c4a696f76cd14d68bc9cdb595.jpeg\n"
     ]
    },
    {
     "name": "stderr",
     "output_type": "stream",
     "text": [
      "  0%|                                                                       | 1495/1055840 [26:43<343:57:25,  1.17s/it]"
     ]
    },
    {
     "name": "stdout",
     "output_type": "stream",
     "text": [
      "Warning: Could not download image girl\\1494 from https://safebooru.org/thumbnails/116/thumbnail_bd38fcd7941f658ea4ff67c3770f26a9bce6bcb5.png\n"
     ]
    },
    {
     "name": "stderr",
     "output_type": "stream",
     "text": [
      "  0%|                                                                       | 1498/1055840 [26:45<259:36:15,  1.13it/s]"
     ]
    },
    {
     "name": "stdout",
     "output_type": "stream",
     "text": [
      "Warning: Could not download image girl\\1497 from https://safebooru.org/thumbnails/116/thumbnail_9cd4b1f5b3034d5759e333056ad6621e80ea3e24.jpeg\n"
     ]
    },
    {
     "name": "stderr",
     "output_type": "stream",
     "text": [
      "\r",
      "  0%|                                                                       | 1499/1055840 [26:46<273:34:41,  1.07it/s]"
     ]
    },
    {
     "name": "stdout",
     "output_type": "stream",
     "text": [
      "Warning: Could not download image girl\\1498 from https://safebooru.org/thumbnails/116/thumbnail_2ebde92ce3ed193340941047cae959e5d7e09031.jpeg\n"
     ]
    },
    {
     "name": "stderr",
     "output_type": "stream",
     "text": [
      "  0%|                                                                       | 1507/1055840 [26:55<306:05:28,  1.05s/it]"
     ]
    },
    {
     "name": "stdout",
     "output_type": "stream",
     "text": [
      "Warning: Could not download image girl\\1506 from https://safebooru.org/thumbnails/117/thumbnail_31ded5d9eef636366f474c1685e250253c08001c.png\n"
     ]
    },
    {
     "name": "stderr",
     "output_type": "stream",
     "text": [
      "  0%|                                                                       | 1512/1055840 [26:59<295:26:35,  1.01s/it]"
     ]
    },
    {
     "name": "stdout",
     "output_type": "stream",
     "text": [
      "Warning: Could not download image girl\\1511 from https://safebooru.org/thumbnails/117/thumbnail_a693cddd869244c57c4aa2ab8035b325bd40c0e1.jpeg\n"
     ]
    },
    {
     "name": "stderr",
     "output_type": "stream",
     "text": [
      "  0%|                                                                       | 1525/1055840 [27:13<307:23:44,  1.05s/it]"
     ]
    },
    {
     "name": "stdout",
     "output_type": "stream",
     "text": [
      "Warning: Could not download image girl\\1524 from https://safebooru.org/thumbnails/117/thumbnail_c5edf011b8bad49b5687cc0596c88f3d6a091fb0.png\n"
     ]
    },
    {
     "name": "stderr",
     "output_type": "stream",
     "text": [
      "  0%|                                                                       | 1533/1055840 [27:22<309:20:46,  1.06s/it]"
     ]
    },
    {
     "name": "stdout",
     "output_type": "stream",
     "text": [
      "Warning: Could not download image girl\\1532 from https://safebooru.org/thumbnails/118/thumbnail_e70a01101bd8610e6d9283a61669e07206c09f5d.jpeg\n"
     ]
    },
    {
     "name": "stderr",
     "output_type": "stream",
     "text": [
      "  0%|                                                                       | 1537/1055840 [27:26<321:41:50,  1.10s/it]"
     ]
    },
    {
     "name": "stdout",
     "output_type": "stream",
     "text": [
      "Warning: Could not download image girl\\1536 from https://safebooru.org/thumbnails/118/thumbnail_c0989a33b81fc5a2dbd9aea541a976fe7f724471.png\n"
     ]
    },
    {
     "name": "stderr",
     "output_type": "stream",
     "text": [
      "  0%|                                                                       | 1545/1055840 [27:35<307:17:42,  1.05s/it]"
     ]
    },
    {
     "name": "stdout",
     "output_type": "stream",
     "text": [
      "Warning: Could not download image girl\\1544 from https://safebooru.org/thumbnails/119/thumbnail_66ab1e281d67a9c1b1990e5c1eddd566bd6fca2d.jpeg\n"
     ]
    },
    {
     "name": "stderr",
     "output_type": "stream",
     "text": [
      "  0%|                                                                       | 1563/1055840 [27:54<311:47:28,  1.06s/it]"
     ]
    },
    {
     "name": "stdout",
     "output_type": "stream",
     "text": [
      "Warning: Could not download image girl\\1562 from https://safebooru.org/thumbnails/120/thumbnail_bcc8d28f9a984fd91188b7ca9f7b621da542eb5f.jpeg\n"
     ]
    },
    {
     "name": "stderr",
     "output_type": "stream",
     "text": [
      "  0%|                                                                       | 1572/1055840 [28:03<311:36:58,  1.06s/it]"
     ]
    },
    {
     "name": "stdout",
     "output_type": "stream",
     "text": [
      "Warning: Could not download image girl\\1571 from https://safebooru.org/thumbnails/120/thumbnail_9d71e2199d320f900323ffd67b8c69e611953e16.png\n"
     ]
    },
    {
     "name": "stderr",
     "output_type": "stream",
     "text": [
      "  0%|                                                                       | 1576/1055840 [28:08<313:29:54,  1.07s/it]"
     ]
    },
    {
     "name": "stdout",
     "output_type": "stream",
     "text": [
      "Warning: Could not download image girl\\1575 from https://safebooru.org/thumbnails/120/thumbnail_3c76a58d47f12a974674155cb63ce91355471554.png\n"
     ]
    },
    {
     "name": "stderr",
     "output_type": "stream",
     "text": [
      "  0%|                                                                       | 1586/1055840 [28:18<311:43:37,  1.06s/it]"
     ]
    },
    {
     "name": "stdout",
     "output_type": "stream",
     "text": [
      "Warning: Could not download image girl\\1585 from https://safebooru.org/thumbnails/121/thumbnail_2a697ddbc651be8127f72d20acf7f2f570ac50d1.jpeg\n"
     ]
    },
    {
     "name": "stderr",
     "output_type": "stream",
     "text": [
      "  0%|                                                                       | 1588/1055840 [28:20<323:31:35,  1.10s/it]"
     ]
    },
    {
     "name": "stdout",
     "output_type": "stream",
     "text": [
      "Warning: Could not download image girl\\1587 from https://safebooru.org/thumbnails/121/thumbnail_9d6d11dee59cd8fcd31cf6e5d9886ca1b25fbdc8.png\n"
     ]
    },
    {
     "name": "stderr",
     "output_type": "stream",
     "text": [
      "\r",
      "  0%|                                                                       | 1589/1055840 [28:22<327:29:52,  1.12s/it]"
     ]
    },
    {
     "name": "stdout",
     "output_type": "stream",
     "text": [
      "Warning: Could not download image girl\\1588 from https://safebooru.org/thumbnails/121/thumbnail_e5854ca69e686242b71a3b5c006010ea4e311745.png\n"
     ]
    },
    {
     "name": "stderr",
     "output_type": "stream",
     "text": [
      "  0%|                                                                       | 1591/1055840 [28:24<330:23:46,  1.13s/it]"
     ]
    },
    {
     "name": "stdout",
     "output_type": "stream",
     "text": [
      "Warning: Could not download image girl\\1590 from https://safebooru.org/thumbnails/121/thumbnail_aa12a34356620b46067d6976b9530e911081f11e.jpeg\n"
     ]
    },
    {
     "name": "stderr",
     "output_type": "stream",
     "text": [
      "  0%|                                                                       | 1612/1055840 [28:45<308:50:22,  1.05s/it]"
     ]
    },
    {
     "name": "stdout",
     "output_type": "stream",
     "text": [
      "Warning: Could not download image girl\\1611 from https://safebooru.org/thumbnails/124/thumbnail_a93edb49d3b81c03ff0c976c3f65764680e0c012.png\n"
     ]
    },
    {
     "name": "stderr",
     "output_type": "stream",
     "text": [
      "  0%|                                                                       | 1617/1055840 [28:50<255:49:04,  1.14it/s]"
     ]
    },
    {
     "name": "stdout",
     "output_type": "stream",
     "text": [
      "Warning: Could not download image girl\\1616 from https://safebooru.org/thumbnails/124/thumbnail_bf6fe81148354ab78485abddb0a24e7e40e698f3.png\n"
     ]
    },
    {
     "name": "stderr",
     "output_type": "stream",
     "text": [
      "\r",
      "  0%|                                                                       | 1618/1055840 [28:51<271:04:59,  1.08it/s]"
     ]
    },
    {
     "name": "stdout",
     "output_type": "stream",
     "text": [
      "Warning: Could not download image girl\\1617 from https://safebooru.org/thumbnails/124/thumbnail_96c49b520595557425ff49fa0629d45a04e2d007.jpeg\n"
     ]
    },
    {
     "name": "stderr",
     "output_type": "stream",
     "text": [
      "\r",
      "  0%|                                                                       | 1619/1055840 [28:52<286:58:23,  1.02it/s]"
     ]
    },
    {
     "name": "stdout",
     "output_type": "stream",
     "text": [
      "Warning: Could not download image girl\\1618 from https://safebooru.org/thumbnails/124/thumbnail_745cf5501929355eb519776cd833996f8160801c.png\n"
     ]
    },
    {
     "name": "stderr",
     "output_type": "stream",
     "text": [
      "  0%|                                                                       | 1628/1055840 [29:02<315:31:50,  1.08s/it]"
     ]
    },
    {
     "name": "stdout",
     "output_type": "stream",
     "text": [
      "Warning: Could not download image girl\\1627 from https://safebooru.org/thumbnails/125/thumbnail_e5d34229810a4ab156997033da3f12f781c70748.png\n"
     ]
    },
    {
     "name": "stderr",
     "output_type": "stream",
     "text": [
      "  0%|                                                                       | 1633/1055840 [29:07<313:40:31,  1.07s/it]"
     ]
    },
    {
     "name": "stdout",
     "output_type": "stream",
     "text": [
      "Warning: Could not download image girl\\1632 from https://safebooru.org/thumbnails/125/thumbnail_38ccdb3a1dd1d0c4837d7f5c9e7260f369c1f882.png\n"
     ]
    },
    {
     "name": "stderr",
     "output_type": "stream",
     "text": [
      "  0%|                                                                       | 1638/1055840 [29:13<312:04:27,  1.07s/it]"
     ]
    },
    {
     "name": "stdout",
     "output_type": "stream",
     "text": [
      "Warning: Could not download image girl\\1637 from https://safebooru.org/thumbnails/125/thumbnail_cce3ad50275793fcc9e870f6fbbcdfe15860d37a.jpeg\n"
     ]
    },
    {
     "name": "stderr",
     "output_type": "stream",
     "text": [
      "  0%|                                                                       | 1642/1055840 [29:17<327:22:59,  1.12s/it]"
     ]
    },
    {
     "name": "stdout",
     "output_type": "stream",
     "text": [
      "Warning: Could not download image girl\\1641 from https://safebooru.org/thumbnails/126/thumbnail_acca1cf5ba9c78d5b9b19b0fe2c68151fb3991be.png\n"
     ]
    },
    {
     "name": "stderr",
     "output_type": "stream",
     "text": [
      "  0%|                                                                       | 1646/1055840 [29:22<312:51:19,  1.07s/it]"
     ]
    },
    {
     "name": "stdout",
     "output_type": "stream",
     "text": [
      "Warning: Could not download image girl\\1645 from https://safebooru.org/thumbnails/126/thumbnail_c033fee63028072dd70f023890ecdcd84ab6745d.png\n"
     ]
    },
    {
     "name": "stderr",
     "output_type": "stream",
     "text": [
      "  0%|                                                                       | 1663/1055840 [29:39<305:15:13,  1.04s/it]"
     ]
    },
    {
     "name": "stdout",
     "output_type": "stream",
     "text": [
      "Warning: Could not download image girl\\1662 from https://safebooru.org/thumbnails/129/thumbnail_9b5d8f37bc81899674f51240841ee9288d4fee1e.jpeg\n"
     ]
    },
    {
     "name": "stderr",
     "output_type": "stream",
     "text": [
      "  0%|                                                                       | 1666/1055840 [29:42<311:50:15,  1.06s/it]"
     ]
    },
    {
     "name": "stdout",
     "output_type": "stream",
     "text": [
      "Warning: Could not download image girl\\1665 from https://safebooru.org/thumbnails/129/thumbnail_b1867c2b9dd65386cb8539546d6d3f0cd8079089.png\n"
     ]
    },
    {
     "name": "stderr",
     "output_type": "stream",
     "text": [
      "  0%|                                                                       | 1673/1055840 [29:50<307:07:43,  1.05s/it]"
     ]
    },
    {
     "name": "stdout",
     "output_type": "stream",
     "text": [
      "Warning: Could not download image girl\\1672 from https://safebooru.org/thumbnails/130/thumbnail_8f8b49b314f22834ce1b03088b50210267ecb03f.jpeg\n"
     ]
    },
    {
     "name": "stderr",
     "output_type": "stream",
     "text": [
      "  0%|                                                                       | 1676/1055840 [29:53<320:23:14,  1.09s/it]"
     ]
    },
    {
     "name": "stdout",
     "output_type": "stream",
     "text": [
      "Warning: Could not download image girl\\1675 from https://safebooru.org/thumbnails/130/thumbnail_2cf5a8c874c6d8bb9f7fde96bbf6848bf9bea10d.png\n"
     ]
    },
    {
     "name": "stderr",
     "output_type": "stream",
     "text": [
      "\r",
      "  0%|                                                                       | 1677/1055840 [29:54<318:16:44,  1.09s/it]"
     ]
    },
    {
     "name": "stdout",
     "output_type": "stream",
     "text": [
      "Warning: Could not download image girl\\1676 from https://safebooru.org/thumbnails/130/thumbnail_57a3a6134236a95fc1bcd3bb87fd91e14663a0a0.jpeg\n"
     ]
    },
    {
     "name": "stderr",
     "output_type": "stream",
     "text": [
      "  0%|                                                                       | 1686/1055840 [30:04<316:28:20,  1.08s/it]"
     ]
    },
    {
     "name": "stdout",
     "output_type": "stream",
     "text": [
      "Warning: Could not download image girl\\1685 from https://safebooru.org/thumbnails/130/thumbnail_abfb8f579de5481fb466c4c5f5fbea617415748b.png\n"
     ]
    },
    {
     "name": "stderr",
     "output_type": "stream",
     "text": [
      "\r",
      "  0%|                                                                       | 1687/1055840 [30:05<314:03:55,  1.07s/it]"
     ]
    },
    {
     "name": "stdout",
     "output_type": "stream",
     "text": [
      "Warning: Could not download image girl\\1686 from https://safebooru.org/thumbnails/130/thumbnail_8b8fd4d118feb966780aef03a571b8fade4d3d99.png\n"
     ]
    },
    {
     "name": "stderr",
     "output_type": "stream",
     "text": [
      "\r",
      "  0%|                                                                       | 1688/1055840 [30:06<333:24:13,  1.14s/it]"
     ]
    },
    {
     "name": "stdout",
     "output_type": "stream",
     "text": [
      "Warning: Could not download image girl\\1687 from https://safebooru.org/thumbnails/130/thumbnail_ae2dd8780dad5a730893fd05be8f48844379848a.png\n"
     ]
    },
    {
     "name": "stderr",
     "output_type": "stream",
     "text": [
      "\r",
      "  0%|                                                                       | 1689/1055840 [30:07<326:55:57,  1.12s/it]"
     ]
    },
    {
     "name": "stdout",
     "output_type": "stream",
     "text": [
      "Warning: Could not download image girl\\1688 from https://safebooru.org/thumbnails/130/thumbnail_07c2381466cfd5216ab10f38e409058b4d0992a2.png\n"
     ]
    },
    {
     "name": "stderr",
     "output_type": "stream",
     "text": [
      "\r",
      "  0%|                                                                       | 1690/1055840 [30:09<319:42:01,  1.09s/it]"
     ]
    },
    {
     "name": "stdout",
     "output_type": "stream",
     "text": [
      "Warning: Could not download image girl\\1689 from https://safebooru.org/thumbnails/130/thumbnail_3d2d97de0266fdc696d09281a0452baf0b74423a.png\n"
     ]
    },
    {
     "name": "stderr",
     "output_type": "stream",
     "text": [
      "\r",
      "  0%|                                                                       | 1691/1055840 [30:10<314:53:21,  1.08s/it]"
     ]
    },
    {
     "name": "stdout",
     "output_type": "stream",
     "text": [
      "Warning: Could not download image girl\\1690 from https://safebooru.org/thumbnails/131/thumbnail_bf303fc076a3cdc2dcdf245351c099780471869e.png\n"
     ]
    },
    {
     "name": "stderr",
     "output_type": "stream",
     "text": [
      "\r",
      "  0%|                                                                       | 1692/1055840 [30:10<251:53:12,  1.16it/s]"
     ]
    },
    {
     "name": "stdout",
     "output_type": "stream",
     "text": [
      "Warning: Could not download image girl\\1691 from https://safebooru.org/thumbnails/131/thumbnail_a24637787e6b62fc714519d7ebf69db9489d559e.png\n"
     ]
    },
    {
     "name": "stderr",
     "output_type": "stream",
     "text": [
      "\r",
      "  0%|                                                                       | 1693/1055840 [30:11<271:05:52,  1.08it/s]"
     ]
    },
    {
     "name": "stdout",
     "output_type": "stream",
     "text": [
      "Warning: Could not download image girl\\1692 from https://safebooru.org/thumbnails/131/thumbnail_9cc1bf5ea15a7c8a6788ac3df726ad202eb85b4c.png\n"
     ]
    },
    {
     "name": "stderr",
     "output_type": "stream",
     "text": [
      "\r",
      "  0%|                                                                       | 1694/1055840 [30:12<287:37:45,  1.02it/s]"
     ]
    },
    {
     "name": "stdout",
     "output_type": "stream",
     "text": [
      "Warning: Could not download image girl\\1693 from https://safebooru.org/thumbnails/131/thumbnail_9a540e897547c4c5823b70d598d46ffb8396812b.png\n"
     ]
    },
    {
     "name": "stderr",
     "output_type": "stream",
     "text": [
      "  0%|                                                                       | 1702/1055840 [30:21<314:26:51,  1.07s/it]"
     ]
    },
    {
     "name": "stdout",
     "output_type": "stream",
     "text": [
      "Warning: Could not download image girl\\1701 from https://safebooru.org/thumbnails/131/thumbnail_70533fff11de41740c8733683bb1776cfd799fea.jpeg\n"
     ]
    },
    {
     "name": "stderr",
     "output_type": "stream",
     "text": [
      "\r",
      "  0%|                                                                       | 1703/1055840 [30:22<313:59:18,  1.07s/it]"
     ]
    },
    {
     "name": "stdout",
     "output_type": "stream",
     "text": [
      "Warning: Could not download image girl\\1702 from https://safebooru.org/thumbnails/131/thumbnail_0bbac584918999e7033c3baba7f83b55bd82c19c.jpeg\n"
     ]
    },
    {
     "name": "stderr",
     "output_type": "stream",
     "text": [
      "\r",
      "  0%|                                                                       | 1704/1055840 [30:23<333:49:54,  1.14s/it]"
     ]
    },
    {
     "name": "stdout",
     "output_type": "stream",
     "text": [
      "Warning: Could not download image girl\\1703 from https://safebooru.org/thumbnails/131/thumbnail_710f62eaab6990e9d3e4f66c05eaa9b5f3f9a599.jpeg\n"
     ]
    },
    {
     "name": "stderr",
     "output_type": "stream",
     "text": [
      "  0%|                                                                       | 1715/1055840 [30:34<307:47:07,  1.05s/it]"
     ]
    },
    {
     "name": "stdout",
     "output_type": "stream",
     "text": [
      "Warning: Could not download image girl\\1714 from https://safebooru.org/thumbnails/132/thumbnail_3ae7e416dc891970cd2e84a6b1e91792da2480a9.jpeg\n"
     ]
    },
    {
     "name": "stderr",
     "output_type": "stream",
     "text": [
      "  0%|                                                                       | 1721/1055840 [30:40<280:50:24,  1.04it/s]"
     ]
    },
    {
     "name": "stdout",
     "output_type": "stream",
     "text": [
      "Warning: Could not download image girl\\1720 from https://safebooru.org/thumbnails/133/thumbnail_2f0f1aece005025f821cf24d70fa1120d71ca352.png\n"
     ]
    },
    {
     "name": "stderr",
     "output_type": "stream",
     "text": [
      "\r",
      "  0%|                                                                       | 1722/1055840 [30:41<288:59:32,  1.01it/s]"
     ]
    },
    {
     "name": "stdout",
     "output_type": "stream",
     "text": [
      "Warning: Could not download image girl\\1721 from https://safebooru.org/thumbnails/133/thumbnail_c2664c880a22fd4489cccb204007ae8462a48dd5.png\n"
     ]
    },
    {
     "name": "stderr",
     "output_type": "stream",
     "text": [
      "  0%|                                                                       | 1727/1055840 [30:46<315:16:10,  1.08s/it]"
     ]
    },
    {
     "name": "stdout",
     "output_type": "stream",
     "text": [
      "Warning: Could not download image girl\\1726 from https://safebooru.org/thumbnails/134/thumbnail_a1b713b5196ac473ee3eb86e26dbcdf549191891.png\n"
     ]
    },
    {
     "name": "stderr",
     "output_type": "stream",
     "text": [
      "  0%|                                                                       | 1741/1055840 [31:01<307:01:47,  1.05s/it]"
     ]
    },
    {
     "name": "stdout",
     "output_type": "stream",
     "text": [
      "Warning: Could not download image girl\\1740 from https://safebooru.org/thumbnails/135/thumbnail_737c65ccd159460ca1d01eda6c64e5617b89d5a7.png\n"
     ]
    },
    {
     "name": "stderr",
     "output_type": "stream",
     "text": [
      "  0%|                                                                       | 1752/1055840 [31:13<315:49:31,  1.08s/it]"
     ]
    },
    {
     "name": "stdout",
     "output_type": "stream",
     "text": [
      "Warning: Could not download image girl\\1751 from https://safebooru.org/thumbnails/136/thumbnail_9c2dfef1b339f3a4783699d12b137c4c8ce361f5.jpeg\n"
     ]
    },
    {
     "name": "stderr",
     "output_type": "stream",
     "text": [
      "  0%|                                                                       | 1758/1055840 [31:19<313:07:02,  1.07s/it]"
     ]
    },
    {
     "name": "stdout",
     "output_type": "stream",
     "text": [
      "Warning: Could not download image girl\\1757 from https://safebooru.org/thumbnails/136/thumbnail_2e16e8eb4cf4c59a8645622235d6a17f84716d9d.png\n"
     ]
    },
    {
     "name": "stderr",
     "output_type": "stream",
     "text": [
      "\r",
      "  0%|                                                                       | 1759/1055840 [31:20<313:09:02,  1.07s/it]"
     ]
    },
    {
     "name": "stdout",
     "output_type": "stream",
     "text": [
      "Warning: Could not download image girl\\1758 from https://safebooru.org/thumbnails/136/thumbnail_4033e58f93b25ce57c8bf2ad0f52d1600564ab48.png\n"
     ]
    },
    {
     "name": "stderr",
     "output_type": "stream",
     "text": [
      "  0%|                                                                       | 1780/1055840 [31:44<314:25:34,  1.07s/it]"
     ]
    },
    {
     "name": "stdout",
     "output_type": "stream",
     "text": [
      "Warning: Could not download image girl\\1779 from https://safebooru.org/thumbnails/139/thumbnail_5ab06da169a368db06e21af44fafa1f7aaea3942.png\n"
     ]
    },
    {
     "name": "stderr",
     "output_type": "stream",
     "text": [
      "\r",
      "  0%|                                                                       | 1781/1055840 [31:45<315:02:00,  1.08s/it]"
     ]
    },
    {
     "name": "stdout",
     "output_type": "stream",
     "text": [
      "Warning: Could not download image girl\\1780 from https://safebooru.org/thumbnails/139/thumbnail_f52e9e0bf578fa8d9efd60b49ce102149d0e7c45.png\n"
     ]
    },
    {
     "name": "stderr",
     "output_type": "stream",
     "text": [
      "\r",
      "  0%|                                                                       | 1782/1055840 [31:46<313:07:31,  1.07s/it]"
     ]
    },
    {
     "name": "stdout",
     "output_type": "stream",
     "text": [
      "Warning: Could not download image girl\\1781 from https://safebooru.org/thumbnails/139/thumbnail_0958d3ed9ea7bc6b3760c8047bc18d0f65b743ed.png\n"
     ]
    },
    {
     "name": "stderr",
     "output_type": "stream",
     "text": [
      "\r",
      "  0%|                                                                       | 1783/1055840 [31:47<312:28:46,  1.07s/it]"
     ]
    },
    {
     "name": "stdout",
     "output_type": "stream",
     "text": [
      "Warning: Could not download image girl\\1782 from https://safebooru.org/thumbnails/139/thumbnail_04e9d22d0b05e28867d27f1159873e842e9499cf.png\n"
     ]
    },
    {
     "name": "stderr",
     "output_type": "stream",
     "text": [
      "\r",
      "  0%|                                                                       | 1784/1055840 [31:48<310:41:02,  1.06s/it]"
     ]
    },
    {
     "name": "stdout",
     "output_type": "stream",
     "text": [
      "Warning: Could not download image girl\\1783 from https://safebooru.org/thumbnails/139/thumbnail_548ae43096f5e023068d51b0596e9326ae039cda.png\n"
     ]
    },
    {
     "name": "stderr",
     "output_type": "stream",
     "text": [
      "\r",
      "  0%|                                                                       | 1785/1055840 [31:49<310:03:58,  1.06s/it]"
     ]
    },
    {
     "name": "stdout",
     "output_type": "stream",
     "text": [
      "Warning: Could not download image girl\\1784 from https://safebooru.org/thumbnails/139/thumbnail_f9fae6c6240c7975eb02349b4939ce6927d6cdc3.png\n"
     ]
    },
    {
     "name": "stderr",
     "output_type": "stream",
     "text": [
      "\r",
      "  0%|                                                                       | 1786/1055840 [31:50<310:00:16,  1.06s/it]"
     ]
    },
    {
     "name": "stdout",
     "output_type": "stream",
     "text": [
      "Warning: Could not download image girl\\1785 from https://safebooru.org/thumbnails/139/thumbnail_7f8dd1b100c8ed318d3b1efc8417f21d8178d821.png\n"
     ]
    },
    {
     "name": "stderr",
     "output_type": "stream",
     "text": [
      "  0%|                                                                       | 1790/1055840 [31:54<247:38:02,  1.18it/s]"
     ]
    },
    {
     "name": "stdout",
     "output_type": "stream",
     "text": [
      "Warning: Could not download image girl\\1789 from https://safebooru.org/thumbnails/139/thumbnail_39e7db6286ed98663288ab250a041a4df5113e2d.jpeg\n"
     ]
    },
    {
     "name": "stderr",
     "output_type": "stream",
     "text": [
      "  0%|                                                                       | 1792/1055840 [31:56<278:08:33,  1.05it/s]"
     ]
    },
    {
     "name": "stdout",
     "output_type": "stream",
     "text": [
      "Warning: Could not download image girl\\1791 from https://safebooru.org/thumbnails/139/thumbnail_052c6c35186726cf49382a5072a2347dab186c19.png\n"
     ]
    },
    {
     "name": "stderr",
     "output_type": "stream",
     "text": [
      "\r",
      "  0%|                                                                       | 1793/1055840 [31:57<287:25:59,  1.02it/s]"
     ]
    },
    {
     "name": "stdout",
     "output_type": "stream",
     "text": [
      "Warning: Could not download image girl\\1792 from https://safebooru.org/thumbnails/139/thumbnail_958a601e934796c098e51f0b937e3f7f6d29cc05.png\n"
     ]
    },
    {
     "name": "stderr",
     "output_type": "stream",
     "text": [
      "\r",
      "  0%|                                                                       | 1794/1055840 [31:58<295:16:53,  1.01s/it]"
     ]
    },
    {
     "name": "stdout",
     "output_type": "stream",
     "text": [
      "Warning: Could not download image girl\\1793 from https://safebooru.org/thumbnails/139/thumbnail_0df8c3bb89404b4ecbb21d9054013420cb7f1a2f.png\n"
     ]
    },
    {
     "name": "stderr",
     "output_type": "stream",
     "text": [
      "\r",
      "  0%|                                                                       | 1795/1055840 [31:59<299:54:18,  1.02s/it]"
     ]
    },
    {
     "name": "stdout",
     "output_type": "stream",
     "text": [
      "Warning: Could not download image girl\\1794 from https://safebooru.org/thumbnails/139/thumbnail_b58c5a8edfe5bbc3dc317d22a749b3fbcfbd9766.png\n"
     ]
    },
    {
     "name": "stderr",
     "output_type": "stream",
     "text": [
      "\r",
      "  0%|                                                                       | 1796/1055840 [32:00<301:37:31,  1.03s/it]"
     ]
    },
    {
     "name": "stdout",
     "output_type": "stream",
     "text": [
      "Warning: Could not download image girl\\1795 from https://safebooru.org/thumbnails/139/thumbnail_b7b33f416f3ad149320b5ee47784058db4cc851d.png\n"
     ]
    },
    {
     "name": "stderr",
     "output_type": "stream",
     "text": [
      "\r",
      "  0%|                                                                       | 1797/1055840 [32:01<304:05:05,  1.04s/it]"
     ]
    },
    {
     "name": "stdout",
     "output_type": "stream",
     "text": [
      "Warning: Could not download image girl\\1796 from https://safebooru.org/thumbnails/139/thumbnail_638ab5afe3cfcd5f2cf67c6f5337d521f47de9ed.png\n"
     ]
    },
    {
     "name": "stderr",
     "output_type": "stream",
     "text": [
      "\r",
      "  0%|                                                                       | 1798/1055840 [32:02<305:45:32,  1.04s/it]"
     ]
    },
    {
     "name": "stdout",
     "output_type": "stream",
     "text": [
      "Warning: Could not download image girl\\1797 from https://safebooru.org/thumbnails/139/thumbnail_a0a39fd6a5e4ec2459fc1743d9aa8ac972f96c0e.png\n"
     ]
    },
    {
     "name": "stderr",
     "output_type": "stream",
     "text": [
      "\r",
      "  0%|                                                                       | 1799/1055840 [32:03<307:23:22,  1.05s/it]"
     ]
    },
    {
     "name": "stdout",
     "output_type": "stream",
     "text": [
      "Warning: Could not download image girl\\1798 from https://safebooru.org/thumbnails/139/thumbnail_82366b944c897fe10344ac712f6831e98225f4e6.png\n"
     ]
    },
    {
     "name": "stderr",
     "output_type": "stream",
     "text": [
      "\r",
      "  0%|                                                                       | 1800/1055840 [32:04<308:53:12,  1.05s/it]"
     ]
    },
    {
     "name": "stdout",
     "output_type": "stream",
     "text": [
      "Warning: Could not download image girl\\1799 from https://safebooru.org/thumbnails/139/thumbnail_f1cfbd5ad8d66d74e56843a18736a7e38a948307.png\n"
     ]
    },
    {
     "name": "stderr",
     "output_type": "stream",
     "text": [
      "\r",
      "  0%|                                                                       | 1801/1055840 [32:05<309:00:56,  1.06s/it]"
     ]
    },
    {
     "name": "stdout",
     "output_type": "stream",
     "text": [
      "Warning: Could not download image girl\\1800 from https://safebooru.org/thumbnails/139/thumbnail_d2210c5111c9ac79f12951af11c2b0f5a54c01dc.png\n"
     ]
    },
    {
     "name": "stderr",
     "output_type": "stream",
     "text": [
      "\r",
      "  0%|                                                                       | 1802/1055840 [32:06<308:05:46,  1.05s/it]"
     ]
    },
    {
     "name": "stdout",
     "output_type": "stream",
     "text": [
      "Warning: Could not download image girl\\1801 from https://safebooru.org/thumbnails/139/thumbnail_76b3b60cae62ffba794f65b62f521b5274decc28.png\n"
     ]
    },
    {
     "name": "stderr",
     "output_type": "stream",
     "text": [
      "\r",
      "  0%|                                                                       | 1803/1055840 [32:07<308:37:20,  1.05s/it]"
     ]
    },
    {
     "name": "stdout",
     "output_type": "stream",
     "text": [
      "Warning: Could not download image girl\\1802 from https://safebooru.org/thumbnails/139/thumbnail_375dad1d8f3ef7498b68e3b5c87f73af1d1cae0c.png\n"
     ]
    },
    {
     "name": "stderr",
     "output_type": "stream",
     "text": [
      "\r",
      "  0%|                                                                       | 1804/1055840 [32:09<311:54:57,  1.07s/it]"
     ]
    },
    {
     "name": "stdout",
     "output_type": "stream",
     "text": [
      "Warning: Could not download image girl\\1803 from https://safebooru.org/thumbnails/139/thumbnail_acc96364fb4fec36d61ae9d784dac6b41b4de1e8.png\n"
     ]
    },
    {
     "name": "stderr",
     "output_type": "stream",
     "text": [
      "\r",
      "  0%|                                                                       | 1805/1055840 [32:10<310:48:42,  1.06s/it]"
     ]
    },
    {
     "name": "stdout",
     "output_type": "stream",
     "text": [
      "Warning: Could not download image girl\\1804 from https://safebooru.org/thumbnails/139/thumbnail_5beed0de7027217c917a9dc601198b2169a8a43d.png\n"
     ]
    },
    {
     "name": "stderr",
     "output_type": "stream",
     "text": [
      "\r",
      "  0%|                                                                       | 1806/1055840 [32:11<310:51:47,  1.06s/it]"
     ]
    },
    {
     "name": "stdout",
     "output_type": "stream",
     "text": [
      "Warning: Could not download image girl\\1805 from https://safebooru.org/thumbnails/139/thumbnail_0163efe1ddf2a9e933d362102cea7e7ef6f87d35.png\n"
     ]
    },
    {
     "name": "stderr",
     "output_type": "stream",
     "text": [
      "\r",
      "  0%|                                                                       | 1807/1055840 [32:12<314:27:07,  1.07s/it]"
     ]
    },
    {
     "name": "stdout",
     "output_type": "stream",
     "text": [
      "Warning: Could not download image girl\\1806 from https://safebooru.org/thumbnails/139/thumbnail_138dbeeec51b51e9117205bb801a99724bac515c.png\n"
     ]
    },
    {
     "name": "stderr",
     "output_type": "stream",
     "text": [
      "\r",
      "  0%|                                                                       | 1808/1055840 [32:13<313:59:29,  1.07s/it]"
     ]
    },
    {
     "name": "stdout",
     "output_type": "stream",
     "text": [
      "Warning: Could not download image girl\\1807 from https://safebooru.org/thumbnails/139/thumbnail_d925d6622e078312d1289f7ffc813cf30684c531.png\n"
     ]
    },
    {
     "name": "stderr",
     "output_type": "stream",
     "text": [
      "\r",
      "  0%|                                                                       | 1809/1055840 [32:14<312:47:00,  1.07s/it]"
     ]
    },
    {
     "name": "stdout",
     "output_type": "stream",
     "text": [
      "Warning: Could not download image girl\\1808 from https://safebooru.org/thumbnails/139/thumbnail_caebd53a8c6c793ba1f71eb038aa2d515c6b66a6.png\n"
     ]
    },
    {
     "name": "stderr",
     "output_type": "stream",
     "text": [
      "\r",
      "  0%|                                                                       | 1810/1055840 [32:15<313:35:22,  1.07s/it]"
     ]
    },
    {
     "name": "stdout",
     "output_type": "stream",
     "text": [
      "Warning: Could not download image girl\\1809 from https://safebooru.org/thumbnails/139/thumbnail_fe8fe1ed1cae034262ab371867ab264c6e4f67e2.png\n"
     ]
    },
    {
     "name": "stderr",
     "output_type": "stream",
     "text": [
      "\r",
      "  0%|                                                                       | 1811/1055840 [32:16<313:05:31,  1.07s/it]"
     ]
    },
    {
     "name": "stdout",
     "output_type": "stream",
     "text": [
      "Warning: Could not download image girl\\1810 from https://safebooru.org/thumbnails/139/thumbnail_77da121bddffaa1cc8c15a86dd025529182dccd7.png\n"
     ]
    },
    {
     "name": "stderr",
     "output_type": "stream",
     "text": [
      "\r",
      "  0%|                                                                       | 1812/1055840 [32:17<311:12:45,  1.06s/it]"
     ]
    },
    {
     "name": "stdout",
     "output_type": "stream",
     "text": [
      "Warning: Could not download image girl\\1811 from https://safebooru.org/thumbnails/139/thumbnail_13961862f0579e2aa840d424fb2080c7f4060046.png\n"
     ]
    },
    {
     "name": "stderr",
     "output_type": "stream",
     "text": [
      "\r",
      "  0%|                                                                       | 1813/1055840 [32:18<308:44:06,  1.05s/it]"
     ]
    },
    {
     "name": "stdout",
     "output_type": "stream",
     "text": [
      "Warning: Could not download image girl\\1812 from https://safebooru.org/thumbnails/139/thumbnail_f10c24b5cd4a11955410cc53b21458ff2cae81d1.png\n"
     ]
    },
    {
     "name": "stderr",
     "output_type": "stream",
     "text": [
      "\r",
      "  0%|                                                                       | 1814/1055840 [32:19<309:49:43,  1.06s/it]"
     ]
    },
    {
     "name": "stdout",
     "output_type": "stream",
     "text": [
      "Warning: Could not download image girl\\1813 from https://safebooru.org/thumbnails/139/thumbnail_b4d28fa35b79f726a37371fbad34bb95d8e73f19.png\n"
     ]
    },
    {
     "name": "stderr",
     "output_type": "stream",
     "text": [
      "\r",
      "  0%|                                                                       | 1815/1055840 [32:20<310:30:52,  1.06s/it]"
     ]
    },
    {
     "name": "stdout",
     "output_type": "stream",
     "text": [
      "Warning: Could not download image girl\\1814 from https://safebooru.org/thumbnails/139/thumbnail_14fb9f593f0653138257abcb11780b863ed3d17f.png\n"
     ]
    },
    {
     "name": "stderr",
     "output_type": "stream",
     "text": [
      "\r",
      "  0%|                                                                       | 1816/1055840 [32:21<310:38:14,  1.06s/it]"
     ]
    },
    {
     "name": "stdout",
     "output_type": "stream",
     "text": [
      "Warning: Could not download image girl\\1815 from https://safebooru.org/thumbnails/139/thumbnail_e61c87550336b54f8e41d089bcaee319416e3c78.png\n"
     ]
    },
    {
     "name": "stderr",
     "output_type": "stream",
     "text": [
      "\r",
      "  0%|                                                                       | 1817/1055840 [32:22<310:17:41,  1.06s/it]"
     ]
    },
    {
     "name": "stdout",
     "output_type": "stream",
     "text": [
      "Warning: Could not download image girl\\1816 from https://safebooru.org/thumbnails/139/thumbnail_a4b8bdf4a1aee09472b54780b214b03be3f9c2d0.png\n"
     ]
    },
    {
     "name": "stderr",
     "output_type": "stream",
     "text": [
      "\r",
      "  0%|                                                                       | 1818/1055840 [32:23<310:00:17,  1.06s/it]"
     ]
    },
    {
     "name": "stdout",
     "output_type": "stream",
     "text": [
      "Warning: Could not download image girl\\1817 from https://safebooru.org/thumbnails/139/thumbnail_9033d0a99dcf33b01139c46b4e553dc2f8b6a520.png\n"
     ]
    },
    {
     "name": "stderr",
     "output_type": "stream",
     "text": [
      "\r",
      "  0%|                                                                       | 1819/1055840 [32:24<311:10:43,  1.06s/it]"
     ]
    },
    {
     "name": "stdout",
     "output_type": "stream",
     "text": [
      "Warning: Could not download image girl\\1818 from https://safebooru.org/thumbnails/139/thumbnail_b221a2f1738ef9a002430f8458647ca906f33201.png\n"
     ]
    },
    {
     "name": "stderr",
     "output_type": "stream",
     "text": [
      "\r",
      "  0%|                                                                       | 1820/1055840 [32:26<310:31:42,  1.06s/it]"
     ]
    },
    {
     "name": "stdout",
     "output_type": "stream",
     "text": [
      "Warning: Could not download image girl\\1819 from https://safebooru.org/thumbnails/139/thumbnail_6d262056f91fd8bc411d62aa10302335864b8968.png\n"
     ]
    },
    {
     "name": "stderr",
     "output_type": "stream",
     "text": [
      "\r",
      "  0%|                                                                       | 1821/1055840 [32:26<249:12:53,  1.17it/s]"
     ]
    },
    {
     "name": "stdout",
     "output_type": "stream",
     "text": [
      "Warning: Could not download image girl\\1820 from https://safebooru.org/thumbnails/139/thumbnail_94859546574c9be2a7e7798bd6b906dc147de64d.png\n"
     ]
    },
    {
     "name": "stderr",
     "output_type": "stream",
     "text": [
      "\r",
      "  0%|                                                                       | 1822/1055840 [32:27<267:58:19,  1.09it/s]"
     ]
    },
    {
     "name": "stdout",
     "output_type": "stream",
     "text": [
      "Warning: Could not download image girl\\1821 from https://safebooru.org/thumbnails/139/thumbnail_7f535eb8059406ce9c45dcd5234b6bad3ecc2e29.png\n"
     ]
    },
    {
     "name": "stderr",
     "output_type": "stream",
     "text": [
      "\r",
      "  0%|                                                                       | 1823/1055840 [32:28<301:02:23,  1.03s/it]"
     ]
    },
    {
     "name": "stdout",
     "output_type": "stream",
     "text": [
      "Warning: Could not download image girl\\1822 from https://safebooru.org/thumbnails/139/thumbnail_5890e0bd3d2e0a0e056d34b6248ebe713836da7c.png\n"
     ]
    },
    {
     "name": "stderr",
     "output_type": "stream",
     "text": [
      "\r",
      "  0%|                                                                       | 1824/1055840 [32:29<304:31:00,  1.04s/it]"
     ]
    },
    {
     "name": "stdout",
     "output_type": "stream",
     "text": [
      "Warning: Could not download image girl\\1823 from https://safebooru.org/thumbnails/139/thumbnail_0ae8cfd6381054f49f601534b206a38474aa96c2.png\n"
     ]
    },
    {
     "name": "stderr",
     "output_type": "stream",
     "text": [
      "\r",
      "  0%|                                                                       | 1825/1055840 [32:30<307:10:39,  1.05s/it]"
     ]
    },
    {
     "name": "stdout",
     "output_type": "stream",
     "text": [
      "Warning: Could not download image girl\\1824 from https://safebooru.org/thumbnails/139/thumbnail_ca21ba4af510f92a1e10d297a70dd26fa67efecb.png\n"
     ]
    },
    {
     "name": "stderr",
     "output_type": "stream",
     "text": [
      "\r",
      "  0%|                                                                       | 1826/1055840 [32:31<308:48:31,  1.05s/it]"
     ]
    },
    {
     "name": "stdout",
     "output_type": "stream",
     "text": [
      "Warning: Could not download image girl\\1825 from https://safebooru.org/thumbnails/139/thumbnail_248a69607c29b6c78ca3e0a6d1439453a8707197.png\n"
     ]
    },
    {
     "name": "stderr",
     "output_type": "stream",
     "text": [
      "\r",
      "  0%|                                                                       | 1827/1055840 [32:33<308:42:43,  1.05s/it]"
     ]
    },
    {
     "name": "stdout",
     "output_type": "stream",
     "text": [
      "Warning: Could not download image girl\\1826 from https://safebooru.org/thumbnails/139/thumbnail_211e76e9e28814b6e128a780d4e9bcfa5f3109ca.png\n"
     ]
    },
    {
     "name": "stderr",
     "output_type": "stream",
     "text": [
      "\r",
      "  0%|                                                                       | 1828/1055840 [32:34<312:01:25,  1.07s/it]"
     ]
    },
    {
     "name": "stdout",
     "output_type": "stream",
     "text": [
      "Warning: Could not download image girl\\1827 from https://safebooru.org/thumbnails/139/thumbnail_dc6ad398f82e107946928a6fb2874758d40b54c3.png\n"
     ]
    },
    {
     "name": "stderr",
     "output_type": "stream",
     "text": [
      "\r",
      "  0%|                                                                       | 1829/1055840 [32:35<312:39:23,  1.07s/it]"
     ]
    },
    {
     "name": "stdout",
     "output_type": "stream",
     "text": [
      "Warning: Could not download image girl\\1828 from https://safebooru.org/thumbnails/139/thumbnail_ae11e347810e01b45d7d800f3418ad801f04854e.png\n"
     ]
    },
    {
     "name": "stderr",
     "output_type": "stream",
     "text": [
      "\r",
      "  0%|                                                                       | 1830/1055840 [32:36<312:21:00,  1.07s/it]"
     ]
    },
    {
     "name": "stdout",
     "output_type": "stream",
     "text": [
      "Warning: Could not download image girl\\1829 from https://safebooru.org/thumbnails/139/thumbnail_7b22262f2f756d358aec116265d75476e30ab23d.png\n"
     ]
    },
    {
     "name": "stderr",
     "output_type": "stream",
     "text": [
      "\r",
      "  0%|                                                                       | 1831/1055840 [32:37<311:42:45,  1.06s/it]"
     ]
    },
    {
     "name": "stdout",
     "output_type": "stream",
     "text": [
      "Warning: Could not download image girl\\1830 from https://safebooru.org/thumbnails/139/thumbnail_c7753fc705f1b1263faa59908572576680eb6d73.png\n"
     ]
    },
    {
     "name": "stderr",
     "output_type": "stream",
     "text": [
      "\r",
      "  0%|                                                                       | 1832/1055840 [32:38<312:47:00,  1.07s/it]"
     ]
    },
    {
     "name": "stdout",
     "output_type": "stream",
     "text": [
      "Warning: Could not download image girl\\1831 from https://safebooru.org/thumbnails/139/thumbnail_8f084fe1501a6039f7a545eca1a0f7fc0c08777e.png\n"
     ]
    },
    {
     "name": "stderr",
     "output_type": "stream",
     "text": [
      "\r",
      "  0%|                                                                       | 1833/1055840 [32:39<311:00:25,  1.06s/it]"
     ]
    },
    {
     "name": "stdout",
     "output_type": "stream",
     "text": [
      "Warning: Could not download image girl\\1832 from https://safebooru.org/thumbnails/139/thumbnail_df5914597eef1bb1ea8049156765348cfb29e20b.png\n"
     ]
    },
    {
     "name": "stderr",
     "output_type": "stream",
     "text": [
      "\r",
      "  0%|                                                                       | 1834/1055840 [32:40<310:05:25,  1.06s/it]"
     ]
    },
    {
     "name": "stdout",
     "output_type": "stream",
     "text": [
      "Warning: Could not download image girl\\1833 from https://safebooru.org/thumbnails/139/thumbnail_b02239e94898732d07aa0a3cb64e151da1ac4429.png\n"
     ]
    },
    {
     "name": "stderr",
     "output_type": "stream",
     "text": [
      "\r",
      "  0%|                                                                       | 1835/1055840 [32:41<309:05:52,  1.06s/it]"
     ]
    },
    {
     "name": "stdout",
     "output_type": "stream",
     "text": [
      "Warning: Could not download image girl\\1834 from https://safebooru.org/thumbnails/139/thumbnail_9daaa4dbcc814f5e00ffe57408e6f00985b1e295.png\n"
     ]
    },
    {
     "name": "stderr",
     "output_type": "stream",
     "text": [
      "\r",
      "  0%|                                                                       | 1836/1055840 [32:42<308:50:03,  1.05s/it]"
     ]
    },
    {
     "name": "stdout",
     "output_type": "stream",
     "text": [
      "Warning: Could not download image girl\\1835 from https://safebooru.org/thumbnails/139/thumbnail_ee45d8a103f125fbbf1449c44f8bdc3c2bcc5b35.png\n"
     ]
    },
    {
     "name": "stderr",
     "output_type": "stream",
     "text": [
      "\r",
      "  0%|                                                                       | 1837/1055840 [32:43<310:02:45,  1.06s/it]"
     ]
    },
    {
     "name": "stdout",
     "output_type": "stream",
     "text": [
      "Warning: Could not download image girl\\1836 from https://safebooru.org/thumbnails/140/thumbnail_d903311b8bf6d5622482e6c6e623d57a23bb9fd2.png\n"
     ]
    },
    {
     "name": "stderr",
     "output_type": "stream",
     "text": [
      "  0%|                                                                       | 1844/1055840 [32:51<307:41:24,  1.05s/it]"
     ]
    },
    {
     "name": "stdout",
     "output_type": "stream",
     "text": [
      "Warning: Could not download image girl\\1843 from https://safebooru.org/thumbnails/141/thumbnail_38f812c413e940306408ef499ca175ab98799d05.png\n"
     ]
    },
    {
     "name": "stderr",
     "output_type": "stream",
     "text": [
      "  0%|                                                                       | 1855/1055840 [33:02<306:00:38,  1.05s/it]"
     ]
    },
    {
     "name": "stdout",
     "output_type": "stream",
     "text": [
      "Warning: Could not download image girl\\1854 from https://safebooru.org/thumbnails/142/thumbnail_9f89d2fcaed052d4ee44a314a4e935584fad40b6.png\n"
     ]
    },
    {
     "name": "stderr",
     "output_type": "stream",
     "text": [
      "  0%|▏                                                                      | 1861/1055840 [33:09<309:15:53,  1.06s/it]"
     ]
    },
    {
     "name": "stdout",
     "output_type": "stream",
     "text": [
      "Warning: Could not download image girl\\1860 from https://safebooru.org/thumbnails/142/thumbnail_01b7cdaf6fa98a71a8c07307197ec7da4b4d79cf.jpeg\n"
     ]
    },
    {
     "name": "stderr",
     "output_type": "stream",
     "text": [
      "  0%|▏                                                                      | 1866/1055840 [33:14<308:41:38,  1.05s/it]"
     ]
    },
    {
     "name": "stdout",
     "output_type": "stream",
     "text": [
      "Warning: Could not download image girl\\1865 from https://safebooru.org/thumbnails/142/thumbnail_817683cadfb9b6bb912b7fb68852e84f64427c95.png\n"
     ]
    },
    {
     "name": "stderr",
     "output_type": "stream",
     "text": [
      "\r",
      "  0%|▏                                                                      | 1867/1055840 [33:14<248:28:33,  1.18it/s]"
     ]
    },
    {
     "name": "stdout",
     "output_type": "stream",
     "text": [
      "Warning: Could not download image girl\\1866 from https://safebooru.org/thumbnails/143/thumbnail_b9cd60a7b606b700a06bd488f9d13976ce1aa78f.png\n"
     ]
    },
    {
     "name": "stderr",
     "output_type": "stream",
     "text": [
      "\r",
      "  0%|▏                                                                      | 1868/1055840 [33:15<266:55:18,  1.10it/s]"
     ]
    },
    {
     "name": "stdout",
     "output_type": "stream",
     "text": [
      "Warning: Could not download image girl\\1867 from https://safebooru.org/thumbnails/143/thumbnail_fe3d623fe48029491ae93811563fc45f469f7966.jpeg\n"
     ]
    },
    {
     "name": "stderr",
     "output_type": "stream",
     "text": [
      "  0%|▏                                                                      | 1918/1055840 [34:09<306:25:00,  1.05s/it]"
     ]
    },
    {
     "name": "stdout",
     "output_type": "stream",
     "text": [
      "Warning: Could not download image girl\\1917 from https://safebooru.org/thumbnails/147/thumbnail_80ad594bf1fc8bbe25b6e2995525239c4c232b92.png\n"
     ]
    },
    {
     "name": "stderr",
     "output_type": "stream",
     "text": [
      "  0%|▏                                                                      | 1921/1055840 [34:12<307:29:04,  1.05s/it]"
     ]
    },
    {
     "name": "stdout",
     "output_type": "stream",
     "text": [
      "Warning: Could not download image girl\\1920 from https://safebooru.org/thumbnails/147/thumbnail_109736e11efb1cd042a710ba3581b148560d671a.gif\n"
     ]
    },
    {
     "name": "stderr",
     "output_type": "stream",
     "text": [
      "  0%|▏                                                                      | 1947/1055840 [34:39<308:34:31,  1.05s/it]"
     ]
    },
    {
     "name": "stdout",
     "output_type": "stream",
     "text": [
      "Warning: Could not download image girl\\1946 from https://safebooru.org/thumbnails/149/thumbnail_2e0fcfb02f3d5b3b025e6bb0ed95552a83bbd575.png\n"
     ]
    },
    {
     "name": "stderr",
     "output_type": "stream",
     "text": [
      "  0%|▏                                                                      | 1951/1055840 [34:43<309:23:25,  1.06s/it]"
     ]
    },
    {
     "name": "stdout",
     "output_type": "stream",
     "text": [
      "Warning: Could not download image girl\\1950 from https://safebooru.org/thumbnails/150/thumbnail_f4d83bb4148d47c889ad7325488b1374d8f994a0.png\n"
     ]
    },
    {
     "name": "stderr",
     "output_type": "stream",
     "text": [
      "  0%|▏                                                                      | 1959/1055840 [34:52<312:13:38,  1.07s/it]"
     ]
    },
    {
     "name": "stdout",
     "output_type": "stream",
     "text": [
      "Warning: Could not download image girl\\1958 from https://safebooru.org/thumbnails/150/thumbnail_f23f73b238ba9ce2c816da6735179a40997c75c1.png\n"
     ]
    },
    {
     "name": "stderr",
     "output_type": "stream",
     "text": [
      "  0%|▏                                                                      | 1963/1055840 [34:56<307:44:00,  1.05s/it]"
     ]
    },
    {
     "name": "stdout",
     "output_type": "stream",
     "text": [
      "Warning: Could not download image girl\\1962 from https://safebooru.org/thumbnails/151/thumbnail_04df4a3952777cb40137e42c8058f869de3a1e9d.png\n"
     ]
    },
    {
     "name": "stderr",
     "output_type": "stream",
     "text": [
      "  0%|▏                                                                      | 1965/1055840 [34:57<264:48:18,  1.11it/s]"
     ]
    },
    {
     "name": "stdout",
     "output_type": "stream",
     "text": [
      "Warning: Could not download image girl\\1964 from https://safebooru.org/thumbnails/151/thumbnail_73343074b54576ba4a3ba8292cb56c0e6cac1d46.png\n"
     ]
    },
    {
     "name": "stderr",
     "output_type": "stream",
     "text": [
      "  0%|▏                                                                      | 1980/1055840 [35:13<307:23:10,  1.05s/it]"
     ]
    },
    {
     "name": "stdout",
     "output_type": "stream",
     "text": [
      "Warning: Could not download image girl\\1979 from https://safebooru.org/thumbnails/152/thumbnail_aa9531831e9358cc2e87daf8928c731aec659452.jpeg\n"
     ]
    },
    {
     "name": "stderr",
     "output_type": "stream",
     "text": [
      "  0%|▏                                                                      | 1993/1055840 [35:27<310:47:40,  1.06s/it]"
     ]
    },
    {
     "name": "stdout",
     "output_type": "stream",
     "text": [
      "Warning: Could not download image girl\\1992 from https://safebooru.org/thumbnails/152/thumbnail_06226554041cc80fa148efd9b121d60d7632a9fb.png\n"
     ]
    },
    {
     "name": "stderr",
     "output_type": "stream",
     "text": [
      "  0%|▏                                                                      | 1998/1055840 [35:32<289:39:14,  1.01it/s]"
     ]
    },
    {
     "name": "stdout",
     "output_type": "stream",
     "text": [
      "Warning: Could not download image girl\\1997 from https://safebooru.org/thumbnails/153/thumbnail_c3b336d8c044a26730bdbaf39bf0c9aee9773b73.png\n"
     ]
    },
    {
     "name": "stderr",
     "output_type": "stream",
     "text": [
      "\r",
      "  0%|▏                                                                      | 1999/1055840 [35:33<311:57:58,  1.07s/it]"
     ]
    },
    {
     "name": "stdout",
     "output_type": "stream",
     "text": [
      "Warning: Could not download image girl\\1998 from https://safebooru.org/thumbnails/153/thumbnail_cbfd7d718bed8c051e933c85d5a6e6d66a129f0f.png\n"
     ]
    },
    {
     "name": "stderr",
     "output_type": "stream",
     "text": [
      "  0%|▏                                                                      | 2001/1055840 [35:35<313:47:48,  1.07s/it]"
     ]
    },
    {
     "name": "stdout",
     "output_type": "stream",
     "text": [
      "Warning: Could not download image girl\\2000 from https://safebooru.org/thumbnails/153/thumbnail_067d6d0e683aad8ebc67001babac965cec45e327.png\n"
     ]
    },
    {
     "name": "stderr",
     "output_type": "stream",
     "text": [
      "  0%|▏                                                                      | 2008/1055840 [35:43<319:55:23,  1.09s/it]"
     ]
    },
    {
     "name": "stdout",
     "output_type": "stream",
     "text": [
      "Warning: Could not download image girl\\2007 from https://safebooru.org/thumbnails/153/thumbnail_8e8d7203f63e1575a8702c668a1ad96d471e5da4.jpeg\n"
     ]
    },
    {
     "name": "stderr",
     "output_type": "stream",
     "text": [
      "\r",
      "  0%|▏                                                                      | 2009/1055840 [35:44<316:31:02,  1.08s/it]"
     ]
    },
    {
     "name": "stdout",
     "output_type": "stream",
     "text": [
      "Warning: Could not download image girl\\2008 from https://safebooru.org/thumbnails/153/thumbnail_d8c21702a8a2d73534bfe37375a2e7be56ef1cc1.png\n"
     ]
    },
    {
     "name": "stderr",
     "output_type": "stream",
     "text": [
      "  0%|▏                                                                      | 2014/1055840 [35:49<311:03:51,  1.06s/it]"
     ]
    },
    {
     "name": "stdout",
     "output_type": "stream",
     "text": [
      "Warning: Could not download image girl\\2013 from https://safebooru.org/thumbnails/153/thumbnail_a5a4570ed5fd7842efa10263e949f1d8f4217a86.png\n"
     ]
    },
    {
     "name": "stderr",
     "output_type": "stream",
     "text": [
      "  0%|▏                                                                      | 2019/1055840 [35:54<312:47:57,  1.07s/it]"
     ]
    },
    {
     "name": "stdout",
     "output_type": "stream",
     "text": [
      "Warning: Could not download image girl\\2018 from https://safebooru.org/thumbnails/154/thumbnail_a638e40d4d2fb93bb46c29fa7c138bf4e7d46e92.png\n"
     ]
    },
    {
     "name": "stderr",
     "output_type": "stream",
     "text": [
      "  0%|▏                                                                      | 2023/1055840 [35:59<317:04:23,  1.08s/it]"
     ]
    },
    {
     "name": "stdout",
     "output_type": "stream",
     "text": [
      "Warning: Could not download image girl\\2022 from https://safebooru.org/thumbnails/154/thumbnail_c0509321afa42b0a67e4d6c39557936f500037d1.png\n"
     ]
    },
    {
     "name": "stderr",
     "output_type": "stream",
     "text": [
      "\r",
      "  0%|▏                                                                      | 2024/1055840 [35:59<252:23:49,  1.16it/s]"
     ]
    },
    {
     "name": "stdout",
     "output_type": "stream",
     "text": [
      "Warning: Could not download image girl\\2023 from https://safebooru.org/thumbnails/154/thumbnail_f274a3c13e0e09d017d973782edb0a47f7e6beba.png\n"
     ]
    },
    {
     "name": "stderr",
     "output_type": "stream",
     "text": [
      "  0%|▏                                                                      | 2026/1055840 [36:01<283:01:30,  1.03it/s]"
     ]
    },
    {
     "name": "stdout",
     "output_type": "stream",
     "text": [
      "Warning: Could not download image girl\\2025 from https://safebooru.org/thumbnails/154/thumbnail_b86c1a382b35e7d6982f20292fe6907e2f12c810.png\n"
     ]
    },
    {
     "name": "stderr",
     "output_type": "stream",
     "text": [
      "  0%|▏                                                                      | 2033/1055840 [36:08<288:56:16,  1.01it/s]"
     ]
    },
    {
     "name": "stdout",
     "output_type": "stream",
     "text": [
      "Warning: Could not download image girl\\2032 from https://safebooru.org/thumbnails/155/thumbnail_52460afa906ee8affffef7cd61ce4f3fa6920ebf.png\n"
     ]
    },
    {
     "name": "stderr",
     "output_type": "stream",
     "text": [
      "  0%|▏                                                                      | 2037/1055840 [36:13<303:41:19,  1.04s/it]"
     ]
    },
    {
     "name": "stdout",
     "output_type": "stream",
     "text": [
      "Warning: Could not download image girl\\2036 from https://safebooru.org/thumbnails/156/thumbnail_3c3c70ab58b14da20014c41a2caa4a302f155504.png\n"
     ]
    },
    {
     "name": "stderr",
     "output_type": "stream",
     "text": [
      "  0%|▏                                                                      | 2054/1055840 [36:30<306:30:47,  1.05s/it]"
     ]
    },
    {
     "name": "stdout",
     "output_type": "stream",
     "text": [
      "Warning: Could not download image girl\\2053 from https://safebooru.org/thumbnails/157/thumbnail_46e7a285af36122fbd75ac0186bc66ddc3e8b282.jpeg\n"
     ]
    },
    {
     "name": "stderr",
     "output_type": "stream",
     "text": [
      "  0%|▏                                                                      | 2060/1055840 [36:37<311:31:14,  1.06s/it]"
     ]
    },
    {
     "name": "stdout",
     "output_type": "stream",
     "text": [
      "Warning: Could not download image girl\\2059 from https://safebooru.org/thumbnails/158/thumbnail_e51854054be2a525d61bfc658bf903f8a88216fc.gif\n"
     ]
    },
    {
     "name": "stderr",
     "output_type": "stream",
     "text": [
      "  0%|▏                                                                      | 2069/1055840 [36:47<327:57:26,  1.12s/it]"
     ]
    },
    {
     "name": "stdout",
     "output_type": "stream",
     "text": [
      "Warning: Could not download image girl\\2068 from https://safebooru.org/thumbnails/159/thumbnail_22243a07b6d38e145ce740d3554171d028a1f491.png\n"
     ]
    },
    {
     "name": "stderr",
     "output_type": "stream",
     "text": [
      "  0%|▏                                                                      | 2076/1055840 [36:54<330:48:00,  1.13s/it]"
     ]
    },
    {
     "name": "stdout",
     "output_type": "stream",
     "text": [
      "Warning: Could not download image girl\\2075 from https://safebooru.org/thumbnails/159/thumbnail_185ea3869fb00cca3ec2476eeb50e0ff81ed92f8.png\n"
     ]
    },
    {
     "name": "stderr",
     "output_type": "stream",
     "text": [
      "  0%|▏                                                                      | 2083/1055840 [37:02<315:26:05,  1.08s/it]"
     ]
    },
    {
     "name": "stdout",
     "output_type": "stream",
     "text": [
      "Warning: Could not download image girl\\2082 from https://safebooru.org/thumbnails/159/thumbnail_d1b183197f0dcda69708e55b34fd68c47ed35531.png\n"
     ]
    },
    {
     "name": "stderr",
     "output_type": "stream",
     "text": [
      "\r",
      "  0%|▏                                                                      | 2084/1055840 [37:03<314:57:17,  1.08s/it]"
     ]
    },
    {
     "name": "stdout",
     "output_type": "stream",
     "text": [
      "Warning: Could not download image girl\\2083 from https://safebooru.org/thumbnails/160/thumbnail_5742c70dfbf672ca5433e9898bff87ffd9bd0099.png\n"
     ]
    },
    {
     "name": "stderr",
     "output_type": "stream",
     "text": [
      "  0%|▏                                                                      | 2099/1055840 [37:19<318:56:06,  1.09s/it]"
     ]
    },
    {
     "name": "stdout",
     "output_type": "stream",
     "text": [
      "Warning: Could not download image girl\\2098 from https://safebooru.org/thumbnails/161/thumbnail_0dcc39f97b70f18c68b6d673932157cc8dd613e9.jpeg\n"
     ]
    },
    {
     "name": "stderr",
     "output_type": "stream",
     "text": [
      "  0%|▏                                                                      | 2105/1055840 [37:25<314:57:02,  1.08s/it]"
     ]
    },
    {
     "name": "stdout",
     "output_type": "stream",
     "text": [
      "Warning: Could not download image girl\\2104 from https://safebooru.org/thumbnails/161/thumbnail_3ce486717c9fe60bbeb8746345fdf40cf2a79e63.png\n"
     ]
    },
    {
     "name": "stderr",
     "output_type": "stream",
     "text": [
      "\r",
      "  0%|▏                                                                      | 2106/1055840 [37:27<312:32:42,  1.07s/it]"
     ]
    },
    {
     "name": "stdout",
     "output_type": "stream",
     "text": [
      "Warning: Could not download image girl\\2105 from https://safebooru.org/thumbnails/161/thumbnail_1df9f8ba3e3fb98a4b770269d5dad530fc22953d.png\n"
     ]
    },
    {
     "name": "stderr",
     "output_type": "stream",
     "text": [
      "  0%|▏                                                                      | 2122/1055840 [37:43<308:43:23,  1.05s/it]"
     ]
    },
    {
     "name": "stdout",
     "output_type": "stream",
     "text": [
      "Warning: Could not download image girl\\2121 from https://safebooru.org/thumbnails/163/thumbnail_f040b7384d84fc4a6b3e1a16d6c16431a7499b90.png\n"
     ]
    },
    {
     "name": "stderr",
     "output_type": "stream",
     "text": [
      "  0%|▏                                                                      | 2129/1055840 [37:51<309:49:56,  1.06s/it]"
     ]
    },
    {
     "name": "stdout",
     "output_type": "stream",
     "text": [
      "Warning: Could not download image girl\\2128 from https://safebooru.org/thumbnails/164/thumbnail_2e4afeb341f3ce4e8f466ad29ab5346d513545a3.png\n"
     ]
    },
    {
     "name": "stderr",
     "output_type": "stream",
     "text": [
      "  0%|▏                                                                      | 2131/1055840 [37:53<307:30:03,  1.05s/it]"
     ]
    },
    {
     "name": "stdout",
     "output_type": "stream",
     "text": [
      "Warning: Could not download image girl\\2130 from https://safebooru.org/thumbnails/164/thumbnail_9ed7cfb8a4a70ee07f6190bdb3ab6487ecc19312.png\n"
     ]
    },
    {
     "name": "stderr",
     "output_type": "stream",
     "text": [
      "  0%|▏                                                                      | 2156/1055840 [38:21<322:52:32,  1.10s/it]"
     ]
    },
    {
     "name": "stdout",
     "output_type": "stream",
     "text": [
      "Warning: Could not download image girl\\2155 from https://safebooru.org/thumbnails/166/thumbnail_65a7dbf209e4db9e989a43a4054222d5be21edf0.png\n"
     ]
    },
    {
     "name": "stderr",
     "output_type": "stream",
     "text": [
      "  0%|▏                                                                      | 2159/1055840 [38:24<313:49:51,  1.07s/it]"
     ]
    },
    {
     "name": "stdout",
     "output_type": "stream",
     "text": [
      "Warning: Could not download image girl\\2158 from https://safebooru.org/thumbnails/166/thumbnail_8426960249f962af0d9a44da9ee310bdccb9f99d.png\n"
     ]
    },
    {
     "name": "stderr",
     "output_type": "stream",
     "text": [
      "  0%|▏                                                                      | 2189/1055840 [38:55<278:49:26,  1.05it/s]"
     ]
    },
    {
     "name": "stdout",
     "output_type": "stream",
     "text": [
      "Warning: Could not download image girl\\2188 from https://safebooru.org/thumbnails/168/thumbnail_91da4624d116b8b2be1a86c042a0f5f74fd50934.gif\n"
     ]
    },
    {
     "name": "stderr",
     "output_type": "stream",
     "text": [
      "  0%|▏                                                                      | 2191/1055840 [38:57<292:02:25,  1.00it/s]"
     ]
    },
    {
     "name": "stdout",
     "output_type": "stream",
     "text": [
      "Warning: Could not download image girl\\2190 from https://safebooru.org/thumbnails/168/thumbnail_5bdc81ba7efcddbdf942f6864809f934b87fa9cc.png\n"
     ]
    },
    {
     "name": "stderr",
     "output_type": "stream",
     "text": [
      "  0%|▏                                                                      | 2209/1055840 [39:17<336:41:56,  1.15s/it]"
     ]
    },
    {
     "name": "stdout",
     "output_type": "stream",
     "text": [
      "Warning: Could not download image girl\\2208 from https://safebooru.org/thumbnails/171/thumbnail_8079ddd068797091ec3620649453ad38a21334ef.png\n"
     ]
    },
    {
     "name": "stderr",
     "output_type": "stream",
     "text": [
      "  0%|▏                                                                      | 2213/1055840 [39:21<314:25:05,  1.07s/it]"
     ]
    },
    {
     "name": "stdout",
     "output_type": "stream",
     "text": [
      "Warning: Could not download image girl\\2212 from https://safebooru.org/thumbnails/171/thumbnail_4afd3655ebc8517ea19139c357e3f0a3d86f8e4c.png\n"
     ]
    },
    {
     "name": "stderr",
     "output_type": "stream",
     "text": [
      "  0%|▏                                                                      | 2232/1055840 [39:42<316:34:49,  1.08s/it]"
     ]
    },
    {
     "name": "stdout",
     "output_type": "stream",
     "text": [
      "Warning: Could not download image girl\\2231 from https://safebooru.org/thumbnails/173/thumbnail_108eec82eb0be191962fc8a3e9690c4a4accf03a.png\n"
     ]
    },
    {
     "name": "stderr",
     "output_type": "stream",
     "text": [
      "  0%|▏                                                                      | 2238/1055840 [39:48<297:21:30,  1.02s/it]"
     ]
    },
    {
     "name": "stdout",
     "output_type": "stream",
     "text": [
      "Warning: Could not download image girl\\2237 from https://safebooru.org/thumbnails/174/thumbnail_b556aa48f54b1a9911035b88826dbeae64a97817.jpeg\n"
     ]
    },
    {
     "name": "stderr",
     "output_type": "stream",
     "text": [
      "  0%|▏                                                                      | 2249/1055840 [40:00<315:25:56,  1.08s/it]"
     ]
    },
    {
     "name": "stdout",
     "output_type": "stream",
     "text": [
      "Warning: Could not download image girl\\2248 from https://safebooru.org/thumbnails/175/thumbnail_b3ce54cac26431645ca7471781d76403f0717242.png\n"
     ]
    },
    {
     "name": "stderr",
     "output_type": "stream",
     "text": [
      "\r",
      "  0%|▏                                                                      | 2250/1055840 [40:01<311:41:51,  1.07s/it]"
     ]
    },
    {
     "name": "stdout",
     "output_type": "stream",
     "text": [
      "Warning: Could not download image girl\\2249 from https://safebooru.org/thumbnails/175/thumbnail_35837731ec2c7829959534f931688c31ded2e894.png\n"
     ]
    },
    {
     "name": "stderr",
     "output_type": "stream",
     "text": [
      "  0%|▏                                                                      | 2255/1055840 [40:07<324:36:35,  1.11s/it]"
     ]
    },
    {
     "name": "stdout",
     "output_type": "stream",
     "text": [
      "Warning: Could not download image girl\\2254 from https://safebooru.org/thumbnails/175/thumbnail_bc65b0077156214e2db8805a22ec5f5dff9eed08.jpeg\n"
     ]
    },
    {
     "name": "stderr",
     "output_type": "stream",
     "text": [
      "  0%|▏                                                                      | 2268/1055840 [40:21<307:38:44,  1.05s/it]"
     ]
    },
    {
     "name": "stdout",
     "output_type": "stream",
     "text": [
      "Warning: Could not download image girl\\2267 from https://safebooru.org/thumbnails/176/thumbnail_1faa8d09abf2f9b263dd0e9b7edd92821843d861.png\n"
     ]
    },
    {
     "name": "stderr",
     "output_type": "stream",
     "text": [
      "  0%|▏                                                                      | 2301/1055840 [40:55<317:20:05,  1.08s/it]"
     ]
    },
    {
     "name": "stdout",
     "output_type": "stream",
     "text": [
      "Warning: Could not download image girl\\2300 from https://safebooru.org/thumbnails/178/thumbnail_7a20591e189531869ece63606c92f8828a5b37f7.png\n"
     ]
    },
    {
     "name": "stderr",
     "output_type": "stream",
     "text": [
      "\r",
      "  0%|▏                                                                      | 2302/1055840 [40:56<316:16:44,  1.08s/it]"
     ]
    },
    {
     "name": "stdout",
     "output_type": "stream",
     "text": [
      "Warning: Could not download image girl\\2301 from https://safebooru.org/thumbnails/178/thumbnail_697b818c97fa5ef4fd5228f84c0f4921d0f4a7fd.png\n"
     ]
    },
    {
     "name": "stderr",
     "output_type": "stream",
     "text": [
      "  0%|▏                                                                      | 2309/1055840 [41:04<314:43:16,  1.08s/it]"
     ]
    },
    {
     "name": "stdout",
     "output_type": "stream",
     "text": [
      "Warning: Could not download image girl\\2308 from https://safebooru.org/thumbnails/178/thumbnail_bc7ee9176622571ab7daa7ebc46e7fec5b27b947.gif\n"
     ]
    },
    {
     "name": "stderr",
     "output_type": "stream",
     "text": [
      "  0%|▏                                                                      | 2316/1055840 [41:11<309:55:18,  1.06s/it]"
     ]
    },
    {
     "name": "stdout",
     "output_type": "stream",
     "text": [
      "Warning: Could not download image girl\\2315 from https://safebooru.org/thumbnails/179/thumbnail_35b18b4a1d871ce6b1efffdb5dc9cdec3c0a1091.gif\n"
     ]
    },
    {
     "name": "stderr",
     "output_type": "stream",
     "text": [
      "  0%|▏                                                                      | 2321/1055840 [41:16<311:57:15,  1.07s/it]"
     ]
    },
    {
     "name": "stdout",
     "output_type": "stream",
     "text": [
      "Warning: Could not download image girl\\2320 from https://safebooru.org/thumbnails/179/thumbnail_bd46adf4c8bdf6257e9976601b95a4ac45aac6e5.png\n"
     ]
    },
    {
     "name": "stderr",
     "output_type": "stream",
     "text": [
      "\r",
      "  0%|▏                                                                      | 2322/1055840 [41:18<330:16:35,  1.13s/it]"
     ]
    },
    {
     "name": "stdout",
     "output_type": "stream",
     "text": [
      "Warning: Could not download image girl\\2321 from https://safebooru.org/thumbnails/179/thumbnail_ab11ab73da6eea6a382f63ba94f9f64fc17224c6.gif\n"
     ]
    },
    {
     "name": "stderr",
     "output_type": "stream",
     "text": [
      "  0%|▏                                                                      | 2325/1055840 [41:21<321:24:47,  1.10s/it]"
     ]
    },
    {
     "name": "stdout",
     "output_type": "stream",
     "text": [
      "Warning: Could not download image girl\\2324 from https://safebooru.org/thumbnails/179/thumbnail_1005b63d385c8cc8e0c497d390186cbb3861ddbf.png\n"
     ]
    },
    {
     "name": "stderr",
     "output_type": "stream",
     "text": [
      "  0%|▏                                                                      | 2329/1055840 [41:25<316:53:50,  1.08s/it]"
     ]
    },
    {
     "name": "stdout",
     "output_type": "stream",
     "text": [
      "Warning: Could not download image girl\\2328 from https://safebooru.org/thumbnails/180/thumbnail_853f15bfffc13f0a568ad662bd3f60ca018ff35b.png\n"
     ]
    },
    {
     "name": "stderr",
     "output_type": "stream",
     "text": [
      "  0%|▏                                                                      | 2331/1055840 [41:27<313:54:02,  1.07s/it]"
     ]
    },
    {
     "name": "stdout",
     "output_type": "stream",
     "text": [
      "Warning: Could not download image girl\\2330 from https://safebooru.org/thumbnails/180/thumbnail_288e7b01ee8677fd3ee49537e9dc73f6e4bd284c.png\n"
     ]
    },
    {
     "name": "stderr",
     "output_type": "stream",
     "text": [
      "  0%|▏                                                                      | 2340/1055840 [41:37<312:05:07,  1.07s/it]"
     ]
    },
    {
     "name": "stdout",
     "output_type": "stream",
     "text": [
      "Warning: Could not download image girl\\2339 from https://safebooru.org/thumbnails/180/thumbnail_9df589aa84d34994a4884a205cd38a35dfba8dfb.jpeg\n"
     ]
    },
    {
     "name": "stderr",
     "output_type": "stream",
     "text": [
      "  0%|▏                                                                      | 2344/1055840 [41:45<570:54:37,  1.95s/it]"
     ]
    },
    {
     "name": "stdout",
     "output_type": "stream",
     "text": [
      "Warning: Could not download image girl\\2343 from https://safebooru.org/thumbnails/180/thumbnail_0287870f87e04c19439f9ccda5d27ab96d21cf5f.gif\n"
     ]
    },
    {
     "name": "stderr",
     "output_type": "stream",
     "text": [
      "\r",
      "  0%|▏                                                                      | 2345/1055840 [41:46<499:16:08,  1.71s/it]"
     ]
    },
    {
     "name": "stdout",
     "output_type": "stream",
     "text": [
      "Warning: Could not download image girl\\2344 from https://safebooru.org/thumbnails/180/thumbnail_f4beb0a85459e86a15f17c605abb3f6de15b88ed.jpeg\n"
     ]
    },
    {
     "name": "stderr",
     "output_type": "stream",
     "text": [
      "  0%|▏                                                                      | 2374/1055840 [42:17<326:52:52,  1.12s/it]"
     ]
    },
    {
     "name": "stdout",
     "output_type": "stream",
     "text": [
      "Warning: Could not download image girl\\2373 from https://safebooru.org/thumbnails/182/thumbnail_6a5f90b43ae42771bb835f6b792e0313a32dad3e.png\n"
     ]
    },
    {
     "name": "stderr",
     "output_type": "stream",
     "text": [
      "  0%|▏                                                                      | 2401/1055840 [42:50<457:44:46,  1.56s/it]"
     ]
    },
    {
     "name": "stdout",
     "output_type": "stream",
     "text": [
      "Warning: Could not download image girl\\2400 from https://safebooru.org/thumbnails/185/thumbnail_98a9904b88b724f71860ca3d391fb55f72fee45e.png\n"
     ]
    },
    {
     "name": "stderr",
     "output_type": "stream",
     "text": [
      "  0%|▏                                                                      | 2404/1055840 [42:53<360:07:31,  1.23s/it]"
     ]
    },
    {
     "name": "stdout",
     "output_type": "stream",
     "text": [
      "Warning: Could not download image girl\\2403 from https://safebooru.org/thumbnails/186/thumbnail_e4aaecc253cad2ed026d550dd37d576040667e43.png\n"
     ]
    },
    {
     "name": "stderr",
     "output_type": "stream",
     "text": [
      "  0%|▏                                                                      | 2419/1055840 [43:11<313:31:43,  1.07s/it]\n"
     ]
    }
   ],
   "source": [
    "pathinit = 'https:'\n",
    "\n",
    "np.flip(girl_url_sample, 0)\n",
    "count = 0\n",
    "for idx in tqdm(range(len(girl_url_sample))):\n",
    "    url = girl_url_sample[idx]\n",
    "    save_dir = os.path.join('girl', str(idx))\n",
    "    if pathinit not in girl_url_sample[idx]:\n",
    "        url = pathinit + girl_url_sample[idx]\n",
    "    count = count + download_image(save_dir, url)\n",
    "    if count >= 2000:\n",
    "        break"
   ]
  },
  {
   "cell_type": "code",
   "execution_count": null,
   "metadata": {},
   "outputs": [
    {
     "name": "stderr",
     "output_type": "stream",
     "text": [
      "  0%|                                                                              | 6/69450 [00:01<5:59:11,  3.22it/s]"
     ]
    },
    {
     "name": "stdout",
     "output_type": "stream",
     "text": [
      "Warning: Could not download image boy\\4 from https://safebooru.org/thumbnails/1/thumbnail_e0826090e906fb6abe5b01097f706506e553ab4f.png\n"
     ]
    },
    {
     "name": "stderr",
     "output_type": "stream",
     "text": [
      "  0%|                                                                             | 26/69450 [00:04<7:20:15,  2.63it/s]"
     ]
    },
    {
     "name": "stdout",
     "output_type": "stream",
     "text": [
      "Warning: Could not download image boy\\25 from https://safebooru.org/thumbnails/43/thumbnail_88ef5d8407cffe463e85e1f42ad41d66aa3c7df7.png\n"
     ]
    },
    {
     "name": "stderr",
     "output_type": "stream",
     "text": [
      "  0%|                                                                             | 28/69450 [00:05<8:33:33,  2.25it/s]"
     ]
    },
    {
     "name": "stdout",
     "output_type": "stream",
     "text": [
      "Warning: Could not download image boy\\26 from https://safebooru.org/thumbnails/43/thumbnail_368dc6b807cd97ea39eb34eb314d399c5584717e.png\n"
     ]
    },
    {
     "name": "stderr",
     "output_type": "stream",
     "text": [
      "  0%|                                                                             | 39/69450 [00:07<2:23:14,  8.08it/s]"
     ]
    },
    {
     "name": "stdout",
     "output_type": "stream",
     "text": [
      "Warning: Could not download image boy\\37 from https://safebooru.org/thumbnails/52/thumbnail_61df6670276f2b0a0b770755c1a4e425371ccb14.png\n"
     ]
    },
    {
     "name": "stderr",
     "output_type": "stream",
     "text": [
      "  0%|                                                                             | 51/69450 [00:08<2:14:58,  8.57it/s]"
     ]
    },
    {
     "name": "stdout",
     "output_type": "stream",
     "text": [
      "Warning: Could not download image boy\\49 from https://safebooru.org/thumbnails/66/thumbnail_6563089c149ac868a911c71401fa8c08fcef1534.png\n",
      "Warning: Could not download image boy\\50 from https://safebooru.org/thumbnails/67/thumbnail_626aad06c4b9d059f1721726daff6564f5910134.png\n"
     ]
    },
    {
     "name": "stderr",
     "output_type": "stream",
     "text": [
      "  0%|                                                                             | 62/69450 [00:09<2:06:17,  9.16it/s]"
     ]
    },
    {
     "name": "stdout",
     "output_type": "stream",
     "text": [
      "Warning: Could not download image boy\\60 from https://safebooru.org/thumbnails/76/thumbnail_a77393236c0f66bd3157fb545b6073f45efb3fcb.jpeg\n"
     ]
    },
    {
     "name": "stderr",
     "output_type": "stream",
     "text": [
      "  0%|                                                                             | 76/69450 [00:12<6:06:44,  3.15it/s]"
     ]
    },
    {
     "name": "stdout",
     "output_type": "stream",
     "text": [
      "Warning: Could not download image boy\\74 from https://safebooru.org/thumbnails/88/thumbnail_6a0c27ac064ec53f45156a8e5432aea5ddb0351d.png\n"
     ]
    },
    {
     "name": "stderr",
     "output_type": "stream",
     "text": [
      "  0%|                                                                             | 78/69450 [00:13<7:54:20,  2.44it/s]"
     ]
    },
    {
     "name": "stdout",
     "output_type": "stream",
     "text": [
      "Warning: Could not download image boy\\76 from https://safebooru.org/thumbnails/89/thumbnail_6a6def95ee8877fcdd42fd57f18ece3d1934a7dd.png\n"
     ]
    },
    {
     "name": "stderr",
     "output_type": "stream",
     "text": [
      "  0%|                                                                             | 81/69450 [00:14<7:58:33,  2.42it/s]"
     ]
    },
    {
     "name": "stdout",
     "output_type": "stream",
     "text": [
      "Warning: Could not download image boy\\79 from https://safebooru.org/thumbnails/93/thumbnail_195075861312a76c2347659c0b098dc0ef081f14.png\n"
     ]
    },
    {
     "name": "stderr",
     "output_type": "stream",
     "text": [
      "  0%|                                                                             | 86/69450 [00:16<8:32:28,  2.26it/s]"
     ]
    },
    {
     "name": "stdout",
     "output_type": "stream",
     "text": [
      "Warning: Could not download image boy\\85 from https://safebooru.org/thumbnails/99/thumbnail_52389cd7359f05ff9dd3064b34b44b61ff625568.jpeg\n"
     ]
    },
    {
     "name": "stderr",
     "output_type": "stream",
     "text": [
      "  0%|                                                                             | 90/69450 [00:17<7:39:57,  2.51it/s]"
     ]
    },
    {
     "name": "stdout",
     "output_type": "stream",
     "text": [
      "Warning: Could not download image boy\\88 from https://safebooru.org/thumbnails/103/thumbnail_e2c28c5ea69ce38a6edec0788961f49ac6ded06f.png\n"
     ]
    },
    {
     "name": "stderr",
     "output_type": "stream",
     "text": [
      "  0%|                                                                            | 112/69450 [00:21<6:00:44,  3.20it/s]"
     ]
    },
    {
     "name": "stdout",
     "output_type": "stream",
     "text": [
      "Warning: Could not download image boy\\110 from https://safebooru.org/thumbnails/118/thumbnail_9ef1e365b230f76abf870ceb17ed6b6014b1ae03.jpeg\n"
     ]
    },
    {
     "name": "stderr",
     "output_type": "stream",
     "text": [
      "  0%|                                                                            | 114/69450 [00:22<9:30:04,  2.03it/s]"
     ]
    },
    {
     "name": "stdout",
     "output_type": "stream",
     "text": [
      "Warning: Could not download image boy\\113 from https://safebooru.org/thumbnails/119/thumbnail_a134e5b40c77f961f1e3f67d55f4a77e8141c8f0.jpeg\n"
     ]
    },
    {
     "name": "stderr",
     "output_type": "stream",
     "text": [
      "\r",
      "  0%|                                                                           | 115/69450 [00:23<12:43:34,  1.51it/s]"
     ]
    },
    {
     "name": "stdout",
     "output_type": "stream",
     "text": [
      "Warning: Could not download image boy\\114 from https://safebooru.org/thumbnails/120/thumbnail_39a1a7ed50d5437facb13470cc8139766c2d0bb5.jpeg\n"
     ]
    },
    {
     "name": "stderr",
     "output_type": "stream",
     "text": [
      "\r",
      "  0%|▏                                                                          | 116/69450 [00:24<15:02:13,  1.28it/s]"
     ]
    },
    {
     "name": "stdout",
     "output_type": "stream",
     "text": [
      "Warning: Could not download image boy\\115 from https://safebooru.org/thumbnails/120/thumbnail_5e273a5f4f3a7a18de35ee715575144e83d2f0ee.jpeg\n"
     ]
    },
    {
     "name": "stderr",
     "output_type": "stream",
     "text": [
      "  0%|▏                                                                          | 118/69450 [00:25<12:31:29,  1.54it/s]"
     ]
    },
    {
     "name": "stdout",
     "output_type": "stream",
     "text": [
      "Warning: Could not download image boy\\116 from https://safebooru.org/thumbnails/120/thumbnail_60092760c46e9940af020a0750c6bbacf33233ee.png\n"
     ]
    },
    {
     "name": "stderr",
     "output_type": "stream",
     "text": [
      "  0%|▏                                                                          | 120/69450 [00:26<11:14:03,  1.71it/s]"
     ]
    },
    {
     "name": "stdout",
     "output_type": "stream",
     "text": [
      "Warning: Could not download image boy\\118 from https://safebooru.org/thumbnails/122/thumbnail_94d4d730c92d45db086a4a9ae0060fb7ffd97c9e.png\n"
     ]
    },
    {
     "name": "stderr",
     "output_type": "stream",
     "text": [
      "  0%|▏                                                                           | 126/69450 [00:28<8:42:28,  2.21it/s]"
     ]
    },
    {
     "name": "stdout",
     "output_type": "stream",
     "text": [
      "Warning: Could not download image boy\\125 from https://safebooru.org/thumbnails/126/thumbnail_3719daea820aa9fdab85ff54fb5e215e3accfc74.gif\n"
     ]
    },
    {
     "name": "stderr",
     "output_type": "stream",
     "text": [
      "\r",
      "  0%|▏                                                                          | 127/69450 [00:29<12:09:23,  1.58it/s]"
     ]
    },
    {
     "name": "stdout",
     "output_type": "stream",
     "text": [
      "Warning: Could not download image boy\\126 from https://safebooru.org/thumbnails/126/thumbnail_244752a2dfd3b0816a619676ee86a4384480d8f0.gif\n"
     ]
    },
    {
     "name": "stderr",
     "output_type": "stream",
     "text": [
      "  0%|▏                                                                          | 129/69450 [00:30<10:55:45,  1.76it/s]"
     ]
    },
    {
     "name": "stdout",
     "output_type": "stream",
     "text": [
      "Warning: Could not download image boy\\127 from https://safebooru.org/thumbnails/126/thumbnail_fcca83d390283c92f69d9a3599bc687ef4957211.gif\n"
     ]
    },
    {
     "name": "stderr",
     "output_type": "stream",
     "text": [
      "\r",
      "  0%|▏                                                                          | 130/69450 [00:31<13:38:09,  1.41it/s]"
     ]
    },
    {
     "name": "stdout",
     "output_type": "stream",
     "text": [
      "Warning: Could not download image boy\\129 from https://safebooru.org/thumbnails/126/thumbnail_9d591c99210defe3365e6d273b57d421dfdf5c95.gif\n"
     ]
    },
    {
     "name": "stderr",
     "output_type": "stream",
     "text": [
      "\r",
      "  0%|▏                                                                          | 131/69450 [00:32<15:35:42,  1.23it/s]"
     ]
    },
    {
     "name": "stdout",
     "output_type": "stream",
     "text": [
      "Warning: Could not download image boy\\130 from https://safebooru.org/thumbnails/127/thumbnail_136409fb46f2e2a7ffcf1ce101cdab11eb0bc275.png\n"
     ]
    },
    {
     "name": "stderr",
     "output_type": "stream",
     "text": [
      "  0%|▏                                                                          | 133/69450 [00:34<12:44:27,  1.51it/s]"
     ]
    },
    {
     "name": "stdout",
     "output_type": "stream",
     "text": [
      "Warning: Could not download image boy\\131 from https://safebooru.org/thumbnails/128/thumbnail_b4fca1d4e84b1d4e0e002be204fc5fd0178d89d7.png\n"
     ]
    },
    {
     "name": "stderr",
     "output_type": "stream",
     "text": [
      "  0%|▏                                                                           | 140/69450 [00:35<8:20:11,  2.31it/s]"
     ]
    },
    {
     "name": "stdout",
     "output_type": "stream",
     "text": [
      "Warning: Could not download image boy\\139 from https://safebooru.org/thumbnails/135/thumbnail_2fa2b3e5a2b141d219d8bb875b5c6ad9dcc46c55.jpeg\n"
     ]
    },
    {
     "name": "stderr",
     "output_type": "stream",
     "text": [
      "\r",
      "  0%|▏                                                                          | 141/69450 [00:36<12:03:58,  1.60it/s]"
     ]
    },
    {
     "name": "stdout",
     "output_type": "stream",
     "text": [
      "Warning: Could not download image boy\\140 from https://safebooru.org/thumbnails/135/thumbnail_acfca2f9140cc94136022fbe92740866c5b79ca5.jpeg\n"
     ]
    },
    {
     "name": "stderr",
     "output_type": "stream",
     "text": [
      "  0%|▏                                                                          | 143/69450 [00:38<10:45:35,  1.79it/s]"
     ]
    },
    {
     "name": "stdout",
     "output_type": "stream",
     "text": [
      "Warning: Could not download image boy\\141 from https://safebooru.org/thumbnails/135/thumbnail_90c31384e6df683bd5d401a8c362ae8bacced545.jpeg\n"
     ]
    },
    {
     "name": "stderr",
     "output_type": "stream",
     "text": [
      "  0%|▏                                                                           | 156/69450 [00:40<6:10:43,  3.12it/s]"
     ]
    },
    {
     "name": "stdout",
     "output_type": "stream",
     "text": [
      "Warning: Could not download image boy\\154 from https://safebooru.org/thumbnails/139/thumbnail_247661566d238e9797d6a67d5b6729ec09962087.jpeg\n"
     ]
    },
    {
     "name": "stderr",
     "output_type": "stream",
     "text": [
      "  0%|▏                                                                           | 163/69450 [00:42<6:24:42,  3.00it/s]"
     ]
    },
    {
     "name": "stdout",
     "output_type": "stream",
     "text": [
      "Warning: Could not download image boy\\161 from https://safebooru.org/thumbnails/147/thumbnail_da0b53d54a5f9f7913db3fad836ebd6279498f6f.png\n"
     ]
    },
    {
     "name": "stderr",
     "output_type": "stream",
     "text": [
      "  0%|▏                                                                           | 165/69450 [00:43<8:06:41,  2.37it/s]"
     ]
    },
    {
     "name": "stdout",
     "output_type": "stream",
     "text": [
      "Warning: Could not download image boy\\163 from https://safebooru.org/thumbnails/149/thumbnail_d99e6ffe218986323e4b4eb2d0d5747d32c75356.png\n"
     ]
    },
    {
     "name": "stderr",
     "output_type": "stream",
     "text": [
      "  0%|▏                                                                           | 174/69450 [00:45<6:19:56,  3.04it/s]"
     ]
    },
    {
     "name": "stdout",
     "output_type": "stream",
     "text": [
      "Warning: Could not download image boy\\172 from https://safebooru.org/thumbnails/160/thumbnail_25f0104b703d6997984c3f7b0dba15a60bd47a9a.gif\n"
     ]
    },
    {
     "name": "stderr",
     "output_type": "stream",
     "text": [
      "  0%|▏                                                                           | 178/69450 [00:46<6:55:48,  2.78it/s]"
     ]
    },
    {
     "name": "stdout",
     "output_type": "stream",
     "text": [
      "Warning: Could not download image boy\\176 from https://safebooru.org/thumbnails/162/thumbnail_e126aac7222796a7dff1b564c226151b9a0cb96d.png\n"
     ]
    },
    {
     "name": "stderr",
     "output_type": "stream",
     "text": [
      "  0%|▏                                                                           | 181/69450 [00:48<7:37:48,  2.52it/s]"
     ]
    },
    {
     "name": "stdout",
     "output_type": "stream",
     "text": [
      "Warning: Could not download image boy\\179 from https://safebooru.org/thumbnails/165/thumbnail_1c3530583c2cfa8bc3a8635fb3d885ee3beb0de6.png\n"
     ]
    },
    {
     "name": "stderr",
     "output_type": "stream",
     "text": [
      "  0%|▏                                                                           | 189/69450 [00:50<6:40:16,  2.88it/s]"
     ]
    },
    {
     "name": "stdout",
     "output_type": "stream",
     "text": [
      "Warning: Could not download image boy\\187 from https://safebooru.org/thumbnails/171/thumbnail_f0a7d82e61eaab47d4f1874024f18e0c383c4c36.png\n"
     ]
    },
    {
     "name": "stderr",
     "output_type": "stream",
     "text": [
      "  0%|▏                                                                           | 198/69450 [00:51<6:08:20,  3.13it/s]"
     ]
    },
    {
     "name": "stdout",
     "output_type": "stream",
     "text": [
      "Warning: Could not download image boy\\196 from https://safebooru.org/thumbnails/187/thumbnail_c5d186f82fe8ebdef3870d935f74ecfd432f35cd.gif\n"
     ]
    },
    {
     "name": "stderr",
     "output_type": "stream",
     "text": [
      "  0%|▏                                                                           | 217/69450 [00:55<7:48:56,  2.46it/s]"
     ]
    },
    {
     "name": "stdout",
     "output_type": "stream",
     "text": [
      "Warning: Could not download image boy\\216 from https://safebooru.org/thumbnails/215/thumbnail_76a0852f77b708ee96cc98a66df719d0a806513f.gif\n"
     ]
    },
    {
     "name": "stderr",
     "output_type": "stream",
     "text": [
      "  0%|▏                                                                           | 219/69450 [00:56<8:41:27,  2.21it/s]"
     ]
    },
    {
     "name": "stdout",
     "output_type": "stream",
     "text": [
      "Warning: Could not download image boy\\217 from https://safebooru.org/thumbnails/219/thumbnail_3a8f1aa88efbf3115bc7ffb0dba6baa179c66848.png\n"
     ]
    },
    {
     "name": "stderr",
     "output_type": "stream",
     "text": [
      "  0%|▏                                                                           | 224/69450 [00:57<7:06:33,  2.70it/s]"
     ]
    },
    {
     "name": "stdout",
     "output_type": "stream",
     "text": [
      "Warning: Could not download image boy\\222 from https://safebooru.org/thumbnails/230/thumbnail_7fb0bab62b2edf09b52a67ff5b33809006fdaf04.png\n"
     ]
    },
    {
     "name": "stderr",
     "output_type": "stream",
     "text": [
      "  0%|▏                                                                           | 227/69450 [00:59<7:36:01,  2.53it/s]"
     ]
    },
    {
     "name": "stdout",
     "output_type": "stream",
     "text": [
      "Warning: Could not download image boy\\225 from https://safebooru.org/thumbnails/234/thumbnail_4fa74dbf36bba7a572d35dc82073a3d03b4b20ab.png\n"
     ]
    },
    {
     "name": "stderr",
     "output_type": "stream",
     "text": [
      "  0%|▎                                                                           | 233/69450 [01:00<6:51:06,  2.81it/s]"
     ]
    },
    {
     "name": "stdout",
     "output_type": "stream",
     "text": [
      "Warning: Could not download image boy\\231 from https://safebooru.org/thumbnails/245/thumbnail_b9bc873e8425750ddbf925725533b0e3ad54d879.jpeg\n"
     ]
    },
    {
     "name": "stderr",
     "output_type": "stream",
     "text": [
      "  0%|▎                                                                           | 239/69450 [01:02<6:29:21,  2.96it/s]"
     ]
    },
    {
     "name": "stdout",
     "output_type": "stream",
     "text": [
      "Warning: Could not download image boy\\237 from https://safebooru.org/thumbnails/264/thumbnail_d45d77d4ff273a10655831c179e394f35aa1c31e.gif\n"
     ]
    },
    {
     "name": "stderr",
     "output_type": "stream",
     "text": [
      "  0%|▎                                                                           | 243/69450 [01:03<5:48:06,  3.31it/s]"
     ]
    },
    {
     "name": "stdout",
     "output_type": "stream",
     "text": [
      "Warning: Could not download image boy\\240 from https://safebooru.org/thumbnails/273/thumbnail_85dc519f055dd82d0fd5db79ab6367c0c9e7688d.gif\n"
     ]
    },
    {
     "name": "stderr",
     "output_type": "stream",
     "text": [
      "  0%|▎                                                                           | 250/69450 [01:05<7:47:50,  2.47it/s]"
     ]
    },
    {
     "name": "stdout",
     "output_type": "stream",
     "text": [
      "Warning: Could not download image boy\\249 from https://safebooru.org/thumbnails/302/thumbnail_9cd8f10531c0bf868dccf4da55fd4f29a8f1da79.gif\n"
     ]
    },
    {
     "name": "stderr",
     "output_type": "stream",
     "text": [
      "\r",
      "  0%|▎                                                                          | 251/69450 [01:06<11:27:49,  1.68it/s]"
     ]
    },
    {
     "name": "stdout",
     "output_type": "stream",
     "text": [
      "Warning: Could not download image boy\\250 from https://safebooru.org/thumbnails/313/thumbnail_66af053098a6eb1c3ba12af8b52971fc1c010bb3.png\n"
     ]
    },
    {
     "name": "stderr",
     "output_type": "stream",
     "text": [
      "  0%|▎                                                                          | 253/69450 [01:07<10:33:29,  1.82it/s]"
     ]
    },
    {
     "name": "stdout",
     "output_type": "stream",
     "text": [
      "Warning: Could not download image boy\\251 from https://safebooru.org/thumbnails/314/thumbnail_6305b40c2e3832427fe2de633fc7c0482cb25e86.png\n"
     ]
    },
    {
     "name": "stderr",
     "output_type": "stream",
     "text": [
      "  0%|▎                                                                           | 260/69450 [01:09<6:49:04,  2.82it/s]"
     ]
    },
    {
     "name": "stdout",
     "output_type": "stream",
     "text": [
      "Warning: Could not download image boy\\258 from https://safebooru.org/thumbnails/336/thumbnail_a6921c828e57bab9b901c859411c7667f579d764.png\n"
     ]
    },
    {
     "name": "stderr",
     "output_type": "stream",
     "text": [
      "  0%|▎                                                                           | 263/69450 [01:10<7:38:55,  2.51it/s]"
     ]
    },
    {
     "name": "stdout",
     "output_type": "stream",
     "text": [
      "Warning: Could not download image boy\\261 from https://safebooru.org/thumbnails/340/thumbnail_1e4e397dc2528535d713300407ba69a52b9ba28c.png\n"
     ]
    },
    {
     "name": "stderr",
     "output_type": "stream",
     "text": [
      "  0%|▎                                                                           | 266/69450 [01:12<7:50:51,  2.45it/s]"
     ]
    },
    {
     "name": "stdout",
     "output_type": "stream",
     "text": [
      "Warning: Could not download image boy\\264 from https://safebooru.org/thumbnails/342/thumbnail_6685d4cdc995e7b5102d7e01f958cbe7e0e8b7d7.jpeg\n"
     ]
    },
    {
     "name": "stderr",
     "output_type": "stream",
     "text": [
      "  0%|▎                                                                           | 276/69450 [01:14<6:08:21,  3.13it/s]"
     ]
    },
    {
     "name": "stdout",
     "output_type": "stream",
     "text": [
      "Warning: Could not download image boy\\274 from https://safebooru.org/thumbnails/356/thumbnail_2af3fb0e2d10aeabd7a8b9a15f30a9b9cb4f8483.png\n"
     ]
    },
    {
     "name": "stderr",
     "output_type": "stream",
     "text": [
      "  0%|▎                                                                           | 291/69450 [01:16<5:58:36,  3.21it/s]"
     ]
    },
    {
     "name": "stdout",
     "output_type": "stream",
     "text": [
      "Warning: Could not download image boy\\289 from https://safebooru.org/thumbnails/381/thumbnail_38a4edf2eed1114eb98f41af7e103b83b6806ccd.png\n"
     ]
    },
    {
     "name": "stderr",
     "output_type": "stream",
     "text": [
      "  0%|▎                                                                           | 293/69450 [01:17<7:46:09,  2.47it/s]"
     ]
    },
    {
     "name": "stdout",
     "output_type": "stream",
     "text": [
      "Warning: Could not download image boy\\291 from https://safebooru.org/thumbnails/383/thumbnail_fccaa59a95fcc0069b43f16a626bea2b3d0aefa5.gif\n"
     ]
    },
    {
     "name": "stderr",
     "output_type": "stream",
     "text": [
      "  0%|▎                                                                           | 307/69450 [01:20<7:32:38,  2.55it/s]"
     ]
    },
    {
     "name": "stdout",
     "output_type": "stream",
     "text": [
      "Warning: Could not download image boy\\306 from https://safebooru.org/thumbnails/413/thumbnail_0b94c15c7c5d22e1e409adb14ec3838e1a819517.png\n"
     ]
    },
    {
     "name": "stderr",
     "output_type": "stream",
     "text": [
      "\r",
      "  0%|▎                                                                          | 308/69450 [01:21<11:24:43,  1.68it/s]"
     ]
    },
    {
     "name": "stdout",
     "output_type": "stream",
     "text": [
      "Warning: Could not download image boy\\307 from https://safebooru.org/thumbnails/413/thumbnail_689f5e3085f598a2eccb238de5d437e7827fe7da.png\n"
     ]
    },
    {
     "name": "stderr",
     "output_type": "stream",
     "text": [
      "\r",
      "  0%|▎                                                                          | 309/69450 [01:22<14:07:59,  1.36it/s]"
     ]
    },
    {
     "name": "stdout",
     "output_type": "stream",
     "text": [
      "Warning: Could not download image boy\\308 from https://safebooru.org/thumbnails/413/thumbnail_2797a67a954c6b388b3ececfa71fe253dc082255.png\n"
     ]
    },
    {
     "name": "stderr",
     "output_type": "stream",
     "text": [
      "  0%|▎                                                                          | 311/69450 [01:24<12:53:21,  1.49it/s]"
     ]
    },
    {
     "name": "stdout",
     "output_type": "stream",
     "text": [
      "Warning: Could not download image boy\\309 from https://safebooru.org/thumbnails/425/thumbnail_fe652d01f78dd5563a3e8c0cd3bc0601da846569.gif\n"
     ]
    },
    {
     "name": "stderr",
     "output_type": "stream",
     "text": [
      "  0%|▎                                                                          | 314/69450 [01:25<11:23:27,  1.69it/s]"
     ]
    },
    {
     "name": "stdout",
     "output_type": "stream",
     "text": [
      "Warning: Could not download image boy\\313 from https://safebooru.org/thumbnails/428/thumbnail_0b35e8bf6ad65110d933dd6cae9f75fa198e1aa5.gif\n"
     ]
    },
    {
     "name": "stderr",
     "output_type": "stream",
     "text": [
      "  0%|▎                                                                          | 316/69450 [01:26<10:41:59,  1.79it/s]"
     ]
    },
    {
     "name": "stdout",
     "output_type": "stream",
     "text": [
      "Warning: Could not download image boy\\314 from https://safebooru.org/thumbnails/429/thumbnail_82c4d962fcf386bcd3e05f136a36c6a12b2b1abd.gif\n"
     ]
    },
    {
     "name": "stderr",
     "output_type": "stream",
     "text": [
      "  0%|▎                                                                           | 321/69450 [01:27<7:36:36,  2.52it/s]"
     ]
    },
    {
     "name": "stdout",
     "output_type": "stream",
     "text": [
      "Warning: Could not download image boy\\320 from https://safebooru.org/thumbnails/437/thumbnail_aaaa1a43dcb0dfc7e64b7828a8218a7824acd983.png\n"
     ]
    },
    {
     "name": "stderr",
     "output_type": "stream",
     "text": [
      "\r",
      "  0%|▎                                                                          | 322/69450 [01:29<11:19:41,  1.70it/s]"
     ]
    },
    {
     "name": "stdout",
     "output_type": "stream",
     "text": [
      "Warning: Could not download image boy\\321 from https://safebooru.org/thumbnails/437/thumbnail_f2e65a0e6db4e476ea742e0e2bb8f2dc16bac472.png\n"
     ]
    },
    {
     "name": "stderr",
     "output_type": "stream",
     "text": [
      "  0%|▎                                                                          | 324/69450 [01:30<10:37:40,  1.81it/s]"
     ]
    },
    {
     "name": "stdout",
     "output_type": "stream",
     "text": [
      "Warning: Could not download image boy\\322 from https://safebooru.org/thumbnails/438/thumbnail_dccac1638ad503a19774c63bdff9a7dd37ccf97d.gif\n"
     ]
    },
    {
     "name": "stderr",
     "output_type": "stream",
     "text": [
      "  1%|▍                                                                           | 358/69450 [01:34<6:00:01,  3.20it/s]"
     ]
    },
    {
     "name": "stdout",
     "output_type": "stream",
     "text": [
      "Warning: Could not download image boy\\356 from https://safebooru.org/thumbnails/470/thumbnail_c8e67fd775fa3d03318d30aa9cb24b34b6c25d47.png\n"
     ]
    },
    {
     "name": "stderr",
     "output_type": "stream",
     "text": [
      "  1%|▍                                                                           | 362/69450 [01:36<8:38:09,  2.22it/s]"
     ]
    },
    {
     "name": "stdout",
     "output_type": "stream",
     "text": [
      "Warning: Could not download image boy\\361 from https://safebooru.org/thumbnails/476/thumbnail_8d8338f396df29d9423348138feecacfa8bee31e.png\n"
     ]
    },
    {
     "name": "stderr",
     "output_type": "stream",
     "text": [
      "  1%|▍                                                                           | 364/69450 [01:37<9:12:55,  2.08it/s]"
     ]
    },
    {
     "name": "stdout",
     "output_type": "stream",
     "text": [
      "Warning: Could not download image boy\\362 from https://safebooru.org/thumbnails/477/thumbnail_fa16c57d12b66bc0633a1bbdc6ab091d623c4d9f.png\n"
     ]
    },
    {
     "name": "stderr",
     "output_type": "stream",
     "text": [
      "  1%|▍                                                                           | 369/69450 [01:39<7:04:11,  2.71it/s]"
     ]
    },
    {
     "name": "stdout",
     "output_type": "stream",
     "text": [
      "Warning: Could not download image boy\\367 from https://safebooru.org/thumbnails/482/thumbnail_e3562721fc00a18d83885c285a266e165bf3718c.png\n"
     ]
    },
    {
     "name": "stderr",
     "output_type": "stream",
     "text": [
      "  1%|▍                                                                           | 381/69450 [01:41<6:16:46,  3.06it/s]"
     ]
    },
    {
     "name": "stdout",
     "output_type": "stream",
     "text": [
      "Warning: Could not download image boy\\379 from https://safebooru.org/thumbnails/499/thumbnail_cbe34dead000e7ad6d73636056e1f844724de867.png\n"
     ]
    },
    {
     "name": "stderr",
     "output_type": "stream",
     "text": [
      "  1%|▍                                                                           | 389/69450 [01:43<8:56:51,  2.14it/s]"
     ]
    },
    {
     "name": "stdout",
     "output_type": "stream",
     "text": [
      "Warning: Could not download image boy\\388 from https://safebooru.org/thumbnails/512/thumbnail_5d5c407449d98d259e270dffe1cd74abf26134ba.png\n"
     ]
    },
    {
     "name": "stderr",
     "output_type": "stream",
     "text": [
      "  1%|▍                                                                           | 391/69450 [01:44<9:14:14,  2.08it/s]"
     ]
    },
    {
     "name": "stdout",
     "output_type": "stream",
     "text": [
      "Warning: Could not download image boy\\389 from https://safebooru.org/thumbnails/513/thumbnail_d254094851c68d5edc8799287ac4911d6808c8ba.png\n"
     ]
    },
    {
     "name": "stderr",
     "output_type": "stream",
     "text": [
      "  1%|▍                                                                           | 404/69450 [01:47<6:08:41,  3.12it/s]"
     ]
    },
    {
     "name": "stdout",
     "output_type": "stream",
     "text": [
      "Warning: Could not download image boy\\402 from https://safebooru.org/thumbnails/529/thumbnail_57fa756b146449e28446371c5989104de8e3b8b6.png\n"
     ]
    },
    {
     "name": "stderr",
     "output_type": "stream",
     "text": [
      "  1%|▍                                                                           | 406/69450 [01:48<7:46:43,  2.47it/s]"
     ]
    },
    {
     "name": "stdout",
     "output_type": "stream",
     "text": [
      "Warning: Could not download image boy\\404 from https://safebooru.org/thumbnails/531/thumbnail_084f5a4022e722c2af7edaf9e6162d0218c1eb23.png\n"
     ]
    },
    {
     "name": "stderr",
     "output_type": "stream",
     "text": [
      "  1%|▍                                                                           | 433/69450 [01:52<7:31:38,  2.55it/s]"
     ]
    },
    {
     "name": "stdout",
     "output_type": "stream",
     "text": [
      "Warning: Could not download image boy\\432 from https://safebooru.org/thumbnails/559/thumbnail_14a1182bc4c58cc7d734aee8a5f30deb316f55d3.png\n"
     ]
    },
    {
     "name": "stderr",
     "output_type": "stream",
     "text": [
      "  1%|▍                                                                           | 435/69450 [01:53<8:30:48,  2.25it/s]"
     ]
    },
    {
     "name": "stdout",
     "output_type": "stream",
     "text": [
      "Warning: Could not download image boy\\433 from https://safebooru.org/thumbnails/560/thumbnail_70eb5857e5c9629c070db50dddc89ba3cc1076bf.png\n"
     ]
    },
    {
     "name": "stderr",
     "output_type": "stream",
     "text": [
      "  1%|▍                                                                           | 438/69450 [01:54<8:09:23,  2.35it/s]"
     ]
    },
    {
     "name": "stdout",
     "output_type": "stream",
     "text": [
      "Warning: Could not download image boy\\436 from https://safebooru.org/thumbnails/563/thumbnail_ab388d4e8d0c2b3961941cf7a51e688a7c9668f8.png\n"
     ]
    },
    {
     "name": "stderr",
     "output_type": "stream",
     "text": [
      "  1%|▍                                                                           | 445/69450 [01:56<6:25:44,  2.98it/s]"
     ]
    },
    {
     "name": "stdout",
     "output_type": "stream",
     "text": [
      "Warning: Could not download image boy\\443 from https://safebooru.org/thumbnails/573/thumbnail_31d0583dbcad3b025b516766be6cb63134e61184.png\n"
     ]
    },
    {
     "name": "stderr",
     "output_type": "stream",
     "text": [
      "  1%|▌                                                                           | 467/69450 [02:00<6:05:36,  3.14it/s]"
     ]
    },
    {
     "name": "stdout",
     "output_type": "stream",
     "text": [
      "Warning: Could not download image boy\\465 from https://safebooru.org/thumbnails/477/thumbnail_e85f542500bcbb365e58a68155c59f3eceea4b76.gif\n"
     ]
    },
    {
     "name": "stderr",
     "output_type": "stream",
     "text": [
      "  1%|▌                                                                           | 470/69450 [02:01<8:48:42,  2.17it/s]"
     ]
    },
    {
     "name": "stdout",
     "output_type": "stream",
     "text": [
      "Warning: Could not download image boy\\469 from https://safebooru.org/thumbnails/600/thumbnail_cb5f3237c702661ab8bbfd7995d40985b0bd6879.png\n"
     ]
    },
    {
     "name": "stderr",
     "output_type": "stream",
     "text": [
      "\r",
      "  1%|▌                                                                          | 471/69450 [02:02<12:06:36,  1.58it/s]"
     ]
    },
    {
     "name": "stdout",
     "output_type": "stream",
     "text": [
      "Warning: Could not download image boy\\470 from https://safebooru.org/thumbnails/601/thumbnail_187a47ddabebfb646c305f4aee176166.jpeg\n"
     ]
    },
    {
     "name": "stderr",
     "output_type": "stream",
     "text": [
      "  1%|▌                                                                          | 473/69450 [02:03<10:47:57,  1.77it/s]"
     ]
    },
    {
     "name": "stdout",
     "output_type": "stream",
     "text": [
      "Warning: Could not download image boy\\471 from https://safebooru.org/thumbnails/601/thumbnail_c54d12f643112edf6826df2ac798f7ec.jpeg\n"
     ]
    },
    {
     "name": "stderr",
     "output_type": "stream",
     "text": [
      "  1%|▌                                                                           | 477/69450 [02:05<8:15:51,  2.32it/s]"
     ]
    },
    {
     "name": "stdout",
     "output_type": "stream",
     "text": [
      "Warning: Could not download image boy\\475 from https://safebooru.org/thumbnails/609/thumbnail_02eef01e02cb71d2ec60f5425b19b72daa84ec57.png\n"
     ]
    },
    {
     "name": "stderr",
     "output_type": "stream",
     "text": [
      "  1%|▌                                                                           | 483/69450 [02:06<6:40:04,  2.87it/s]"
     ]
    },
    {
     "name": "stdout",
     "output_type": "stream",
     "text": [
      "Warning: Could not download image boy\\481 from https://safebooru.org/thumbnails/622/thumbnail_a7b2b3cf17589352b5637babf1d215ce391bb0a1.png\n"
     ]
    },
    {
     "name": "stderr",
     "output_type": "stream",
     "text": [
      "  1%|▌                                                                           | 485/69450 [02:07<8:07:32,  2.36it/s]"
     ]
    },
    {
     "name": "stdout",
     "output_type": "stream",
     "text": [
      "Warning: Could not download image boy\\483 from https://safebooru.org/thumbnails/624/thumbnail_9c8d95d63ff75874478041f0c5d235ae90c1ef3c.png\n"
     ]
    },
    {
     "name": "stderr",
     "output_type": "stream",
     "text": [
      "  1%|▌                                                                           | 495/69450 [02:10<6:07:20,  3.13it/s]"
     ]
    },
    {
     "name": "stdout",
     "output_type": "stream",
     "text": [
      "Warning: Could not download image boy\\493 from https://safebooru.org/thumbnails/631/thumbnail_234483785ca49753248581351c02734f13cd0e0a.png\n"
     ]
    },
    {
     "name": "stderr",
     "output_type": "stream",
     "text": [
      "  1%|▌                                                                           | 507/69450 [02:12<6:24:38,  2.99it/s]"
     ]
    },
    {
     "name": "stdout",
     "output_type": "stream",
     "text": [
      "Warning: Could not download image boy\\505 from https://safebooru.org/thumbnails/643/thumbnail_e7dfa7dfb7192a5e720291529d6fe54993e4d18f.png\n"
     ]
    },
    {
     "name": "stderr",
     "output_type": "stream",
     "text": [
      "  1%|▌                                                                           | 518/69450 [02:14<8:06:55,  2.36it/s]"
     ]
    },
    {
     "name": "stdout",
     "output_type": "stream",
     "text": [
      "Warning: Could not download image boy\\517 from https://safebooru.org/thumbnails/655/thumbnail_d476a301594f2627b116d5c854d54aaa.jpeg\n"
     ]
    },
    {
     "name": "stderr",
     "output_type": "stream",
     "text": [
      "\r",
      "  1%|▌                                                                          | 519/69450 [02:15<11:43:53,  1.63it/s]"
     ]
    },
    {
     "name": "stdout",
     "output_type": "stream",
     "text": [
      "Warning: Could not download image boy\\518 from https://safebooru.org/thumbnails/655/thumbnail_ec4d859514ea865efa2198a428b0189c.jpeg\n"
     ]
    },
    {
     "name": "stderr",
     "output_type": "stream",
     "text": [
      "\r",
      "  1%|▌                                                                          | 520/69450 [02:16<14:15:36,  1.34it/s]"
     ]
    },
    {
     "name": "stdout",
     "output_type": "stream",
     "text": [
      "Warning: Could not download image boy\\519 from https://safebooru.org/thumbnails/655/thumbnail_8c5d5ceff269e084b4b93bd0fe592dea.jpeg\n"
     ]
    },
    {
     "name": "stderr",
     "output_type": "stream",
     "text": [
      "\r",
      "  1%|▌                                                                          | 521/69450 [02:18<15:59:30,  1.20it/s]"
     ]
    },
    {
     "name": "stdout",
     "output_type": "stream",
     "text": [
      "Warning: Could not download image boy\\520 from https://safebooru.org/thumbnails/655/thumbnail_1f62a0032d98661211ecd169d4323131.jpeg\n"
     ]
    },
    {
     "name": "stderr",
     "output_type": "stream",
     "text": [
      "\r",
      "  1%|▌                                                                          | 522/69450 [02:19<17:15:15,  1.11it/s]"
     ]
    },
    {
     "name": "stdout",
     "output_type": "stream",
     "text": [
      "Warning: Could not download image boy\\521 from https://safebooru.org/thumbnails/656/thumbnail_26584f6bcc55dba42676c5de267d2850.png\n"
     ]
    },
    {
     "name": "stderr",
     "output_type": "stream",
     "text": [
      "\r",
      "  1%|▌                                                                          | 523/69450 [02:20<18:08:20,  1.06it/s]"
     ]
    },
    {
     "name": "stdout",
     "output_type": "stream",
     "text": [
      "Warning: Could not download image boy\\522 from https://safebooru.org/thumbnails/656/thumbnail_7423666e6228531e1a1bb806e731cf40.png\n"
     ]
    },
    {
     "name": "stderr",
     "output_type": "stream",
     "text": [
      "\r",
      "  1%|▌                                                                          | 524/69450 [02:21<18:45:41,  1.02it/s]"
     ]
    },
    {
     "name": "stdout",
     "output_type": "stream",
     "text": [
      "Warning: Could not download image boy\\523 from https://safebooru.org/thumbnails/656/thumbnail_ef16b04a2dd9bc88e494624d6471ff1b.png\n"
     ]
    },
    {
     "name": "stderr",
     "output_type": "stream",
     "text": [
      "\r",
      "  1%|▌                                                                          | 525/69450 [02:22<19:12:52,  1.00s/it]"
     ]
    },
    {
     "name": "stdout",
     "output_type": "stream",
     "text": [
      "Warning: Could not download image boy\\524 from https://safebooru.org/thumbnails/656/thumbnail_5de9b95860630f042d18f3bc25b665f3.jpeg\n"
     ]
    },
    {
     "name": "stderr",
     "output_type": "stream",
     "text": [
      "  1%|▌                                                                          | 527/69450 [02:23<14:39:23,  1.31it/s]"
     ]
    },
    {
     "name": "stdout",
     "output_type": "stream",
     "text": [
      "Warning: Could not download image boy\\525 from https://safebooru.org/thumbnails/656/thumbnail_108c8d28d8c1810876603f91c470bc80.png\n"
     ]
    },
    {
     "name": "stderr",
     "output_type": "stream",
     "text": [
      "\r",
      "  1%|▌                                                                          | 528/69450 [02:24<16:18:14,  1.17it/s]"
     ]
    },
    {
     "name": "stdout",
     "output_type": "stream",
     "text": [
      "Warning: Could not download image boy\\527 from https://safebooru.org/thumbnails/656/thumbnail_a88f63e5cb70ee669a5b1f02eb416e45.png\n"
     ]
    },
    {
     "name": "stderr",
     "output_type": "stream",
     "text": [
      "\r",
      "  1%|▌                                                                          | 529/69450 [02:25<17:28:25,  1.10it/s]"
     ]
    },
    {
     "name": "stdout",
     "output_type": "stream",
     "text": [
      "Warning: Could not download image boy\\528 from https://safebooru.org/thumbnails/658/thumbnail_2d211f972f5ec2ce6f79b58ee72af21c.jpeg\n"
     ]
    },
    {
     "name": "stderr",
     "output_type": "stream",
     "text": [
      "\r",
      "  1%|▌                                                                          | 530/69450 [02:26<18:18:38,  1.05it/s]"
     ]
    },
    {
     "name": "stdout",
     "output_type": "stream",
     "text": [
      "Warning: Could not download image boy\\529 from https://safebooru.org/thumbnails/658/thumbnail_df67eeb5ad57a304298170ec5500b243.jpeg\n"
     ]
    },
    {
     "name": "stderr",
     "output_type": "stream",
     "text": [
      "\r",
      "  1%|▌                                                                          | 531/69450 [02:27<18:52:28,  1.01it/s]"
     ]
    },
    {
     "name": "stdout",
     "output_type": "stream",
     "text": [
      "Warning: Could not download image boy\\530 from https://safebooru.org/thumbnails/660/thumbnail_6d9248b038b41a143c7da82c4a77e54a.jpeg\n"
     ]
    },
    {
     "name": "stderr",
     "output_type": "stream",
     "text": [
      "  1%|▌                                                                          | 533/69450 [02:28<14:14:10,  1.34it/s]"
     ]
    },
    {
     "name": "stdout",
     "output_type": "stream",
     "text": [
      "Warning: Could not download image boy\\531 from https://safebooru.org/thumbnails/660/thumbnail_80cb45f2bc4bb05872e74652943767290e5e42b6.gif\n"
     ]
    },
    {
     "name": "stderr",
     "output_type": "stream",
     "text": [
      "  1%|▌                                                                          | 535/69450 [02:30<11:48:46,  1.62it/s]"
     ]
    },
    {
     "name": "stdout",
     "output_type": "stream",
     "text": [
      "Warning: Could not download image boy\\533 from https://safebooru.org/thumbnails/662/thumbnail_dcde60528f108e09116fb843b7ab190615b5124d.png\n"
     ]
    },
    {
     "name": "stderr",
     "output_type": "stream",
     "text": [
      "  1%|▌                                                                           | 549/69450 [02:32<6:05:34,  3.14it/s]"
     ]
    },
    {
     "name": "stdout",
     "output_type": "stream",
     "text": [
      "Warning: Could not download image boy\\547 from https://safebooru.org/thumbnails/679/thumbnail_91c62b0f8b41367f897a424383009e30ad2b2d81.png\n"
     ]
    },
    {
     "name": "stderr",
     "output_type": "stream",
     "text": [
      "  1%|▌                                                                           | 553/69450 [02:33<8:27:32,  2.26it/s]"
     ]
    },
    {
     "name": "stdout",
     "output_type": "stream",
     "text": [
      "Warning: Could not download image boy\\552 from https://safebooru.org/thumbnails/682/thumbnail_6d67f025977b46e9ff227d4d5d5aeab6de7066d3.png\n"
     ]
    },
    {
     "name": "stderr",
     "output_type": "stream",
     "text": [
      "\r",
      "  1%|▌                                                                          | 554/69450 [02:35<11:56:00,  1.60it/s]"
     ]
    },
    {
     "name": "stdout",
     "output_type": "stream",
     "text": [
      "Warning: Could not download image boy\\553 from https://safebooru.org/thumbnails/682/thumbnail_08258d90914fddfb4df0ec7d3bd9d144681ccd03.png\n"
     ]
    },
    {
     "name": "stderr",
     "output_type": "stream",
     "text": [
      "  1%|▌                                                                          | 556/69450 [02:36<10:44:27,  1.78it/s]"
     ]
    },
    {
     "name": "stdout",
     "output_type": "stream",
     "text": [
      "Warning: Could not download image boy\\554 from https://safebooru.org/thumbnails/682/thumbnail_aa0a88673a34178212250968a9dff9cac6be5d41.png\n"
     ]
    },
    {
     "name": "stderr",
     "output_type": "stream",
     "text": [
      "  1%|▌                                                                          | 558/69450 [02:37<11:41:01,  1.64it/s]"
     ]
    },
    {
     "name": "stdout",
     "output_type": "stream",
     "text": [
      "Warning: Could not download image boy\\557 from https://safebooru.org/thumbnails/683/thumbnail_b71547894e238d0ee0e953247f22a69bf7abd5a4.png\n"
     ]
    },
    {
     "name": "stderr",
     "output_type": "stream",
     "text": [
      "  1%|▌                                                                          | 560/69450 [02:38<10:40:12,  1.79it/s]"
     ]
    },
    {
     "name": "stdout",
     "output_type": "stream",
     "text": [
      "Warning: Could not download image boy\\558 from https://safebooru.org/thumbnails/683/thumbnail_931f1c2bce2500f102fa968a86a943aebafbd5f5.png\n"
     ]
    },
    {
     "name": "stderr",
     "output_type": "stream",
     "text": [
      "  1%|▌                                                                          | 562/69450 [02:39<11:37:02,  1.65it/s]"
     ]
    },
    {
     "name": "stdout",
     "output_type": "stream",
     "text": [
      "Warning: Could not download image boy\\561 from https://safebooru.org/thumbnails/687/thumbnail_c31e64abe130653b6ffb93d25db798fc50070002.png\n"
     ]
    },
    {
     "name": "stderr",
     "output_type": "stream",
     "text": [
      "  1%|▌                                                                          | 564/69450 [02:40<10:40:45,  1.79it/s]"
     ]
    },
    {
     "name": "stdout",
     "output_type": "stream",
     "text": [
      "Warning: Could not download image boy\\562 from https://safebooru.org/thumbnails/688/thumbnail_c0c951529a7a9465779a29e5ee1a35e3.jpeg\n"
     ]
    },
    {
     "name": "stderr",
     "output_type": "stream",
     "text": [
      "  1%|▌                                                                          | 566/69450 [02:42<11:39:55,  1.64it/s]"
     ]
    },
    {
     "name": "stdout",
     "output_type": "stream",
     "text": [
      "Warning: Could not download image boy\\565 from https://safebooru.org/thumbnails/692/thumbnail_1498a5cf421bb3c600fd595e3ebdd5eb.png\n"
     ]
    },
    {
     "name": "stderr",
     "output_type": "stream",
     "text": [
      "  1%|▌                                                                          | 568/69450 [02:43<10:42:42,  1.79it/s]"
     ]
    },
    {
     "name": "stdout",
     "output_type": "stream",
     "text": [
      "Warning: Could not download image boy\\566 from https://safebooru.org/thumbnails/692/thumbnail_d458fc0fd9c0c58b85db30925cddc50b148a7903.png\n"
     ]
    },
    {
     "name": "stderr",
     "output_type": "stream",
     "text": [
      "  1%|▌                                                                           | 571/69450 [02:44<8:51:22,  2.16it/s]"
     ]
    },
    {
     "name": "stdout",
     "output_type": "stream",
     "text": [
      "Warning: Could not download image boy\\569 from https://safebooru.org/thumbnails/694/thumbnail_e15f8b78ef800086ecdef6c608210e1812d95a01.png\n"
     ]
    },
    {
     "name": "stderr",
     "output_type": "stream",
     "text": [
      "  1%|▋                                                                           | 578/69450 [02:46<6:28:44,  2.95it/s]"
     ]
    },
    {
     "name": "stdout",
     "output_type": "stream",
     "text": [
      "Warning: Could not download image boy\\576 from https://safebooru.org/thumbnails/702/thumbnail_2fb5a34fc619601112e3636ac723cbef692793cb.png\n"
     ]
    },
    {
     "name": "stderr",
     "output_type": "stream",
     "text": [
      "  1%|▋                                                                           | 588/69450 [02:48<6:03:32,  3.16it/s]"
     ]
    },
    {
     "name": "stdout",
     "output_type": "stream",
     "text": [
      "Warning: Could not download image boy\\586 from https://safebooru.org/thumbnails/708/thumbnail_747db0d8398178b427736068f7c4068c8b0d5798.png\n"
     ]
    },
    {
     "name": "stderr",
     "output_type": "stream",
     "text": [
      "  1%|▋                                                                           | 593/69450 [02:49<8:21:41,  2.29it/s]"
     ]
    },
    {
     "name": "stdout",
     "output_type": "stream",
     "text": [
      "Warning: Could not download image boy\\592 from https://safebooru.org/thumbnails/710/thumbnail_c4333b3f8d062d4300f9390c052a2f7716003726.png\n"
     ]
    },
    {
     "name": "stderr",
     "output_type": "stream",
     "text": [
      "  1%|▋                                                                          | 596/69450 [02:51<10:28:06,  1.83it/s]"
     ]
    },
    {
     "name": "stdout",
     "output_type": "stream",
     "text": [
      "Warning: Could not download image boy\\595 from https://safebooru.org/thumbnails/712/thumbnail_a2868958c8ccfeaa8ec40719f7315ce268a293a6.png\n"
     ]
    },
    {
     "name": "stderr",
     "output_type": "stream",
     "text": [
      "  1%|▋                                                                          | 598/69450 [02:52<10:12:38,  1.87it/s]"
     ]
    },
    {
     "name": "stdout",
     "output_type": "stream",
     "text": [
      "Warning: Could not download image boy\\596 from https://safebooru.org/thumbnails/712/thumbnail_b7968aca22e138f4b0c440143fc36d3fcc03ac35.png\n"
     ]
    },
    {
     "name": "stderr",
     "output_type": "stream",
     "text": [
      "  1%|▋                                                                           | 606/69450 [02:54<6:15:15,  3.06it/s]"
     ]
    },
    {
     "name": "stdout",
     "output_type": "stream",
     "text": [
      "Warning: Could not download image boy\\604 from https://safebooru.org/thumbnails/713/thumbnail_e7cabf264a20722c12fc127c7caad2ed53a1cc74.png\n"
     ]
    },
    {
     "name": "stderr",
     "output_type": "stream",
     "text": [
      "  1%|▋                                                                           | 611/69450 [02:55<8:12:26,  2.33it/s]"
     ]
    },
    {
     "name": "stdout",
     "output_type": "stream",
     "text": [
      "Warning: Could not download image boy\\610 from https://safebooru.org/thumbnails/716/thumbnail_d4c3b30d6103f13cbe3dea69d37fd96437ae91e2.png\n"
     ]
    },
    {
     "name": "stderr",
     "output_type": "stream",
     "text": [
      "  1%|▋                                                                           | 613/69450 [02:56<8:51:36,  2.16it/s]"
     ]
    },
    {
     "name": "stdout",
     "output_type": "stream",
     "text": [
      "Warning: Could not download image boy\\611 from https://safebooru.org/thumbnails/716/thumbnail_416c6ed6d465a74d9da2634cee0a4f12542134ce.png\n"
     ]
    },
    {
     "name": "stderr",
     "output_type": "stream",
     "text": [
      "  1%|▋                                                                           | 620/69450 [02:58<8:08:06,  2.35it/s]"
     ]
    },
    {
     "name": "stdout",
     "output_type": "stream",
     "text": [
      "Warning: Could not download image boy\\619 from https://safebooru.org/thumbnails/717/thumbnail_52a1ae75b9dded20365d331ccaa682a4640cf514.gif\n"
     ]
    },
    {
     "name": "stderr",
     "output_type": "stream",
     "text": [
      "  1%|▋                                                                           | 622/69450 [02:59<8:52:50,  2.15it/s]"
     ]
    },
    {
     "name": "stdout",
     "output_type": "stream",
     "text": [
      "Warning: Could not download image boy\\620 from https://safebooru.org/thumbnails/717/thumbnail_cbef31ee7eeac4291ac63890be3b249864a00d7d.png\n"
     ]
    },
    {
     "name": "stderr",
     "output_type": "stream",
     "text": [
      "  1%|▋                                                                          | 628/69450 [03:06<19:33:13,  1.02s/it]"
     ]
    },
    {
     "name": "stdout",
     "output_type": "stream",
     "text": [
      "Warning: Could not download image boy\\627 from https://safebooru.org/thumbnails/719/thumbnail_af99170dd688b2ec309ee46c826673da71974ab0.png\n"
     ]
    },
    {
     "name": "stderr",
     "output_type": "stream",
     "text": [
      "  1%|▋                                                                          | 630/69450 [03:08<19:50:40,  1.04s/it]"
     ]
    },
    {
     "name": "stdout",
     "output_type": "stream",
     "text": [
      "Warning: Could not download image boy\\629 from https://safebooru.org/thumbnails/719/thumbnail_bcd5c265d0b20ca16829e34763c0c7dd0fbff411.png\n"
     ]
    },
    {
     "name": "stderr",
     "output_type": "stream",
     "text": [
      "  1%|▋                                                                          | 649/69450 [03:28<20:20:40,  1.06s/it]"
     ]
    },
    {
     "name": "stdout",
     "output_type": "stream",
     "text": [
      "Warning: Could not download image boy\\648 from https://safebooru.org/thumbnails/723/thumbnail_0310ce7accbb22e2b8702672bcae756f7d81da67.png\n"
     ]
    },
    {
     "name": "stderr",
     "output_type": "stream",
     "text": [
      "  1%|▋                                                                          | 653/69450 [03:33<20:38:30,  1.08s/it]"
     ]
    },
    {
     "name": "stdout",
     "output_type": "stream",
     "text": [
      "Warning: Could not download image boy\\652 from https://safebooru.org/thumbnails/724/thumbnail_87375ff40c90f79fd066a4798fa92a292f22c292.png\n"
     ]
    },
    {
     "name": "stderr",
     "output_type": "stream",
     "text": [
      "\r",
      "  1%|▋                                                                          | 654/69450 [03:34<20:34:26,  1.08s/it]"
     ]
    },
    {
     "name": "stdout",
     "output_type": "stream",
     "text": [
      "Warning: Could not download image boy\\653 from https://safebooru.org/thumbnails/724/thumbnail_3f5f5897a336b5aa1f62f60c8d72a252b3fae970.png\n"
     ]
    },
    {
     "name": "stderr",
     "output_type": "stream",
     "text": [
      "  1%|▋                                                                          | 656/69450 [03:36<20:29:36,  1.07s/it]"
     ]
    },
    {
     "name": "stdout",
     "output_type": "stream",
     "text": [
      "Warning: Could not download image boy\\655 from https://safebooru.org/thumbnails/724/thumbnail_1b81b49fcb8747c7be9e6eb4e7231ae211930b1e.png\n"
     ]
    },
    {
     "name": "stderr",
     "output_type": "stream",
     "text": [
      "  1%|▋                                                                          | 673/69450 [03:54<20:10:54,  1.06s/it]"
     ]
    },
    {
     "name": "stdout",
     "output_type": "stream",
     "text": [
      "Warning: Could not download image boy\\672 from https://safebooru.org/thumbnails/727/thumbnail_45c5ef544e9f54d14eb88652ec354f17ee1bb233.png\n"
     ]
    },
    {
     "name": "stderr",
     "output_type": "stream",
     "text": [
      "  1%|▊                                                                          | 700/69450 [04:22<20:03:19,  1.05s/it]"
     ]
    },
    {
     "name": "stdout",
     "output_type": "stream",
     "text": [
      "Warning: Could not download image boy\\699 from https://safebooru.org/thumbnails/730/thumbnail_10e34254e6ef6c459778b91f93d17ffd86e664ac.png\n"
     ]
    },
    {
     "name": "stderr",
     "output_type": "stream",
     "text": [
      "  1%|▊                                                                          | 702/69450 [04:24<20:04:12,  1.05s/it]"
     ]
    },
    {
     "name": "stdout",
     "output_type": "stream",
     "text": [
      "Warning: Could not download image boy\\701 from https://safebooru.org/thumbnails/731/thumbnail_b50725634f89fba32adff4d72b34cb5307686d4a.png\n"
     ]
    },
    {
     "name": "stderr",
     "output_type": "stream",
     "text": [
      "  1%|▊                                                                          | 704/69450 [04:26<20:08:21,  1.05s/it]"
     ]
    },
    {
     "name": "stdout",
     "output_type": "stream",
     "text": [
      "Warning: Could not download image boy\\703 from https://safebooru.org/thumbnails/731/thumbnail_253d721e35cd7ac4eac4fcac8d9ec8a347c1474f.png\n"
     ]
    },
    {
     "name": "stderr",
     "output_type": "stream",
     "text": [
      "\r",
      "  1%|▊                                                                          | 705/69450 [04:27<20:02:50,  1.05s/it]"
     ]
    },
    {
     "name": "stdout",
     "output_type": "stream",
     "text": [
      "Warning: Could not download image boy\\704 from https://safebooru.org/thumbnails/731/thumbnail_7d4c52f5a5b1ef92b920e53a0f0ca529c5732ae5.png\n"
     ]
    },
    {
     "name": "stderr",
     "output_type": "stream",
     "text": [
      "  1%|▊                                                                          | 711/69450 [04:34<20:11:21,  1.06s/it]"
     ]
    },
    {
     "name": "stdout",
     "output_type": "stream",
     "text": [
      "Warning: Could not download image boy\\710 from https://safebooru.org/thumbnails/733/thumbnail_97598c1b99ffe33f11e39e85842b735d9d928ebe.png\n"
     ]
    },
    {
     "name": "stderr",
     "output_type": "stream",
     "text": [
      "  1%|▊                                                                          | 714/69450 [04:37<20:15:54,  1.06s/it]"
     ]
    },
    {
     "name": "stdout",
     "output_type": "stream",
     "text": [
      "Warning: Could not download image boy\\713 from https://safebooru.org/thumbnails/734/thumbnail_8fad7c2a37821efe5100727fff8b66668e3323e1.png\n"
     ]
    },
    {
     "name": "stderr",
     "output_type": "stream",
     "text": [
      "  1%|▊                                                                          | 718/69450 [04:41<20:22:01,  1.07s/it]"
     ]
    },
    {
     "name": "stdout",
     "output_type": "stream",
     "text": [
      "Warning: Could not download image boy\\717 from https://safebooru.org/thumbnails/736/thumbnail_7ff34892c878e7fc9e2352ab38a5c8ff4f1feace.png\n"
     ]
    },
    {
     "name": "stderr",
     "output_type": "stream",
     "text": [
      "\r",
      "  1%|▊                                                                          | 719/69450 [04:42<20:20:43,  1.07s/it]"
     ]
    },
    {
     "name": "stdout",
     "output_type": "stream",
     "text": [
      "Warning: Could not download image boy\\718 from https://safebooru.org/thumbnails/736/thumbnail_b7ac47942a967554f13928c1db3c32143971b942.png\n"
     ]
    },
    {
     "name": "stderr",
     "output_type": "stream",
     "text": [
      "  1%|▊                                                                          | 723/69450 [04:46<20:11:02,  1.06s/it]"
     ]
    },
    {
     "name": "stdout",
     "output_type": "stream",
     "text": [
      "Warning: Could not download image boy\\722 from https://safebooru.org/thumbnails/737/thumbnail_e32861eb9581baf8337c3eaa6798c8403e1cae33.png\n"
     ]
    },
    {
     "name": "stderr",
     "output_type": "stream",
     "text": [
      "\r",
      "  1%|▊                                                                          | 724/69450 [04:48<20:04:50,  1.05s/it]"
     ]
    },
    {
     "name": "stdout",
     "output_type": "stream",
     "text": [
      "Warning: Could not download image boy\\723 from https://safebooru.org/thumbnails/737/thumbnail_79b986e5892b2220fb5eec34551cd8971adf80ec.png\n"
     ]
    },
    {
     "name": "stderr",
     "output_type": "stream",
     "text": [
      "  1%|▊                                                                          | 739/69450 [05:04<20:21:32,  1.07s/it]"
     ]
    },
    {
     "name": "stdout",
     "output_type": "stream",
     "text": [
      "Warning: Could not download image boy\\738 from https://safebooru.org/thumbnails/739/thumbnail_538aa822a7246617a031ada160a8bf4034f00ff3.png\n"
     ]
    },
    {
     "name": "stderr",
     "output_type": "stream",
     "text": [
      "  1%|▊                                                                          | 748/69450 [05:13<20:10:34,  1.06s/it]"
     ]
    },
    {
     "name": "stdout",
     "output_type": "stream",
     "text": [
      "Warning: Could not download image boy\\747 from https://safebooru.org/thumbnails/741/thumbnail_eeb3f0f2e607c227f8a9448cb87fc259842fe917.png\n"
     ]
    },
    {
     "name": "stderr",
     "output_type": "stream",
     "text": [
      "  1%|▊                                                                          | 750/69450 [05:15<20:22:26,  1.07s/it]"
     ]
    },
    {
     "name": "stdout",
     "output_type": "stream",
     "text": [
      "Warning: Could not download image boy\\749 from https://safebooru.org/thumbnails/742/thumbnail_57278905a32a386b5a1c8af0e06729100db7e293.png\n"
     ]
    },
    {
     "name": "stderr",
     "output_type": "stream",
     "text": [
      "  1%|▊                                                                          | 753/69450 [05:19<21:57:37,  1.15s/it]"
     ]
    },
    {
     "name": "stdout",
     "output_type": "stream",
     "text": [
      "Warning: Could not download image boy\\752 from https://safebooru.org/thumbnails/743/thumbnail_ebf0acdd92bc74f5885c2610da1fa276.png\n"
     ]
    },
    {
     "name": "stderr",
     "output_type": "stream",
     "text": [
      "  1%|▊                                                                          | 755/69450 [05:21<20:51:09,  1.09s/it]"
     ]
    },
    {
     "name": "stdout",
     "output_type": "stream",
     "text": [
      "Warning: Could not download image boy\\754 from https://safebooru.org/thumbnails/743/thumbnail_be701108ddb740f0a72dea9b9e553312ad04c0c3.png\n"
     ]
    },
    {
     "name": "stderr",
     "output_type": "stream",
     "text": [
      "\r",
      "  1%|▊                                                                          | 756/69450 [05:22<20:35:37,  1.08s/it]"
     ]
    },
    {
     "name": "stdout",
     "output_type": "stream",
     "text": [
      "Warning: Could not download image boy\\755 from https://safebooru.org/thumbnails/743/thumbnail_8cc6cfbff222a1c5fe821a1b180fff1a407ed2df.png\n"
     ]
    },
    {
     "name": "stderr",
     "output_type": "stream",
     "text": [
      "  1%|▊                                                                          | 759/69450 [05:25<20:15:51,  1.06s/it]"
     ]
    },
    {
     "name": "stdout",
     "output_type": "stream",
     "text": [
      "Warning: Could not download image boy\\758 from https://safebooru.org/thumbnails/744/thumbnail_e4136ecfd4d5f5edea5213c613b07c238fa7f714.png\n"
     ]
    },
    {
     "name": "stderr",
     "output_type": "stream",
     "text": [
      "\r",
      "  1%|▊                                                                          | 760/69450 [05:26<20:08:55,  1.06s/it]"
     ]
    },
    {
     "name": "stdout",
     "output_type": "stream",
     "text": [
      "Warning: Could not download image boy\\759 from https://safebooru.org/thumbnails/744/thumbnail_4f216056d3e91a1df1c652c222b5f0869db235ed.png\n"
     ]
    },
    {
     "name": "stderr",
     "output_type": "stream",
     "text": [
      "\r",
      "  1%|▊                                                                          | 761/69450 [05:27<20:07:19,  1.05s/it]"
     ]
    },
    {
     "name": "stdout",
     "output_type": "stream",
     "text": [
      "Warning: Could not download image boy\\760 from https://safebooru.org/thumbnails/744/thumbnail_9a486a7a800e17db4e0078607c5ee07703986c6a.png\n"
     ]
    },
    {
     "name": "stderr",
     "output_type": "stream",
     "text": [
      "\r",
      "  1%|▊                                                                          | 762/69450 [05:28<20:10:27,  1.06s/it]"
     ]
    },
    {
     "name": "stdout",
     "output_type": "stream",
     "text": [
      "Warning: Could not download image boy\\761 from https://safebooru.org/thumbnails/744/thumbnail_2ebf74078edc0ac0e781f177b2e47700929e43f6.png\n"
     ]
    },
    {
     "name": "stderr",
     "output_type": "stream",
     "text": [
      "\r",
      "  1%|▊                                                                          | 763/69450 [05:29<20:09:33,  1.06s/it]"
     ]
    },
    {
     "name": "stdout",
     "output_type": "stream",
     "text": [
      "Warning: Could not download image boy\\762 from https://safebooru.org/thumbnails/744/thumbnail_45ead902a1f9cc2974bb2ed43daf787d6f7b904d.png\n"
     ]
    },
    {
     "name": "stderr",
     "output_type": "stream",
     "text": [
      "  1%|▊                                                                          | 769/69450 [05:36<20:37:39,  1.08s/it]"
     ]
    },
    {
     "name": "stdout",
     "output_type": "stream",
     "text": [
      "Warning: Could not download image boy\\768 from https://safebooru.org/thumbnails/745/thumbnail_e2e9dc802d7140f711c57ae01cba90c25f399aea.png\n"
     ]
    },
    {
     "name": "stderr",
     "output_type": "stream",
     "text": [
      "  1%|▊                                                                          | 773/69450 [05:40<18:23:06,  1.04it/s]"
     ]
    },
    {
     "name": "stdout",
     "output_type": "stream",
     "text": [
      "Warning: Could not download image boy\\772 from https://safebooru.org/thumbnails/745/thumbnail_295276aaab3de1964522117aacaef2f886395f7a.png\n"
     ]
    },
    {
     "name": "stderr",
     "output_type": "stream",
     "text": [
      "  1%|▊                                                                          | 781/69450 [05:48<21:17:02,  1.12s/it]"
     ]
    },
    {
     "name": "stdout",
     "output_type": "stream",
     "text": [
      "Warning: Could not download image boy\\780 from https://safebooru.org/thumbnails/748/thumbnail_97b4785ec6f14ce3d3095dcdbba15c26714f68af.png\n"
     ]
    },
    {
     "name": "stderr",
     "output_type": "stream",
     "text": [
      "  1%|▊                                                                          | 793/69450 [06:01<20:00:18,  1.05s/it]"
     ]
    },
    {
     "name": "stdout",
     "output_type": "stream",
     "text": [
      "Warning: Could not download image boy\\792 from https://safebooru.org/thumbnails/753/thumbnail_37c925e7fdff3d076e470a3d91ecac4c4de81a73.png\n"
     ]
    },
    {
     "name": "stderr",
     "output_type": "stream",
     "text": [
      "  1%|▊                                                                          | 798/69450 [06:06<20:06:14,  1.05s/it]"
     ]
    },
    {
     "name": "stdout",
     "output_type": "stream",
     "text": [
      "Warning: Could not download image boy\\797 from https://safebooru.org/thumbnails/755/thumbnail_9402f0ebe6e6deaea5770b3bd5511e1a.png\n"
     ]
    },
    {
     "name": "stderr",
     "output_type": "stream",
     "text": [
      "\r",
      "  1%|▊                                                                          | 799/69450 [06:07<20:02:45,  1.05s/it]"
     ]
    },
    {
     "name": "stdout",
     "output_type": "stream",
     "text": [
      "Warning: Could not download image boy\\798 from https://safebooru.org/thumbnails/756/thumbnail_1ae341d08e6486aff5829df40cfa446c4d390c53.png\n"
     ]
    },
    {
     "name": "stderr",
     "output_type": "stream",
     "text": [
      "  1%|▊                                                                          | 803/69450 [06:12<20:10:39,  1.06s/it]"
     ]
    },
    {
     "name": "stdout",
     "output_type": "stream",
     "text": [
      "Warning: Could not download image boy\\802 from https://safebooru.org/thumbnails/758/thumbnail_b0777ca7bc25f0d9a2872d916dfa5d316b0ed5f4.png\n"
     ]
    },
    {
     "name": "stderr",
     "output_type": "stream",
     "text": [
      "  1%|▊                                                                          | 807/69450 [06:16<20:53:17,  1.10s/it]"
     ]
    },
    {
     "name": "stdout",
     "output_type": "stream",
     "text": [
      "Warning: Could not download image boy\\806 from https://safebooru.org/thumbnails/759/thumbnail_f3f3d68f11727225c2d6b7014ac7e93a3a766137.png\n"
     ]
    },
    {
     "name": "stderr",
     "output_type": "stream",
     "text": [
      "  1%|▉                                                                          | 814/69450 [06:24<20:23:14,  1.07s/it]"
     ]
    },
    {
     "name": "stdout",
     "output_type": "stream",
     "text": [
      "Warning: Could not download image boy\\813 from https://safebooru.org/thumbnails/762/thumbnail_879aa666842caa5d84a512c3b728c5341756dcb3.png\n"
     ]
    },
    {
     "name": "stderr",
     "output_type": "stream",
     "text": [
      "  1%|▉                                                                          | 822/69450 [06:32<20:16:03,  1.06s/it]"
     ]
    },
    {
     "name": "stdout",
     "output_type": "stream",
     "text": [
      "Warning: Could not download image boy\\821 from https://safebooru.org/thumbnails/764/thumbnail_32f1723362b7f5a90d56a1122b302b9a1c27f7dc.png\n"
     ]
    },
    {
     "name": "stderr",
     "output_type": "stream",
     "text": [
      "  1%|▉                                                                          | 825/69450 [06:35<20:05:22,  1.05s/it]"
     ]
    },
    {
     "name": "stdout",
     "output_type": "stream",
     "text": [
      "Warning: Could not download image boy\\824 from https://safebooru.org/thumbnails/764/thumbnail_4d6289d02da3f61c656cdfa297a15b92c0b36e6b.png\n"
     ]
    },
    {
     "name": "stderr",
     "output_type": "stream",
     "text": [
      "  1%|▉                                                                          | 830/69450 [06:41<19:51:40,  1.04s/it]"
     ]
    },
    {
     "name": "stdout",
     "output_type": "stream",
     "text": [
      "Warning: Could not download image boy\\829 from https://safebooru.org/thumbnails/766/thumbnail_7a4067779bf31a463e4f278e64c59877e4049228.png\n"
     ]
    },
    {
     "name": "stderr",
     "output_type": "stream",
     "text": [
      "  1%|▉                                                                          | 837/69450 [06:48<20:35:23,  1.08s/it]"
     ]
    },
    {
     "name": "stdout",
     "output_type": "stream",
     "text": [
      "Warning: Could not download image boy\\836 from https://safebooru.org/thumbnails/769/thumbnail_2c1f3c6065927f208cd4181fad7d481fa04a1f45.png\n"
     ]
    },
    {
     "name": "stderr",
     "output_type": "stream",
     "text": [
      "\r",
      "  1%|▉                                                                          | 838/69450 [06:49<20:41:36,  1.09s/it]"
     ]
    },
    {
     "name": "stdout",
     "output_type": "stream",
     "text": [
      "Warning: Could not download image boy\\837 from https://safebooru.org/thumbnails/770/thumbnail_5e2ad22c462ba75b0c20e557893b5a6e5f36ffbe.png\n"
     ]
    },
    {
     "name": "stderr",
     "output_type": "stream",
     "text": [
      "\r",
      "  1%|▉                                                                          | 839/69450 [06:51<22:01:09,  1.16s/it]"
     ]
    },
    {
     "name": "stdout",
     "output_type": "stream",
     "text": [
      "Warning: Could not download image boy\\838 from https://safebooru.org/thumbnails/770/thumbnail_f96971f2e0e0e942b96a47df4ebadc26b66ac225.png\n"
     ]
    },
    {
     "name": "stderr",
     "output_type": "stream",
     "text": [
      "  1%|▉                                                                          | 847/69450 [06:59<20:26:42,  1.07s/it]"
     ]
    },
    {
     "name": "stdout",
     "output_type": "stream",
     "text": [
      "Warning: Could not download image boy\\846 from https://safebooru.org/thumbnails/771/thumbnail_38bd194cf94f0dfad38679ffb5cabfb06456feca.png\n"
     ]
    },
    {
     "name": "stderr",
     "output_type": "stream",
     "text": [
      "  1%|▉                                                                          | 861/69450 [07:12<16:10:33,  1.18it/s]"
     ]
    },
    {
     "name": "stdout",
     "output_type": "stream",
     "text": [
      "Warning: Could not download image boy\\860 from https://safebooru.org/thumbnails/774/thumbnail_612474f348921b385cecc90e53d27276ab060750.png\n"
     ]
    },
    {
     "name": "stderr",
     "output_type": "stream",
     "text": [
      "  1%|▉                                                                          | 868/69450 [07:20<21:10:35,  1.11s/it]"
     ]
    },
    {
     "name": "stdout",
     "output_type": "stream",
     "text": [
      "Warning: Could not download image boy\\867 from https://safebooru.org/thumbnails/775/thumbnail_1ef6f96297123723d6837e868996034d589b4f3d.png\n"
     ]
    },
    {
     "name": "stderr",
     "output_type": "stream",
     "text": [
      "  1%|▉                                                                          | 883/69450 [07:36<20:26:38,  1.07s/it]"
     ]
    },
    {
     "name": "stdout",
     "output_type": "stream",
     "text": [
      "Warning: Could not download image boy\\882 from https://safebooru.org/thumbnails/778/thumbnail_328d1a5c8a0cbc2c7a60c494d6ebd7edc6df902e.png\n"
     ]
    },
    {
     "name": "stderr",
     "output_type": "stream",
     "text": [
      "  1%|▉                                                                          | 891/69450 [07:45<20:28:09,  1.07s/it]"
     ]
    },
    {
     "name": "stdout",
     "output_type": "stream",
     "text": [
      "Warning: Could not download image boy\\890 from https://safebooru.org/thumbnails/781/thumbnail_6961831922bf4cb9378ba7c64eb25a69e0f53bbc.png\n"
     ]
    },
    {
     "name": "stderr",
     "output_type": "stream",
     "text": [
      "\r",
      "  1%|▉                                                                          | 892/69450 [07:46<20:27:00,  1.07s/it]"
     ]
    },
    {
     "name": "stdout",
     "output_type": "stream",
     "text": [
      "Warning: Could not download image boy\\891 from https://safebooru.org/thumbnails/781/thumbnail_f466f58b8e35cb348fc63664f380eb14cfbee0c8.png\n"
     ]
    },
    {
     "name": "stderr",
     "output_type": "stream",
     "text": [
      "\r",
      "  1%|▉                                                                          | 893/69450 [07:47<20:21:48,  1.07s/it]"
     ]
    },
    {
     "name": "stdout",
     "output_type": "stream",
     "text": [
      "Warning: Could not download image boy\\892 from https://safebooru.org/thumbnails/781/thumbnail_a41ddee4b8f4aa288226ab7f424ce2df048c40a1.png\n"
     ]
    },
    {
     "name": "stderr",
     "output_type": "stream",
     "text": [
      "  1%|▉                                                                          | 902/69450 [07:57<20:14:13,  1.06s/it]"
     ]
    },
    {
     "name": "stdout",
     "output_type": "stream",
     "text": [
      "Warning: Could not download image boy\\901 from https://safebooru.org/thumbnails/790/thumbnail_0c52a4e32155f855a876f72796bd802959297dee.png\n"
     ]
    },
    {
     "name": "stderr",
     "output_type": "stream",
     "text": [
      "  1%|▉                                                                          | 904/69450 [07:59<20:20:30,  1.07s/it]"
     ]
    },
    {
     "name": "stdout",
     "output_type": "stream",
     "text": [
      "Warning: Could not download image boy\\903 from https://safebooru.org/thumbnails/790/thumbnail_0c64603d5bc982675eea37628d676567eb4d67c2.png\n"
     ]
    },
    {
     "name": "stderr",
     "output_type": "stream",
     "text": [
      "  1%|▉                                                                          | 906/69450 [08:01<20:33:57,  1.08s/it]"
     ]
    },
    {
     "name": "stdout",
     "output_type": "stream",
     "text": [
      "Warning: Could not download image boy\\905 from https://safebooru.org/thumbnails/791/thumbnail_b351fe77684f15f8326c623a82a8390fdd55d23b.png\n"
     ]
    },
    {
     "name": "stderr",
     "output_type": "stream",
     "text": [
      "  1%|▉                                                                          | 912/69450 [08:07<20:18:57,  1.07s/it]"
     ]
    },
    {
     "name": "stdout",
     "output_type": "stream",
     "text": [
      "Warning: Could not download image boy\\911 from https://safebooru.org/thumbnails/793/thumbnail_313fc86aea2fbb9c824144e285e5a03b807852f1.png\n"
     ]
    },
    {
     "name": "stderr",
     "output_type": "stream",
     "text": [
      "\r",
      "  1%|▉                                                                          | 913/69450 [08:08<20:12:01,  1.06s/it]"
     ]
    },
    {
     "name": "stdout",
     "output_type": "stream",
     "text": [
      "Warning: Could not download image boy\\912 from https://safebooru.org/thumbnails/793/thumbnail_60fd7461c522a1f66fc047c078f027820c4ddf1a.png\n"
     ]
    },
    {
     "name": "stderr",
     "output_type": "stream",
     "text": [
      "\r",
      "  1%|▉                                                                          | 914/69450 [08:09<20:07:44,  1.06s/it]"
     ]
    },
    {
     "name": "stdout",
     "output_type": "stream",
     "text": [
      "Warning: Could not download image boy\\913 from https://safebooru.org/thumbnails/793/thumbnail_101d2020f9c5c9ec55e9e17e8d56fde52f761c66.png\n"
     ]
    },
    {
     "name": "stderr",
     "output_type": "stream",
     "text": [
      "  1%|█                                                                          | 926/69450 [08:22<21:25:56,  1.13s/it]"
     ]
    },
    {
     "name": "stdout",
     "output_type": "stream",
     "text": [
      "Warning: Could not download image boy\\925 from https://safebooru.org/thumbnails/797/thumbnail_9e15b015d0108891b691c2eb4b67f32613292bd1.png\n"
     ]
    },
    {
     "name": "stderr",
     "output_type": "stream",
     "text": [
      "  1%|█                                                                          | 934/69450 [08:31<19:59:44,  1.05s/it]"
     ]
    },
    {
     "name": "stdout",
     "output_type": "stream",
     "text": [
      "Warning: Could not download image boy\\933 from https://safebooru.org/thumbnails/799/thumbnail_3052f37a04544859123f84a2daf3c9e6cbaac4e2.png\n"
     ]
    },
    {
     "name": "stderr",
     "output_type": "stream",
     "text": [
      "  1%|█                                                                          | 943/69450 [08:40<20:14:04,  1.06s/it]"
     ]
    },
    {
     "name": "stdout",
     "output_type": "stream",
     "text": [
      "Warning: Could not download image boy\\942 from https://safebooru.org/thumbnails/800/thumbnail_ffbaa8b3d2f3750697d5657e832e8beb75c57e2b.png\n"
     ]
    },
    {
     "name": "stderr",
     "output_type": "stream",
     "text": [
      "\r",
      "  1%|█                                                                          | 944/69450 [08:41<20:06:42,  1.06s/it]"
     ]
    },
    {
     "name": "stdout",
     "output_type": "stream",
     "text": [
      "Warning: Could not download image boy\\943 from https://safebooru.org/thumbnails/800/thumbnail_9cd19e886000f585caec281e0dd961c90ef63eff.png\n"
     ]
    },
    {
     "name": "stderr",
     "output_type": "stream",
     "text": [
      "  1%|█                                                                          | 952/69450 [08:50<20:40:00,  1.09s/it]"
     ]
    },
    {
     "name": "stdout",
     "output_type": "stream",
     "text": [
      "Warning: Could not download image boy\\951 from https://safebooru.org/thumbnails/801/thumbnail_994e6d2108f96f019ad367dd7790bf696bd997d2.png\n"
     ]
    },
    {
     "name": "stderr",
     "output_type": "stream",
     "text": [
      "  1%|█                                                                          | 956/69450 [08:54<20:29:35,  1.08s/it]"
     ]
    },
    {
     "name": "stdout",
     "output_type": "stream",
     "text": [
      "Warning: Could not download image boy\\955 from https://safebooru.org/thumbnails/803/thumbnail_811272a3706255c6bd8e2c7f3ffe35b971b7be6e.png\n"
     ]
    },
    {
     "name": "stderr",
     "output_type": "stream",
     "text": [
      "  1%|█                                                                          | 962/69450 [09:01<20:27:46,  1.08s/it]"
     ]
    },
    {
     "name": "stdout",
     "output_type": "stream",
     "text": [
      "Warning: Could not download image boy\\961 from https://safebooru.org/thumbnails/804/thumbnail_5d4c378cb370f989a37d87f3d909ef1ac0b9f7f8.png\n"
     ]
    },
    {
     "name": "stderr",
     "output_type": "stream",
     "text": [
      "  1%|█                                                                          | 966/69450 [09:05<20:18:47,  1.07s/it]"
     ]
    },
    {
     "name": "stdout",
     "output_type": "stream",
     "text": [
      "Warning: Could not download image boy\\965 from https://safebooru.org/thumbnails/805/thumbnail_812b7732a1d35071a5718a1e23e4b68330653b6a.png\n"
     ]
    },
    {
     "name": "stderr",
     "output_type": "stream",
     "text": [
      "  1%|█                                                                          | 972/69450 [09:11<20:07:37,  1.06s/it]"
     ]
    },
    {
     "name": "stdout",
     "output_type": "stream",
     "text": [
      "Warning: Could not download image boy\\971 from https://safebooru.org/thumbnails/806/thumbnail_6fbd531ab04d339eedf607614e96b86d94a68a41.png\n"
     ]
    },
    {
     "name": "stderr",
     "output_type": "stream",
     "text": [
      "  1%|█                                                                          | 974/69450 [09:14<20:08:48,  1.06s/it]"
     ]
    },
    {
     "name": "stdout",
     "output_type": "stream",
     "text": [
      "Warning: Could not download image boy\\973 from https://safebooru.org/thumbnails/806/thumbnail_c0d0057e6d0de1fe259780822bb6af42c6445156.png\n"
     ]
    },
    {
     "name": "stderr",
     "output_type": "stream",
     "text": [
      "  1%|█                                                                          | 977/69450 [09:17<19:56:27,  1.05s/it]"
     ]
    },
    {
     "name": "stdout",
     "output_type": "stream",
     "text": [
      "Warning: Could not download image boy\\976 from https://safebooru.org/thumbnails/807/thumbnail_b331c17d5c6d125617812a4e88f214227dbffd32.png\n"
     ]
    },
    {
     "name": "stderr",
     "output_type": "stream",
     "text": [
      "\r",
      "  1%|█                                                                          | 978/69450 [09:18<19:57:43,  1.05s/it]"
     ]
    },
    {
     "name": "stdout",
     "output_type": "stream",
     "text": [
      "Warning: Could not download image boy\\977 from https://safebooru.org/thumbnails/807/thumbnail_6bb0d59fce8e85b60eed72bcde9b0e61e2c70328.png\n"
     ]
    },
    {
     "name": "stderr",
     "output_type": "stream",
     "text": [
      "\r",
      "  1%|█                                                                          | 979/69450 [09:19<20:10:23,  1.06s/it]"
     ]
    },
    {
     "name": "stdout",
     "output_type": "stream",
     "text": [
      "Warning: Could not download image boy\\978 from https://safebooru.org/thumbnails/808/thumbnail_f02348553fa04388c3bff38aa5300b51c256cb6e.png\n"
     ]
    },
    {
     "name": "stderr",
     "output_type": "stream",
     "text": [
      "  1%|█                                                                          | 984/69450 [09:23<16:11:17,  1.17it/s]"
     ]
    },
    {
     "name": "stdout",
     "output_type": "stream",
     "text": [
      "Warning: Could not download image boy\\983 from https://safebooru.org/thumbnails/809/thumbnail_c5587a5a9f83b5e680a64fe75690db21151867eb.png\n"
     ]
    },
    {
     "name": "stderr",
     "output_type": "stream",
     "text": [
      "  1%|█                                                                          | 992/69450 [09:32<20:01:50,  1.05s/it]"
     ]
    },
    {
     "name": "stdout",
     "output_type": "stream",
     "text": [
      "Warning: Could not download image boy\\991 from https://safebooru.org/thumbnails/812/thumbnail_86d04a2a49496fea836cef2a92428deb765ace3f.png\n"
     ]
    },
    {
     "name": "stderr",
     "output_type": "stream",
     "text": [
      "  1%|█                                                                         | 1004/69450 [09:45<20:49:34,  1.10s/it]"
     ]
    },
    {
     "name": "stdout",
     "output_type": "stream",
     "text": [
      "Warning: Could not download image boy\\1003 from https://safebooru.org/thumbnails/814/thumbnail_c741788a8540878733199a6378ab81c58d570cf9.png\n"
     ]
    },
    {
     "name": "stderr",
     "output_type": "stream",
     "text": [
      "  1%|█                                                                         | 1008/69450 [09:50<20:53:05,  1.10s/it]"
     ]
    },
    {
     "name": "stdout",
     "output_type": "stream",
     "text": [
      "Warning: Could not download image boy\\1007 from https://safebooru.org/thumbnails/816/thumbnail_c1f22f3b199f1b5c310ecbaa2eddd81eed5ed94b.png\n"
     ]
    },
    {
     "name": "stderr",
     "output_type": "stream",
     "text": [
      "  1%|█                                                                         | 1015/69450 [09:57<20:06:59,  1.06s/it]"
     ]
    },
    {
     "name": "stdout",
     "output_type": "stream",
     "text": [
      "Warning: Could not download image boy\\1014 from https://safebooru.org/thumbnails/817/thumbnail_6fe9cdde5a22529073292a0170813e0fc0f338bf.png\n"
     ]
    },
    {
     "name": "stderr",
     "output_type": "stream",
     "text": [
      "  1%|█                                                                         | 1018/69450 [10:00<20:25:54,  1.07s/it]"
     ]
    },
    {
     "name": "stdout",
     "output_type": "stream",
     "text": [
      "Warning: Could not download image boy\\1017 from https://safebooru.org/thumbnails/817/thumbnail_e2913ef972f0d1620a95ca22661acef5ab5858d1.png\n"
     ]
    },
    {
     "name": "stderr",
     "output_type": "stream",
     "text": [
      "  1%|█                                                                         | 1020/69450 [10:02<20:07:59,  1.06s/it]"
     ]
    },
    {
     "name": "stdout",
     "output_type": "stream",
     "text": [
      "Warning: Could not download image boy\\1019 from https://safebooru.org/thumbnails/818/thumbnail_63db2cc90733a3699204c9471088089f100048ca.png\n"
     ]
    },
    {
     "name": "stderr",
     "output_type": "stream",
     "text": [
      "\r",
      "  1%|█                                                                         | 1021/69450 [10:03<20:03:19,  1.06s/it]"
     ]
    },
    {
     "name": "stdout",
     "output_type": "stream",
     "text": [
      "Warning: Could not download image boy\\1020 from https://safebooru.org/thumbnails/818/thumbnail_f1c147eb0d80a8d6dadf00060777d751b86e4500.png\n"
     ]
    },
    {
     "name": "stderr",
     "output_type": "stream",
     "text": [
      "  1%|█                                                                         | 1030/69450 [10:13<20:10:02,  1.06s/it]"
     ]
    },
    {
     "name": "stdout",
     "output_type": "stream",
     "text": [
      "Warning: Could not download image boy\\1029 from https://safebooru.org/thumbnails/821/thumbnail_1a68e6e4b5e675b4f7873b125c73465f4f9ba6b1.png\n"
     ]
    },
    {
     "name": "stderr",
     "output_type": "stream",
     "text": [
      "  1%|█                                                                         | 1032/69450 [10:15<20:56:36,  1.10s/it]"
     ]
    },
    {
     "name": "stdout",
     "output_type": "stream",
     "text": [
      "Warning: Could not download image boy\\1031 from https://safebooru.org/thumbnails/822/thumbnail_f51b86387544485dd0833bd6d26103f9aa5767c4.png\n"
     ]
    },
    {
     "name": "stderr",
     "output_type": "stream",
     "text": [
      "  1%|█                                                                         | 1034/69450 [10:17<16:28:09,  1.15it/s]"
     ]
    },
    {
     "name": "stdout",
     "output_type": "stream",
     "text": [
      "Warning: Could not download image boy\\1033 from https://safebooru.org/thumbnails/823/thumbnail_a8731e3af1d88f550761e739ed0ef6d074303607.png\n"
     ]
    },
    {
     "name": "stderr",
     "output_type": "stream",
     "text": [
      "  1%|█                                                                         | 1036/69450 [10:19<18:13:36,  1.04it/s]"
     ]
    },
    {
     "name": "stdout",
     "output_type": "stream",
     "text": [
      "Warning: Could not download image boy\\1035 from https://safebooru.org/thumbnails/824/thumbnail_5efeac1e6aadf27b9709607246e2a4e5c076fabf.png\n"
     ]
    },
    {
     "name": "stderr",
     "output_type": "stream",
     "text": [
      "\r",
      "  1%|█                                                                         | 1037/69450 [10:20<18:49:36,  1.01it/s]"
     ]
    },
    {
     "name": "stdout",
     "output_type": "stream",
     "text": [
      "Warning: Could not download image boy\\1036 from https://safebooru.org/thumbnails/824/thumbnail_f40d390c86ca6968f53962f334106a70b1a57485.png\n"
     ]
    },
    {
     "name": "stderr",
     "output_type": "stream",
     "text": [
      "\r",
      "  1%|█                                                                         | 1038/69450 [10:21<19:16:54,  1.01s/it]"
     ]
    },
    {
     "name": "stdout",
     "output_type": "stream",
     "text": [
      "Warning: Could not download image boy\\1037 from https://safebooru.org/thumbnails/825/thumbnail_56d9ee487131a1786e36e23074edea221291ba6f.png\n"
     ]
    },
    {
     "name": "stderr",
     "output_type": "stream",
     "text": [
      "\r",
      "  1%|█                                                                         | 1039/69450 [10:22<19:30:38,  1.03s/it]"
     ]
    },
    {
     "name": "stdout",
     "output_type": "stream",
     "text": [
      "Warning: Could not download image boy\\1038 from https://safebooru.org/thumbnails/825/thumbnail_a3b909d41573d5f98d6a676375216cc8cff7e60e.gif\n"
     ]
    },
    {
     "name": "stderr",
     "output_type": "stream",
     "text": [
      "  2%|█                                                                         | 1046/69450 [10:29<19:31:19,  1.03s/it]"
     ]
    },
    {
     "name": "stdout",
     "output_type": "stream",
     "text": [
      "Warning: Could not download image boy\\1045 from https://safebooru.org/thumbnails/827/thumbnail_b60a1de57a26ef56331a8746f14b4a70d7f18ce6.png\n"
     ]
    },
    {
     "name": "stderr",
     "output_type": "stream",
     "text": [
      "  2%|█                                                                         | 1049/69450 [10:32<19:45:18,  1.04s/it]"
     ]
    },
    {
     "name": "stdout",
     "output_type": "stream",
     "text": [
      "Warning: Could not download image boy\\1048 from https://safebooru.org/thumbnails/827/thumbnail_28974f04f1a734868ec63a3985b6ce9648bea6cf.png\n"
     ]
    },
    {
     "name": "stderr",
     "output_type": "stream",
     "text": [
      "  2%|█▏                                                                        | 1056/69450 [10:39<19:57:56,  1.05s/it]"
     ]
    },
    {
     "name": "stdout",
     "output_type": "stream",
     "text": [
      "Warning: Could not download image boy\\1055 from https://safebooru.org/thumbnails/829/thumbnail_92b3ecaa27f8ff43f52919d4c47fd45ac1fc1747.png\n"
     ]
    },
    {
     "name": "stderr",
     "output_type": "stream",
     "text": [
      "  2%|█▏                                                                        | 1060/69450 [10:44<20:26:25,  1.08s/it]"
     ]
    },
    {
     "name": "stdout",
     "output_type": "stream",
     "text": [
      "Warning: Could not download image boy\\1059 from https://safebooru.org/thumbnails/831/thumbnail_2d5aff1a0a291b411923b9dacbd92d1e37899f45.png\n"
     ]
    },
    {
     "name": "stderr",
     "output_type": "stream",
     "text": [
      "\r",
      "  2%|█▏                                                                        | 1061/69450 [10:45<20:23:01,  1.07s/it]"
     ]
    },
    {
     "name": "stdout",
     "output_type": "stream",
     "text": [
      "Warning: Could not download image boy\\1060 from https://safebooru.org/thumbnails/831/thumbnail_b92093943cc6f44127ade99c0202988f559b881c.png\n"
     ]
    },
    {
     "name": "stderr",
     "output_type": "stream",
     "text": [
      "\r",
      "  2%|█▏                                                                        | 1062/69450 [10:46<20:13:16,  1.06s/it]"
     ]
    },
    {
     "name": "stdout",
     "output_type": "stream",
     "text": [
      "Warning: Could not download image boy\\1061 from https://safebooru.org/thumbnails/832/thumbnail_1b7b4cf73133adf518942327b2dae67ad0706dc5.gif\n"
     ]
    },
    {
     "name": "stderr",
     "output_type": "stream",
     "text": [
      "  2%|█▏                                                                        | 1064/69450 [10:48<20:05:13,  1.06s/it]"
     ]
    },
    {
     "name": "stdout",
     "output_type": "stream",
     "text": [
      "Warning: Could not download image boy\\1063 from https://safebooru.org/thumbnails/832/thumbnail_2e2302d08b76eb3695cb413175a99f5f90c00153.png\n"
     ]
    },
    {
     "name": "stderr",
     "output_type": "stream",
     "text": [
      "  2%|█▏                                                                        | 1077/69450 [11:02<20:03:08,  1.06s/it]"
     ]
    },
    {
     "name": "stdout",
     "output_type": "stream",
     "text": [
      "Warning: Could not download image boy\\1076 from https://safebooru.org/thumbnails/833/thumbnail_62dd661925cf224985d32ec6bb44acf9556fcffe.png\n"
     ]
    },
    {
     "name": "stderr",
     "output_type": "stream",
     "text": [
      "  2%|█▏                                                                        | 1085/69450 [11:11<21:59:26,  1.16s/it]"
     ]
    },
    {
     "name": "stdout",
     "output_type": "stream",
     "text": [
      "Warning: Could not download image boy\\1084 from https://safebooru.org/thumbnails/834/thumbnail_fe212873bb5b74cb6694ac820231e5b2332f5e90.png\n"
     ]
    },
    {
     "name": "stderr",
     "output_type": "stream",
     "text": [
      "\r",
      "  2%|█▏                                                                        | 1086/69450 [11:12<21:19:42,  1.12s/it]"
     ]
    },
    {
     "name": "stdout",
     "output_type": "stream",
     "text": [
      "Warning: Could not download image boy\\1085 from https://safebooru.org/thumbnails/834/thumbnail_81c4d3b0e297aa1aca451839564027e44007846f.png\n"
     ]
    },
    {
     "name": "stderr",
     "output_type": "stream",
     "text": [
      "  2%|█▏                                                                        | 1089/69450 [11:15<20:25:24,  1.08s/it]"
     ]
    },
    {
     "name": "stdout",
     "output_type": "stream",
     "text": [
      "Warning: Could not download image boy\\1088 from https://safebooru.org/thumbnails/836/thumbnail_82554c72deb7193be58cd3b0ba1d16af12f53a24.png\n"
     ]
    },
    {
     "name": "stderr",
     "output_type": "stream",
     "text": [
      "  2%|█▏                                                                        | 1097/69450 [11:24<20:06:44,  1.06s/it]"
     ]
    },
    {
     "name": "stdout",
     "output_type": "stream",
     "text": [
      "Warning: Could not download image boy\\1096 from https://safebooru.org/thumbnails/838/thumbnail_e1cd084a17fa0bb81ff52bf358e905528e75ecb6.png\n"
     ]
    },
    {
     "name": "stderr",
     "output_type": "stream",
     "text": [
      "  2%|█▏                                                                        | 1103/69450 [11:30<20:01:47,  1.06s/it]"
     ]
    },
    {
     "name": "stdout",
     "output_type": "stream",
     "text": [
      "Warning: Could not download image boy\\1102 from https://safebooru.org/thumbnails/841/thumbnail_819240afbe8eac4311dca1fa2ce9d56f5c5b6432.png\n"
     ]
    },
    {
     "name": "stderr",
     "output_type": "stream",
     "text": [
      "\r",
      "  2%|█▏                                                                        | 1104/69450 [11:31<19:51:55,  1.05s/it]"
     ]
    },
    {
     "name": "stdout",
     "output_type": "stream",
     "text": [
      "Warning: Could not download image boy\\1103 from https://safebooru.org/thumbnails/841/thumbnail_f66f38203caa1f7a795e95da33ab9b1f868ef17a.png\n"
     ]
    },
    {
     "name": "stderr",
     "output_type": "stream",
     "text": [
      "  2%|█▏                                                                        | 1107/69450 [11:34<19:51:34,  1.05s/it]"
     ]
    },
    {
     "name": "stdout",
     "output_type": "stream",
     "text": [
      "Warning: Could not download image boy\\1106 from https://safebooru.org/thumbnails/842/thumbnail_c56c07a3dc3934842a92f165c6a787c5363f8690.png\n"
     ]
    },
    {
     "name": "stderr",
     "output_type": "stream",
     "text": [
      "  2%|█▏                                                                        | 1119/69450 [11:47<20:12:01,  1.06s/it]"
     ]
    },
    {
     "name": "stdout",
     "output_type": "stream",
     "text": [
      "Warning: Could not download image boy\\1118 from https://safebooru.org/thumbnails/843/thumbnail_565543bdd6da040d2c51daf154312f6b94eb220a.png\n"
     ]
    },
    {
     "name": "stderr",
     "output_type": "stream",
     "text": [
      "  2%|█▏                                                                        | 1121/69450 [11:50<22:56:17,  1.21s/it]"
     ]
    },
    {
     "name": "stdout",
     "output_type": "stream",
     "text": [
      "Warning: Could not download image boy\\1120 from https://safebooru.org/thumbnails/843/thumbnail_1e7cab39a2fedb263fda867e91036b8bd3a4457c.png\n"
     ]
    },
    {
     "name": "stderr",
     "output_type": "stream",
     "text": [
      "\r",
      "  2%|█▏                                                                        | 1122/69450 [11:51<22:04:26,  1.16s/it]"
     ]
    },
    {
     "name": "stdout",
     "output_type": "stream",
     "text": [
      "Warning: Could not download image boy\\1121 from https://safebooru.org/thumbnails/844/thumbnail_1245b58d28c91049906ee37d7e81e507ed4a5a21.png\n"
     ]
    },
    {
     "name": "stderr",
     "output_type": "stream",
     "text": [
      "  2%|█▏                                                                        | 1126/69450 [11:55<20:45:04,  1.09s/it]"
     ]
    },
    {
     "name": "stdout",
     "output_type": "stream",
     "text": [
      "Warning: Could not download image boy\\1125 from https://safebooru.org/thumbnails/846/thumbnail_43dda78090b795f4365e0baf240afdd695ec8e1a.png\n"
     ]
    },
    {
     "name": "stderr",
     "output_type": "stream",
     "text": [
      "  2%|█▏                                                                        | 1138/69450 [12:08<21:29:08,  1.13s/it]"
     ]
    },
    {
     "name": "stdout",
     "output_type": "stream",
     "text": [
      "Warning: Could not download image boy\\1137 from https://safebooru.org/thumbnails/849/thumbnail_c3dd1b9a27211240b02f08c4b89eeb67c4986a38.png\n"
     ]
    },
    {
     "name": "stderr",
     "output_type": "stream",
     "text": [
      "  2%|█▏                                                                        | 1142/69450 [12:12<20:24:34,  1.08s/it]"
     ]
    },
    {
     "name": "stdout",
     "output_type": "stream",
     "text": [
      "Warning: Could not download image boy\\1141 from https://safebooru.org/thumbnails/849/thumbnail_4ce2bbb5b3afc749c9b830989794a313427cf563.png\n"
     ]
    },
    {
     "name": "stderr",
     "output_type": "stream",
     "text": [
      "\r",
      "  2%|█▏                                                                        | 1143/69450 [12:13<20:10:14,  1.06s/it]"
     ]
    },
    {
     "name": "stdout",
     "output_type": "stream",
     "text": [
      "Warning: Could not download image boy\\1142 from https://safebooru.org/thumbnails/849/thumbnail_25e7797033e2b587340d0f10c0377e3e7e678c85.png\n"
     ]
    },
    {
     "name": "stderr",
     "output_type": "stream",
     "text": [
      "  2%|█▏                                                                        | 1154/69450 [12:25<20:27:57,  1.08s/it]"
     ]
    },
    {
     "name": "stdout",
     "output_type": "stream",
     "text": [
      "Warning: Could not download image boy\\1153 from https://safebooru.org/thumbnails/855/thumbnail_fb245b6ecfe907aedbbbaccab377e5a3ed8bb682.png\n"
     ]
    },
    {
     "name": "stderr",
     "output_type": "stream",
     "text": [
      "  2%|█▎                                                                        | 1181/69450 [12:53<15:52:42,  1.19it/s]"
     ]
    },
    {
     "name": "stdout",
     "output_type": "stream",
     "text": [
      "Warning: Could not download image boy\\1180 from https://safebooru.org/thumbnails/863/thumbnail_cb5c6c24db5cd4f3fba9c021d4f72e67f0d1fad5.png\n"
     ]
    },
    {
     "name": "stderr",
     "output_type": "stream",
     "text": [
      "\r",
      "  2%|█▎                                                                        | 1182/69450 [12:54<17:03:29,  1.11it/s]"
     ]
    },
    {
     "name": "stdout",
     "output_type": "stream",
     "text": [
      "Warning: Could not download image boy\\1181 from https://safebooru.org/thumbnails/863/thumbnail_45914bc7ee709e82d9cb765b3dd8a2688e63e2f6.png\n"
     ]
    },
    {
     "name": "stderr",
     "output_type": "stream",
     "text": [
      "  2%|█▎                                                                        | 1186/69450 [12:58<19:30:50,  1.03s/it]"
     ]
    },
    {
     "name": "stdout",
     "output_type": "stream",
     "text": [
      "Warning: Could not download image boy\\1185 from https://safebooru.org/thumbnails/865/thumbnail_c34c058ccacf528ece206188d05f419285775317.png\n"
     ]
    },
    {
     "name": "stderr",
     "output_type": "stream",
     "text": [
      "\r",
      "  2%|█▎                                                                        | 1187/69450 [12:59<19:38:06,  1.04s/it]"
     ]
    },
    {
     "name": "stdout",
     "output_type": "stream",
     "text": [
      "Warning: Could not download image boy\\1186 from https://safebooru.org/thumbnails/866/thumbnail_f24ae8981dd208e28948428ec0845c292ce92cc2.png\n"
     ]
    },
    {
     "name": "stderr",
     "output_type": "stream",
     "text": [
      "\r",
      "  2%|█▎                                                                        | 1188/69450 [13:00<19:45:29,  1.04s/it]"
     ]
    },
    {
     "name": "stdout",
     "output_type": "stream",
     "text": [
      "Warning: Could not download image boy\\1187 from https://safebooru.org/thumbnails/866/thumbnail_a0784e82cbd8ed5854eaf0c81fc27c7a58776690.png\n"
     ]
    },
    {
     "name": "stderr",
     "output_type": "stream",
     "text": [
      "  2%|█▎                                                                        | 1198/69450 [13:11<20:17:43,  1.07s/it]"
     ]
    },
    {
     "name": "stdout",
     "output_type": "stream",
     "text": [
      "Warning: Could not download image boy\\1197 from https://safebooru.org/thumbnails/867/thumbnail_839f07128fe901a366516dcba12f66ddfb64c4de.png\n"
     ]
    },
    {
     "name": "stderr",
     "output_type": "stream",
     "text": [
      "\r",
      "  2%|█▎                                                                        | 1199/69450 [13:12<20:06:00,  1.06s/it]"
     ]
    },
    {
     "name": "stdout",
     "output_type": "stream",
     "text": [
      "Warning: Could not download image boy\\1198 from https://safebooru.org/thumbnails/868/thumbnail_1a4aca4139a00cb31ef2596f2842773f095d4856.png\n"
     ]
    },
    {
     "name": "stderr",
     "output_type": "stream",
     "text": [
      "\r",
      "  2%|█▎                                                                        | 1200/69450 [13:13<20:04:00,  1.06s/it]"
     ]
    },
    {
     "name": "stdout",
     "output_type": "stream",
     "text": [
      "Warning: Could not download image boy\\1199 from https://safebooru.org/thumbnails/868/thumbnail_ab4ab985cec3f1e76183c3c27ce0a560f1c73ba5.png\n"
     ]
    },
    {
     "name": "stderr",
     "output_type": "stream",
     "text": [
      "  2%|█▎                                                                        | 1205/69450 [13:18<19:56:26,  1.05s/it]"
     ]
    },
    {
     "name": "stdout",
     "output_type": "stream",
     "text": [
      "Warning: Could not download image boy\\1204 from https://safebooru.org/thumbnails/868/thumbnail_753ea3eee5465e86507d4f2857135c9a3e4db4a5.png\n"
     ]
    },
    {
     "name": "stderr",
     "output_type": "stream",
     "text": [
      "\r",
      "  2%|█▎                                                                        | 1206/69450 [13:19<19:48:53,  1.05s/it]"
     ]
    },
    {
     "name": "stdout",
     "output_type": "stream",
     "text": [
      "Warning: Could not download image boy\\1205 from https://safebooru.org/thumbnails/868/thumbnail_3bd6122d5eb36d31bd35d13a978f4e6a1737ce23.png\n"
     ]
    },
    {
     "name": "stderr",
     "output_type": "stream",
     "text": [
      "\r",
      "  2%|█▎                                                                        | 1207/69450 [13:20<19:44:44,  1.04s/it]"
     ]
    },
    {
     "name": "stdout",
     "output_type": "stream",
     "text": [
      "Warning: Could not download image boy\\1206 from https://safebooru.org/thumbnails/868/thumbnail_86105c37ee665148de0c38e2f7b9873586f24a10.png\n"
     ]
    },
    {
     "name": "stderr",
     "output_type": "stream",
     "text": [
      "\r",
      "  2%|█▎                                                                        | 1208/69450 [13:21<19:50:36,  1.05s/it]"
     ]
    },
    {
     "name": "stdout",
     "output_type": "stream",
     "text": [
      "Warning: Could not download image boy\\1207 from https://safebooru.org/thumbnails/868/thumbnail_32570d74fb35aacba4e0721e84c9632620279ec6.png\n"
     ]
    },
    {
     "name": "stderr",
     "output_type": "stream",
     "text": [
      "\r",
      "  2%|█▎                                                                        | 1209/69450 [13:23<19:47:13,  1.04s/it]"
     ]
    },
    {
     "name": "stdout",
     "output_type": "stream",
     "text": [
      "Warning: Could not download image boy\\1208 from https://safebooru.org/thumbnails/868/thumbnail_af6c63f0dccca3208b0224d05a77ed990884889d.png\n"
     ]
    },
    {
     "name": "stderr",
     "output_type": "stream",
     "text": [
      "\r",
      "  2%|█▎                                                                        | 1210/69450 [13:24<19:53:18,  1.05s/it]"
     ]
    },
    {
     "name": "stdout",
     "output_type": "stream",
     "text": [
      "Warning: Could not download image boy\\1209 from https://safebooru.org/thumbnails/868/thumbnail_04a735377a1fc31c26fdbd3a980f3c5a0ff8e314.png\n"
     ]
    },
    {
     "name": "stderr",
     "output_type": "stream",
     "text": [
      "  2%|█▎                                                                        | 1212/69450 [13:26<20:17:56,  1.07s/it]"
     ]
    },
    {
     "name": "stdout",
     "output_type": "stream",
     "text": [
      "Warning: Could not download image boy\\1211 from https://safebooru.org/thumbnails/868/thumbnail_7a20375eebc98f8ae0fd1c3803c7b0cb7060e7bd.png\n"
     ]
    },
    {
     "name": "stderr",
     "output_type": "stream",
     "text": [
      "  2%|█▎                                                                        | 1223/69450 [13:38<20:11:51,  1.07s/it]"
     ]
    },
    {
     "name": "stdout",
     "output_type": "stream",
     "text": [
      "Warning: Could not download image boy\\1222 from https://safebooru.org/thumbnails/868/thumbnail_fb38b4805d94d188f34028b941aa5ea4733a19cb.png\n"
     ]
    },
    {
     "name": "stderr",
     "output_type": "stream",
     "text": [
      "\r",
      "  2%|█▎                                                                        | 1224/69450 [13:39<20:05:26,  1.06s/it]"
     ]
    },
    {
     "name": "stdout",
     "output_type": "stream",
     "text": [
      "Warning: Could not download image boy\\1223 from https://safebooru.org/thumbnails/868/thumbnail_a3052305d54aace81816b54260a6dd401ac7ca6c.png\n"
     ]
    },
    {
     "name": "stderr",
     "output_type": "stream",
     "text": [
      "  2%|█▎                                                                        | 1234/69450 [13:48<19:09:45,  1.01s/it]"
     ]
    },
    {
     "name": "stdout",
     "output_type": "stream",
     "text": [
      "Warning: Could not download image boy\\1233 from https://safebooru.org/thumbnails/869/thumbnail_8d9ffdc9823af12f84c5d717862e81a5f6606acb.png\n"
     ]
    },
    {
     "name": "stderr",
     "output_type": "stream",
     "text": [
      "\r",
      "  2%|█▎                                                                        | 1235/69450 [13:49<19:22:32,  1.02s/it]"
     ]
    },
    {
     "name": "stdout",
     "output_type": "stream",
     "text": [
      "Warning: Could not download image boy\\1234 from https://safebooru.org/thumbnails/869/thumbnail_6fa1762b9908a34192d38624f2749a069e7a3d6a.png\n"
     ]
    },
    {
     "name": "stderr",
     "output_type": "stream",
     "text": [
      "  2%|█▎                                                                        | 1238/69450 [13:53<19:54:59,  1.05s/it]"
     ]
    },
    {
     "name": "stdout",
     "output_type": "stream",
     "text": [
      "Warning: Could not download image boy\\1237 from https://safebooru.org/thumbnails/870/thumbnail_51a7bab9f51b76aeaabe499aaa363aa7379f163b.png\n"
     ]
    },
    {
     "name": "stderr",
     "output_type": "stream",
     "text": [
      "  2%|█▎                                                                        | 1243/69450 [13:58<19:59:26,  1.06s/it]"
     ]
    },
    {
     "name": "stdout",
     "output_type": "stream",
     "text": [
      "Warning: Could not download image boy\\1242 from https://safebooru.org/thumbnails/870/thumbnail_aaf83fb0b82340d4e098751381b52ff128af39ec.png\n"
     ]
    },
    {
     "name": "stderr",
     "output_type": "stream",
     "text": [
      "  2%|█▎                                                                        | 1255/69450 [14:11<19:52:23,  1.05s/it]"
     ]
    },
    {
     "name": "stdout",
     "output_type": "stream",
     "text": [
      "Warning: Could not download image boy\\1254 from https://safebooru.org/thumbnails/872/thumbnail_54d381fcc8369a349653a626b5798c773340758c.png\n"
     ]
    },
    {
     "name": "stderr",
     "output_type": "stream",
     "text": [
      "  2%|█▎                                                                        | 1259/69450 [14:15<20:44:28,  1.09s/it]"
     ]
    },
    {
     "name": "stdout",
     "output_type": "stream",
     "text": [
      "Warning: Could not download image boy\\1258 from https://safebooru.org/thumbnails/873/thumbnail_6305b81e1b79076c34aa27e3f57e12bb06dc4ffa.png\n"
     ]
    },
    {
     "name": "stderr",
     "output_type": "stream",
     "text": [
      "\r",
      "  2%|█▎                                                                        | 1260/69450 [14:16<20:24:12,  1.08s/it]"
     ]
    },
    {
     "name": "stdout",
     "output_type": "stream",
     "text": [
      "Warning: Could not download image boy\\1259 from https://safebooru.org/thumbnails/873/thumbnail_9ccc3a074ce0d0d37330af1e786d30b1e6383f30.png\n"
     ]
    },
    {
     "name": "stderr",
     "output_type": "stream",
     "text": [
      "  2%|█▎                                                                        | 1263/69450 [14:19<20:22:23,  1.08s/it]"
     ]
    },
    {
     "name": "stdout",
     "output_type": "stream",
     "text": [
      "Warning: Could not download image boy\\1262 from https://safebooru.org/thumbnails/873/thumbnail_56151ec954da9ac8ee035a84d7975bd41c1694fb.png\n"
     ]
    },
    {
     "name": "stderr",
     "output_type": "stream",
     "text": [
      "\r",
      "  2%|█▎                                                                        | 1264/69450 [14:20<20:18:52,  1.07s/it]"
     ]
    },
    {
     "name": "stdout",
     "output_type": "stream",
     "text": [
      "Warning: Could not download image boy\\1263 from https://safebooru.org/thumbnails/874/thumbnail_e09141debf8224a1f792f62a1a9bd4685548517b.png\n"
     ]
    },
    {
     "name": "stderr",
     "output_type": "stream",
     "text": [
      "  2%|█▎                                                                        | 1272/69450 [14:29<20:37:30,  1.09s/it]"
     ]
    },
    {
     "name": "stdout",
     "output_type": "stream",
     "text": [
      "Warning: Could not download image boy\\1271 from https://safebooru.org/thumbnails/876/thumbnail_47715f1ea4ae2a9a0063320cc58e1c54b2ca631e.png\n"
     ]
    },
    {
     "name": "stderr",
     "output_type": "stream",
     "text": [
      "\r",
      "  2%|█▎                                                                        | 1273/69450 [14:30<20:25:42,  1.08s/it]"
     ]
    },
    {
     "name": "stdout",
     "output_type": "stream",
     "text": [
      "Warning: Could not download image boy\\1272 from https://safebooru.org/thumbnails/876/thumbnail_c6a2367a1ea92c49eee08e265c11811a112f80eb.png\n"
     ]
    },
    {
     "name": "stderr",
     "output_type": "stream",
     "text": [
      "\r",
      "  2%|█▎                                                                        | 1274/69450 [14:31<20:18:32,  1.07s/it]"
     ]
    },
    {
     "name": "stdout",
     "output_type": "stream",
     "text": [
      "Warning: Could not download image boy\\1273 from https://safebooru.org/thumbnails/876/thumbnail_f6d40fad8c918cea41ad5b1a2e9d076935c92c21.png\n"
     ]
    },
    {
     "name": "stderr",
     "output_type": "stream",
     "text": [
      "  2%|█▎                                                                        | 1276/69450 [14:33<20:13:41,  1.07s/it]"
     ]
    },
    {
     "name": "stdout",
     "output_type": "stream",
     "text": [
      "Warning: Could not download image boy\\1275 from https://safebooru.org/thumbnails/878/thumbnail_40a49384eb658e59ab7caf7c95f6c5d88ad0bf14.png\n"
     ]
    },
    {
     "name": "stderr",
     "output_type": "stream",
     "text": [
      "  2%|█▎                                                                        | 1281/69450 [14:39<20:15:37,  1.07s/it]"
     ]
    },
    {
     "name": "stdout",
     "output_type": "stream",
     "text": [
      "Warning: Could not download image boy\\1280 from https://safebooru.org/thumbnails/878/thumbnail_300b79a70b07f4beb3fa04e5e4ffaa37.jpeg\n"
     ]
    },
    {
     "name": "stderr",
     "output_type": "stream",
     "text": [
      "  2%|█▎                                                                        | 1286/69450 [14:44<20:21:10,  1.07s/it]"
     ]
    },
    {
     "name": "stdout",
     "output_type": "stream",
     "text": [
      "Warning: Could not download image boy\\1285 from https://safebooru.org/thumbnails/879/thumbnail_ec233c9da0bd1e1a7a53a56d79e147d59b2bbf60.png\n"
     ]
    },
    {
     "name": "stderr",
     "output_type": "stream",
     "text": [
      "  2%|█▍                                                                        | 1310/69450 [15:10<20:04:48,  1.06s/it]"
     ]
    },
    {
     "name": "stdout",
     "output_type": "stream",
     "text": [
      "Warning: Could not download image boy\\1309 from https://safebooru.org/thumbnails/883/thumbnail_21713c771f11692e6b409595ca4f1ccd.png\n"
     ]
    },
    {
     "name": "stderr",
     "output_type": "stream",
     "text": [
      "\r",
      "  2%|█▍                                                                        | 1311/69450 [15:11<21:18:01,  1.13s/it]"
     ]
    },
    {
     "name": "stdout",
     "output_type": "stream",
     "text": [
      "Warning: Could not download image boy\\1310 from https://safebooru.org/thumbnails/883/thumbnail_aa4441d36a3cf5e415ad6340307c2f48.png\n"
     ]
    },
    {
     "name": "stderr",
     "output_type": "stream",
     "text": [
      "\r",
      "  2%|█▍                                                                        | 1312/69450 [15:12<20:49:26,  1.10s/it]"
     ]
    },
    {
     "name": "stdout",
     "output_type": "stream",
     "text": [
      "Warning: Could not download image boy\\1311 from https://safebooru.org/thumbnails/883/thumbnail_e40d2bc13b5a8b28411c520eaf00d234.png\n"
     ]
    },
    {
     "name": "stderr",
     "output_type": "stream",
     "text": [
      "\r",
      "  2%|█▍                                                                        | 1313/69450 [15:13<20:29:35,  1.08s/it]"
     ]
    },
    {
     "name": "stdout",
     "output_type": "stream",
     "text": [
      "Warning: Could not download image boy\\1312 from https://safebooru.org/thumbnails/883/thumbnail_113638f98a6e53951e8715a256b57ada.png\n"
     ]
    },
    {
     "name": "stderr",
     "output_type": "stream",
     "text": [
      "  2%|█▍                                                                        | 1317/69450 [15:18<20:13:40,  1.07s/it]"
     ]
    },
    {
     "name": "stdout",
     "output_type": "stream",
     "text": [
      "Warning: Could not download image boy\\1316 from https://safebooru.org/thumbnails/884/thumbnail_b7f7ad3d440424b4d086d864cf92c1a4.png\n"
     ]
    },
    {
     "name": "stderr",
     "output_type": "stream",
     "text": [
      "  2%|█▍                                                                        | 1350/69450 [15:53<19:52:17,  1.05s/it]"
     ]
    },
    {
     "name": "stdout",
     "output_type": "stream",
     "text": [
      "Warning: Could not download image boy\\1349 from https://safebooru.org/thumbnails/887/thumbnail_a96e48a89b680283fa2e43c897d6b1162f66db28.png\n"
     ]
    },
    {
     "name": "stderr",
     "output_type": "stream",
     "text": [
      "  2%|█▍                                                                        | 1356/69450 [15:59<19:45:09,  1.04s/it]"
     ]
    },
    {
     "name": "stdout",
     "output_type": "stream",
     "text": [
      "Warning: Could not download image boy\\1355 from https://safebooru.org/thumbnails/888/thumbnail_9953fb831d473b47155ba2855ba5c5018fe13768.png\n"
     ]
    },
    {
     "name": "stderr",
     "output_type": "stream",
     "text": [
      "\r",
      "  2%|█▍                                                                        | 1357/69450 [16:00<20:07:23,  1.06s/it]"
     ]
    },
    {
     "name": "stdout",
     "output_type": "stream",
     "text": [
      "Warning: Could not download image boy\\1356 from https://safebooru.org/thumbnails/888/thumbnail_b5cf955b3b2911ca8dd963a19d84c656090f3cd2.png\n"
     ]
    },
    {
     "name": "stderr",
     "output_type": "stream",
     "text": [
      "  2%|█▍                                                                        | 1359/69450 [16:02<20:12:08,  1.07s/it]"
     ]
    },
    {
     "name": "stdout",
     "output_type": "stream",
     "text": [
      "Warning: Could not download image boy\\1358 from https://safebooru.org/thumbnails/888/thumbnail_0280367f63d9dd4ffcab89cbfecec0ced4c2409f.png\n"
     ]
    },
    {
     "name": "stderr",
     "output_type": "stream",
     "text": [
      "  2%|█▍                                                                        | 1362/69450 [16:05<20:10:19,  1.07s/it]"
     ]
    },
    {
     "name": "stdout",
     "output_type": "stream",
     "text": [
      "Warning: Could not download image boy\\1361 from https://safebooru.org/thumbnails/889/thumbnail_7a1510e98f43f3642ba70edaadf083e2c343ef60.png\n"
     ]
    },
    {
     "name": "stderr",
     "output_type": "stream",
     "text": [
      "  2%|█▍                                                                        | 1376/69450 [16:20<19:57:11,  1.06s/it]"
     ]
    },
    {
     "name": "stdout",
     "output_type": "stream",
     "text": [
      "Warning: Could not download image boy\\1375 from https://safebooru.org/thumbnails/890/thumbnail_dbad449590dfef78fc9c59a8fb9ed32748700f39.png\n"
     ]
    },
    {
     "name": "stderr",
     "output_type": "stream",
     "text": [
      "  2%|█▍                                                                        | 1400/69450 [16:46<19:48:49,  1.05s/it]"
     ]
    },
    {
     "name": "stdout",
     "output_type": "stream",
     "text": [
      "Warning: Could not download image boy\\1399 from https://safebooru.org/thumbnails/895/thumbnail_9715bc280cc997c0f623c05ba7f5aa4ab361440e.png\n"
     ]
    },
    {
     "name": "stderr",
     "output_type": "stream",
     "text": [
      "  2%|█▍                                                                        | 1404/69450 [16:50<19:54:17,  1.05s/it]"
     ]
    },
    {
     "name": "stdout",
     "output_type": "stream",
     "text": [
      "Warning: Could not download image boy\\1403 from https://safebooru.org/thumbnails/896/thumbnail_9ac8412e46123ac71fab580ea65e9d998d2a256e.png\n"
     ]
    },
    {
     "name": "stderr",
     "output_type": "stream",
     "text": [
      "  2%|█▌                                                                        | 1410/69450 [16:56<19:45:17,  1.05s/it]"
     ]
    },
    {
     "name": "stdout",
     "output_type": "stream",
     "text": [
      "Warning: Could not download image boy\\1409 from https://safebooru.org/thumbnails/897/thumbnail_7253afd4cd264370465353f6d524dcddd00ce040.png\n"
     ]
    },
    {
     "name": "stderr",
     "output_type": "stream",
     "text": [
      "  2%|█▌                                                                        | 1415/69450 [17:02<20:39:22,  1.09s/it]"
     ]
    },
    {
     "name": "stdout",
     "output_type": "stream",
     "text": [
      "Warning: Could not download image boy\\1414 from https://safebooru.org/thumbnails/899/thumbnail_a7c86e7ff3f1ae0a96a6bdaa499713219edc9338.png\n"
     ]
    },
    {
     "name": "stderr",
     "output_type": "stream",
     "text": [
      "  2%|█▌                                                                        | 1418/69450 [17:05<20:02:38,  1.06s/it]"
     ]
    },
    {
     "name": "stdout",
     "output_type": "stream",
     "text": [
      "Warning: Could not download image boy\\1417 from https://safebooru.org/thumbnails/899/thumbnail_8fbf2f3ab088fe8143b073bf71a089494eebdc2e.png\n"
     ]
    },
    {
     "name": "stderr",
     "output_type": "stream",
     "text": [
      "  2%|█▌                                                                        | 1429/69450 [17:17<20:30:47,  1.09s/it]"
     ]
    },
    {
     "name": "stdout",
     "output_type": "stream",
     "text": [
      "Warning: Could not download image boy\\1428 from https://safebooru.org/thumbnails/902/thumbnail_c776f5b823fafd7c84acdf0e9445a2d7c2c5588c.png\n"
     ]
    },
    {
     "name": "stderr",
     "output_type": "stream",
     "text": [
      "\r",
      "  2%|█▌                                                                        | 1430/69450 [17:18<20:19:49,  1.08s/it]"
     ]
    },
    {
     "name": "stdout",
     "output_type": "stream",
     "text": [
      "Warning: Could not download image boy\\1429 from https://safebooru.org/thumbnails/902/thumbnail_0bb4e725e628e790396af5bc7bb5d9ba675d4e77.png\n"
     ]
    },
    {
     "name": "stderr",
     "output_type": "stream",
     "text": [
      "  2%|█▌                                                                        | 1437/69450 [17:25<20:10:34,  1.07s/it]"
     ]
    },
    {
     "name": "stdout",
     "output_type": "stream",
     "text": [
      "Warning: Could not download image boy\\1436 from https://safebooru.org/thumbnails/903/thumbnail_cd881030163feb7e15ced804cfafba2c1a52ff18.png\n"
     ]
    },
    {
     "name": "stderr",
     "output_type": "stream",
     "text": [
      "  2%|█▌                                                                        | 1452/69450 [17:42<21:01:11,  1.11s/it]"
     ]
    },
    {
     "name": "stdout",
     "output_type": "stream",
     "text": [
      "Warning: Could not download image boy\\1451 from https://safebooru.org/thumbnails/906/thumbnail_ddb8d038cbcefde04ad1c6371d1243b45235cea0.png\n"
     ]
    },
    {
     "name": "stderr",
     "output_type": "stream",
     "text": [
      "\r",
      "  2%|█▌                                                                        | 1453/69450 [17:43<20:41:37,  1.10s/it]"
     ]
    },
    {
     "name": "stdout",
     "output_type": "stream",
     "text": [
      "Warning: Could not download image boy\\1452 from https://safebooru.org/thumbnails/907/thumbnail_1d6123db9c7e8058f2306cf58c7615deddefc6de.png\n"
     ]
    },
    {
     "name": "stderr",
     "output_type": "stream",
     "text": [
      "\r",
      "  2%|█▌                                                                        | 1454/69450 [17:44<20:32:04,  1.09s/it]"
     ]
    },
    {
     "name": "stdout",
     "output_type": "stream",
     "text": [
      "Warning: Could not download image boy\\1453 from https://safebooru.org/thumbnails/907/thumbnail_3d856cdb4bb9d72104fcb3b709d8176318a2056c.png\n"
     ]
    },
    {
     "name": "stderr",
     "output_type": "stream",
     "text": [
      "\r",
      "  2%|█▌                                                                        | 1455/69450 [17:45<20:17:55,  1.07s/it]"
     ]
    },
    {
     "name": "stdout",
     "output_type": "stream",
     "text": [
      "Warning: Could not download image boy\\1454 from https://safebooru.org/thumbnails/907/thumbnail_b9ea5d85cd07894c37146930fbe10e1016860b6f.png\n"
     ]
    },
    {
     "name": "stderr",
     "output_type": "stream",
     "text": [
      "\r",
      "  2%|█▌                                                                        | 1456/69450 [17:46<20:09:38,  1.07s/it]"
     ]
    },
    {
     "name": "stdout",
     "output_type": "stream",
     "text": [
      "Warning: Could not download image boy\\1455 from https://safebooru.org/thumbnails/907/thumbnail_d80853c8f5a45fd724c91bbd6c868710ca57e255.png\n"
     ]
    },
    {
     "name": "stderr",
     "output_type": "stream",
     "text": [
      "\r",
      "  2%|█▌                                                                        | 1457/69450 [17:47<19:59:57,  1.06s/it]"
     ]
    },
    {
     "name": "stdout",
     "output_type": "stream",
     "text": [
      "Warning: Could not download image boy\\1456 from https://safebooru.org/thumbnails/907/thumbnail_d7f6820b24bf773453603c6d709c4c64fe80fa52.png\n"
     ]
    },
    {
     "name": "stderr",
     "output_type": "stream",
     "text": [
      "\r",
      "  2%|█▌                                                                        | 1458/69450 [17:48<21:05:54,  1.12s/it]"
     ]
    },
    {
     "name": "stdout",
     "output_type": "stream",
     "text": [
      "Warning: Could not download image boy\\1457 from https://safebooru.org/thumbnails/908/thumbnail_4fef8a1f77e5b5df5f612f3be860d50b56a2aa42.png\n"
     ]
    },
    {
     "name": "stderr",
     "output_type": "stream",
     "text": [
      "\r",
      "  2%|█▌                                                                        | 1459/69450 [17:49<20:40:11,  1.09s/it]"
     ]
    },
    {
     "name": "stdout",
     "output_type": "stream",
     "text": [
      "Warning: Could not download image boy\\1458 from https://safebooru.org/thumbnails/908/thumbnail_1e04260cc59de4997ad336105d422c883c478040.png\n"
     ]
    },
    {
     "name": "stderr",
     "output_type": "stream",
     "text": [
      "  2%|█▌                                                                        | 1462/69450 [17:53<20:13:15,  1.07s/it]"
     ]
    },
    {
     "name": "stdout",
     "output_type": "stream",
     "text": [
      "Warning: Could not download image boy\\1461 from https://safebooru.org/thumbnails/909/thumbnail_e7cfcc1944478e9cee60007867236904bd3f91d8.gif\n"
     ]
    },
    {
     "name": "stderr",
     "output_type": "stream",
     "text": [
      "  2%|█▌                                                                        | 1465/69450 [17:56<21:43:03,  1.15s/it]"
     ]
    },
    {
     "name": "stdout",
     "output_type": "stream",
     "text": [
      "Warning: Could not download image boy\\1464 from https://safebooru.org/thumbnails/909/thumbnail_11f95352afe41753489c6fbbf1bb3facc41193a0.png\n"
     ]
    },
    {
     "name": "stderr",
     "output_type": "stream",
     "text": [
      "  2%|█▌                                                                        | 1467/69450 [17:58<22:04:12,  1.17s/it]"
     ]
    },
    {
     "name": "stdout",
     "output_type": "stream",
     "text": [
      "Warning: Could not download image boy\\1466 from https://safebooru.org/thumbnails/910/thumbnail_5f66be7d03c8a46f120e3876331bea6ccc422a1d.png\n"
     ]
    },
    {
     "name": "stderr",
     "output_type": "stream",
     "text": [
      "\r",
      "  2%|█▌                                                                        | 1468/69450 [18:00<21:22:51,  1.13s/it]"
     ]
    },
    {
     "name": "stdout",
     "output_type": "stream",
     "text": [
      "Warning: Could not download image boy\\1467 from https://safebooru.org/thumbnails/910/thumbnail_3163aff64433db2b4bfd7aedb6816e057cf30307.png\n"
     ]
    },
    {
     "name": "stderr",
     "output_type": "stream",
     "text": [
      "  2%|█▌                                                                        | 1481/69450 [18:13<19:48:39,  1.05s/it]"
     ]
    },
    {
     "name": "stdout",
     "output_type": "stream",
     "text": [
      "Warning: Could not download image boy\\1480 from https://safebooru.org/thumbnails/913/thumbnail_c2f1cd2e03489b886145f74da967086bf382741f.png\n"
     ]
    },
    {
     "name": "stderr",
     "output_type": "stream",
     "text": [
      "  2%|█▌                                                                        | 1484/69450 [18:17<19:50:35,  1.05s/it]"
     ]
    },
    {
     "name": "stdout",
     "output_type": "stream",
     "text": [
      "Warning: Could not download image boy\\1483 from https://safebooru.org/thumbnails/913/thumbnail_c1c5b4fecaca42a03723a388e1a0cf1c5c9ebe1c.png\n"
     ]
    },
    {
     "name": "stderr",
     "output_type": "stream",
     "text": [
      "  2%|█▌                                                                        | 1487/69450 [18:20<19:48:08,  1.05s/it]"
     ]
    },
    {
     "name": "stdout",
     "output_type": "stream",
     "text": [
      "Warning: Could not download image boy\\1486 from https://safebooru.org/thumbnails/913/thumbnail_9121fc3625e4d5c55e301614a7bd30cce2e75e50.png\n"
     ]
    },
    {
     "name": "stderr",
     "output_type": "stream",
     "text": [
      "\r",
      "  2%|█▌                                                                        | 1488/69450 [18:21<19:47:20,  1.05s/it]"
     ]
    },
    {
     "name": "stdout",
     "output_type": "stream",
     "text": [
      "Warning: Could not download image boy\\1487 from https://safebooru.org/thumbnails/913/thumbnail_9471a53643d12714baee0a7ce81e99ab9ae7712c.png\n"
     ]
    },
    {
     "name": "stderr",
     "output_type": "stream",
     "text": [
      "  2%|█▌                                                                        | 1497/69450 [18:30<19:50:16,  1.05s/it]"
     ]
    },
    {
     "name": "stdout",
     "output_type": "stream",
     "text": [
      "Warning: Could not download image boy\\1496 from https://safebooru.org/thumbnails/915/thumbnail_42ebdc16dad73bf76218231d717a8dae210ed3a2.png\n"
     ]
    },
    {
     "name": "stderr",
     "output_type": "stream",
     "text": [
      "  2%|█▌                                                                        | 1504/69450 [18:37<19:54:22,  1.05s/it]"
     ]
    },
    {
     "name": "stdout",
     "output_type": "stream",
     "text": [
      "Warning: Could not download image boy\\1503 from https://safebooru.org/thumbnails/916/thumbnail_739f9f1714c601a0046fc5179b829d761f1d0c88.png\n"
     ]
    },
    {
     "name": "stderr",
     "output_type": "stream",
     "text": [
      "  2%|█▌                                                                        | 1510/69450 [18:43<18:06:06,  1.04it/s]"
     ]
    },
    {
     "name": "stdout",
     "output_type": "stream",
     "text": [
      "Warning: Could not download image boy\\1509 from https://safebooru.org/thumbnails/916/thumbnail_8f1c4f6a8569ca85a3580713481fa26ddacb7ede.png\n"
     ]
    },
    {
     "name": "stderr",
     "output_type": "stream",
     "text": [
      "\r",
      "  2%|█▌                                                                        | 1511/69450 [18:44<18:33:03,  1.02it/s]"
     ]
    },
    {
     "name": "stdout",
     "output_type": "stream",
     "text": [
      "Warning: Could not download image boy\\1510 from https://safebooru.org/thumbnails/916/thumbnail_b6758b98b0ddcb7304979d8c938cbc75b7930542.png\n"
     ]
    },
    {
     "name": "stderr",
     "output_type": "stream",
     "text": [
      "  2%|█▌                                                                        | 1516/69450 [18:49<19:42:15,  1.04s/it]"
     ]
    },
    {
     "name": "stdout",
     "output_type": "stream",
     "text": [
      "Warning: Could not download image boy\\1515 from https://safebooru.org/thumbnails/917/thumbnail_3e44e62af475500ad5b2b32d5af2a5b9812faef3.png\n"
     ]
    },
    {
     "name": "stderr",
     "output_type": "stream",
     "text": [
      "  2%|█▌                                                                        | 1523/69450 [18:57<19:51:44,  1.05s/it]"
     ]
    },
    {
     "name": "stdout",
     "output_type": "stream",
     "text": [
      "Warning: Could not download image boy\\1522 from https://safebooru.org/thumbnails/918/thumbnail_3581a4692e899b51e9818031a1f1f1e255c6ef95.png\n"
     ]
    },
    {
     "name": "stderr",
     "output_type": "stream",
     "text": [
      "  2%|█▋                                                                        | 1529/69450 [19:03<20:52:26,  1.11s/it]"
     ]
    },
    {
     "name": "stdout",
     "output_type": "stream",
     "text": [
      "Warning: Could not download image boy\\1528 from https://safebooru.org/thumbnails/920/thumbnail_355beecf44d846b281a4670d5285b359.png\n"
     ]
    },
    {
     "name": "stderr",
     "output_type": "stream",
     "text": [
      "  2%|█▋                                                                        | 1532/69450 [19:07<20:21:25,  1.08s/it]"
     ]
    },
    {
     "name": "stdout",
     "output_type": "stream",
     "text": [
      "Warning: Could not download image boy\\1531 from https://safebooru.org/thumbnails/920/thumbnail_c33399cfaa4d7a31dfd33239fbf7b38de2c18104.png\n"
     ]
    },
    {
     "name": "stderr",
     "output_type": "stream",
     "text": [
      "\r",
      "  2%|█▋                                                                        | 1533/69450 [19:08<20:17:41,  1.08s/it]"
     ]
    },
    {
     "name": "stdout",
     "output_type": "stream",
     "text": [
      "Warning: Could not download image boy\\1532 from https://safebooru.org/thumbnails/920/thumbnail_8562befd2a04c0cbb47bcc5956656c2a86742ba3.png\n"
     ]
    },
    {
     "name": "stderr",
     "output_type": "stream",
     "text": [
      "\r",
      "  2%|█▋                                                                        | 1534/69450 [19:09<20:07:42,  1.07s/it]"
     ]
    },
    {
     "name": "stdout",
     "output_type": "stream",
     "text": [
      "Warning: Could not download image boy\\1533 from https://safebooru.org/thumbnails/920/thumbnail_314f7a810a09d4df070e1926385425d63c09292d.png\n"
     ]
    },
    {
     "name": "stderr",
     "output_type": "stream",
     "text": [
      "  2%|█▋                                                                        | 1536/69450 [19:11<20:00:40,  1.06s/it]"
     ]
    },
    {
     "name": "stdout",
     "output_type": "stream",
     "text": [
      "Warning: Could not download image boy\\1535 from https://safebooru.org/thumbnails/920/thumbnail_260039e6e5f3c8cd533d88c8536af524514efb44.png\n"
     ]
    },
    {
     "name": "stderr",
     "output_type": "stream",
     "text": [
      "\r",
      "  2%|█▋                                                                        | 1537/69450 [19:12<19:57:07,  1.06s/it]"
     ]
    },
    {
     "name": "stdout",
     "output_type": "stream",
     "text": [
      "Warning: Could not download image boy\\1536 from https://safebooru.org/thumbnails/920/thumbnail_4f1e42232a6fb0a347cf148389d54416083f8695.png\n"
     ]
    },
    {
     "name": "stderr",
     "output_type": "stream",
     "text": [
      "\r",
      "  2%|█▋                                                                        | 1538/69450 [19:13<19:54:05,  1.05s/it]"
     ]
    },
    {
     "name": "stdout",
     "output_type": "stream",
     "text": [
      "Warning: Could not download image boy\\1537 from https://safebooru.org/thumbnails/920/thumbnail_0a49052c00c9865cf16142af1315411fdcf8d277.png\n"
     ]
    },
    {
     "name": "stderr",
     "output_type": "stream",
     "text": [
      "\r",
      "  2%|█▋                                                                        | 1539/69450 [19:14<19:49:41,  1.05s/it]"
     ]
    },
    {
     "name": "stdout",
     "output_type": "stream",
     "text": [
      "Warning: Could not download image boy\\1538 from https://safebooru.org/thumbnails/920/thumbnail_5327e71a67ea8e4cccfbb756bfb68b6983d33bad.png\n"
     ]
    },
    {
     "name": "stderr",
     "output_type": "stream",
     "text": [
      "\r",
      "  2%|█▋                                                                        | 1540/69450 [19:15<19:47:17,  1.05s/it]"
     ]
    },
    {
     "name": "stdout",
     "output_type": "stream",
     "text": [
      "Warning: Could not download image boy\\1539 from https://safebooru.org/thumbnails/920/thumbnail_85329062d09ceecc29486c0dd4d713e8e50cfcd1.png\n"
     ]
    },
    {
     "name": "stderr",
     "output_type": "stream",
     "text": [
      "  2%|█▋                                                                        | 1566/69450 [19:43<20:32:39,  1.09s/it]"
     ]
    },
    {
     "name": "stdout",
     "output_type": "stream",
     "text": [
      "Warning: Could not download image boy\\1565 from https://safebooru.org/thumbnails/927/thumbnail_b3d03ee8d46bfb2fc684d8d2fa53435d70ab4f67.png\n"
     ]
    },
    {
     "name": "stderr",
     "output_type": "stream",
     "text": [
      "  2%|█▋                                                                        | 1586/69450 [20:04<19:55:41,  1.06s/it]"
     ]
    },
    {
     "name": "stdout",
     "output_type": "stream",
     "text": [
      "Warning: Could not download image boy\\1585 from https://safebooru.org/thumbnails/934/thumbnail_8daa3d6175d0122702aa5c680e6ebb62c65ab5e6.png\n"
     ]
    },
    {
     "name": "stderr",
     "output_type": "stream",
     "text": [
      "\r",
      "  2%|█▋                                                                        | 1587/69450 [20:05<19:54:21,  1.06s/it]"
     ]
    },
    {
     "name": "stdout",
     "output_type": "stream",
     "text": [
      "Warning: Could not download image boy\\1586 from https://safebooru.org/thumbnails/934/thumbnail_7d75145b64f0c272c0836e3829934f3e5fc84de1.png\n"
     ]
    },
    {
     "name": "stderr",
     "output_type": "stream",
     "text": [
      "\r",
      "  2%|█▋                                                                        | 1588/69450 [20:06<19:56:02,  1.06s/it]"
     ]
    },
    {
     "name": "stdout",
     "output_type": "stream",
     "text": [
      "Warning: Could not download image boy\\1587 from https://safebooru.org/thumbnails/934/thumbnail_62bc2039d3d0c35ce672cc4a3c4200d993ec6f87.png\n"
     ]
    },
    {
     "name": "stderr",
     "output_type": "stream",
     "text": [
      "\r",
      "  2%|█▋                                                                        | 1589/69450 [20:07<19:44:27,  1.05s/it]"
     ]
    },
    {
     "name": "stdout",
     "output_type": "stream",
     "text": [
      "Warning: Could not download image boy\\1588 from https://safebooru.org/thumbnails/934/thumbnail_50b3657739e7ba432474af80d8efa5120d275d47.png\n"
     ]
    },
    {
     "name": "stderr",
     "output_type": "stream",
     "text": [
      "\r",
      "  2%|█▋                                                                        | 1590/69450 [20:08<19:45:10,  1.05s/it]"
     ]
    },
    {
     "name": "stdout",
     "output_type": "stream",
     "text": [
      "Warning: Could not download image boy\\1589 from https://safebooru.org/thumbnails/934/thumbnail_9b60db6eecbd205e83872dd63a02a66fe9db6f56.png\n"
     ]
    },
    {
     "name": "stderr",
     "output_type": "stream",
     "text": [
      "\r",
      "  2%|█▋                                                                        | 1591/69450 [20:09<19:38:11,  1.04s/it]"
     ]
    },
    {
     "name": "stdout",
     "output_type": "stream",
     "text": [
      "Warning: Could not download image boy\\1590 from https://safebooru.org/thumbnails/934/thumbnail_2462c18f8426f8ce2eb93614f79dd59b8c03ef21.png\n"
     ]
    },
    {
     "name": "stderr",
     "output_type": "stream",
     "text": [
      "  2%|█▋                                                                        | 1594/69450 [20:12<17:01:20,  1.11it/s]"
     ]
    },
    {
     "name": "stdout",
     "output_type": "stream",
     "text": [
      "Warning: Could not download image boy\\1593 from https://safebooru.org/thumbnails/935/thumbnail_50a5308a8c6103976790fd56062b68728d7d3a21.gif\n"
     ]
    },
    {
     "name": "stderr",
     "output_type": "stream",
     "text": [
      "  2%|█▋                                                                        | 1596/69450 [20:15<24:42:31,  1.31s/it]"
     ]
    },
    {
     "name": "stdout",
     "output_type": "stream",
     "text": [
      "Warning: Could not download image boy\\1595 from https://safebooru.org/thumbnails/935/thumbnail_4bb9831dcbca6906430b6bf2488938462dd3401c.png\n"
     ]
    },
    {
     "name": "stderr",
     "output_type": "stream",
     "text": [
      "\r",
      "  2%|█▋                                                                        | 1597/69450 [20:16<23:14:11,  1.23s/it]"
     ]
    },
    {
     "name": "stdout",
     "output_type": "stream",
     "text": [
      "Warning: Could not download image boy\\1596 from https://safebooru.org/thumbnails/936/thumbnail_c3b1fda9d2a0477c740199ecff6a6b87224db323.png\n"
     ]
    },
    {
     "name": "stderr",
     "output_type": "stream",
     "text": [
      "  2%|█▋                                                                        | 1607/69450 [20:26<19:50:00,  1.05s/it]"
     ]
    },
    {
     "name": "stdout",
     "output_type": "stream",
     "text": [
      "Warning: Could not download image boy\\1606 from https://safebooru.org/thumbnails/936/thumbnail_96c1e700bca8e930ff95ddeb1801f6015323b59d.png\n"
     ]
    },
    {
     "name": "stderr",
     "output_type": "stream",
     "text": [
      "  2%|█▋                                                                        | 1611/69450 [20:31<19:47:57,  1.05s/it]"
     ]
    },
    {
     "name": "stdout",
     "output_type": "stream",
     "text": [
      "Warning: Could not download image boy\\1610 from https://safebooru.org/thumbnails/938/thumbnail_75cfbc604189ed83fc3cb697dfa73046fd8a62d9.gif\n"
     ]
    },
    {
     "name": "stderr",
     "output_type": "stream",
     "text": [
      "  2%|█▋                                                                        | 1622/69450 [20:42<20:45:38,  1.10s/it]"
     ]
    },
    {
     "name": "stdout",
     "output_type": "stream",
     "text": [
      "Warning: Could not download image boy\\1621 from https://safebooru.org/thumbnails/941/thumbnail_dd12beb84c265b6645d3587502948d5ccf28cf77.png\n"
     ]
    },
    {
     "name": "stderr",
     "output_type": "stream",
     "text": [
      "  2%|█▋                                                                        | 1625/69450 [20:46<20:25:32,  1.08s/it]"
     ]
    },
    {
     "name": "stdout",
     "output_type": "stream",
     "text": [
      "Warning: Could not download image boy\\1624 from https://safebooru.org/thumbnails/941/thumbnail_5806d6999dca86f34b759930af5089aca8ee2a23.png\n"
     ]
    },
    {
     "name": "stderr",
     "output_type": "stream",
     "text": [
      "\r",
      "  2%|█▋                                                                        | 1626/69450 [20:47<20:13:34,  1.07s/it]"
     ]
    },
    {
     "name": "stdout",
     "output_type": "stream",
     "text": [
      "Warning: Could not download image boy\\1625 from https://safebooru.org/thumbnails/942/thumbnail_d7a8c2b4a14e1ac628240b1ed748c136.gif\n"
     ]
    },
    {
     "name": "stderr",
     "output_type": "stream",
     "text": [
      "  2%|█▋                                                                        | 1633/69450 [20:54<20:30:24,  1.09s/it]"
     ]
    },
    {
     "name": "stdout",
     "output_type": "stream",
     "text": [
      "Warning: Could not download image boy\\1632 from https://safebooru.org/thumbnails/942/thumbnail_70c46e9bd5fde06ddaca891edcb96328.png\n"
     ]
    },
    {
     "name": "stderr",
     "output_type": "stream",
     "text": [
      "\r",
      "  2%|█▋                                                                        | 1634/69450 [20:55<20:15:54,  1.08s/it]"
     ]
    },
    {
     "name": "stdout",
     "output_type": "stream",
     "text": [
      "Warning: Could not download image boy\\1633 from https://safebooru.org/thumbnails/943/thumbnail_b3e89f4a17cce89d1766ee7f63318e23c589eaa6.png\n"
     ]
    },
    {
     "name": "stderr",
     "output_type": "stream",
     "text": [
      "  2%|█▋                                                                        | 1636/69450 [20:57<19:58:09,  1.06s/it]"
     ]
    },
    {
     "name": "stdout",
     "output_type": "stream",
     "text": [
      "Warning: Could not download image boy\\1635 from https://safebooru.org/thumbnails/943/thumbnail_5c988ed887abb5f7316ef84534be9119e2b9fcef.png\n"
     ]
    },
    {
     "name": "stderr",
     "output_type": "stream",
     "text": [
      "\r",
      "  2%|█▋                                                                        | 1637/69450 [20:58<19:58:15,  1.06s/it]"
     ]
    },
    {
     "name": "stdout",
     "output_type": "stream",
     "text": [
      "Warning: Could not download image boy\\1636 from https://safebooru.org/thumbnails/945/thumbnail_1b8776d08d5a0fd7233286aa084e4afac326816a.png\n"
     ]
    },
    {
     "name": "stderr",
     "output_type": "stream",
     "text": [
      "\r",
      "  2%|█▋                                                                        | 1638/69450 [20:59<19:51:15,  1.05s/it]"
     ]
    },
    {
     "name": "stdout",
     "output_type": "stream",
     "text": [
      "Warning: Could not download image boy\\1637 from https://safebooru.org/thumbnails/945/thumbnail_dcd5cc6393c4469121c8b2a1a9cc9f90b9d6eb16.png\n"
     ]
    },
    {
     "name": "stderr",
     "output_type": "stream",
     "text": [
      "  2%|█▊                                                                        | 1643/69450 [21:05<19:45:43,  1.05s/it]"
     ]
    },
    {
     "name": "stdout",
     "output_type": "stream",
     "text": [
      "Warning: Could not download image boy\\1642 from https://safebooru.org/thumbnails/945/thumbnail_57cdb3a7548ea434b3ce109a70db076831b447e9.png\n"
     ]
    },
    {
     "name": "stderr",
     "output_type": "stream",
     "text": [
      "\r",
      "  2%|█▊                                                                        | 1644/69450 [21:06<19:51:03,  1.05s/it]"
     ]
    },
    {
     "name": "stdout",
     "output_type": "stream",
     "text": [
      "Warning: Could not download image boy\\1643 from https://safebooru.org/thumbnails/946/thumbnail_77699db55b1d25a506d3bbcc6b22dff981891e6c.png\n"
     ]
    },
    {
     "name": "stderr",
     "output_type": "stream",
     "text": [
      "\r",
      "  2%|█▊                                                                        | 1645/69450 [21:07<19:48:09,  1.05s/it]"
     ]
    },
    {
     "name": "stdout",
     "output_type": "stream",
     "text": [
      "Warning: Could not download image boy\\1644 from https://safebooru.org/thumbnails/946/thumbnail_ca97a0d3fb50dea805a3107fbe85403bf8121cc1.png\n"
     ]
    },
    {
     "name": "stderr",
     "output_type": "stream",
     "text": [
      "\r",
      "  2%|█▊                                                                        | 1646/69450 [21:08<21:12:30,  1.13s/it]"
     ]
    },
    {
     "name": "stdout",
     "output_type": "stream",
     "text": [
      "Warning: Could not download image boy\\1645 from https://safebooru.org/thumbnails/946/thumbnail_c6b430fa0656506394fb529a259cff42cb20b9bb.png\n"
     ]
    },
    {
     "name": "stderr",
     "output_type": "stream",
     "text": [
      "\r",
      "  2%|█▊                                                                        | 1647/69450 [21:09<20:39:13,  1.10s/it]"
     ]
    },
    {
     "name": "stdout",
     "output_type": "stream",
     "text": [
      "Warning: Could not download image boy\\1646 from https://safebooru.org/thumbnails/946/thumbnail_6bd327b28d72bdf9c28123da79fbf79848f0c6c3.png\n"
     ]
    },
    {
     "name": "stderr",
     "output_type": "stream",
     "text": [
      "  2%|█▊                                                                        | 1652/69450 [21:14<19:49:14,  1.05s/it]"
     ]
    },
    {
     "name": "stdout",
     "output_type": "stream",
     "text": [
      "Warning: Could not download image boy\\1651 from https://safebooru.org/thumbnails/949/thumbnail_6c231a28022ce5bf77f7c464e81102467f469c5d.png\n"
     ]
    },
    {
     "name": "stderr",
     "output_type": "stream",
     "text": [
      "  2%|█▊                                                                        | 1662/69450 [21:25<19:57:35,  1.06s/it]"
     ]
    },
    {
     "name": "stdout",
     "output_type": "stream",
     "text": [
      "Warning: Could not download image boy\\1661 from https://safebooru.org/thumbnails/950/thumbnail_1d231f7163754c6e5e074ce33ece99f23b76d942.gif\n"
     ]
    },
    {
     "name": "stderr",
     "output_type": "stream",
     "text": [
      "  2%|█▊                                                                        | 1664/69450 [21:27<19:44:58,  1.05s/it]"
     ]
    },
    {
     "name": "stdout",
     "output_type": "stream",
     "text": [
      "Warning: Could not download image boy\\1663 from https://safebooru.org/thumbnails/952/thumbnail_3f362ed519a2723f1918262b6b5ba57de0f046ca.png\n"
     ]
    },
    {
     "name": "stderr",
     "output_type": "stream",
     "text": [
      "\r",
      "  2%|█▊                                                                        | 1665/69450 [21:28<19:42:00,  1.05s/it]"
     ]
    },
    {
     "name": "stdout",
     "output_type": "stream",
     "text": [
      "Warning: Could not download image boy\\1664 from https://safebooru.org/thumbnails/952/thumbnail_258ead34d986d0256027ddf118a8ac9ea54d712c.png\n"
     ]
    },
    {
     "name": "stderr",
     "output_type": "stream",
     "text": [
      "  2%|█▊                                                                        | 1677/69450 [21:41<20:12:03,  1.07s/it]"
     ]
    },
    {
     "name": "stdout",
     "output_type": "stream",
     "text": [
      "Warning: Could not download image boy\\1676 from https://safebooru.org/thumbnails/955/thumbnail_db03277abb6de6385108fea49aaca1f937c70e41.png\n"
     ]
    },
    {
     "name": "stderr",
     "output_type": "stream",
     "text": [
      "  2%|█▊                                                                        | 1680/69450 [21:44<19:52:59,  1.06s/it]"
     ]
    },
    {
     "name": "stdout",
     "output_type": "stream",
     "text": [
      "Warning: Could not download image boy\\1679 from https://safebooru.org/thumbnails/957/thumbnail_2407f307f2bd1dc4e04ab3a101eeb96ec784155a.png\n"
     ]
    },
    {
     "name": "stderr",
     "output_type": "stream",
     "text": [
      "\r",
      "  2%|█▊                                                                        | 1681/69450 [21:45<19:48:25,  1.05s/it]"
     ]
    },
    {
     "name": "stdout",
     "output_type": "stream",
     "text": [
      "Warning: Could not download image boy\\1680 from https://safebooru.org/thumbnails/957/thumbnail_9199121c70e6ba06aecd3cb044d9d4e918495a43.png\n"
     ]
    },
    {
     "name": "stderr",
     "output_type": "stream",
     "text": [
      "  2%|█▊                                                                        | 1687/69450 [21:51<20:02:24,  1.06s/it]"
     ]
    },
    {
     "name": "stdout",
     "output_type": "stream",
     "text": [
      "Warning: Could not download image boy\\1686 from https://safebooru.org/thumbnails/959/thumbnail_388b0a37c4713dac30c215eb19b3aec9692e5a41.png\n"
     ]
    },
    {
     "name": "stderr",
     "output_type": "stream",
     "text": [
      "  2%|█▊                                                                        | 1691/69450 [21:55<19:56:30,  1.06s/it]"
     ]
    },
    {
     "name": "stdout",
     "output_type": "stream",
     "text": [
      "Warning: Could not download image boy\\1690 from https://safebooru.org/thumbnails/960/thumbnail_649d75b6a6c4eb71aab3f7608a3c3e7c0d257022.png\n"
     ]
    },
    {
     "name": "stderr",
     "output_type": "stream",
     "text": [
      "  2%|█▊                                                                        | 1704/69450 [22:09<19:58:18,  1.06s/it]"
     ]
    },
    {
     "name": "stdout",
     "output_type": "stream",
     "text": [
      "Warning: Could not download image boy\\1703 from https://safebooru.org/thumbnails/962/thumbnail_9773bdc2ab1dc05e77df7baf9f3992a62856452c.png\n"
     ]
    },
    {
     "name": "stderr",
     "output_type": "stream",
     "text": [
      "  2%|█▊                                                                        | 1708/69450 [22:13<19:49:41,  1.05s/it]"
     ]
    },
    {
     "name": "stdout",
     "output_type": "stream",
     "text": [
      "Warning: Could not download image boy\\1707 from https://safebooru.org/thumbnails/963/thumbnail_32ce0e886888d71a249d4fa234d5c398fac4c788.png\n"
     ]
    },
    {
     "name": "stderr",
     "output_type": "stream",
     "text": [
      "  2%|█▊                                                                        | 1719/69450 [22:25<20:17:22,  1.08s/it]"
     ]
    },
    {
     "name": "stdout",
     "output_type": "stream",
     "text": [
      "Warning: Could not download image boy\\1718 from https://safebooru.org/thumbnails/964/thumbnail_fe5f5365a2922ad9f60e917a4035d2aec195b486.png\n"
     ]
    },
    {
     "name": "stderr",
     "output_type": "stream",
     "text": [
      "\r",
      "  2%|█▊                                                                        | 1720/69450 [22:26<20:03:18,  1.07s/it]"
     ]
    },
    {
     "name": "stdout",
     "output_type": "stream",
     "text": [
      "Warning: Could not download image boy\\1719 from https://safebooru.org/thumbnails/964/thumbnail_d8cb3ebeb4d2b2c2164754fe482db864f1110ca5.png\n"
     ]
    },
    {
     "name": "stderr",
     "output_type": "stream",
     "text": [
      "  2%|█▊                                                                        | 1724/69450 [22:31<20:01:29,  1.06s/it]"
     ]
    },
    {
     "name": "stdout",
     "output_type": "stream",
     "text": [
      "Warning: Could not download image boy\\1723 from https://safebooru.org/thumbnails/964/thumbnail_e9248c718e1a4f828f819314de616d81ddd6416c.png\n"
     ]
    },
    {
     "name": "stderr",
     "output_type": "stream",
     "text": [
      "\r",
      "  2%|█▊                                                                        | 1725/69450 [22:32<19:58:24,  1.06s/it]"
     ]
    },
    {
     "name": "stdout",
     "output_type": "stream",
     "text": [
      "Warning: Could not download image boy\\1724 from https://safebooru.org/thumbnails/964/thumbnail_2a67b2528c2beb30e10b9ac9fb26e711f07e6580.png\n"
     ]
    },
    {
     "name": "stderr",
     "output_type": "stream",
     "text": [
      "\r",
      "  2%|█▊                                                                        | 1726/69450 [22:33<19:53:44,  1.06s/it]"
     ]
    },
    {
     "name": "stdout",
     "output_type": "stream",
     "text": [
      "Warning: Could not download image boy\\1725 from https://safebooru.org/thumbnails/964/thumbnail_061b632660055799c82080a58be87770.jpeg\n"
     ]
    },
    {
     "name": "stderr",
     "output_type": "stream",
     "text": [
      "\r",
      "  2%|█▊                                                                        | 1727/69450 [22:34<19:56:44,  1.06s/it]"
     ]
    },
    {
     "name": "stdout",
     "output_type": "stream",
     "text": [
      "Warning: Could not download image boy\\1726 from https://safebooru.org/thumbnails/964/thumbnail_83bdfdf49f5d24517c4217192bdb430b80e8e17b.png\n"
     ]
    },
    {
     "name": "stderr",
     "output_type": "stream",
     "text": [
      "  2%|█▊                                                                        | 1735/69450 [22:42<19:43:07,  1.05s/it]"
     ]
    },
    {
     "name": "stdout",
     "output_type": "stream",
     "text": [
      "Warning: Could not download image boy\\1734 from https://safebooru.org/thumbnails/964/thumbnail_515b641a2bff2a144b2b01987d682f05f8219b92.png\n"
     ]
    },
    {
     "name": "stderr",
     "output_type": "stream",
     "text": [
      "\r",
      "  2%|█▊                                                                        | 1736/69450 [22:43<19:51:20,  1.06s/it]"
     ]
    },
    {
     "name": "stdout",
     "output_type": "stream",
     "text": [
      "Warning: Could not download image boy\\1735 from https://safebooru.org/thumbnails/964/thumbnail_fe5e0aa77ba3df5efd7919402a24968cd3a60628.png\n"
     ]
    },
    {
     "name": "stderr",
     "output_type": "stream",
     "text": [
      "  3%|█▊                                                                        | 1742/69450 [22:50<19:40:56,  1.05s/it]"
     ]
    },
    {
     "name": "stdout",
     "output_type": "stream",
     "text": [
      "Warning: Could not download image boy\\1741 from https://safebooru.org/thumbnails/964/thumbnail_0f197bc9ddf2016c7362f92a91f4dc0ad132b6d6.png\n"
     ]
    },
    {
     "name": "stderr",
     "output_type": "stream",
     "text": [
      "  3%|█▊                                                                        | 1747/69450 [22:55<19:58:30,  1.06s/it]"
     ]
    },
    {
     "name": "stdout",
     "output_type": "stream",
     "text": [
      "Warning: Could not download image boy\\1746 from https://safebooru.org/thumbnails/965/thumbnail_35154f171f69054376a5e7e6a2d3eb53c64f0d3a.png\n"
     ]
    },
    {
     "name": "stderr",
     "output_type": "stream",
     "text": [
      "  3%|█▊                                                                        | 1750/69450 [22:58<20:18:23,  1.08s/it]"
     ]
    },
    {
     "name": "stdout",
     "output_type": "stream",
     "text": [
      "Warning: Could not download image boy\\1749 from https://safebooru.org/thumbnails/965/thumbnail_ca0400dd4459082257f963e4b7132c0ec3ee1c3b.png\n"
     ]
    },
    {
     "name": "stderr",
     "output_type": "stream",
     "text": [
      "  3%|█▊                                                                        | 1752/69450 [23:00<20:12:33,  1.07s/it]"
     ]
    },
    {
     "name": "stdout",
     "output_type": "stream",
     "text": [
      "Warning: Could not download image boy\\1751 from https://safebooru.org/thumbnails/965/thumbnail_a9cb0b715a1a30f377faf21dabd143243c57cd61.png\n"
     ]
    },
    {
     "name": "stderr",
     "output_type": "stream",
     "text": [
      "  3%|█▊                                                                        | 1757/69450 [23:06<19:59:51,  1.06s/it]"
     ]
    },
    {
     "name": "stdout",
     "output_type": "stream",
     "text": [
      "Warning: Could not download image boy\\1756 from https://safebooru.org/thumbnails/965/thumbnail_ac73306f10f7cff1866852a85e62f45c87805ae6.png\n"
     ]
    },
    {
     "name": "stderr",
     "output_type": "stream",
     "text": [
      "\r",
      "  3%|█▊                                                                        | 1758/69450 [23:07<19:58:13,  1.06s/it]"
     ]
    },
    {
     "name": "stdout",
     "output_type": "stream",
     "text": [
      "Warning: Could not download image boy\\1757 from https://safebooru.org/thumbnails/965/thumbnail_d13c93969956a358a1fa5261adc653416bf9a7e1.png\n"
     ]
    },
    {
     "name": "stderr",
     "output_type": "stream",
     "text": [
      "\r",
      "  3%|█▊                                                                        | 1759/69450 [23:08<19:54:52,  1.06s/it]"
     ]
    },
    {
     "name": "stdout",
     "output_type": "stream",
     "text": [
      "Warning: Could not download image boy\\1758 from https://safebooru.org/thumbnails/965/thumbnail_eb1b4a1a3e2b9bc5e61cc9dbd9ac85756f5d8232.png\n"
     ]
    },
    {
     "name": "stderr",
     "output_type": "stream",
     "text": [
      "\r",
      "  3%|█▉                                                                        | 1760/69450 [23:09<19:52:50,  1.06s/it]"
     ]
    },
    {
     "name": "stdout",
     "output_type": "stream",
     "text": [
      "Warning: Could not download image boy\\1759 from https://safebooru.org/thumbnails/965/thumbnail_4a2e1e1f266366774011f48e4846927564e05617.png\n"
     ]
    },
    {
     "name": "stderr",
     "output_type": "stream",
     "text": [
      "\r",
      "  3%|█▉                                                                        | 1761/69450 [23:10<19:54:18,  1.06s/it]"
     ]
    },
    {
     "name": "stdout",
     "output_type": "stream",
     "text": [
      "Warning: Could not download image boy\\1760 from https://safebooru.org/thumbnails/965/thumbnail_f4833dd64ce99918943f157f43ac7b954c756d3d.png\n"
     ]
    },
    {
     "name": "stderr",
     "output_type": "stream",
     "text": [
      "  3%|█▉                                                                        | 1765/69450 [23:14<19:49:45,  1.05s/it]"
     ]
    },
    {
     "name": "stdout",
     "output_type": "stream",
     "text": [
      "Warning: Could not download image boy\\1764 from https://safebooru.org/thumbnails/965/thumbnail_f6173284efd932f063bb3091cb3043b1499c7a43.png\n"
     ]
    },
    {
     "name": "stderr",
     "output_type": "stream",
     "text": [
      "\r",
      "  3%|█▉                                                                        | 1766/69450 [23:15<19:49:18,  1.05s/it]"
     ]
    },
    {
     "name": "stdout",
     "output_type": "stream",
     "text": [
      "Warning: Could not download image boy\\1765 from https://safebooru.org/thumbnails/965/thumbnail_3bd07acb16cdc930482c4f6681d2cb26d170139f.png\n"
     ]
    },
    {
     "name": "stderr",
     "output_type": "stream",
     "text": [
      "  3%|█▉                                                                        | 1771/69450 [23:20<19:57:05,  1.06s/it]"
     ]
    },
    {
     "name": "stdout",
     "output_type": "stream",
     "text": [
      "Warning: Could not download image boy\\1770 from https://safebooru.org/thumbnails/965/thumbnail_2e2d283ad9295a16dfcbe1b20822dac1ecd85944.png\n"
     ]
    },
    {
     "name": "stderr",
     "output_type": "stream",
     "text": [
      "  3%|█▉                                                                        | 1779/69450 [23:29<21:28:47,  1.14s/it]"
     ]
    },
    {
     "name": "stdout",
     "output_type": "stream",
     "text": [
      "Warning: Could not download image boy\\1778 from https://safebooru.org/thumbnails/965/thumbnail_73d5a86fb1f2a0f4f3f22d092d37fea587003f8a.png\n"
     ]
    },
    {
     "name": "stderr",
     "output_type": "stream",
     "text": [
      "\r",
      "  3%|█▉                                                                        | 1780/69450 [23:31<22:02:21,  1.17s/it]"
     ]
    },
    {
     "name": "stdout",
     "output_type": "stream",
     "text": [
      "Warning: Could not download image boy\\1779 from https://safebooru.org/thumbnails/965/thumbnail_1c273e4238e79cae189e542bc49a4ab473c1c576.png\n"
     ]
    },
    {
     "name": "stderr",
     "output_type": "stream",
     "text": [
      "\r",
      "  3%|█▉                                                                        | 1781/69450 [23:32<21:21:57,  1.14s/it]"
     ]
    },
    {
     "name": "stdout",
     "output_type": "stream",
     "text": [
      "Warning: Could not download image boy\\1780 from https://safebooru.org/thumbnails/965/thumbnail_dca576c10c51f951ac3473f09f2ce07027b4ea7e.png\n"
     ]
    },
    {
     "name": "stderr",
     "output_type": "stream",
     "text": [
      "  3%|█▉                                                                        | 1785/69450 [23:36<20:48:41,  1.11s/it]"
     ]
    },
    {
     "name": "stdout",
     "output_type": "stream",
     "text": [
      "Warning: Could not download image boy\\1784 from https://safebooru.org/thumbnails/965/thumbnail_773c1b9d7aab018c80a816f57cccf701a700fcde.png\n"
     ]
    },
    {
     "name": "stderr",
     "output_type": "stream",
     "text": [
      "\r",
      "  3%|█▉                                                                        | 1786/69450 [23:37<20:27:03,  1.09s/it]"
     ]
    },
    {
     "name": "stdout",
     "output_type": "stream",
     "text": [
      "Warning: Could not download image boy\\1785 from https://safebooru.org/thumbnails/965/thumbnail_21cabd1630d48d625dbdf982893abddc8920ec9c.png\n"
     ]
    },
    {
     "name": "stderr",
     "output_type": "stream",
     "text": [
      "  3%|█▉                                                                        | 1794/69450 [23:46<19:59:43,  1.06s/it]"
     ]
    },
    {
     "name": "stdout",
     "output_type": "stream",
     "text": [
      "Warning: Could not download image boy\\1793 from https://safebooru.org/thumbnails/965/thumbnail_47de877eb2bf4ae2c95ee8856f916078805b566a.png\n"
     ]
    },
    {
     "name": "stderr",
     "output_type": "stream",
     "text": [
      "  3%|█▉                                                                        | 1806/69450 [23:59<20:58:03,  1.12s/it]"
     ]
    },
    {
     "name": "stdout",
     "output_type": "stream",
     "text": [
      "Warning: Could not download image boy\\1805 from https://safebooru.org/thumbnails/966/thumbnail_dfae1a429be85d8691a484cc62318879c1e62e7d.png\n"
     ]
    },
    {
     "name": "stderr",
     "output_type": "stream",
     "text": [
      "  3%|█▉                                                                        | 1809/69450 [24:02<20:38:44,  1.10s/it]"
     ]
    },
    {
     "name": "stdout",
     "output_type": "stream",
     "text": [
      "Warning: Could not download image boy\\1808 from https://safebooru.org/thumbnails/966/thumbnail_556875f0d025252a8db42549308bd34a115e79b6.png\n"
     ]
    },
    {
     "name": "stderr",
     "output_type": "stream",
     "text": [
      "\r",
      "  3%|█▉                                                                        | 1810/69450 [24:03<21:11:41,  1.13s/it]"
     ]
    },
    {
     "name": "stdout",
     "output_type": "stream",
     "text": [
      "Warning: Could not download image boy\\1809 from https://safebooru.org/thumbnails/966/thumbnail_ec38244a016cdea6bc678ddb21636e966ae48509.png\n"
     ]
    },
    {
     "name": "stderr",
     "output_type": "stream",
     "text": [
      "\r",
      "  3%|█▉                                                                        | 1811/69450 [24:04<20:43:45,  1.10s/it]"
     ]
    },
    {
     "name": "stdout",
     "output_type": "stream",
     "text": [
      "Warning: Could not download image boy\\1810 from https://safebooru.org/thumbnails/966/thumbnail_08e87aad3584a3a69554bc11410bdfa4d2643032.png\n"
     ]
    },
    {
     "name": "stderr",
     "output_type": "stream",
     "text": [
      "\r",
      "  3%|█▉                                                                        | 1812/69450 [24:06<20:33:50,  1.09s/it]"
     ]
    },
    {
     "name": "stdout",
     "output_type": "stream",
     "text": [
      "Warning: Could not download image boy\\1811 from https://safebooru.org/thumbnails/966/thumbnail_4c844b343fa02326bde04e51f1a5f1a8f25334aa.png\n"
     ]
    },
    {
     "name": "stderr",
     "output_type": "stream",
     "text": [
      "\r",
      "  3%|█▉                                                                        | 1813/69450 [24:07<20:28:17,  1.09s/it]"
     ]
    },
    {
     "name": "stdout",
     "output_type": "stream",
     "text": [
      "Warning: Could not download image boy\\1812 from https://safebooru.org/thumbnails/966/thumbnail_1b3fd101769dd501f20ec21c4d1098878f0f1ea5.png\n"
     ]
    },
    {
     "name": "stderr",
     "output_type": "stream",
     "text": [
      "\r",
      "  3%|█▉                                                                        | 1814/69450 [24:08<20:32:50,  1.09s/it]"
     ]
    },
    {
     "name": "stdout",
     "output_type": "stream",
     "text": [
      "Warning: Could not download image boy\\1813 from https://safebooru.org/thumbnails/966/thumbnail_414a387569dae6ffdbdf1e35294952d95dbb169d.png\n"
     ]
    },
    {
     "name": "stderr",
     "output_type": "stream",
     "text": [
      "  3%|█▉                                                                        | 1817/69450 [24:11<20:06:08,  1.07s/it]"
     ]
    },
    {
     "name": "stdout",
     "output_type": "stream",
     "text": [
      "Warning: Could not download image boy\\1816 from https://safebooru.org/thumbnails/966/thumbnail_73b7596a1233510085adf5e1b49543355a34fb5a.png\n"
     ]
    },
    {
     "name": "stderr",
     "output_type": "stream",
     "text": [
      "  3%|█▉                                                                        | 1820/69450 [24:14<20:46:14,  1.11s/it]"
     ]
    },
    {
     "name": "stdout",
     "output_type": "stream",
     "text": [
      "Warning: Could not download image boy\\1819 from https://safebooru.org/thumbnails/966/thumbnail_c50f8c0891bfa0721de7e4c5be0b47f52cd68019.png\n"
     ]
    },
    {
     "name": "stderr",
     "output_type": "stream",
     "text": [
      "  3%|█▉                                                                        | 1822/69450 [24:16<20:22:30,  1.08s/it]"
     ]
    },
    {
     "name": "stdout",
     "output_type": "stream",
     "text": [
      "Warning: Could not download image boy\\1821 from https://safebooru.org/thumbnails/966/thumbnail_c68752b912c042dfb70902a22a61c17e499c0eb4.png\n"
     ]
    },
    {
     "name": "stderr",
     "output_type": "stream",
     "text": [
      "  3%|█▉                                                                        | 1834/69450 [24:30<20:47:08,  1.11s/it]"
     ]
    },
    {
     "name": "stdout",
     "output_type": "stream",
     "text": [
      "Warning: Could not download image boy\\1833 from https://safebooru.org/thumbnails/967/thumbnail_47a212e4d8681fadcf777ff2b821577113c08bad.png\n"
     ]
    },
    {
     "name": "stderr",
     "output_type": "stream",
     "text": [
      "\r",
      "  3%|█▉                                                                        | 1835/69450 [24:31<20:25:28,  1.09s/it]"
     ]
    },
    {
     "name": "stdout",
     "output_type": "stream",
     "text": [
      "Warning: Could not download image boy\\1834 from https://safebooru.org/thumbnails/967/thumbnail_6c3e9f461ac83e90d5aa7b9c2a53eddf1f012081.png\n"
     ]
    },
    {
     "name": "stderr",
     "output_type": "stream",
     "text": [
      "  3%|█▉                                                                        | 1856/69450 [24:54<22:14:59,  1.19s/it]"
     ]
    },
    {
     "name": "stdout",
     "output_type": "stream",
     "text": [
      "Warning: Could not download image boy\\1855 from https://safebooru.org/thumbnails/967/thumbnail_f00e8b0379f9d820ef977efdd260af7169a28bad.png\n"
     ]
    },
    {
     "name": "stderr",
     "output_type": "stream",
     "text": [
      "  3%|█▉                                                                        | 1859/69450 [24:57<21:23:20,  1.14s/it]"
     ]
    },
    {
     "name": "stdout",
     "output_type": "stream",
     "text": [
      "Warning: Could not download image boy\\1858 from https://safebooru.org/thumbnails/967/thumbnail_090eaddb1551db1b7981e7a97d92d3c63fbfd7f9.png\n"
     ]
    },
    {
     "name": "stderr",
     "output_type": "stream",
     "text": [
      "\r",
      "  3%|█▉                                                                        | 1860/69450 [24:59<20:50:23,  1.11s/it]"
     ]
    },
    {
     "name": "stdout",
     "output_type": "stream",
     "text": [
      "Warning: Could not download image boy\\1859 from https://safebooru.org/thumbnails/967/thumbnail_f8ff65eeb08d556cb4cc283d9daaef35d43b57ff.png\n"
     ]
    },
    {
     "name": "stderr",
     "output_type": "stream",
     "text": [
      "\r",
      "  3%|█▉                                                                        | 1861/69450 [25:00<20:32:37,  1.09s/it]"
     ]
    },
    {
     "name": "stdout",
     "output_type": "stream",
     "text": [
      "Warning: Could not download image boy\\1860 from https://safebooru.org/thumbnails/967/thumbnail_f2ba60997e097de26194570052570ae12709fb7f.png\n"
     ]
    },
    {
     "name": "stderr",
     "output_type": "stream",
     "text": [
      "\r",
      "  3%|█▉                                                                        | 1862/69450 [25:01<20:15:53,  1.08s/it]"
     ]
    },
    {
     "name": "stdout",
     "output_type": "stream",
     "text": [
      "Warning: Could not download image boy\\1861 from https://safebooru.org/thumbnails/967/thumbnail_8441803673d7bcc3cb164b187b4957f59b59da51.png\n"
     ]
    },
    {
     "name": "stderr",
     "output_type": "stream",
     "text": [
      "  3%|█▉                                                                        | 1865/69450 [25:04<19:54:35,  1.06s/it]"
     ]
    },
    {
     "name": "stdout",
     "output_type": "stream",
     "text": [
      "Warning: Could not download image boy\\1864 from https://safebooru.org/thumbnails/967/thumbnail_b2b7a50837c1620f442570063de3cf0cf21ef2b5.png\n"
     ]
    },
    {
     "name": "stderr",
     "output_type": "stream",
     "text": [
      "  3%|█▉                                                                        | 1868/69450 [25:07<19:51:23,  1.06s/it]"
     ]
    },
    {
     "name": "stdout",
     "output_type": "stream",
     "text": [
      "Warning: Could not download image boy\\1867 from https://safebooru.org/thumbnails/967/thumbnail_58436cd4598b7f75cd2292b3518b40b538577acf.png\n"
     ]
    },
    {
     "name": "stderr",
     "output_type": "stream",
     "text": [
      "\r",
      "  3%|█▉                                                                        | 1869/69450 [25:08<21:06:04,  1.12s/it]"
     ]
    },
    {
     "name": "stdout",
     "output_type": "stream",
     "text": [
      "Warning: Could not download image boy\\1868 from https://safebooru.org/thumbnails/967/thumbnail_809eb68f208816ac4ad36f26955f149971acddf2.png\n"
     ]
    },
    {
     "name": "stderr",
     "output_type": "stream",
     "text": [
      "  3%|█▉                                                                        | 1872/69450 [25:11<20:04:59,  1.07s/it]"
     ]
    },
    {
     "name": "stdout",
     "output_type": "stream",
     "text": [
      "Warning: Could not download image boy\\1871 from https://safebooru.org/thumbnails/968/thumbnail_f703bfdd8c72867d643da3d53a326aa2c0a1e731.png\n"
     ]
    },
    {
     "name": "stderr",
     "output_type": "stream",
     "text": [
      "\r",
      "  3%|█▉                                                                        | 1873/69450 [25:12<20:18:10,  1.08s/it]"
     ]
    },
    {
     "name": "stdout",
     "output_type": "stream",
     "text": [
      "Warning: Could not download image boy\\1872 from https://safebooru.org/thumbnails/968/thumbnail_c85308011f20f3adda870440dd10c3c6f7a6fa25.png\n"
     ]
    },
    {
     "name": "stderr",
     "output_type": "stream",
     "text": [
      "  3%|█▉                                                                        | 1877/69450 [25:17<21:21:06,  1.14s/it]"
     ]
    },
    {
     "name": "stdout",
     "output_type": "stream",
     "text": [
      "Warning: Could not download image boy\\1876 from https://safebooru.org/thumbnails/968/thumbnail_6a808e7d420dfe6074d1001b889787ca48d91118.png\n"
     ]
    },
    {
     "name": "stderr",
     "output_type": "stream",
     "text": [
      "  3%|██                                                                        | 1879/69450 [25:19<21:16:43,  1.13s/it]"
     ]
    },
    {
     "name": "stdout",
     "output_type": "stream",
     "text": [
      "Warning: Could not download image boy\\1878 from https://safebooru.org/thumbnails/968/thumbnail_4d7bcd0292a0f46935298e63f5338a67f7362376.png\n"
     ]
    },
    {
     "name": "stderr",
     "output_type": "stream",
     "text": [
      "  3%|██                                                                        | 1890/69450 [25:31<21:06:42,  1.12s/it]"
     ]
    },
    {
     "name": "stdout",
     "output_type": "stream",
     "text": [
      "Warning: Could not download image boy\\1889 from https://safebooru.org/thumbnails/968/thumbnail_816ef9370269afe0f64960374de79ef4a7d188f0.png\n"
     ]
    },
    {
     "name": "stderr",
     "output_type": "stream",
     "text": [
      "  3%|██                                                                        | 1893/69450 [25:35<20:34:52,  1.10s/it]"
     ]
    },
    {
     "name": "stdout",
     "output_type": "stream",
     "text": [
      "Warning: Could not download image boy\\1892 from https://safebooru.org/thumbnails/968/thumbnail_851c8b11ee05d8c879163a8ab7bef8fee26eaa0f.png\n"
     ]
    },
    {
     "name": "stderr",
     "output_type": "stream",
     "text": [
      "  3%|██                                                                        | 1896/69450 [25:38<21:01:01,  1.12s/it]"
     ]
    },
    {
     "name": "stdout",
     "output_type": "stream",
     "text": [
      "Warning: Could not download image boy\\1895 from https://safebooru.org/thumbnails/968/thumbnail_adaf561931e8ed5a4d8880b887cb7b55a9bcb31c.png\n"
     ]
    },
    {
     "name": "stderr",
     "output_type": "stream",
     "text": [
      "  3%|██                                                                        | 1899/69450 [25:41<20:25:02,  1.09s/it]"
     ]
    },
    {
     "name": "stdout",
     "output_type": "stream",
     "text": [
      "Warning: Could not download image boy\\1898 from https://safebooru.org/thumbnails/968/thumbnail_f89825445f92b135c9720fe422ef8f349123c416.png\n"
     ]
    },
    {
     "name": "stderr",
     "output_type": "stream",
     "text": [
      "  3%|██                                                                        | 1918/69450 [26:02<19:56:04,  1.06s/it]"
     ]
    },
    {
     "name": "stdout",
     "output_type": "stream",
     "text": [
      "Warning: Could not download image boy\\1917 from https://safebooru.org/thumbnails/969/thumbnail_817388f451e84113a45e0a3b12d073185f8aee95.png\n"
     ]
    },
    {
     "name": "stderr",
     "output_type": "stream",
     "text": [
      "  3%|██                                                                        | 1924/69450 [26:08<19:35:20,  1.04s/it]"
     ]
    },
    {
     "name": "stdout",
     "output_type": "stream",
     "text": [
      "Warning: Could not download image boy\\1923 from https://safebooru.org/thumbnails/969/thumbnail_0d7022fa5eaddaff5e9f90ac24cc64269d15e1e3.png\n"
     ]
    },
    {
     "name": "stderr",
     "output_type": "stream",
     "text": [
      "  3%|██                                                                        | 1933/69450 [26:17<19:37:33,  1.05s/it]"
     ]
    },
    {
     "name": "stdout",
     "output_type": "stream",
     "text": [
      "Warning: Could not download image boy\\1932 from https://safebooru.org/thumbnails/969/thumbnail_4d8ba7284b504a11d1ff35bfab515d3620a356bf.png\n"
     ]
    },
    {
     "name": "stderr",
     "output_type": "stream",
     "text": [
      "  3%|██                                                                        | 1936/69450 [26:20<19:33:51,  1.04s/it]"
     ]
    },
    {
     "name": "stdout",
     "output_type": "stream",
     "text": [
      "Warning: Could not download image boy\\1935 from https://safebooru.org/thumbnails/969/thumbnail_0f459ea0c5770e98b8577a857e43b98fabde991b.png\n"
     ]
    },
    {
     "name": "stderr",
     "output_type": "stream",
     "text": [
      "  3%|██                                                                        | 1949/69450 [26:34<21:02:42,  1.12s/it]"
     ]
    },
    {
     "name": "stdout",
     "output_type": "stream",
     "text": [
      "Warning: Could not download image boy\\1948 from https://safebooru.org/thumbnails/969/thumbnail_66be1f975e7ce645431cf5524fdfea9e11a85b50.png\n"
     ]
    },
    {
     "name": "stderr",
     "output_type": "stream",
     "text": [
      "  3%|██                                                                        | 1959/69450 [26:45<19:36:51,  1.05s/it]"
     ]
    },
    {
     "name": "stdout",
     "output_type": "stream",
     "text": [
      "Warning: Could not download image boy\\1958 from https://safebooru.org/thumbnails/970/thumbnail_c8802f8fc3341f9ee0a95881414e4cf8a30c7900.png\n"
     ]
    },
    {
     "name": "stderr",
     "output_type": "stream",
     "text": [
      "\r",
      "  3%|██                                                                        | 1960/69450 [26:46<19:37:59,  1.05s/it]"
     ]
    },
    {
     "name": "stdout",
     "output_type": "stream",
     "text": [
      "Warning: Could not download image boy\\1959 from https://safebooru.org/thumbnails/970/thumbnail_9daa9bda075ff00b7f9201d8231c911b3a9ff860.png\n"
     ]
    },
    {
     "name": "stderr",
     "output_type": "stream",
     "text": [
      "\r",
      "  3%|██                                                                        | 1961/69450 [26:47<19:46:21,  1.05s/it]"
     ]
    },
    {
     "name": "stdout",
     "output_type": "stream",
     "text": [
      "Warning: Could not download image boy\\1960 from https://safebooru.org/thumbnails/970/thumbnail_05b43e291775b4681c93a08c8784171b2e0125d1.png\n"
     ]
    },
    {
     "name": "stderr",
     "output_type": "stream",
     "text": [
      "\r",
      "  3%|██                                                                        | 1962/69450 [26:48<19:36:34,  1.05s/it]"
     ]
    },
    {
     "name": "stdout",
     "output_type": "stream",
     "text": [
      "Warning: Could not download image boy\\1961 from https://safebooru.org/thumbnails/970/thumbnail_25cbcf0f5b19e93b4cacd63cb1a2ce4667f60d66.png\n"
     ]
    },
    {
     "name": "stderr",
     "output_type": "stream",
     "text": [
      "\r",
      "  3%|██                                                                        | 1963/69450 [26:49<19:30:04,  1.04s/it]"
     ]
    },
    {
     "name": "stdout",
     "output_type": "stream",
     "text": [
      "Warning: Could not download image boy\\1962 from https://safebooru.org/thumbnails/970/thumbnail_c605023a5ae014e553619721bf03bcd2f70d6d51.png\n"
     ]
    },
    {
     "name": "stderr",
     "output_type": "stream",
     "text": [
      "\r",
      "  3%|██                                                                        | 1964/69450 [26:50<20:48:57,  1.11s/it]"
     ]
    },
    {
     "name": "stdout",
     "output_type": "stream",
     "text": [
      "Warning: Could not download image boy\\1963 from https://safebooru.org/thumbnails/970/thumbnail_b4ba94e36f3f2756262a5794945c03b0f9ba504a.png\n"
     ]
    },
    {
     "name": "stderr",
     "output_type": "stream",
     "text": [
      "  3%|██                                                                        | 1967/69450 [26:52<17:17:49,  1.08it/s]"
     ]
    },
    {
     "name": "stdout",
     "output_type": "stream",
     "text": [
      "Warning: Could not download image boy\\1966 from https://safebooru.org/thumbnails/970/thumbnail_36ae157993e2faae13e73051f0e6590d096c4c9e.png\n"
     ]
    },
    {
     "name": "stderr",
     "output_type": "stream",
     "text": [
      "  3%|██                                                                        | 1971/69450 [26:57<19:01:44,  1.02s/it]"
     ]
    },
    {
     "name": "stdout",
     "output_type": "stream",
     "text": [
      "Warning: Could not download image boy\\1970 from https://safebooru.org/thumbnails/970/thumbnail_74c2efab057a8df37261a4be7436c15774cb170d.png\n"
     ]
    },
    {
     "name": "stderr",
     "output_type": "stream",
     "text": [
      "\r",
      "  3%|██                                                                        | 1972/69450 [26:58<19:14:14,  1.03s/it]"
     ]
    },
    {
     "name": "stdout",
     "output_type": "stream",
     "text": [
      "Warning: Could not download image boy\\1971 from https://safebooru.org/thumbnails/970/thumbnail_44552c3ffb5a9c2981eb7d448090891763ce02ac.png\n"
     ]
    },
    {
     "name": "stderr",
     "output_type": "stream",
     "text": [
      "  3%|██                                                                        | 1975/69450 [27:01<19:32:11,  1.04s/it]"
     ]
    },
    {
     "name": "stdout",
     "output_type": "stream",
     "text": [
      "Warning: Could not download image boy\\1974 from https://safebooru.org/thumbnails/970/thumbnail_aea7d1fe365ae942d8fd54964383371a9165be68.png\n"
     ]
    },
    {
     "name": "stderr",
     "output_type": "stream",
     "text": [
      "\r",
      "  3%|██                                                                        | 1976/69450 [27:02<19:40:07,  1.05s/it]"
     ]
    },
    {
     "name": "stdout",
     "output_type": "stream",
     "text": [
      "Warning: Could not download image boy\\1975 from https://safebooru.org/thumbnails/970/thumbnail_e54a7d6f94ac2881bed55e177ef6be4684ca3dfb.png\n"
     ]
    },
    {
     "name": "stderr",
     "output_type": "stream",
     "text": [
      "\r",
      "  3%|██                                                                        | 1977/69450 [27:03<19:36:59,  1.05s/it]"
     ]
    },
    {
     "name": "stdout",
     "output_type": "stream",
     "text": [
      "Warning: Could not download image boy\\1976 from https://safebooru.org/thumbnails/970/thumbnail_147a87a6ea623f009030c80b4a73398eccc29554.png\n"
     ]
    },
    {
     "name": "stderr",
     "output_type": "stream",
     "text": [
      "\r",
      "  3%|██                                                                        | 1978/69450 [27:04<19:31:15,  1.04s/it]"
     ]
    },
    {
     "name": "stdout",
     "output_type": "stream",
     "text": [
      "Warning: Could not download image boy\\1977 from https://safebooru.org/thumbnails/970/thumbnail_bb579501011d4e74d69618d80c712f6157c911a0.png\n"
     ]
    },
    {
     "name": "stderr",
     "output_type": "stream",
     "text": [
      "  3%|██▏                                                                       | 1996/69450 [27:23<20:16:36,  1.08s/it]"
     ]
    },
    {
     "name": "stdout",
     "output_type": "stream",
     "text": [
      "Warning: Could not download image boy\\1995 from https://safebooru.org/thumbnails/970/thumbnail_a83de9f625538d23b3a626ea4e608742178b654b.png\n"
     ]
    },
    {
     "name": "stderr",
     "output_type": "stream",
     "text": [
      "  3%|██▏                                                                       | 2000/69450 [27:27<19:47:37,  1.06s/it]"
     ]
    },
    {
     "name": "stdout",
     "output_type": "stream",
     "text": [
      "Warning: Could not download image boy\\1999 from https://safebooru.org/thumbnails/971/thumbnail_8057580e220ec98a5630d9ad8ff8c971e64b472d.png\n"
     ]
    },
    {
     "name": "stderr",
     "output_type": "stream",
     "text": [
      "\r",
      "  3%|██▏                                                                       | 2001/69450 [27:28<19:41:58,  1.05s/it]"
     ]
    },
    {
     "name": "stdout",
     "output_type": "stream",
     "text": [
      "Warning: Could not download image boy\\2000 from https://safebooru.org/thumbnails/971/thumbnail_43f10e7f2a56a73939af5e42613ca021d3cd8709.png\n"
     ]
    },
    {
     "name": "stderr",
     "output_type": "stream",
     "text": [
      "  3%|██▏                                                                       | 2004/69450 [27:32<19:39:05,  1.05s/it]"
     ]
    },
    {
     "name": "stdout",
     "output_type": "stream",
     "text": [
      "Warning: Could not download image boy\\2003 from https://safebooru.org/thumbnails/971/thumbnail_a76201c74fe1e3518e427249eb858b8a45622b0f.png\n"
     ]
    },
    {
     "name": "stderr",
     "output_type": "stream",
     "text": [
      "  3%|██▏                                                                       | 2015/69450 [27:43<19:37:22,  1.05s/it]"
     ]
    },
    {
     "name": "stdout",
     "output_type": "stream",
     "text": [
      "Warning: Could not download image boy\\2014 from https://safebooru.org/thumbnails/971/thumbnail_cf04999f0a3a1f2995de6ac439c27827fb9b89ce.png\n"
     ]
    },
    {
     "name": "stderr",
     "output_type": "stream",
     "text": [
      "  3%|██▏                                                                       | 2023/69450 [27:52<21:08:14,  1.13s/it]"
     ]
    },
    {
     "name": "stdout",
     "output_type": "stream",
     "text": [
      "Warning: Could not download image boy\\2022 from https://safebooru.org/thumbnails/971/thumbnail_47c13900b03b6b2ea5dd555bd64ea48b65db20e4.png\n"
     ]
    },
    {
     "name": "stderr",
     "output_type": "stream",
     "text": [
      "\r",
      "  3%|██▏                                                                       | 2024/69450 [27:53<20:38:16,  1.10s/it]"
     ]
    },
    {
     "name": "stdout",
     "output_type": "stream",
     "text": [
      "Warning: Could not download image boy\\2023 from https://safebooru.org/thumbnails/971/thumbnail_67c3e059b4c428233032fa1e6be1c645cae40f69.png\n"
     ]
    },
    {
     "name": "stderr",
     "output_type": "stream",
     "text": [
      "  3%|██▏                                                                       | 2031/69450 [28:00<20:09:04,  1.08s/it]"
     ]
    },
    {
     "name": "stdout",
     "output_type": "stream",
     "text": [
      "Warning: Could not download image boy\\2030 from https://safebooru.org/thumbnails/971/thumbnail_3d075a81a47ee748a14d154771d30e1d55485f02.png\n"
     ]
    },
    {
     "name": "stderr",
     "output_type": "stream",
     "text": [
      "  3%|██▏                                                                       | 2034/69450 [28:03<20:00:22,  1.07s/it]"
     ]
    },
    {
     "name": "stdout",
     "output_type": "stream",
     "text": [
      "Warning: Could not download image boy\\2033 from https://safebooru.org/thumbnails/971/thumbnail_31d6c54c5f25375649f0a568d14dcb031c6c8298.png\n"
     ]
    },
    {
     "name": "stderr",
     "output_type": "stream",
     "text": [
      "  3%|██▏                                                                       | 2039/69450 [28:09<20:42:16,  1.11s/it]"
     ]
    },
    {
     "name": "stdout",
     "output_type": "stream",
     "text": [
      "Warning: Could not download image boy\\2038 from https://safebooru.org/thumbnails/971/thumbnail_ba146a3a9eb1625086e7014e09221438c7f551d1.png\n"
     ]
    },
    {
     "name": "stderr",
     "output_type": "stream",
     "text": [
      "  3%|██▏                                                                       | 2042/69450 [28:12<20:02:18,  1.07s/it]"
     ]
    },
    {
     "name": "stdout",
     "output_type": "stream",
     "text": [
      "Warning: Could not download image boy\\2041 from https://safebooru.org/thumbnails/972/thumbnail_59a53abb0ffe9f94258f22965aa45bdbdeb8ec59.png\n"
     ]
    },
    {
     "name": "stderr",
     "output_type": "stream",
     "text": [
      "\r",
      "  3%|██▏                                                                       | 2043/69450 [28:14<19:59:08,  1.07s/it]"
     ]
    },
    {
     "name": "stdout",
     "output_type": "stream",
     "text": [
      "Warning: Could not download image boy\\2042 from https://safebooru.org/thumbnails/972/thumbnail_5ade4d226f7671292d05ac3f711f91e14e6ca564.png\n"
     ]
    },
    {
     "name": "stderr",
     "output_type": "stream",
     "text": [
      "  3%|██▏                                                                       | 2045/69450 [28:16<19:46:52,  1.06s/it]"
     ]
    },
    {
     "name": "stdout",
     "output_type": "stream",
     "text": [
      "Warning: Could not download image boy\\2044 from https://safebooru.org/thumbnails/972/thumbnail_32435cc83e30763e3a9012153cf536a214ea720a.png\n"
     ]
    },
    {
     "name": "stderr",
     "output_type": "stream",
     "text": [
      "\r",
      "  3%|██▏                                                                       | 2046/69450 [28:17<19:49:39,  1.06s/it]"
     ]
    },
    {
     "name": "stdout",
     "output_type": "stream",
     "text": [
      "Warning: Could not download image boy\\2045 from https://safebooru.org/thumbnails/972/thumbnail_bee77c18ccd627712c66578d07136293dcf28780.png\n"
     ]
    },
    {
     "name": "stderr",
     "output_type": "stream",
     "text": [
      "  3%|██▏                                                                       | 2050/69450 [28:21<20:12:32,  1.08s/it]"
     ]
    },
    {
     "name": "stdout",
     "output_type": "stream",
     "text": [
      "Warning: Could not download image boy\\2049 from https://safebooru.org/thumbnails/972/thumbnail_4b9bc7201aa2e7b0f190596f85d94f2968a9b3e1.png\n"
     ]
    },
    {
     "name": "stderr",
     "output_type": "stream",
     "text": [
      "\r",
      "  3%|██▏                                                                       | 2051/69450 [28:22<20:08:24,  1.08s/it]"
     ]
    },
    {
     "name": "stdout",
     "output_type": "stream",
     "text": [
      "Warning: Could not download image boy\\2050 from https://safebooru.org/thumbnails/972/thumbnail_74c42dc70d4fcf39dfdf12c2b834534fe2f78d7d.png\n"
     ]
    },
    {
     "name": "stderr",
     "output_type": "stream",
     "text": [
      "  3%|██▏                                                                       | 2053/69450 [28:24<19:52:54,  1.06s/it]"
     ]
    },
    {
     "name": "stdout",
     "output_type": "stream",
     "text": [
      "Warning: Could not download image boy\\2052 from https://safebooru.org/thumbnails/972/thumbnail_2a0f5a50a2c1664f5019e481ac9fba1cc85680d2.png\n"
     ]
    },
    {
     "name": "stderr",
     "output_type": "stream",
     "text": [
      "  3%|██▏                                                                       | 2055/69450 [28:26<19:53:23,  1.06s/it]"
     ]
    },
    {
     "name": "stdout",
     "output_type": "stream",
     "text": [
      "Warning: Could not download image boy\\2054 from https://safebooru.org/thumbnails/972/thumbnail_568853c3eb1cf3768ccc23427f8dd75e8b697590.png\n"
     ]
    },
    {
     "name": "stderr",
     "output_type": "stream",
     "text": [
      "\r",
      "  3%|██▏                                                                       | 2056/69450 [28:27<19:54:31,  1.06s/it]"
     ]
    },
    {
     "name": "stdout",
     "output_type": "stream",
     "text": [
      "Warning: Could not download image boy\\2055 from https://safebooru.org/thumbnails/972/thumbnail_34b4d381cc7fa7f5a8e138ad232581d93a9c5366.png\n"
     ]
    },
    {
     "name": "stderr",
     "output_type": "stream",
     "text": [
      "\r",
      "  3%|██▏                                                                       | 2057/69450 [28:28<20:08:58,  1.08s/it]"
     ]
    },
    {
     "name": "stdout",
     "output_type": "stream",
     "text": [
      "Warning: Could not download image boy\\2056 from https://safebooru.org/thumbnails/972/thumbnail_e71be986ffbc321d0600d5fa4fc895916a6938c4.png\n"
     ]
    },
    {
     "name": "stderr",
     "output_type": "stream",
     "text": [
      "\r",
      "  3%|██▏                                                                       | 2058/69450 [28:30<20:08:55,  1.08s/it]"
     ]
    },
    {
     "name": "stdout",
     "output_type": "stream",
     "text": [
      "Warning: Could not download image boy\\2057 from https://safebooru.org/thumbnails/972/thumbnail_ba173676b373639de9f3a9e2f7b315b918ceb6fe.png\n"
     ]
    },
    {
     "name": "stderr",
     "output_type": "stream",
     "text": [
      "  3%|██▏                                                                       | 2061/69450 [28:33<19:48:16,  1.06s/it]"
     ]
    },
    {
     "name": "stdout",
     "output_type": "stream",
     "text": [
      "Warning: Could not download image boy\\2060 from https://safebooru.org/thumbnails/972/thumbnail_f3b1205f4f5abe921ecc05d60b7c10778745f4f6.png\n"
     ]
    },
    {
     "name": "stderr",
     "output_type": "stream",
     "text": [
      "\r",
      "  3%|██▏                                                                       | 2062/69450 [28:34<19:41:46,  1.05s/it]"
     ]
    },
    {
     "name": "stdout",
     "output_type": "stream",
     "text": [
      "Warning: Could not download image boy\\2061 from https://safebooru.org/thumbnails/972/thumbnail_59645242eea843b69110233f9cca02fb6e43ed26.png\n"
     ]
    },
    {
     "name": "stderr",
     "output_type": "stream",
     "text": [
      "\r",
      "  3%|██▏                                                                       | 2063/69450 [28:35<19:45:38,  1.06s/it]"
     ]
    },
    {
     "name": "stdout",
     "output_type": "stream",
     "text": [
      "Warning: Could not download image boy\\2062 from https://safebooru.org/thumbnails/972/thumbnail_f775c5d331ea6ee74454ca1af62bff0448b93ba1.png\n"
     ]
    },
    {
     "name": "stderr",
     "output_type": "stream",
     "text": [
      "\r",
      "  3%|██▏                                                                       | 2064/69450 [28:36<19:45:16,  1.06s/it]"
     ]
    },
    {
     "name": "stdout",
     "output_type": "stream",
     "text": [
      "Warning: Could not download image boy\\2063 from https://safebooru.org/thumbnails/972/thumbnail_1077276bf6eff7ad3db1066f6c98f86426c7eef3.png\n"
     ]
    },
    {
     "name": "stderr",
     "output_type": "stream",
     "text": [
      "\r",
      "  3%|██▏                                                                       | 2065/69450 [28:37<19:34:19,  1.05s/it]"
     ]
    },
    {
     "name": "stdout",
     "output_type": "stream",
     "text": [
      "Warning: Could not download image boy\\2064 from https://safebooru.org/thumbnails/972/thumbnail_c351c72d59526f5a03a608c9f2abe59a2a919467.png\n"
     ]
    },
    {
     "name": "stderr",
     "output_type": "stream",
     "text": [
      "  3%|██▏                                                                       | 2067/69450 [28:39<19:32:14,  1.04s/it]"
     ]
    },
    {
     "name": "stdout",
     "output_type": "stream",
     "text": [
      "Warning: Could not download image boy\\2066 from https://safebooru.org/thumbnails/972/thumbnail_1957c06b5ce83b328f7aca84fb9d074da82378f2.png\n"
     ]
    },
    {
     "name": "stderr",
     "output_type": "stream",
     "text": [
      "  3%|██▏                                                                       | 2072/69450 [28:44<20:13:12,  1.08s/it]"
     ]
    },
    {
     "name": "stdout",
     "output_type": "stream",
     "text": [
      "Warning: Could not download image boy\\2071 from https://safebooru.org/thumbnails/973/thumbnail_758a5dd34a6314c145123f1eea712f8691d707a6.png\n"
     ]
    },
    {
     "name": "stderr",
     "output_type": "stream",
     "text": [
      "\r",
      "  3%|██▏                                                                       | 2073/69450 [28:46<21:22:15,  1.14s/it]"
     ]
    },
    {
     "name": "stdout",
     "output_type": "stream",
     "text": [
      "Warning: Could not download image boy\\2072 from https://safebooru.org/thumbnails/973/thumbnail_0d9c9b8e087e76392a10a2ed76499fb27f18d5be.png\n"
     ]
    },
    {
     "name": "stderr",
     "output_type": "stream",
     "text": [
      "\r",
      "  3%|██▏                                                                       | 2074/69450 [28:47<21:12:32,  1.13s/it]"
     ]
    },
    {
     "name": "stdout",
     "output_type": "stream",
     "text": [
      "Warning: Could not download image boy\\2073 from https://safebooru.org/thumbnails/973/thumbnail_aed8b338c1f9dfa3aa5d6941fbf3c09a8460e5ab.png\n"
     ]
    },
    {
     "name": "stderr",
     "output_type": "stream",
     "text": [
      "  3%|██▏                                                                       | 2080/69450 [28:54<21:36:43,  1.15s/it]"
     ]
    },
    {
     "name": "stdout",
     "output_type": "stream",
     "text": [
      "Warning: Could not download image boy\\2079 from https://safebooru.org/thumbnails/973/thumbnail_a748a9af1f029eeae5640c10c759c7ea5d130dfd.png\n"
     ]
    },
    {
     "name": "stderr",
     "output_type": "stream",
     "text": [
      "  3%|██▏                                                                       | 2085/69450 [29:00<20:55:19,  1.12s/it]"
     ]
    },
    {
     "name": "stdout",
     "output_type": "stream",
     "text": [
      "Warning: Could not download image boy\\2084 from https://safebooru.org/thumbnails/973/thumbnail_95f64ceac53f46cd80ee12fd5991fde9eb1e9bf2.png\n"
     ]
    },
    {
     "name": "stderr",
     "output_type": "stream",
     "text": [
      "\r",
      "  3%|██▏                                                                       | 2086/69450 [29:01<20:30:49,  1.10s/it]"
     ]
    },
    {
     "name": "stdout",
     "output_type": "stream",
     "text": [
      "Warning: Could not download image boy\\2085 from https://safebooru.org/thumbnails/973/thumbnail_1052d6729c6a6ea55cec5fa50301006256e0a73e.png\n"
     ]
    },
    {
     "name": "stderr",
     "output_type": "stream",
     "text": [
      "\r",
      "  3%|██▏                                                                       | 2087/69450 [29:02<20:22:37,  1.09s/it]"
     ]
    },
    {
     "name": "stdout",
     "output_type": "stream",
     "text": [
      "Warning: Could not download image boy\\2086 from https://safebooru.org/thumbnails/973/thumbnail_bde1b098537a85c095cbff6d9376f92b968b126f.png\n"
     ]
    },
    {
     "name": "stderr",
     "output_type": "stream",
     "text": [
      "\r",
      "  3%|██▏                                                                       | 2088/69450 [29:03<20:30:08,  1.10s/it]"
     ]
    },
    {
     "name": "stdout",
     "output_type": "stream",
     "text": [
      "Warning: Could not download image boy\\2087 from https://safebooru.org/thumbnails/973/thumbnail_191485ea574350d77ccf932d1a879f78be518573.png\n"
     ]
    },
    {
     "name": "stderr",
     "output_type": "stream",
     "text": [
      "  3%|██▏                                                                       | 2091/69450 [29:07<22:10:44,  1.19s/it]"
     ]
    },
    {
     "name": "stdout",
     "output_type": "stream",
     "text": [
      "Warning: Could not download image boy\\2090 from https://safebooru.org/thumbnails/973/thumbnail_00cf2abb892fda51e53e2137c8ed26c77ea44576.png\n"
     ]
    },
    {
     "name": "stderr",
     "output_type": "stream",
     "text": [
      "  3%|██▏                                                                       | 2100/69450 [29:17<20:42:41,  1.11s/it]"
     ]
    },
    {
     "name": "stdout",
     "output_type": "stream",
     "text": [
      "Warning: Could not download image boy\\2099 from https://safebooru.org/thumbnails/973/thumbnail_339a366cd652aa0286c212766162d38ab26a0e92.png\n"
     ]
    },
    {
     "name": "stderr",
     "output_type": "stream",
     "text": [
      "  3%|██▏                                                                       | 2105/69450 [29:22<20:03:05,  1.07s/it]"
     ]
    },
    {
     "name": "stdout",
     "output_type": "stream",
     "text": [
      "Warning: Could not download image boy\\2104 from https://safebooru.org/thumbnails/974/thumbnail_96f2f92a4708b1b97ff701f1cc39ac862f5125ec.png\n"
     ]
    },
    {
     "name": "stderr",
     "output_type": "stream",
     "text": [
      "  3%|██▎                                                                       | 2114/69450 [29:32<20:19:58,  1.09s/it]"
     ]
    },
    {
     "name": "stdout",
     "output_type": "stream",
     "text": [
      "Warning: Could not download image boy\\2113 from https://safebooru.org/thumbnails/974/thumbnail_93a437b468f6cc38d56c3c36ddce13a539e1a234.png\n"
     ]
    },
    {
     "name": "stderr",
     "output_type": "stream",
     "text": [
      "\r",
      "  3%|██▎                                                                       | 2115/69450 [29:33<20:15:30,  1.08s/it]"
     ]
    },
    {
     "name": "stdout",
     "output_type": "stream",
     "text": [
      "Warning: Could not download image boy\\2114 from https://safebooru.org/thumbnails/974/thumbnail_03b8dca967557376edcbb2f1d8dc300163fd4de3.png\n"
     ]
    },
    {
     "name": "stderr",
     "output_type": "stream",
     "text": [
      "\r",
      "  3%|██▎                                                                       | 2116/69450 [29:34<20:09:52,  1.08s/it]"
     ]
    },
    {
     "name": "stdout",
     "output_type": "stream",
     "text": [
      "Warning: Could not download image boy\\2115 from https://safebooru.org/thumbnails/974/thumbnail_600aa35db2c48d9796e3ba596db93adee6157334.png\n"
     ]
    },
    {
     "name": "stderr",
     "output_type": "stream",
     "text": [
      "  3%|██▎                                                                       | 2124/69450 [29:44<23:28:26,  1.26s/it]"
     ]
    },
    {
     "name": "stdout",
     "output_type": "stream",
     "text": [
      "Warning: Could not download image boy\\2123 from https://safebooru.org/thumbnails/974/thumbnail_304068335f3c06e1c12a40ebacbbe12a3a6c2069.png\n"
     ]
    },
    {
     "name": "stderr",
     "output_type": "stream",
     "text": [
      "\r",
      "  3%|██▎                                                                       | 2125/69450 [29:45<22:21:58,  1.20s/it]"
     ]
    },
    {
     "name": "stdout",
     "output_type": "stream",
     "text": [
      "Warning: Could not download image boy\\2124 from https://safebooru.org/thumbnails/974/thumbnail_87c1bf7e701fe445c5f95a8418a11cf6e69833b7.png\n"
     ]
    },
    {
     "name": "stderr",
     "output_type": "stream",
     "text": [
      "  3%|██▎                                                                       | 2138/69450 [29:59<21:53:29,  1.17s/it]"
     ]
    },
    {
     "name": "stdout",
     "output_type": "stream",
     "text": [
      "Warning: Could not download image boy\\2137 from https://safebooru.org/thumbnails/974/thumbnail_7220ce9984a649be48de59bf525f36284b2107c3.png\n"
     ]
    },
    {
     "name": "stderr",
     "output_type": "stream",
     "text": [
      "  3%|██▎                                                                       | 2141/69450 [30:03<20:58:09,  1.12s/it]"
     ]
    },
    {
     "name": "stdout",
     "output_type": "stream",
     "text": [
      "Warning: Could not download image boy\\2140 from https://safebooru.org/thumbnails/974/thumbnail_10d86d36bd84ee10cb4025fc89273b06b3ea3b39.png\n"
     ]
    },
    {
     "name": "stderr",
     "output_type": "stream",
     "text": [
      "  3%|██▎                                                                       | 2149/69450 [30:11<20:06:22,  1.08s/it]"
     ]
    },
    {
     "name": "stdout",
     "output_type": "stream",
     "text": [
      "Warning: Could not download image boy\\2148 from https://safebooru.org/thumbnails/975/thumbnail_a106e31f9d5f226e158f79b7e1bcda11583b32bb.png\n"
     ]
    },
    {
     "name": "stderr",
     "output_type": "stream",
     "text": [
      "  3%|██▎                                                                       | 2152/69450 [30:15<19:51:02,  1.06s/it]"
     ]
    },
    {
     "name": "stdout",
     "output_type": "stream",
     "text": [
      "Warning: Could not download image boy\\2151 from https://safebooru.org/thumbnails/975/thumbnail_36a39dc2bbcb0e92560f8c3b5dd222549a979306.png\n"
     ]
    },
    {
     "name": "stderr",
     "output_type": "stream",
     "text": [
      "  3%|██▎                                                                       | 2155/69450 [30:18<20:00:31,  1.07s/it]"
     ]
    },
    {
     "name": "stdout",
     "output_type": "stream",
     "text": [
      "Warning: Could not download image boy\\2154 from https://safebooru.org/thumbnails/975/thumbnail_ab259d42b3b138927a3bf3b919589f185a6c5d45.png\n"
     ]
    },
    {
     "name": "stderr",
     "output_type": "stream",
     "text": [
      "  3%|██▎                                                                       | 2159/69450 [30:22<21:33:01,  1.15s/it]"
     ]
    },
    {
     "name": "stdout",
     "output_type": "stream",
     "text": [
      "Warning: Could not download image boy\\2158 from https://safebooru.org/thumbnails/975/thumbnail_f33a07339c9df748b342e34ccb9c7cf2f16eb2d8.png\n"
     ]
    },
    {
     "name": "stderr",
     "output_type": "stream",
     "text": [
      "  3%|██▎                                                                       | 2165/69450 [30:29<20:06:48,  1.08s/it]"
     ]
    },
    {
     "name": "stdout",
     "output_type": "stream",
     "text": [
      "Warning: Could not download image boy\\2164 from https://safebooru.org/thumbnails/975/thumbnail_0c67970ea8d6ff38360aec2809a136ba0b01770e.png\n"
     ]
    },
    {
     "name": "stderr",
     "output_type": "stream",
     "text": [
      "\r",
      "  3%|██▎                                                                       | 2166/69450 [30:30<20:00:48,  1.07s/it]"
     ]
    },
    {
     "name": "stdout",
     "output_type": "stream",
     "text": [
      "Warning: Could not download image boy\\2165 from https://safebooru.org/thumbnails/975/thumbnail_6d34c5fc95a535c0fd9597b902b595444e3e4756.png\n"
     ]
    },
    {
     "name": "stderr",
     "output_type": "stream",
     "text": [
      "\r",
      "  3%|██▎                                                                       | 2167/69450 [30:31<20:00:21,  1.07s/it]"
     ]
    },
    {
     "name": "stdout",
     "output_type": "stream",
     "text": [
      "Warning: Could not download image boy\\2166 from https://safebooru.org/thumbnails/975/thumbnail_323ef412e8379170ad78e6e0fa6f6c36423a0ae8.png\n"
     ]
    },
    {
     "name": "stderr",
     "output_type": "stream",
     "text": [
      "  3%|██▎                                                                       | 2175/69450 [30:39<19:56:57,  1.07s/it]"
     ]
    },
    {
     "name": "stdout",
     "output_type": "stream",
     "text": [
      "Warning: Could not download image boy\\2174 from https://safebooru.org/thumbnails/976/thumbnail_6f18c4cd2c7f424eb76f086337859025ad9165b8.png\n"
     ]
    },
    {
     "name": "stderr",
     "output_type": "stream",
     "text": [
      "  3%|██▎                                                                       | 2179/69450 [30:44<19:46:48,  1.06s/it]"
     ]
    },
    {
     "name": "stdout",
     "output_type": "stream",
     "text": [
      "Warning: Could not download image boy\\2178 from https://safebooru.org/thumbnails/976/thumbnail_9e164ea0656d9061876c4c2639331736eb6ca679.png\n"
     ]
    },
    {
     "name": "stderr",
     "output_type": "stream",
     "text": [
      "  3%|██▎                                                                       | 2188/69450 [30:53<19:50:18,  1.06s/it]"
     ]
    },
    {
     "name": "stdout",
     "output_type": "stream",
     "text": [
      "Warning: Could not download image boy\\2187 from https://safebooru.org/thumbnails/976/thumbnail_9ec9be5a7e52f5b5cfa861e290b1dded6534770c.png\n"
     ]
    },
    {
     "name": "stderr",
     "output_type": "stream",
     "text": [
      "\r",
      "  3%|██▎                                                                       | 2189/69450 [30:54<19:52:28,  1.06s/it]"
     ]
    },
    {
     "name": "stdout",
     "output_type": "stream",
     "text": [
      "Warning: Could not download image boy\\2188 from https://safebooru.org/thumbnails/976/thumbnail_ff0c8524c42bf98f17b5407a3930d653d15c13ab.png\n"
     ]
    },
    {
     "name": "stderr",
     "output_type": "stream",
     "text": [
      "\r",
      "  3%|██▎                                                                       | 2190/69450 [30:55<20:01:42,  1.07s/it]"
     ]
    },
    {
     "name": "stdout",
     "output_type": "stream",
     "text": [
      "Warning: Could not download image boy\\2189 from https://safebooru.org/thumbnails/976/thumbnail_18c154cd984e846090df2b397cf2c3f681508a54.png\n"
     ]
    },
    {
     "name": "stderr",
     "output_type": "stream",
     "text": [
      "\r",
      "  3%|██▎                                                                       | 2191/69450 [30:56<20:00:47,  1.07s/it]"
     ]
    },
    {
     "name": "stdout",
     "output_type": "stream",
     "text": [
      "Warning: Could not download image boy\\2190 from https://safebooru.org/thumbnails/976/thumbnail_5cf045fdf2b47008d5ab1ae0be76bc77157f3cfb.png\n"
     ]
    },
    {
     "name": "stderr",
     "output_type": "stream",
     "text": [
      "  3%|██▎                                                                       | 2195/69450 [31:01<19:45:34,  1.06s/it]"
     ]
    },
    {
     "name": "stdout",
     "output_type": "stream",
     "text": [
      "Warning: Could not download image boy\\2194 from https://safebooru.org/thumbnails/976/thumbnail_67902d6b2dbfcbed2c5862688c83d41328c29255.png\n"
     ]
    },
    {
     "name": "stderr",
     "output_type": "stream",
     "text": [
      "\r",
      "  3%|██▎                                                                       | 2196/69450 [31:02<19:49:18,  1.06s/it]"
     ]
    },
    {
     "name": "stdout",
     "output_type": "stream",
     "text": [
      "Warning: Could not download image boy\\2195 from https://safebooru.org/thumbnails/976/thumbnail_6e4ebfc638fdd96751bfbfcfca59d79af5adc53a.png\n"
     ]
    },
    {
     "name": "stderr",
     "output_type": "stream",
     "text": [
      "\r",
      "  3%|██▎                                                                       | 2197/69450 [31:03<19:53:39,  1.06s/it]"
     ]
    },
    {
     "name": "stdout",
     "output_type": "stream",
     "text": [
      "Warning: Could not download image boy\\2196 from https://safebooru.org/thumbnails/976/thumbnail_e2967be2f23d307424bd2fc73b828a17b55d5f98.png\n"
     ]
    },
    {
     "name": "stderr",
     "output_type": "stream",
     "text": [
      "\r",
      "  3%|██▎                                                                       | 2198/69450 [31:04<19:45:40,  1.06s/it]"
     ]
    },
    {
     "name": "stdout",
     "output_type": "stream",
     "text": [
      "Warning: Could not download image boy\\2197 from https://safebooru.org/thumbnails/976/thumbnail_ceba6b7f26c0796402ca6189831679689cabff63.png\n"
     ]
    },
    {
     "name": "stderr",
     "output_type": "stream",
     "text": [
      "\r",
      "  3%|██▎                                                                       | 2199/69450 [31:05<21:01:50,  1.13s/it]"
     ]
    },
    {
     "name": "stdout",
     "output_type": "stream",
     "text": [
      "Warning: Could not download image boy\\2198 from https://safebooru.org/thumbnails/976/thumbnail_8ac5e6372b74609430f35fb7b35736d29038e340.png\n"
     ]
    },
    {
     "name": "stderr",
     "output_type": "stream",
     "text": [
      "\r",
      "  3%|██▎                                                                       | 2200/69450 [31:06<21:52:31,  1.17s/it]"
     ]
    },
    {
     "name": "stdout",
     "output_type": "stream",
     "text": [
      "Warning: Could not download image boy\\2199 from https://safebooru.org/thumbnails/976/thumbnail_70a9cf894eec1196e0fad167d5c7b42b4953acaf.png\n"
     ]
    },
    {
     "name": "stderr",
     "output_type": "stream",
     "text": [
      "  3%|██▎                                                                       | 2204/69450 [31:11<20:09:50,  1.08s/it]"
     ]
    },
    {
     "name": "stdout",
     "output_type": "stream",
     "text": [
      "Warning: Could not download image boy\\2203 from https://safebooru.org/thumbnails/977/thumbnail_ab606403cced792bb963b05baf6857d82776de45.png\n"
     ]
    },
    {
     "name": "stderr",
     "output_type": "stream",
     "text": [
      "  3%|██▎                                                                       | 2207/69450 [31:14<19:52:30,  1.06s/it]"
     ]
    },
    {
     "name": "stdout",
     "output_type": "stream",
     "text": [
      "Warning: Could not download image boy\\2206 from https://safebooru.org/thumbnails/977/thumbnail_c2c7f8cac0b17649a81e2eac6e516b1babddb6a4.png\n"
     ]
    },
    {
     "name": "stderr",
     "output_type": "stream",
     "text": [
      "  3%|██▎                                                                       | 2209/69450 [31:16<19:45:49,  1.06s/it]"
     ]
    },
    {
     "name": "stdout",
     "output_type": "stream",
     "text": [
      "Warning: Could not download image boy\\2208 from https://safebooru.org/thumbnails/977/thumbnail_cdfa468db260464b9bd3f28769ee45b09b5bb45d.png\n"
     ]
    },
    {
     "name": "stderr",
     "output_type": "stream",
     "text": [
      "  3%|██▎                                                                       | 2215/69450 [31:22<19:46:50,  1.06s/it]"
     ]
    },
    {
     "name": "stdout",
     "output_type": "stream",
     "text": [
      "Warning: Could not download image boy\\2214 from https://safebooru.org/thumbnails/977/thumbnail_8d96fbeff76d9955f22e76060c0f3d938d39bb46.png\n"
     ]
    },
    {
     "name": "stderr",
     "output_type": "stream",
     "text": [
      "\r",
      "  3%|██▎                                                                       | 2216/69450 [31:23<19:42:10,  1.05s/it]"
     ]
    },
    {
     "name": "stdout",
     "output_type": "stream",
     "text": [
      "Warning: Could not download image boy\\2215 from https://safebooru.org/thumbnails/977/thumbnail_a323ed2affb6d4f9c7af6aa7a2ae819e56bd442e.png\n"
     ]
    },
    {
     "name": "stderr",
     "output_type": "stream",
     "text": [
      "  3%|██▎                                                                       | 2222/69450 [31:30<19:50:23,  1.06s/it]"
     ]
    },
    {
     "name": "stdout",
     "output_type": "stream",
     "text": [
      "Warning: Could not download image boy\\2221 from https://safebooru.org/thumbnails/977/thumbnail_293599ef8a058209635b5b558d62c28d4a0fa5fe.png\n"
     ]
    },
    {
     "name": "stderr",
     "output_type": "stream",
     "text": [
      "\r",
      "  3%|██▎                                                                       | 2223/69450 [31:31<19:52:00,  1.06s/it]"
     ]
    },
    {
     "name": "stdout",
     "output_type": "stream",
     "text": [
      "Warning: Could not download image boy\\2222 from https://safebooru.org/thumbnails/977/thumbnail_c29da37adb65bc6d3c8cf6bc1a8a133aeb9491c4.png\n"
     ]
    },
    {
     "name": "stderr",
     "output_type": "stream",
     "text": [
      "  3%|██▎                                                                       | 2227/69450 [31:35<19:59:02,  1.07s/it]"
     ]
    },
    {
     "name": "stdout",
     "output_type": "stream",
     "text": [
      "Warning: Could not download image boy\\2226 from https://safebooru.org/thumbnails/977/thumbnail_e7fee7784082420006fcbd9bff1113352106d052.png\n"
     ]
    },
    {
     "name": "stderr",
     "output_type": "stream",
     "text": [
      "  3%|██▍                                                                       | 2238/69450 [31:46<19:32:47,  1.05s/it]"
     ]
    },
    {
     "name": "stdout",
     "output_type": "stream",
     "text": [
      "Warning: Could not download image boy\\2237 from https://safebooru.org/thumbnails/977/thumbnail_3418033cbb312661abfb04a89672ad55d6feb9eb.png\n"
     ]
    },
    {
     "name": "stderr",
     "output_type": "stream",
     "text": [
      "\r",
      "  3%|██▍                                                                       | 2239/69450 [31:47<19:28:34,  1.04s/it]"
     ]
    },
    {
     "name": "stdout",
     "output_type": "stream",
     "text": [
      "Warning: Could not download image boy\\2238 from https://safebooru.org/thumbnails/977/thumbnail_42646abd5b0fe0a3833e6b0a914dd901b0fcc534.png\n"
     ]
    },
    {
     "name": "stderr",
     "output_type": "stream",
     "text": [
      "\r",
      "  3%|██▍                                                                       | 2240/69450 [31:48<19:43:55,  1.06s/it]"
     ]
    },
    {
     "name": "stdout",
     "output_type": "stream",
     "text": [
      "Warning: Could not download image boy\\2239 from https://safebooru.org/thumbnails/977/thumbnail_935ca000457ce345e4113cfa508e9817b3cdf9b7.png\n"
     ]
    },
    {
     "name": "stderr",
     "output_type": "stream",
     "text": [
      "  3%|██▍                                                                       | 2242/69450 [31:51<20:43:53,  1.11s/it]"
     ]
    },
    {
     "name": "stdout",
     "output_type": "stream",
     "text": [
      "Warning: Could not download image boy\\2241 from https://safebooru.org/thumbnails/977/thumbnail_f3d355239709bbc891dbbe07236109be9c877869.png\n"
     ]
    },
    {
     "name": "stderr",
     "output_type": "stream",
     "text": [
      "  3%|██▍                                                                       | 2250/69450 [31:59<19:47:21,  1.06s/it]"
     ]
    },
    {
     "name": "stdout",
     "output_type": "stream",
     "text": [
      "Warning: Could not download image boy\\2249 from https://safebooru.org/thumbnails/978/thumbnail_7823a1e6f1dfbb33bc71b911431144f15437adba.png\n"
     ]
    },
    {
     "name": "stderr",
     "output_type": "stream",
     "text": [
      "  3%|██▍                                                                       | 2271/69450 [32:21<19:28:17,  1.04s/it]"
     ]
    },
    {
     "name": "stdout",
     "output_type": "stream",
     "text": [
      "Warning: Could not download image boy\\2270 from https://safebooru.org/thumbnails/978/thumbnail_2d778be8e5d237216b1c8f057c807b5419f41cc9.png\n"
     ]
    },
    {
     "name": "stderr",
     "output_type": "stream",
     "text": [
      "  3%|██▍                                                                       | 2277/69450 [32:27<18:29:28,  1.01it/s]"
     ]
    },
    {
     "name": "stdout",
     "output_type": "stream",
     "text": [
      "Warning: Could not download image boy\\2276 from https://safebooru.org/thumbnails/979/thumbnail_97d9285f06baf4d73d344c67a0c872242e6aae18.png\n"
     ]
    },
    {
     "name": "stderr",
     "output_type": "stream",
     "text": [
      "  3%|██▍                                                                       | 2281/69450 [32:32<20:11:00,  1.08s/it]"
     ]
    },
    {
     "name": "stdout",
     "output_type": "stream",
     "text": [
      "Warning: Could not download image boy\\2280 from https://safebooru.org/thumbnails/979/thumbnail_ba29d1db627c378812a1991a441d87d0260000c2.png\n"
     ]
    },
    {
     "name": "stderr",
     "output_type": "stream",
     "text": [
      "\r",
      "  3%|██▍                                                                       | 2282/69450 [32:33<20:05:03,  1.08s/it]"
     ]
    },
    {
     "name": "stdout",
     "output_type": "stream",
     "text": [
      "Warning: Could not download image boy\\2281 from https://safebooru.org/thumbnails/979/thumbnail_4f282c6dd905a5939bb13396688b402e4ba3ec24.png\n"
     ]
    },
    {
     "name": "stderr",
     "output_type": "stream",
     "text": [
      "  3%|██▍                                                                       | 2284/69450 [32:35<20:00:06,  1.07s/it]"
     ]
    },
    {
     "name": "stdout",
     "output_type": "stream",
     "text": [
      "Warning: Could not download image boy\\2283 from https://safebooru.org/thumbnails/979/thumbnail_04c580a3ee4fba0a2335d7ec05b2196e105b8d35.png\n"
     ]
    },
    {
     "name": "stderr",
     "output_type": "stream",
     "text": [
      "  3%|██▍                                                                       | 2286/69450 [32:37<20:08:56,  1.08s/it]"
     ]
    },
    {
     "name": "stdout",
     "output_type": "stream",
     "text": [
      "Warning: Could not download image boy\\2285 from https://safebooru.org/thumbnails/979/thumbnail_1998e41e010d4740ab7dd218358186d25b7ad67a.png\n"
     ]
    },
    {
     "name": "stderr",
     "output_type": "stream",
     "text": [
      "\r",
      "  3%|██▍                                                                       | 2287/69450 [32:38<19:56:50,  1.07s/it]"
     ]
    },
    {
     "name": "stdout",
     "output_type": "stream",
     "text": [
      "Warning: Could not download image boy\\2286 from https://safebooru.org/thumbnails/979/thumbnail_c63ffd84f06eb1d2953b1ba562dd402a2d03ad36.png\n"
     ]
    },
    {
     "name": "stderr",
     "output_type": "stream",
     "text": [
      "  3%|██▍                                                                       | 2289/69450 [32:40<19:53:50,  1.07s/it]"
     ]
    },
    {
     "name": "stdout",
     "output_type": "stream",
     "text": [
      "Warning: Could not download image boy\\2288 from https://safebooru.org/thumbnails/979/thumbnail_f2d38a414dd82fd81d9700d66c057ece4f22efca.png\n"
     ]
    },
    {
     "name": "stderr",
     "output_type": "stream",
     "text": [
      "  3%|██▍                                                                       | 2297/69450 [32:49<19:51:51,  1.06s/it]"
     ]
    },
    {
     "name": "stdout",
     "output_type": "stream",
     "text": [
      "Warning: Could not download image boy\\2296 from https://safebooru.org/thumbnails/980/thumbnail_36e9b2726b812d789e42707795054607b079d330.png\n"
     ]
    },
    {
     "name": "stderr",
     "output_type": "stream",
     "text": [
      "  3%|██▍                                                                       | 2307/69450 [32:59<19:46:40,  1.06s/it]"
     ]
    },
    {
     "name": "stdout",
     "output_type": "stream",
     "text": [
      "Warning: Could not download image boy\\2306 from https://safebooru.org/thumbnails/980/thumbnail_2189ac93e130aa552a4933db35f73dddc9d2c246.png\n"
     ]
    },
    {
     "name": "stderr",
     "output_type": "stream",
     "text": [
      "\r",
      "  3%|██▍                                                                       | 2308/69450 [33:01<19:45:14,  1.06s/it]"
     ]
    },
    {
     "name": "stdout",
     "output_type": "stream",
     "text": [
      "Warning: Could not download image boy\\2307 from https://safebooru.org/thumbnails/980/thumbnail_f49c10312b58bcd59bd470ff8332112c8a0d82df.png\n"
     ]
    },
    {
     "name": "stderr",
     "output_type": "stream",
     "text": [
      "  3%|██▍                                                                       | 2327/69450 [33:21<19:39:24,  1.05s/it]"
     ]
    },
    {
     "name": "stdout",
     "output_type": "stream",
     "text": [
      "Warning: Could not download image boy\\2326 from https://safebooru.org/thumbnails/981/thumbnail_3acaece02442476491b0ae7c87cffc62882e5586.png\n"
     ]
    },
    {
     "name": "stderr",
     "output_type": "stream",
     "text": [
      "\r",
      "  3%|██▍                                                                       | 2328/69450 [33:22<19:34:54,  1.05s/it]"
     ]
    },
    {
     "name": "stdout",
     "output_type": "stream",
     "text": [
      "Warning: Could not download image boy\\2327 from https://safebooru.org/thumbnails/981/thumbnail_8b8ba66de45cb9d3282821579d271d652b197d55.png\n"
     ]
    },
    {
     "name": "stderr",
     "output_type": "stream",
     "text": [
      "\r",
      "  3%|██▍                                                                       | 2329/69450 [33:23<19:37:17,  1.05s/it]"
     ]
    },
    {
     "name": "stdout",
     "output_type": "stream",
     "text": [
      "Warning: Could not download image boy\\2328 from https://safebooru.org/thumbnails/981/thumbnail_69e26ba84bbdb268dd35d7d8db8e9cef06549a0e.gif\n"
     ]
    },
    {
     "name": "stderr",
     "output_type": "stream",
     "text": [
      "\r",
      "  3%|██▍                                                                       | 2330/69450 [33:24<19:37:57,  1.05s/it]"
     ]
    },
    {
     "name": "stdout",
     "output_type": "stream",
     "text": [
      "Warning: Could not download image boy\\2329 from https://safebooru.org/thumbnails/981/thumbnail_732a970973ee499908ca8ea5dcec0cbc63ea8c15.png\n"
     ]
    },
    {
     "name": "stderr",
     "output_type": "stream",
     "text": [
      "  3%|██▍                                                                       | 2332/69450 [33:26<19:35:18,  1.05s/it]"
     ]
    },
    {
     "name": "stdout",
     "output_type": "stream",
     "text": [
      "Warning: Could not download image boy\\2331 from https://safebooru.org/thumbnails/981/thumbnail_7a93d5fd7b652ca8ecb52d79a1cd06f7b2b90e2f.png\n"
     ]
    },
    {
     "name": "stderr",
     "output_type": "stream",
     "text": [
      "  3%|██▍                                                                       | 2334/69450 [33:28<19:38:21,  1.05s/it]"
     ]
    },
    {
     "name": "stdout",
     "output_type": "stream",
     "text": [
      "Warning: Could not download image boy\\2333 from https://safebooru.org/thumbnails/981/thumbnail_520f09d2d6a2d31592e01c98eade6d98a3d8c880.png\n"
     ]
    },
    {
     "name": "stderr",
     "output_type": "stream",
     "text": [
      "\r",
      "  3%|██▍                                                                       | 2335/69450 [33:29<19:36:49,  1.05s/it]"
     ]
    },
    {
     "name": "stdout",
     "output_type": "stream",
     "text": [
      "Warning: Could not download image boy\\2334 from https://safebooru.org/thumbnails/981/thumbnail_f05ab0bf21c00952ac117a365ec412f4555f78fd.png\n"
     ]
    },
    {
     "name": "stderr",
     "output_type": "stream",
     "text": [
      "  3%|██▍                                                                       | 2340/69450 [33:35<22:59:56,  1.23s/it]"
     ]
    },
    {
     "name": "stdout",
     "output_type": "stream",
     "text": [
      "Warning: Could not download image boy\\2339 from https://safebooru.org/thumbnails/981/thumbnail_71d25e76045c66fd1abf08954e9bd6c21d72c006.png\n"
     ]
    },
    {
     "name": "stderr",
     "output_type": "stream",
     "text": [
      "  3%|██▌                                                                       | 2349/69450 [33:45<19:38:42,  1.05s/it]"
     ]
    },
    {
     "name": "stdout",
     "output_type": "stream",
     "text": [
      "Warning: Could not download image boy\\2348 from https://safebooru.org/thumbnails/982/thumbnail_f73063352b4410dd8705eb1d76ccc7dcb410cfe7.png\n"
     ]
    },
    {
     "name": "stderr",
     "output_type": "stream",
     "text": [
      "\r",
      "  3%|██▌                                                                       | 2350/69450 [33:46<19:34:46,  1.05s/it]"
     ]
    },
    {
     "name": "stdout",
     "output_type": "stream",
     "text": [
      "Warning: Could not download image boy\\2349 from https://safebooru.org/thumbnails/982/thumbnail_b72cc0115d5ed869f6496695287abca56e8623e0.png\n"
     ]
    },
    {
     "name": "stderr",
     "output_type": "stream",
     "text": [
      "\r",
      "  3%|██▌                                                                       | 2351/69450 [33:47<19:32:53,  1.05s/it]"
     ]
    },
    {
     "name": "stdout",
     "output_type": "stream",
     "text": [
      "Warning: Could not download image boy\\2350 from https://safebooru.org/thumbnails/982/thumbnail_758a4132c1c751eb4b933a5c536add33.jpeg\n"
     ]
    },
    {
     "name": "stderr",
     "output_type": "stream",
     "text": [
      "  3%|██▌                                                                       | 2355/69450 [33:50<18:13:25,  1.02it/s]"
     ]
    },
    {
     "name": "stdout",
     "output_type": "stream",
     "text": [
      "Warning: Could not download image boy\\2354 from https://safebooru.org/thumbnails/982/thumbnail_01f5afa39f4c1df7a54634b9ab2bcfd68f375191.png\n"
     ]
    },
    {
     "name": "stderr",
     "output_type": "stream",
     "text": [
      "  3%|██▌                                                                       | 2358/69450 [33:53<19:05:23,  1.02s/it]"
     ]
    },
    {
     "name": "stdout",
     "output_type": "stream",
     "text": [
      "Warning: Could not download image boy\\2357 from https://safebooru.org/thumbnails/982/thumbnail_6f49efba3109bf39c35b14434bf815afd1d68404.png\n"
     ]
    },
    {
     "name": "stderr",
     "output_type": "stream",
     "text": [
      "  3%|██▌                                                                       | 2362/69450 [33:58<19:32:12,  1.05s/it]"
     ]
    },
    {
     "name": "stdout",
     "output_type": "stream",
     "text": [
      "Warning: Could not download image boy\\2361 from https://safebooru.org/thumbnails/982/thumbnail_dc15aa797e43cb01283ddac2ae6a511a847ba5ec.png\n"
     ]
    },
    {
     "name": "stderr",
     "output_type": "stream",
     "text": [
      "  3%|██▌                                                                       | 2373/69450 [34:09<19:27:54,  1.04s/it]"
     ]
    },
    {
     "name": "stdout",
     "output_type": "stream",
     "text": [
      "Warning: Could not download image boy\\2372 from https://safebooru.org/thumbnails/982/thumbnail_5453f35b4935e9c9ecc2a24cf839aabae0cd4d7b.png\n"
     ]
    },
    {
     "name": "stderr",
     "output_type": "stream",
     "text": [
      "  3%|██▌                                                                       | 2375/69450 [34:12<20:34:11,  1.10s/it]"
     ]
    },
    {
     "name": "stdout",
     "output_type": "stream",
     "text": [
      "Warning: Could not download image boy\\2374 from https://safebooru.org/thumbnails/982/thumbnail_6a1cb26dc8bdc8d9f8bfba2dfeace1050a160d35.png\n"
     ]
    },
    {
     "name": "stderr",
     "output_type": "stream",
     "text": [
      "\r",
      "  3%|██▌                                                                       | 2376/69450 [34:13<20:14:14,  1.09s/it]"
     ]
    },
    {
     "name": "stdout",
     "output_type": "stream",
     "text": [
      "Warning: Could not download image boy\\2375 from https://safebooru.org/thumbnails/982/thumbnail_523dc60374f5313d5ea23a84eb38dc76ba59934f.png\n"
     ]
    },
    {
     "name": "stderr",
     "output_type": "stream",
     "text": [
      "  3%|██▌                                                                       | 2381/69450 [34:17<18:20:38,  1.02it/s]"
     ]
    },
    {
     "name": "stdout",
     "output_type": "stream",
     "text": [
      "Warning: Could not download image boy\\2380 from https://safebooru.org/thumbnails/983/thumbnail_ffcf74502ec9287db781e2d268bc2c3e918c047d.png\n"
     ]
    },
    {
     "name": "stderr",
     "output_type": "stream",
     "text": [
      "\r",
      "  3%|██▌                                                                       | 2382/69450 [34:18<18:44:44,  1.01s/it]"
     ]
    },
    {
     "name": "stdout",
     "output_type": "stream",
     "text": [
      "Warning: Could not download image boy\\2381 from https://safebooru.org/thumbnails/983/thumbnail_6fe1d6262e5e3a52ff04ad6bf61e2a0a.jpeg\n"
     ]
    },
    {
     "name": "stderr",
     "output_type": "stream",
     "text": [
      "\r",
      "  3%|██▌                                                                       | 2383/69450 [34:19<19:10:46,  1.03s/it]"
     ]
    },
    {
     "name": "stdout",
     "output_type": "stream",
     "text": [
      "Warning: Could not download image boy\\2382 from https://safebooru.org/thumbnails/983/thumbnail_9da626c89b213fd7cfbb8f1308513e16.jpeg\n"
     ]
    },
    {
     "name": "stderr",
     "output_type": "stream",
     "text": [
      "\r",
      "  3%|██▌                                                                       | 2384/69450 [34:20<19:20:34,  1.04s/it]"
     ]
    },
    {
     "name": "stdout",
     "output_type": "stream",
     "text": [
      "Warning: Could not download image boy\\2383 from https://safebooru.org/thumbnails/983/thumbnail_f7af50a501685eee9b9e7054104cbb60.jpeg\n"
     ]
    },
    {
     "name": "stderr",
     "output_type": "stream",
     "text": [
      "\r",
      "  3%|██▌                                                                       | 2385/69450 [34:21<19:26:51,  1.04s/it]"
     ]
    },
    {
     "name": "stdout",
     "output_type": "stream",
     "text": [
      "Warning: Could not download image boy\\2384 from https://safebooru.org/thumbnails/983/thumbnail_9e9963c8badcf6903c5410ad587bb773.jpeg\n"
     ]
    },
    {
     "name": "stderr",
     "output_type": "stream",
     "text": [
      "\r",
      "  3%|██▌                                                                       | 2386/69450 [34:22<19:38:59,  1.05s/it]"
     ]
    },
    {
     "name": "stdout",
     "output_type": "stream",
     "text": [
      "Warning: Could not download image boy\\2385 from https://safebooru.org/thumbnails/983/thumbnail_fd6365f9c6a674251ddf23785a68718b.jpeg\n"
     ]
    },
    {
     "name": "stderr",
     "output_type": "stream",
     "text": [
      "\r",
      "  3%|██▌                                                                       | 2387/69450 [34:24<19:44:02,  1.06s/it]"
     ]
    },
    {
     "name": "stdout",
     "output_type": "stream",
     "text": [
      "Warning: Could not download image boy\\2386 from https://safebooru.org/thumbnails/983/thumbnail_8b8bbbc4fb1d6fe1816a9fbb1edb165d.jpeg\n"
     ]
    },
    {
     "name": "stderr",
     "output_type": "stream",
     "text": [
      "\r",
      "  3%|██▌                                                                       | 2388/69450 [34:25<19:44:19,  1.06s/it]"
     ]
    },
    {
     "name": "stdout",
     "output_type": "stream",
     "text": [
      "Warning: Could not download image boy\\2387 from https://safebooru.org/thumbnails/983/thumbnail_3d67de22bc5bd4783269933883ffbae8.jpeg\n"
     ]
    },
    {
     "name": "stderr",
     "output_type": "stream",
     "text": [
      "\r",
      "  3%|██▌                                                                       | 2389/69450 [34:26<19:46:12,  1.06s/it]"
     ]
    },
    {
     "name": "stdout",
     "output_type": "stream",
     "text": [
      "Warning: Could not download image boy\\2388 from https://safebooru.org/thumbnails/983/thumbnail_3f3a822f125f41e90d3613a39f33cc52.jpeg\n"
     ]
    },
    {
     "name": "stderr",
     "output_type": "stream",
     "text": [
      "\r",
      "  3%|██▌                                                                       | 2390/69450 [34:27<19:45:25,  1.06s/it]"
     ]
    },
    {
     "name": "stdout",
     "output_type": "stream",
     "text": [
      "Warning: Could not download image boy\\2389 from https://safebooru.org/thumbnails/983/thumbnail_54fdc6127cb8853366aecbf161d634a5.jpeg\n"
     ]
    },
    {
     "name": "stderr",
     "output_type": "stream",
     "text": [
      "\r",
      "  3%|██▌                                                                       | 2391/69450 [34:28<19:38:36,  1.05s/it]"
     ]
    },
    {
     "name": "stdout",
     "output_type": "stream",
     "text": [
      "Warning: Could not download image boy\\2390 from https://safebooru.org/thumbnails/983/thumbnail_448eac4dafb780f828b4094e30967a12.png\n"
     ]
    },
    {
     "name": "stderr",
     "output_type": "stream",
     "text": [
      "\r",
      "  3%|██▌                                                                       | 2392/69450 [34:29<19:43:06,  1.06s/it]"
     ]
    },
    {
     "name": "stdout",
     "output_type": "stream",
     "text": [
      "Warning: Could not download image boy\\2391 from https://safebooru.org/thumbnails/983/thumbnail_8d2f03969a6883505a3fece95dad226c.jpeg\n"
     ]
    },
    {
     "name": "stderr",
     "output_type": "stream",
     "text": [
      "\r",
      "  3%|██▌                                                                       | 2393/69450 [34:30<19:48:16,  1.06s/it]"
     ]
    },
    {
     "name": "stdout",
     "output_type": "stream",
     "text": [
      "Warning: Could not download image boy\\2392 from https://safebooru.org/thumbnails/983/thumbnail_ccf4e4a96a904ad4feed5fe3c70cbe35.jpeg\n"
     ]
    },
    {
     "name": "stderr",
     "output_type": "stream",
     "text": [
      "  3%|██▌                                                                       | 2398/69450 [34:35<19:50:07,  1.06s/it]"
     ]
    },
    {
     "name": "stdout",
     "output_type": "stream",
     "text": [
      "Warning: Could not download image boy\\2397 from https://safebooru.org/thumbnails/983/thumbnail_2bdeae86d605b7bb58baa194ee556567bb181f17.png\n"
     ]
    },
    {
     "name": "stderr",
     "output_type": "stream",
     "text": [
      "\r",
      "  3%|██▌                                                                       | 2399/69450 [34:36<19:43:27,  1.06s/it]"
     ]
    },
    {
     "name": "stdout",
     "output_type": "stream",
     "text": [
      "Warning: Could not download image boy\\2398 from https://safebooru.org/thumbnails/983/thumbnail_ce4f87aa8ca065c3e8c605fc029117bb38a08916.png\n"
     ]
    },
    {
     "name": "stderr",
     "output_type": "stream",
     "text": [
      "  3%|██▌                                                                       | 2406/69450 [34:44<19:50:46,  1.07s/it]"
     ]
    },
    {
     "name": "stdout",
     "output_type": "stream",
     "text": [
      "Warning: Could not download image boy\\2405 from https://safebooru.org/thumbnails/983/thumbnail_d3a33806f3cde248d469ac6eea14f8917e92e20f.png\n"
     ]
    },
    {
     "name": "stderr",
     "output_type": "stream",
     "text": [
      "  3%|██▌                                                                       | 2417/69450 [34:56<20:00:43,  1.07s/it]"
     ]
    },
    {
     "name": "stdout",
     "output_type": "stream",
     "text": [
      "Warning: Could not download image boy\\2416 from https://safebooru.org/thumbnails/984/thumbnail_78ce5b6ef70c27e5431ce71d13bc1ef12419da74.png\n"
     ]
    },
    {
     "name": "stderr",
     "output_type": "stream",
     "text": [
      "  3%|██▌                                                                       | 2420/69450 [34:59<19:37:39,  1.05s/it]"
     ]
    },
    {
     "name": "stdout",
     "output_type": "stream",
     "text": [
      "Warning: Could not download image boy\\2419 from https://safebooru.org/thumbnails/984/thumbnail_8361908f2ec04d14252cf08909c4e3258bf7170d.png\n"
     ]
    },
    {
     "name": "stderr",
     "output_type": "stream",
     "text": [
      "\r",
      "  3%|██▌                                                                       | 2421/69450 [35:00<21:31:08,  1.16s/it]"
     ]
    },
    {
     "name": "stdout",
     "output_type": "stream",
     "text": [
      "Warning: Could not download image boy\\2420 from https://safebooru.org/thumbnails/984/thumbnail_55dc7146e9e9ee51e2044b980e1b3a96912097fe.png\n"
     ]
    },
    {
     "name": "stderr",
     "output_type": "stream",
     "text": [
      "\r",
      "  3%|██▌                                                                       | 2422/69450 [35:01<20:59:51,  1.13s/it]"
     ]
    },
    {
     "name": "stdout",
     "output_type": "stream",
     "text": [
      "Warning: Could not download image boy\\2421 from https://safebooru.org/thumbnails/984/thumbnail_e0fa4e964638dcef6813e8da82140ccb21afe2a2.png\n"
     ]
    },
    {
     "name": "stderr",
     "output_type": "stream",
     "text": [
      "  3%|██▌                                                                       | 2428/69450 [35:08<20:14:56,  1.09s/it]"
     ]
    },
    {
     "name": "stdout",
     "output_type": "stream",
     "text": [
      "Warning: Could not download image boy\\2427 from https://safebooru.org/thumbnails/984/thumbnail_6a7d73b1f0555ce72f277dd14d8d211b05e35707.png\n"
     ]
    },
    {
     "name": "stderr",
     "output_type": "stream",
     "text": [
      "  3%|██▌                                                                       | 2430/69450 [35:10<20:01:12,  1.08s/it]"
     ]
    },
    {
     "name": "stdout",
     "output_type": "stream",
     "text": [
      "Warning: Could not download image boy\\2429 from https://safebooru.org/thumbnails/984/thumbnail_5ec2094b832cb03f83d8bcf3c3c3c61618006fa9.png\n"
     ]
    },
    {
     "name": "stderr",
     "output_type": "stream",
     "text": [
      "  4%|██▌                                                                       | 2436/69450 [35:16<19:50:46,  1.07s/it]"
     ]
    },
    {
     "name": "stdout",
     "output_type": "stream",
     "text": [
      "Warning: Could not download image boy\\2435 from https://safebooru.org/thumbnails/984/thumbnail_3405173373c5ebbdd36069eb50bf77a4f09f8684.png\n"
     ]
    },
    {
     "name": "stderr",
     "output_type": "stream",
     "text": [
      "  4%|██▌                                                                       | 2438/69450 [35:19<21:04:28,  1.13s/it]"
     ]
    },
    {
     "name": "stdout",
     "output_type": "stream",
     "text": [
      "Warning: Could not download image boy\\2437 from https://safebooru.org/thumbnails/984/thumbnail_5fdc6136c4308399686947841ccad9ca8e7d32a3.png\n"
     ]
    },
    {
     "name": "stderr",
     "output_type": "stream",
     "text": [
      "  4%|██▌                                                                       | 2440/69450 [35:21<20:16:15,  1.09s/it]"
     ]
    },
    {
     "name": "stdout",
     "output_type": "stream",
     "text": [
      "Warning: Could not download image boy\\2439 from https://safebooru.org/thumbnails/984/thumbnail_ef35f52ce51d0592bfb17ae981758ec6669b8e21.png\n"
     ]
    },
    {
     "name": "stderr",
     "output_type": "stream",
     "text": [
      "  4%|██▌                                                                       | 2452/69450 [35:34<19:51:57,  1.07s/it]"
     ]
    },
    {
     "name": "stdout",
     "output_type": "stream",
     "text": [
      "Warning: Could not download image boy\\2451 from https://safebooru.org/thumbnails/985/thumbnail_737b6da1290c54f4540325f0135bc346d492c93a.png\n"
     ]
    },
    {
     "name": "stderr",
     "output_type": "stream",
     "text": [
      "  4%|██▌                                                                       | 2460/69450 [35:42<19:35:08,  1.05s/it]"
     ]
    },
    {
     "name": "stdout",
     "output_type": "stream",
     "text": [
      "Warning: Could not download image boy\\2459 from https://safebooru.org/thumbnails/985/thumbnail_8a4c6f34462bd5219f193c3ee14e7de8f50f2ae4.png\n"
     ]
    },
    {
     "name": "stderr",
     "output_type": "stream",
     "text": [
      "\r",
      "  4%|██▌                                                                       | 2461/69450 [35:43<19:28:36,  1.05s/it]"
     ]
    },
    {
     "name": "stdout",
     "output_type": "stream",
     "text": [
      "Warning: Could not download image boy\\2460 from https://safebooru.org/thumbnails/985/thumbnail_b7afee4b0fb1b4fbf13a35f281ace15edd3277cb.png\n"
     ]
    },
    {
     "name": "stderr",
     "output_type": "stream",
     "text": [
      "  4%|██▋                                                                       | 2464/69450 [35:46<19:42:42,  1.06s/it]"
     ]
    },
    {
     "name": "stdout",
     "output_type": "stream",
     "text": [
      "Warning: Could not download image boy\\2463 from https://safebooru.org/thumbnails/985/thumbnail_555e1c36d321733cb0e8d4ccfe18eb67be4bedaa.png\n"
     ]
    },
    {
     "name": "stderr",
     "output_type": "stream",
     "text": [
      "  4%|██▋                                                                       | 2495/69450 [36:19<19:44:01,  1.06s/it]"
     ]
    },
    {
     "name": "stdout",
     "output_type": "stream",
     "text": [
      "Warning: Could not download image boy\\2494 from https://safebooru.org/thumbnails/985/thumbnail_9273d0e32c7430e8d03412030ea2545db4e54720.png\n"
     ]
    },
    {
     "name": "stderr",
     "output_type": "stream",
     "text": [
      "\r",
      "  4%|██▋                                                                       | 2496/69450 [36:20<19:39:24,  1.06s/it]"
     ]
    },
    {
     "name": "stdout",
     "output_type": "stream",
     "text": [
      "Warning: Could not download image boy\\2495 from https://safebooru.org/thumbnails/985/thumbnail_1b6c8d3c02c899d25a85f39e9b63cba3ec45536c.png\n"
     ]
    },
    {
     "name": "stderr",
     "output_type": "stream",
     "text": [
      "  4%|██▋                                                                       | 2508/69450 [36:33<19:30:27,  1.05s/it]"
     ]
    },
    {
     "name": "stdout",
     "output_type": "stream",
     "text": [
      "Warning: Could not download image boy\\2507 from https://safebooru.org/thumbnails/985/thumbnail_d47db7286cc3e1b940acd301ce75e36f44c942c6.png\n"
     ]
    },
    {
     "name": "stderr",
     "output_type": "stream",
     "text": [
      "\r",
      "  4%|██▋                                                                       | 2509/69450 [36:34<19:31:39,  1.05s/it]"
     ]
    },
    {
     "name": "stdout",
     "output_type": "stream",
     "text": [
      "Warning: Could not download image boy\\2508 from https://safebooru.org/thumbnails/986/thumbnail_ba5c34e5d9470b3abb75d514109ef49be007b490.png\n"
     ]
    },
    {
     "name": "stderr",
     "output_type": "stream",
     "text": [
      "\r",
      "  4%|██▋                                                                       | 2510/69450 [36:35<19:32:49,  1.05s/it]"
     ]
    },
    {
     "name": "stdout",
     "output_type": "stream",
     "text": [
      "Warning: Could not download image boy\\2509 from https://safebooru.org/thumbnails/986/thumbnail_b8d979b2752229dfc0bb2e01d54a5c07636f0d73.png\n"
     ]
    },
    {
     "name": "stderr",
     "output_type": "stream",
     "text": [
      "\r",
      "  4%|██▋                                                                       | 2511/69450 [36:36<19:53:36,  1.07s/it]"
     ]
    },
    {
     "name": "stdout",
     "output_type": "stream",
     "text": [
      "Warning: Could not download image boy\\2510 from https://safebooru.org/thumbnails/986/thumbnail_d4a51be6bd8ff37677bd79227c9f0e1c4dd84d83.png\n"
     ]
    },
    {
     "name": "stderr",
     "output_type": "stream",
     "text": [
      "  4%|██▋                                                                       | 2514/69450 [36:39<19:41:12,  1.06s/it]"
     ]
    },
    {
     "name": "stdout",
     "output_type": "stream",
     "text": [
      "Warning: Could not download image boy\\2513 from https://safebooru.org/thumbnails/986/thumbnail_c9fb5358cae9fb2e1cfbc8dfde501d903ae1fed4.png\n"
     ]
    },
    {
     "name": "stderr",
     "output_type": "stream",
     "text": [
      "  4%|██▋                                                                       | 2517/69450 [36:43<19:33:25,  1.05s/it]"
     ]
    },
    {
     "name": "stdout",
     "output_type": "stream",
     "text": [
      "Warning: Could not download image boy\\2516 from https://safebooru.org/thumbnails/986/thumbnail_a1d26251b39f7bbf221321db5d8ca6fc95c9d82d.png\n"
     ]
    },
    {
     "name": "stderr",
     "output_type": "stream",
     "text": [
      "\r",
      "  4%|██▋                                                                       | 2518/69450 [36:44<19:27:54,  1.05s/it]"
     ]
    },
    {
     "name": "stdout",
     "output_type": "stream",
     "text": [
      "Warning: Could not download image boy\\2517 from https://safebooru.org/thumbnails/986/thumbnail_77fe0bdc222af46a13cfa3c5544108772054162b.png\n"
     ]
    },
    {
     "name": "stderr",
     "output_type": "stream",
     "text": [
      "\r",
      "  4%|██▋                                                                       | 2519/69450 [36:45<20:38:54,  1.11s/it]"
     ]
    },
    {
     "name": "stdout",
     "output_type": "stream",
     "text": [
      "Warning: Could not download image boy\\2518 from https://safebooru.org/thumbnails/986/thumbnail_5a29b6d9f4d77763e9787ad6add0d6e796b43d14.png\n"
     ]
    },
    {
     "name": "stderr",
     "output_type": "stream",
     "text": [
      "  4%|██▋                                                                       | 2550/69450 [37:18<19:31:33,  1.05s/it]"
     ]
    },
    {
     "name": "stdout",
     "output_type": "stream",
     "text": [
      "Warning: Could not download image boy\\2549 from https://safebooru.org/thumbnails/986/thumbnail_d4f92c79496a4dc50f47c0547ca839f7565df6eb.png\n"
     ]
    },
    {
     "name": "stderr",
     "output_type": "stream",
     "text": [
      "\r",
      "  4%|██▋                                                                       | 2551/69450 [37:19<19:26:45,  1.05s/it]"
     ]
    },
    {
     "name": "stdout",
     "output_type": "stream",
     "text": [
      "Warning: Could not download image boy\\2550 from https://safebooru.org/thumbnails/986/thumbnail_959478611187094e2aaa8878e95badd2b35f8ffd.png\n"
     ]
    },
    {
     "name": "stderr",
     "output_type": "stream",
     "text": [
      "  4%|██▋                                                                       | 2556/69450 [37:24<19:36:30,  1.06s/it]"
     ]
    },
    {
     "name": "stdout",
     "output_type": "stream",
     "text": [
      "Warning: Could not download image boy\\2555 from https://safebooru.org/thumbnails/986/thumbnail_474c5aec1f26aee491ccb66207bafd372bbcf4be.png\n"
     ]
    },
    {
     "name": "stderr",
     "output_type": "stream",
     "text": [
      "  4%|██▋                                                                       | 2558/69450 [37:26<19:30:26,  1.05s/it]"
     ]
    },
    {
     "name": "stdout",
     "output_type": "stream",
     "text": [
      "Warning: Could not download image boy\\2557 from https://safebooru.org/thumbnails/986/thumbnail_1cfa5e83232b4961337e586d893b8a41fd4e3ef1.png\n"
     ]
    },
    {
     "name": "stderr",
     "output_type": "stream",
     "text": [
      "  4%|██▋                                                                       | 2560/69450 [37:29<21:57:15,  1.18s/it]"
     ]
    },
    {
     "name": "stdout",
     "output_type": "stream",
     "text": [
      "Warning: Could not download image boy\\2559 from https://safebooru.org/thumbnails/986/thumbnail_4af7ee5a49d6eb6d172dcefe5259bff63597f4f5.png\n"
     ]
    },
    {
     "name": "stderr",
     "output_type": "stream",
     "text": [
      "  4%|██▋                                                                       | 2562/69450 [37:31<21:00:40,  1.13s/it]"
     ]
    },
    {
     "name": "stdout",
     "output_type": "stream",
     "text": [
      "Warning: Could not download image boy\\2561 from https://safebooru.org/thumbnails/987/thumbnail_fa4ef8cc308b0b20eec45578fcccb015ba996af4.png\n"
     ]
    },
    {
     "name": "stderr",
     "output_type": "stream",
     "text": [
      "  4%|██▋                                                                       | 2567/69450 [37:37<21:03:48,  1.13s/it]"
     ]
    },
    {
     "name": "stdout",
     "output_type": "stream",
     "text": [
      "Warning: Could not download image boy\\2566 from https://safebooru.org/thumbnails/987/thumbnail_37feab388c4ba5a47e6db2daba52a7a64b3d1775.gif\n"
     ]
    },
    {
     "name": "stderr",
     "output_type": "stream",
     "text": [
      "  4%|██▋                                                                       | 2569/69450 [37:39<20:21:52,  1.10s/it]"
     ]
    },
    {
     "name": "stdout",
     "output_type": "stream",
     "text": [
      "Warning: Could not download image boy\\2568 from https://safebooru.org/thumbnails/987/thumbnail_248b8f8f52adb341ab1f6b263c743cafec69a99b.png\n"
     ]
    },
    {
     "name": "stderr",
     "output_type": "stream",
     "text": [
      "\r",
      "  4%|██▋                                                                       | 2570/69450 [37:40<20:07:48,  1.08s/it]"
     ]
    }
   ],
   "source": [
    "pathinit = 'https:'\n",
    "\n",
    "np.flip(boy_url_sample, 0)\n",
    "count = 0\n",
    "for idx in tqdm(range(len(boy_url_sample))):\n",
    "    url = boy_url_sample[idx]\n",
    "    save_dir = os.path.join('boy', str(idx))\n",
    "    if pathinit not in boy_url_sample[idx]:\n",
    "        url = pathinit + boy_url_sample[idx]\n",
    "    count = count + download_image(save_dir, url)\n",
    "    if count >= 2000:\n",
    "        break"
   ]
  },
  {
   "cell_type": "code",
   "execution_count": null,
   "metadata": {},
   "outputs": [],
   "source": [
    "\n",
    "for idx in tqdm(range(len(boy_url_sample))):\n",
    "    if pathinit not in boy_url_sample[idx]:\n",
    "        boy_url_sample[idx] = pathinit + boy_url_sample[idx]\n",
    "print(boy_url_sample)\n",
    "for idx in tqdm(range(len(girl_url_sample))):\n",
    "    if pathinit not in girl_url_sample[idx]:\n",
    "        girl_url_sample[idx] = pathinit + girl_url_sample[idx]\n",
    "print(girl_url_sample)"
   ]
  },
  {
   "cell_type": "code",
   "execution_count": null,
   "metadata": {},
   "outputs": [],
   "source": [
    "for idx in tqdm(range(len(boy_url_sample))):\n",
    "    url = boy_url_sample[idx]\n",
    "    download_image(idx, url)\n",
    "for idx in tqdm(range(len(girl_url_sample))):\n",
    "    url = girl_url_sample[idx]\n",
    "    download_image(idx, url)"
   ]
  },
  {
   "cell_type": "code",
   "execution_count": null,
   "metadata": {},
   "outputs": [],
   "source": [
    "training_size = 90 #in percent\n",
    "arrint = np.arange(32000)\n",
    "boy_train_idx = np.random.choice(boy_url_sample, len(boy_url_sample)*training_size//100, replace=False)\n",
    "boy_train_data = np.array(boy_url_sample[boy_train_idx,:])\n",
    "girl_train_idx = np.random.choice(girl_url_sample, len(girl_url_sample)*training_size//100, replace=False)\n",
    "girl_train_data = np.array(girl_url_sample[girl_train_idx,:])\n",
    "boy_val_idx = np.array([item for item in tqdm(arrint) if item not in boy_train_idx])\n",
    "boy_val_data = np.array(boy_url_sample[boy_val_idx,:])\n",
    "girl_val_idx = np.array([item for item in tqdm(arrint) if item not in girl_train_idx])\n",
    "girl_val_data = np.array(girl_url_sample[girl_val_idx,:])\n",
    "print(\"train boys: \", len(boy_train_data))\n",
    "print(\"train girls: \", len(girl_train_data))\n",
    "print(\"validation boys: \", len(boy_val_data))\n",
    "print(\"validation girls: \", len(girl_val_data))"
   ]
  },
  {
   "cell_type": "code",
   "execution_count": null,
   "metadata": {},
   "outputs": [],
   "source": []
  }
 ],
 "metadata": {
  "kernelspec": {
   "display_name": "Python 3",
   "language": "python",
   "name": "python3"
  },
  "language_info": {
   "codemirror_mode": {
    "name": "ipython",
    "version": 3
   },
   "file_extension": ".py",
   "mimetype": "text/x-python",
   "name": "python",
   "nbconvert_exporter": "python",
   "pygments_lexer": "ipython3",
   "version": "3.7.7"
  }
 },
 "nbformat": 4,
 "nbformat_minor": 4
}
