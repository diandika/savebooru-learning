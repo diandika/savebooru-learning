{
 "cells": [
  {
   "cell_type": "code",
   "execution_count": 1,
   "metadata": {},
   "outputs": [],
   "source": [
    "import pandas as pd\n",
    "import numpy as np\n",
    "import os\n",
    "import csv\n",
    "from urllib import request, error\n",
    "from PIL import Image\n",
    "from io import BytesIO\n",
    "from datetime import datetime\n",
    "from tqdm import tqdm"
   ]
  },
  {
   "cell_type": "code",
   "execution_count": 2,
   "metadata": {},
   "outputs": [
    {
     "data": {
      "text/html": [
       "<div>\n",
       "<style scoped>\n",
       "    .dataframe tbody tr th:only-of-type {\n",
       "        vertical-align: middle;\n",
       "    }\n",
       "\n",
       "    .dataframe tbody tr th {\n",
       "        vertical-align: top;\n",
       "    }\n",
       "\n",
       "    .dataframe thead th {\n",
       "        text-align: right;\n",
       "    }\n",
       "</style>\n",
       "<table border=\"1\" class=\"dataframe\">\n",
       "  <thead>\n",
       "    <tr style=\"text-align: right;\">\n",
       "      <th></th>\n",
       "      <th>id</th>\n",
       "      <th>created_at</th>\n",
       "      <th>rating</th>\n",
       "      <th>score</th>\n",
       "      <th>sample_url</th>\n",
       "      <th>sample_width</th>\n",
       "      <th>sample_height</th>\n",
       "      <th>preview_url</th>\n",
       "      <th>tags</th>\n",
       "    </tr>\n",
       "  </thead>\n",
       "  <tbody>\n",
       "    <tr>\n",
       "      <td>0</td>\n",
       "      <td>1</td>\n",
       "      <td>1264803292</td>\n",
       "      <td>s</td>\n",
       "      <td>37</td>\n",
       "      <td>//safebooru.org/samples/1/sample_e7b3dc281d431...</td>\n",
       "      <td>850</td>\n",
       "      <td>638</td>\n",
       "      <td>//safebooru.org/thumbnails/1/thumbnail_e7b3dc2...</td>\n",
       "      <td>animal_ears</td>\n",
       "    </tr>\n",
       "    <tr>\n",
       "      <td>1</td>\n",
       "      <td>2</td>\n",
       "      <td>1264803292</td>\n",
       "      <td>s</td>\n",
       "      <td>12</td>\n",
       "      <td>//safebooru.org/samples/1/sample_27ff11b17a2c3...</td>\n",
       "      <td>850</td>\n",
       "      <td>1208</td>\n",
       "      <td>//safebooru.org/thumbnails/1/thumbnail_27ff11b...</td>\n",
       "      <td>animal_ears</td>\n",
       "    </tr>\n",
       "    <tr>\n",
       "      <td>2</td>\n",
       "      <td>7</td>\n",
       "      <td>1264803305</td>\n",
       "      <td>s</td>\n",
       "      <td>2</td>\n",
       "      <td>//safebooru.org/samples/1/sample_e7fbb7b5e3d0a...</td>\n",
       "      <td>850</td>\n",
       "      <td>531</td>\n",
       "      <td>//safebooru.org/thumbnails/1/thumbnail_e7fbb7b...</td>\n",
       "      <td>animal_ears</td>\n",
       "    </tr>\n",
       "    <tr>\n",
       "      <td>3</td>\n",
       "      <td>11</td>\n",
       "      <td>1264803309</td>\n",
       "      <td>s</td>\n",
       "      <td>7</td>\n",
       "      <td>//safebooru.org/samples/1/sample_24f0c579396f9...</td>\n",
       "      <td>850</td>\n",
       "      <td>601</td>\n",
       "      <td>//safebooru.org/thumbnails/1/thumbnail_24f0c57...</td>\n",
       "      <td>animal_ears</td>\n",
       "    </tr>\n",
       "    <tr>\n",
       "      <td>4</td>\n",
       "      <td>15</td>\n",
       "      <td>1264803312</td>\n",
       "      <td>s</td>\n",
       "      <td>27</td>\n",
       "      <td>//safebooru.org/samples/1/sample_05a8d8706fdfd...</td>\n",
       "      <td>850</td>\n",
       "      <td>606</td>\n",
       "      <td>//safebooru.org/thumbnails/1/thumbnail_05a8d87...</td>\n",
       "      <td>animal_ears</td>\n",
       "    </tr>\n",
       "  </tbody>\n",
       "</table>\n",
       "</div>"
      ],
      "text/plain": [
       "   id  created_at rating  score  \\\n",
       "0   1  1264803292      s     37   \n",
       "1   2  1264803292      s     12   \n",
       "2   7  1264803305      s      2   \n",
       "3  11  1264803309      s      7   \n",
       "4  15  1264803312      s     27   \n",
       "\n",
       "                                          sample_url  sample_width  \\\n",
       "0  //safebooru.org/samples/1/sample_e7b3dc281d431...           850   \n",
       "1  //safebooru.org/samples/1/sample_27ff11b17a2c3...           850   \n",
       "2  //safebooru.org/samples/1/sample_e7fbb7b5e3d0a...           850   \n",
       "3  //safebooru.org/samples/1/sample_24f0c579396f9...           850   \n",
       "4  //safebooru.org/samples/1/sample_05a8d8706fdfd...           850   \n",
       "\n",
       "   sample_height                                        preview_url  \\\n",
       "0            638  //safebooru.org/thumbnails/1/thumbnail_e7b3dc2...   \n",
       "1           1208  //safebooru.org/thumbnails/1/thumbnail_27ff11b...   \n",
       "2            531  //safebooru.org/thumbnails/1/thumbnail_e7fbb7b...   \n",
       "3            601  //safebooru.org/thumbnails/1/thumbnail_24f0c57...   \n",
       "4            606  //safebooru.org/thumbnails/1/thumbnail_05a8d87...   \n",
       "\n",
       "          tags  \n",
       "0  animal_ears  \n",
       "1  animal_ears  \n",
       "2  animal_ears  \n",
       "3  animal_ears  \n",
       "4  animal_ears  "
      ]
     },
     "execution_count": 2,
     "metadata": {},
     "output_type": "execute_result"
    }
   ],
   "source": [
    "human_ears = pd.read_csv('data/human_ears_art.csv')\n",
    "human_ears.head(5)\n",
    "animal_ears = pd.read_csv('data/animal_ears_art.csv')\n",
    "animal_ears.head(5)"
   ]
  },
  {
   "cell_type": "code",
   "execution_count": 3,
   "metadata": {},
   "outputs": [
    {
     "name": "stdout",
     "output_type": "stream",
     "text": [
      "<class 'numpy.ndarray'>\n",
      "<class 'numpy.ndarray'>\n"
     ]
    }
   ],
   "source": [
    "human_ears_data = human_ears.to_numpy()\n",
    "print(type(human_ears_data))\n",
    "animal_ears_data = animal_ears.to_numpy()\n",
    "print(type(animal_ears_data))"
   ]
  },
  {
   "cell_type": "code",
   "execution_count": 4,
   "metadata": {},
   "outputs": [],
   "source": [
    "def make_dir(path):\n",
    "    try:\n",
    "        os.mkdir(path)\n",
    "    except:\n",
    "        print('Directory ', path, ' already exist')"
   ]
  },
  {
   "cell_type": "code",
   "execution_count": 5,
   "metadata": {},
   "outputs": [
    {
     "name": "stdout",
     "output_type": "stream",
     "text": [
      "Directory  image\\train  already exist\n",
      "Directory  image\\val  already exist\n"
     ]
    }
   ],
   "source": [
    "IMAGE_DIR = 'image'\n",
    "TRAINING_DIR = os.path.join(IMAGE_DIR, 'train')\n",
    "VALIDATION_DIR = os.path.join(IMAGE_DIR, 'val')\n",
    "make_dir(TRAINING_DIR)\n",
    "make_dir(VALIDATION_DIR)"
   ]
  },
  {
   "cell_type": "code",
   "execution_count": 6,
   "metadata": {},
   "outputs": [
    {
     "name": "stdout",
     "output_type": "stream",
     "text": [
      "Directory  image\\train\\animal_ears  already exist\n",
      "Directory  image\\train\\human_ears  already exist\n",
      "Directory  image\\val\\animal_ears  already exist\n",
      "Directory  image\\val\\human_ears  already exist\n"
     ]
    }
   ],
   "source": [
    "animal_ears_TRAIN = os.path.join(TRAINING_DIR, 'animal_ears')\n",
    "human_ears_TRAIN = os.path.join(TRAINING_DIR, 'human_ears')\n",
    "animal_ears_VAL = os.path.join(VALIDATION_DIR, 'animal_ears')\n",
    "human_ears_VAL = os.path.join(VALIDATION_DIR, 'human_ears')\n",
    "make_dir(animal_ears_TRAIN)\n",
    "make_dir(human_ears_TRAIN)\n",
    "make_dir(animal_ears_VAL)\n",
    "make_dir(human_ears_VAL)"
   ]
  },
  {
   "cell_type": "code",
   "execution_count": 10,
   "metadata": {},
   "outputs": [],
   "source": [
    "animal_ears_SAMPLE = 'sample/animal_ears'\n",
    "human_ears_SAMPLE = 'sample/human_ears'\n",
    "make_dir(animal_ears_SAMPLE)\n",
    "make_dir(human_ears_SAMPLE)\n",
    "animal_ears_url_sample = np.array(animal_ears_data[:,-2])\n",
    "human_ears_url_sample = np.array(human_ears_data[:,-2])"
   ]
  },
  {
   "cell_type": "code",
   "execution_count": 11,
   "metadata": {},
   "outputs": [],
   "source": [
    "def download_image(key, url):\n",
    "    out_dir = 'sample'\n",
    "    filename = os.path.join(out_dir, '{}.jpg'.format(key))\n",
    "\n",
    "    if os.path.exists(filename):\n",
    "        print('Image {} already exists. Skipping download.'.format(filename))\n",
    "        return 0\n",
    "\n",
    "    try:\n",
    "        response = request.urlopen(url)\n",
    "        image_data = response.read()\n",
    "    except:\n",
    "        print('Warning: Could not download image {} from {}'.format(key, url))\n",
    "        return 0\n",
    "\n",
    "    try:\n",
    "        pil_image = Image.open(BytesIO(image_data))\n",
    "    except:\n",
    "        print('Warning: Failed to parse image {}'.format(key))\n",
    "        return 0\n",
    "\n",
    "    try:\n",
    "        pil_image_rgb = pil_image.convert('RGB')\n",
    "    except:\n",
    "        print('Warning: Failed to convert image {} to RGB'.format(key))\n",
    "        return 0\n",
    "\n",
    "    try:\n",
    "        pil_image_rgb.save(filename, format='JPEG', quality=90)\n",
    "    except:\n",
    "        print('Warning: Failed to save image {}'.format(filename))\n",
    "        return 0\n",
    "    \n",
    "    return 1"
   ]
  },
  {
   "cell_type": "code",
   "execution_count": 12,
   "metadata": {},
   "outputs": [
    {
     "name": "stderr",
     "output_type": "stream",
     "text": [
      "  0%|                                                                            | 3/132269 [00:01<12:38:46,  2.91it/s]"
     ]
    },
    {
     "name": "stdout",
     "output_type": "stream",
     "text": [
      "Warning: Could not download image human_ears\\1 from https://safebooru.org/thumbnails/1/thumbnail_be72b31a6121dc3c74dcc7104e9082ea2dde6c18.png\n"
     ]
    },
    {
     "name": "stderr",
     "output_type": "stream",
     "text": [
      "  0%|                                                                           | 21/132269 [00:04<11:50:31,  3.10it/s]"
     ]
    },
    {
     "name": "stdout",
     "output_type": "stream",
     "text": [
      "Warning: Could not download image human_ears\\19 from https://safebooru.org/thumbnails/2/thumbnail_9483fd901771dfeee54cc8c38bed7eb959a13058.png\n"
     ]
    },
    {
     "name": "stderr",
     "output_type": "stream",
     "text": [
      "  0%|                                                                           | 30/132269 [00:06<13:45:52,  2.67it/s]"
     ]
    },
    {
     "name": "stdout",
     "output_type": "stream",
     "text": [
      "Warning: Could not download image human_ears\\28 from https://safebooru.org/thumbnails/4/thumbnail_236e918a143b32a3d2cf44ee0e39a8f1287e12c9.png\n"
     ]
    },
    {
     "name": "stderr",
     "output_type": "stream",
     "text": [
      "  0%|                                                                           | 33/132269 [00:08<15:06:03,  2.43it/s]"
     ]
    },
    {
     "name": "stdout",
     "output_type": "stream",
     "text": [
      "Warning: Could not download image human_ears\\31 from https://safebooru.org/thumbnails/5/thumbnail_7d132a315a692905bac3a50bb76e50393f36684a.png\n"
     ]
    },
    {
     "name": "stderr",
     "output_type": "stream",
     "text": [
      "  0%|                                                                            | 36/132269 [00:08<8:33:37,  4.29it/s]"
     ]
    },
    {
     "name": "stdout",
     "output_type": "stream",
     "text": [
      "Warning: Could not download image human_ears\\34 from https://safebooru.org/thumbnails/5/thumbnail_4d73a2424d594563979eb86daf2633812167e583.png\n"
     ]
    },
    {
     "name": "stderr",
     "output_type": "stream",
     "text": [
      "  0%|                                                                            | 41/132269 [00:09<5:33:10,  6.61it/s]"
     ]
    },
    {
     "name": "stdout",
     "output_type": "stream",
     "text": [
      "Warning: Could not download image human_ears\\39 from https://safebooru.org/thumbnails/5/thumbnail_d1cd6a61209000c8a359a5c922d6146fd2d3b5b3.png\n"
     ]
    },
    {
     "name": "stderr",
     "output_type": "stream",
     "text": [
      "  0%|                                                                           | 54/132269 [00:19<37:50:42,  1.03s/it]"
     ]
    },
    {
     "name": "stdout",
     "output_type": "stream",
     "text": [
      "Warning: Could not download image human_ears\\53 from https://safebooru.org/thumbnails/7/thumbnail_1011b8188254fd57368602a742a8848b425fa1a9.png\n"
     ]
    },
    {
     "name": "stderr",
     "output_type": "stream",
     "text": [
      "  0%|                                                                           | 58/132269 [00:24<40:56:35,  1.11s/it]"
     ]
    },
    {
     "name": "stdout",
     "output_type": "stream",
     "text": [
      "Warning: Could not download image human_ears\\57 from https://safebooru.org/thumbnails/7/thumbnail_ccd629591c6637acb8e8576a8910956194a24b18.png\n"
     ]
    },
    {
     "name": "stderr",
     "output_type": "stream",
     "text": [
      "  0%|                                                                           | 71/132269 [00:38<39:59:34,  1.09s/it]"
     ]
    },
    {
     "name": "stdout",
     "output_type": "stream",
     "text": [
      "Warning: Could not download image human_ears\\70 from https://safebooru.org/thumbnails/10/thumbnail_461586d845c4a9e549b6b59025c51130230a7a1d.png\n"
     ]
    },
    {
     "name": "stderr",
     "output_type": "stream",
     "text": [
      "  0%|                                                                           | 76/132269 [00:43<40:02:47,  1.09s/it]"
     ]
    },
    {
     "name": "stdout",
     "output_type": "stream",
     "text": [
      "Warning: Could not download image human_ears\\75 from https://safebooru.org/thumbnails/11/thumbnail_5217d734872da0c8f0e24ca95324fc6a48ed5d2a.png\n"
     ]
    },
    {
     "name": "stderr",
     "output_type": "stream",
     "text": [
      "  0%|                                                                           | 84/132269 [00:52<40:19:08,  1.10s/it]"
     ]
    },
    {
     "name": "stdout",
     "output_type": "stream",
     "text": [
      "Warning: Could not download image human_ears\\83 from https://safebooru.org/thumbnails/12/thumbnail_1a49fa99bd3f24dacded82ae40472227fb956a5f.png\n"
     ]
    },
    {
     "name": "stderr",
     "output_type": "stream",
     "text": [
      "  0%|                                                                           | 89/132269 [00:58<39:53:39,  1.09s/it]"
     ]
    },
    {
     "name": "stdout",
     "output_type": "stream",
     "text": [
      "Warning: Could not download image human_ears\\88 from https://safebooru.org/thumbnails/13/thumbnail_e65f9639b7865393d06a3a6bdb2e081c6cdd16cc.png\n"
     ]
    },
    {
     "name": "stderr",
     "output_type": "stream",
     "text": [
      "  0%|                                                                           | 97/132269 [01:06<39:53:17,  1.09s/it]"
     ]
    },
    {
     "name": "stdout",
     "output_type": "stream",
     "text": [
      "Warning: Could not download image human_ears\\96 from https://safebooru.org/thumbnails/13/thumbnail_ae8ded03b5fef1b283c51bfc13964eb0e0b500ab.png\n"
     ]
    },
    {
     "name": "stderr",
     "output_type": "stream",
     "text": [
      "  0%|                                                                          | 113/132269 [01:28<52:12:56,  1.42s/it]"
     ]
    },
    {
     "name": "stdout",
     "output_type": "stream",
     "text": [
      "Warning: Could not download image human_ears\\112 from https://safebooru.org/thumbnails/15/thumbnail_efbeea769d966cda03acffae713b99e14894016c.png\n"
     ]
    },
    {
     "name": "stderr",
     "output_type": "stream",
     "text": [
      "\r",
      "  0%|                                                                          | 114/132269 [01:30<61:57:21,  1.69s/it]"
     ]
    },
    {
     "name": "stdout",
     "output_type": "stream",
     "text": [
      "Warning: Could not download image human_ears\\113 from https://safebooru.org/thumbnails/15/thumbnail_b5002025464461969dae2d8c76fc9ecd4bda89b3.png\n"
     ]
    },
    {
     "name": "stderr",
     "output_type": "stream",
     "text": [
      "  0%|                                                                          | 119/132269 [01:41<89:34:46,  2.44s/it]"
     ]
    },
    {
     "name": "stdout",
     "output_type": "stream",
     "text": [
      "Warning: Could not download image human_ears\\118 from https://safebooru.org/thumbnails/15/thumbnail_4f38ca1185f7a4ddd69bd74f8ec620c18b0b2cb2.png\n"
     ]
    },
    {
     "name": "stderr",
     "output_type": "stream",
     "text": [
      "  0%|                                                                          | 126/132269 [01:51<53:22:26,  1.45s/it]"
     ]
    },
    {
     "name": "stdout",
     "output_type": "stream",
     "text": [
      "Warning: Could not download image human_ears\\125 from https://safebooru.org/thumbnails/15/thumbnail_32cf01db196bd65528a88532a10fe516579fdb0e.png\n"
     ]
    },
    {
     "name": "stderr",
     "output_type": "stream",
     "text": [
      "\r",
      "  0%|                                                                          | 127/132269 [01:52<52:18:26,  1.43s/it]"
     ]
    },
    {
     "name": "stdout",
     "output_type": "stream",
     "text": [
      "Warning: Could not download image human_ears\\126 from https://safebooru.org/thumbnails/15/thumbnail_5fe6761520f9bd65194246275d10ec7a31143b03.png\n"
     ]
    },
    {
     "name": "stderr",
     "output_type": "stream",
     "text": [
      "  0%|                                                                          | 129/132269 [01:55<50:22:56,  1.37s/it]"
     ]
    },
    {
     "name": "stdout",
     "output_type": "stream",
     "text": [
      "Warning: Could not download image human_ears\\128 from https://safebooru.org/thumbnails/15/thumbnail_33d98d93f8ec90b6373cb30db5ec1936e4e77e48.png\n"
     ]
    },
    {
     "name": "stderr",
     "output_type": "stream",
     "text": [
      "\r",
      "  0%|                                                                          | 130/132269 [01:56<50:08:27,  1.37s/it]"
     ]
    },
    {
     "name": "stdout",
     "output_type": "stream",
     "text": [
      "Warning: Could not download image human_ears\\129 from https://safebooru.org/thumbnails/15/thumbnail_93d3172f02a61f4213be76d2b0e06222f22aea84.png\n"
     ]
    },
    {
     "name": "stderr",
     "output_type": "stream",
     "text": [
      "  0%|                                                                          | 144/132269 [02:12<40:06:53,  1.09s/it]"
     ]
    },
    {
     "name": "stdout",
     "output_type": "stream",
     "text": [
      "Warning: Could not download image human_ears\\143 from https://safebooru.org/thumbnails/16/thumbnail_1f471cef133198e68f5a6231bdaf6b24b23734f7.png\n"
     ]
    },
    {
     "name": "stderr",
     "output_type": "stream",
     "text": [
      "  0%|                                                                          | 160/132269 [02:31<44:33:45,  1.21s/it]"
     ]
    },
    {
     "name": "stdout",
     "output_type": "stream",
     "text": [
      "Warning: Could not download image human_ears\\159 from https://safebooru.org/thumbnails/21/thumbnail_068a61a57c2e95b546428df9aceb7a990eb11710.png\n"
     ]
    },
    {
     "name": "stderr",
     "output_type": "stream",
     "text": [
      "  0%|                                                                          | 167/132269 [02:38<35:30:01,  1.03it/s]"
     ]
    },
    {
     "name": "stdout",
     "output_type": "stream",
     "text": [
      "Warning: Could not download image human_ears\\166 from https://safebooru.org/thumbnails/27/thumbnail_63d8086cea731846cdb272271b527d368582bc5a.png\n"
     ]
    },
    {
     "name": "stderr",
     "output_type": "stream",
     "text": [
      "  0%|                                                                          | 169/132269 [02:40<39:26:34,  1.07s/it]"
     ]
    },
    {
     "name": "stdout",
     "output_type": "stream",
     "text": [
      "Warning: Could not download image human_ears\\168 from https://safebooru.org/thumbnails/28/thumbnail_e1a09a5ffc62bd6b11582223258793fe708426db.png\n"
     ]
    },
    {
     "name": "stderr",
     "output_type": "stream",
     "text": [
      "  0%|                                                                          | 173/132269 [02:44<38:42:37,  1.05s/it]"
     ]
    },
    {
     "name": "stdout",
     "output_type": "stream",
     "text": [
      "Warning: Could not download image human_ears\\172 from https://safebooru.org/thumbnails/29/thumbnail_ddd5c04d3fcecd4ccf00f9eab8e8d3b6d5a5c9ab.png\n"
     ]
    },
    {
     "name": "stderr",
     "output_type": "stream",
     "text": [
      "  0%|                                                                          | 189/132269 [03:02<39:02:00,  1.06s/it]"
     ]
    },
    {
     "name": "stdout",
     "output_type": "stream",
     "text": [
      "Warning: Could not download image human_ears\\188 from https://safebooru.org/thumbnails/46/thumbnail_fdffddb82e5e408af6356e557d15d5b2594635b7.png\n"
     ]
    },
    {
     "name": "stderr",
     "output_type": "stream",
     "text": [
      "\r",
      "  0%|                                                                          | 190/132269 [03:03<39:30:15,  1.08s/it]"
     ]
    },
    {
     "name": "stdout",
     "output_type": "stream",
     "text": [
      "Warning: Could not download image human_ears\\189 from https://safebooru.org/thumbnails/46/thumbnail_aa432d9335dcf462a9cf3256840d9e931135fdda.png\n"
     ]
    },
    {
     "name": "stderr",
     "output_type": "stream",
     "text": [
      "  0%|                                                                          | 193/132269 [03:06<40:26:40,  1.10s/it]"
     ]
    },
    {
     "name": "stdout",
     "output_type": "stream",
     "text": [
      "Warning: Could not download image human_ears\\192 from https://safebooru.org/thumbnails/48/thumbnail_772513f33b7e6541443d747aecac71694050fa32.png\n"
     ]
    },
    {
     "name": "stderr",
     "output_type": "stream",
     "text": [
      "  0%|                                                                          | 198/132269 [03:11<40:02:25,  1.09s/it]"
     ]
    },
    {
     "name": "stdout",
     "output_type": "stream",
     "text": [
      "Warning: Could not download image human_ears\\197 from https://safebooru.org/thumbnails/51/thumbnail_76e188b40af7e9c0b682d87df16aa271e1cc9f21.png\n"
     ]
    },
    {
     "name": "stderr",
     "output_type": "stream",
     "text": [
      "  0%|                                                                          | 209/132269 [03:23<40:18:05,  1.10s/it]"
     ]
    },
    {
     "name": "stdout",
     "output_type": "stream",
     "text": [
      "Warning: Could not download image human_ears\\208 from https://safebooru.org/thumbnails/55/thumbnail_5d63bebafa5bbe07385a606367870815af7369cf.png\n"
     ]
    },
    {
     "name": "stderr",
     "output_type": "stream",
     "text": [
      "\r",
      "  0%|                                                                          | 210/132269 [03:24<39:38:35,  1.08s/it]"
     ]
    },
    {
     "name": "stdout",
     "output_type": "stream",
     "text": [
      "Warning: Could not download image human_ears\\209 from https://safebooru.org/thumbnails/55/thumbnail_3195bb3223bcc188bcd573f32c257a4342ef87b6.png\n"
     ]
    },
    {
     "name": "stderr",
     "output_type": "stream",
     "text": [
      "\r",
      "  0%|                                                                          | 211/132269 [03:26<41:23:57,  1.13s/it]"
     ]
    },
    {
     "name": "stdout",
     "output_type": "stream",
     "text": [
      "Warning: Could not download image human_ears\\210 from https://safebooru.org/thumbnails/55/thumbnail_a018a32ec489f36177546ef70b6ab8d8b5c285a8.png\n"
     ]
    },
    {
     "name": "stderr",
     "output_type": "stream",
     "text": [
      "  0%|                                                                          | 221/132269 [03:35<28:53:51,  1.27it/s]"
     ]
    },
    {
     "name": "stdout",
     "output_type": "stream",
     "text": [
      "Warning: Could not download image human_ears\\219 from https://safebooru.org/thumbnails/58/thumbnail_26aafb06b2a083e54d92c2b3b67d8f38d9f5dd0b.png\n"
     ]
    },
    {
     "name": "stderr",
     "output_type": "stream",
     "text": [
      "  0%|                                                                          | 223/132269 [03:38<33:44:37,  1.09it/s]"
     ]
    },
    {
     "name": "stdout",
     "output_type": "stream",
     "text": [
      "Warning: Could not download image human_ears\\222 from https://safebooru.org/thumbnails/58/thumbnail_f995f913b5400f51f0db1defc4c1d3a3b2c25079.png\n"
     ]
    },
    {
     "name": "stderr",
     "output_type": "stream",
     "text": [
      "  0%|▏                                                                         | 226/132269 [03:41<38:13:39,  1.04s/it]"
     ]
    },
    {
     "name": "stdout",
     "output_type": "stream",
     "text": [
      "Warning: Could not download image human_ears\\225 from https://safebooru.org/thumbnails/58/thumbnail_65c64a977cb9b633491d67275c753d2e5fceafae.png\n"
     ]
    },
    {
     "name": "stderr",
     "output_type": "stream",
     "text": [
      "  0%|▏                                                                         | 237/132269 [03:53<38:53:35,  1.06s/it]"
     ]
    },
    {
     "name": "stdout",
     "output_type": "stream",
     "text": [
      "Warning: Could not download image human_ears\\236 from https://safebooru.org/thumbnails/59/thumbnail_7c4718eaa7922aebaac7193be414bd4476e8bb1b.png\n"
     ]
    },
    {
     "name": "stderr",
     "output_type": "stream",
     "text": [
      "  0%|▏                                                                         | 251/132269 [04:08<39:21:04,  1.07s/it]"
     ]
    },
    {
     "name": "stdout",
     "output_type": "stream",
     "text": [
      "Warning: Could not download image human_ears\\250 from https://safebooru.org/thumbnails/63/thumbnail_bd78143e1f9adc0d10b89d6b67fc1fa7f11853b8.png\n"
     ]
    },
    {
     "name": "stderr",
     "output_type": "stream",
     "text": [
      "  0%|▏                                                                         | 263/132269 [04:21<42:00:59,  1.15s/it]"
     ]
    },
    {
     "name": "stdout",
     "output_type": "stream",
     "text": [
      "Warning: Could not download image human_ears\\262 from https://safebooru.org/thumbnails/64/thumbnail_9a4e2b5d4041ef9d37fc702379e4ceb5ca87056a.png\n"
     ]
    },
    {
     "name": "stderr",
     "output_type": "stream",
     "text": [
      "  0%|▏                                                                         | 276/132269 [04:37<44:30:44,  1.21s/it]"
     ]
    },
    {
     "name": "stdout",
     "output_type": "stream",
     "text": [
      "Warning: Could not download image human_ears\\275 from https://safebooru.org/thumbnails/65/thumbnail_a852137f9950d39d500b883121b327584652f1a1.png\n"
     ]
    },
    {
     "name": "stderr",
     "output_type": "stream",
     "text": [
      "\r",
      "  0%|▏                                                                         | 277/132269 [04:38<43:02:33,  1.17s/it]"
     ]
    },
    {
     "name": "stdout",
     "output_type": "stream",
     "text": [
      "Warning: Could not download image human_ears\\276 from https://safebooru.org/thumbnails/65/thumbnail_4bcb8b3e1e33aca550715a8d435b10264a5649c8.png\n"
     ]
    },
    {
     "name": "stderr",
     "output_type": "stream",
     "text": [
      "  0%|▏                                                                         | 297/132269 [04:59<41:57:46,  1.14s/it]"
     ]
    },
    {
     "name": "stdout",
     "output_type": "stream",
     "text": [
      "Warning: Could not download image human_ears\\296 from https://safebooru.org/thumbnails/68/thumbnail_3ea5c6de5934922c63eccb03b6d0bae90f9aab48.png\n"
     ]
    },
    {
     "name": "stderr",
     "output_type": "stream",
     "text": [
      "  0%|▏                                                                         | 301/132269 [05:03<40:53:09,  1.12s/it]"
     ]
    },
    {
     "name": "stdout",
     "output_type": "stream",
     "text": [
      "Warning: Could not download image human_ears\\300 from https://safebooru.org/thumbnails/68/thumbnail_1c4454cade03ff1d25010d27dc326bfe83ccc6e3.png\n"
     ]
    },
    {
     "name": "stderr",
     "output_type": "stream",
     "text": [
      "  0%|▏                                                                         | 304/132269 [05:07<41:26:23,  1.13s/it]"
     ]
    },
    {
     "name": "stdout",
     "output_type": "stream",
     "text": [
      "Warning: Could not download image human_ears\\303 from https://safebooru.org/thumbnails/68/thumbnail_ac422745adea5d7543dae9e385ce6cbc7563e097.png\n"
     ]
    },
    {
     "name": "stderr",
     "output_type": "stream",
     "text": [
      "  0%|▏                                                                         | 306/132269 [05:09<40:10:45,  1.10s/it]"
     ]
    },
    {
     "name": "stdout",
     "output_type": "stream",
     "text": [
      "Warning: Could not download image human_ears\\305 from https://safebooru.org/thumbnails/68/thumbnail_bdfb7155266bbc5ab5062e82bddda2ca062c2fcd.png\n"
     ]
    },
    {
     "name": "stderr",
     "output_type": "stream",
     "text": [
      "  0%|▏                                                                         | 319/132269 [05:23<39:58:05,  1.09s/it]"
     ]
    },
    {
     "name": "stdout",
     "output_type": "stream",
     "text": [
      "Warning: Could not download image human_ears\\318 from https://safebooru.org/thumbnails/69/thumbnail_637700bbe688cff8dc12adb7c9d43422f75eb66f.png\n"
     ]
    },
    {
     "name": "stderr",
     "output_type": "stream",
     "text": [
      "  0%|▏                                                                         | 324/132269 [05:28<38:50:41,  1.06s/it]"
     ]
    },
    {
     "name": "stdout",
     "output_type": "stream",
     "text": [
      "Warning: Could not download image human_ears\\323 from https://safebooru.org/thumbnails/70/thumbnail_59b63d0a3b405dabf02fb10de39d6f6ef6a80861.png\n"
     ]
    },
    {
     "name": "stderr",
     "output_type": "stream",
     "text": [
      "  0%|▏                                                                         | 329/132269 [05:34<39:10:02,  1.07s/it]"
     ]
    },
    {
     "name": "stdout",
     "output_type": "stream",
     "text": [
      "Warning: Could not download image human_ears\\328 from https://safebooru.org/thumbnails/70/thumbnail_c5e89992f5fef698b7ae80c45cbb9196f81f9854.png\n"
     ]
    },
    {
     "name": "stderr",
     "output_type": "stream",
     "text": [
      "\r",
      "  0%|▏                                                                         | 330/132269 [05:35<38:57:05,  1.06s/it]"
     ]
    },
    {
     "name": "stdout",
     "output_type": "stream",
     "text": [
      "Warning: Could not download image human_ears\\329 from https://safebooru.org/thumbnails/71/thumbnail_6123ad148f2c4964fa575fb7a7e0c892d9d95902.png\n"
     ]
    },
    {
     "name": "stderr",
     "output_type": "stream",
     "text": [
      "\r",
      "  0%|▏                                                                         | 331/132269 [05:36<38:50:38,  1.06s/it]"
     ]
    },
    {
     "name": "stdout",
     "output_type": "stream",
     "text": [
      "Warning: Could not download image human_ears\\330 from https://safebooru.org/thumbnails/71/thumbnail_9f18c7584c18c350f9a43ac20f4d5e09260d2709.png\n"
     ]
    },
    {
     "name": "stderr",
     "output_type": "stream",
     "text": [
      "\r",
      "  0%|▏                                                                         | 332/132269 [05:37<39:07:12,  1.07s/it]"
     ]
    },
    {
     "name": "stdout",
     "output_type": "stream",
     "text": [
      "Warning: Could not download image human_ears\\331 from https://safebooru.org/thumbnails/71/thumbnail_5373406172333e4a7638d38780656bb4d6ef5249.png\n"
     ]
    },
    {
     "name": "stderr",
     "output_type": "stream",
     "text": [
      "  0%|▏                                                                         | 339/132269 [05:44<40:43:45,  1.11s/it]"
     ]
    },
    {
     "name": "stdout",
     "output_type": "stream",
     "text": [
      "Warning: Could not download image human_ears\\338 from https://safebooru.org/thumbnails/72/thumbnail_66d0eee873d3bba3e0affd23e5d1d874ca06fbcd.png\n"
     ]
    },
    {
     "name": "stderr",
     "output_type": "stream",
     "text": [
      "  0%|▏                                                                         | 345/132269 [05:51<39:38:18,  1.08s/it]"
     ]
    },
    {
     "name": "stdout",
     "output_type": "stream",
     "text": [
      "Warning: Could not download image human_ears\\344 from https://safebooru.org/thumbnails/73/thumbnail_99ce4cc3745fa15599514c090c9ebe0de6b987d0.gif\n"
     ]
    },
    {
     "name": "stderr",
     "output_type": "stream",
     "text": [
      "  0%|▏                                                                         | 349/132269 [05:55<38:50:48,  1.06s/it]"
     ]
    },
    {
     "name": "stdout",
     "output_type": "stream",
     "text": [
      "Warning: Could not download image human_ears\\348 from https://safebooru.org/thumbnails/73/thumbnail_030d47c8f218882f2ffea8416ab27f3b44399edc.png\n"
     ]
    },
    {
     "name": "stderr",
     "output_type": "stream",
     "text": [
      "  0%|▏                                                                         | 356/132269 [06:03<38:58:39,  1.06s/it]"
     ]
    },
    {
     "name": "stdout",
     "output_type": "stream",
     "text": [
      "Warning: Could not download image human_ears\\355 from https://safebooru.org/thumbnails/73/thumbnail_ac0b5bd5c6b9e1e60b4a82da715baddce0bc8836.png\n"
     ]
    },
    {
     "name": "stderr",
     "output_type": "stream",
     "text": [
      "  0%|▏                                                                         | 360/132269 [06:07<39:27:11,  1.08s/it]"
     ]
    },
    {
     "name": "stdout",
     "output_type": "stream",
     "text": [
      "Warning: Could not download image human_ears\\359 from https://safebooru.org/thumbnails/74/thumbnail_8f6905f44371a5555cb7fe9f8ad3e21e18576c70.jpeg\n"
     ]
    },
    {
     "name": "stderr",
     "output_type": "stream",
     "text": [
      "  0%|▏                                                                         | 364/132269 [06:11<39:26:58,  1.08s/it]"
     ]
    },
    {
     "name": "stdout",
     "output_type": "stream",
     "text": [
      "Warning: Could not download image human_ears\\363 from https://safebooru.org/thumbnails/74/thumbnail_5b711517cde0ce97fa1062d74c5f5b4134e625b1.png\n"
     ]
    },
    {
     "name": "stderr",
     "output_type": "stream",
     "text": [
      "  0%|▏                                                                         | 369/132269 [06:17<41:04:47,  1.12s/it]"
     ]
    },
    {
     "name": "stdout",
     "output_type": "stream",
     "text": [
      "Warning: Could not download image human_ears\\368 from https://safebooru.org/thumbnails/74/thumbnail_281ffe03af38a43fe3d9af0512e5aff9b837ab75.png\n"
     ]
    },
    {
     "name": "stderr",
     "output_type": "stream",
     "text": [
      "\r",
      "  0%|▏                                                                         | 370/132269 [06:18<40:22:32,  1.10s/it]"
     ]
    },
    {
     "name": "stdout",
     "output_type": "stream",
     "text": [
      "Warning: Could not download image human_ears\\369 from https://safebooru.org/thumbnails/74/thumbnail_c26121a9b80d102a687d8558de684f7567996dd5.png\n"
     ]
    },
    {
     "name": "stderr",
     "output_type": "stream",
     "text": [
      "  0%|▏                                                                         | 374/132269 [06:22<39:07:38,  1.07s/it]"
     ]
    },
    {
     "name": "stdout",
     "output_type": "stream",
     "text": [
      "Warning: Could not download image human_ears\\373 from https://safebooru.org/thumbnails/75/thumbnail_69f0b38b4f5d12b619e211818a9f2591290476ef.png\n"
     ]
    },
    {
     "name": "stderr",
     "output_type": "stream",
     "text": [
      "  0%|▏                                                                         | 378/132269 [06:27<41:54:40,  1.14s/it]"
     ]
    },
    {
     "name": "stdout",
     "output_type": "stream",
     "text": [
      "Warning: Could not download image human_ears\\377 from https://safebooru.org/thumbnails/75/thumbnail_484fda24570d7f9ae3d81a35538e4d54dbcc5f81.png\n"
     ]
    },
    {
     "name": "stderr",
     "output_type": "stream",
     "text": [
      "  0%|▏                                                                         | 397/132269 [06:48<39:54:42,  1.09s/it]"
     ]
    },
    {
     "name": "stdout",
     "output_type": "stream",
     "text": [
      "Warning: Could not download image human_ears\\396 from https://safebooru.org/thumbnails/76/thumbnail_f00495ff6458d64e091945e4d8d2b5084b7a95fa.png\n"
     ]
    },
    {
     "name": "stderr",
     "output_type": "stream",
     "text": [
      "  0%|▏                                                                         | 399/132269 [06:50<39:09:43,  1.07s/it]"
     ]
    },
    {
     "name": "stdout",
     "output_type": "stream",
     "text": [
      "Warning: Could not download image human_ears\\398 from https://safebooru.org/thumbnails/76/thumbnail_ff1f35333d9615da666b8ca27e75265c2fb81d91.png\n"
     ]
    },
    {
     "name": "stderr",
     "output_type": "stream",
     "text": [
      "  0%|▏                                                                         | 405/132269 [06:57<38:45:28,  1.06s/it]"
     ]
    },
    {
     "name": "stdout",
     "output_type": "stream",
     "text": [
      "Warning: Could not download image human_ears\\404 from https://safebooru.org/thumbnails/76/thumbnail_c816ea61720add6c67e8e8e98dd33b785a758cfd.png\n"
     ]
    },
    {
     "name": "stderr",
     "output_type": "stream",
     "text": [
      "\r",
      "  0%|▏                                                                         | 406/132269 [06:58<38:43:09,  1.06s/it]"
     ]
    },
    {
     "name": "stdout",
     "output_type": "stream",
     "text": [
      "Warning: Could not download image human_ears\\405 from https://safebooru.org/thumbnails/76/thumbnail_3d5838d6131abad53d61548f852cfcc826036ed2.png\n"
     ]
    },
    {
     "name": "stderr",
     "output_type": "stream",
     "text": [
      "  0%|▏                                                                         | 415/132269 [07:08<39:47:28,  1.09s/it]"
     ]
    },
    {
     "name": "stdout",
     "output_type": "stream",
     "text": [
      "Warning: Could not download image human_ears\\414 from https://safebooru.org/thumbnails/77/thumbnail_cd8ecdca65a4b46c88a34f731b9f243ad9000938.png\n"
     ]
    },
    {
     "name": "stderr",
     "output_type": "stream",
     "text": [
      "  0%|▏                                                                         | 427/132269 [07:20<38:26:07,  1.05s/it]"
     ]
    },
    {
     "name": "stdout",
     "output_type": "stream",
     "text": [
      "Warning: Could not download image human_ears\\426 from https://safebooru.org/thumbnails/78/thumbnail_f94ca7302c1a8ec6a518b574c0e3af4a064d0ce3.png\n"
     ]
    },
    {
     "name": "stderr",
     "output_type": "stream",
     "text": [
      "  0%|▏                                                                         | 432/132269 [07:26<39:15:28,  1.07s/it]"
     ]
    },
    {
     "name": "stdout",
     "output_type": "stream",
     "text": [
      "Warning: Could not download image human_ears\\431 from https://safebooru.org/thumbnails/79/thumbnail_359c4bcdedbda9c8c7f939b7673fc5585b49ac76.png\n"
     ]
    },
    {
     "name": "stderr",
     "output_type": "stream",
     "text": [
      "\r",
      "  0%|▏                                                                         | 433/132269 [07:27<38:58:48,  1.06s/it]"
     ]
    },
    {
     "name": "stdout",
     "output_type": "stream",
     "text": [
      "Warning: Could not download image human_ears\\432 from https://safebooru.org/thumbnails/79/thumbnail_bd55d6c71f7a8ef2ca206276783523930b52a469.png\n"
     ]
    },
    {
     "name": "stderr",
     "output_type": "stream",
     "text": [
      "  0%|▎                                                                         | 450/132269 [07:46<42:51:46,  1.17s/it]"
     ]
    },
    {
     "name": "stdout",
     "output_type": "stream",
     "text": [
      "Warning: Could not download image human_ears\\449 from https://safebooru.org/thumbnails/80/thumbnail_88f52d3131238b1ca98607d63ed0ef683f76a91d.png\n"
     ]
    },
    {
     "name": "stderr",
     "output_type": "stream",
     "text": [
      "\r",
      "  0%|▎                                                                         | 451/132269 [07:47<44:43:02,  1.22s/it]"
     ]
    },
    {
     "name": "stdout",
     "output_type": "stream",
     "text": [
      "Warning: Could not download image human_ears\\450 from https://safebooru.org/thumbnails/80/thumbnail_9fc696b9fb9cb0220589050085835734d110e4b7.png\n"
     ]
    },
    {
     "name": "stderr",
     "output_type": "stream",
     "text": [
      "  0%|▎                                                                         | 456/132269 [07:52<38:14:58,  1.04s/it]"
     ]
    },
    {
     "name": "stdout",
     "output_type": "stream",
     "text": [
      "Warning: Could not download image human_ears\\455 from https://safebooru.org/thumbnails/80/thumbnail_41593863c1ca959e3ebe21e2e772c408712bbc85.png\n"
     ]
    },
    {
     "name": "stderr",
     "output_type": "stream",
     "text": [
      "  0%|▎                                                                         | 458/132269 [07:54<38:29:41,  1.05s/it]"
     ]
    },
    {
     "name": "stdout",
     "output_type": "stream",
     "text": [
      "Warning: Could not download image human_ears\\457 from https://safebooru.org/thumbnails/80/thumbnail_2da639e3ab53b57f647280d28119911f52429b9f.png\n"
     ]
    },
    {
     "name": "stderr",
     "output_type": "stream",
     "text": [
      "\r",
      "  0%|▎                                                                         | 459/132269 [07:56<38:36:18,  1.05s/it]"
     ]
    },
    {
     "name": "stdout",
     "output_type": "stream",
     "text": [
      "Warning: Could not download image human_ears\\458 from https://safebooru.org/thumbnails/80/thumbnail_2ec34b27cc3e4b736af7c949bbd0f31d5df2857b.png\n"
     ]
    },
    {
     "name": "stderr",
     "output_type": "stream",
     "text": [
      "\r",
      "  0%|▎                                                                         | 460/132269 [07:57<38:45:52,  1.06s/it]"
     ]
    },
    {
     "name": "stdout",
     "output_type": "stream",
     "text": [
      "Warning: Could not download image human_ears\\459 from https://safebooru.org/thumbnails/80/thumbnail_1bd38b6124c801109f3e3992726027583ff29379.png\n"
     ]
    },
    {
     "name": "stderr",
     "output_type": "stream",
     "text": [
      "\r",
      "  0%|▎                                                                         | 461/132269 [07:58<38:40:16,  1.06s/it]"
     ]
    },
    {
     "name": "stdout",
     "output_type": "stream",
     "text": [
      "Warning: Could not download image human_ears\\460 from https://safebooru.org/thumbnails/80/thumbnail_041be8f34bd98415ea060548633576687e513a14.png\n"
     ]
    },
    {
     "name": "stderr",
     "output_type": "stream",
     "text": [
      "  0%|▎                                                                         | 463/132269 [08:00<38:46:31,  1.06s/it]"
     ]
    },
    {
     "name": "stdout",
     "output_type": "stream",
     "text": [
      "Warning: Could not download image human_ears\\462 from https://safebooru.org/thumbnails/81/thumbnail_12978d803cac67a66cb7d449dd8e1e59941aa147.png\n"
     ]
    },
    {
     "name": "stderr",
     "output_type": "stream",
     "text": [
      "\r",
      "  0%|▎                                                                         | 464/132269 [08:01<39:17:02,  1.07s/it]"
     ]
    },
    {
     "name": "stdout",
     "output_type": "stream",
     "text": [
      "Warning: Could not download image human_ears\\463 from https://safebooru.org/thumbnails/81/thumbnail_80a02e590ddbd00bd619a673955ff7e146922c6b.png\n"
     ]
    },
    {
     "name": "stderr",
     "output_type": "stream",
     "text": [
      "\r",
      "  0%|▎                                                                         | 465/132269 [08:02<39:49:34,  1.09s/it]"
     ]
    },
    {
     "name": "stdout",
     "output_type": "stream",
     "text": [
      "Warning: Could not download image human_ears\\464 from https://safebooru.org/thumbnails/81/thumbnail_3df904b3ddd4640f1f5ae7a9630c744d46e880f4.png\n"
     ]
    },
    {
     "name": "stderr",
     "output_type": "stream",
     "text": [
      "  0%|▎                                                                         | 467/132269 [08:04<40:08:49,  1.10s/it]"
     ]
    },
    {
     "name": "stdout",
     "output_type": "stream",
     "text": [
      "Warning: Could not download image human_ears\\466 from https://safebooru.org/thumbnails/81/thumbnail_63f52f33e033817671e2442ebcbb8cbe765758e5.png\n"
     ]
    },
    {
     "name": "stderr",
     "output_type": "stream",
     "text": [
      "  0%|▎                                                                         | 470/132269 [08:08<43:01:06,  1.18s/it]"
     ]
    },
    {
     "name": "stdout",
     "output_type": "stream",
     "text": [
      "Warning: Could not download image human_ears\\469 from https://safebooru.org/thumbnails/81/thumbnail_5609ac2cfec474d5638aaa769d4e434ec95b077d.png\n"
     ]
    },
    {
     "name": "stderr",
     "output_type": "stream",
     "text": [
      "\r",
      "  0%|▎                                                                         | 471/132269 [08:09<41:45:13,  1.14s/it]"
     ]
    },
    {
     "name": "stdout",
     "output_type": "stream",
     "text": [
      "Warning: Could not download image human_ears\\470 from https://safebooru.org/thumbnails/81/thumbnail_4d4b6ef4a59d5014a2bca457e06b59a19a527577.png\n"
     ]
    },
    {
     "name": "stderr",
     "output_type": "stream",
     "text": [
      "  0%|▎                                                                         | 476/132269 [08:14<41:58:22,  1.15s/it]"
     ]
    },
    {
     "name": "stdout",
     "output_type": "stream",
     "text": [
      "Warning: Could not download image human_ears\\475 from https://safebooru.org/thumbnails/81/thumbnail_c76e9ad9319d7d35f55453a056104bd3195b0cae.png\n"
     ]
    },
    {
     "name": "stderr",
     "output_type": "stream",
     "text": [
      "  0%|▎                                                                         | 478/132269 [08:17<41:09:30,  1.12s/it]"
     ]
    },
    {
     "name": "stdout",
     "output_type": "stream",
     "text": [
      "Warning: Could not download image human_ears\\477 from https://safebooru.org/thumbnails/81/thumbnail_df706e6840d1a4da78e834700d38e881c20494f7.png\n"
     ]
    },
    {
     "name": "stderr",
     "output_type": "stream",
     "text": [
      "\r",
      "  0%|▎                                                                         | 479/132269 [08:18<41:07:19,  1.12s/it]"
     ]
    },
    {
     "name": "stdout",
     "output_type": "stream",
     "text": [
      "Warning: Could not download image human_ears\\478 from https://safebooru.org/thumbnails/81/thumbnail_ed35b12f1341d18fed48dbb6565b72cbc25a4d19.png\n"
     ]
    },
    {
     "name": "stderr",
     "output_type": "stream",
     "text": [
      "\r",
      "  0%|▎                                                                         | 480/132269 [08:19<42:49:45,  1.17s/it]"
     ]
    },
    {
     "name": "stdout",
     "output_type": "stream",
     "text": [
      "Warning: Could not download image human_ears\\479 from https://safebooru.org/thumbnails/81/thumbnail_7275f226c943bd36887760a44811ebb7e4888390.png\n"
     ]
    },
    {
     "name": "stderr",
     "output_type": "stream",
     "text": [
      "\r",
      "  0%|▎                                                                         | 481/132269 [08:20<41:42:49,  1.14s/it]"
     ]
    },
    {
     "name": "stdout",
     "output_type": "stream",
     "text": [
      "Warning: Could not download image human_ears\\480 from https://safebooru.org/thumbnails/81/thumbnail_ae0990f8109e53b80274238ab7669c5004304eb8.png\n"
     ]
    },
    {
     "name": "stderr",
     "output_type": "stream",
     "text": [
      "  0%|▎                                                                         | 515/132269 [08:57<40:19:29,  1.10s/it]"
     ]
    },
    {
     "name": "stdout",
     "output_type": "stream",
     "text": [
      "Warning: Could not download image human_ears\\514 from https://safebooru.org/thumbnails/84/thumbnail_41d4eb42ae981a321b1b8ef26d847a369b4a8d7e.gif\n"
     ]
    },
    {
     "name": "stderr",
     "output_type": "stream",
     "text": [
      "  0%|▎                                                                         | 531/132269 [09:16<41:28:37,  1.13s/it]"
     ]
    },
    {
     "name": "stdout",
     "output_type": "stream",
     "text": [
      "Warning: Could not download image human_ears\\530 from https://safebooru.org/thumbnails/85/thumbnail_e5d40dc7e55f4385a7d977d0628e0ac5fee6ddd0.png\n"
     ]
    },
    {
     "name": "stderr",
     "output_type": "stream",
     "text": [
      "  0%|▎                                                                         | 544/132269 [09:32<47:02:10,  1.29s/it]"
     ]
    },
    {
     "name": "stdout",
     "output_type": "stream",
     "text": [
      "Warning: Could not download image human_ears\\543 from https://safebooru.org/thumbnails/85/thumbnail_3e815b51171afa126e2ac85f739900b33c27f581.jpeg\n"
     ]
    },
    {
     "name": "stderr",
     "output_type": "stream",
     "text": [
      "  0%|▎                                                                         | 547/132269 [09:35<41:40:04,  1.14s/it]"
     ]
    },
    {
     "name": "stdout",
     "output_type": "stream",
     "text": [
      "Warning: Could not download image human_ears\\546 from https://safebooru.org/thumbnails/85/thumbnail_310a1cdf96882f8b68a71d69b3dc2e5a1eb28bd5.png\n"
     ]
    },
    {
     "name": "stderr",
     "output_type": "stream",
     "text": [
      "  0%|▎                                                                         | 550/132269 [09:38<42:32:30,  1.16s/it]"
     ]
    },
    {
     "name": "stdout",
     "output_type": "stream",
     "text": [
      "Warning: Could not download image human_ears\\549 from https://safebooru.org/thumbnails/85/thumbnail_a12be2c73a46709ee7c53bfbcd1cdc1d627f614b.png\n"
     ]
    },
    {
     "name": "stderr",
     "output_type": "stream",
     "text": [
      "  0%|▎                                                                         | 554/132269 [09:43<41:32:23,  1.14s/it]"
     ]
    },
    {
     "name": "stdout",
     "output_type": "stream",
     "text": [
      "Warning: Could not download image human_ears\\553 from https://safebooru.org/thumbnails/86/thumbnail_bbf4c9ecf1728912cee3e3a8208fc8d5f96a7b78.png\n"
     ]
    },
    {
     "name": "stderr",
     "output_type": "stream",
     "text": [
      "  0%|▎                                                                         | 557/132269 [09:46<42:59:42,  1.18s/it]"
     ]
    },
    {
     "name": "stdout",
     "output_type": "stream",
     "text": [
      "Warning: Could not download image human_ears\\556 from https://safebooru.org/thumbnails/86/thumbnail_a8a556e1b34c8b77336e6a8a66426e5545ece6e3.png\n"
     ]
    },
    {
     "name": "stderr",
     "output_type": "stream",
     "text": [
      "\r",
      "  0%|▎                                                                         | 558/132269 [09:47<41:36:41,  1.14s/it]"
     ]
    },
    {
     "name": "stdout",
     "output_type": "stream",
     "text": [
      "Warning: Could not download image human_ears\\557 from https://safebooru.org/thumbnails/86/thumbnail_e47cdb0f0b0a7266b508487945514157651c3592.png\n"
     ]
    },
    {
     "name": "stderr",
     "output_type": "stream",
     "text": [
      "  0%|▎                                                                         | 563/132269 [09:53<38:57:32,  1.06s/it]"
     ]
    },
    {
     "name": "stdout",
     "output_type": "stream",
     "text": [
      "Warning: Could not download image human_ears\\562 from https://safebooru.org/thumbnails/86/thumbnail_29da88c90411fc59076347f494736b32975d3f72.png\n"
     ]
    },
    {
     "name": "stderr",
     "output_type": "stream",
     "text": [
      "  0%|▎                                                                         | 568/132269 [09:58<38:48:33,  1.06s/it]"
     ]
    },
    {
     "name": "stdout",
     "output_type": "stream",
     "text": [
      "Warning: Could not download image human_ears\\567 from https://safebooru.org/thumbnails/87/thumbnail_64040a6ef9bcb0206614e0ddf6eb18702e61d708.png\n"
     ]
    },
    {
     "name": "stderr",
     "output_type": "stream",
     "text": [
      "  0%|▎                                                                         | 572/132269 [10:02<40:20:19,  1.10s/it]"
     ]
    },
    {
     "name": "stdout",
     "output_type": "stream",
     "text": [
      "Warning: Could not download image human_ears\\571 from https://safebooru.org/thumbnails/87/thumbnail_1172c0ca280034af8be8b2cb2aae53ea8977798e.png\n"
     ]
    },
    {
     "name": "stderr",
     "output_type": "stream",
     "text": [
      "  0%|▎                                                                         | 574/132269 [10:05<40:15:20,  1.10s/it]"
     ]
    },
    {
     "name": "stdout",
     "output_type": "stream",
     "text": [
      "Warning: Could not download image human_ears\\573 from https://safebooru.org/thumbnails/87/thumbnail_32a9d13c381b2460495d0c9fcdf96c0c892be783.png\n"
     ]
    },
    {
     "name": "stderr",
     "output_type": "stream",
     "text": [
      "  0%|▎                                                                         | 576/132269 [10:07<39:53:57,  1.09s/it]"
     ]
    },
    {
     "name": "stdout",
     "output_type": "stream",
     "text": [
      "Warning: Could not download image human_ears\\575 from https://safebooru.org/thumbnails/88/thumbnail_71d5eb0873f90404587281b8777e0a8ccaaede3e.png\n"
     ]
    },
    {
     "name": "stderr",
     "output_type": "stream",
     "text": [
      "  0%|▎                                                                         | 583/132269 [10:14<40:07:56,  1.10s/it]"
     ]
    },
    {
     "name": "stdout",
     "output_type": "stream",
     "text": [
      "Warning: Could not download image human_ears\\582 from https://safebooru.org/thumbnails/88/thumbnail_602765cf8e2c2fdc21bb948c628839c30973c7e5.png\n"
     ]
    },
    {
     "name": "stderr",
     "output_type": "stream",
     "text": [
      "  0%|▎                                                                         | 586/132269 [10:18<39:39:15,  1.08s/it]"
     ]
    },
    {
     "name": "stdout",
     "output_type": "stream",
     "text": [
      "Warning: Could not download image human_ears\\585 from https://safebooru.org/thumbnails/89/thumbnail_93973f162577253479a7a246b8904574e4108677.png\n"
     ]
    },
    {
     "name": "stderr",
     "output_type": "stream",
     "text": [
      "  0%|▎                                                                         | 592/132269 [10:25<44:24:09,  1.21s/it]"
     ]
    },
    {
     "name": "stdout",
     "output_type": "stream",
     "text": [
      "Warning: Could not download image human_ears\\591 from https://safebooru.org/thumbnails/89/thumbnail_3c06a572c9d3b5daf876c16197de66d95566a612.png\n"
     ]
    },
    {
     "name": "stderr",
     "output_type": "stream",
     "text": [
      "  0%|▎                                                                         | 607/132269 [10:42<41:19:12,  1.13s/it]"
     ]
    },
    {
     "name": "stdout",
     "output_type": "stream",
     "text": [
      "Warning: Could not download image human_ears\\606 from https://safebooru.org/thumbnails/90/thumbnail_a498bc0e1b6c40342b79b2a2fd740c9b4e8c6d2c.png\n"
     ]
    },
    {
     "name": "stderr",
     "output_type": "stream",
     "text": [
      "  0%|▎                                                                         | 615/132269 [10:51<39:19:49,  1.08s/it]"
     ]
    },
    {
     "name": "stdout",
     "output_type": "stream",
     "text": [
      "Warning: Could not download image human_ears\\614 from https://safebooru.org/thumbnails/91/thumbnail_29cb5db60a67251204adecbf50239ea0b770089f.png\n"
     ]
    },
    {
     "name": "stderr",
     "output_type": "stream",
     "text": [
      "  0%|▎                                                                         | 617/132269 [10:53<39:21:35,  1.08s/it]"
     ]
    },
    {
     "name": "stdout",
     "output_type": "stream",
     "text": [
      "Warning: Could not download image human_ears\\616 from https://safebooru.org/thumbnails/91/thumbnail_1984f470af57b53f5006864b1383cba19b9bf51d.png\n"
     ]
    },
    {
     "name": "stderr",
     "output_type": "stream",
     "text": [
      "\r",
      "  0%|▎                                                                         | 618/132269 [10:54<38:55:52,  1.06s/it]"
     ]
    },
    {
     "name": "stdout",
     "output_type": "stream",
     "text": [
      "Warning: Could not download image human_ears\\617 from https://safebooru.org/thumbnails/91/thumbnail_8bd3e1704d9ec9e87ccd06c2919c3d364e00c56e.png\n"
     ]
    },
    {
     "name": "stderr",
     "output_type": "stream",
     "text": [
      "  0%|▎                                                                         | 622/132269 [10:58<41:08:25,  1.13s/it]"
     ]
    },
    {
     "name": "stdout",
     "output_type": "stream",
     "text": [
      "Warning: Could not download image human_ears\\621 from https://safebooru.org/thumbnails/91/thumbnail_b6d6a86384caac1b44dde44845be9983b6686175.gif\n"
     ]
    },
    {
     "name": "stderr",
     "output_type": "stream",
     "text": [
      "\r",
      "  0%|▎                                                                         | 623/132269 [10:59<42:13:20,  1.15s/it]"
     ]
    },
    {
     "name": "stdout",
     "output_type": "stream",
     "text": [
      "Warning: Could not download image human_ears\\622 from https://safebooru.org/thumbnails/91/thumbnail_f4ae462a335a39bd218a50917509f278f5055913.gif\n"
     ]
    },
    {
     "name": "stderr",
     "output_type": "stream",
     "text": [
      "  0%|▎                                                                         | 630/132269 [11:07<40:56:09,  1.12s/it]"
     ]
    },
    {
     "name": "stdout",
     "output_type": "stream",
     "text": [
      "Warning: Could not download image human_ears\\629 from https://safebooru.org/thumbnails/92/thumbnail_49de1cafbb24bb27aad131b1affeed696cc17694.png\n"
     ]
    },
    {
     "name": "stderr",
     "output_type": "stream",
     "text": [
      "\r",
      "  0%|▎                                                                         | 631/132269 [11:08<40:50:08,  1.12s/it]"
     ]
    },
    {
     "name": "stdout",
     "output_type": "stream",
     "text": [
      "Warning: Could not download image human_ears\\630 from https://safebooru.org/thumbnails/92/thumbnail_ef52b75e2a8c13aa01196e11e30dcf1c689c3486.png\n"
     ]
    },
    {
     "name": "stderr",
     "output_type": "stream",
     "text": [
      "\r",
      "  0%|▎                                                                         | 632/132269 [11:09<40:49:04,  1.12s/it]"
     ]
    },
    {
     "name": "stdout",
     "output_type": "stream",
     "text": [
      "Warning: Could not download image human_ears\\631 from https://safebooru.org/thumbnails/92/thumbnail_0209cdbbd8be15c331cd3251b76af7bdca016093.png\n"
     ]
    },
    {
     "name": "stderr",
     "output_type": "stream",
     "text": [
      "  0%|▎                                                                         | 639/132269 [11:17<39:37:16,  1.08s/it]"
     ]
    },
    {
     "name": "stdout",
     "output_type": "stream",
     "text": [
      "Warning: Could not download image human_ears\\638 from https://safebooru.org/thumbnails/92/thumbnail_81f56589f8dd2846030b7c39642c0835a5e775d5.jpeg\n"
     ]
    },
    {
     "name": "stderr",
     "output_type": "stream",
     "text": [
      "  0%|▎                                                                         | 646/132269 [11:25<43:58:25,  1.20s/it]"
     ]
    },
    {
     "name": "stdout",
     "output_type": "stream",
     "text": [
      "Warning: Could not download image human_ears\\645 from https://safebooru.org/thumbnails/93/thumbnail_02c46e294ef29fb0567a44a88acd105ab3e9bf71.png\n"
     ]
    },
    {
     "name": "stderr",
     "output_type": "stream",
     "text": [
      "\r",
      "  0%|▎                                                                         | 647/132269 [11:26<45:29:53,  1.24s/it]"
     ]
    },
    {
     "name": "stdout",
     "output_type": "stream",
     "text": [
      "Warning: Could not download image human_ears\\646 from https://safebooru.org/thumbnails/93/thumbnail_8efc1fdd90321c99abc353b2b16ad37d29cfc330.png\n"
     ]
    },
    {
     "name": "stderr",
     "output_type": "stream",
     "text": [
      "  0%|▎                                                                         | 650/132269 [11:30<46:54:36,  1.28s/it]"
     ]
    },
    {
     "name": "stdout",
     "output_type": "stream",
     "text": [
      "Warning: Could not download image human_ears\\649 from https://safebooru.org/thumbnails/93/thumbnail_5e46b8b77ba8cd0e75be7f76af8a1da6432657bc.png\n"
     ]
    },
    {
     "name": "stderr",
     "output_type": "stream",
     "text": [
      "  0%|▎                                                                         | 659/132269 [11:40<43:23:07,  1.19s/it]"
     ]
    },
    {
     "name": "stdout",
     "output_type": "stream",
     "text": [
      "Warning: Could not download image human_ears\\658 from https://safebooru.org/thumbnails/94/thumbnail_781c994d162ea9f90d02c31a9096a1ab094d6ed6.png\n"
     ]
    },
    {
     "name": "stderr",
     "output_type": "stream",
     "text": [
      "  1%|▎                                                                         | 664/132269 [11:47<45:05:40,  1.23s/it]"
     ]
    },
    {
     "name": "stdout",
     "output_type": "stream",
     "text": [
      "Warning: Could not download image human_ears\\663 from https://safebooru.org/thumbnails/94/thumbnail_35b21784503ac1bea33c7d875d5b4853d676c4ec.png\n"
     ]
    },
    {
     "name": "stderr",
     "output_type": "stream",
     "text": [
      "\r",
      "  1%|▎                                                                         | 665/132269 [11:48<44:23:06,  1.21s/it]"
     ]
    },
    {
     "name": "stdout",
     "output_type": "stream",
     "text": [
      "Warning: Could not download image human_ears\\664 from https://safebooru.org/thumbnails/94/thumbnail_3aa30f4ab86d092dddb2d1c4304ff578d0622c1c.png\n"
     ]
    },
    {
     "name": "stderr",
     "output_type": "stream",
     "text": [
      "  1%|▍                                                                         | 676/132269 [12:00<41:19:33,  1.13s/it]"
     ]
    },
    {
     "name": "stdout",
     "output_type": "stream",
     "text": [
      "Warning: Could not download image human_ears\\675 from https://safebooru.org/thumbnails/95/thumbnail_dfb2c2098052d5671b2f9b1b7dde4a8ef11fc5cc.png\n"
     ]
    },
    {
     "name": "stderr",
     "output_type": "stream",
     "text": [
      "  1%|▍                                                                         | 687/132269 [12:12<38:49:32,  1.06s/it]"
     ]
    },
    {
     "name": "stdout",
     "output_type": "stream",
     "text": [
      "Warning: Could not download image human_ears\\686 from https://safebooru.org/thumbnails/96/thumbnail_7d8f19b82744376329a24fdfb40cb620c3eda1f8.png\n"
     ]
    },
    {
     "name": "stderr",
     "output_type": "stream",
     "text": [
      "  1%|▍                                                                         | 697/132269 [12:26<58:36:00,  1.60s/it]"
     ]
    },
    {
     "name": "stdout",
     "output_type": "stream",
     "text": [
      "Warning: Could not download image human_ears\\696 from https://safebooru.org/thumbnails/97/thumbnail_6463156b76fc54956224334c9a592e8b96316433.jpeg\n"
     ]
    },
    {
     "name": "stderr",
     "output_type": "stream",
     "text": [
      "\r",
      "  1%|▍                                                                         | 698/132269 [12:27<54:19:23,  1.49s/it]"
     ]
    },
    {
     "name": "stdout",
     "output_type": "stream",
     "text": [
      "Warning: Could not download image human_ears\\697 from https://safebooru.org/thumbnails/97/thumbnail_31375898d3eced7e736f1e8b14860690c6da1542.png\n"
     ]
    },
    {
     "name": "stderr",
     "output_type": "stream",
     "text": [
      "  1%|▍                                                                         | 700/132269 [12:29<51:26:17,  1.41s/it]"
     ]
    },
    {
     "name": "stdout",
     "output_type": "stream",
     "text": [
      "Warning: Could not download image human_ears\\699 from https://safebooru.org/thumbnails/97/thumbnail_6a4d7f816b35b765462c000d75d3cf74092e1f44.png\n"
     ]
    },
    {
     "name": "stderr",
     "output_type": "stream",
     "text": [
      "  1%|▍                                                                         | 702/132269 [12:32<45:37:50,  1.25s/it]"
     ]
    },
    {
     "name": "stdout",
     "output_type": "stream",
     "text": [
      "Warning: Could not download image human_ears\\701 from https://safebooru.org/thumbnails/97/thumbnail_75d7ec6b216c3da689e82db4009321e3917faa4f.png\n"
     ]
    },
    {
     "name": "stderr",
     "output_type": "stream",
     "text": [
      "\r",
      "  1%|▍                                                                         | 703/132269 [12:33<43:21:06,  1.19s/it]"
     ]
    },
    {
     "name": "stdout",
     "output_type": "stream",
     "text": [
      "Warning: Could not download image human_ears\\702 from https://safebooru.org/thumbnails/98/thumbnail_31463f80bf7eddfb3348753fa2ccbae14670c383.png\n"
     ]
    },
    {
     "name": "stderr",
     "output_type": "stream",
     "text": [
      "  1%|▍                                                                         | 706/132269 [12:36<41:29:30,  1.14s/it]"
     ]
    },
    {
     "name": "stdout",
     "output_type": "stream",
     "text": [
      "Warning: Could not download image human_ears\\705 from https://safebooru.org/thumbnails/98/thumbnail_d7da2f2ed95176bb9b9eaf4dbef28c535faff4f0.jpeg\n"
     ]
    },
    {
     "name": "stderr",
     "output_type": "stream",
     "text": [
      "  1%|▍                                                                         | 709/132269 [12:39<41:38:47,  1.14s/it]"
     ]
    },
    {
     "name": "stdout",
     "output_type": "stream",
     "text": [
      "Warning: Could not download image human_ears\\708 from https://safebooru.org/thumbnails/98/thumbnail_4a24b7cf1030f0825e6d409c6c4ed3e741273cc2.png\n"
     ]
    },
    {
     "name": "stderr",
     "output_type": "stream",
     "text": [
      "  1%|▍                                                                         | 712/132269 [12:43<43:54:14,  1.20s/it]"
     ]
    },
    {
     "name": "stdout",
     "output_type": "stream",
     "text": [
      "Warning: Could not download image human_ears\\711 from https://safebooru.org/thumbnails/98/thumbnail_04f4d46d233ccdde9636e8c2e0e2c56b6cb3aeb2.jpeg\n"
     ]
    },
    {
     "name": "stderr",
     "output_type": "stream",
     "text": [
      "  1%|▍                                                                         | 716/132269 [12:47<40:16:49,  1.10s/it]"
     ]
    },
    {
     "name": "stdout",
     "output_type": "stream",
     "text": [
      "Warning: Could not download image human_ears\\715 from https://safebooru.org/thumbnails/99/thumbnail_62fa7873ecadec0b55228c615056bae021f197f6.png\n"
     ]
    },
    {
     "name": "stderr",
     "output_type": "stream",
     "text": [
      "  1%|▍                                                                         | 718/132269 [12:49<39:52:32,  1.09s/it]"
     ]
    },
    {
     "name": "stdout",
     "output_type": "stream",
     "text": [
      "Warning: Could not download image human_ears\\717 from https://safebooru.org/thumbnails/99/thumbnail_38130eda9996d5d6a417afdb9a6447d50f593fc4.jpeg\n"
     ]
    },
    {
     "name": "stderr",
     "output_type": "stream",
     "text": [
      "  1%|▍                                                                         | 720/132269 [12:52<39:47:37,  1.09s/it]"
     ]
    },
    {
     "name": "stdout",
     "output_type": "stream",
     "text": [
      "Warning: Could not download image human_ears\\719 from https://safebooru.org/thumbnails/99/thumbnail_e1226d7f3d4ccdbc539b95a7f8f92d7777f0bcfe.png\n"
     ]
    },
    {
     "name": "stderr",
     "output_type": "stream",
     "text": [
      "\r",
      "  1%|▍                                                                         | 721/132269 [12:53<39:20:03,  1.08s/it]"
     ]
    },
    {
     "name": "stdout",
     "output_type": "stream",
     "text": [
      "Warning: Could not download image human_ears\\720 from https://safebooru.org/thumbnails/99/thumbnail_f5c4f58002096bac21d2b0d4b184193bf1006017.gif\n"
     ]
    },
    {
     "name": "stderr",
     "output_type": "stream",
     "text": [
      "  1%|▍                                                                         | 726/132269 [12:58<39:27:19,  1.08s/it]"
     ]
    },
    {
     "name": "stdout",
     "output_type": "stream",
     "text": [
      "Warning: Could not download image human_ears\\725 from https://safebooru.org/thumbnails/100/thumbnail_c3ebffc90a94f5e627bc83e70e25fc22abf7c15d.png\n"
     ]
    },
    {
     "name": "stderr",
     "output_type": "stream",
     "text": [
      "\r",
      "  1%|▍                                                                         | 727/132269 [12:59<39:34:00,  1.08s/it]"
     ]
    },
    {
     "name": "stdout",
     "output_type": "stream",
     "text": [
      "Warning: Could not download image human_ears\\726 from https://safebooru.org/thumbnails/100/thumbnail_1d65daa7b5e5cab1eb19932551bc4d886cc87acd.png\n"
     ]
    },
    {
     "name": "stderr",
     "output_type": "stream",
     "text": [
      "\r",
      "  1%|▍                                                                         | 728/132269 [13:00<38:55:50,  1.07s/it]"
     ]
    },
    {
     "name": "stdout",
     "output_type": "stream",
     "text": [
      "Warning: Could not download image human_ears\\727 from https://safebooru.org/thumbnails/100/thumbnail_8deb9e4c710990884f1869e6bd2231213f8cae40.png\n"
     ]
    },
    {
     "name": "stderr",
     "output_type": "stream",
     "text": [
      "  1%|▍                                                                         | 735/132269 [13:08<40:37:39,  1.11s/it]"
     ]
    },
    {
     "name": "stdout",
     "output_type": "stream",
     "text": [
      "Warning: Could not download image human_ears\\734 from https://safebooru.org/thumbnails/101/thumbnail_3b42bfc7c9fee80da6408821c16ce5e57f56cf68.png\n"
     ]
    },
    {
     "name": "stderr",
     "output_type": "stream",
     "text": [
      "  1%|▍                                                                         | 737/132269 [13:10<39:58:17,  1.09s/it]"
     ]
    },
    {
     "name": "stdout",
     "output_type": "stream",
     "text": [
      "Warning: Could not download image human_ears\\736 from https://safebooru.org/thumbnails/101/thumbnail_c32312fad24778e79023d2514f9f4648d481f240.png\n"
     ]
    },
    {
     "name": "stderr",
     "output_type": "stream",
     "text": [
      "  1%|▍                                                                         | 740/132269 [13:13<39:10:47,  1.07s/it]"
     ]
    },
    {
     "name": "stdout",
     "output_type": "stream",
     "text": [
      "Warning: Could not download image human_ears\\739 from https://safebooru.org/thumbnails/102/thumbnail_e21492a43dc457e7b8a2d89fcf2868f2b6c6ba0e.png\n"
     ]
    },
    {
     "name": "stderr",
     "output_type": "stream",
     "text": [
      "  1%|▍                                                                         | 747/132269 [13:21<40:48:35,  1.12s/it]"
     ]
    },
    {
     "name": "stdout",
     "output_type": "stream",
     "text": [
      "Warning: Could not download image human_ears\\746 from https://safebooru.org/thumbnails/102/thumbnail_7ebf93c7416a35f59fc0324d323202056220159e.png\n"
     ]
    },
    {
     "name": "stderr",
     "output_type": "stream",
     "text": [
      "  1%|▍                                                                         | 756/132269 [13:32<42:18:19,  1.16s/it]"
     ]
    },
    {
     "name": "stdout",
     "output_type": "stream",
     "text": [
      "Warning: Could not download image human_ears\\755 from https://safebooru.org/thumbnails/102/thumbnail_b75ab4326f9e9beea254e444b2feff7d891ee673.png\n"
     ]
    },
    {
     "name": "stderr",
     "output_type": "stream",
     "text": [
      "  1%|▍                                                                         | 758/132269 [13:35<50:50:06,  1.39s/it]"
     ]
    },
    {
     "name": "stdout",
     "output_type": "stream",
     "text": [
      "Warning: Could not download image human_ears\\757 from https://safebooru.org/thumbnails/102/thumbnail_cffa17713646d027f73076873d3087fa6b7083d3.png\n"
     ]
    },
    {
     "name": "stderr",
     "output_type": "stream",
     "text": [
      "\r",
      "  1%|▍                                                                         | 759/132269 [13:36<50:15:35,  1.38s/it]"
     ]
    },
    {
     "name": "stdout",
     "output_type": "stream",
     "text": [
      "Warning: Could not download image human_ears\\758 from https://safebooru.org/thumbnails/102/thumbnail_023ca32767b6a4b423bfedac546592ae37cc93e8.jpeg\n"
     ]
    },
    {
     "name": "stderr",
     "output_type": "stream",
     "text": [
      "  1%|▍                                                                         | 770/132269 [13:48<36:51:41,  1.01s/it]"
     ]
    },
    {
     "name": "stdout",
     "output_type": "stream",
     "text": [
      "Warning: Could not download image human_ears\\769 from https://safebooru.org/thumbnails/103/thumbnail_0bbc8f1f4040d95ac0b7b141bf053d7372ea4e8f.jpeg\n"
     ]
    },
    {
     "name": "stderr",
     "output_type": "stream",
     "text": [
      "\r",
      "  1%|▍                                                                         | 771/132269 [13:49<38:15:27,  1.05s/it]"
     ]
    },
    {
     "name": "stdout",
     "output_type": "stream",
     "text": [
      "Warning: Could not download image human_ears\\770 from https://safebooru.org/thumbnails/103/thumbnail_2d95910242459a8a1e23258fb3bbef944afcf8ca.jpeg\n"
     ]
    },
    {
     "name": "stderr",
     "output_type": "stream",
     "text": [
      "  1%|▍                                                                         | 786/132269 [14:06<40:14:54,  1.10s/it]"
     ]
    },
    {
     "name": "stdout",
     "output_type": "stream",
     "text": [
      "Warning: Could not download image human_ears\\785 from https://safebooru.org/thumbnails/105/thumbnail_9ed7a334ecfc6e061e3341bd4dc37fb61d55e41f.png\n"
     ]
    },
    {
     "name": "stderr",
     "output_type": "stream",
     "text": [
      "  1%|▍                                                                         | 793/132269 [14:14<40:12:26,  1.10s/it]"
     ]
    },
    {
     "name": "stdout",
     "output_type": "stream",
     "text": [
      "Warning: Could not download image human_ears\\792 from https://safebooru.org/thumbnails/106/thumbnail_5591ef5de7036181d26a09ebef5caa5b909d7f85.jpeg\n"
     ]
    },
    {
     "name": "stderr",
     "output_type": "stream",
     "text": [
      "  1%|▍                                                                         | 795/132269 [14:16<40:48:35,  1.12s/it]"
     ]
    },
    {
     "name": "stdout",
     "output_type": "stream",
     "text": [
      "Warning: Could not download image human_ears\\794 from https://safebooru.org/thumbnails/106/thumbnail_7585bda85e85dbe36783bc4db399976a986cd151.png\n"
     ]
    },
    {
     "name": "stderr",
     "output_type": "stream",
     "text": [
      "\r",
      "  1%|▍                                                                         | 796/132269 [14:17<40:05:10,  1.10s/it]"
     ]
    },
    {
     "name": "stdout",
     "output_type": "stream",
     "text": [
      "Warning: Could not download image human_ears\\795 from https://safebooru.org/thumbnails/106/thumbnail_2af4153d59d03a1987d63eb94f05db14164ddeda.png\n"
     ]
    },
    {
     "name": "stderr",
     "output_type": "stream",
     "text": [
      "  1%|▍                                                                         | 816/132269 [14:40<39:29:57,  1.08s/it]"
     ]
    },
    {
     "name": "stdout",
     "output_type": "stream",
     "text": [
      "Warning: Could not download image human_ears\\815 from https://safebooru.org/thumbnails/108/thumbnail_cb92eb5f34fc8777164555a2165258a987023f70.png\n"
     ]
    },
    {
     "name": "stderr",
     "output_type": "stream",
     "text": [
      "  1%|▍                                                                         | 824/132269 [14:49<39:25:02,  1.08s/it]"
     ]
    },
    {
     "name": "stdout",
     "output_type": "stream",
     "text": [
      "Warning: Could not download image human_ears\\823 from https://safebooru.org/thumbnails/109/thumbnail_b6e0c422deed11cfd774a92e1680312279bd384c.png\n"
     ]
    },
    {
     "name": "stderr",
     "output_type": "stream",
     "text": [
      "  1%|▍                                                                         | 826/132269 [14:51<39:36:00,  1.08s/it]"
     ]
    },
    {
     "name": "stdout",
     "output_type": "stream",
     "text": [
      "Warning: Could not download image human_ears\\825 from https://safebooru.org/thumbnails/109/thumbnail_300039d4cdcd64017b6dc9c03ae3a24e646ceffa.png\n"
     ]
    },
    {
     "name": "stderr",
     "output_type": "stream",
     "text": [
      "  1%|▍                                                                         | 828/132269 [14:53<38:37:37,  1.06s/it]"
     ]
    },
    {
     "name": "stdout",
     "output_type": "stream",
     "text": [
      "Warning: Could not download image human_ears\\827 from https://safebooru.org/thumbnails/109/thumbnail_e90a4febeb5f5df4d38640e5b55ef70193f65210.png\n"
     ]
    },
    {
     "name": "stderr",
     "output_type": "stream",
     "text": [
      "  1%|▍                                                                         | 832/132269 [14:58<38:58:26,  1.07s/it]"
     ]
    },
    {
     "name": "stdout",
     "output_type": "stream",
     "text": [
      "Warning: Could not download image human_ears\\831 from https://safebooru.org/thumbnails/110/thumbnail_9eed8d2ee6a39bdb2d6f5af0cf1746d79c4fdb58.gif\n"
     ]
    },
    {
     "name": "stderr",
     "output_type": "stream",
     "text": [
      "  1%|▍                                                                         | 843/132269 [15:10<43:44:25,  1.20s/it]"
     ]
    },
    {
     "name": "stdout",
     "output_type": "stream",
     "text": [
      "Warning: Could not download image human_ears\\842 from https://safebooru.org/thumbnails/111/thumbnail_3d61fa2048ec0ead86012cf4b583eb0fe1e08d77.png\n"
     ]
    },
    {
     "name": "stderr",
     "output_type": "stream",
     "text": [
      "  1%|▍                                                                         | 847/132269 [15:14<40:54:26,  1.12s/it]"
     ]
    },
    {
     "name": "stdout",
     "output_type": "stream",
     "text": [
      "Warning: Could not download image human_ears\\846 from https://safebooru.org/thumbnails/111/thumbnail_07fdb255bc8d39ff84fb1246da8d635fb5a4a433.png\n"
     ]
    },
    {
     "name": "stderr",
     "output_type": "stream",
     "text": [
      "  1%|▍                                                                         | 855/132269 [15:24<43:50:11,  1.20s/it]"
     ]
    },
    {
     "name": "stdout",
     "output_type": "stream",
     "text": [
      "Warning: Could not download image human_ears\\854 from https://safebooru.org/thumbnails/112/thumbnail_4305bab2389a30fd32f3d078a355ae63cc1f7d82.png\n"
     ]
    },
    {
     "name": "stderr",
     "output_type": "stream",
     "text": [
      "  1%|▍                                                                         | 859/132269 [15:29<44:14:58,  1.21s/it]"
     ]
    },
    {
     "name": "stdout",
     "output_type": "stream",
     "text": [
      "Warning: Could not download image human_ears\\858 from https://safebooru.org/thumbnails/113/thumbnail_bf39af6190e7f2e1f4df701fe47fa9a60646ee12.png\n"
     ]
    },
    {
     "name": "stderr",
     "output_type": "stream",
     "text": [
      "  1%|▍                                                                         | 863/132269 [15:34<42:24:34,  1.16s/it]"
     ]
    },
    {
     "name": "stdout",
     "output_type": "stream",
     "text": [
      "Warning: Could not download image human_ears\\862 from https://safebooru.org/thumbnails/114/thumbnail_abac8c704b80e068330a3ce627f39f92b364bc4e.png\n"
     ]
    },
    {
     "name": "stderr",
     "output_type": "stream",
     "text": [
      "  1%|▍                                                                         | 878/132269 [15:50<39:01:21,  1.07s/it]"
     ]
    },
    {
     "name": "stdout",
     "output_type": "stream",
     "text": [
      "Warning: Could not download image human_ears\\877 from https://safebooru.org/thumbnails/115/thumbnail_5af6fb41962af33a9da36e74a1343519c127fc01.png\n"
     ]
    },
    {
     "name": "stderr",
     "output_type": "stream",
     "text": [
      "\r",
      "  1%|▍                                                                         | 879/132269 [15:51<38:55:05,  1.07s/it]"
     ]
    },
    {
     "name": "stdout",
     "output_type": "stream",
     "text": [
      "Warning: Could not download image human_ears\\878 from https://safebooru.org/thumbnails/115/thumbnail_dfa51076fa13c635bfcf1b2538c3b8203ec5fae7.png\n"
     ]
    },
    {
     "name": "stderr",
     "output_type": "stream",
     "text": [
      "  1%|▍                                                                         | 881/132269 [15:53<39:10:49,  1.07s/it]"
     ]
    },
    {
     "name": "stdout",
     "output_type": "stream",
     "text": [
      "Warning: Could not download image human_ears\\880 from https://safebooru.org/thumbnails/115/thumbnail_5f2cd99aec0950ae01d655c793dbc62db8afab61.png\n"
     ]
    },
    {
     "name": "stderr",
     "output_type": "stream",
     "text": [
      "  1%|▍                                                                         | 890/132269 [16:03<42:32:25,  1.17s/it]"
     ]
    },
    {
     "name": "stdout",
     "output_type": "stream",
     "text": [
      "Warning: Could not download image human_ears\\889 from https://safebooru.org/thumbnails/116/thumbnail_f61941f795cd4470932e63bb2965f025d86a4984.jpeg\n"
     ]
    },
    {
     "name": "stderr",
     "output_type": "stream",
     "text": [
      "\r",
      "  1%|▍                                                                         | 891/132269 [16:04<41:26:10,  1.14s/it]"
     ]
    },
    {
     "name": "stdout",
     "output_type": "stream",
     "text": [
      "Warning: Could not download image human_ears\\890 from https://safebooru.org/thumbnails/116/thumbnail_bbdba4565c071f1fcb1f62f87ae2a322ef059520.png\n"
     ]
    },
    {
     "name": "stderr",
     "output_type": "stream",
     "text": [
      "  1%|▌                                                                         | 895/132269 [16:08<39:15:19,  1.08s/it]"
     ]
    },
    {
     "name": "stdout",
     "output_type": "stream",
     "text": [
      "Warning: Could not download image human_ears\\894 from https://safebooru.org/thumbnails/116/thumbnail_d8cb56157fa84986dcc14ad1111abb55c19766de.png\n"
     ]
    },
    {
     "name": "stderr",
     "output_type": "stream",
     "text": [
      "  1%|▌                                                                         | 898/132269 [16:11<39:35:36,  1.08s/it]"
     ]
    },
    {
     "name": "stdout",
     "output_type": "stream",
     "text": [
      "Warning: Could not download image human_ears\\897 from https://safebooru.org/thumbnails/116/thumbnail_5fd6a5d7027adce5c43fde26dca62217d054ef82.png\n"
     ]
    },
    {
     "name": "stderr",
     "output_type": "stream",
     "text": [
      "\r",
      "  1%|▌                                                                         | 899/132269 [16:13<39:56:21,  1.09s/it]"
     ]
    },
    {
     "name": "stdout",
     "output_type": "stream",
     "text": [
      "Warning: Could not download image human_ears\\898 from https://safebooru.org/thumbnails/116/thumbnail_92a3ea6156cd29c99c5b611cc400d725350c2e6a.png\n"
     ]
    },
    {
     "name": "stderr",
     "output_type": "stream",
     "text": [
      "  1%|▌                                                                         | 901/132269 [16:15<39:19:45,  1.08s/it]"
     ]
    },
    {
     "name": "stdout",
     "output_type": "stream",
     "text": [
      "Warning: Could not download image human_ears\\900 from https://safebooru.org/thumbnails/116/thumbnail_76edc29a2004a6edcbc5dd21601993a5475b7a95.png\n"
     ]
    },
    {
     "name": "stderr",
     "output_type": "stream",
     "text": [
      "  1%|▌                                                                         | 904/132269 [16:18<40:14:05,  1.10s/it]"
     ]
    },
    {
     "name": "stdout",
     "output_type": "stream",
     "text": [
      "Warning: Could not download image human_ears\\903 from https://safebooru.org/thumbnails/117/thumbnail_d9175b70db04951b47c5a530bf67caa43c66ec89.jpeg\n"
     ]
    },
    {
     "name": "stderr",
     "output_type": "stream",
     "text": [
      "  1%|▌                                                                         | 919/132269 [16:35<43:53:54,  1.20s/it]"
     ]
    },
    {
     "name": "stdout",
     "output_type": "stream",
     "text": [
      "Warning: Could not download image human_ears\\918 from https://safebooru.org/thumbnails/117/thumbnail_0af1d073e56b7ca90dafa3b148cae27d447a1700.png\n"
     ]
    },
    {
     "name": "stderr",
     "output_type": "stream",
     "text": [
      "  1%|▌                                                                         | 922/132269 [16:38<41:35:19,  1.14s/it]"
     ]
    },
    {
     "name": "stdout",
     "output_type": "stream",
     "text": [
      "Warning: Could not download image human_ears\\921 from https://safebooru.org/thumbnails/117/thumbnail_d559ca737d9590cfbc6ac695886267563f78bb44.gif\n"
     ]
    },
    {
     "name": "stderr",
     "output_type": "stream",
     "text": [
      "\r",
      "  1%|▌                                                                         | 923/132269 [16:39<41:11:27,  1.13s/it]"
     ]
    },
    {
     "name": "stdout",
     "output_type": "stream",
     "text": [
      "Warning: Could not download image human_ears\\922 from https://safebooru.org/thumbnails/118/thumbnail_b88a19f865736c76109168c22721b663ad306080.png\n"
     ]
    },
    {
     "name": "stderr",
     "output_type": "stream",
     "text": [
      "\r",
      "  1%|▌                                                                         | 924/132269 [16:40<41:22:44,  1.13s/it]"
     ]
    },
    {
     "name": "stdout",
     "output_type": "stream",
     "text": [
      "Warning: Could not download image human_ears\\923 from https://safebooru.org/thumbnails/118/thumbnail_2e0db502e13fb4a3c5a0b166b2b02643ce3cb97d.png\n"
     ]
    },
    {
     "name": "stderr",
     "output_type": "stream",
     "text": [
      "\r",
      "  1%|▌                                                                         | 925/132269 [16:41<40:31:09,  1.11s/it]"
     ]
    },
    {
     "name": "stdout",
     "output_type": "stream",
     "text": [
      "Warning: Could not download image human_ears\\924 from https://safebooru.org/thumbnails/118/thumbnail_a3cc2d0821bc1e1c30321e5ae3cb026f4a6fe3ff.png\n"
     ]
    },
    {
     "name": "stderr",
     "output_type": "stream",
     "text": [
      "  1%|▌                                                                         | 935/132269 [16:52<41:28:50,  1.14s/it]"
     ]
    },
    {
     "name": "stdout",
     "output_type": "stream",
     "text": [
      "Warning: Could not download image human_ears\\934 from https://safebooru.org/thumbnails/118/thumbnail_1f7bddb3efdb513a81249dfb3e998d4795b11adc.png\n"
     ]
    },
    {
     "name": "stderr",
     "output_type": "stream",
     "text": [
      "  1%|▌                                                                         | 949/132269 [17:08<42:38:22,  1.17s/it]"
     ]
    },
    {
     "name": "stdout",
     "output_type": "stream",
     "text": [
      "Warning: Could not download image human_ears\\948 from https://safebooru.org/thumbnails/119/thumbnail_bd305c70c307bf1eeeafc78217fb43a54084a31f.png\n"
     ]
    },
    {
     "name": "stderr",
     "output_type": "stream",
     "text": [
      "  1%|▌                                                                         | 952/132269 [17:11<41:29:36,  1.14s/it]"
     ]
    },
    {
     "name": "stdout",
     "output_type": "stream",
     "text": [
      "Warning: Could not download image human_ears\\951 from https://safebooru.org/thumbnails/119/thumbnail_a66ca52b0660569d442245f3c51aaa3636b567ba.png\n"
     ]
    },
    {
     "name": "stderr",
     "output_type": "stream",
     "text": [
      "  1%|▌                                                                         | 957/132269 [17:17<42:45:26,  1.17s/it]"
     ]
    },
    {
     "name": "stdout",
     "output_type": "stream",
     "text": [
      "Warning: Could not download image human_ears\\956 from https://safebooru.org/thumbnails/120/thumbnail_7eee045a064e9744c05454c937b065950fc70364.png\n"
     ]
    },
    {
     "name": "stderr",
     "output_type": "stream",
     "text": [
      "  1%|▌                                                                         | 959/132269 [17:19<39:17:28,  1.08s/it]"
     ]
    },
    {
     "name": "stdout",
     "output_type": "stream",
     "text": [
      "Warning: Could not download image human_ears\\958 from https://safebooru.org/thumbnails/120/thumbnail_cb014254d1b6c8545efec5b101aca203ec569c70.png\n"
     ]
    },
    {
     "name": "stderr",
     "output_type": "stream",
     "text": [
      "  1%|▌                                                                         | 961/132269 [17:22<43:09:50,  1.18s/it]"
     ]
    },
    {
     "name": "stdout",
     "output_type": "stream",
     "text": [
      "Warning: Could not download image human_ears\\960 from https://safebooru.org/thumbnails/120/thumbnail_53f561538ef503e673ac13ef768773d023923505.png\n"
     ]
    },
    {
     "name": "stderr",
     "output_type": "stream",
     "text": [
      "  1%|▌                                                                         | 966/132269 [17:28<44:04:50,  1.21s/it]"
     ]
    },
    {
     "name": "stdout",
     "output_type": "stream",
     "text": [
      "Warning: Could not download image human_ears\\965 from https://safebooru.org/thumbnails/120/thumbnail_8e43fce18d5b0e380e5f3931d705fa4a2bad33b3.png\n"
     ]
    },
    {
     "name": "stderr",
     "output_type": "stream",
     "text": [
      "  1%|▌                                                                         | 969/132269 [17:31<42:25:06,  1.16s/it]"
     ]
    },
    {
     "name": "stdout",
     "output_type": "stream",
     "text": [
      "Warning: Could not download image human_ears\\968 from https://safebooru.org/thumbnails/120/thumbnail_16d87f3795953189ce65d8bbfbfe500d84421ada.png\n"
     ]
    },
    {
     "name": "stderr",
     "output_type": "stream",
     "text": [
      "\r",
      "  1%|▌                                                                         | 970/132269 [17:33<43:25:05,  1.19s/it]"
     ]
    },
    {
     "name": "stdout",
     "output_type": "stream",
     "text": [
      "Warning: Could not download image human_ears\\969 from https://safebooru.org/thumbnails/120/thumbnail_6bdb82a30f1a1697648d55d622869e79b770e754.png\n"
     ]
    },
    {
     "name": "stderr",
     "output_type": "stream",
     "text": [
      "  1%|▌                                                                         | 980/132269 [17:41<31:53:06,  1.14it/s]"
     ]
    },
    {
     "name": "stdout",
     "output_type": "stream",
     "text": [
      "Warning: Could not download image human_ears\\979 from https://safebooru.org/thumbnails/121/thumbnail_9d6d11dee59cd8fcd31cf6e5d9886ca1b25fbdc8.png\n"
     ]
    },
    {
     "name": "stderr",
     "output_type": "stream",
     "text": [
      "  1%|▌                                                                         | 991/132269 [17:53<37:21:14,  1.02s/it]"
     ]
    },
    {
     "name": "stdout",
     "output_type": "stream",
     "text": [
      "Warning: Could not download image human_ears\\990 from https://safebooru.org/thumbnails/123/thumbnail_0ed7d795dd9fcb536c1e57c8cd9855f85dcbdf4b.png\n"
     ]
    },
    {
     "name": "stderr",
     "output_type": "stream",
     "text": [
      "\r",
      "  1%|▌                                                                         | 992/132269 [17:54<37:44:21,  1.03s/it]"
     ]
    },
    {
     "name": "stdout",
     "output_type": "stream",
     "text": [
      "Warning: Could not download image human_ears\\991 from https://safebooru.org/thumbnails/123/thumbnail_c29f2f7a8087719e9c04a512432763184c31a06f.png\n"
     ]
    },
    {
     "name": "stderr",
     "output_type": "stream",
     "text": [
      "  1%|▌                                                                         | 994/132269 [17:56<37:51:36,  1.04s/it]"
     ]
    },
    {
     "name": "stdout",
     "output_type": "stream",
     "text": [
      "Warning: Could not download image human_ears\\993 from https://safebooru.org/thumbnails/123/thumbnail_8b567a11732883f911e3f494116b862f35a5c91d.png\n"
     ]
    },
    {
     "name": "stderr",
     "output_type": "stream",
     "text": [
      "  1%|▌                                                                         | 999/132269 [18:00<33:14:28,  1.10it/s]"
     ]
    },
    {
     "name": "stdout",
     "output_type": "stream",
     "text": [
      "Warning: Could not download image human_ears\\998 from https://safebooru.org/thumbnails/124/thumbnail_a93edb49d3b81c03ff0c976c3f65764680e0c012.png\n"
     ]
    },
    {
     "name": "stderr",
     "output_type": "stream",
     "text": [
      "  1%|▌                                                                        | 1014/132269 [18:17<38:52:27,  1.07s/it]"
     ]
    },
    {
     "name": "stdout",
     "output_type": "stream",
     "text": [
      "Warning: Could not download image human_ears\\1013 from https://safebooru.org/thumbnails/126/thumbnail_b160384dcd39558d5b17792a7811ccc3dab55e81.gif\n"
     ]
    },
    {
     "name": "stderr",
     "output_type": "stream",
     "text": [
      "  1%|▌                                                                        | 1018/132269 [18:21<41:35:08,  1.14s/it]"
     ]
    },
    {
     "name": "stdout",
     "output_type": "stream",
     "text": [
      "Warning: Could not download image human_ears\\1017 from https://safebooru.org/thumbnails/126/thumbnail_09efe1ad119a52db4732872c77432d4c3a1fb44e.gif\n"
     ]
    },
    {
     "name": "stderr",
     "output_type": "stream",
     "text": [
      "  1%|▌                                                                        | 1031/132269 [18:36<39:32:10,  1.08s/it]"
     ]
    },
    {
     "name": "stdout",
     "output_type": "stream",
     "text": [
      "Warning: Could not download image human_ears\\1030 from https://safebooru.org/thumbnails/127/thumbnail_64328923ac3f97297f49bf741732ed1024815edb.png\n"
     ]
    },
    {
     "name": "stderr",
     "output_type": "stream",
     "text": [
      "  1%|▌                                                                        | 1033/132269 [18:38<40:36:09,  1.11s/it]"
     ]
    },
    {
     "name": "stdout",
     "output_type": "stream",
     "text": [
      "Warning: Could not download image human_ears\\1032 from https://safebooru.org/thumbnails/128/thumbnail_b9fc0f53a1c804acb9967e8f232cc54d9fdefa27.gif\n"
     ]
    },
    {
     "name": "stderr",
     "output_type": "stream",
     "text": [
      "  1%|▌                                                                        | 1040/132269 [18:46<40:03:27,  1.10s/it]"
     ]
    },
    {
     "name": "stdout",
     "output_type": "stream",
     "text": [
      "Warning: Could not download image human_ears\\1039 from https://safebooru.org/thumbnails/129/thumbnail_23ccdc25126c8dab3ecb6231130cc90ca397b217.jpeg\n"
     ]
    },
    {
     "name": "stderr",
     "output_type": "stream",
     "text": [
      "  1%|▌                                                                        | 1051/132269 [18:58<39:39:20,  1.09s/it]"
     ]
    },
    {
     "name": "stdout",
     "output_type": "stream",
     "text": [
      "Warning: Could not download image human_ears\\1050 from https://safebooru.org/thumbnails/130/thumbnail_23745270d99914c2d5c7d79ff17440b3fbbb1a91.png\n"
     ]
    },
    {
     "name": "stderr",
     "output_type": "stream",
     "text": [
      "  1%|▌                                                                        | 1059/132269 [19:07<39:12:10,  1.08s/it]"
     ]
    },
    {
     "name": "stdout",
     "output_type": "stream",
     "text": [
      "Warning: Could not download image human_ears\\1058 from https://safebooru.org/thumbnails/131/thumbnail_7f7855959687304f11c14c79e013ad069036f9f1.gif\n"
     ]
    },
    {
     "name": "stderr",
     "output_type": "stream",
     "text": [
      "  1%|▌                                                                        | 1061/132269 [19:09<38:45:56,  1.06s/it]"
     ]
    },
    {
     "name": "stdout",
     "output_type": "stream",
     "text": [
      "Warning: Could not download image human_ears\\1060 from https://safebooru.org/thumbnails/131/thumbnail_70533fff11de41740c8733683bb1776cfd799fea.jpeg\n"
     ]
    },
    {
     "name": "stderr",
     "output_type": "stream",
     "text": [
      "  1%|▌                                                                        | 1065/132269 [19:13<41:52:36,  1.15s/it]"
     ]
    },
    {
     "name": "stdout",
     "output_type": "stream",
     "text": [
      "Warning: Could not download image human_ears\\1064 from https://safebooru.org/thumbnails/131/thumbnail_26f41b7588019893a9e1bf66cc4a2c64c53ca3b3.jpeg\n"
     ]
    },
    {
     "name": "stderr",
     "output_type": "stream",
     "text": [
      "\r",
      "  1%|▌                                                                        | 1066/132269 [19:14<41:08:24,  1.13s/it]"
     ]
    },
    {
     "name": "stdout",
     "output_type": "stream",
     "text": [
      "Warning: Could not download image human_ears\\1065 from https://safebooru.org/thumbnails/131/thumbnail_426a7eee3987297f4d53e5fbba5fee0a5dd76e55.jpeg\n"
     ]
    },
    {
     "name": "stderr",
     "output_type": "stream",
     "text": [
      "\r",
      "  1%|▌                                                                        | 1067/132269 [19:16<42:03:56,  1.15s/it]"
     ]
    },
    {
     "name": "stdout",
     "output_type": "stream",
     "text": [
      "Warning: Could not download image human_ears\\1066 from https://safebooru.org/thumbnails/131/thumbnail_d5751fe6f50cde2f4bafce2ef7f4c01ed241c1c1.jpeg\n"
     ]
    },
    {
     "name": "stderr",
     "output_type": "stream",
     "text": [
      "  1%|▌                                                                        | 1069/132269 [19:17<33:59:59,  1.07it/s]"
     ]
    },
    {
     "name": "stdout",
     "output_type": "stream",
     "text": [
      "Warning: Could not download image human_ears\\1068 from https://safebooru.org/thumbnails/131/thumbnail_92c76d647cfd5729960cf3d8d4ea43afba0f4e59.png\n"
     ]
    },
    {
     "name": "stderr",
     "output_type": "stream",
     "text": [
      "  1%|▌                                                                        | 1073/132269 [19:21<37:37:56,  1.03s/it]"
     ]
    },
    {
     "name": "stdout",
     "output_type": "stream",
     "text": [
      "Warning: Could not download image human_ears\\1072 from https://safebooru.org/thumbnails/132/thumbnail_8e07937eac5b74bb41e7d599faaf8ede6f2753c7.png\n"
     ]
    },
    {
     "name": "stderr",
     "output_type": "stream",
     "text": [
      "\r",
      "  1%|▌                                                                        | 1074/132269 [19:23<41:11:56,  1.13s/it]"
     ]
    },
    {
     "name": "stdout",
     "output_type": "stream",
     "text": [
      "Warning: Could not download image human_ears\\1073 from https://safebooru.org/thumbnails/132/thumbnail_1d620c74e9f677f0a1ba3283969acdf65d820588.png\n"
     ]
    },
    {
     "name": "stderr",
     "output_type": "stream",
     "text": [
      "  1%|▌                                                                        | 1083/132269 [19:35<49:22:01,  1.35s/it]"
     ]
    },
    {
     "name": "stdout",
     "output_type": "stream",
     "text": [
      "Warning: Could not download image human_ears\\1082 from https://safebooru.org/thumbnails/134/thumbnail_5be3514fc93d0cdf7b6968857f81d75de4d2f53e.png\n"
     ]
    },
    {
     "name": "stderr",
     "output_type": "stream",
     "text": [
      "\r",
      "  1%|▌                                                                        | 1084/132269 [19:36<48:11:57,  1.32s/it]"
     ]
    },
    {
     "name": "stdout",
     "output_type": "stream",
     "text": [
      "Warning: Could not download image human_ears\\1083 from https://safebooru.org/thumbnails/134/thumbnail_1d10e67bb91ec09a78fa609c72cc42fbfc2c2e72.png\n"
     ]
    },
    {
     "name": "stderr",
     "output_type": "stream",
     "text": [
      "  1%|▌                                                                        | 1090/132269 [19:43<41:24:12,  1.14s/it]"
     ]
    },
    {
     "name": "stdout",
     "output_type": "stream",
     "text": [
      "Warning: Could not download image human_ears\\1089 from https://safebooru.org/thumbnails/134/thumbnail_c7ad351afa056fcd3a80d27f5737b0916df7fab8.png\n"
     ]
    },
    {
     "name": "stderr",
     "output_type": "stream",
     "text": [
      "  1%|▌                                                                        | 1092/132269 [19:49<79:14:48,  2.17s/it]"
     ]
    },
    {
     "name": "stdout",
     "output_type": "stream",
     "text": [
      "Warning: Could not download image human_ears\\1091 from https://safebooru.org/thumbnails/134/thumbnail_6237c91eae83b7dbe85fa51d608ffc1023a545b2.png\n"
     ]
    },
    {
     "name": "stderr",
     "output_type": "stream",
     "text": [
      "  1%|▌                                                                        | 1094/132269 [19:54<93:54:41,  2.58s/it]"
     ]
    },
    {
     "name": "stdout",
     "output_type": "stream",
     "text": [
      "Warning: Could not download image human_ears\\1093 from https://safebooru.org/thumbnails/135/thumbnail_582d0c931ec43b5982dfc2465fb4ec82f36bd5bb.jpeg\n"
     ]
    },
    {
     "name": "stderr",
     "output_type": "stream",
     "text": [
      "  1%|▌                                                                        | 1096/132269 [19:57<70:48:35,  1.94s/it]"
     ]
    },
    {
     "name": "stdout",
     "output_type": "stream",
     "text": [
      "Warning: Could not download image human_ears\\1095 from https://safebooru.org/thumbnails/135/thumbnail_5d3e53ece203d722bd095a402d8c49995ce551ce.jpeg\n"
     ]
    },
    {
     "name": "stderr",
     "output_type": "stream",
     "text": [
      "  1%|▌                                                                        | 1098/132269 [20:01<68:28:30,  1.88s/it]"
     ]
    },
    {
     "name": "stdout",
     "output_type": "stream",
     "text": [
      "Warning: Could not download image human_ears\\1097 from https://safebooru.org/thumbnails/135/thumbnail_7a2d6edb88bf69fe41c4ab6c86669f7706ef50ff.jpeg\n"
     ]
    },
    {
     "name": "stderr",
     "output_type": "stream",
     "text": [
      "  1%|▌                                                                        | 1102/132269 [20:05<47:42:47,  1.31s/it]"
     ]
    },
    {
     "name": "stdout",
     "output_type": "stream",
     "text": [
      "Warning: Could not download image human_ears\\1101 from https://safebooru.org/thumbnails/136/thumbnail_8bf7b5be1cfc4953a1835223a9a854b8bdcc8d24.png\n"
     ]
    },
    {
     "name": "stderr",
     "output_type": "stream",
     "text": [
      "\r",
      "  1%|▌                                                                        | 1103/132269 [20:06<44:53:21,  1.23s/it]"
     ]
    },
    {
     "name": "stdout",
     "output_type": "stream",
     "text": [
      "Warning: Could not download image human_ears\\1102 from https://safebooru.org/thumbnails/136/thumbnail_b9b92bd53289b2a7b19d95334bbf4042419c94b0.jpeg\n"
     ]
    },
    {
     "name": "stderr",
     "output_type": "stream",
     "text": [
      "  1%|▌                                                                        | 1105/132269 [20:09<44:36:44,  1.22s/it]"
     ]
    },
    {
     "name": "stdout",
     "output_type": "stream",
     "text": [
      "Warning: Could not download image human_ears\\1104 from https://safebooru.org/thumbnails/136/thumbnail_7b330c04b745e0458cd37c0fc03c649d1e69049b.png\n"
     ]
    },
    {
     "name": "stderr",
     "output_type": "stream",
     "text": [
      "  1%|▌                                                                        | 1111/132269 [20:16<46:51:51,  1.29s/it]"
     ]
    },
    {
     "name": "stdout",
     "output_type": "stream",
     "text": [
      "Warning: Could not download image human_ears\\1110 from https://safebooru.org/thumbnails/137/thumbnail_d8f11fca54035fc9831a7a9295b4b5a05c7746d8.gif\n"
     ]
    },
    {
     "name": "stderr",
     "output_type": "stream",
     "text": [
      "  1%|▌                                                                        | 1124/132269 [20:35<52:55:40,  1.45s/it]"
     ]
    },
    {
     "name": "stdout",
     "output_type": "stream",
     "text": [
      "Warning: Could not download image human_ears\\1123 from https://safebooru.org/thumbnails/139/thumbnail_adb4c60061c0b1347c8aed479a528c68550c403a.png\n"
     ]
    },
    {
     "name": "stderr",
     "output_type": "stream",
     "text": [
      "  1%|▌                                                                        | 1129/132269 [20:41<40:22:25,  1.11s/it]"
     ]
    },
    {
     "name": "stdout",
     "output_type": "stream",
     "text": [
      "Warning: Could not download image human_ears\\1128 from https://safebooru.org/thumbnails/140/thumbnail_f82872b07653be33cb455962e6e7cb2cd6941256.png\n"
     ]
    },
    {
     "name": "stderr",
     "output_type": "stream",
     "text": [
      "  1%|▋                                                                        | 1143/132269 [21:00<44:12:47,  1.21s/it]"
     ]
    },
    {
     "name": "stdout",
     "output_type": "stream",
     "text": [
      "Warning: Could not download image human_ears\\1142 from https://safebooru.org/thumbnails/142/thumbnail_817683cadfb9b6bb912b7fb68852e84f64427c95.png\n"
     ]
    },
    {
     "name": "stderr",
     "output_type": "stream",
     "text": [
      "  1%|▋                                                                        | 1153/132269 [21:10<31:26:12,  1.16it/s]"
     ]
    },
    {
     "name": "stdout",
     "output_type": "stream",
     "text": [
      "Warning: Could not download image human_ears\\1152 from https://safebooru.org/thumbnails/144/thumbnail_7c564d32f5b62d7394c71b9c8be089f2bbafe3f9.png\n"
     ]
    },
    {
     "name": "stderr",
     "output_type": "stream",
     "text": [
      "  1%|▋                                                                        | 1156/132269 [21:13<38:33:48,  1.06s/it]"
     ]
    },
    {
     "name": "stdout",
     "output_type": "stream",
     "text": [
      "Warning: Could not download image human_ears\\1155 from https://safebooru.org/thumbnails/144/thumbnail_3228fd44c0f0413ee91b339c58fd23608c52535b.png\n"
     ]
    },
    {
     "name": "stderr",
     "output_type": "stream",
     "text": [
      "  1%|▋                                                                        | 1174/132269 [21:35<41:10:42,  1.13s/it]"
     ]
    },
    {
     "name": "stdout",
     "output_type": "stream",
     "text": [
      "Warning: Could not download image human_ears\\1173 from https://safebooru.org/thumbnails/148/thumbnail_16941c92a64c41b38c574b7eb23c4355e9d8cbdd.png\n"
     ]
    },
    {
     "name": "stderr",
     "output_type": "stream",
     "text": [
      "  1%|▋                                                                        | 1180/132269 [21:43<44:46:29,  1.23s/it]"
     ]
    },
    {
     "name": "stdout",
     "output_type": "stream",
     "text": [
      "Warning: Could not download image human_ears\\1179 from https://safebooru.org/thumbnails/149/thumbnail_305290c6d3d6c58bae3860fd97cd5582ebe1df64.png\n"
     ]
    },
    {
     "name": "stderr",
     "output_type": "stream",
     "text": [
      "  1%|▋                                                                        | 1184/132269 [21:47<35:34:43,  1.02it/s]"
     ]
    },
    {
     "name": "stdout",
     "output_type": "stream",
     "text": [
      "Warning: Could not download image human_ears\\1183 from https://safebooru.org/thumbnails/149/thumbnail_bb5ebb0f72afc48133090d936aacf26b16a5faba.png\n"
     ]
    },
    {
     "name": "stderr",
     "output_type": "stream",
     "text": [
      "  1%|▋                                                                        | 1211/132269 [22:21<47:39:31,  1.31s/it]"
     ]
    },
    {
     "name": "stdout",
     "output_type": "stream",
     "text": [
      "Warning: Could not download image human_ears\\1210 from https://safebooru.org/thumbnails/152/thumbnail_400736c97f3fb072749e251ba94283272fccc480.png\n"
     ]
    },
    {
     "name": "stderr",
     "output_type": "stream",
     "text": [
      "  1%|▋                                                                        | 1216/132269 [22:27<45:17:51,  1.24s/it]"
     ]
    },
    {
     "name": "stdout",
     "output_type": "stream",
     "text": [
      "Warning: Could not download image human_ears\\1215 from https://safebooru.org/thumbnails/153/thumbnail_21327e36c7d0a53274fe223c5fd021cbdcd63dac.png\n"
     ]
    },
    {
     "name": "stderr",
     "output_type": "stream",
     "text": [
      "  1%|▋                                                                        | 1219/132269 [22:31<42:51:55,  1.18s/it]"
     ]
    },
    {
     "name": "stdout",
     "output_type": "stream",
     "text": [
      "Warning: Could not download image human_ears\\1218 from https://safebooru.org/thumbnails/154/thumbnail_0dd32e24a471d1a984966d841b9b0cc3e54a14b0.png\n"
     ]
    },
    {
     "name": "stderr",
     "output_type": "stream",
     "text": [
      "  1%|▋                                                                        | 1226/132269 [22:39<45:08:43,  1.24s/it]"
     ]
    },
    {
     "name": "stdout",
     "output_type": "stream",
     "text": [
      "Warning: Could not download image human_ears\\1225 from https://safebooru.org/thumbnails/155/thumbnail_5c9c6dd1e1f58c1bce823d38040eb570a2f6c6fa.png\n"
     ]
    },
    {
     "name": "stderr",
     "output_type": "stream",
     "text": [
      "  1%|▋                                                                        | 1230/132269 [22:44<41:08:52,  1.13s/it]"
     ]
    },
    {
     "name": "stdout",
     "output_type": "stream",
     "text": [
      "Warning: Could not download image human_ears\\1229 from https://safebooru.org/thumbnails/155/thumbnail_cea6c8ea3ceb13e1aed6d5d7f412bc8f50d571d4.png\n"
     ]
    },
    {
     "name": "stderr",
     "output_type": "stream",
     "text": [
      "  1%|▋                                                                        | 1234/132269 [22:48<40:02:46,  1.10s/it]"
     ]
    },
    {
     "name": "stdout",
     "output_type": "stream",
     "text": [
      "Warning: Could not download image human_ears\\1233 from https://safebooru.org/thumbnails/156/thumbnail_8e7af08161c540fef99ae7d877c085ca11146c97.png\n"
     ]
    },
    {
     "name": "stderr",
     "output_type": "stream",
     "text": [
      "\r",
      "  1%|▋                                                                        | 1235/132269 [22:49<39:55:53,  1.10s/it]"
     ]
    },
    {
     "name": "stdout",
     "output_type": "stream",
     "text": [
      "Warning: Could not download image human_ears\\1234 from https://safebooru.org/thumbnails/156/thumbnail_b4460689e81d391fb977d7e9a0bf7f4754684058.png\n"
     ]
    },
    {
     "name": "stderr",
     "output_type": "stream",
     "text": [
      "  1%|▋                                                                        | 1246/132269 [23:01<38:59:03,  1.07s/it]"
     ]
    },
    {
     "name": "stdout",
     "output_type": "stream",
     "text": [
      "Warning: Could not download image human_ears\\1245 from https://safebooru.org/thumbnails/156/thumbnail_d8c00abc89aa5255563cfd83c3a0e4961b6c1f31.png\n"
     ]
    },
    {
     "name": "stderr",
     "output_type": "stream",
     "text": [
      "\r",
      "  1%|▋                                                                        | 1247/132269 [23:02<38:47:32,  1.07s/it]"
     ]
    },
    {
     "name": "stdout",
     "output_type": "stream",
     "text": [
      "Warning: Could not download image human_ears\\1246 from https://safebooru.org/thumbnails/156/thumbnail_039b922e16efe07d24d956251f2573070bca93f4.png\n"
     ]
    },
    {
     "name": "stderr",
     "output_type": "stream",
     "text": [
      "  1%|▋                                                                        | 1252/132269 [23:08<38:52:12,  1.07s/it]"
     ]
    },
    {
     "name": "stdout",
     "output_type": "stream",
     "text": [
      "Warning: Could not download image human_ears\\1251 from https://safebooru.org/thumbnails/157/thumbnail_138a3b436d65bdf70e3dcb52feeed815bf07df24.png\n"
     ]
    },
    {
     "name": "stderr",
     "output_type": "stream",
     "text": [
      "  1%|▋                                                                        | 1254/132269 [23:10<38:18:59,  1.05s/it]"
     ]
    },
    {
     "name": "stdout",
     "output_type": "stream",
     "text": [
      "Warning: Could not download image human_ears\\1253 from https://safebooru.org/thumbnails/158/thumbnail_74555e8747feccb40e642d37ed7a9cdefe495dfa.png\n"
     ]
    },
    {
     "name": "stderr",
     "output_type": "stream",
     "text": [
      "  1%|▋                                                                        | 1260/132269 [23:16<41:15:46,  1.13s/it]"
     ]
    },
    {
     "name": "stdout",
     "output_type": "stream",
     "text": [
      "Warning: Could not download image human_ears\\1259 from https://safebooru.org/thumbnails/158/thumbnail_4ebe71d4f620c1ba2da32c8db0bd57cbebd982d7.png\n"
     ]
    },
    {
     "name": "stderr",
     "output_type": "stream",
     "text": [
      "  1%|▋                                                                        | 1274/132269 [23:33<43:58:48,  1.21s/it]"
     ]
    },
    {
     "name": "stdout",
     "output_type": "stream",
     "text": [
      "Warning: Could not download image human_ears\\1273 from https://safebooru.org/thumbnails/160/thumbnail_d1d4eefe8c2cfe2d196e118e78befb883b1e4a58.png\n"
     ]
    },
    {
     "name": "stderr",
     "output_type": "stream",
     "text": [
      "\r",
      "  1%|▋                                                                        | 1275/132269 [23:34<43:09:51,  1.19s/it]"
     ]
    },
    {
     "name": "stdout",
     "output_type": "stream",
     "text": [
      "Warning: Could not download image human_ears\\1274 from https://safebooru.org/thumbnails/161/thumbnail_183f1e50cb9f966affeda9faf524e7d4419f2ad1.png\n"
     ]
    },
    {
     "name": "stderr",
     "output_type": "stream",
     "text": [
      "  1%|▋                                                                        | 1280/132269 [23:40<43:24:02,  1.19s/it]"
     ]
    },
    {
     "name": "stdout",
     "output_type": "stream",
     "text": [
      "Warning: Could not download image human_ears\\1279 from https://safebooru.org/thumbnails/161/thumbnail_89446ce466921973d1edb06167ea03587426aacd.png\n"
     ]
    },
    {
     "name": "stderr",
     "output_type": "stream",
     "text": [
      "  1%|▋                                                                        | 1282/132269 [23:42<40:42:35,  1.12s/it]"
     ]
    },
    {
     "name": "stdout",
     "output_type": "stream",
     "text": [
      "Warning: Could not download image human_ears\\1281 from https://safebooru.org/thumbnails/162/thumbnail_48af2f1a94e64ee349f2e99a9b09ecafa0bea2a4.png\n"
     ]
    },
    {
     "name": "stderr",
     "output_type": "stream",
     "text": [
      "  1%|▋                                                                        | 1285/132269 [23:45<40:38:46,  1.12s/it]"
     ]
    },
    {
     "name": "stdout",
     "output_type": "stream",
     "text": [
      "Warning: Could not download image human_ears\\1284 from https://safebooru.org/thumbnails/162/thumbnail_c42db8290e4963540181447593715c1d9e93b6cb.png\n"
     ]
    },
    {
     "name": "stderr",
     "output_type": "stream",
     "text": [
      "\r",
      "  1%|▋                                                                        | 1286/132269 [23:46<39:58:07,  1.10s/it]"
     ]
    },
    {
     "name": "stdout",
     "output_type": "stream",
     "text": [
      "Warning: Could not download image human_ears\\1285 from https://safebooru.org/thumbnails/162/thumbnail_8efa153fd30de554b409f52434b710ee9cada9ad.png\n"
     ]
    },
    {
     "name": "stderr",
     "output_type": "stream",
     "text": [
      "  1%|▋                                                                        | 1289/132269 [23:50<40:01:37,  1.10s/it]"
     ]
    },
    {
     "name": "stdout",
     "output_type": "stream",
     "text": [
      "Warning: Could not download image human_ears\\1288 from https://safebooru.org/thumbnails/162/thumbnail_0fe90cd49d24f48da926143d49d7f099f5e17a38.png\n"
     ]
    },
    {
     "name": "stderr",
     "output_type": "stream",
     "text": [
      "  1%|▋                                                                        | 1299/132269 [24:01<40:53:40,  1.12s/it]"
     ]
    },
    {
     "name": "stdout",
     "output_type": "stream",
     "text": [
      "Warning: Could not download image human_ears\\1298 from https://safebooru.org/thumbnails/164/thumbnail_add5b31408a0666ea9e06a3f7f8e0cd521fa3caf.png\n"
     ]
    },
    {
     "name": "stderr",
     "output_type": "stream",
     "text": [
      "  1%|▋                                                                        | 1304/132269 [24:06<39:11:23,  1.08s/it]"
     ]
    },
    {
     "name": "stdout",
     "output_type": "stream",
     "text": [
      "Warning: Could not download image human_ears\\1303 from https://safebooru.org/thumbnails/164/thumbnail_5f384478ec2b7b04b7a09246bf137420ad7bed83.png\n"
     ]
    },
    {
     "name": "stderr",
     "output_type": "stream",
     "text": [
      "  1%|▋                                                                        | 1330/132269 [24:35<39:48:48,  1.09s/it]"
     ]
    },
    {
     "name": "stdout",
     "output_type": "stream",
     "text": [
      "Warning: Could not download image human_ears\\1329 from https://safebooru.org/thumbnails/167/thumbnail_4f897654b5741b05163d66e4c5365db061b04b41.png\n"
     ]
    },
    {
     "name": "stderr",
     "output_type": "stream",
     "text": [
      "  1%|▋                                                                        | 1338/132269 [24:44<41:12:09,  1.13s/it]"
     ]
    },
    {
     "name": "stdout",
     "output_type": "stream",
     "text": [
      "Warning: Could not download image human_ears\\1337 from https://safebooru.org/thumbnails/169/thumbnail_9a5526a0caf210f5e592c7bf13fdad50c43ab7c0.png\n"
     ]
    },
    {
     "name": "stderr",
     "output_type": "stream",
     "text": [
      "  1%|▋                                                                        | 1341/132269 [24:48<39:44:46,  1.09s/it]"
     ]
    },
    {
     "name": "stdout",
     "output_type": "stream",
     "text": [
      "Warning: Could not download image human_ears\\1340 from https://safebooru.org/thumbnails/169/thumbnail_379101bef89b476185bd3c071b8bc4654634b8e5.gif\n"
     ]
    },
    {
     "name": "stderr",
     "output_type": "stream",
     "text": [
      "\r",
      "  1%|▋                                                                        | 1342/132269 [24:49<39:31:47,  1.09s/it]"
     ]
    },
    {
     "name": "stdout",
     "output_type": "stream",
     "text": [
      "Warning: Could not download image human_ears\\1341 from https://safebooru.org/thumbnails/169/thumbnail_3d2bb7cd708f66b750b582b13fc4d852b7ae9053.png\n"
     ]
    },
    {
     "name": "stderr",
     "output_type": "stream",
     "text": [
      "\r",
      "  1%|▋                                                                        | 1343/132269 [24:50<39:16:48,  1.08s/it]"
     ]
    },
    {
     "name": "stdout",
     "output_type": "stream",
     "text": [
      "Warning: Could not download image human_ears\\1342 from https://safebooru.org/thumbnails/169/thumbnail_bbcdafb69b684058d6f37fec7f325cf003d8fcab.png\n"
     ]
    },
    {
     "name": "stderr",
     "output_type": "stream",
     "text": [
      "  1%|▊                                                                        | 1359/132269 [25:07<39:15:19,  1.08s/it]"
     ]
    },
    {
     "name": "stdout",
     "output_type": "stream",
     "text": [
      "Warning: Could not download image human_ears\\1358 from https://safebooru.org/thumbnails/171/thumbnail_324a95405117d100f168d2faba229d42ae9c479f.png\n"
     ]
    },
    {
     "name": "stderr",
     "output_type": "stream",
     "text": [
      "  1%|▊                                                                        | 1367/132269 [25:17<44:57:40,  1.24s/it]"
     ]
    },
    {
     "name": "stdout",
     "output_type": "stream",
     "text": [
      "Warning: Could not download image human_ears\\1366 from https://safebooru.org/thumbnails/172/thumbnail_77deca71c8f89d515f40621b19b191821204b263.gif\n"
     ]
    },
    {
     "name": "stderr",
     "output_type": "stream",
     "text": [
      "  1%|▊                                                                        | 1384/132269 [25:38<43:37:14,  1.20s/it]"
     ]
    },
    {
     "name": "stdout",
     "output_type": "stream",
     "text": [
      "Warning: Could not download image human_ears\\1383 from https://safebooru.org/thumbnails/173/thumbnail_57a9afa472e5b5bf868e21d75fec51d6ba1342e4.jpeg\n"
     ]
    },
    {
     "name": "stderr",
     "output_type": "stream",
     "text": [
      "\r",
      "  1%|▊                                                                        | 1385/132269 [25:39<44:41:46,  1.23s/it]"
     ]
    },
    {
     "name": "stdout",
     "output_type": "stream",
     "text": [
      "Warning: Could not download image human_ears\\1384 from https://safebooru.org/thumbnails/173/thumbnail_c385e092fd484ca2eda160616b6239d3cb3bc9b4.png\n"
     ]
    },
    {
     "name": "stderr",
     "output_type": "stream",
     "text": [
      "  1%|▊                                                                        | 1394/132269 [25:50<44:02:43,  1.21s/it]"
     ]
    },
    {
     "name": "stdout",
     "output_type": "stream",
     "text": [
      "Warning: Could not download image human_ears\\1393 from https://safebooru.org/thumbnails/174/thumbnail_8fc2c8c9c830458eba6b5856d373a4d7491ca6d3.png\n"
     ]
    },
    {
     "name": "stderr",
     "output_type": "stream",
     "text": [
      "  1%|▊                                                                        | 1397/132269 [25:53<42:49:14,  1.18s/it]"
     ]
    },
    {
     "name": "stdout",
     "output_type": "stream",
     "text": [
      "Warning: Could not download image human_ears\\1396 from https://safebooru.org/thumbnails/174/thumbnail_84070bcf08637d9749cd157d4ae7f111f7d0cf42.png\n"
     ]
    },
    {
     "name": "stderr",
     "output_type": "stream",
     "text": [
      "  1%|▊                                                                        | 1400/132269 [25:57<41:08:40,  1.13s/it]"
     ]
    },
    {
     "name": "stdout",
     "output_type": "stream",
     "text": [
      "Warning: Could not download image human_ears\\1399 from https://safebooru.org/thumbnails/175/thumbnail_35837731ec2c7829959534f931688c31ded2e894.png\n"
     ]
    },
    {
     "name": "stderr",
     "output_type": "stream",
     "text": [
      "  1%|▊                                                                        | 1410/132269 [26:08<41:42:49,  1.15s/it]"
     ]
    },
    {
     "name": "stdout",
     "output_type": "stream",
     "text": [
      "Warning: Could not download image human_ears\\1409 from https://safebooru.org/thumbnails/176/thumbnail_c399b319709db2d9defeb1208d1606aa273fa10b.png\n"
     ]
    },
    {
     "name": "stderr",
     "output_type": "stream",
     "text": [
      "  1%|▊                                                                        | 1412/132269 [26:09<34:42:58,  1.05it/s]"
     ]
    },
    {
     "name": "stdout",
     "output_type": "stream",
     "text": [
      "Warning: Could not download image human_ears\\1411 from https://safebooru.org/thumbnails/176/thumbnail_223f1822d29b13d54f650f6593bf312d9f91bb44.gif\n"
     ]
    },
    {
     "name": "stderr",
     "output_type": "stream",
     "text": [
      "  1%|▊                                                                        | 1417/132269 [26:15<39:14:56,  1.08s/it]"
     ]
    },
    {
     "name": "stdout",
     "output_type": "stream",
     "text": [
      "Warning: Could not download image human_ears\\1416 from https://safebooru.org/thumbnails/176/thumbnail_43f11bc4c1ad01ebf99fc48e36b56de55b381539.png\n"
     ]
    },
    {
     "name": "stderr",
     "output_type": "stream",
     "text": [
      "\r",
      "  1%|▊                                                                        | 1418/132269 [26:16<40:56:58,  1.13s/it]"
     ]
    },
    {
     "name": "stdout",
     "output_type": "stream",
     "text": [
      "Warning: Could not download image human_ears\\1417 from https://safebooru.org/thumbnails/176/thumbnail_1de308f1b194fb8e0f53742c74cfcd610c842e39.png\n"
     ]
    },
    {
     "name": "stderr",
     "output_type": "stream",
     "text": [
      "  1%|▊                                                                        | 1427/132269 [26:26<41:16:29,  1.14s/it]"
     ]
    },
    {
     "name": "stdout",
     "output_type": "stream",
     "text": [
      "Warning: Could not download image human_ears\\1426 from https://safebooru.org/thumbnails/177/thumbnail_572253cbff5abe8d0a9949e3db800ee80e4424bd.png\n"
     ]
    },
    {
     "name": "stderr",
     "output_type": "stream",
     "text": [
      "  1%|▊                                                                        | 1429/132269 [26:28<42:09:15,  1.16s/it]"
     ]
    },
    {
     "name": "stdout",
     "output_type": "stream",
     "text": [
      "Warning: Could not download image human_ears\\1428 from https://safebooru.org/thumbnails/177/thumbnail_375ddf425e6d6763a9e0c4d4013fe6071b831084.png\n"
     ]
    },
    {
     "name": "stderr",
     "output_type": "stream",
     "text": [
      "  1%|▊                                                                        | 1443/132269 [26:42<37:29:23,  1.03s/it]"
     ]
    },
    {
     "name": "stdout",
     "output_type": "stream",
     "text": [
      "Warning: Could not download image human_ears\\1442 from https://safebooru.org/thumbnails/178/thumbnail_53d69d893ffc9137281cb42c2d31a4dd9537c111.png\n"
     ]
    },
    {
     "name": "stderr",
     "output_type": "stream",
     "text": [
      "  1%|▊                                                                        | 1445/132269 [26:45<38:51:10,  1.07s/it]"
     ]
    },
    {
     "name": "stdout",
     "output_type": "stream",
     "text": [
      "Warning: Could not download image human_ears\\1444 from https://safebooru.org/thumbnails/178/thumbnail_fc16a1267dd4c41721050cd9d7b809f27e528f78.png\n"
     ]
    },
    {
     "name": "stderr",
     "output_type": "stream",
     "text": [
      "  1%|▊                                                                        | 1451/132269 [26:51<39:42:13,  1.09s/it]"
     ]
    },
    {
     "name": "stdout",
     "output_type": "stream",
     "text": [
      "Warning: Could not download image human_ears\\1450 from https://safebooru.org/thumbnails/179/thumbnail_22edb5a061025652e9804ce87c7017f16aab755b.png\n"
     ]
    },
    {
     "name": "stderr",
     "output_type": "stream",
     "text": [
      "  1%|▊                                                                        | 1456/132269 [26:57<39:17:42,  1.08s/it]"
     ]
    },
    {
     "name": "stdout",
     "output_type": "stream",
     "text": [
      "Warning: Could not download image human_ears\\1455 from https://safebooru.org/thumbnails/180/thumbnail_9df589aa84d34994a4884a205cd38a35dfba8dfb.jpeg\n"
     ]
    },
    {
     "name": "stderr",
     "output_type": "stream",
     "text": [
      "\r",
      "  1%|▊                                                                        | 1457/132269 [26:58<39:57:49,  1.10s/it]"
     ]
    },
    {
     "name": "stdout",
     "output_type": "stream",
     "text": [
      "Warning: Could not download image human_ears\\1456 from https://safebooru.org/thumbnails/180/thumbnail_f4beb0a85459e86a15f17c605abb3f6de15b88ed.jpeg\n"
     ]
    },
    {
     "name": "stderr",
     "output_type": "stream",
     "text": [
      "  1%|▊                                                                        | 1459/132269 [27:00<40:38:19,  1.12s/it]"
     ]
    },
    {
     "name": "stdout",
     "output_type": "stream",
     "text": [
      "Warning: Could not download image human_ears\\1458 from https://safebooru.org/thumbnails/181/thumbnail_a823811018ecd69860e57e7e9df654d673c625aa.png\n"
     ]
    },
    {
     "name": "stderr",
     "output_type": "stream",
     "text": [
      "\r",
      "  1%|▊                                                                        | 1460/132269 [27:01<40:42:26,  1.12s/it]"
     ]
    },
    {
     "name": "stdout",
     "output_type": "stream",
     "text": [
      "Warning: Could not download image human_ears\\1459 from https://safebooru.org/thumbnails/181/thumbnail_547ae33acb1e15566c71bf0b1a4c8cba1fe0d850.png\n"
     ]
    },
    {
     "name": "stderr",
     "output_type": "stream",
     "text": [
      "  1%|▊                                                                        | 1462/132269 [27:03<39:42:09,  1.09s/it]"
     ]
    },
    {
     "name": "stdout",
     "output_type": "stream",
     "text": [
      "Warning: Could not download image human_ears\\1461 from https://safebooru.org/thumbnails/181/thumbnail_7ffb27147386824cf92efcc03398208f5c60efd0.png\n"
     ]
    },
    {
     "name": "stderr",
     "output_type": "stream",
     "text": [
      "  1%|▊                                                                        | 1476/132269 [27:18<38:16:11,  1.05s/it]"
     ]
    },
    {
     "name": "stdout",
     "output_type": "stream",
     "text": [
      "Warning: Could not download image human_ears\\1475 from https://safebooru.org/thumbnails/186/thumbnail_b69eebf66575934fd9b05c2da873980ae11b71ec.png\n"
     ]
    },
    {
     "name": "stderr",
     "output_type": "stream",
     "text": [
      "  1%|▊                                                                        | 1478/132269 [27:21<38:19:58,  1.06s/it]"
     ]
    },
    {
     "name": "stdout",
     "output_type": "stream",
     "text": [
      "Warning: Could not download image human_ears\\1477 from https://safebooru.org/thumbnails/186/thumbnail_d16c116b668d8cbdbfc18418415f3454da57ad14.png\n"
     ]
    },
    {
     "name": "stderr",
     "output_type": "stream",
     "text": [
      "  1%|▊                                                                        | 1484/132269 [27:27<38:13:32,  1.05s/it]"
     ]
    },
    {
     "name": "stdout",
     "output_type": "stream",
     "text": [
      "Warning: Could not download image human_ears\\1483 from https://safebooru.org/thumbnails/187/thumbnail_c7dd04e0fe6a2dce0a902177f5806300d6ef43e3.png\n"
     ]
    },
    {
     "name": "stderr",
     "output_type": "stream",
     "text": [
      "  1%|▊                                                                        | 1488/132269 [27:31<33:36:40,  1.08it/s]"
     ]
    },
    {
     "name": "stdout",
     "output_type": "stream",
     "text": [
      "Warning: Could not download image human_ears\\1487 from https://safebooru.org/thumbnails/187/thumbnail_0873af75e77ae1fc0da1d796d18fb0f7f881b6a0.png\n"
     ]
    },
    {
     "name": "stderr",
     "output_type": "stream",
     "text": [
      "  1%|▊                                                                        | 1499/132269 [27:43<39:50:40,  1.10s/it]"
     ]
    },
    {
     "name": "stdout",
     "output_type": "stream",
     "text": [
      "Warning: Could not download image human_ears\\1498 from https://safebooru.org/thumbnails/189/thumbnail_5d780f4944254f7c354d32c58aa73077d05f46e9.png\n"
     ]
    },
    {
     "name": "stderr",
     "output_type": "stream",
     "text": [
      "\r",
      "  1%|▊                                                                        | 1500/132269 [27:44<39:39:48,  1.09s/it]"
     ]
    },
    {
     "name": "stdout",
     "output_type": "stream",
     "text": [
      "Warning: Could not download image human_ears\\1499 from https://safebooru.org/thumbnails/190/thumbnail_64fbc3e19810ba58bf06151f3540689c26fb9d93.png\n"
     ]
    },
    {
     "name": "stderr",
     "output_type": "stream",
     "text": [
      "\r",
      "  1%|▊                                                                        | 1501/132269 [27:45<39:13:16,  1.08s/it]"
     ]
    },
    {
     "name": "stdout",
     "output_type": "stream",
     "text": [
      "Warning: Could not download image human_ears\\1500 from https://safebooru.org/thumbnails/190/thumbnail_7e73be6b81ee9c205fb1d04aa19482399456fc60.png\n"
     ]
    },
    {
     "name": "stderr",
     "output_type": "stream",
     "text": [
      "  1%|▊                                                                        | 1506/132269 [27:51<41:25:18,  1.14s/it]"
     ]
    },
    {
     "name": "stdout",
     "output_type": "stream",
     "text": [
      "Warning: Could not download image human_ears\\1505 from https://safebooru.org/thumbnails/191/thumbnail_544f86537b1a19bb4aa164a7691822905863837c.png\n"
     ]
    },
    {
     "name": "stderr",
     "output_type": "stream",
     "text": [
      "  1%|▊                                                                        | 1519/132269 [28:06<43:38:54,  1.20s/it]"
     ]
    },
    {
     "name": "stdout",
     "output_type": "stream",
     "text": [
      "Warning: Could not download image human_ears\\1518 from https://safebooru.org/thumbnails/195/thumbnail_40520b034aff4571aed9ff4bebea41c2296b8829.png\n"
     ]
    },
    {
     "name": "stderr",
     "output_type": "stream",
     "text": [
      "  1%|▊                                                                        | 1525/132269 [28:13<42:53:27,  1.18s/it]"
     ]
    },
    {
     "name": "stdout",
     "output_type": "stream",
     "text": [
      "Warning: Could not download image human_ears\\1524 from https://safebooru.org/thumbnails/196/thumbnail_3f418ff22c7b2ed2395788c772891459c786d882.png\n"
     ]
    },
    {
     "name": "stderr",
     "output_type": "stream",
     "text": [
      "  1%|▊                                                                        | 1528/132269 [28:16<40:16:09,  1.11s/it]"
     ]
    },
    {
     "name": "stdout",
     "output_type": "stream",
     "text": [
      "Warning: Could not download image human_ears\\1527 from https://safebooru.org/thumbnails/197/thumbnail_de1ed3427d7517222b5c01375e251c90b0748154.png\n"
     ]
    },
    {
     "name": "stderr",
     "output_type": "stream",
     "text": [
      "  1%|▊                                                                        | 1536/132269 [28:25<39:14:54,  1.08s/it]"
     ]
    },
    {
     "name": "stdout",
     "output_type": "stream",
     "text": [
      "Warning: Could not download image human_ears\\1535 from https://safebooru.org/thumbnails/199/thumbnail_670f24efb4a46511acab7afdba9c41a1c97c98e8.png\n"
     ]
    },
    {
     "name": "stderr",
     "output_type": "stream",
     "text": [
      "  1%|▊                                                                        | 1540/132269 [28:29<39:40:30,  1.09s/it]"
     ]
    },
    {
     "name": "stdout",
     "output_type": "stream",
     "text": [
      "Warning: Could not download image human_ears\\1539 from https://safebooru.org/thumbnails/200/thumbnail_282a93428814e55cae7dc038268e700f45757521.png\n"
     ]
    },
    {
     "name": "stderr",
     "output_type": "stream",
     "text": [
      "  1%|▊                                                                        | 1556/132269 [28:48<38:08:17,  1.05s/it]"
     ]
    },
    {
     "name": "stdout",
     "output_type": "stream",
     "text": [
      "Warning: Could not download image human_ears\\1555 from https://safebooru.org/thumbnails/205/thumbnail_66407f5d895bf0d368f8392ddb2337c80f7e8c7c.png\n"
     ]
    },
    {
     "name": "stderr",
     "output_type": "stream",
     "text": [
      "\r",
      "  1%|▊                                                                        | 1557/132269 [28:49<38:11:10,  1.05s/it]"
     ]
    },
    {
     "name": "stdout",
     "output_type": "stream",
     "text": [
      "Warning: Could not download image human_ears\\1556 from https://safebooru.org/thumbnails/205/thumbnail_5f0793cbc4e55b0c0fabf67e316564e97f036452.png\n"
     ]
    },
    {
     "name": "stderr",
     "output_type": "stream",
     "text": [
      "  1%|▊                                                                        | 1564/132269 [28:58<48:35:49,  1.34s/it]"
     ]
    },
    {
     "name": "stdout",
     "output_type": "stream",
     "text": [
      "Warning: Could not download image human_ears\\1563 from https://safebooru.org/thumbnails/206/thumbnail_4e8462cb487c0108dabbf032ad5706ea5f9ceb17.png\n"
     ]
    },
    {
     "name": "stderr",
     "output_type": "stream",
     "text": [
      "  1%|▊                                                                        | 1566/132269 [29:00<43:40:10,  1.20s/it]"
     ]
    },
    {
     "name": "stdout",
     "output_type": "stream",
     "text": [
      "Warning: Could not download image human_ears\\1565 from https://safebooru.org/thumbnails/207/thumbnail_fd3136fc58e1052b4f9448642d32ec364c502325.png\n"
     ]
    },
    {
     "name": "stderr",
     "output_type": "stream",
     "text": [
      "  1%|▉                                                                        | 1589/132269 [29:25<42:58:16,  1.18s/it]"
     ]
    },
    {
     "name": "stdout",
     "output_type": "stream",
     "text": [
      "Warning: Could not download image human_ears\\1588 from https://safebooru.org/thumbnails/215/thumbnail_cf949dc60794cb470dcde273fb983578f2ca4e06.png\n"
     ]
    },
    {
     "name": "stderr",
     "output_type": "stream",
     "text": [
      "  1%|▉                                                                        | 1592/132269 [29:29<45:21:30,  1.25s/it]"
     ]
    },
    {
     "name": "stdout",
     "output_type": "stream",
     "text": [
      "Warning: Could not download image human_ears\\1591 from https://safebooru.org/thumbnails/217/thumbnail_128d68a55af6341fb261dfefd2a8e27367d35c5e.png\n"
     ]
    },
    {
     "name": "stderr",
     "output_type": "stream",
     "text": [
      "  1%|▉                                                                        | 1599/132269 [29:37<41:03:57,  1.13s/it]"
     ]
    },
    {
     "name": "stdout",
     "output_type": "stream",
     "text": [
      "Warning: Could not download image human_ears\\1598 from https://safebooru.org/thumbnails/220/thumbnail_793a691abffba7f2d2656d3211eba7b26cb047d7.png\n"
     ]
    },
    {
     "name": "stderr",
     "output_type": "stream",
     "text": [
      "  1%|▉                                                                        | 1601/132269 [29:39<41:13:38,  1.14s/it]"
     ]
    },
    {
     "name": "stdout",
     "output_type": "stream",
     "text": [
      "Warning: Could not download image human_ears\\1600 from https://safebooru.org/thumbnails/221/thumbnail_020920803c96cd3788b16f32ed4df5cf85ce71a0.png\n"
     ]
    },
    {
     "name": "stderr",
     "output_type": "stream",
     "text": [
      "  1%|▉                                                                        | 1604/132269 [29:42<39:30:06,  1.09s/it]"
     ]
    },
    {
     "name": "stdout",
     "output_type": "stream",
     "text": [
      "Warning: Could not download image human_ears\\1603 from https://safebooru.org/thumbnails/221/thumbnail_bc9be6d9327158d46c9c94115dc1ab479ce76265.png\n"
     ]
    },
    {
     "name": "stderr",
     "output_type": "stream",
     "text": [
      "  1%|▉                                                                        | 1618/132269 [29:59<41:46:23,  1.15s/it]"
     ]
    },
    {
     "name": "stdout",
     "output_type": "stream",
     "text": [
      "Warning: Could not download image human_ears\\1617 from https://safebooru.org/thumbnails/225/thumbnail_bb712e72e6a8181d9f0865db2d95108b77caf17d.png\n"
     ]
    },
    {
     "name": "stderr",
     "output_type": "stream",
     "text": [
      "  1%|▉                                                                        | 1626/132269 [30:08<42:11:58,  1.16s/it]"
     ]
    },
    {
     "name": "stdout",
     "output_type": "stream",
     "text": [
      "Warning: Could not download image human_ears\\1625 from https://safebooru.org/thumbnails/227/thumbnail_b7a1627d90fb555aaa60d152972b7a15bed8b295.png\n"
     ]
    },
    {
     "name": "stderr",
     "output_type": "stream",
     "text": [
      "  1%|▉                                                                        | 1628/132269 [30:10<40:19:52,  1.11s/it]"
     ]
    },
    {
     "name": "stdout",
     "output_type": "stream",
     "text": [
      "Warning: Could not download image human_ears\\1627 from https://safebooru.org/thumbnails/228/thumbnail_72088f6a032556f19e83d31fdc8801bca665e5fe.png\n"
     ]
    },
    {
     "name": "stderr",
     "output_type": "stream",
     "text": [
      "  1%|▉                                                                        | 1647/132269 [30:31<39:40:52,  1.09s/it]"
     ]
    },
    {
     "name": "stdout",
     "output_type": "stream",
     "text": [
      "Warning: Could not download image human_ears\\1646 from https://safebooru.org/thumbnails/231/thumbnail_ce0db33cf7b1f9fb16f44fc3725fdcf37f5ec487.gif\n"
     ]
    },
    {
     "name": "stderr",
     "output_type": "stream",
     "text": [
      "  1%|▉                                                                        | 1651/132269 [30:35<39:24:52,  1.09s/it]"
     ]
    },
    {
     "name": "stdout",
     "output_type": "stream",
     "text": [
      "Warning: Could not download image human_ears\\1650 from https://safebooru.org/thumbnails/232/thumbnail_e340808e0cdf8b61c4631948af46b3f633c35a25.png\n"
     ]
    },
    {
     "name": "stderr",
     "output_type": "stream",
     "text": [
      "\r",
      "  1%|▉                                                                        | 1652/132269 [30:36<40:22:43,  1.11s/it]"
     ]
    },
    {
     "name": "stdout",
     "output_type": "stream",
     "text": [
      "Warning: Could not download image human_ears\\1651 from https://safebooru.org/thumbnails/232/thumbnail_254335c019d8d76ee24cf26037d96e989e450030.png\n"
     ]
    },
    {
     "name": "stderr",
     "output_type": "stream",
     "text": [
      "  1%|▉                                                                        | 1654/132269 [30:38<40:51:52,  1.13s/it]"
     ]
    },
    {
     "name": "stdout",
     "output_type": "stream",
     "text": [
      "Warning: Could not download image human_ears\\1653 from https://safebooru.org/thumbnails/232/thumbnail_7ad240883e556c176a2192daea083c26b3698e62.png\n"
     ]
    },
    {
     "name": "stderr",
     "output_type": "stream",
     "text": [
      "  1%|▉                                                                        | 1656/132269 [30:41<44:06:33,  1.22s/it]"
     ]
    },
    {
     "name": "stdout",
     "output_type": "stream",
     "text": [
      "Warning: Could not download image human_ears\\1655 from https://safebooru.org/thumbnails/232/thumbnail_ccfdd84a1e1793aee1039b19d41a9b8de855f0df.png\n"
     ]
    },
    {
     "name": "stderr",
     "output_type": "stream",
     "text": [
      "\r",
      "  1%|▉                                                                        | 1657/132269 [30:42<42:31:30,  1.17s/it]"
     ]
    },
    {
     "name": "stdout",
     "output_type": "stream",
     "text": [
      "Warning: Could not download image human_ears\\1656 from https://safebooru.org/thumbnails/234/thumbnail_6a00ceef3991e00f323542f1c3a1b19b4c6bc3fb.png\n"
     ]
    },
    {
     "name": "stderr",
     "output_type": "stream",
     "text": [
      "  1%|▉                                                                        | 1668/132269 [30:54<38:45:15,  1.07s/it]"
     ]
    },
    {
     "name": "stdout",
     "output_type": "stream",
     "text": [
      "Warning: Could not download image human_ears\\1667 from https://safebooru.org/thumbnails/236/thumbnail_d19f25fecca271795907749c354598979b17cf6a.png\n"
     ]
    },
    {
     "name": "stderr",
     "output_type": "stream",
     "text": [
      "  1%|▉                                                                        | 1671/132269 [30:57<38:12:13,  1.05s/it]"
     ]
    },
    {
     "name": "stdout",
     "output_type": "stream",
     "text": [
      "Warning: Could not download image human_ears\\1670 from https://safebooru.org/thumbnails/237/thumbnail_84dea513b33c2325eb81fc274b6be6e4a62c03a3.gif\n"
     ]
    },
    {
     "name": "stderr",
     "output_type": "stream",
     "text": [
      "  1%|▉                                                                        | 1680/132269 [31:06<36:42:53,  1.01s/it]"
     ]
    },
    {
     "name": "stdout",
     "output_type": "stream",
     "text": [
      "Warning: Could not download image human_ears\\1679 from https://safebooru.org/thumbnails/239/thumbnail_c960eb7d25edec575df4239e102fb06f1998f727.png\n"
     ]
    },
    {
     "name": "stderr",
     "output_type": "stream",
     "text": [
      "  1%|▉                                                                        | 1683/132269 [31:09<37:31:22,  1.03s/it]"
     ]
    },
    {
     "name": "stdout",
     "output_type": "stream",
     "text": [
      "Warning: Could not download image human_ears\\1682 from https://safebooru.org/thumbnails/240/thumbnail_24ce73b17dac52001e66b44f48ff2afe162cd75c.png\n"
     ]
    },
    {
     "name": "stderr",
     "output_type": "stream",
     "text": [
      "\r",
      "  1%|▉                                                                        | 1684/132269 [31:10<37:50:36,  1.04s/it]"
     ]
    },
    {
     "name": "stdout",
     "output_type": "stream",
     "text": [
      "Warning: Could not download image human_ears\\1683 from https://safebooru.org/thumbnails/240/thumbnail_be43ac3e1d44314a1540f8f246849107661f5800.png\n"
     ]
    },
    {
     "name": "stderr",
     "output_type": "stream",
     "text": [
      "\r",
      "  1%|▉                                                                        | 1685/132269 [31:11<40:30:12,  1.12s/it]"
     ]
    },
    {
     "name": "stdout",
     "output_type": "stream",
     "text": [
      "Warning: Could not download image human_ears\\1684 from https://safebooru.org/thumbnails/241/thumbnail_013b96cd68d3da32d60ec093cde0762cee1ef899.png\n"
     ]
    },
    {
     "name": "stderr",
     "output_type": "stream",
     "text": [
      "\r",
      "  1%|▉                                                                        | 1686/132269 [31:12<39:42:09,  1.09s/it]"
     ]
    },
    {
     "name": "stdout",
     "output_type": "stream",
     "text": [
      "Warning: Could not download image human_ears\\1685 from https://safebooru.org/thumbnails/241/thumbnail_a415e7592d3577e14534d2189d0b47e655c6dabd.png\n"
     ]
    },
    {
     "name": "stderr",
     "output_type": "stream",
     "text": [
      "  1%|▉                                                                        | 1701/132269 [31:28<38:48:54,  1.07s/it]"
     ]
    },
    {
     "name": "stdout",
     "output_type": "stream",
     "text": [
      "Warning: Could not download image human_ears\\1700 from https://safebooru.org/thumbnails/244/thumbnail_7f58f5c5eeb62a6beaa02c7cd6fc58c5d970d806.png\n"
     ]
    },
    {
     "name": "stderr",
     "output_type": "stream",
     "text": [
      "  1%|▉                                                                        | 1708/132269 [31:36<39:00:35,  1.08s/it]"
     ]
    },
    {
     "name": "stdout",
     "output_type": "stream",
     "text": [
      "Warning: Could not download image human_ears\\1707 from https://safebooru.org/thumbnails/246/thumbnail_aac856f99d9d4a150430d7635bb89eb929994f5a.png\n"
     ]
    },
    {
     "name": "stderr",
     "output_type": "stream",
     "text": [
      "  1%|▉                                                                        | 1717/132269 [31:46<40:37:35,  1.12s/it]"
     ]
    },
    {
     "name": "stdout",
     "output_type": "stream",
     "text": [
      "Warning: Could not download image human_ears\\1716 from https://safebooru.org/thumbnails/247/thumbnail_81b9059b07ef899641acc60cbbeaabd5ecea0ee2.png\n"
     ]
    },
    {
     "name": "stderr",
     "output_type": "stream",
     "text": [
      "  1%|▉                                                                        | 1722/132269 [31:52<39:07:04,  1.08s/it]"
     ]
    },
    {
     "name": "stdout",
     "output_type": "stream",
     "text": [
      "Warning: Could not download image human_ears\\1721 from https://safebooru.org/thumbnails/248/thumbnail_c533f70712437d0a8b64c18c27d7556f37c48c27.gif\n"
     ]
    },
    {
     "name": "stderr",
     "output_type": "stream",
     "text": [
      "  1%|▉                                                                        | 1724/132269 [31:54<38:51:27,  1.07s/it]"
     ]
    },
    {
     "name": "stdout",
     "output_type": "stream",
     "text": [
      "Warning: Could not download image human_ears\\1723 from https://safebooru.org/thumbnails/248/thumbnail_279aaddfe80e39155133ac64028447eea87305a0.png\n"
     ]
    },
    {
     "name": "stderr",
     "output_type": "stream",
     "text": [
      "  1%|▉                                                                        | 1729/132269 [31:59<38:35:00,  1.06s/it]"
     ]
    },
    {
     "name": "stdout",
     "output_type": "stream",
     "text": [
      "Warning: Could not download image human_ears\\1728 from https://safebooru.org/thumbnails/249/thumbnail_43274ef2db76e07716097a156eebd1acab1139f9.png\n"
     ]
    },
    {
     "name": "stderr",
     "output_type": "stream",
     "text": [
      "  1%|▉                                                                        | 1742/132269 [32:13<39:44:12,  1.10s/it]"
     ]
    },
    {
     "name": "stdout",
     "output_type": "stream",
     "text": [
      "Warning: Could not download image human_ears\\1741 from https://safebooru.org/thumbnails/253/thumbnail_f543486d0d30da776f5a1a3c323b7523b184aad2.png\n"
     ]
    },
    {
     "name": "stderr",
     "output_type": "stream",
     "text": [
      "  1%|▉                                                                        | 1745/132269 [32:16<35:04:40,  1.03it/s]"
     ]
    },
    {
     "name": "stdout",
     "output_type": "stream",
     "text": [
      "Warning: Could not download image human_ears\\1744 from https://safebooru.org/thumbnails/254/thumbnail_43b628d976701dc448652908a989f8ffc98a1fdb.gif\n"
     ]
    },
    {
     "name": "stderr",
     "output_type": "stream",
     "text": [
      "  1%|▉                                                                        | 1755/132269 [32:27<38:45:28,  1.07s/it]"
     ]
    },
    {
     "name": "stdout",
     "output_type": "stream",
     "text": [
      "Warning: Could not download image human_ears\\1754 from https://safebooru.org/thumbnails/258/thumbnail_1e0e7a81db162c10d69994f5011ec7547876e9dc.gif\n"
     ]
    },
    {
     "name": "stderr",
     "output_type": "stream",
     "text": [
      "  1%|▉                                                                        | 1757/132269 [32:29<38:42:24,  1.07s/it]"
     ]
    },
    {
     "name": "stdout",
     "output_type": "stream",
     "text": [
      "Warning: Could not download image human_ears\\1756 from https://safebooru.org/thumbnails/258/thumbnail_9a6081e8768dabe9959cb9b0ef139f3f532a12ce.png\n"
     ]
    },
    {
     "name": "stderr",
     "output_type": "stream",
     "text": [
      "  1%|▉                                                                        | 1763/132269 [32:35<40:19:45,  1.11s/it]"
     ]
    },
    {
     "name": "stdout",
     "output_type": "stream",
     "text": [
      "Warning: Could not download image human_ears\\1762 from https://safebooru.org/thumbnails/258/thumbnail_71b71cfb0395063eaf2ff39ca4f3164e465a08df.png\n"
     ]
    },
    {
     "name": "stderr",
     "output_type": "stream",
     "text": [
      "  1%|▉                                                                        | 1772/132269 [32:50<57:47:34,  1.59s/it]"
     ]
    },
    {
     "name": "stdout",
     "output_type": "stream",
     "text": [
      "Warning: Could not download image human_ears\\1771 from https://safebooru.org/thumbnails/262/thumbnail_f95a68d4f2eac373efaadda8d099b9f0f76e35ce.png\n"
     ]
    },
    {
     "name": "stderr",
     "output_type": "stream",
     "text": [
      "  1%|▉                                                                        | 1789/132269 [33:07<40:05:38,  1.11s/it]"
     ]
    },
    {
     "name": "stdout",
     "output_type": "stream",
     "text": [
      "Warning: Could not download image human_ears\\1788 from https://safebooru.org/thumbnails/270/thumbnail_3a74801d20c5abddcd7524b3897298b170981c3b.png\n"
     ]
    },
    {
     "name": "stderr",
     "output_type": "stream",
     "text": [
      "  1%|▉                                                                        | 1795/132269 [33:14<38:14:58,  1.06s/it]"
     ]
    },
    {
     "name": "stdout",
     "output_type": "stream",
     "text": [
      "Warning: Could not download image human_ears\\1794 from https://safebooru.org/thumbnails/272/thumbnail_13c9f123af89f9d512428f40f6058a610dcf5a74.png\n"
     ]
    },
    {
     "name": "stderr",
     "output_type": "stream",
     "text": [
      "  1%|▉                                                                        | 1799/132269 [33:18<38:09:46,  1.05s/it]"
     ]
    },
    {
     "name": "stdout",
     "output_type": "stream",
     "text": [
      "Warning: Could not download image human_ears\\1798 from https://safebooru.org/thumbnails/273/thumbnail_85dc519f055dd82d0fd5db79ab6367c0c9e7688d.gif\n"
     ]
    },
    {
     "name": "stderr",
     "output_type": "stream",
     "text": [
      "  1%|▉                                                                        | 1805/132269 [33:25<41:40:21,  1.15s/it]"
     ]
    },
    {
     "name": "stdout",
     "output_type": "stream",
     "text": [
      "Warning: Could not download image human_ears\\1804 from https://safebooru.org/thumbnails/277/thumbnail_ec56536eed2276572da560fed4ca81860168e9de.gif\n"
     ]
    },
    {
     "name": "stderr",
     "output_type": "stream",
     "text": [
      "  1%|█                                                                        | 1813/132269 [33:34<39:49:34,  1.10s/it]"
     ]
    },
    {
     "name": "stdout",
     "output_type": "stream",
     "text": [
      "Warning: Could not download image human_ears\\1812 from https://safebooru.org/thumbnails/280/thumbnail_2c42d8d7a87bfcf06a4c09244ac4841965e004da.gif\n"
     ]
    },
    {
     "name": "stderr",
     "output_type": "stream",
     "text": [
      "  1%|█                                                                        | 1817/132269 [33:38<38:45:40,  1.07s/it]"
     ]
    },
    {
     "name": "stdout",
     "output_type": "stream",
     "text": [
      "Warning: Could not download image human_ears\\1816 from https://safebooru.org/thumbnails/282/thumbnail_9735577bd5ff4d7f4420ab2f3c383f0e30b19073.png\n"
     ]
    },
    {
     "name": "stderr",
     "output_type": "stream",
     "text": [
      "  1%|█                                                                        | 1819/132269 [33:40<38:38:12,  1.07s/it]"
     ]
    },
    {
     "name": "stdout",
     "output_type": "stream",
     "text": [
      "Warning: Could not download image human_ears\\1818 from https://safebooru.org/thumbnails/284/thumbnail_4a796c9ad6b2b996ee3fb90c505fb283e7053d1d.png\n"
     ]
    },
    {
     "name": "stderr",
     "output_type": "stream",
     "text": [
      "  1%|█                                                                        | 1837/132269 [34:03<39:54:29,  1.10s/it]"
     ]
    },
    {
     "name": "stdout",
     "output_type": "stream",
     "text": [
      "Warning: Could not download image human_ears\\1836 from https://safebooru.org/thumbnails/290/thumbnail_d4d8ccadf9d1698e0e5552062ad3f41f54bd88b9.gif\n"
     ]
    },
    {
     "name": "stderr",
     "output_type": "stream",
     "text": [
      "  1%|█                                                                        | 1854/132269 [34:20<37:02:51,  1.02s/it]"
     ]
    },
    {
     "name": "stdout",
     "output_type": "stream",
     "text": [
      "Warning: Could not download image human_ears\\1853 from https://safebooru.org/thumbnails/297/thumbnail_343ae05fab6919d428e83c880e9aaf6efe98ce9a.png\n"
     ]
    },
    {
     "name": "stderr",
     "output_type": "stream",
     "text": [
      "  1%|█                                                                        | 1861/132269 [34:28<38:50:13,  1.07s/it]"
     ]
    },
    {
     "name": "stdout",
     "output_type": "stream",
     "text": [
      "Warning: Could not download image human_ears\\1860 from https://safebooru.org/thumbnails/299/thumbnail_eaa906af22bf26c3c8f9e6f23d9b5d520fd8e1a3.png\n"
     ]
    },
    {
     "name": "stderr",
     "output_type": "stream",
     "text": [
      "  1%|█                                                                        | 1864/132269 [34:31<38:47:32,  1.07s/it]"
     ]
    },
    {
     "name": "stdout",
     "output_type": "stream",
     "text": [
      "Warning: Could not download image human_ears\\1863 from https://safebooru.org/thumbnails/300/thumbnail_c1ccb133636c5330d584c24d152bcfa1d8dc4056.png\n"
     ]
    },
    {
     "name": "stderr",
     "output_type": "stream",
     "text": [
      "  1%|█                                                                        | 1867/132269 [34:33<32:47:33,  1.10it/s]"
     ]
    },
    {
     "name": "stdout",
     "output_type": "stream",
     "text": [
      "Warning: Could not download image human_ears\\1866 from https://safebooru.org/thumbnails/301/thumbnail_2aac80c0d540cfec95eb26b56e9e2bd37955b563.png\n"
     ]
    },
    {
     "name": "stderr",
     "output_type": "stream",
     "text": [
      "  1%|█                                                                        | 1872/132269 [34:38<37:09:51,  1.03s/it]"
     ]
    },
    {
     "name": "stdout",
     "output_type": "stream",
     "text": [
      "Warning: Could not download image human_ears\\1871 from https://safebooru.org/thumbnails/302/thumbnail_a31f5a525b716742cd9ce033d7a2937871b78840.gif\n"
     ]
    },
    {
     "name": "stderr",
     "output_type": "stream",
     "text": [
      "  1%|█                                                                        | 1875/132269 [34:42<38:16:01,  1.06s/it]"
     ]
    },
    {
     "name": "stdout",
     "output_type": "stream",
     "text": [
      "Warning: Could not download image human_ears\\1874 from https://safebooru.org/thumbnails/304/thumbnail_4e9d309d06475e7613bae8af772dcbfc0e7293c5.png\n"
     ]
    },
    {
     "name": "stderr",
     "output_type": "stream",
     "text": [
      "  1%|█                                                                        | 1877/132269 [34:44<38:31:22,  1.06s/it]"
     ]
    },
    {
     "name": "stdout",
     "output_type": "stream",
     "text": [
      "Warning: Could not download image human_ears\\1876 from https://safebooru.org/thumbnails/305/thumbnail_d2288d7d4487c601e64c785e371862efde6f80f5.png\n"
     ]
    },
    {
     "name": "stderr",
     "output_type": "stream",
     "text": [
      "  1%|█                                                                        | 1883/132269 [34:50<38:09:36,  1.05s/it]"
     ]
    },
    {
     "name": "stdout",
     "output_type": "stream",
     "text": [
      "Warning: Could not download image human_ears\\1882 from https://safebooru.org/thumbnails/306/thumbnail_1c5dd213f9f7064b37b8fc5e973da93ebd32c3ce.png\n"
     ]
    },
    {
     "name": "stderr",
     "output_type": "stream",
     "text": [
      "  1%|█                                                                        | 1892/132269 [35:00<41:23:59,  1.14s/it]"
     ]
    },
    {
     "name": "stdout",
     "output_type": "stream",
     "text": [
      "Warning: Could not download image human_ears\\1891 from https://safebooru.org/thumbnails/311/thumbnail_27f4fc773760edbfea5d614a92c2753ca596a0ea.gif\n"
     ]
    },
    {
     "name": "stderr",
     "output_type": "stream",
     "text": [
      "  1%|█                                                                        | 1894/132269 [35:02<42:04:45,  1.16s/it]"
     ]
    },
    {
     "name": "stdout",
     "output_type": "stream",
     "text": [
      "Warning: Could not download image human_ears\\1893 from https://safebooru.org/thumbnails/311/thumbnail_3df3c189f1d7c7227a97226e450e604a4ac2b8ef.png\n"
     ]
    },
    {
     "name": "stderr",
     "output_type": "stream",
     "text": [
      "  1%|█                                                                        | 1904/132269 [35:13<38:45:58,  1.07s/it]"
     ]
    },
    {
     "name": "stdout",
     "output_type": "stream",
     "text": [
      "Warning: Could not download image human_ears\\1903 from https://safebooru.org/thumbnails/313/thumbnail_d91f0c95d0bd9dac504b809e9b10c8dd4a2d8f7d.gif\n"
     ]
    },
    {
     "name": "stderr",
     "output_type": "stream",
     "text": [
      "  1%|█                                                                        | 1908/132269 [35:18<41:58:48,  1.16s/it]"
     ]
    },
    {
     "name": "stdout",
     "output_type": "stream",
     "text": [
      "Warning: Could not download image human_ears\\1907 from https://safebooru.org/thumbnails/325/thumbnail_d204ebeb437614072ddea3dd81effa6233708f70.png\n"
     ]
    },
    {
     "name": "stderr",
     "output_type": "stream",
     "text": [
      "\r",
      "  1%|█                                                                        | 1909/132269 [35:19<40:58:17,  1.13s/it]"
     ]
    },
    {
     "name": "stdout",
     "output_type": "stream",
     "text": [
      "Warning: Could not download image human_ears\\1908 from https://safebooru.org/thumbnails/325/thumbnail_433076f41948261bb7d6c8a806548616a4554fa8.png\n"
     ]
    },
    {
     "name": "stderr",
     "output_type": "stream",
     "text": [
      "\r",
      "  1%|█                                                                        | 1910/132269 [35:20<40:00:03,  1.10s/it]"
     ]
    },
    {
     "name": "stdout",
     "output_type": "stream",
     "text": [
      "Warning: Could not download image human_ears\\1909 from https://safebooru.org/thumbnails/325/thumbnail_bb20073924444488c7db6986c3207a6414d6a090.png\n"
     ]
    },
    {
     "name": "stderr",
     "output_type": "stream",
     "text": [
      "  1%|█                                                                        | 1914/132269 [35:25<41:17:51,  1.14s/it]"
     ]
    },
    {
     "name": "stdout",
     "output_type": "stream",
     "text": [
      "Warning: Could not download image human_ears\\1913 from https://safebooru.org/thumbnails/329/thumbnail_1d91d6d2cd104af02121bb4affec1e5f0791165d.png\n"
     ]
    },
    {
     "name": "stderr",
     "output_type": "stream",
     "text": [
      "  1%|█                                                                        | 1926/132269 [35:38<40:22:55,  1.12s/it]"
     ]
    },
    {
     "name": "stdout",
     "output_type": "stream",
     "text": [
      "Warning: Could not download image human_ears\\1925 from https://safebooru.org/thumbnails/332/thumbnail_0fa8ae61bfdcd79d47ea17c2af2e33ff7ccbc42c.png\n"
     ]
    },
    {
     "name": "stderr",
     "output_type": "stream",
     "text": [
      "\r",
      "  1%|█                                                                        | 1927/132269 [35:39<39:36:59,  1.09s/it]"
     ]
    },
    {
     "name": "stdout",
     "output_type": "stream",
     "text": [
      "Warning: Could not download image human_ears\\1926 from https://safebooru.org/thumbnails/332/thumbnail_dc08382d252f6abd6453abe0de36cfccfe62c38a.png\n"
     ]
    },
    {
     "name": "stderr",
     "output_type": "stream",
     "text": [
      "  1%|█                                                                        | 1933/132269 [35:46<39:18:53,  1.09s/it]"
     ]
    },
    {
     "name": "stdout",
     "output_type": "stream",
     "text": [
      "Warning: Could not download image human_ears\\1932 from https://safebooru.org/thumbnails/334/thumbnail_ddea32d0d19601949d0fc8e445dd4574f36e82c4.png\n"
     ]
    },
    {
     "name": "stderr",
     "output_type": "stream",
     "text": [
      "  1%|█                                                                        | 1948/132269 [36:01<37:57:31,  1.05s/it]"
     ]
    },
    {
     "name": "stdout",
     "output_type": "stream",
     "text": [
      "Warning: Could not download image human_ears\\1947 from https://safebooru.org/thumbnails/336/thumbnail_dd40c6eeee810605b4319d15428b2d32e2be9c51.png\n"
     ]
    },
    {
     "name": "stderr",
     "output_type": "stream",
     "text": [
      "\r",
      "  1%|█                                                                        | 1949/132269 [36:02<37:57:23,  1.05s/it]"
     ]
    },
    {
     "name": "stdout",
     "output_type": "stream",
     "text": [
      "Warning: Could not download image human_ears\\1948 from https://safebooru.org/thumbnails/336/thumbnail_ee6a8497cc7aa7feb11f90465a23ec2c1dbed55b.png\n"
     ]
    },
    {
     "name": "stderr",
     "output_type": "stream",
     "text": [
      "  1%|█                                                                        | 1961/132269 [36:15<39:48:32,  1.10s/it]"
     ]
    },
    {
     "name": "stdout",
     "output_type": "stream",
     "text": [
      "Warning: Could not download image human_ears\\1960 from https://safebooru.org/thumbnails/338/thumbnail_4cbddaa308673a8aaaa921d6cf53e2ffcf713d69.png\n"
     ]
    },
    {
     "name": "stderr",
     "output_type": "stream",
     "text": [
      "  1%|█                                                                        | 1977/132269 [36:33<39:05:18,  1.08s/it]"
     ]
    },
    {
     "name": "stdout",
     "output_type": "stream",
     "text": [
      "Warning: Could not download image human_ears\\1976 from https://safebooru.org/thumbnails/338/thumbnail_c927d9cae8e7561d63fe6765ba09bfd0a2f58d51.png\n"
     ]
    },
    {
     "name": "stderr",
     "output_type": "stream",
     "text": [
      "\r",
      "  1%|█                                                                        | 1978/132269 [36:34<38:38:59,  1.07s/it]"
     ]
    },
    {
     "name": "stdout",
     "output_type": "stream",
     "text": [
      "Warning: Could not download image human_ears\\1977 from https://safebooru.org/thumbnails/339/thumbnail_ec7fee37a272fa45000fd961ba75a065b6b0c06b.png\n"
     ]
    },
    {
     "name": "stderr",
     "output_type": "stream",
     "text": [
      "  1%|█                                                                        | 1980/132269 [36:36<38:23:10,  1.06s/it]"
     ]
    },
    {
     "name": "stdout",
     "output_type": "stream",
     "text": [
      "Warning: Could not download image human_ears\\1979 from https://safebooru.org/thumbnails/339/thumbnail_0aecfa5719c172e8b67a4d40ec7e97bc43acac5a.png\n"
     ]
    },
    {
     "name": "stderr",
     "output_type": "stream",
     "text": [
      "  2%|█                                                                        | 1989/132269 [36:46<38:41:12,  1.07s/it]"
     ]
    },
    {
     "name": "stdout",
     "output_type": "stream",
     "text": [
      "Warning: Could not download image human_ears\\1988 from https://safebooru.org/thumbnails/339/thumbnail_275afbfda1a476dc97e226ad5292b475f40871eb.png\n"
     ]
    },
    {
     "name": "stderr",
     "output_type": "stream",
     "text": [
      "\r",
      "  2%|█                                                                        | 1990/132269 [36:47<41:34:54,  1.15s/it]"
     ]
    },
    {
     "name": "stdout",
     "output_type": "stream",
     "text": [
      "Warning: Could not download image human_ears\\1989 from https://safebooru.org/thumbnails/340/thumbnail_523707345b0a38c33e0ad0e24882f8b722d006ce.png\n"
     ]
    },
    {
     "name": "stderr",
     "output_type": "stream",
     "text": [
      "\r",
      "  2%|█                                                                        | 1991/132269 [36:48<40:50:25,  1.13s/it]"
     ]
    },
    {
     "name": "stdout",
     "output_type": "stream",
     "text": [
      "Warning: Could not download image human_ears\\1990 from https://safebooru.org/thumbnails/340/thumbnail_1be3b9c679a595a68c2f038ea16d3ef7f171a65d.png\n"
     ]
    },
    {
     "name": "stderr",
     "output_type": "stream",
     "text": [
      "\r",
      "  2%|█                                                                        | 1992/132269 [36:49<40:00:30,  1.11s/it]"
     ]
    },
    {
     "name": "stdout",
     "output_type": "stream",
     "text": [
      "Warning: Could not download image human_ears\\1991 from https://safebooru.org/thumbnails/340/thumbnail_7b54d74f9b88d154af7c37661b06d23c13daca27.jpeg\n"
     ]
    },
    {
     "name": "stderr",
     "output_type": "stream",
     "text": [
      "\r",
      "  2%|█                                                                        | 1993/132269 [36:50<39:28:43,  1.09s/it]"
     ]
    },
    {
     "name": "stdout",
     "output_type": "stream",
     "text": [
      "Warning: Could not download image human_ears\\1992 from https://safebooru.org/thumbnails/340/thumbnail_b79df3b54cae19565275a0b4a274cf304ed88fd9.jpeg\n"
     ]
    },
    {
     "name": "stderr",
     "output_type": "stream",
     "text": [
      "  2%|█                                                                        | 1997/132269 [36:54<38:35:19,  1.07s/it]"
     ]
    },
    {
     "name": "stdout",
     "output_type": "stream",
     "text": [
      "Warning: Could not download image human_ears\\1996 from https://safebooru.org/thumbnails/340/thumbnail_c24da2579034add1af1295cb7d1f672f37b7b8a9.png\n"
     ]
    },
    {
     "name": "stderr",
     "output_type": "stream",
     "text": [
      "\r",
      "  2%|█                                                                        | 1998/132269 [36:55<38:38:10,  1.07s/it]"
     ]
    },
    {
     "name": "stdout",
     "output_type": "stream",
     "text": [
      "Warning: Could not download image human_ears\\1997 from https://safebooru.org/thumbnails/340/thumbnail_f640a567d154439f1de38ee0ef0a3a7ce8c7b5c2.png\n"
     ]
    },
    {
     "name": "stderr",
     "output_type": "stream",
     "text": [
      "  2%|█                                                                        | 2001/132269 [36:59<38:34:00,  1.07s/it]"
     ]
    },
    {
     "name": "stdout",
     "output_type": "stream",
     "text": [
      "Warning: Could not download image human_ears\\2000 from https://safebooru.org/thumbnails/341/thumbnail_1651ca9110dde60ad78395587f036d70a46c1d5b.png\n"
     ]
    },
    {
     "name": "stderr",
     "output_type": "stream",
     "text": [
      "  2%|█                                                                        | 2005/132269 [37:03<40:51:15,  1.13s/it]"
     ]
    },
    {
     "name": "stdout",
     "output_type": "stream",
     "text": [
      "Warning: Could not download image human_ears\\2004 from https://safebooru.org/thumbnails/341/thumbnail_aef5eb3580bc2958e451666d1c8442067db346e8.jpeg\n"
     ]
    },
    {
     "name": "stderr",
     "output_type": "stream",
     "text": [
      "  2%|█                                                                        | 2014/132269 [37:12<36:48:08,  1.02s/it]"
     ]
    },
    {
     "name": "stdout",
     "output_type": "stream",
     "text": [
      "Warning: Could not download image human_ears\\2013 from https://safebooru.org/thumbnails/342/thumbnail_820a742a14d1df228ad3333253cd4e95c9d0e87a.png\n"
     ]
    },
    {
     "name": "stderr",
     "output_type": "stream",
     "text": [
      "  2%|█                                                                        | 2019/132269 [37:18<38:21:21,  1.06s/it]"
     ]
    },
    {
     "name": "stdout",
     "output_type": "stream",
     "text": [
      "Warning: Could not download image human_ears\\2018 from https://safebooru.org/thumbnails/342/thumbnail_6685d4cdc995e7b5102d7e01f958cbe7e0e8b7d7.jpeg\n"
     ]
    },
    {
     "name": "stderr",
     "output_type": "stream",
     "text": [
      "  2%|█                                                                        | 2025/132269 [37:24<38:39:39,  1.07s/it]"
     ]
    },
    {
     "name": "stdout",
     "output_type": "stream",
     "text": [
      "Warning: Could not download image human_ears\\2024 from https://safebooru.org/thumbnails/343/thumbnail_4357630ecafedf3a0f7b1b5e698143d8a658beb4.png\n"
     ]
    },
    {
     "name": "stderr",
     "output_type": "stream",
     "text": [
      "  2%|█                                                                        | 2027/132269 [37:26<38:37:43,  1.07s/it]"
     ]
    },
    {
     "name": "stdout",
     "output_type": "stream",
     "text": [
      "Warning: Could not download image human_ears\\2026 from https://safebooru.org/thumbnails/343/thumbnail_c5bf27b1e8ad9d55e4e8b80f9c7e7c4c6392503c.png\n"
     ]
    },
    {
     "name": "stderr",
     "output_type": "stream",
     "text": [
      "  2%|█                                                                        | 2033/132269 [37:33<38:33:24,  1.07s/it]"
     ]
    },
    {
     "name": "stdout",
     "output_type": "stream",
     "text": [
      "Warning: Could not download image human_ears\\2032 from https://safebooru.org/thumbnails/343/thumbnail_833b2ebeeee248acb00a0ff9542d5fbee472f573.png\n"
     ]
    },
    {
     "name": "stderr",
     "output_type": "stream",
     "text": [
      "  2%|█                                                                        | 2036/132269 [37:36<41:16:07,  1.14s/it]"
     ]
    },
    {
     "name": "stdout",
     "output_type": "stream",
     "text": [
      "Warning: Could not download image human_ears\\2035 from https://safebooru.org/thumbnails/343/thumbnail_a779f87af984543b8238cd6c4a24a2bb7d0b934d.gif\n"
     ]
    },
    {
     "name": "stderr",
     "output_type": "stream",
     "text": [
      "  2%|█▏                                                                       | 2040/132269 [37:41<39:08:25,  1.08s/it]"
     ]
    },
    {
     "name": "stdout",
     "output_type": "stream",
     "text": [
      "Warning: Could not download image human_ears\\2039 from https://safebooru.org/thumbnails/344/thumbnail_0612350c85ab454f5a7315ce48e90cb26daa86ca.png\n"
     ]
    },
    {
     "name": "stderr",
     "output_type": "stream",
     "text": [
      "  2%|█▏                                                                       | 2042/132269 [37:43<38:38:24,  1.07s/it]"
     ]
    },
    {
     "name": "stdout",
     "output_type": "stream",
     "text": [
      "Warning: Could not download image human_ears\\2041 from https://safebooru.org/thumbnails/344/thumbnail_1508c370fc2d9554c5d85a6cd46b6e11e714bddf.png\n"
     ]
    },
    {
     "name": "stderr",
     "output_type": "stream",
     "text": [
      "  2%|█▏                                                                       | 2044/132269 [37:45<38:31:26,  1.06s/it]"
     ]
    },
    {
     "name": "stdout",
     "output_type": "stream",
     "text": [
      "Warning: Could not download image human_ears\\2043 from https://safebooru.org/thumbnails/345/thumbnail_92bee62cafc7178eb63f17e30d02a17f0bcd7524.png\n"
     ]
    },
    {
     "name": "stderr",
     "output_type": "stream",
     "text": [
      "  2%|█▏                                                                       | 2056/132269 [37:59<40:43:08,  1.13s/it]"
     ]
    },
    {
     "name": "stdout",
     "output_type": "stream",
     "text": [
      "Warning: Could not download image human_ears\\2055 from https://safebooru.org/thumbnails/345/thumbnail_883a482bcb224b2257b91dd253a6950613d15bc0.png\n"
     ]
    },
    {
     "name": "stderr",
     "output_type": "stream",
     "text": [
      "\r",
      "  2%|█▏                                                                       | 2057/132269 [38:00<39:59:18,  1.11s/it]"
     ]
    },
    {
     "name": "stdout",
     "output_type": "stream",
     "text": [
      "Warning: Could not download image human_ears\\2056 from https://safebooru.org/thumbnails/345/thumbnail_3d9551e0c50282737f8119c1d54c007229f767a9.png\n"
     ]
    },
    {
     "name": "stderr",
     "output_type": "stream",
     "text": [
      "  2%|█▏                                                                       | 2083/132269 [38:28<38:47:07,  1.07s/it]"
     ]
    },
    {
     "name": "stdout",
     "output_type": "stream",
     "text": [
      "Warning: Could not download image human_ears\\2082 from https://safebooru.org/thumbnails/348/thumbnail_1a3fac038e70c636dcda29ed8fd77410d9381e48.png\n"
     ]
    },
    {
     "name": "stderr",
     "output_type": "stream",
     "text": [
      "  2%|█▏                                                                       | 2085/132269 [38:30<40:46:49,  1.13s/it]"
     ]
    },
    {
     "name": "stdout",
     "output_type": "stream",
     "text": [
      "Warning: Could not download image human_ears\\2084 from https://safebooru.org/thumbnails/348/thumbnail_9a4a58af3a9d9c34a904f30d8dd9cbce7a251ef1.png\n"
     ]
    },
    {
     "name": "stderr",
     "output_type": "stream",
     "text": [
      "  2%|█▏                                                                       | 2087/132269 [38:33<39:51:04,  1.10s/it]"
     ]
    },
    {
     "name": "stdout",
     "output_type": "stream",
     "text": [
      "Warning: Could not download image human_ears\\2086 from https://safebooru.org/thumbnails/349/thumbnail_ff0eeff8318d5fe1ff72a5abf614b45a4f5e6e14.jpeg\n"
     ]
    },
    {
     "name": "stderr",
     "output_type": "stream",
     "text": [
      "  2%|█▏                                                                       | 2092/132269 [38:38<38:35:38,  1.07s/it]"
     ]
    },
    {
     "name": "stdout",
     "output_type": "stream",
     "text": [
      "Warning: Could not download image human_ears\\2091 from https://safebooru.org/thumbnails/349/thumbnail_3593c843b0bd289ce8b6c82e7d3f0cf82b613860.png\n"
     ]
    },
    {
     "name": "stderr",
     "output_type": "stream",
     "text": [
      "  2%|█▏                                                                       | 2109/132269 [38:57<45:00:13,  1.24s/it]"
     ]
    },
    {
     "name": "stdout",
     "output_type": "stream",
     "text": [
      "Warning: Could not download image human_ears\\2108 from https://safebooru.org/thumbnails/350/thumbnail_a0c590ed3e7157aa0167b5f068ffd1f33ac8aa3b.png\n"
     ]
    },
    {
     "name": "stderr",
     "output_type": "stream",
     "text": [
      "  2%|█▏                                                                       | 2114/132269 [39:02<41:49:49,  1.16s/it]"
     ]
    },
    {
     "name": "stdout",
     "output_type": "stream",
     "text": [
      "Warning: Could not download image human_ears\\2113 from https://safebooru.org/thumbnails/351/thumbnail_2d58f44fe4d32e9f3ef24b27013165761ea3c75d.png\n"
     ]
    },
    {
     "name": "stderr",
     "output_type": "stream",
     "text": [
      "\r",
      "  2%|█▏                                                                       | 2115/132269 [39:03<41:04:51,  1.14s/it]"
     ]
    },
    {
     "name": "stdout",
     "output_type": "stream",
     "text": [
      "Warning: Could not download image human_ears\\2114 from https://safebooru.org/thumbnails/351/thumbnail_19458767f3c8fc675acdaccb9048aedce1d368ec.png\n"
     ]
    },
    {
     "name": "stderr",
     "output_type": "stream",
     "text": [
      "  2%|█▏                                                                       | 2122/132269 [39:10<36:54:30,  1.02s/it]"
     ]
    },
    {
     "name": "stdout",
     "output_type": "stream",
     "text": [
      "Warning: Could not download image human_ears\\2121 from https://safebooru.org/thumbnails/351/thumbnail_8c7af6f21edfd35a9c272e5a386c2d6895fb5373.jpeg\n"
     ]
    },
    {
     "name": "stderr",
     "output_type": "stream",
     "text": [
      "  2%|█▏                                                                       | 2126/132269 [39:14<38:23:50,  1.06s/it]"
     ]
    },
    {
     "name": "stdout",
     "output_type": "stream",
     "text": [
      "Warning: Could not download image human_ears\\2125 from https://safebooru.org/thumbnails/352/thumbnail_8a4c342f841abc42200c17ccd76a0f29e449611e.png\n"
     ]
    },
    {
     "name": "stderr",
     "output_type": "stream",
     "text": [
      "  2%|█▏                                                                       | 2140/132269 [39:33<40:41:28,  1.13s/it]"
     ]
    },
    {
     "name": "stdout",
     "output_type": "stream",
     "text": [
      "Warning: Could not download image human_ears\\2139 from https://safebooru.org/thumbnails/352/thumbnail_28896114baf4cbccfb522ba0465ce6671e8c677d.png\n"
     ]
    },
    {
     "name": "stderr",
     "output_type": "stream",
     "text": [
      "  2%|█▏                                                                       | 2142/132269 [39:35<39:15:29,  1.09s/it]"
     ]
    },
    {
     "name": "stdout",
     "output_type": "stream",
     "text": [
      "Warning: Could not download image human_ears\\2141 from https://safebooru.org/thumbnails/353/thumbnail_9db3ba167852ccb28b698af19eae3bb08f227efb.png\n"
     ]
    },
    {
     "name": "stderr",
     "output_type": "stream",
     "text": [
      "  2%|█▏                                                                       | 2151/132269 [39:45<39:03:04,  1.08s/it]"
     ]
    },
    {
     "name": "stdout",
     "output_type": "stream",
     "text": [
      "Warning: Could not download image human_ears\\2150 from https://safebooru.org/thumbnails/353/thumbnail_392caaeea970f952c03276c75b55dac5367001b7.png\n"
     ]
    },
    {
     "name": "stderr",
     "output_type": "stream",
     "text": [
      "  2%|█▏                                                                       | 2153/132269 [39:47<39:08:50,  1.08s/it]"
     ]
    },
    {
     "name": "stdout",
     "output_type": "stream",
     "text": [
      "Warning: Could not download image human_ears\\2152 from https://safebooru.org/thumbnails/353/thumbnail_8796d1c178ffaa9f213ce0f60b93125ccbf324e0.png\n"
     ]
    },
    {
     "name": "stderr",
     "output_type": "stream",
     "text": [
      "  2%|█▏                                                                       | 2155/132269 [39:49<38:40:17,  1.07s/it]"
     ]
    },
    {
     "name": "stdout",
     "output_type": "stream",
     "text": [
      "Warning: Could not download image human_ears\\2154 from https://safebooru.org/thumbnails/353/thumbnail_ab9f62414a97cbef190143354579abe2678fd3b5.png\n"
     ]
    },
    {
     "name": "stderr",
     "output_type": "stream",
     "text": [
      "  2%|█▏                                                                       | 2162/132269 [39:56<38:59:00,  1.08s/it]"
     ]
    },
    {
     "name": "stdout",
     "output_type": "stream",
     "text": [
      "Warning: Could not download image human_ears\\2161 from https://safebooru.org/thumbnails/354/thumbnail_220c968b5a179c481d848ad751a4e70cf87aaefa.png\n"
     ]
    },
    {
     "name": "stderr",
     "output_type": "stream",
     "text": [
      "  2%|█▏                                                                       | 2166/132269 [40:01<39:29:27,  1.09s/it]"
     ]
    },
    {
     "name": "stdout",
     "output_type": "stream",
     "text": [
      "Warning: Could not download image human_ears\\2165 from https://safebooru.org/thumbnails/354/thumbnail_51f3345e163f222859c2cf821a35fb426f9f2fbd.png\n"
     ]
    },
    {
     "name": "stderr",
     "output_type": "stream",
     "text": [
      "  2%|█▏                                                                       | 2170/132269 [40:05<40:00:38,  1.11s/it]"
     ]
    },
    {
     "name": "stdout",
     "output_type": "stream",
     "text": [
      "Warning: Could not download image human_ears\\2169 from https://safebooru.org/thumbnails/354/thumbnail_608a4e070115734d2f3f963e9b9cfc58c4a102f5.png\n"
     ]
    },
    {
     "name": "stderr",
     "output_type": "stream",
     "text": [
      "  2%|█▏                                                                       | 2173/132269 [40:09<41:06:19,  1.14s/it]"
     ]
    },
    {
     "name": "stdout",
     "output_type": "stream",
     "text": [
      "Warning: Could not download image human_ears\\2172 from https://safebooru.org/thumbnails/354/thumbnail_22d0d539e837afd982a2290f4b1365b18e41f216.gif\n"
     ]
    },
    {
     "name": "stderr",
     "output_type": "stream",
     "text": [
      "  2%|█▏                                                                       | 2177/132269 [40:13<38:51:09,  1.08s/it]"
     ]
    },
    {
     "name": "stdout",
     "output_type": "stream",
     "text": [
      "Warning: Could not download image human_ears\\2176 from https://safebooru.org/thumbnails/354/thumbnail_b526dc97e1e55fbe6811e2f9dbe6710b96e7e0e1.png\n"
     ]
    },
    {
     "name": "stderr",
     "output_type": "stream",
     "text": [
      "  2%|█▏                                                                       | 2190/132269 [40:28<39:35:30,  1.10s/it]"
     ]
    },
    {
     "name": "stdout",
     "output_type": "stream",
     "text": [
      "Warning: Could not download image human_ears\\2189 from https://safebooru.org/thumbnails/355/thumbnail_84cf49df43d84ec1cda474d55410f9659591ae4f.png\n"
     ]
    },
    {
     "name": "stderr",
     "output_type": "stream",
     "text": [
      "  2%|█▏                                                                       | 2192/132269 [40:31<40:13:58,  1.11s/it]"
     ]
    },
    {
     "name": "stdout",
     "output_type": "stream",
     "text": [
      "Warning: Could not download image human_ears\\2191 from https://safebooru.org/thumbnails/356/thumbnail_14a32f836a8dafa4ec92487fca7884fb8c29e363.png\n"
     ]
    },
    {
     "name": "stderr",
     "output_type": "stream",
     "text": [
      "  2%|█▏                                                                       | 2194/132269 [40:33<39:17:06,  1.09s/it]"
     ]
    },
    {
     "name": "stdout",
     "output_type": "stream",
     "text": [
      "Warning: Could not download image human_ears\\2193 from https://safebooru.org/thumbnails/356/thumbnail_493005997560f0d18130a5c0721dd43968966330.png\n"
     ]
    },
    {
     "name": "stderr",
     "output_type": "stream",
     "text": [
      "  2%|█▏                                                                       | 2197/132269 [40:37<44:42:14,  1.24s/it]"
     ]
    },
    {
     "name": "stdout",
     "output_type": "stream",
     "text": [
      "Warning: Could not download image human_ears\\2196 from https://safebooru.org/thumbnails/356/thumbnail_7d85e363e3a1356110c38ae0b3cbaa52155f1a13.png\n"
     ]
    },
    {
     "name": "stderr",
     "output_type": "stream",
     "text": [
      "  2%|█▏                                                                       | 2205/132269 [40:45<39:30:25,  1.09s/it]"
     ]
    },
    {
     "name": "stdout",
     "output_type": "stream",
     "text": [
      "Warning: Could not download image human_ears\\2204 from https://safebooru.org/thumbnails/357/thumbnail_18ff4d21006c650470fb32ec5ab46469b2cf3bb3.png\n"
     ]
    },
    {
     "name": "stderr",
     "output_type": "stream",
     "text": [
      "  2%|█▏                                                                       | 2208/132269 [40:49<38:31:26,  1.07s/it]"
     ]
    },
    {
     "name": "stdout",
     "output_type": "stream",
     "text": [
      "Warning: Could not download image human_ears\\2207 from https://safebooru.org/thumbnails/357/thumbnail_e8c368ae34f973d8ae1d3c1a03fd70f25ba1a2be.png\n"
     ]
    },
    {
     "name": "stderr",
     "output_type": "stream",
     "text": [
      "  2%|█▏                                                                       | 2211/132269 [40:52<39:02:07,  1.08s/it]"
     ]
    },
    {
     "name": "stdout",
     "output_type": "stream",
     "text": [
      "Warning: Could not download image human_ears\\2210 from https://safebooru.org/thumbnails/357/thumbnail_1136e9b8002cf70be7ea3cee4abe7e77f97bbd63.gif\n"
     ]
    },
    {
     "name": "stderr",
     "output_type": "stream",
     "text": [
      "  2%|█▏                                                                       | 2216/132269 [40:57<39:00:40,  1.08s/it]"
     ]
    },
    {
     "name": "stdout",
     "output_type": "stream",
     "text": [
      "Warning: Could not download image human_ears\\2215 from https://safebooru.org/thumbnails/358/thumbnail_949539ed9163ef1135894a3c077b5dad5bfeb42e.png\n"
     ]
    },
    {
     "name": "stderr",
     "output_type": "stream",
     "text": [
      "  2%|█▏                                                                       | 2228/132269 [41:10<39:41:08,  1.10s/it]"
     ]
    },
    {
     "name": "stdout",
     "output_type": "stream",
     "text": [
      "Warning: Could not download image human_ears\\2227 from https://safebooru.org/thumbnails/360/thumbnail_20be506d868d1497c679ba54d03aca9f37df43db.png\n"
     ]
    },
    {
     "name": "stderr",
     "output_type": "stream",
     "text": [
      "\r",
      "  2%|█▏                                                                       | 2229/132269 [41:11<39:43:01,  1.10s/it]"
     ]
    },
    {
     "name": "stdout",
     "output_type": "stream",
     "text": [
      "Warning: Could not download image human_ears\\2228 from https://safebooru.org/thumbnails/360/thumbnail_9d7754f15c32de3528b116d27fb2745b55d68077.png\n"
     ]
    },
    {
     "name": "stderr",
     "output_type": "stream",
     "text": [
      "  2%|█▏                                                                       | 2237/132269 [41:20<42:13:30,  1.17s/it]"
     ]
    },
    {
     "name": "stdout",
     "output_type": "stream",
     "text": [
      "Warning: Could not download image human_ears\\2236 from https://safebooru.org/thumbnails/360/thumbnail_468492dece504a6566f4f99eefb345e9f3cd5636.png\n"
     ]
    },
    {
     "name": "stderr",
     "output_type": "stream",
     "text": [
      "  2%|█▏                                                                       | 2240/132269 [41:24<40:14:02,  1.11s/it]"
     ]
    },
    {
     "name": "stdout",
     "output_type": "stream",
     "text": [
      "Warning: Could not download image human_ears\\2239 from https://safebooru.org/thumbnails/361/thumbnail_e9e0511a22384b8603b5e7a64b8db32dad304da7.png\n"
     ]
    },
    {
     "name": "stderr",
     "output_type": "stream",
     "text": [
      "  2%|█▏                                                                       | 2246/132269 [41:30<40:00:35,  1.11s/it]"
     ]
    },
    {
     "name": "stdout",
     "output_type": "stream",
     "text": [
      "Warning: Could not download image human_ears\\2245 from https://safebooru.org/thumbnails/362/thumbnail_13ad294f6e436f177b6848ab3d19f776ca95fed7.png\n"
     ]
    },
    {
     "name": "stderr",
     "output_type": "stream",
     "text": [
      "\r",
      "  2%|█▏                                                                       | 2247/132269 [41:31<39:21:58,  1.09s/it]"
     ]
    },
    {
     "name": "stdout",
     "output_type": "stream",
     "text": [
      "Warning: Could not download image human_ears\\2246 from https://safebooru.org/thumbnails/362/thumbnail_eff16ea564e5cfc298cbeb1f740dcdef876efbf7.png\n"
     ]
    },
    {
     "name": "stderr",
     "output_type": "stream",
     "text": [
      "\r",
      "  2%|█▏                                                                       | 2248/132269 [41:32<38:47:47,  1.07s/it]"
     ]
    },
    {
     "name": "stdout",
     "output_type": "stream",
     "text": [
      "Warning: Could not download image human_ears\\2247 from https://safebooru.org/thumbnails/362/thumbnail_061a3944150124d5df788923516c6f896c627ef1.png\n"
     ]
    },
    {
     "name": "stderr",
     "output_type": "stream",
     "text": [
      "  2%|█▏                                                                       | 2253/132269 [41:38<38:41:19,  1.07s/it]"
     ]
    },
    {
     "name": "stdout",
     "output_type": "stream",
     "text": [
      "Warning: Could not download image human_ears\\2252 from https://safebooru.org/thumbnails/362/thumbnail_ab9264fe04c0af74cb08e4e9cf363d84f3911611.jpeg\n"
     ]
    },
    {
     "name": "stderr",
     "output_type": "stream",
     "text": [
      "\r",
      "  2%|█▏                                                                       | 2254/132269 [41:39<38:51:48,  1.08s/it]"
     ]
    },
    {
     "name": "stdout",
     "output_type": "stream",
     "text": [
      "Warning: Could not download image human_ears\\2253 from https://safebooru.org/thumbnails/362/thumbnail_fd6c629100b2b4fd10bac2f39ca1793095cd97b0.jpeg\n"
     ]
    },
    {
     "name": "stderr",
     "output_type": "stream",
     "text": [
      "\r",
      "  2%|█▏                                                                       | 2255/132269 [41:40<38:31:53,  1.07s/it]"
     ]
    },
    {
     "name": "stdout",
     "output_type": "stream",
     "text": [
      "Warning: Could not download image human_ears\\2254 from https://safebooru.org/thumbnails/362/thumbnail_9074d83f75efc7b17b254029220f88d546636447.jpeg\n"
     ]
    },
    {
     "name": "stderr",
     "output_type": "stream",
     "text": [
      "  2%|█▏                                                                       | 2261/132269 [41:46<38:28:28,  1.07s/it]"
     ]
    },
    {
     "name": "stdout",
     "output_type": "stream",
     "text": [
      "Warning: Could not download image human_ears\\2260 from https://safebooru.org/thumbnails/362/thumbnail_d600be43714ff3fe1dd9c114b376e9d4a6219e06.jpeg\n"
     ]
    },
    {
     "name": "stderr",
     "output_type": "stream",
     "text": [
      "  2%|█▎                                                                       | 2266/132269 [41:51<31:28:44,  1.15it/s]"
     ]
    },
    {
     "name": "stdout",
     "output_type": "stream",
     "text": [
      "Warning: Could not download image human_ears\\2265 from https://safebooru.org/thumbnails/363/thumbnail_6bc3df1b98e4be2ed30c1d471004198efee21203.png\n"
     ]
    },
    {
     "name": "stderr",
     "output_type": "stream",
     "text": [
      "\r",
      "  2%|█▎                                                                       | 2267/132269 [41:52<33:33:58,  1.08it/s]"
     ]
    },
    {
     "name": "stdout",
     "output_type": "stream",
     "text": [
      "Warning: Could not download image human_ears\\2266 from https://safebooru.org/thumbnails/363/thumbnail_daa7732274bb2b412d90b2e199f5ecedff4f1fcc.png\n"
     ]
    },
    {
     "name": "stderr",
     "output_type": "stream",
     "text": [
      "\r",
      "  2%|█▎                                                                       | 2268/132269 [41:53<35:03:42,  1.03it/s]"
     ]
    },
    {
     "name": "stdout",
     "output_type": "stream",
     "text": [
      "Warning: Could not download image human_ears\\2267 from https://safebooru.org/thumbnails/363/thumbnail_d797362f051bf5dfc5b8d54c68cc3a57c36da15b.png\n"
     ]
    },
    {
     "name": "stderr",
     "output_type": "stream",
     "text": [
      "  2%|█▎                                                                       | 2281/132269 [42:07<40:58:24,  1.13s/it]"
     ]
    },
    {
     "name": "stdout",
     "output_type": "stream",
     "text": [
      "Warning: Could not download image human_ears\\2280 from https://safebooru.org/thumbnails/364/thumbnail_b0545d683d1b6012c9176833e73eec34b693e868.jpeg\n"
     ]
    },
    {
     "name": "stderr",
     "output_type": "stream",
     "text": [
      "\r",
      "  2%|█▎                                                                       | 2282/132269 [42:08<40:47:03,  1.13s/it]"
     ]
    },
    {
     "name": "stdout",
     "output_type": "stream",
     "text": [
      "Warning: Could not download image human_ears\\2281 from https://safebooru.org/thumbnails/364/thumbnail_0a4addedd33f311719ad3890432362c8c17ea81d.jpeg\n"
     ]
    },
    {
     "name": "stderr",
     "output_type": "stream",
     "text": [
      "\r",
      "  2%|█▎                                                                       | 2283/132269 [42:10<40:01:50,  1.11s/it]"
     ]
    },
    {
     "name": "stdout",
     "output_type": "stream",
     "text": [
      "Warning: Could not download image human_ears\\2282 from https://safebooru.org/thumbnails/364/thumbnail_07602a06f09f504530d126d6037dc032998490f3.jpeg\n"
     ]
    },
    {
     "name": "stderr",
     "output_type": "stream",
     "text": [
      "  2%|█▎                                                                       | 2285/132269 [42:12<39:14:43,  1.09s/it]"
     ]
    },
    {
     "name": "stdout",
     "output_type": "stream",
     "text": [
      "Warning: Could not download image human_ears\\2284 from https://safebooru.org/thumbnails/364/thumbnail_c4f68fc73b9e2f7ea1588c8cdba4cff8c157925b.png\n"
     ]
    },
    {
     "name": "stderr",
     "output_type": "stream",
     "text": [
      "  2%|█▎                                                                       | 2295/132269 [42:22<37:53:35,  1.05s/it]"
     ]
    },
    {
     "name": "stdout",
     "output_type": "stream",
     "text": [
      "Warning: Could not download image human_ears\\2294 from https://safebooru.org/thumbnails/365/thumbnail_e5afef0306196c4376b64c66511b4b73765f09cd.png\n"
     ]
    },
    {
     "name": "stderr",
     "output_type": "stream",
     "text": [
      "  2%|█▎                                                                       | 2304/132269 [42:31<36:55:42,  1.02s/it]"
     ]
    },
    {
     "name": "stdout",
     "output_type": "stream",
     "text": [
      "Warning: Could not download image human_ears\\2303 from https://safebooru.org/thumbnails/368/thumbnail_8193bbd776c024dd2876cadfabd18e87eb6d73e8.png\n"
     ]
    },
    {
     "name": "stderr",
     "output_type": "stream",
     "text": [
      "  2%|█▎                                                                       | 2309/132269 [42:36<33:00:19,  1.09it/s]"
     ]
    },
    {
     "name": "stdout",
     "output_type": "stream",
     "text": [
      "Warning: Could not download image human_ears\\2308 from https://safebooru.org/thumbnails/369/thumbnail_90c1edebfd3237e0b06fd4488ee1930c77175c7d.png\n"
     ]
    },
    {
     "name": "stderr",
     "output_type": "stream",
     "text": [
      "  2%|█▎                                                                       | 2322/132269 [42:50<38:50:49,  1.08s/it]"
     ]
    },
    {
     "name": "stdout",
     "output_type": "stream",
     "text": [
      "Warning: Could not download image human_ears\\2321 from https://safebooru.org/thumbnails/370/thumbnail_e1a90d6b8dd3d205bf8e1bbe70bb519adaee11f3.png\n"
     ]
    },
    {
     "name": "stderr",
     "output_type": "stream",
     "text": [
      "  2%|█▎                                                                       | 2326/132269 [42:54<38:17:56,  1.06s/it]"
     ]
    },
    {
     "name": "stdout",
     "output_type": "stream",
     "text": [
      "Warning: Could not download image human_ears\\2325 from https://safebooru.org/thumbnails/370/thumbnail_bfe5c4e4da053c1e71c5700c04b89180da2f63c4.png\n"
     ]
    },
    {
     "name": "stderr",
     "output_type": "stream",
     "text": [
      "\r",
      "  2%|█▎                                                                       | 2327/132269 [42:55<38:28:44,  1.07s/it]"
     ]
    },
    {
     "name": "stdout",
     "output_type": "stream",
     "text": [
      "Warning: Could not download image human_ears\\2326 from https://safebooru.org/thumbnails/370/thumbnail_f03ac9c1837fae92b8a8a790aeb3bbc930337fce.png\n"
     ]
    },
    {
     "name": "stderr",
     "output_type": "stream",
     "text": [
      "  2%|█▎                                                                       | 2329/132269 [42:57<38:45:41,  1.07s/it]"
     ]
    },
    {
     "name": "stdout",
     "output_type": "stream",
     "text": [
      "Warning: Could not download image human_ears\\2328 from https://safebooru.org/thumbnails/370/thumbnail_5977de75f6cab059b36ba3fcd519b416a908fcc0.png\n"
     ]
    },
    {
     "name": "stderr",
     "output_type": "stream",
     "text": [
      "  2%|█▎                                                                       | 2334/132269 [43:03<38:47:54,  1.07s/it]"
     ]
    },
    {
     "name": "stdout",
     "output_type": "stream",
     "text": [
      "Warning: Could not download image human_ears\\2333 from https://safebooru.org/thumbnails/371/thumbnail_083953c1c0b5c333182f9850fd720a1af4ed958c.jpeg\n"
     ]
    },
    {
     "name": "stderr",
     "output_type": "stream",
     "text": [
      "  2%|█▎                                                                       | 2337/132269 [43:06<41:37:10,  1.15s/it]"
     ]
    },
    {
     "name": "stdout",
     "output_type": "stream",
     "text": [
      "Warning: Could not download image human_ears\\2336 from https://safebooru.org/thumbnails/371/thumbnail_0565380cb4036bb0b37acb94b1ce23904a18498b.png\n"
     ]
    },
    {
     "name": "stderr",
     "output_type": "stream",
     "text": [
      "\r",
      "  2%|█▎                                                                       | 2338/132269 [43:07<40:27:52,  1.12s/it]"
     ]
    },
    {
     "name": "stdout",
     "output_type": "stream",
     "text": [
      "Warning: Could not download image human_ears\\2337 from https://safebooru.org/thumbnails/371/thumbnail_77a5bace42e0cc91762e8d52eea3bbfda5db752d.png\n"
     ]
    },
    {
     "name": "stderr",
     "output_type": "stream",
     "text": [
      "\r",
      "  2%|█▎                                                                       | 2339/132269 [43:08<39:42:50,  1.10s/it]"
     ]
    },
    {
     "name": "stdout",
     "output_type": "stream",
     "text": [
      "Warning: Could not download image human_ears\\2338 from https://safebooru.org/thumbnails/372/thumbnail_85c28daee1646a6907ada82cf21d3e5117d7f05d.jpeg\n"
     ]
    },
    {
     "name": "stderr",
     "output_type": "stream",
     "text": [
      "  2%|█▎                                                                       | 2341/132269 [43:11<40:02:40,  1.11s/it]"
     ]
    },
    {
     "name": "stdout",
     "output_type": "stream",
     "text": [
      "Warning: Could not download image human_ears\\2340 from https://safebooru.org/thumbnails/372/thumbnail_74ee35f6d9cf83766ca7ba24d43acdf0aa8c1f32.jpeg\n"
     ]
    },
    {
     "name": "stderr",
     "output_type": "stream",
     "text": [
      "  2%|█▎                                                                       | 2355/132269 [43:25<37:36:43,  1.04s/it]"
     ]
    },
    {
     "name": "stdout",
     "output_type": "stream",
     "text": [
      "Warning: Could not download image human_ears\\2354 from https://safebooru.org/thumbnails/2/thumbnail_e4d4513f0ff602e209136d18199f467d0189cd8e.png\n"
     ]
    },
    {
     "name": "stderr",
     "output_type": "stream",
     "text": [
      "  2%|█▎                                                                       | 2360/132269 [43:31<41:10:57,  1.14s/it]"
     ]
    },
    {
     "name": "stdout",
     "output_type": "stream",
     "text": [
      "Warning: Could not download image human_ears\\2359 from https://safebooru.org/thumbnails/374/thumbnail_8e98cd20cf713059849647852d8db9905af5e21c.png\n"
     ]
    },
    {
     "name": "stderr",
     "output_type": "stream",
     "text": [
      "\r",
      "  2%|█▎                                                                       | 2361/132269 [43:32<40:18:22,  1.12s/it]"
     ]
    },
    {
     "name": "stdout",
     "output_type": "stream",
     "text": [
      "Warning: Could not download image human_ears\\2360 from https://safebooru.org/thumbnails/375/thumbnail_0b0506585ea16c60a89150d986c2af8feda2754b.jpeg\n"
     ]
    },
    {
     "name": "stderr",
     "output_type": "stream",
     "text": [
      "  2%|█▎                                                                       | 2365/132269 [43:37<39:15:41,  1.09s/it]"
     ]
    },
    {
     "name": "stdout",
     "output_type": "stream",
     "text": [
      "Warning: Could not download image human_ears\\2364 from https://safebooru.org/thumbnails/375/thumbnail_31ef795621ca6a95c60f7e5bf1cf486f2ab2bccd.png\n"
     ]
    },
    {
     "name": "stderr",
     "output_type": "stream",
     "text": [
      "  2%|█▎                                                                       | 2376/132269 [43:48<38:19:21,  1.06s/it]"
     ]
    },
    {
     "name": "stdout",
     "output_type": "stream",
     "text": [
      "Warning: Could not download image human_ears\\2375 from https://safebooru.org/thumbnails/376/thumbnail_a35b77701e30b96abfef421b2f80e556aedf479f.png\n"
     ]
    },
    {
     "name": "stderr",
     "output_type": "stream",
     "text": [
      "\r",
      "  2%|█▎                                                                       | 2377/132269 [43:49<38:16:42,  1.06s/it]"
     ]
    },
    {
     "name": "stdout",
     "output_type": "stream",
     "text": [
      "Warning: Could not download image human_ears\\2376 from https://safebooru.org/thumbnails/376/thumbnail_7ce29a81eb4e8495a007ad897efad0c128d6158d.png\n"
     ]
    },
    {
     "name": "stderr",
     "output_type": "stream",
     "text": [
      "\r",
      "  2%|█▎                                                                       | 2378/132269 [43:50<37:51:10,  1.05s/it]"
     ]
    },
    {
     "name": "stdout",
     "output_type": "stream",
     "text": [
      "Warning: Could not download image human_ears\\2377 from https://safebooru.org/thumbnails/376/thumbnail_8118939f2fb4779b25399dc90e095ab785c43917.jpeg\n"
     ]
    },
    {
     "name": "stderr",
     "output_type": "stream",
     "text": [
      "  2%|█▎                                                                       | 2384/132269 [43:57<39:14:34,  1.09s/it]"
     ]
    },
    {
     "name": "stdout",
     "output_type": "stream",
     "text": [
      "Warning: Could not download image human_ears\\2383 from https://safebooru.org/thumbnails/377/thumbnail_610b0cb0430f47703e59792fd726b07ccc7e4279.png\n"
     ]
    },
    {
     "name": "stderr",
     "output_type": "stream",
     "text": [
      "\r",
      "  2%|█▎                                                                       | 2385/132269 [43:58<39:11:09,  1.09s/it]"
     ]
    },
    {
     "name": "stdout",
     "output_type": "stream",
     "text": [
      "Warning: Could not download image human_ears\\2384 from https://safebooru.org/thumbnails/377/thumbnail_63cd11884c0bdf97b3872403df7c3ae16421a6a7.png\n"
     ]
    },
    {
     "name": "stderr",
     "output_type": "stream",
     "text": [
      "  2%|█▎                                                                       | 2387/132269 [44:00<33:22:23,  1.08it/s]"
     ]
    },
    {
     "name": "stdout",
     "output_type": "stream",
     "text": [
      "Warning: Could not download image human_ears\\2386 from https://safebooru.org/thumbnails/378/thumbnail_93cb5a33e30e0cf065eeb07dc5dd0acec8c4610f.png\n"
     ]
    },
    {
     "name": "stderr",
     "output_type": "stream",
     "text": [
      "\r",
      "  2%|█▎                                                                       | 2388/132269 [44:01<37:22:31,  1.04s/it]"
     ]
    },
    {
     "name": "stdout",
     "output_type": "stream",
     "text": [
      "Warning: Could not download image human_ears\\2387 from https://safebooru.org/thumbnails/379/thumbnail_1217fc1029a2356cfffb65d6b7355aaeb878c995.png\n"
     ]
    },
    {
     "name": "stderr",
     "output_type": "stream",
     "text": [
      "  2%|█▎                                                                       | 2392/132269 [44:05<38:59:09,  1.08s/it]"
     ]
    },
    {
     "name": "stdout",
     "output_type": "stream",
     "text": [
      "Warning: Could not download image human_ears\\2391 from https://safebooru.org/thumbnails/380/thumbnail_b7cb9ef661d0c493499eb7b5f1f167b2b933c725.png\n"
     ]
    },
    {
     "name": "stderr",
     "output_type": "stream",
     "text": [
      "  2%|█▎                                                                       | 2400/132269 [44:14<38:32:53,  1.07s/it]"
     ]
    },
    {
     "name": "stdout",
     "output_type": "stream",
     "text": [
      "Warning: Could not download image human_ears\\2399 from https://safebooru.org/thumbnails/382/thumbnail_5e74bb9b5502e52cbc2ba4b53642c22831d444be.png\n"
     ]
    },
    {
     "name": "stderr",
     "output_type": "stream",
     "text": [
      "  2%|█▎                                                                       | 2411/132269 [44:26<40:08:05,  1.11s/it]"
     ]
    },
    {
     "name": "stdout",
     "output_type": "stream",
     "text": [
      "Warning: Could not download image human_ears\\2410 from https://safebooru.org/thumbnails/388/thumbnail_d506e9287f115cad555129b599b665b5164e16be.gif\n"
     ]
    },
    {
     "name": "stderr",
     "output_type": "stream",
     "text": [
      "  2%|█▎                                                                       | 2415/132269 [44:30<38:53:42,  1.08s/it]"
     ]
    },
    {
     "name": "stdout",
     "output_type": "stream",
     "text": [
      "Warning: Could not download image human_ears\\2414 from https://safebooru.org/thumbnails/388/thumbnail_a30ca62f742530b9385c863bc4b74434ffe3b6cd.jpeg\n"
     ]
    },
    {
     "name": "stderr",
     "output_type": "stream",
     "text": [
      "  2%|█▎                                                                       | 2423/132269 [44:39<39:08:08,  1.09s/it]"
     ]
    },
    {
     "name": "stdout",
     "output_type": "stream",
     "text": [
      "Warning: Could not download image human_ears\\2422 from https://safebooru.org/thumbnails/389/thumbnail_8136bab6a5425b8cfbfb586cdae13133a1eaea27.png\n"
     ]
    },
    {
     "name": "stderr",
     "output_type": "stream",
     "text": [
      "\r",
      "  2%|█▎                                                                       | 2424/132269 [44:40<38:35:44,  1.07s/it]"
     ]
    },
    {
     "name": "stdout",
     "output_type": "stream",
     "text": [
      "Warning: Could not download image human_ears\\2423 from https://safebooru.org/thumbnails/389/thumbnail_578f5df4f8c7d2294f352793e340de5bffa95aa4.jpeg\n"
     ]
    },
    {
     "name": "stderr",
     "output_type": "stream",
     "text": [
      "  2%|█▎                                                                       | 2428/132269 [44:44<38:31:28,  1.07s/it]"
     ]
    },
    {
     "name": "stdout",
     "output_type": "stream",
     "text": [
      "Warning: Could not download image human_ears\\2427 from https://safebooru.org/thumbnails/391/thumbnail_41f017fa81690b8fa2a04a9f2098557a112e2be9.png\n"
     ]
    },
    {
     "name": "stderr",
     "output_type": "stream",
     "text": [
      "  2%|█▎                                                                       | 2430/132269 [44:46<38:29:59,  1.07s/it]"
     ]
    },
    {
     "name": "stdout",
     "output_type": "stream",
     "text": [
      "Warning: Could not download image human_ears\\2429 from https://safebooru.org/thumbnails/391/thumbnail_d865293df67178444eb9055e11ef7e0dc758e04c.png\n"
     ]
    },
    {
     "name": "stderr",
     "output_type": "stream",
     "text": [
      "  2%|█▎                                                                       | 2433/132269 [44:50<40:25:17,  1.12s/it]"
     ]
    },
    {
     "name": "stdout",
     "output_type": "stream",
     "text": [
      "Warning: Could not download image human_ears\\2432 from https://safebooru.org/thumbnails/397/thumbnail_ed956a572d9c3b6bfb4299058ef0b22642990d09.png\n"
     ]
    },
    {
     "name": "stderr",
     "output_type": "stream",
     "text": [
      "  2%|█▎                                                                       | 2437/132269 [44:54<39:05:37,  1.08s/it]"
     ]
    },
    {
     "name": "stdout",
     "output_type": "stream",
     "text": [
      "Warning: Could not download image human_ears\\2436 from https://safebooru.org/thumbnails/401/thumbnail_7eef5f4286449058e38bd01633f113a6f0f007c1.png\n"
     ]
    },
    {
     "name": "stderr",
     "output_type": "stream",
     "text": [
      "  2%|█▎                                                                       | 2446/132269 [45:05<39:53:01,  1.11s/it]\n"
     ]
    }
   ],
   "source": [
    "pathinit = 'https:'\n",
    "\n",
    "np.flip(human_ears_url_sample, 0)\n",
    "count = 0\n",
    "for idx in tqdm(range(len(human_ears_url_sample))):\n",
    "    url = human_ears_url_sample[idx]\n",
    "    save_dir = os.path.join('human_ears', str(idx))\n",
    "    if pathinit not in human_ears_url_sample[idx]:\n",
    "        url = pathinit + human_ears_url_sample[idx]\n",
    "    count = count + download_image(save_dir, url)\n",
    "    if count >= 2000:\n",
    "        break"
   ]
  },
  {
   "cell_type": "code",
   "execution_count": 13,
   "metadata": {},
   "outputs": [
    {
     "name": "stderr",
     "output_type": "stream",
     "text": [
      "  0%|                                                                          | 3/1288700 [00:03<377:31:12,  1.05s/it]"
     ]
    },
    {
     "name": "stdout",
     "output_type": "stream",
     "text": [
      "Warning: Could not download image animal_ears\\2 from https://safebooru.org/thumbnails/1/thumbnail_e7fbb7b5e3d0acea7a8ab37260e4570e317d28ab.png\n"
     ]
    },
    {
     "name": "stderr",
     "output_type": "stream",
     "text": [
      "  0%|                                                                          | 7/1288700 [00:07<375:34:07,  1.05s/it]"
     ]
    },
    {
     "name": "stdout",
     "output_type": "stream",
     "text": [
      "Warning: Could not download image animal_ears\\6 from https://safebooru.org/thumbnails/1/thumbnail_78eccf5b83a55e5a1ec7257d8dc748382b2bb44a.png\n"
     ]
    },
    {
     "name": "stderr",
     "output_type": "stream",
     "text": [
      "  0%|                                                                         | 10/1288700 [00:10<385:50:38,  1.08s/it]"
     ]
    },
    {
     "name": "stdout",
     "output_type": "stream",
     "text": [
      "Warning: Could not download image animal_ears\\9 from https://safebooru.org/thumbnails/1/thumbnail_ceab20a6067a35b1e249ed3611fcd076d29e01ea.png\n"
     ]
    },
    {
     "name": "stderr",
     "output_type": "stream",
     "text": [
      "  0%|                                                                         | 13/1288700 [00:13<379:25:35,  1.06s/it]"
     ]
    },
    {
     "name": "stdout",
     "output_type": "stream",
     "text": [
      "Warning: Could not download image animal_ears\\12 from https://safebooru.org/thumbnails/1/thumbnail_9a54c0bd50af6141be0e14c6fc325518aef871c0.png\n"
     ]
    },
    {
     "name": "stderr",
     "output_type": "stream",
     "text": [
      "  0%|                                                                         | 15/1288700 [00:15<305:01:41,  1.17it/s]"
     ]
    },
    {
     "name": "stdout",
     "output_type": "stream",
     "text": [
      "Warning: Could not download image animal_ears\\14 from https://safebooru.org/thumbnails/1/thumbnail_f3ac9fde9df51a2e2f0a9adbe344fd8195a6bb86.png\n"
     ]
    },
    {
     "name": "stderr",
     "output_type": "stream",
     "text": [
      "\r",
      "  0%|                                                                         | 16/1288700 [00:16<326:25:21,  1.10it/s]"
     ]
    },
    {
     "name": "stdout",
     "output_type": "stream",
     "text": [
      "Warning: Could not download image animal_ears\\15 from https://safebooru.org/thumbnails/1/thumbnail_252519967ca141f19bb876347dc1efe8f911aa54.png\n"
     ]
    },
    {
     "name": "stderr",
     "output_type": "stream",
     "text": [
      "\r",
      "  0%|                                                                         | 17/1288700 [00:17<341:15:54,  1.05it/s]"
     ]
    },
    {
     "name": "stdout",
     "output_type": "stream",
     "text": [
      "Warning: Could not download image animal_ears\\16 from https://safebooru.org/thumbnails/1/thumbnail_18c022bd453db634a9c8e247e74ae034545815f3.png\n"
     ]
    },
    {
     "name": "stderr",
     "output_type": "stream",
     "text": [
      "\r",
      "  0%|                                                                         | 18/1288700 [00:18<352:16:58,  1.02it/s]"
     ]
    },
    {
     "name": "stdout",
     "output_type": "stream",
     "text": [
      "Warning: Could not download image animal_ears\\17 from https://safebooru.org/thumbnails/1/thumbnail_04eb8ff087453e4d2525da9a57438141a7093e94.png\n"
     ]
    },
    {
     "name": "stderr",
     "output_type": "stream",
     "text": [
      "  0%|                                                                         | 24/1288700 [00:24<371:01:22,  1.04s/it]"
     ]
    },
    {
     "name": "stdout",
     "output_type": "stream",
     "text": [
      "Warning: Could not download image animal_ears\\23 from https://safebooru.org/thumbnails/1/thumbnail_6ebff3f6c6733587d3be5d7b05b3e6cd0dd03acb.png\n"
     ]
    },
    {
     "name": "stderr",
     "output_type": "stream",
     "text": [
      "  0%|                                                                         | 27/1288700 [00:27<376:00:24,  1.05s/it]"
     ]
    },
    {
     "name": "stdout",
     "output_type": "stream",
     "text": [
      "Warning: Could not download image animal_ears\\26 from https://safebooru.org/thumbnails/1/thumbnail_971666907abd19498338c13801a9addaf8b593db.png\n"
     ]
    },
    {
     "name": "stderr",
     "output_type": "stream",
     "text": [
      "  0%|                                                                         | 40/1288700 [00:42<388:48:16,  1.09s/it]"
     ]
    },
    {
     "name": "stdout",
     "output_type": "stream",
     "text": [
      "Warning: Could not download image animal_ears\\39 from https://safebooru.org/thumbnails/1/thumbnail_78ab97703757cadd977e4f49473e98a6d63eda93.png\n"
     ]
    },
    {
     "name": "stderr",
     "output_type": "stream",
     "text": [
      "\r",
      "  0%|                                                                         | 41/1288700 [00:43<386:58:09,  1.08s/it]"
     ]
    },
    {
     "name": "stdout",
     "output_type": "stream",
     "text": [
      "Warning: Could not download image animal_ears\\40 from https://safebooru.org/thumbnails/1/thumbnail_24c9e3624d51163aadd55399a1ddd6d85d41e392.png\n"
     ]
    },
    {
     "name": "stderr",
     "output_type": "stream",
     "text": [
      "  0%|                                                                         | 59/1288700 [01:01<367:30:33,  1.03s/it]"
     ]
    },
    {
     "name": "stdout",
     "output_type": "stream",
     "text": [
      "Warning: Could not download image animal_ears\\58 from https://safebooru.org/thumbnails/1/thumbnail_81d3b944b17c15a98f7f6ff2fc39583375e307c9.png\n"
     ]
    },
    {
     "name": "stderr",
     "output_type": "stream",
     "text": [
      "\r",
      "  0%|                                                                         | 60/1288700 [01:02<369:07:36,  1.03s/it]"
     ]
    },
    {
     "name": "stdout",
     "output_type": "stream",
     "text": [
      "Warning: Could not download image animal_ears\\59 from https://safebooru.org/thumbnails/1/thumbnail_1ed5c46e5808f95f53a0a7425c5df2ccc8730a07.png\n"
     ]
    },
    {
     "name": "stderr",
     "output_type": "stream",
     "text": [
      "\r",
      "  0%|                                                                         | 61/1288700 [01:03<374:33:20,  1.05s/it]"
     ]
    },
    {
     "name": "stdout",
     "output_type": "stream",
     "text": [
      "Warning: Could not download image animal_ears\\60 from https://safebooru.org/thumbnails/1/thumbnail_e0826090e906fb6abe5b01097f706506e553ab4f.png\n"
     ]
    },
    {
     "name": "stderr",
     "output_type": "stream",
     "text": [
      "\r",
      "  0%|                                                                         | 62/1288700 [01:04<374:28:48,  1.05s/it]"
     ]
    },
    {
     "name": "stdout",
     "output_type": "stream",
     "text": [
      "Warning: Could not download image animal_ears\\61 from https://safebooru.org/thumbnails/1/thumbnail_1eab9dc27bdc289c5098bc50f70a1a97fece540c.png\n"
     ]
    },
    {
     "name": "stderr",
     "output_type": "stream",
     "text": [
      "  0%|                                                                         | 64/1288700 [01:07<376:36:08,  1.05s/it]"
     ]
    },
    {
     "name": "stdout",
     "output_type": "stream",
     "text": [
      "Warning: Could not download image animal_ears\\63 from https://safebooru.org/thumbnails/1/thumbnail_9e00ebe692e2190d20d7fe0887f24b00dc71a5f4.png\n"
     ]
    },
    {
     "name": "stderr",
     "output_type": "stream",
     "text": [
      "  0%|                                                                         | 67/1288700 [01:10<379:03:33,  1.06s/it]"
     ]
    },
    {
     "name": "stdout",
     "output_type": "stream",
     "text": [
      "Warning: Could not download image animal_ears\\66 from https://safebooru.org/thumbnails/1/thumbnail_b32287dec17bcb1240cdf8088803897a35d7075d.png\n"
     ]
    },
    {
     "name": "stderr",
     "output_type": "stream",
     "text": [
      "  0%|                                                                         | 70/1288700 [01:13<377:33:56,  1.05s/it]"
     ]
    },
    {
     "name": "stdout",
     "output_type": "stream",
     "text": [
      "Warning: Could not download image animal_ears\\69 from https://safebooru.org/thumbnails/1/thumbnail_55de2d7278cacfd50db7fca4be229ec45c9452c5.png\n"
     ]
    },
    {
     "name": "stderr",
     "output_type": "stream",
     "text": [
      "  0%|                                                                         | 72/1288700 [01:15<378:56:29,  1.06s/it]"
     ]
    },
    {
     "name": "stdout",
     "output_type": "stream",
     "text": [
      "Warning: Could not download image animal_ears\\71 from https://safebooru.org/thumbnails/1/thumbnail_b16fa5cab9b866e105da34f82c5893e4c092c0ee.png\n"
     ]
    },
    {
     "name": "stderr",
     "output_type": "stream",
     "text": [
      "  0%|                                                                         | 86/1288700 [01:30<412:00:14,  1.15s/it]"
     ]
    },
    {
     "name": "stdout",
     "output_type": "stream",
     "text": [
      "Warning: Could not download image animal_ears\\85 from https://safebooru.org/thumbnails/1/thumbnail_7adf597f3da7ba1a65cf184521755c34cd8d33e6.png\n"
     ]
    },
    {
     "name": "stderr",
     "output_type": "stream",
     "text": [
      "  0%|                                                                         | 96/1288700 [01:41<391:05:17,  1.09s/it]"
     ]
    },
    {
     "name": "stdout",
     "output_type": "stream",
     "text": [
      "Warning: Could not download image animal_ears\\95 from https://safebooru.org/thumbnails/1/thumbnail_205cb3682aab3c3f1aa0cb3379715f276b9ca5ac.png\n"
     ]
    },
    {
     "name": "stderr",
     "output_type": "stream",
     "text": [
      "  0%|                                                                        | 106/1288700 [01:52<378:49:50,  1.06s/it]"
     ]
    },
    {
     "name": "stdout",
     "output_type": "stream",
     "text": [
      "Warning: Could not download image animal_ears\\105 from https://safebooru.org/thumbnails/1/thumbnail_aec7da9519470b05bb9625ee18c96cbd69ebb76b.png\n"
     ]
    },
    {
     "name": "stderr",
     "output_type": "stream",
     "text": [
      "  0%|                                                                        | 108/1288700 [01:54<375:35:08,  1.05s/it]"
     ]
    },
    {
     "name": "stdout",
     "output_type": "stream",
     "text": [
      "Warning: Could not download image animal_ears\\107 from https://safebooru.org/thumbnails/1/thumbnail_9fa213dddb2ea32431da5fb35e0acb5d3f0d9013.png\n"
     ]
    },
    {
     "name": "stderr",
     "output_type": "stream",
     "text": [
      "  0%|                                                                        | 112/1288700 [01:58<386:30:49,  1.08s/it]"
     ]
    },
    {
     "name": "stdout",
     "output_type": "stream",
     "text": [
      "Warning: Could not download image animal_ears\\111 from https://safebooru.org/thumbnails/1/thumbnail_73c92a20d851a9d2fc391f6d098ba3560ecd26a7.png\n"
     ]
    },
    {
     "name": "stderr",
     "output_type": "stream",
     "text": [
      "  0%|                                                                        | 122/1288700 [02:09<380:11:21,  1.06s/it]"
     ]
    },
    {
     "name": "stdout",
     "output_type": "stream",
     "text": [
      "Warning: Could not download image animal_ears\\121 from https://safebooru.org/thumbnails/1/thumbnail_8e0d1dd05b8f6a2b87ab78e6555185fcde7cb9cf.png\n"
     ]
    },
    {
     "name": "stderr",
     "output_type": "stream",
     "text": [
      "\r",
      "  0%|                                                                        | 123/1288700 [02:10<379:19:02,  1.06s/it]"
     ]
    },
    {
     "name": "stdout",
     "output_type": "stream",
     "text": [
      "Warning: Could not download image animal_ears\\122 from https://safebooru.org/thumbnails/1/thumbnail_d3ad03f00eafd3b7b4154ff06c86e673521d0d83.png\n"
     ]
    },
    {
     "name": "stderr",
     "output_type": "stream",
     "text": [
      "  0%|                                                                        | 127/1288700 [02:14<379:10:23,  1.06s/it]"
     ]
    },
    {
     "name": "stdout",
     "output_type": "stream",
     "text": [
      "Warning: Could not download image animal_ears\\126 from https://safebooru.org/thumbnails/1/thumbnail_9002289b03756af63062081a867b02e8724cf91b.png\n"
     ]
    },
    {
     "name": "stderr",
     "output_type": "stream",
     "text": [
      "  0%|                                                                        | 133/1288700 [02:21<383:06:55,  1.07s/it]"
     ]
    },
    {
     "name": "stdout",
     "output_type": "stream",
     "text": [
      "Warning: Could not download image animal_ears\\132 from https://safebooru.org/thumbnails/1/thumbnail_a26e0a044a0fb3bd2105475407e4131917558b54.png\n"
     ]
    },
    {
     "name": "stderr",
     "output_type": "stream",
     "text": [
      "  0%|                                                                        | 136/1288700 [02:24<376:50:16,  1.05s/it]"
     ]
    },
    {
     "name": "stdout",
     "output_type": "stream",
     "text": [
      "Warning: Could not download image animal_ears\\135 from https://safebooru.org/thumbnails/1/thumbnail_437ab8f5fac971b72a5069665056af9aa3f97f85.png\n"
     ]
    },
    {
     "name": "stderr",
     "output_type": "stream",
     "text": [
      "\r",
      "  0%|                                                                        | 137/1288700 [02:25<380:12:58,  1.06s/it]"
     ]
    },
    {
     "name": "stdout",
     "output_type": "stream",
     "text": [
      "Warning: Could not download image animal_ears\\136 from https://safebooru.org/thumbnails/1/thumbnail_e229a838d04cc4106be735ddc3101aeda5b70b6f.png\n"
     ]
    },
    {
     "name": "stderr",
     "output_type": "stream",
     "text": [
      "  0%|                                                                        | 154/1288700 [02:43<384:25:51,  1.07s/it]"
     ]
    },
    {
     "name": "stdout",
     "output_type": "stream",
     "text": [
      "Warning: Could not download image animal_ears\\153 from https://safebooru.org/thumbnails/1/thumbnail_de23d83ed0874605d795d048602868fc15b2686e.png\n"
     ]
    },
    {
     "name": "stderr",
     "output_type": "stream",
     "text": [
      "  0%|                                                                        | 179/1288700 [03:11<384:56:02,  1.08s/it]"
     ]
    },
    {
     "name": "stdout",
     "output_type": "stream",
     "text": [
      "Warning: Could not download image animal_ears\\178 from https://safebooru.org/thumbnails/1/thumbnail_afa339d2a6c91641e3e66ae2cfb5dee6853aba8f.png\n"
     ]
    },
    {
     "name": "stderr",
     "output_type": "stream",
     "text": [
      "\r",
      "  0%|                                                                        | 180/1288700 [03:12<384:36:27,  1.07s/it]"
     ]
    },
    {
     "name": "stdout",
     "output_type": "stream",
     "text": [
      "Warning: Could not download image animal_ears\\179 from https://safebooru.org/thumbnails/1/thumbnail_008dbdf38451ff8818321dbf5ffaff2c6833da7b.png\n"
     ]
    },
    {
     "name": "stderr",
     "output_type": "stream",
     "text": [
      "  0%|                                                                        | 184/1288700 [03:16<343:09:32,  1.04it/s]"
     ]
    },
    {
     "name": "stdout",
     "output_type": "stream",
     "text": [
      "Warning: Could not download image animal_ears\\183 from https://safebooru.org/thumbnails/2/thumbnail_96cda659b1ca087fc19c68ef80103421c951c684.png\n"
     ]
    },
    {
     "name": "stderr",
     "output_type": "stream",
     "text": [
      "  0%|                                                                        | 198/1288700 [03:31<385:19:52,  1.08s/it]"
     ]
    },
    {
     "name": "stdout",
     "output_type": "stream",
     "text": [
      "Warning: Could not download image animal_ears\\197 from https://safebooru.org/thumbnails/2/thumbnail_45e6156d50836781526c189ce75bb0d604287cb4.png\n"
     ]
    },
    {
     "name": "stderr",
     "output_type": "stream",
     "text": [
      "  0%|                                                                        | 210/1288700 [03:44<387:32:07,  1.08s/it]"
     ]
    },
    {
     "name": "stdout",
     "output_type": "stream",
     "text": [
      "Warning: Could not download image animal_ears\\209 from https://safebooru.org/thumbnails/2/thumbnail_82e2e99f12d43537c2d5a7f2ebcbdf9f6286ab11.png\n"
     ]
    },
    {
     "name": "stderr",
     "output_type": "stream",
     "text": [
      "  0%|                                                                        | 217/1288700 [03:52<400:24:36,  1.12s/it]"
     ]
    },
    {
     "name": "stdout",
     "output_type": "stream",
     "text": [
      "Warning: Could not download image animal_ears\\216 from https://safebooru.org/thumbnails/2/thumbnail_e8d48f07050c253a7ab5a3dcc0d22fc74d217b82.png\n"
     ]
    },
    {
     "name": "stderr",
     "output_type": "stream",
     "text": [
      "  0%|                                                                        | 222/1288700 [03:56<335:18:01,  1.07it/s]"
     ]
    },
    {
     "name": "stdout",
     "output_type": "stream",
     "text": [
      "Warning: Could not download image animal_ears\\221 from https://safebooru.org/thumbnails/2/thumbnail_6a076633b56559a646baed81dcf56bc2034bd024.png\n"
     ]
    },
    {
     "name": "stderr",
     "output_type": "stream",
     "text": [
      "  0%|                                                                        | 233/1288700 [04:08<382:36:27,  1.07s/it]"
     ]
    },
    {
     "name": "stdout",
     "output_type": "stream",
     "text": [
      "Warning: Could not download image animal_ears\\232 from https://safebooru.org/thumbnails/2/thumbnail_3a98feb2ab6853fc2e502820f8eeca172e717468.png\n"
     ]
    },
    {
     "name": "stderr",
     "output_type": "stream",
     "text": [
      "  0%|                                                                        | 245/1288700 [04:21<362:20:29,  1.01s/it]"
     ]
    },
    {
     "name": "stdout",
     "output_type": "stream",
     "text": [
      "Warning: Could not download image animal_ears\\244 from https://safebooru.org/thumbnails/2/thumbnail_ef86ce2486485699b0070b2e5ce7f3f356a60b59.png\n"
     ]
    },
    {
     "name": "stderr",
     "output_type": "stream",
     "text": [
      "  0%|                                                                        | 254/1288700 [04:30<378:40:17,  1.06s/it]"
     ]
    },
    {
     "name": "stdout",
     "output_type": "stream",
     "text": [
      "Warning: Could not download image animal_ears\\253 from https://safebooru.org/thumbnails/2/thumbnail_f27d127f965c6f6cc34ed7d5264f839f3a7750a4.png\n"
     ]
    },
    {
     "name": "stderr",
     "output_type": "stream",
     "text": [
      "  0%|                                                                        | 257/1288700 [04:33<343:36:05,  1.04it/s]"
     ]
    },
    {
     "name": "stdout",
     "output_type": "stream",
     "text": [
      "Warning: Could not download image animal_ears\\256 from https://safebooru.org/thumbnails/2/thumbnail_6d1223b0b711c8772d8323c5bfacd7d3bf3e020e.png\n"
     ]
    },
    {
     "name": "stderr",
     "output_type": "stream",
     "text": [
      "  0%|                                                                        | 260/1288700 [04:36<370:20:37,  1.03s/it]"
     ]
    },
    {
     "name": "stdout",
     "output_type": "stream",
     "text": [
      "Warning: Could not download image animal_ears\\259 from https://safebooru.org/thumbnails/2/thumbnail_6a13cf8d432e127355f4c5894d6d5d7fb7413663.gif\n"
     ]
    },
    {
     "name": "stderr",
     "output_type": "stream",
     "text": [
      "  0%|                                                                        | 263/1288700 [04:39<397:55:53,  1.11s/it]"
     ]
    },
    {
     "name": "stdout",
     "output_type": "stream",
     "text": [
      "Warning: Could not download image animal_ears\\262 from https://safebooru.org/thumbnails/2/thumbnail_1725f319fbfa90e5a8d0e08935230e6be51c6dcc.png\n"
     ]
    },
    {
     "name": "stderr",
     "output_type": "stream",
     "text": [
      "  0%|                                                                        | 268/1288700 [04:45<388:03:43,  1.08s/it]"
     ]
    },
    {
     "name": "stdout",
     "output_type": "stream",
     "text": [
      "Warning: Could not download image animal_ears\\267 from https://safebooru.org/thumbnails/2/thumbnail_4ea2deff71f2e836451828bcd6280b485592502b.png\n"
     ]
    },
    {
     "name": "stderr",
     "output_type": "stream",
     "text": [
      "  0%|                                                                        | 283/1288700 [05:01<398:14:14,  1.11s/it]"
     ]
    },
    {
     "name": "stdout",
     "output_type": "stream",
     "text": [
      "Warning: Could not download image animal_ears\\282 from https://safebooru.org/thumbnails/2/thumbnail_625fbe1d340e326455f8800b1aaf6d47be718c7f.png\n"
     ]
    },
    {
     "name": "stderr",
     "output_type": "stream",
     "text": [
      "  0%|                                                                        | 291/1288700 [05:10<380:11:20,  1.06s/it]"
     ]
    },
    {
     "name": "stdout",
     "output_type": "stream",
     "text": [
      "Warning: Could not download image animal_ears\\290 from https://safebooru.org/thumbnails/2/thumbnail_f294241d83d540089d25ed02df1de14461b89bd5.png\n"
     ]
    },
    {
     "name": "stderr",
     "output_type": "stream",
     "text": [
      "\r",
      "  0%|                                                                        | 292/1288700 [05:11<382:17:27,  1.07s/it]"
     ]
    },
    {
     "name": "stdout",
     "output_type": "stream",
     "text": [
      "Warning: Could not download image animal_ears\\291 from https://safebooru.org/thumbnails/2/thumbnail_c71dca64cda566887050f7fcee2193f29cee091b.png\n"
     ]
    },
    {
     "name": "stderr",
     "output_type": "stream",
     "text": [
      "  0%|                                                                        | 302/1288700 [05:22<394:00:17,  1.10s/it]"
     ]
    },
    {
     "name": "stdout",
     "output_type": "stream",
     "text": [
      "Warning: Could not download image animal_ears\\301 from https://safebooru.org/thumbnails/2/thumbnail_eedf2aab958d20b59ab15d698db70ddd66130e7e.png\n"
     ]
    },
    {
     "name": "stderr",
     "output_type": "stream",
     "text": [
      "  0%|                                                                        | 308/1288700 [05:28<390:48:14,  1.09s/it]"
     ]
    },
    {
     "name": "stdout",
     "output_type": "stream",
     "text": [
      "Warning: Could not download image animal_ears\\307 from https://safebooru.org/thumbnails/2/thumbnail_97be3071581a3d88f7659e5546c6562550828f6f.png\n"
     ]
    },
    {
     "name": "stderr",
     "output_type": "stream",
     "text": [
      "  0%|                                                                        | 325/1288700 [05:46<379:37:43,  1.06s/it]"
     ]
    },
    {
     "name": "stdout",
     "output_type": "stream",
     "text": [
      "Warning: Could not download image animal_ears\\324 from https://safebooru.org/thumbnails/2/thumbnail_d1fbdf8a344cd763f3ec48658b147db38ec2a30c.png\n"
     ]
    },
    {
     "name": "stderr",
     "output_type": "stream",
     "text": [
      "\r",
      "  0%|                                                                        | 326/1288700 [05:47<379:39:40,  1.06s/it]"
     ]
    },
    {
     "name": "stdout",
     "output_type": "stream",
     "text": [
      "Warning: Could not download image animal_ears\\325 from https://safebooru.org/thumbnails/2/thumbnail_09e525e2ff5123846d7cf16dccab236c44ccde8c.png\n"
     ]
    },
    {
     "name": "stderr",
     "output_type": "stream",
     "text": [
      "  0%|                                                                        | 328/1288700 [05:50<378:58:15,  1.06s/it]"
     ]
    },
    {
     "name": "stdout",
     "output_type": "stream",
     "text": [
      "Warning: Could not download image animal_ears\\327 from https://safebooru.org/thumbnails/2/thumbnail_1cc5fd2ad4fcbcf7309238382ac7e2d274c73b44.png\n"
     ]
    },
    {
     "name": "stderr",
     "output_type": "stream",
     "text": [
      "\r",
      "  0%|                                                                        | 329/1288700 [05:51<378:18:28,  1.06s/it]"
     ]
    },
    {
     "name": "stdout",
     "output_type": "stream",
     "text": [
      "Warning: Could not download image animal_ears\\328 from https://safebooru.org/thumbnails/2/thumbnail_4022d203d3497c5c7def3ef8f248d2d4a2e4f5b9.png\n"
     ]
    },
    {
     "name": "stderr",
     "output_type": "stream",
     "text": [
      "  0%|                                                                        | 335/1288700 [05:57<378:33:00,  1.06s/it]"
     ]
    },
    {
     "name": "stdout",
     "output_type": "stream",
     "text": [
      "Warning: Could not download image animal_ears\\334 from https://safebooru.org/thumbnails/2/thumbnail_3f704b5ade179fcf2130fb3f10caf75b74761a76.png\n"
     ]
    },
    {
     "name": "stderr",
     "output_type": "stream",
     "text": [
      "\r",
      "  0%|                                                                        | 336/1288700 [05:58<377:23:40,  1.05s/it]"
     ]
    },
    {
     "name": "stdout",
     "output_type": "stream",
     "text": [
      "Warning: Could not download image animal_ears\\335 from https://safebooru.org/thumbnails/2/thumbnail_811ba79b87a6e8d531e8eab8e18ce3a64430ec44.png\n"
     ]
    },
    {
     "name": "stderr",
     "output_type": "stream",
     "text": [
      "  0%|                                                                        | 339/1288700 [06:01<379:57:22,  1.06s/it]"
     ]
    },
    {
     "name": "stdout",
     "output_type": "stream",
     "text": [
      "Warning: Could not download image animal_ears\\338 from https://safebooru.org/thumbnails/2/thumbnail_0cc3f0555a952896bed62f88bf40cf8e43ed8ee2.png\n"
     ]
    },
    {
     "name": "stderr",
     "output_type": "stream",
     "text": [
      "  0%|                                                                        | 342/1288700 [06:04<375:43:16,  1.05s/it]"
     ]
    },
    {
     "name": "stdout",
     "output_type": "stream",
     "text": [
      "Warning: Could not download image animal_ears\\341 from https://safebooru.org/thumbnails/2/thumbnail_fa655feff8e2b463cbea3641c376987020644193.png\n"
     ]
    },
    {
     "name": "stderr",
     "output_type": "stream",
     "text": [
      "  0%|                                                                        | 345/1288700 [06:08<377:26:21,  1.05s/it]"
     ]
    },
    {
     "name": "stdout",
     "output_type": "stream",
     "text": [
      "Warning: Could not download image animal_ears\\344 from https://safebooru.org/thumbnails/3/thumbnail_3503e66e931e2cd00e3d4384a49cb198db8d6478.png\n"
     ]
    },
    {
     "name": "stderr",
     "output_type": "stream",
     "text": [
      "  0%|                                                                        | 347/1288700 [06:10<377:42:50,  1.06s/it]"
     ]
    },
    {
     "name": "stdout",
     "output_type": "stream",
     "text": [
      "Warning: Could not download image animal_ears\\346 from https://safebooru.org/thumbnails/3/thumbnail_9ecec61b227dbea1d960c5dd0ebcdae6d3823133.png\n"
     ]
    },
    {
     "name": "stderr",
     "output_type": "stream",
     "text": [
      "\r",
      "  0%|                                                                        | 348/1288700 [06:11<379:07:35,  1.06s/it]"
     ]
    },
    {
     "name": "stdout",
     "output_type": "stream",
     "text": [
      "Warning: Could not download image animal_ears\\347 from https://safebooru.org/thumbnails/3/thumbnail_ff64abf9742b43b3e9c44568cc9a4cd396dc75d6.png\n"
     ]
    },
    {
     "name": "stderr",
     "output_type": "stream",
     "text": [
      "  0%|                                                                        | 350/1288700 [06:13<379:32:08,  1.06s/it]"
     ]
    },
    {
     "name": "stdout",
     "output_type": "stream",
     "text": [
      "Warning: Could not download image animal_ears\\349 from https://safebooru.org/thumbnails/3/thumbnail_c18c6d155d6e38a8f1089753f9f6583afd7beac8.png\n"
     ]
    },
    {
     "name": "stderr",
     "output_type": "stream",
     "text": [
      "  0%|                                                                        | 352/1288700 [06:15<412:27:07,  1.15s/it]"
     ]
    },
    {
     "name": "stdout",
     "output_type": "stream",
     "text": [
      "Warning: Could not download image animal_ears\\351 from https://safebooru.org/thumbnails/3/thumbnail_3aed9436e9e3067fc2d2769b32d1c60f1ea2ebf7.png\n"
     ]
    },
    {
     "name": "stderr",
     "output_type": "stream",
     "text": [
      "  0%|                                                                        | 355/1288700 [06:19<407:22:42,  1.14s/it]"
     ]
    },
    {
     "name": "stdout",
     "output_type": "stream",
     "text": [
      "Warning: Could not download image animal_ears\\354 from https://safebooru.org/thumbnails/3/thumbnail_ab3ad8ad15021c53d3a959599c374d50dec6b7c5.png\n"
     ]
    },
    {
     "name": "stderr",
     "output_type": "stream",
     "text": [
      "  0%|                                                                        | 362/1288700 [06:26<380:38:30,  1.06s/it]"
     ]
    },
    {
     "name": "stdout",
     "output_type": "stream",
     "text": [
      "Warning: Could not download image animal_ears\\361 from https://safebooru.org/thumbnails/3/thumbnail_86d16e92da7d97c9f3c1c61ce887b8dfaf13f503.png\n"
     ]
    },
    {
     "name": "stderr",
     "output_type": "stream",
     "text": [
      "  0%|                                                                        | 378/1288700 [06:42<375:58:52,  1.05s/it]"
     ]
    },
    {
     "name": "stdout",
     "output_type": "stream",
     "text": [
      "Warning: Could not download image animal_ears\\377 from https://safebooru.org/thumbnails/3/thumbnail_5f57bb7fc30c67d6c0525aae4dfb0466f349a937.png\n"
     ]
    },
    {
     "name": "stderr",
     "output_type": "stream",
     "text": [
      "  0%|                                                                        | 380/1288700 [06:45<381:31:42,  1.07s/it]"
     ]
    },
    {
     "name": "stdout",
     "output_type": "stream",
     "text": [
      "Warning: Could not download image animal_ears\\379 from https://safebooru.org/thumbnails/3/thumbnail_666eb27351df0b82544cd0a64002dc77e33c7a83.png\n"
     ]
    },
    {
     "name": "stderr",
     "output_type": "stream",
     "text": [
      "\r",
      "  0%|                                                                        | 381/1288700 [06:46<380:22:36,  1.06s/it]"
     ]
    },
    {
     "name": "stdout",
     "output_type": "stream",
     "text": [
      "Warning: Could not download image animal_ears\\380 from https://safebooru.org/thumbnails/3/thumbnail_e2722f675e74888e463d684777ee695c9b6eb571.png\n"
     ]
    },
    {
     "name": "stderr",
     "output_type": "stream",
     "text": [
      "  0%|                                                                        | 398/1288700 [07:02<380:39:16,  1.06s/it]"
     ]
    },
    {
     "name": "stdout",
     "output_type": "stream",
     "text": [
      "Warning: Could not download image animal_ears\\397 from https://safebooru.org/thumbnails/3/thumbnail_d0b2ae82d983c22b1ab98d7dd03edb075c485e88.png\n"
     ]
    },
    {
     "name": "stderr",
     "output_type": "stream",
     "text": [
      "  0%|                                                                        | 405/1288700 [07:09<341:58:40,  1.05it/s]"
     ]
    },
    {
     "name": "stdout",
     "output_type": "stream",
     "text": [
      "Warning: Could not download image animal_ears\\404 from https://safebooru.org/thumbnails/3/thumbnail_af02772989e7239830c4a17e7b43ad19344996cd.png\n"
     ]
    },
    {
     "name": "stderr",
     "output_type": "stream",
     "text": [
      "  0%|                                                                        | 412/1288700 [07:17<376:55:55,  1.05s/it]"
     ]
    },
    {
     "name": "stdout",
     "output_type": "stream",
     "text": [
      "Warning: Could not download image animal_ears\\411 from https://safebooru.org/thumbnails/3/thumbnail_ed9160330ea11263c84e5517a6ac713dea22f4b1.jpg\n"
     ]
    },
    {
     "name": "stderr",
     "output_type": "stream",
     "text": [
      "  0%|                                                                        | 423/1288700 [07:27<343:18:28,  1.04it/s]"
     ]
    },
    {
     "name": "stdout",
     "output_type": "stream",
     "text": [
      "Warning: Could not download image animal_ears\\422 from https://safebooru.org/thumbnails/3/thumbnail_570eeaf07b3eb0c56807cffa69a62f191e4cdd7e.png\n"
     ]
    },
    {
     "name": "stderr",
     "output_type": "stream",
     "text": [
      "  0%|                                                                        | 429/1288700 [07:33<371:15:49,  1.04s/it]"
     ]
    },
    {
     "name": "stdout",
     "output_type": "stream",
     "text": [
      "Warning: Could not download image animal_ears\\428 from https://safebooru.org/thumbnails/3/thumbnail_33f00366e931cbde698c5468e6892025e807be60.png\n"
     ]
    },
    {
     "name": "stderr",
     "output_type": "stream",
     "text": [
      "  0%|                                                                        | 440/1288700 [07:45<340:47:32,  1.05it/s]"
     ]
    },
    {
     "name": "stdout",
     "output_type": "stream",
     "text": [
      "Warning: Could not download image animal_ears\\439 from https://safebooru.org/thumbnails/3/thumbnail_908318e3fc75a0af4d29be867835889a0a5e6070.png\n"
     ]
    },
    {
     "name": "stderr",
     "output_type": "stream",
     "text": [
      "  0%|                                                                        | 449/1288700 [07:54<366:19:08,  1.02s/it]"
     ]
    },
    {
     "name": "stdout",
     "output_type": "stream",
     "text": [
      "Warning: Could not download image animal_ears\\448 from https://safebooru.org/thumbnails/3/thumbnail_c5e030e3cd132b2aa5d7007cc906f208a6466444.png\n"
     ]
    },
    {
     "name": "stderr",
     "output_type": "stream",
     "text": [
      "  0%|                                                                        | 454/1288700 [07:59<371:45:21,  1.04s/it]"
     ]
    },
    {
     "name": "stdout",
     "output_type": "stream",
     "text": [
      "Warning: Could not download image animal_ears\\453 from https://safebooru.org/thumbnails/3/thumbnail_dd26e341482fc96f8d9f34c473284ec7bb891138.png\n"
     ]
    },
    {
     "name": "stderr",
     "output_type": "stream",
     "text": [
      "  0%|                                                                        | 462/1288700 [08:07<363:02:29,  1.01s/it]"
     ]
    },
    {
     "name": "stdout",
     "output_type": "stream",
     "text": [
      "Warning: Could not download image animal_ears\\461 from https://safebooru.org/thumbnails/4/thumbnail_af0514b85288007737cac74d345769e86f9d645e.png\n"
     ]
    },
    {
     "name": "stderr",
     "output_type": "stream",
     "text": [
      "  0%|                                                                        | 466/1288700 [08:11<374:03:33,  1.05s/it]"
     ]
    },
    {
     "name": "stdout",
     "output_type": "stream",
     "text": [
      "Warning: Could not download image animal_ears\\465 from https://safebooru.org/thumbnails/4/thumbnail_f2053fe757f711068eb947d74e66cf78accb3552.png\n"
     ]
    },
    {
     "name": "stderr",
     "output_type": "stream",
     "text": [
      "  0%|                                                                        | 483/1288700 [08:29<376:46:44,  1.05s/it]"
     ]
    },
    {
     "name": "stdout",
     "output_type": "stream",
     "text": [
      "Warning: Could not download image animal_ears\\482 from https://safebooru.org/thumbnails/4/thumbnail_67aeec758a86d7a4f173983c91510cbda5728269.png\n"
     ]
    },
    {
     "name": "stderr",
     "output_type": "stream",
     "text": [
      "\r",
      "  0%|                                                                        | 484/1288700 [08:30<376:41:52,  1.05s/it]"
     ]
    },
    {
     "name": "stdout",
     "output_type": "stream",
     "text": [
      "Warning: Could not download image animal_ears\\483 from https://safebooru.org/thumbnails/4/thumbnail_8b2ae427af1e762ddf70c26ef54cc6f30c7f39af.png\n"
     ]
    },
    {
     "name": "stderr",
     "output_type": "stream",
     "text": [
      "  0%|                                                                        | 491/1288700 [08:38<381:56:21,  1.07s/it]"
     ]
    },
    {
     "name": "stdout",
     "output_type": "stream",
     "text": [
      "Warning: Could not download image animal_ears\\490 from https://safebooru.org/thumbnails/4/thumbnail_6ee61d3ef304771650c700184d84ee79b4f84f42.png\n"
     ]
    },
    {
     "name": "stderr",
     "output_type": "stream",
     "text": [
      "\r",
      "  0%|                                                                        | 492/1288700 [08:39<378:47:44,  1.06s/it]"
     ]
    },
    {
     "name": "stdout",
     "output_type": "stream",
     "text": [
      "Warning: Could not download image animal_ears\\491 from https://safebooru.org/thumbnails/4/thumbnail_31d76237bf7da8bd60f3497104001b357a8acf26.png\n"
     ]
    },
    {
     "name": "stderr",
     "output_type": "stream",
     "text": [
      "  0%|                                                                        | 507/1288700 [08:54<379:27:21,  1.06s/it]"
     ]
    },
    {
     "name": "stdout",
     "output_type": "stream",
     "text": [
      "Warning: Could not download image animal_ears\\506 from https://safebooru.org/thumbnails/4/thumbnail_a80cf75de8e8293afdbd877830b12d5c93522d06.png\n"
     ]
    },
    {
     "name": "stderr",
     "output_type": "stream",
     "text": [
      "  0%|                                                                        | 517/1288700 [09:05<386:32:28,  1.08s/it]"
     ]
    },
    {
     "name": "stdout",
     "output_type": "stream",
     "text": [
      "Warning: Could not download image animal_ears\\516 from https://safebooru.org/thumbnails/4/thumbnail_47097d43c8ba173b49940d1e15fd9969ad84429d.png\n"
     ]
    },
    {
     "name": "stderr",
     "output_type": "stream",
     "text": [
      "  0%|                                                                        | 519/1288700 [09:07<383:32:20,  1.07s/it]"
     ]
    },
    {
     "name": "stdout",
     "output_type": "stream",
     "text": [
      "Warning: Could not download image animal_ears\\518 from https://safebooru.org/thumbnails/4/thumbnail_33d5d5e186ec13c3a6035c5b4e198524463d5c90.png\n"
     ]
    },
    {
     "name": "stderr",
     "output_type": "stream",
     "text": [
      "  0%|                                                                        | 535/1288700 [09:25<423:34:29,  1.18s/it]"
     ]
    },
    {
     "name": "stdout",
     "output_type": "stream",
     "text": [
      "Warning: Could not download image animal_ears\\534 from https://safebooru.org/thumbnails/4/thumbnail_9bee5c3432d0f7d2a77004409b9719a894c3a2cf.png\n"
     ]
    },
    {
     "name": "stderr",
     "output_type": "stream",
     "text": [
      "  0%|                                                                        | 554/1288700 [09:45<391:11:45,  1.09s/it]"
     ]
    },
    {
     "name": "stdout",
     "output_type": "stream",
     "text": [
      "Warning: Could not download image animal_ears\\553 from https://safebooru.org/thumbnails/5/thumbnail_0b71e619cd1f0f9480425673811c7780e297865a.png\n"
     ]
    },
    {
     "name": "stderr",
     "output_type": "stream",
     "text": [
      "  0%|                                                                        | 559/1288700 [09:50<384:04:34,  1.07s/it]"
     ]
    },
    {
     "name": "stdout",
     "output_type": "stream",
     "text": [
      "Warning: Could not download image animal_ears\\558 from https://safebooru.org/thumbnails/5/thumbnail_985c9b35f373b9573df0409364922bbece7c2840.png\n"
     ]
    },
    {
     "name": "stderr",
     "output_type": "stream",
     "text": [
      "  0%|                                                                        | 571/1288700 [10:03<396:11:15,  1.11s/it]"
     ]
    },
    {
     "name": "stdout",
     "output_type": "stream",
     "text": [
      "Warning: Could not download image animal_ears\\570 from https://safebooru.org/thumbnails/5/thumbnail_bddce52e5d51f061aecd263b37b4de3e5fef50d6.png\n"
     ]
    },
    {
     "name": "stderr",
     "output_type": "stream",
     "text": [
      "\r",
      "  0%|                                                                        | 572/1288700 [10:04<392:01:04,  1.10s/it]"
     ]
    },
    {
     "name": "stdout",
     "output_type": "stream",
     "text": [
      "Warning: Could not download image animal_ears\\571 from https://safebooru.org/thumbnails/5/thumbnail_9e21475c755de4447cc683b5b802ba653da33c59.png\n"
     ]
    },
    {
     "name": "stderr",
     "output_type": "stream",
     "text": [
      "  0%|                                                                        | 575/1288700 [10:07<308:21:06,  1.16it/s]"
     ]
    },
    {
     "name": "stdout",
     "output_type": "stream",
     "text": [
      "Warning: Could not download image animal_ears\\574 from https://safebooru.org/thumbnails/5/thumbnail_92f73566c8c15012b76d1e46792aa7c6942f93e1.png\n"
     ]
    },
    {
     "name": "stderr",
     "output_type": "stream",
     "text": [
      "  0%|                                                                        | 580/1288700 [10:12<392:36:43,  1.10s/it]"
     ]
    },
    {
     "name": "stdout",
     "output_type": "stream",
     "text": [
      "Warning: Could not download image animal_ears\\579 from https://safebooru.org/thumbnails/5/thumbnail_76afcf300436386f7a52f4a21b25be7eb492fc9e.png\n"
     ]
    },
    {
     "name": "stderr",
     "output_type": "stream",
     "text": [
      "\r",
      "  0%|                                                                        | 581/1288700 [10:13<412:00:55,  1.15s/it]"
     ]
    },
    {
     "name": "stdout",
     "output_type": "stream",
     "text": [
      "Warning: Could not download image animal_ears\\580 from https://safebooru.org/thumbnails/5/thumbnail_736d07ff8d75edde33218e8903ef2b2009c0e0a4.png\n"
     ]
    },
    {
     "name": "stderr",
     "output_type": "stream",
     "text": [
      "  0%|                                                                        | 592/1288700 [10:25<381:37:50,  1.07s/it]"
     ]
    },
    {
     "name": "stdout",
     "output_type": "stream",
     "text": [
      "Warning: Could not download image animal_ears\\591 from https://safebooru.org/thumbnails/5/thumbnail_2354b687620591cbf5a4cf70e8230dfbd483bc25.png\n"
     ]
    },
    {
     "name": "stderr",
     "output_type": "stream",
     "text": [
      "  0%|                                                                        | 619/1288700 [10:54<424:03:33,  1.19s/it]"
     ]
    },
    {
     "name": "stdout",
     "output_type": "stream",
     "text": [
      "Warning: Could not download image animal_ears\\618 from https://safebooru.org/thumbnails/5/thumbnail_a69b7fcf207ded33be018937bab6f27d2ed486d3.png\n"
     ]
    },
    {
     "name": "stderr",
     "output_type": "stream",
     "text": [
      "\r",
      "  0%|                                                                        | 620/1288700 [10:55<410:08:50,  1.15s/it]"
     ]
    },
    {
     "name": "stdout",
     "output_type": "stream",
     "text": [
      "Warning: Could not download image animal_ears\\619 from https://safebooru.org/thumbnails/5/thumbnail_d350488890eefb392b1ccedf3d407165ba813924.png\n"
     ]
    },
    {
     "name": "stderr",
     "output_type": "stream",
     "text": [
      "\r",
      "  0%|                                                                        | 621/1288700 [10:56<400:53:38,  1.12s/it]"
     ]
    },
    {
     "name": "stdout",
     "output_type": "stream",
     "text": [
      "Warning: Could not download image animal_ears\\620 from https://safebooru.org/thumbnails/5/thumbnail_8041ea1299e0ba5b9e3edd51294d25605d23f064.png\n"
     ]
    },
    {
     "name": "stderr",
     "output_type": "stream",
     "text": [
      "  0%|                                                                        | 623/1288700 [10:59<388:39:58,  1.09s/it]"
     ]
    },
    {
     "name": "stdout",
     "output_type": "stream",
     "text": [
      "Warning: Could not download image animal_ears\\622 from https://safebooru.org/thumbnails/5/thumbnail_c91037e3e328d33c7c84934c087188b187d6da07.png\n"
     ]
    },
    {
     "name": "stderr",
     "output_type": "stream",
     "text": [
      "  0%|                                                                        | 626/1288700 [11:02<381:04:16,  1.07s/it]"
     ]
    },
    {
     "name": "stdout",
     "output_type": "stream",
     "text": [
      "Warning: Could not download image animal_ears\\625 from https://safebooru.org/thumbnails/5/thumbnail_aa37dde1c1511361b7b768bf2033cc8b7b15b6e5.png\n"
     ]
    },
    {
     "name": "stderr",
     "output_type": "stream",
     "text": [
      "\r",
      "  0%|                                                                        | 627/1288700 [11:03<379:44:25,  1.06s/it]"
     ]
    },
    {
     "name": "stdout",
     "output_type": "stream",
     "text": [
      "Warning: Could not download image animal_ears\\626 from https://safebooru.org/thumbnails/5/thumbnail_cad82f251e0a64625dc81cdd29b7b6318b1b4297.png\n"
     ]
    },
    {
     "name": "stderr",
     "output_type": "stream",
     "text": [
      "  0%|                                                                        | 646/1288700 [11:22<359:56:36,  1.01s/it]"
     ]
    },
    {
     "name": "stdout",
     "output_type": "stream",
     "text": [
      "Warning: Could not download image animal_ears\\645 from https://safebooru.org/thumbnails/5/thumbnail_a11dc70974b114555ecc12d2be6690988d9c0f84.png\n"
     ]
    },
    {
     "name": "stderr",
     "output_type": "stream",
     "text": [
      "  0%|                                                                        | 664/1288700 [11:42<376:46:53,  1.05s/it]"
     ]
    },
    {
     "name": "stdout",
     "output_type": "stream",
     "text": [
      "Warning: Could not download image animal_ears\\663 from https://safebooru.org/thumbnails/5/thumbnail_b87f63b6fa5a8aeb53730957febb90f322a2ec00.png\n"
     ]
    },
    {
     "name": "stderr",
     "output_type": "stream",
     "text": [
      "  0%|                                                                        | 666/1288700 [11:44<379:02:33,  1.06s/it]"
     ]
    },
    {
     "name": "stdout",
     "output_type": "stream",
     "text": [
      "Warning: Could not download image animal_ears\\665 from https://safebooru.org/thumbnails/5/thumbnail_273f3d15577fb8bfdf110c653b762e0a5f96e2f8.png\n"
     ]
    },
    {
     "name": "stderr",
     "output_type": "stream",
     "text": [
      "  0%|                                                                        | 698/1288700 [12:18<354:47:13,  1.01it/s]"
     ]
    },
    {
     "name": "stdout",
     "output_type": "stream",
     "text": [
      "Warning: Could not download image animal_ears\\697 from https://safebooru.org/thumbnails/6/thumbnail_3838e2591f31e5d2d2859c2c8299fcecc171e27d.png\n"
     ]
    },
    {
     "name": "stderr",
     "output_type": "stream",
     "text": [
      "  0%|                                                                        | 713/1288700 [12:34<382:07:48,  1.07s/it]"
     ]
    },
    {
     "name": "stdout",
     "output_type": "stream",
     "text": [
      "Warning: Could not download image animal_ears\\712 from https://safebooru.org/thumbnails/6/thumbnail_e3e99b32c4c8022e93fa3cd247236f89a2f116d7.png\n"
     ]
    },
    {
     "name": "stderr",
     "output_type": "stream",
     "text": [
      "  0%|                                                                        | 743/1288700 [13:06<387:24:03,  1.08s/it]"
     ]
    },
    {
     "name": "stdout",
     "output_type": "stream",
     "text": [
      "Warning: Could not download image animal_ears\\742 from https://safebooru.org/thumbnails/6/thumbnail_034b531dba35a37e9586a0169a0d8d1b039422e5.png\n"
     ]
    },
    {
     "name": "stderr",
     "output_type": "stream",
     "text": [
      "\r",
      "  0%|                                                                        | 744/1288700 [13:07<384:22:08,  1.07s/it]"
     ]
    },
    {
     "name": "stdout",
     "output_type": "stream",
     "text": [
      "Warning: Could not download image animal_ears\\743 from https://safebooru.org/thumbnails/6/thumbnail_302edbc319783cc5564eef5aff2d710ecfd87dc5.png\n"
     ]
    },
    {
     "name": "stderr",
     "output_type": "stream",
     "text": [
      "  0%|                                                                        | 767/1288700 [13:32<384:22:02,  1.07s/it]"
     ]
    },
    {
     "name": "stdout",
     "output_type": "stream",
     "text": [
      "Warning: Could not download image animal_ears\\766 from https://safebooru.org/thumbnails/6/thumbnail_0557805be0c0deb2fecff1a8be725cf26f122793.png\n"
     ]
    },
    {
     "name": "stderr",
     "output_type": "stream",
     "text": [
      "\r",
      "  0%|                                                                        | 768/1288700 [13:33<383:20:25,  1.07s/it]"
     ]
    },
    {
     "name": "stdout",
     "output_type": "stream",
     "text": [
      "Warning: Could not download image animal_ears\\767 from https://safebooru.org/thumbnails/6/thumbnail_3326fcc11e1b057aeaeb22fa95452fb798dc0251.png\n"
     ]
    },
    {
     "name": "stderr",
     "output_type": "stream",
     "text": [
      "  0%|                                                                        | 771/1288700 [13:35<325:05:41,  1.10it/s]"
     ]
    },
    {
     "name": "stdout",
     "output_type": "stream",
     "text": [
      "Warning: Could not download image animal_ears\\770 from https://safebooru.org/thumbnails/6/thumbnail_32fead3e36f37413162922c3834e683cda59c4eb.png\n"
     ]
    },
    {
     "name": "stderr",
     "output_type": "stream",
     "text": [
      "  0%|                                                                        | 781/1288700 [13:46<377:31:48,  1.06s/it]"
     ]
    },
    {
     "name": "stdout",
     "output_type": "stream",
     "text": [
      "Warning: Could not download image animal_ears\\780 from https://safebooru.org/thumbnails/6/thumbnail_ed2e0ad997901c60b168f4980e47efabf7c342dc.png\n"
     ]
    },
    {
     "name": "stderr",
     "output_type": "stream",
     "text": [
      "  0%|                                                                        | 795/1288700 [14:00<325:59:21,  1.10it/s]"
     ]
    },
    {
     "name": "stdout",
     "output_type": "stream",
     "text": [
      "Warning: Could not download image animal_ears\\794 from https://safebooru.org/thumbnails/7/thumbnail_d42d328b9f56fb49c5650c58b20b3e4dfde7ea9b.png\n"
     ]
    },
    {
     "name": "stderr",
     "output_type": "stream",
     "text": [
      "  0%|                                                                        | 804/1288700 [14:09<311:34:39,  1.15it/s]"
     ]
    },
    {
     "name": "stdout",
     "output_type": "stream",
     "text": [
      "Warning: Could not download image animal_ears\\803 from https://safebooru.org/thumbnails/7/thumbnail_c675c68ce6bfc7f7d3f2e988cae34625531d485c.png\n"
     ]
    },
    {
     "name": "stderr",
     "output_type": "stream",
     "text": [
      "  0%|                                                                        | 812/1288700 [14:17<374:59:29,  1.05s/it]"
     ]
    },
    {
     "name": "stdout",
     "output_type": "stream",
     "text": [
      "Warning: Could not download image animal_ears\\811 from https://safebooru.org/thumbnails/7/thumbnail_fb247ae508da11dccac90cfa4f4e6eff1c77e58d.png\n"
     ]
    },
    {
     "name": "stderr",
     "output_type": "stream",
     "text": [
      "  0%|                                                                        | 855/1288700 [15:03<387:32:14,  1.08s/it]"
     ]
    },
    {
     "name": "stdout",
     "output_type": "stream",
     "text": [
      "Warning: Could not download image animal_ears\\854 from https://safebooru.org/thumbnails/7/thumbnail_dae6fd11af2c5cbd1af27102f15965a3aaef4ecf.png\n"
     ]
    },
    {
     "name": "stderr",
     "output_type": "stream",
     "text": [
      "  0%|                                                                        | 859/1288700 [15:08<380:59:58,  1.07s/it]"
     ]
    },
    {
     "name": "stdout",
     "output_type": "stream",
     "text": [
      "Warning: Could not download image animal_ears\\858 from https://safebooru.org/thumbnails/7/thumbnail_7cbf1805ffcc20d7f4ceba45c1b19e299d4d54bc.png\n"
     ]
    },
    {
     "name": "stderr",
     "output_type": "stream",
     "text": [
      "  0%|                                                                        | 864/1288700 [15:13<385:46:16,  1.08s/it]"
     ]
    },
    {
     "name": "stdout",
     "output_type": "stream",
     "text": [
      "Warning: Could not download image animal_ears\\863 from https://safebooru.org/thumbnails/7/thumbnail_9d722bf7d7826d53f92c545abe132c85150a970f.png\n"
     ]
    },
    {
     "name": "stderr",
     "output_type": "stream",
     "text": [
      "  0%|                                                                        | 881/1288700 [15:31<382:39:12,  1.07s/it]"
     ]
    },
    {
     "name": "stdout",
     "output_type": "stream",
     "text": [
      "Warning: Could not download image animal_ears\\880 from https://safebooru.org/thumbnails/7/thumbnail_98c835d9b1573ac7be1cb2d8dd789947de729644.gif\n"
     ]
    },
    {
     "name": "stderr",
     "output_type": "stream",
     "text": [
      "\r",
      "  0%|                                                                        | 882/1288700 [15:32<378:44:57,  1.06s/it]"
     ]
    },
    {
     "name": "stdout",
     "output_type": "stream",
     "text": [
      "Warning: Could not download image animal_ears\\881 from https://safebooru.org/thumbnails/7/thumbnail_98009529eb05b0debd3cab35b6be533dc16aa92a.gif\n"
     ]
    },
    {
     "name": "stderr",
     "output_type": "stream",
     "text": [
      "  0%|                                                                        | 886/1288700 [15:36<378:18:11,  1.06s/it]"
     ]
    },
    {
     "name": "stdout",
     "output_type": "stream",
     "text": [
      "Warning: Could not download image animal_ears\\885 from https://safebooru.org/thumbnails/7/thumbnail_f17546c0c0e3ddc22ab6168d8b223169c43d5988.png\n"
     ]
    },
    {
     "name": "stderr",
     "output_type": "stream",
     "text": [
      "\r",
      "  0%|                                                                        | 887/1288700 [15:37<379:26:18,  1.06s/it]"
     ]
    },
    {
     "name": "stdout",
     "output_type": "stream",
     "text": [
      "Warning: Could not download image animal_ears\\886 from https://safebooru.org/thumbnails/7/thumbnail_81a9463781ecc29b8ac32e2065e731b94139f171.png\n"
     ]
    },
    {
     "name": "stderr",
     "output_type": "stream",
     "text": [
      "  0%|                                                                        | 889/1288700 [15:40<377:11:53,  1.05s/it]"
     ]
    },
    {
     "name": "stdout",
     "output_type": "stream",
     "text": [
      "Warning: Could not download image animal_ears\\888 from https://safebooru.org/thumbnails/7/thumbnail_3a5be730e58a327ea28eae69949f39934dfdf63f.png\n"
     ]
    },
    {
     "name": "stderr",
     "output_type": "stream",
     "text": [
      "  0%|                                                                        | 899/1288700 [15:50<377:53:55,  1.06s/it]"
     ]
    },
    {
     "name": "stdout",
     "output_type": "stream",
     "text": [
      "Warning: Could not download image animal_ears\\898 from https://safebooru.org/thumbnails/7/thumbnail_1e9545243dfb7a79a08e6a962aac57f61f6cc40c.gif\n"
     ]
    },
    {
     "name": "stderr",
     "output_type": "stream",
     "text": [
      "  0%|                                                                        | 904/1288700 [15:56<377:06:59,  1.05s/it]"
     ]
    },
    {
     "name": "stdout",
     "output_type": "stream",
     "text": [
      "Warning: Could not download image animal_ears\\903 from https://safebooru.org/thumbnails/7/thumbnail_1348f2afff34fd117bdd66c04b987135c185c56c.png\n"
     ]
    },
    {
     "name": "stderr",
     "output_type": "stream",
     "text": [
      "  0%|                                                                        | 913/1288700 [16:05<379:48:21,  1.06s/it]"
     ]
    },
    {
     "name": "stdout",
     "output_type": "stream",
     "text": [
      "Warning: Could not download image animal_ears\\912 from https://safebooru.org/thumbnails/7/thumbnail_871a91c141484cd4b295420c5f111a51d2c1658e.png\n"
     ]
    },
    {
     "name": "stderr",
     "output_type": "stream",
     "text": [
      "  0%|                                                                        | 915/1288700 [16:07<377:26:58,  1.06s/it]"
     ]
    },
    {
     "name": "stdout",
     "output_type": "stream",
     "text": [
      "Warning: Could not download image animal_ears\\914 from https://safebooru.org/thumbnails/7/thumbnail_de890b5c3fe8aae236b35848662800d6e8559628.png\n"
     ]
    },
    {
     "name": "stderr",
     "output_type": "stream",
     "text": [
      "  0%|                                                                        | 921/1288700 [16:14<383:17:04,  1.07s/it]"
     ]
    },
    {
     "name": "stdout",
     "output_type": "stream",
     "text": [
      "Warning: Could not download image animal_ears\\920 from https://safebooru.org/thumbnails/7/thumbnail_39d07205f46f419c38c9301ae6957a83f6448ff4.png\n"
     ]
    },
    {
     "name": "stderr",
     "output_type": "stream",
     "text": [
      "  0%|                                                                        | 927/1288700 [16:20<376:27:57,  1.05s/it]"
     ]
    },
    {
     "name": "stdout",
     "output_type": "stream",
     "text": [
      "Warning: Could not download image animal_ears\\926 from https://safebooru.org/thumbnails/8/thumbnail_96d59b6b54e48018be464c8d0337ef446f28eead.png\n"
     ]
    },
    {
     "name": "stderr",
     "output_type": "stream",
     "text": [
      "  0%|                                                                        | 937/1288700 [16:31<382:50:12,  1.07s/it]"
     ]
    },
    {
     "name": "stdout",
     "output_type": "stream",
     "text": [
      "Warning: Could not download image animal_ears\\936 from https://safebooru.org/thumbnails/8/thumbnail_bd6b32b96f718b6ac8e7e6b7094f7a13fd9763d0.png\n"
     ]
    },
    {
     "name": "stderr",
     "output_type": "stream",
     "text": [
      "  0%|                                                                        | 943/1288700 [16:37<376:31:06,  1.05s/it]"
     ]
    },
    {
     "name": "stdout",
     "output_type": "stream",
     "text": [
      "Warning: Could not download image animal_ears\\942 from https://safebooru.org/thumbnails/8/thumbnail_b53da3a6db79e5a366e3b8236e3462a9f26843f3.png\n"
     ]
    },
    {
     "name": "stderr",
     "output_type": "stream",
     "text": [
      "  0%|                                                                        | 946/1288700 [16:41<408:33:57,  1.14s/it]"
     ]
    },
    {
     "name": "stdout",
     "output_type": "stream",
     "text": [
      "Warning: Could not download image animal_ears\\945 from https://safebooru.org/thumbnails/8/thumbnail_1f3da90ed3478160860a1494b6c5ca54208766f6.png\n"
     ]
    },
    {
     "name": "stderr",
     "output_type": "stream",
     "text": [
      "  0%|                                                                        | 956/1288700 [16:51<378:02:34,  1.06s/it]"
     ]
    },
    {
     "name": "stdout",
     "output_type": "stream",
     "text": [
      "Warning: Could not download image animal_ears\\955 from https://safebooru.org/thumbnails/8/thumbnail_d7a408a87c5f85ee5c558023b8795315576c077c.png\n"
     ]
    },
    {
     "name": "stderr",
     "output_type": "stream",
     "text": [
      "  0%|                                                                        | 974/1288700 [17:10<361:29:11,  1.01s/it]"
     ]
    },
    {
     "name": "stdout",
     "output_type": "stream",
     "text": [
      "Warning: Could not download image animal_ears\\973 from https://safebooru.org/thumbnails/8/thumbnail_73ca0e94b33acbeade6f217ac5dd4a14912ebd50.png\n"
     ]
    },
    {
     "name": "stderr",
     "output_type": "stream",
     "text": [
      "  0%|                                                                        | 980/1288700 [17:16<386:02:42,  1.08s/it]"
     ]
    },
    {
     "name": "stdout",
     "output_type": "stream",
     "text": [
      "Warning: Could not download image animal_ears\\979 from https://safebooru.org/thumbnails/8/thumbnail_e809a101828be2cf3186f019599c962ca3045687.jpg\n"
     ]
    },
    {
     "name": "stderr",
     "output_type": "stream",
     "text": [
      "  0%|                                                                        | 999/1288700 [17:36<360:13:50,  1.01s/it]"
     ]
    },
    {
     "name": "stdout",
     "output_type": "stream",
     "text": [
      "Warning: Could not download image animal_ears\\998 from https://safebooru.org/thumbnails/9/thumbnail_7d961e26ba1cb8659782ab5f9f697cb877b3fe94.png\n"
     ]
    },
    {
     "name": "stderr",
     "output_type": "stream",
     "text": [
      "  0%|                                                                       | 1003/1288700 [17:40<377:13:28,  1.05s/it]"
     ]
    },
    {
     "name": "stdout",
     "output_type": "stream",
     "text": [
      "Warning: Could not download image animal_ears\\1002 from https://safebooru.org/thumbnails/9/thumbnail_54c5c2c11c7250119b7553dc3fed5d66007f5d1a.png\n"
     ]
    },
    {
     "name": "stderr",
     "output_type": "stream",
     "text": [
      "  0%|                                                                       | 1009/1288700 [17:47<374:12:25,  1.05s/it]"
     ]
    },
    {
     "name": "stdout",
     "output_type": "stream",
     "text": [
      "Warning: Could not download image animal_ears\\1008 from https://safebooru.org/thumbnails/9/thumbnail_735f7a48c77bf8bbe10663c93bca6775dfd8c586.png\n"
     ]
    },
    {
     "name": "stderr",
     "output_type": "stream",
     "text": [
      "  0%|                                                                       | 1014/1288700 [17:52<381:19:09,  1.07s/it]"
     ]
    },
    {
     "name": "stdout",
     "output_type": "stream",
     "text": [
      "Warning: Could not download image animal_ears\\1013 from https://safebooru.org/thumbnails/9/thumbnail_d33877a8ff52fe9397f5926b17e410268505f8d0.png\n"
     ]
    },
    {
     "name": "stderr",
     "output_type": "stream",
     "text": [
      "  0%|                                                                       | 1038/1288700 [18:17<360:40:12,  1.01s/it]"
     ]
    },
    {
     "name": "stdout",
     "output_type": "stream",
     "text": [
      "Warning: Could not download image animal_ears\\1037 from https://safebooru.org/thumbnails/9/thumbnail_4d1ab124b3ca2580c37bf1d59e1dd4b982f549ef.png\n"
     ]
    },
    {
     "name": "stderr",
     "output_type": "stream",
     "text": [
      "\r",
      "  0%|                                                                       | 1039/1288700 [18:18<364:37:43,  1.02s/it]"
     ]
    },
    {
     "name": "stdout",
     "output_type": "stream",
     "text": [
      "Warning: Could not download image animal_ears\\1038 from https://safebooru.org/thumbnails/9/thumbnail_aad74761e552e7690a2bb5c20d0f05b966a7c5f4.png\n"
     ]
    },
    {
     "name": "stderr",
     "output_type": "stream",
     "text": [
      "\r",
      "  0%|                                                                       | 1040/1288700 [18:19<369:58:04,  1.03s/it]"
     ]
    },
    {
     "name": "stdout",
     "output_type": "stream",
     "text": [
      "Warning: Could not download image animal_ears\\1039 from https://safebooru.org/thumbnails/9/thumbnail_0247be1fd25006593b668997b4de4d2f36c3d7d5.png\n"
     ]
    },
    {
     "name": "stderr",
     "output_type": "stream",
     "text": [
      "  0%|                                                                       | 1072/1288700 [18:53<377:38:47,  1.06s/it]"
     ]
    },
    {
     "name": "stdout",
     "output_type": "stream",
     "text": [
      "Warning: Could not download image animal_ears\\1071 from https://safebooru.org/thumbnails/9/thumbnail_975cc5872b5f38c350c14e1b09b54f4c0affc35c.png\n"
     ]
    },
    {
     "name": "stderr",
     "output_type": "stream",
     "text": [
      "  0%|                                                                       | 1136/1288700 [20:01<370:13:19,  1.04s/it]"
     ]
    },
    {
     "name": "stdout",
     "output_type": "stream",
     "text": [
      "Warning: Could not download image animal_ears\\1135 from https://safebooru.org/thumbnails/10/thumbnail_7df9d5abb83bb634a4349546f9199183a7df2218.png\n"
     ]
    },
    {
     "name": "stderr",
     "output_type": "stream",
     "text": [
      "\r",
      "  0%|                                                                       | 1137/1288700 [20:02<372:08:45,  1.04s/it]"
     ]
    },
    {
     "name": "stdout",
     "output_type": "stream",
     "text": [
      "Warning: Could not download image animal_ears\\1136 from https://safebooru.org/thumbnails/10/thumbnail_45f6ed28082f5e411cd911b9f69ed8345ac413fb.png\n"
     ]
    },
    {
     "name": "stderr",
     "output_type": "stream",
     "text": [
      "  0%|                                                                       | 1141/1288700 [20:06<376:50:15,  1.05s/it]"
     ]
    },
    {
     "name": "stdout",
     "output_type": "stream",
     "text": [
      "Warning: Could not download image animal_ears\\1140 from https://safebooru.org/thumbnails/10/thumbnail_140e67dd9322bc52b42744f629a6773c0cb15fbd.png\n"
     ]
    },
    {
     "name": "stderr",
     "output_type": "stream",
     "text": [
      "  0%|                                                                       | 1144/1288700 [20:10<376:27:51,  1.05s/it]"
     ]
    },
    {
     "name": "stdout",
     "output_type": "stream",
     "text": [
      "Warning: Could not download image animal_ears\\1143 from https://safebooru.org/thumbnails/10/thumbnail_0b1b2817d71eaea8b01492149e935a20a2b55ae4.png\n"
     ]
    },
    {
     "name": "stderr",
     "output_type": "stream",
     "text": [
      "  0%|                                                                       | 1189/1288700 [20:57<412:46:03,  1.15s/it]"
     ]
    },
    {
     "name": "stdout",
     "output_type": "stream",
     "text": [
      "Warning: Could not download image animal_ears\\1188 from https://safebooru.org/thumbnails/10/thumbnail_e8638bb21f52a6eb6771b79fdcaa7eab9fe63db1.png\n"
     ]
    },
    {
     "name": "stderr",
     "output_type": "stream",
     "text": [
      "  0%|                                                                       | 1201/1288700 [21:10<378:59:41,  1.06s/it]"
     ]
    },
    {
     "name": "stdout",
     "output_type": "stream",
     "text": [
      "Warning: Could not download image animal_ears\\1200 from https://safebooru.org/thumbnails/11/thumbnail_3914b5a97fd59422ae3facbaa9fc513fc5943c13.png\n"
     ]
    },
    {
     "name": "stderr",
     "output_type": "stream",
     "text": [
      "  0%|                                                                       | 1210/1288700 [21:20<375:40:09,  1.05s/it]"
     ]
    },
    {
     "name": "stdout",
     "output_type": "stream",
     "text": [
      "Warning: Could not download image animal_ears\\1209 from https://safebooru.org/thumbnails/11/thumbnail_eb027511eef0ddc5630f9f1d9f44acf25425fc4e.png\n"
     ]
    },
    {
     "name": "stderr",
     "output_type": "stream",
     "text": [
      "  0%|                                                                       | 1213/1288700 [21:23<375:09:19,  1.05s/it]"
     ]
    },
    {
     "name": "stdout",
     "output_type": "stream",
     "text": [
      "Warning: Could not download image animal_ears\\1212 from https://safebooru.org/thumbnails/11/thumbnail_f0b43633dd97ccabcbacbc7b0424ee6ffdb69f0f.png\n"
     ]
    },
    {
     "name": "stderr",
     "output_type": "stream",
     "text": [
      "  0%|                                                                       | 1216/1288700 [21:26<376:15:39,  1.05s/it]"
     ]
    },
    {
     "name": "stdout",
     "output_type": "stream",
     "text": [
      "Warning: Could not download image animal_ears\\1215 from https://safebooru.org/thumbnails/11/thumbnail_119bddc9505e209c1a9bc9adb1e4b7067054cecd.png\n"
     ]
    },
    {
     "name": "stderr",
     "output_type": "stream",
     "text": [
      "  0%|                                                                       | 1224/1288700 [21:34<376:25:37,  1.05s/it]"
     ]
    },
    {
     "name": "stdout",
     "output_type": "stream",
     "text": [
      "Warning: Could not download image animal_ears\\1223 from https://safebooru.org/thumbnails/11/thumbnail_8f30da87b843e88001e43a09c78113d37d50681b.png\n"
     ]
    },
    {
     "name": "stderr",
     "output_type": "stream",
     "text": [
      "  0%|                                                                       | 1226/1288700 [21:37<376:18:14,  1.05s/it]"
     ]
    },
    {
     "name": "stdout",
     "output_type": "stream",
     "text": [
      "Warning: Could not download image animal_ears\\1225 from https://safebooru.org/thumbnails/11/thumbnail_38d979858139b284f8985f7817eefe0bce5ce26e.png\n"
     ]
    },
    {
     "name": "stderr",
     "output_type": "stream",
     "text": [
      "  0%|                                                                       | 1232/1288700 [21:43<413:45:35,  1.16s/it]"
     ]
    },
    {
     "name": "stdout",
     "output_type": "stream",
     "text": [
      "Warning: Could not download image animal_ears\\1231 from https://safebooru.org/thumbnails/11/thumbnail_d7bfdb8e64a873fe72db437b4a7d8fd01cffb859.png\n"
     ]
    },
    {
     "name": "stderr",
     "output_type": "stream",
     "text": [
      "\r",
      "  0%|                                                                       | 1233/1288700 [21:44<401:05:40,  1.12s/it]"
     ]
    },
    {
     "name": "stdout",
     "output_type": "stream",
     "text": [
      "Warning: Could not download image animal_ears\\1232 from https://safebooru.org/thumbnails/11/thumbnail_082574163b881c25d50e7a5bd9744e692d830c0d.png\n"
     ]
    },
    {
     "name": "stderr",
     "output_type": "stream",
     "text": [
      "\r",
      "  0%|                                                                       | 1234/1288700 [21:45<393:38:16,  1.10s/it]"
     ]
    },
    {
     "name": "stdout",
     "output_type": "stream",
     "text": [
      "Warning: Could not download image animal_ears\\1233 from https://safebooru.org/thumbnails/11/thumbnail_e489abad6281f5a3cbf67fa466b52eabae08a85f.png\n"
     ]
    },
    {
     "name": "stderr",
     "output_type": "stream",
     "text": [
      "  0%|                                                                       | 1240/1288700 [21:52<381:16:06,  1.07s/it]"
     ]
    },
    {
     "name": "stdout",
     "output_type": "stream",
     "text": [
      "Warning: Could not download image animal_ears\\1239 from https://safebooru.org/thumbnails/11/thumbnail_201cdea249556d89db4f9ddd37417f31312bcea4.png\n"
     ]
    },
    {
     "name": "stderr",
     "output_type": "stream",
     "text": [
      "  0%|                                                                       | 1246/1288700 [21:58<376:52:52,  1.05s/it]"
     ]
    },
    {
     "name": "stdout",
     "output_type": "stream",
     "text": [
      "Warning: Could not download image animal_ears\\1245 from https://safebooru.org/thumbnails/11/thumbnail_25d04e7b8b40ffee43543e6d07166ec3b678c12b.png\n"
     ]
    },
    {
     "name": "stderr",
     "output_type": "stream",
     "text": [
      "  0%|                                                                       | 1251/1288700 [22:03<377:38:18,  1.06s/it]"
     ]
    },
    {
     "name": "stdout",
     "output_type": "stream",
     "text": [
      "Warning: Could not download image animal_ears\\1250 from https://safebooru.org/thumbnails/11/thumbnail_8ecec9a99ec99cf03a817a818a529e19095ff87f.png\n"
     ]
    },
    {
     "name": "stderr",
     "output_type": "stream",
     "text": [
      "  0%|                                                                       | 1264/1288700 [22:17<377:28:06,  1.06s/it]"
     ]
    },
    {
     "name": "stdout",
     "output_type": "stream",
     "text": [
      "Warning: Could not download image animal_ears\\1263 from https://safebooru.org/thumbnails/11/thumbnail_b52dabfad0e46a40f4e20d510266751047fd47ce.png\n"
     ]
    },
    {
     "name": "stderr",
     "output_type": "stream",
     "text": [
      "  0%|                                                                       | 1268/1288700 [22:22<384:49:16,  1.08s/it]"
     ]
    },
    {
     "name": "stdout",
     "output_type": "stream",
     "text": [
      "Warning: Could not download image animal_ears\\1267 from https://safebooru.org/thumbnails/11/thumbnail_028292a346e861c62f987cb7d10904b40fd16c1d.png\n"
     ]
    },
    {
     "name": "stderr",
     "output_type": "stream",
     "text": [
      "  0%|                                                                       | 1270/1288700 [22:24<385:21:26,  1.08s/it]"
     ]
    },
    {
     "name": "stdout",
     "output_type": "stream",
     "text": [
      "Warning: Could not download image animal_ears\\1269 from https://safebooru.org/thumbnails/11/thumbnail_d6ab655a9625b379c333929f663e5741ade831cc.png\n"
     ]
    },
    {
     "name": "stderr",
     "output_type": "stream",
     "text": [
      "  0%|                                                                       | 1277/1288700 [22:31<376:31:33,  1.05s/it]"
     ]
    },
    {
     "name": "stdout",
     "output_type": "stream",
     "text": [
      "Warning: Could not download image animal_ears\\1276 from https://safebooru.org/thumbnails/11/thumbnail_d43d057a4189c7ce598cadd45711321b11c5df59.png\n"
     ]
    },
    {
     "name": "stderr",
     "output_type": "stream",
     "text": [
      "  0%|                                                                       | 1285/1288700 [22:39<347:19:26,  1.03it/s]"
     ]
    },
    {
     "name": "stdout",
     "output_type": "stream",
     "text": [
      "Warning: Could not download image animal_ears\\1284 from https://safebooru.org/thumbnails/11/thumbnail_f8642ef3b355938d75962e0d38975b088be98588.png\n"
     ]
    },
    {
     "name": "stderr",
     "output_type": "stream",
     "text": [
      "  0%|                                                                       | 1287/1288700 [22:42<420:09:27,  1.17s/it]"
     ]
    },
    {
     "name": "stdout",
     "output_type": "stream",
     "text": [
      "Warning: Could not download image animal_ears\\1286 from https://safebooru.org/thumbnails/11/thumbnail_dcf1a5b96aa9afbffd063653f31843717ff021a0.png\n"
     ]
    },
    {
     "name": "stderr",
     "output_type": "stream",
     "text": [
      "\r",
      "  0%|                                                                       | 1288/1288700 [22:43<430:08:25,  1.20s/it]"
     ]
    },
    {
     "name": "stdout",
     "output_type": "stream",
     "text": [
      "Warning: Could not download image animal_ears\\1287 from https://safebooru.org/thumbnails/11/thumbnail_31f7664ac1c3a28a2746081ed3a5fa4eaba7e05c.png\n"
     ]
    },
    {
     "name": "stderr",
     "output_type": "stream",
     "text": [
      "  0%|                                                                       | 1293/1288700 [22:53<577:52:55,  1.62s/it]"
     ]
    },
    {
     "name": "stdout",
     "output_type": "stream",
     "text": [
      "Warning: Could not download image animal_ears\\1292 from https://safebooru.org/thumbnails/12/thumbnail_cf97187b4cc2ccb13ef8b0ce0e3d2125820936ef.png\n"
     ]
    },
    {
     "name": "stderr",
     "output_type": "stream",
     "text": [
      "  0%|                                                                       | 1300/1288700 [23:05<746:39:02,  2.09s/it]"
     ]
    },
    {
     "name": "stdout",
     "output_type": "stream",
     "text": [
      "Warning: Could not download image animal_ears\\1299 from https://safebooru.org/thumbnails/12/thumbnail_75bf67178cd6749db0693e337d051084e6414e57.png\n"
     ]
    },
    {
     "name": "stderr",
     "output_type": "stream",
     "text": [
      "  0%|                                                                       | 1306/1288700 [23:11<459:08:00,  1.28s/it]"
     ]
    },
    {
     "name": "stdout",
     "output_type": "stream",
     "text": [
      "Warning: Could not download image animal_ears\\1305 from https://safebooru.org/thumbnails/12/thumbnail_21165a1f646c82b2df80ee9999912b0a092f0206.png\n"
     ]
    },
    {
     "name": "stderr",
     "output_type": "stream",
     "text": [
      "  0%|                                                                       | 1319/1288700 [23:32<477:05:30,  1.33s/it]"
     ]
    },
    {
     "name": "stdout",
     "output_type": "stream",
     "text": [
      "Warning: Could not download image animal_ears\\1318 from https://safebooru.org/thumbnails/12/thumbnail_7b56b52e2c2e3843cb7d92c8896283566ed411cf.png\n"
     ]
    },
    {
     "name": "stderr",
     "output_type": "stream",
     "text": [
      "  0%|                                                                       | 1331/1288700 [23:46<408:12:19,  1.14s/it]"
     ]
    },
    {
     "name": "stdout",
     "output_type": "stream",
     "text": [
      "Warning: Could not download image animal_ears\\1330 from https://safebooru.org/thumbnails/12/thumbnail_3c01474417bae8a56e718f83c9fe4e72f2882873.png\n"
     ]
    },
    {
     "name": "stderr",
     "output_type": "stream",
     "text": [
      "  0%|                                                                       | 1333/1288700 [23:48<396:33:53,  1.11s/it]"
     ]
    },
    {
     "name": "stdout",
     "output_type": "stream",
     "text": [
      "Warning: Could not download image animal_ears\\1332 from https://safebooru.org/thumbnails/12/thumbnail_55bcfff58936d1d9614047326d51c3f8aeb452c1.png\n"
     ]
    },
    {
     "name": "stderr",
     "output_type": "stream",
     "text": [
      "  0%|                                                                       | 1368/1288700 [24:26<375:07:39,  1.05s/it]"
     ]
    },
    {
     "name": "stdout",
     "output_type": "stream",
     "text": [
      "Warning: Could not download image animal_ears\\1367 from https://safebooru.org/thumbnails/13/thumbnail_a6277cf5ae2ff3926e09d47f88a66ca94684cde6.png\n"
     ]
    },
    {
     "name": "stderr",
     "output_type": "stream",
     "text": [
      "  0%|                                                                       | 1372/1288700 [24:30<390:36:23,  1.09s/it]"
     ]
    },
    {
     "name": "stdout",
     "output_type": "stream",
     "text": [
      "Warning: Could not download image animal_ears\\1371 from https://safebooru.org/thumbnails/13/thumbnail_0a6ad1792e9c8cbfdcfbee753ba104832872a598.png\n"
     ]
    },
    {
     "name": "stderr",
     "output_type": "stream",
     "text": [
      "\r",
      "  0%|                                                                       | 1373/1288700 [24:31<387:19:45,  1.08s/it]"
     ]
    },
    {
     "name": "stdout",
     "output_type": "stream",
     "text": [
      "Warning: Could not download image animal_ears\\1372 from https://safebooru.org/thumbnails/13/thumbnail_58c434f42fbf5ac936429f99eb4ee421afb2c81a.png\n"
     ]
    },
    {
     "name": "stderr",
     "output_type": "stream",
     "text": [
      "  0%|                                                                       | 1380/1288700 [24:39<410:07:03,  1.15s/it]"
     ]
    },
    {
     "name": "stdout",
     "output_type": "stream",
     "text": [
      "Warning: Could not download image animal_ears\\1379 from https://safebooru.org/thumbnails/13/thumbnail_500ad7fd25814822d571cadd09b0a2a7e1ade950.png\n"
     ]
    },
    {
     "name": "stderr",
     "output_type": "stream",
     "text": [
      "  0%|                                                                       | 1387/1288700 [24:47<407:52:46,  1.14s/it]"
     ]
    },
    {
     "name": "stdout",
     "output_type": "stream",
     "text": [
      "Warning: Could not download image animal_ears\\1386 from https://safebooru.org/thumbnails/13/thumbnail_a97b77cd0778c7e6effabf7ff2cf722be18ee336.gif\n"
     ]
    },
    {
     "name": "stderr",
     "output_type": "stream",
     "text": [
      "  0%|                                                                       | 1391/1288700 [24:51<405:29:35,  1.13s/it]"
     ]
    },
    {
     "name": "stdout",
     "output_type": "stream",
     "text": [
      "Warning: Could not download image animal_ears\\1390 from https://safebooru.org/thumbnails/13/thumbnail_c1da4dbbe74174c74b2f6e0e37a3738263e0cdb7.png\n"
     ]
    },
    {
     "name": "stderr",
     "output_type": "stream",
     "text": [
      "\r",
      "  0%|                                                                       | 1392/1288700 [24:52<398:45:19,  1.12s/it]"
     ]
    },
    {
     "name": "stdout",
     "output_type": "stream",
     "text": [
      "Warning: Could not download image animal_ears\\1391 from https://safebooru.org/thumbnails/13/thumbnail_9133e279898ed3b9a0977ec7dbec415a8c1275b7.png\n"
     ]
    },
    {
     "name": "stderr",
     "output_type": "stream",
     "text": [
      "  0%|                                                                       | 1404/1288700 [25:05<305:24:26,  1.17it/s]"
     ]
    },
    {
     "name": "stdout",
     "output_type": "stream",
     "text": [
      "Warning: Could not download image animal_ears\\1403 from https://safebooru.org/thumbnails/13/thumbnail_4a03084a9191e14700210a288097fd8301224d6d.png\n"
     ]
    },
    {
     "name": "stderr",
     "output_type": "stream",
     "text": [
      "  0%|                                                                       | 1424/1288700 [25:26<402:57:39,  1.13s/it]"
     ]
    },
    {
     "name": "stdout",
     "output_type": "stream",
     "text": [
      "Warning: Could not download image animal_ears\\1423 from https://safebooru.org/thumbnails/13/thumbnail_1107a008af901c34731a56e8fe84cd1ebcb77cb2.png\n"
     ]
    },
    {
     "name": "stderr",
     "output_type": "stream",
     "text": [
      "\r",
      "  0%|                                                                       | 1425/1288700 [25:27<397:09:55,  1.11s/it]"
     ]
    },
    {
     "name": "stdout",
     "output_type": "stream",
     "text": [
      "Warning: Could not download image animal_ears\\1424 from https://safebooru.org/thumbnails/13/thumbnail_ec22739de1ab7c202d3ac1958d1807e5aa142bc2.png\n"
     ]
    },
    {
     "name": "stderr",
     "output_type": "stream",
     "text": [
      "  0%|                                                                       | 1442/1288700 [25:46<379:13:42,  1.06s/it]"
     ]
    },
    {
     "name": "stdout",
     "output_type": "stream",
     "text": [
      "Warning: Could not download image animal_ears\\1441 from https://safebooru.org/thumbnails/14/thumbnail_3fdc45ac196d0e6c57a686ad9217208b5e8f308b.png\n"
     ]
    },
    {
     "name": "stderr",
     "output_type": "stream",
     "text": [
      "  0%|                                                                       | 1445/1288700 [25:48<300:18:32,  1.19it/s]"
     ]
    },
    {
     "name": "stdout",
     "output_type": "stream",
     "text": [
      "Warning: Could not download image animal_ears\\1444 from https://safebooru.org/thumbnails/14/thumbnail_d7979baddaf344217ec6b52c46d1958e976d2fce.png\n"
     ]
    },
    {
     "name": "stderr",
     "output_type": "stream",
     "text": [
      "  0%|                                                                       | 1455/1288700 [25:59<391:15:45,  1.09s/it]"
     ]
    },
    {
     "name": "stdout",
     "output_type": "stream",
     "text": [
      "Warning: Could not download image animal_ears\\1454 from https://safebooru.org/thumbnails/14/thumbnail_87695208b0594f462ef21408adec0b79de36299b.png\n"
     ]
    },
    {
     "name": "stderr",
     "output_type": "stream",
     "text": [
      "  0%|                                                                       | 1465/1288700 [26:09<379:06:25,  1.06s/it]"
     ]
    },
    {
     "name": "stdout",
     "output_type": "stream",
     "text": [
      "Warning: Could not download image animal_ears\\1464 from https://safebooru.org/thumbnails/14/thumbnail_5896055df9326c7ab533dd175d5a9dcf4160407c.png\n"
     ]
    },
    {
     "name": "stderr",
     "output_type": "stream",
     "text": [
      "\r",
      "  0%|                                                                       | 1466/1288700 [26:11<377:47:45,  1.06s/it]"
     ]
    },
    {
     "name": "stdout",
     "output_type": "stream",
     "text": [
      "Warning: Could not download image animal_ears\\1465 from https://safebooru.org/thumbnails/14/thumbnail_3efff8b9444632486b7b9e2a91cf9301c86206b0.png\n"
     ]
    },
    {
     "name": "stderr",
     "output_type": "stream",
     "text": [
      "  0%|                                                                       | 1489/1288700 [26:35<384:17:57,  1.07s/it]"
     ]
    },
    {
     "name": "stdout",
     "output_type": "stream",
     "text": [
      "Warning: Could not download image animal_ears\\1488 from https://safebooru.org/thumbnails/14/thumbnail_b12816c19528cc408a8ac6f6c0845fcb9de82977.png\n"
     ]
    },
    {
     "name": "stderr",
     "output_type": "stream",
     "text": [
      "  0%|                                                                       | 1500/1288700 [26:47<386:25:05,  1.08s/it]"
     ]
    },
    {
     "name": "stdout",
     "output_type": "stream",
     "text": [
      "Warning: Could not download image animal_ears\\1499 from https://safebooru.org/thumbnails/15/thumbnail_370b1eab258d0efe03556ac685a99b7fb6d127ec.png\n"
     ]
    },
    {
     "name": "stderr",
     "output_type": "stream",
     "text": [
      "\r",
      "  0%|                                                                       | 1501/1288700 [26:48<382:23:30,  1.07s/it]"
     ]
    },
    {
     "name": "stdout",
     "output_type": "stream",
     "text": [
      "Warning: Could not download image animal_ears\\1500 from https://safebooru.org/thumbnails/15/thumbnail_b517b885b470bc0de747ed4ea2a7a48b6d05c193.png\n"
     ]
    },
    {
     "name": "stderr",
     "output_type": "stream",
     "text": [
      "\r",
      "  0%|                                                                       | 1502/1288700 [26:49<381:12:49,  1.07s/it]"
     ]
    },
    {
     "name": "stdout",
     "output_type": "stream",
     "text": [
      "Warning: Could not download image animal_ears\\1501 from https://safebooru.org/thumbnails/15/thumbnail_41c618b3dbe5d99e28e26e41eb65d6df7a8a02d7.png\n"
     ]
    },
    {
     "name": "stderr",
     "output_type": "stream",
     "text": [
      "\r",
      "  0%|                                                                       | 1503/1288700 [26:50<380:48:42,  1.07s/it]"
     ]
    },
    {
     "name": "stdout",
     "output_type": "stream",
     "text": [
      "Warning: Could not download image animal_ears\\1502 from https://safebooru.org/thumbnails/15/thumbnail_9147f2b29f006bb453f9da53936aeca5055a6ab0.png\n"
     ]
    },
    {
     "name": "stderr",
     "output_type": "stream",
     "text": [
      "\r",
      "  0%|                                                                       | 1504/1288700 [26:52<380:32:22,  1.06s/it]"
     ]
    },
    {
     "name": "stdout",
     "output_type": "stream",
     "text": [
      "Warning: Could not download image animal_ears\\1503 from https://safebooru.org/thumbnails/15/thumbnail_76f26ac0270f3758e1f9aef0a2b86b25b6b922c6.png\n"
     ]
    },
    {
     "name": "stderr",
     "output_type": "stream",
     "text": [
      "\r",
      "  0%|                                                                       | 1505/1288700 [26:53<378:24:11,  1.06s/it]"
     ]
    },
    {
     "name": "stdout",
     "output_type": "stream",
     "text": [
      "Warning: Could not download image animal_ears\\1504 from https://safebooru.org/thumbnails/15/thumbnail_2b61a2e694a1229f5c7fc6836d8cc2e4e5bc5e24.png\n"
     ]
    },
    {
     "name": "stderr",
     "output_type": "stream",
     "text": [
      "\r",
      "  0%|                                                                       | 1506/1288700 [26:54<378:31:48,  1.06s/it]"
     ]
    },
    {
     "name": "stdout",
     "output_type": "stream",
     "text": [
      "Warning: Could not download image animal_ears\\1505 from https://safebooru.org/thumbnails/15/thumbnail_5745e1b189d8d74500579a6b14f8b259c2e82644.png\n"
     ]
    },
    {
     "name": "stderr",
     "output_type": "stream",
     "text": [
      "  0%|                                                                       | 1509/1288700 [26:57<379:09:33,  1.06s/it]"
     ]
    },
    {
     "name": "stdout",
     "output_type": "stream",
     "text": [
      "Warning: Could not download image animal_ears\\1508 from https://safebooru.org/thumbnails/15/thumbnail_2f9fcd0ee6d8352019bf03244c13b1c6b1686f6b.png\n"
     ]
    },
    {
     "name": "stderr",
     "output_type": "stream",
     "text": [
      "  0%|                                                                       | 1513/1288700 [27:01<388:48:17,  1.09s/it]"
     ]
    },
    {
     "name": "stdout",
     "output_type": "stream",
     "text": [
      "Warning: Could not download image animal_ears\\1512 from https://safebooru.org/thumbnails/15/thumbnail_30d1ef997d37ad6c550fa908b6c6d7b769995372.png\n"
     ]
    },
    {
     "name": "stderr",
     "output_type": "stream",
     "text": [
      "\r",
      "  0%|                                                                       | 1514/1288700 [27:02<385:06:16,  1.08s/it]"
     ]
    },
    {
     "name": "stdout",
     "output_type": "stream",
     "text": [
      "Warning: Could not download image animal_ears\\1513 from https://safebooru.org/thumbnails/15/thumbnail_f62c2d565d0d73bf69546504b7f1c9cfb1d90222.png\n"
     ]
    },
    {
     "name": "stderr",
     "output_type": "stream",
     "text": [
      "\r",
      "  0%|                                                                       | 1515/1288700 [27:03<381:35:02,  1.07s/it]"
     ]
    },
    {
     "name": "stdout",
     "output_type": "stream",
     "text": [
      "Warning: Could not download image animal_ears\\1514 from https://safebooru.org/thumbnails/15/thumbnail_a856caf9508c4c0d3f5b166b4ceb2320384b9e33.png\n"
     ]
    },
    {
     "name": "stderr",
     "output_type": "stream",
     "text": [
      "\r",
      "  0%|                                                                       | 1516/1288700 [27:04<381:11:01,  1.07s/it]"
     ]
    },
    {
     "name": "stdout",
     "output_type": "stream",
     "text": [
      "Warning: Could not download image animal_ears\\1515 from https://safebooru.org/thumbnails/15/thumbnail_f8a8150f98c886ba2c812e7be3e22be63036c420.png\n"
     ]
    },
    {
     "name": "stderr",
     "output_type": "stream",
     "text": [
      "\r",
      "  0%|                                                                       | 1517/1288700 [27:05<378:27:28,  1.06s/it]"
     ]
    },
    {
     "name": "stdout",
     "output_type": "stream",
     "text": [
      "Warning: Could not download image animal_ears\\1516 from https://safebooru.org/thumbnails/15/thumbnail_cc5833641c55813c32c3cb93c48615bf5fa9f4bd.png\n"
     ]
    },
    {
     "name": "stderr",
     "output_type": "stream",
     "text": [
      "  0%|                                                                       | 1520/1288700 [27:09<376:36:38,  1.05s/it]"
     ]
    },
    {
     "name": "stdout",
     "output_type": "stream",
     "text": [
      "Warning: Could not download image animal_ears\\1519 from https://safebooru.org/thumbnails/15/thumbnail_b02f8e17adf81b865cd4286016adfc35030cad3c.png\n"
     ]
    },
    {
     "name": "stderr",
     "output_type": "stream",
     "text": [
      "  0%|                                                                       | 1541/1288700 [27:31<377:18:51,  1.06s/it]"
     ]
    },
    {
     "name": "stdout",
     "output_type": "stream",
     "text": [
      "Warning: Could not download image animal_ears\\1540 from https://safebooru.org/thumbnails/15/thumbnail_1a791abc5bc70b49c0d6c4fcc63eba835b1e1c84.png\n"
     ]
    },
    {
     "name": "stderr",
     "output_type": "stream",
     "text": [
      "  0%|                                                                       | 1544/1288700 [27:34<404:46:30,  1.13s/it]"
     ]
    },
    {
     "name": "stdout",
     "output_type": "stream",
     "text": [
      "Warning: Could not download image animal_ears\\1543 from https://safebooru.org/thumbnails/15/thumbnail_7395d84b82a9fa1086eb4802170e51cdbec39be4.png\n"
     ]
    },
    {
     "name": "stderr",
     "output_type": "stream",
     "text": [
      "\r",
      "  0%|                                                                       | 1545/1288700 [27:35<394:57:17,  1.10s/it]"
     ]
    },
    {
     "name": "stdout",
     "output_type": "stream",
     "text": [
      "Warning: Could not download image animal_ears\\1544 from https://safebooru.org/thumbnails/15/thumbnail_6a49f43abf8ddab08d9375ab40294068c35c1d21.png\n"
     ]
    },
    {
     "name": "stderr",
     "output_type": "stream",
     "text": [
      "  0%|                                                                       | 1548/1288700 [27:39<385:43:54,  1.08s/it]"
     ]
    },
    {
     "name": "stdout",
     "output_type": "stream",
     "text": [
      "Warning: Could not download image animal_ears\\1547 from https://safebooru.org/thumbnails/15/thumbnail_76680ae1d0e72c3a8be3523bd15972057694dbe7.png\n"
     ]
    },
    {
     "name": "stderr",
     "output_type": "stream",
     "text": [
      "  0%|                                                                       | 1552/1288700 [27:43<383:13:49,  1.07s/it]"
     ]
    },
    {
     "name": "stdout",
     "output_type": "stream",
     "text": [
      "Warning: Could not download image animal_ears\\1551 from https://safebooru.org/thumbnails/15/thumbnail_4f160220c23b45d6c75ae9abd7244eba01ba9923.png\n"
     ]
    },
    {
     "name": "stderr",
     "output_type": "stream",
     "text": [
      "  0%|                                                                       | 1554/1288700 [27:45<386:20:40,  1.08s/it]"
     ]
    },
    {
     "name": "stdout",
     "output_type": "stream",
     "text": [
      "Warning: Could not download image animal_ears\\1553 from https://safebooru.org/thumbnails/15/thumbnail_cb1f26a09a61c986a741e757cbbef91e22007e70.png\n"
     ]
    },
    {
     "name": "stderr",
     "output_type": "stream",
     "text": [
      "\r",
      "  0%|                                                                       | 1555/1288700 [27:46<384:06:03,  1.07s/it]"
     ]
    },
    {
     "name": "stdout",
     "output_type": "stream",
     "text": [
      "Warning: Could not download image animal_ears\\1554 from https://safebooru.org/thumbnails/15/thumbnail_87f479a6c018a88e25b9f52290275d2c273fb064.png\n"
     ]
    },
    {
     "name": "stderr",
     "output_type": "stream",
     "text": [
      "\r",
      "  0%|                                                                       | 1556/1288700 [27:47<383:51:56,  1.07s/it]"
     ]
    },
    {
     "name": "stdout",
     "output_type": "stream",
     "text": [
      "Warning: Could not download image animal_ears\\1555 from https://safebooru.org/thumbnails/15/thumbnail_0beea48a6af1ffc05310a6139a09602619c3628c.png\n"
     ]
    },
    {
     "name": "stderr",
     "output_type": "stream",
     "text": [
      "  0%|                                                                       | 1559/1288700 [27:50<381:47:39,  1.07s/it]"
     ]
    },
    {
     "name": "stdout",
     "output_type": "stream",
     "text": [
      "Warning: Could not download image animal_ears\\1558 from https://safebooru.org/thumbnails/15/thumbnail_8736d9301f7596d1a4c8483f286df47258d89f1c.png\n"
     ]
    },
    {
     "name": "stderr",
     "output_type": "stream",
     "text": [
      "  0%|                                                                       | 1563/1288700 [27:55<381:19:14,  1.07s/it]"
     ]
    },
    {
     "name": "stdout",
     "output_type": "stream",
     "text": [
      "Warning: Could not download image animal_ears\\1562 from https://safebooru.org/thumbnails/15/thumbnail_43b79c04b923ce081d0648fc76cc10dc4b23e392.png\n"
     ]
    },
    {
     "name": "stderr",
     "output_type": "stream",
     "text": [
      "\r",
      "  0%|                                                                       | 1564/1288700 [27:56<380:32:51,  1.06s/it]"
     ]
    },
    {
     "name": "stdout",
     "output_type": "stream",
     "text": [
      "Warning: Could not download image animal_ears\\1563 from https://safebooru.org/thumbnails/15/thumbnail_f6dad05c4642a7ff2894d725c502b694438b0fa0.png\n"
     ]
    },
    {
     "name": "stderr",
     "output_type": "stream",
     "text": [
      "  0%|                                                                       | 1567/1288700 [27:59<378:20:01,  1.06s/it]"
     ]
    },
    {
     "name": "stdout",
     "output_type": "stream",
     "text": [
      "Warning: Could not download image animal_ears\\1566 from https://safebooru.org/thumbnails/15/thumbnail_01fa666bec54f3cd77323a7d56348d69f5a86a59.png\n"
     ]
    },
    {
     "name": "stderr",
     "output_type": "stream",
     "text": [
      "  0%|                                                                       | 1582/1288700 [28:15<392:18:43,  1.10s/it]"
     ]
    },
    {
     "name": "stdout",
     "output_type": "stream",
     "text": [
      "Warning: Could not download image animal_ears\\1581 from https://safebooru.org/thumbnails/15/thumbnail_e7e1bd033765f47e84b67a278e5cb7ab165d6cbc.png\n"
     ]
    },
    {
     "name": "stderr",
     "output_type": "stream",
     "text": [
      "  0%|                                                                       | 1588/1288700 [28:22<391:44:32,  1.10s/it]"
     ]
    },
    {
     "name": "stdout",
     "output_type": "stream",
     "text": [
      "Warning: Could not download image animal_ears\\1587 from https://safebooru.org/thumbnails/16/thumbnail_d2a3ab69eacefe5c99891e98724135e1a86c5a20.png\n"
     ]
    },
    {
     "name": "stderr",
     "output_type": "stream",
     "text": [
      "  0%|                                                                       | 1592/1288700 [28:26<404:27:01,  1.13s/it]"
     ]
    },
    {
     "name": "stdout",
     "output_type": "stream",
     "text": [
      "Warning: Could not download image animal_ears\\1591 from https://safebooru.org/thumbnails/16/thumbnail_e3c24de20d6b1ff937c40d9751b6eb3d4dbafdf8.png\n"
     ]
    },
    {
     "name": "stderr",
     "output_type": "stream",
     "text": [
      "  0%|                                                                       | 1599/1288700 [28:34<392:15:07,  1.10s/it]"
     ]
    },
    {
     "name": "stdout",
     "output_type": "stream",
     "text": [
      "Warning: Could not download image animal_ears\\1598 from https://safebooru.org/thumbnails/16/thumbnail_464b9408eb65f26778c03a270f24147750564d12.png\n"
     ]
    },
    {
     "name": "stderr",
     "output_type": "stream",
     "text": [
      "\r",
      "  0%|                                                                       | 1600/1288700 [28:35<387:28:33,  1.08s/it]"
     ]
    },
    {
     "name": "stdout",
     "output_type": "stream",
     "text": [
      "Warning: Could not download image animal_ears\\1599 from https://safebooru.org/thumbnails/16/thumbnail_027b19400e21eb3b1bde8e37cd62b77251bbd6d4.png\n"
     ]
    },
    {
     "name": "stderr",
     "output_type": "stream",
     "text": [
      "  0%|                                                                       | 1615/1288700 [28:51<392:48:41,  1.10s/it]"
     ]
    },
    {
     "name": "stdout",
     "output_type": "stream",
     "text": [
      "Warning: Could not download image animal_ears\\1614 from https://safebooru.org/thumbnails/16/thumbnail_0ecd53b5263cfa9c36357d2c9b8f74eed07789fa.png\n"
     ]
    },
    {
     "name": "stderr",
     "output_type": "stream",
     "text": [
      "\r",
      "  0%|                                                                       | 1616/1288700 [28:52<388:39:12,  1.09s/it]"
     ]
    },
    {
     "name": "stdout",
     "output_type": "stream",
     "text": [
      "Warning: Could not download image animal_ears\\1615 from https://safebooru.org/thumbnails/16/thumbnail_7998f93e873fe106eae2a44525d32cf70c1d608b.png\n"
     ]
    },
    {
     "name": "stderr",
     "output_type": "stream",
     "text": [
      "\r",
      "  0%|                                                                       | 1617/1288700 [28:53<392:55:06,  1.10s/it]"
     ]
    },
    {
     "name": "stdout",
     "output_type": "stream",
     "text": [
      "Warning: Could not download image animal_ears\\1616 from https://safebooru.org/thumbnails/16/thumbnail_622294566b70909b15f0627cc73d445044799d3c.png\n"
     ]
    },
    {
     "name": "stderr",
     "output_type": "stream",
     "text": [
      "  0%|                                                                       | 1637/1288700 [29:14<389:58:39,  1.09s/it]"
     ]
    },
    {
     "name": "stdout",
     "output_type": "stream",
     "text": [
      "Warning: Could not download image animal_ears\\1636 from https://safebooru.org/thumbnails/16/thumbnail_06d4c1e1e52053d86e5b408973f5a2fe2b8579d9.png\n"
     ]
    },
    {
     "name": "stderr",
     "output_type": "stream",
     "text": [
      "  0%|                                                                       | 1639/1288700 [29:17<385:25:00,  1.08s/it]"
     ]
    },
    {
     "name": "stdout",
     "output_type": "stream",
     "text": [
      "Warning: Could not download image animal_ears\\1638 from https://safebooru.org/thumbnails/16/thumbnail_aff99145b96d55dcb99069ddd4dbb0b3c96da69c.png\n"
     ]
    },
    {
     "name": "stderr",
     "output_type": "stream",
     "text": [
      "  0%|                                                                       | 1671/1288700 [29:51<382:57:38,  1.07s/it]"
     ]
    },
    {
     "name": "stdout",
     "output_type": "stream",
     "text": [
      "Warning: Could not download image animal_ears\\1670 from https://safebooru.org/thumbnails/17/thumbnail_c8342bf0262ad94e2f7533d2580a36b27a5cc200.png\n"
     ]
    },
    {
     "name": "stderr",
     "output_type": "stream",
     "text": [
      "\r",
      "  0%|                                                                       | 1672/1288700 [29:52<382:12:47,  1.07s/it]"
     ]
    },
    {
     "name": "stdout",
     "output_type": "stream",
     "text": [
      "Warning: Could not download image animal_ears\\1671 from https://safebooru.org/thumbnails/17/thumbnail_0f677c3ceb8a090cf30301800d3df1b689adda27.png\n"
     ]
    },
    {
     "name": "stderr",
     "output_type": "stream",
     "text": [
      "  0%|                                                                       | 1683/1288700 [30:03<368:18:09,  1.03s/it]"
     ]
    },
    {
     "name": "stdout",
     "output_type": "stream",
     "text": [
      "Warning: Could not download image animal_ears\\1682 from https://safebooru.org/thumbnails/17/thumbnail_0c8bbd00f5176023b143dfa25219e93b6fb7f9a0.png\n"
     ]
    },
    {
     "name": "stderr",
     "output_type": "stream",
     "text": [
      "  0%|                                                                       | 1712/1288700 [30:34<560:56:37,  1.57s/it]"
     ]
    },
    {
     "name": "stdout",
     "output_type": "stream",
     "text": [
      "Warning: Could not download image animal_ears\\1711 from https://safebooru.org/thumbnails/17/thumbnail_518728ee7e48c1b32089b60ac4ac455b457e5b5a.png\n"
     ]
    },
    {
     "name": "stderr",
     "output_type": "stream",
     "text": [
      "  0%|                                                                       | 1737/1288700 [31:01<375:38:30,  1.05s/it]"
     ]
    },
    {
     "name": "stdout",
     "output_type": "stream",
     "text": [
      "Warning: Could not download image animal_ears\\1736 from https://safebooru.org/thumbnails/17/thumbnail_57d1cb94b2e6a26597d134c38cd8140ae0d695b1.png\n"
     ]
    },
    {
     "name": "stderr",
     "output_type": "stream",
     "text": [
      "  0%|                                                                       | 1740/1288700 [31:05<378:53:28,  1.06s/it]"
     ]
    },
    {
     "name": "stdout",
     "output_type": "stream",
     "text": [
      "Warning: Could not download image animal_ears\\1739 from https://safebooru.org/thumbnails/17/thumbnail_24bb6f7fb76bd88194b4a6f4a8970e5d474e6eb9.jpg\n"
     ]
    },
    {
     "name": "stderr",
     "output_type": "stream",
     "text": [
      "  0%|                                                                       | 1756/1288700 [31:21<376:18:05,  1.05s/it]"
     ]
    },
    {
     "name": "stdout",
     "output_type": "stream",
     "text": [
      "Warning: Could not download image animal_ears\\1755 from https://safebooru.org/thumbnails/18/thumbnail_2d19d45b3dbc54cac2be36faf410bf4b1ec79af5.png\n"
     ]
    },
    {
     "name": "stderr",
     "output_type": "stream",
     "text": [
      "  0%|                                                                       | 1762/1288700 [31:28<423:50:37,  1.19s/it]"
     ]
    },
    {
     "name": "stdout",
     "output_type": "stream",
     "text": [
      "Warning: Could not download image animal_ears\\1761 from https://safebooru.org/thumbnails/18/thumbnail_a578a16c91c08463bb478e8de9dd8877248804b4.png\n"
     ]
    },
    {
     "name": "stderr",
     "output_type": "stream",
     "text": [
      "  0%|                                                                       | 1781/1288700 [31:47<379:11:44,  1.06s/it]"
     ]
    },
    {
     "name": "stdout",
     "output_type": "stream",
     "text": [
      "Warning: Could not download image animal_ears\\1780 from https://safebooru.org/thumbnails/18/thumbnail_b62000a576faa6136cbffef3c4baf64eb60b8e1e.png\n"
     ]
    },
    {
     "name": "stderr",
     "output_type": "stream",
     "text": [
      "\r",
      "  0%|                                                                       | 1782/1288700 [31:48<380:19:08,  1.06s/it]"
     ]
    },
    {
     "name": "stdout",
     "output_type": "stream",
     "text": [
      "Warning: Could not download image animal_ears\\1781 from https://safebooru.org/thumbnails/18/thumbnail_9742360514150dab06b5f4d37131a519aad1d34b.png\n"
     ]
    },
    {
     "name": "stderr",
     "output_type": "stream",
     "text": [
      "  0%|                                                                       | 1787/1288700 [31:54<377:34:03,  1.06s/it]"
     ]
    },
    {
     "name": "stdout",
     "output_type": "stream",
     "text": [
      "Warning: Could not download image animal_ears\\1786 from https://safebooru.org/thumbnails/18/thumbnail_a2827dfb2220a9fee8a007c1cdb5d9bd86c4592e.png\n"
     ]
    },
    {
     "name": "stderr",
     "output_type": "stream",
     "text": [
      "  0%|                                                                       | 1814/1288700 [32:22<385:07:56,  1.08s/it]"
     ]
    },
    {
     "name": "stdout",
     "output_type": "stream",
     "text": [
      "Warning: Could not download image animal_ears\\1813 from https://safebooru.org/thumbnails/19/thumbnail_546d73af7e711d4dc78518fb090d045b40b69815.png\n"
     ]
    },
    {
     "name": "stderr",
     "output_type": "stream",
     "text": [
      "  0%|                                                                       | 1840/1288700 [32:50<381:01:28,  1.07s/it]"
     ]
    },
    {
     "name": "stdout",
     "output_type": "stream",
     "text": [
      "Warning: Could not download image animal_ears\\1839 from https://safebooru.org/thumbnails/19/thumbnail_4db89b069802515341b70c3368ec808cb41a9d65.png\n"
     ]
    },
    {
     "name": "stderr",
     "output_type": "stream",
     "text": [
      "\r",
      "  0%|                                                                       | 1841/1288700 [32:51<378:25:26,  1.06s/it]"
     ]
    },
    {
     "name": "stdout",
     "output_type": "stream",
     "text": [
      "Warning: Could not download image animal_ears\\1840 from https://safebooru.org/thumbnails/19/thumbnail_a869d95a755bb5b3cbf10fad6269771fbd472155.png\n"
     ]
    },
    {
     "name": "stderr",
     "output_type": "stream",
     "text": [
      "  0%|                                                                       | 1843/1288700 [32:54<399:34:38,  1.12s/it]"
     ]
    },
    {
     "name": "stdout",
     "output_type": "stream",
     "text": [
      "Warning: Could not download image animal_ears\\1842 from https://safebooru.org/thumbnails/19/thumbnail_4132ae345a57b555feb078caf3ffa0053778c681.png\n"
     ]
    },
    {
     "name": "stderr",
     "output_type": "stream",
     "text": [
      "  0%|                                                                       | 1877/1288700 [33:29<384:13:01,  1.07s/it]"
     ]
    },
    {
     "name": "stdout",
     "output_type": "stream",
     "text": [
      "Warning: Could not download image animal_ears\\1876 from https://safebooru.org/thumbnails/20/thumbnail_3d352c60686b075831e5fe67a5981777fb0c649c.png\n"
     ]
    },
    {
     "name": "stderr",
     "output_type": "stream",
     "text": [
      "  0%|                                                                       | 1879/1288700 [33:31<381:50:43,  1.07s/it]"
     ]
    },
    {
     "name": "stdout",
     "output_type": "stream",
     "text": [
      "Warning: Could not download image animal_ears\\1878 from https://safebooru.org/thumbnails/20/thumbnail_3bc1a001e50cbc9ae9a3549f04a21e73268991dd.png\n"
     ]
    },
    {
     "name": "stderr",
     "output_type": "stream",
     "text": [
      "  0%|                                                                       | 1889/1288700 [33:42<346:59:05,  1.03it/s]"
     ]
    },
    {
     "name": "stdout",
     "output_type": "stream",
     "text": [
      "Warning: Could not download image animal_ears\\1888 from https://safebooru.org/thumbnails/20/thumbnail_e48a0d6c23ed0d60c347f17098ffba207741bc71.png\n"
     ]
    },
    {
     "name": "stderr",
     "output_type": "stream",
     "text": [
      "  0%|                                                                       | 1893/1288700 [33:46<368:05:05,  1.03s/it]"
     ]
    },
    {
     "name": "stdout",
     "output_type": "stream",
     "text": [
      "Warning: Could not download image animal_ears\\1892 from https://safebooru.org/thumbnails/20/thumbnail_55aee80dbb70e1069f46d75c4efe203653560964.png\n"
     ]
    },
    {
     "name": "stderr",
     "output_type": "stream",
     "text": [
      "  0%|                                                                       | 1901/1288700 [33:54<378:02:42,  1.06s/it]"
     ]
    },
    {
     "name": "stdout",
     "output_type": "stream",
     "text": [
      "Warning: Could not download image animal_ears\\1900 from https://safebooru.org/thumbnails/20/thumbnail_1a709b839a31923bc716426395689f2cbc73ff9c.png\n"
     ]
    },
    {
     "name": "stderr",
     "output_type": "stream",
     "text": [
      "\r",
      "  0%|                                                                       | 1902/1288700 [33:55<376:11:51,  1.05s/it]"
     ]
    },
    {
     "name": "stdout",
     "output_type": "stream",
     "text": [
      "Warning: Could not download image animal_ears\\1901 from https://safebooru.org/thumbnails/20/thumbnail_6a9c8e5a98b5e3d4417c0e8faff92ad940b54a01.png\n"
     ]
    },
    {
     "name": "stderr",
     "output_type": "stream",
     "text": [
      "  0%|                                                                       | 1912/1288700 [34:06<372:03:00,  1.04s/it]"
     ]
    },
    {
     "name": "stdout",
     "output_type": "stream",
     "text": [
      "Warning: Could not download image animal_ears\\1911 from https://safebooru.org/thumbnails/20/thumbnail_88bd45201041ae94819d265d602a0bee6edccac4.png\n"
     ]
    },
    {
     "name": "stderr",
     "output_type": "stream",
     "text": [
      "  0%|                                                                       | 1914/1288700 [34:08<374:46:28,  1.05s/it]"
     ]
    },
    {
     "name": "stdout",
     "output_type": "stream",
     "text": [
      "Warning: Could not download image animal_ears\\1913 from https://safebooru.org/thumbnails/20/thumbnail_2408a00b36a5624177467f7300ecf9c570f2df6a.png\n"
     ]
    },
    {
     "name": "stderr",
     "output_type": "stream",
     "text": [
      "  0%|                                                                       | 1942/1288700 [34:37<385:20:20,  1.08s/it]"
     ]
    },
    {
     "name": "stdout",
     "output_type": "stream",
     "text": [
      "Warning: Could not download image animal_ears\\1941 from https://safebooru.org/thumbnails/21/thumbnail_6c08750be7b4ca0dda7cf1e600118d01e3a148ac.png\n"
     ]
    },
    {
     "name": "stderr",
     "output_type": "stream",
     "text": [
      "  0%|                                                                       | 1954/1288700 [34:50<373:10:06,  1.04s/it]"
     ]
    },
    {
     "name": "stdout",
     "output_type": "stream",
     "text": [
      "Warning: Could not download image animal_ears\\1953 from https://safebooru.org/thumbnails/21/thumbnail_c488ec425d9dc5806a46fc1822c05f4e25a9b642.png\n"
     ]
    },
    {
     "name": "stderr",
     "output_type": "stream",
     "text": [
      "  0%|                                                                       | 1966/1288700 [35:02<388:12:11,  1.09s/it]"
     ]
    },
    {
     "name": "stdout",
     "output_type": "stream",
     "text": [
      "Warning: Could not download image animal_ears\\1965 from https://safebooru.org/thumbnails/21/thumbnail_f1240109afcc87e98faa2d03aada4a68ec359a44.png\n"
     ]
    },
    {
     "name": "stderr",
     "output_type": "stream",
     "text": [
      "  0%|                                                                       | 1972/1288700 [35:09<382:10:46,  1.07s/it]"
     ]
    },
    {
     "name": "stdout",
     "output_type": "stream",
     "text": [
      "Warning: Could not download image animal_ears\\1971 from https://safebooru.org/thumbnails/21/thumbnail_cc35a19fe76249f56d96a83df3d9a8aa1cf05135.png\n"
     ]
    },
    {
     "name": "stderr",
     "output_type": "stream",
     "text": [
      "  0%|                                                                       | 1974/1288700 [35:11<381:53:58,  1.07s/it]"
     ]
    },
    {
     "name": "stdout",
     "output_type": "stream",
     "text": [
      "Warning: Could not download image animal_ears\\1973 from https://safebooru.org/thumbnails/21/thumbnail_909a740cd0220d4d6689c9e473d940b01260f3d0.png\n"
     ]
    },
    {
     "name": "stderr",
     "output_type": "stream",
     "text": [
      "  0%|                                                                       | 1976/1288700 [35:13<385:03:23,  1.08s/it]"
     ]
    },
    {
     "name": "stdout",
     "output_type": "stream",
     "text": [
      "Warning: Could not download image animal_ears\\1975 from https://safebooru.org/thumbnails/21/thumbnail_2dc3a2aff809dfa564a845eeff8fb8d1727850b5.png\n"
     ]
    },
    {
     "name": "stderr",
     "output_type": "stream",
     "text": [
      "\r",
      "  0%|                                                                       | 1977/1288700 [35:14<383:22:35,  1.07s/it]"
     ]
    },
    {
     "name": "stdout",
     "output_type": "stream",
     "text": [
      "Warning: Could not download image animal_ears\\1976 from https://safebooru.org/thumbnails/21/thumbnail_918ffd1fd4a23225ea1d20cb28e361466138a87c.png\n"
     ]
    },
    {
     "name": "stderr",
     "output_type": "stream",
     "text": [
      "  0%|                                                                       | 1985/1288700 [35:23<408:01:17,  1.14s/it]"
     ]
    },
    {
     "name": "stdout",
     "output_type": "stream",
     "text": [
      "Warning: Could not download image animal_ears\\1984 from https://safebooru.org/thumbnails/21/thumbnail_8ff03286e86e7159b8d5e082fc469fa2071233b2.png\n"
     ]
    },
    {
     "name": "stderr",
     "output_type": "stream",
     "text": [
      "  0%|                                                                       | 1993/1288700 [35:32<390:22:02,  1.09s/it]"
     ]
    },
    {
     "name": "stdout",
     "output_type": "stream",
     "text": [
      "Warning: Could not download image animal_ears\\1992 from https://safebooru.org/thumbnails/21/thumbnail_42476ab8a66f4d06e7faaae651736672f0be4356.png\n"
     ]
    },
    {
     "name": "stderr",
     "output_type": "stream",
     "text": [
      "  0%|                                                                       | 1997/1288700 [35:36<386:05:33,  1.08s/it]"
     ]
    },
    {
     "name": "stdout",
     "output_type": "stream",
     "text": [
      "Warning: Could not download image animal_ears\\1996 from https://safebooru.org/thumbnails/22/thumbnail_7b9370b82659324f86ec60aa2a7699aba86fa615.png\n"
     ]
    },
    {
     "name": "stderr",
     "output_type": "stream",
     "text": [
      "  0%|                                                                       | 2008/1288700 [35:48<378:14:43,  1.06s/it]"
     ]
    },
    {
     "name": "stdout",
     "output_type": "stream",
     "text": [
      "Warning: Could not download image animal_ears\\2007 from https://safebooru.org/thumbnails/22/thumbnail_fdfd866bc71cc47b8c862c8ef24fc71e19a2e305.gif\n"
     ]
    },
    {
     "name": "stderr",
     "output_type": "stream",
     "text": [
      "  0%|                                                                       | 2031/1288700 [36:11<306:28:29,  1.17it/s]"
     ]
    },
    {
     "name": "stdout",
     "output_type": "stream",
     "text": [
      "Warning: Could not download image animal_ears\\2030 from https://safebooru.org/thumbnails/22/thumbnail_e57bd836cd408cf0170955ae59d555611756166b.png\n"
     ]
    },
    {
     "name": "stderr",
     "output_type": "stream",
     "text": [
      "  0%|                                                                       | 2033/1288700 [36:14<346:38:03,  1.03it/s]"
     ]
    },
    {
     "name": "stdout",
     "output_type": "stream",
     "text": [
      "Warning: Could not download image animal_ears\\2032 from https://safebooru.org/thumbnails/22/thumbnail_c050b98186314fea742f767a72ea599d4d2dc5b9.png\n"
     ]
    },
    {
     "name": "stderr",
     "output_type": "stream",
     "text": [
      "  0%|                                                                       | 2047/1288700 [36:28<381:12:14,  1.07s/it]"
     ]
    },
    {
     "name": "stdout",
     "output_type": "stream",
     "text": [
      "Warning: Could not download image animal_ears\\2046 from https://safebooru.org/thumbnails/22/thumbnail_0561f878b0e290ec5685b9d12fc83e32162efa9c.png\n"
     ]
    },
    {
     "name": "stderr",
     "output_type": "stream",
     "text": [
      "  0%|                                                                       | 2059/1288700 [36:42<393:20:55,  1.10s/it]"
     ]
    },
    {
     "name": "stdout",
     "output_type": "stream",
     "text": [
      "Warning: Could not download image animal_ears\\2058 from https://safebooru.org/thumbnails/23/thumbnail_d89fbc61a84b58ecba5f97452f221d0169bb8372.png\n"
     ]
    },
    {
     "name": "stderr",
     "output_type": "stream",
     "text": [
      "  0%|                                                                       | 2063/1288700 [36:46<383:57:24,  1.07s/it]"
     ]
    },
    {
     "name": "stdout",
     "output_type": "stream",
     "text": [
      "Warning: Could not download image animal_ears\\2062 from https://safebooru.org/thumbnails/23/thumbnail_44d7687ca17097b5c29e0995416e88814161b168.png\n"
     ]
    },
    {
     "name": "stderr",
     "output_type": "stream",
     "text": [
      "\r",
      "  0%|                                                                       | 2064/1288700 [36:46<305:45:44,  1.17it/s]"
     ]
    },
    {
     "name": "stdout",
     "output_type": "stream",
     "text": [
      "Warning: Could not download image animal_ears\\2063 from https://safebooru.org/thumbnails/23/thumbnail_fc5a6d98cfb2382f21a006d47fe2af93fa6758e0.png\n"
     ]
    },
    {
     "name": "stderr",
     "output_type": "stream",
     "text": [
      "  0%|                                                                       | 2066/1288700 [36:48<340:51:05,  1.05it/s]"
     ]
    },
    {
     "name": "stdout",
     "output_type": "stream",
     "text": [
      "Warning: Could not download image animal_ears\\2065 from https://safebooru.org/thumbnails/23/thumbnail_02dccbffd2ab88bed07a28e37b9ba56139a49cf5.png\n"
     ]
    },
    {
     "name": "stderr",
     "output_type": "stream",
     "text": [
      "  0%|                                                                       | 2070/1288700 [36:53<375:52:47,  1.05s/it]"
     ]
    },
    {
     "name": "stdout",
     "output_type": "stream",
     "text": [
      "Warning: Could not download image animal_ears\\2069 from https://safebooru.org/thumbnails/23/thumbnail_78dec98643a133d5b9c5db77880d2454bf5a28ad.png\n"
     ]
    },
    {
     "name": "stderr",
     "output_type": "stream",
     "text": [
      "  0%|                                                                       | 2074/1288700 [36:57<386:10:53,  1.08s/it]"
     ]
    },
    {
     "name": "stdout",
     "output_type": "stream",
     "text": [
      "Warning: Could not download image animal_ears\\2073 from https://safebooru.org/thumbnails/23/thumbnail_2d0c2d51037f19056bf51ddd8dff422241f5e754.png\n"
     ]
    },
    {
     "name": "stderr",
     "output_type": "stream",
     "text": [
      "  0%|                                                                       | 2079/1288700 [37:02<384:19:25,  1.08s/it]"
     ]
    },
    {
     "name": "stdout",
     "output_type": "stream",
     "text": [
      "Warning: Could not download image animal_ears\\2078 from https://safebooru.org/thumbnails/23/thumbnail_1b63af4d18e618e668e2752d64b11e59de029c1c.png\n"
     ]
    },
    {
     "name": "stderr",
     "output_type": "stream",
     "text": [
      "  0%|                                                                       | 2081/1288700 [37:04<381:05:01,  1.07s/it]"
     ]
    },
    {
     "name": "stdout",
     "output_type": "stream",
     "text": [
      "Warning: Could not download image animal_ears\\2080 from https://safebooru.org/thumbnails/23/thumbnail_b805925256aafa0c0ede98b587939ff06329165e.png\n"
     ]
    },
    {
     "name": "stderr",
     "output_type": "stream",
     "text": [
      "\r",
      "  0%|                                                                       | 2082/1288700 [37:06<383:06:48,  1.07s/it]"
     ]
    },
    {
     "name": "stdout",
     "output_type": "stream",
     "text": [
      "Warning: Could not download image animal_ears\\2081 from https://safebooru.org/thumbnails/23/thumbnail_72525286ff21449a242ba502dfc454f969e2177c.png\n"
     ]
    },
    {
     "name": "stderr",
     "output_type": "stream",
     "text": [
      "  0%|                                                                       | 2087/1288700 [37:11<378:38:06,  1.06s/it]"
     ]
    },
    {
     "name": "stdout",
     "output_type": "stream",
     "text": [
      "Warning: Could not download image animal_ears\\2086 from https://safebooru.org/thumbnails/23/thumbnail_84f58b374d9784420314f8f05752cd7dac8980c9.png\n"
     ]
    },
    {
     "name": "stderr",
     "output_type": "stream",
     "text": [
      "  0%|                                                                       | 2096/1288700 [37:21<382:01:10,  1.07s/it]"
     ]
    },
    {
     "name": "stdout",
     "output_type": "stream",
     "text": [
      "Warning: Could not download image animal_ears\\2095 from https://safebooru.org/thumbnails/23/thumbnail_075636fd9522072b94e412aa29e18f93f0095d84.png\n"
     ]
    },
    {
     "name": "stderr",
     "output_type": "stream",
     "text": [
      "  0%|                                                                       | 2102/1288700 [37:27<379:29:55,  1.06s/it]"
     ]
    },
    {
     "name": "stdout",
     "output_type": "stream",
     "text": [
      "Warning: Could not download image animal_ears\\2101 from https://safebooru.org/thumbnails/23/thumbnail_63fa61213277d0be37b740848c7bbfd4cd6212c4.png\n"
     ]
    },
    {
     "name": "stderr",
     "output_type": "stream",
     "text": [
      "\r",
      "  0%|                                                                       | 2103/1288700 [37:28<387:47:50,  1.09s/it]"
     ]
    },
    {
     "name": "stdout",
     "output_type": "stream",
     "text": [
      "Warning: Could not download image animal_ears\\2102 from https://safebooru.org/thumbnails/24/thumbnail_47c365547d29e23ce6b614051e11022ed1ed7c59.png\n"
     ]
    },
    {
     "name": "stderr",
     "output_type": "stream",
     "text": [
      "  0%|                                                                       | 2107/1288700 [37:32<381:19:27,  1.07s/it]"
     ]
    },
    {
     "name": "stdout",
     "output_type": "stream",
     "text": [
      "Warning: Could not download image animal_ears\\2106 from https://safebooru.org/thumbnails/24/thumbnail_06eaf15f69e51f92940e43342d03693b079e7b74.png\n"
     ]
    },
    {
     "name": "stderr",
     "output_type": "stream",
     "text": [
      "\r",
      "  0%|                                                                       | 2108/1288700 [37:33<380:17:57,  1.06s/it]"
     ]
    },
    {
     "name": "stdout",
     "output_type": "stream",
     "text": [
      "Warning: Could not download image animal_ears\\2107 from https://safebooru.org/thumbnails/24/thumbnail_1d1cdc272f804ca12bedb4d341702e9f6e2829a3.png\n"
     ]
    },
    {
     "name": "stderr",
     "output_type": "stream",
     "text": [
      "  0%|                                                                       | 2110/1288700 [37:36<396:41:06,  1.11s/it]"
     ]
    },
    {
     "name": "stdout",
     "output_type": "stream",
     "text": [
      "Warning: Could not download image animal_ears\\2109 from https://safebooru.org/thumbnails/24/thumbnail_7bdeac686bd3df58b7c51da38a652c60141e203d.png\n"
     ]
    },
    {
     "name": "stderr",
     "output_type": "stream",
     "text": [
      "  0%|                                                                       | 2135/1288700 [38:02<382:14:49,  1.07s/it]"
     ]
    },
    {
     "name": "stdout",
     "output_type": "stream",
     "text": [
      "Warning: Could not download image animal_ears\\2134 from https://safebooru.org/thumbnails/24/thumbnail_6cb1ca63191cfbc79b46d553a8cea58a1d88d257.png\n"
     ]
    },
    {
     "name": "stderr",
     "output_type": "stream",
     "text": [
      "  0%|                                                                       | 2137/1288700 [38:04<400:52:06,  1.12s/it]"
     ]
    },
    {
     "name": "stdout",
     "output_type": "stream",
     "text": [
      "Warning: Could not download image animal_ears\\2136 from https://safebooru.org/thumbnails/24/thumbnail_394102e163b014715578f406048667f1db8100af.png\n"
     ]
    },
    {
     "name": "stderr",
     "output_type": "stream",
     "text": [
      "\r",
      "  0%|                                                                       | 2138/1288700 [38:05<394:06:27,  1.10s/it]"
     ]
    },
    {
     "name": "stdout",
     "output_type": "stream",
     "text": [
      "Warning: Could not download image animal_ears\\2137 from https://safebooru.org/thumbnails/24/thumbnail_f41fd36dfb85fd7cdf4aaf94ebadc1953513110d.png\n"
     ]
    },
    {
     "name": "stderr",
     "output_type": "stream",
     "text": [
      "  0%|                                                                       | 2173/1288700 [38:43<383:22:46,  1.07s/it]"
     ]
    },
    {
     "name": "stdout",
     "output_type": "stream",
     "text": [
      "Warning: Could not download image animal_ears\\2172 from https://safebooru.org/thumbnails/25/thumbnail_fd8eb454f7a1bc0a4a6cc9cf1a87358f1ab784e1.png\n"
     ]
    },
    {
     "name": "stderr",
     "output_type": "stream",
     "text": [
      "  0%|                                                                       | 2211/1288700 [39:23<384:28:58,  1.08s/it]"
     ]
    },
    {
     "name": "stdout",
     "output_type": "stream",
     "text": [
      "Warning: Could not download image animal_ears\\2210 from https://safebooru.org/thumbnails/26/thumbnail_312320722d3ce6f2f80c0dfe693b775ad23b7acf.png\n"
     ]
    },
    {
     "name": "stderr",
     "output_type": "stream",
     "text": [
      "\r",
      "  0%|                                                                       | 2212/1288700 [39:24<383:39:06,  1.07s/it]"
     ]
    },
    {
     "name": "stdout",
     "output_type": "stream",
     "text": [
      "Warning: Could not download image animal_ears\\2211 from https://safebooru.org/thumbnails/26/thumbnail_73971b8078475a45cd20081b497fdf70c187ed61.png\n"
     ]
    },
    {
     "name": "stderr",
     "output_type": "stream",
     "text": [
      "  0%|                                                                       | 2224/1288700 [39:37<382:50:01,  1.07s/it]"
     ]
    },
    {
     "name": "stdout",
     "output_type": "stream",
     "text": [
      "Warning: Could not download image animal_ears\\2223 from https://safebooru.org/thumbnails/26/thumbnail_d193eb2f41edc77690e73cbd7c09ca46e38c0446.png\n"
     ]
    },
    {
     "name": "stderr",
     "output_type": "stream",
     "text": [
      "  0%|                                                                       | 2243/1288700 [39:56<391:19:36,  1.10s/it]"
     ]
    },
    {
     "name": "stdout",
     "output_type": "stream",
     "text": [
      "Warning: Could not download image animal_ears\\2242 from https://safebooru.org/thumbnails/27/thumbnail_783407c443c4b7c901da3d5bea189db8fcd1b7bb.png\n"
     ]
    },
    {
     "name": "stderr",
     "output_type": "stream",
     "text": [
      "  0%|                                                                       | 2248/1288700 [40:02<380:04:42,  1.06s/it]"
     ]
    },
    {
     "name": "stdout",
     "output_type": "stream",
     "text": [
      "Warning: Could not download image animal_ears\\2247 from https://safebooru.org/thumbnails/27/thumbnail_28604626319c5442a4f990eeeb63e45f4a6a5fb1.png\n"
     ]
    },
    {
     "name": "stderr",
     "output_type": "stream",
     "text": [
      "  0%|                                                                       | 2268/1288700 [40:24<399:35:42,  1.12s/it]"
     ]
    },
    {
     "name": "stdout",
     "output_type": "stream",
     "text": [
      "Warning: Could not download image animal_ears\\2267 from https://safebooru.org/thumbnails/28/thumbnail_980e5822604c3aaee9dbd42361f7a2eaf93dcd5d.png\n"
     ]
    },
    {
     "name": "stderr",
     "output_type": "stream",
     "text": [
      "\r",
      "  0%|▏                                                                      | 2269/1288700 [40:25<416:33:10,  1.17s/it]"
     ]
    },
    {
     "name": "stdout",
     "output_type": "stream",
     "text": [
      "Warning: Could not download image animal_ears\\2268 from https://safebooru.org/thumbnails/28/thumbnail_f0164bc940534a3ecbaea4abfe6c271510d7adb1.png\n"
     ]
    },
    {
     "name": "stderr",
     "output_type": "stream",
     "text": [
      "  0%|▏                                                                      | 2273/1288700 [40:30<400:08:54,  1.12s/it]"
     ]
    },
    {
     "name": "stdout",
     "output_type": "stream",
     "text": [
      "Warning: Could not download image animal_ears\\2272 from https://safebooru.org/thumbnails/28/thumbnail_59d9e031611ea40c08354521645132a5b30f80ff.png\n"
     ]
    },
    {
     "name": "stderr",
     "output_type": "stream",
     "text": [
      "  0%|▏                                                                      | 2276/1288700 [40:33<386:30:10,  1.08s/it]"
     ]
    },
    {
     "name": "stdout",
     "output_type": "stream",
     "text": [
      "Warning: Could not download image animal_ears\\2275 from https://safebooru.org/thumbnails/28/thumbnail_1020a1897e9ed59da05f8ca8c16cc1595acacfa6.png\n"
     ]
    },
    {
     "name": "stderr",
     "output_type": "stream",
     "text": [
      "  0%|▏                                                                      | 2281/1288700 [40:38<383:29:11,  1.07s/it]"
     ]
    },
    {
     "name": "stdout",
     "output_type": "stream",
     "text": [
      "Warning: Could not download image animal_ears\\2280 from https://safebooru.org/thumbnails/28/thumbnail_eddaed40d896226b96979a365e9da384c440815a.png\n"
     ]
    },
    {
     "name": "stderr",
     "output_type": "stream",
     "text": [
      "\r",
      "  0%|▏                                                                      | 2282/1288700 [40:40<407:52:13,  1.14s/it]"
     ]
    },
    {
     "name": "stdout",
     "output_type": "stream",
     "text": [
      "Warning: Could not download image animal_ears\\2281 from https://safebooru.org/thumbnails/28/thumbnail_7d970ad2eebfddf35da0521762312baabcad9cd6.png\n"
     ]
    },
    {
     "name": "stderr",
     "output_type": "stream",
     "text": [
      "\r",
      "  0%|▏                                                                      | 2283/1288700 [40:41<400:35:51,  1.12s/it]"
     ]
    },
    {
     "name": "stdout",
     "output_type": "stream",
     "text": [
      "Warning: Could not download image animal_ears\\2282 from https://safebooru.org/thumbnails/28/thumbnail_39b4e499ab46107c0086e3af4441a86f9db1b4b6.png\n"
     ]
    },
    {
     "name": "stderr",
     "output_type": "stream",
     "text": [
      "\r",
      "  0%|▏                                                                      | 2284/1288700 [40:42<402:16:33,  1.13s/it]"
     ]
    },
    {
     "name": "stdout",
     "output_type": "stream",
     "text": [
      "Warning: Could not download image animal_ears\\2283 from https://safebooru.org/thumbnails/28/thumbnail_68daae773f84f37fd5f5dee126868122e15c7d3c.png\n"
     ]
    },
    {
     "name": "stderr",
     "output_type": "stream",
     "text": [
      "\r",
      "  0%|▏                                                                      | 2285/1288700 [40:43<395:40:05,  1.11s/it]"
     ]
    },
    {
     "name": "stdout",
     "output_type": "stream",
     "text": [
      "Warning: Could not download image animal_ears\\2284 from https://safebooru.org/thumbnails/28/thumbnail_1889f748604b8cf61535e34ea26d495f4e89a57a.png\n"
     ]
    },
    {
     "name": "stderr",
     "output_type": "stream",
     "text": [
      "  0%|▏                                                                      | 2292/1288700 [40:50<380:05:21,  1.06s/it]"
     ]
    },
    {
     "name": "stdout",
     "output_type": "stream",
     "text": [
      "Warning: Could not download image animal_ears\\2291 from https://safebooru.org/thumbnails/28/thumbnail_ef3dd428c947a9296a67bb09be9e34b835f9d11c.png\n"
     ]
    },
    {
     "name": "stderr",
     "output_type": "stream",
     "text": [
      "\r",
      "  0%|▏                                                                      | 2293/1288700 [40:51<378:27:04,  1.06s/it]"
     ]
    },
    {
     "name": "stdout",
     "output_type": "stream",
     "text": [
      "Warning: Could not download image animal_ears\\2292 from https://safebooru.org/thumbnails/28/thumbnail_19cc6ed3b626608142e3a67361894eb1b0979152.png\n"
     ]
    },
    {
     "name": "stderr",
     "output_type": "stream",
     "text": [
      "\r",
      "  0%|▏                                                                      | 2294/1288700 [40:52<382:10:17,  1.07s/it]"
     ]
    },
    {
     "name": "stdout",
     "output_type": "stream",
     "text": [
      "Warning: Could not download image animal_ears\\2293 from https://safebooru.org/thumbnails/28/thumbnail_1936d2dbfcc5db4c9de74bbe3c3e035de3c8da8b.png\n"
     ]
    },
    {
     "name": "stderr",
     "output_type": "stream",
     "text": [
      "\r",
      "  0%|▏                                                                      | 2295/1288700 [40:53<382:48:03,  1.07s/it]"
     ]
    },
    {
     "name": "stdout",
     "output_type": "stream",
     "text": [
      "Warning: Could not download image animal_ears\\2294 from https://safebooru.org/thumbnails/28/thumbnail_262364a55fa4f176dc293f0268bc969bb575b452.png\n"
     ]
    },
    {
     "name": "stderr",
     "output_type": "stream",
     "text": [
      "\r",
      "  0%|▏                                                                      | 2296/1288700 [40:55<387:18:47,  1.08s/it]"
     ]
    },
    {
     "name": "stdout",
     "output_type": "stream",
     "text": [
      "Warning: Could not download image animal_ears\\2295 from https://safebooru.org/thumbnails/28/thumbnail_034670c81ca6fdc8e927035a880fc94e34460900.png\n"
     ]
    },
    {
     "name": "stderr",
     "output_type": "stream",
     "text": [
      "\r",
      "  0%|▏                                                                      | 2297/1288700 [40:56<383:00:35,  1.07s/it]"
     ]
    },
    {
     "name": "stdout",
     "output_type": "stream",
     "text": [
      "Warning: Could not download image animal_ears\\2296 from https://safebooru.org/thumbnails/28/thumbnail_1c989d9acfa2f3c51b0b55c735076ee75e22324c.png\n"
     ]
    },
    {
     "name": "stderr",
     "output_type": "stream",
     "text": [
      "\r",
      "  0%|▏                                                                      | 2298/1288700 [40:57<379:54:54,  1.06s/it]"
     ]
    },
    {
     "name": "stdout",
     "output_type": "stream",
     "text": [
      "Warning: Could not download image animal_ears\\2297 from https://safebooru.org/thumbnails/28/thumbnail_7ce2b76d4559c721caf4e89617f02856aef97d97.png\n"
     ]
    },
    {
     "name": "stderr",
     "output_type": "stream",
     "text": [
      "\r",
      "  0%|▏                                                                      | 2299/1288700 [40:58<382:54:52,  1.07s/it]"
     ]
    },
    {
     "name": "stdout",
     "output_type": "stream",
     "text": [
      "Warning: Could not download image animal_ears\\2298 from https://safebooru.org/thumbnails/28/thumbnail_1fb7e08596cfee2c7bb6cf1c54bd80ed0b6e7169.png\n"
     ]
    },
    {
     "name": "stderr",
     "output_type": "stream",
     "text": [
      "\r",
      "  0%|▏                                                                      | 2300/1288700 [40:59<380:34:21,  1.07s/it]"
     ]
    },
    {
     "name": "stdout",
     "output_type": "stream",
     "text": [
      "Warning: Could not download image animal_ears\\2299 from https://safebooru.org/thumbnails/28/thumbnail_87d1ec20ca211c7733ba5939ebf40ce41bffa2ef.png\n"
     ]
    },
    {
     "name": "stderr",
     "output_type": "stream",
     "text": [
      "\r",
      "  0%|▏                                                                      | 2301/1288700 [41:00<378:19:41,  1.06s/it]"
     ]
    },
    {
     "name": "stdout",
     "output_type": "stream",
     "text": [
      "Warning: Could not download image animal_ears\\2300 from https://safebooru.org/thumbnails/28/thumbnail_0fa317e4cc6a00802b3b4a4f4fb39c6194a55dd3.png\n"
     ]
    },
    {
     "name": "stderr",
     "output_type": "stream",
     "text": [
      "\r",
      "  0%|▏                                                                      | 2302/1288700 [41:01<376:17:20,  1.05s/it]"
     ]
    },
    {
     "name": "stdout",
     "output_type": "stream",
     "text": [
      "Warning: Could not download image animal_ears\\2301 from https://safebooru.org/thumbnails/28/thumbnail_ac9a16886c11986b60d2a767dc9a20de1ec2be4b.png\n"
     ]
    },
    {
     "name": "stderr",
     "output_type": "stream",
     "text": [
      "  0%|▏                                                                      | 2306/1288700 [41:06<382:13:44,  1.07s/it]\n"
     ]
    }
   ],
   "source": [
    "pathinit = 'https:'\n",
    "\n",
    "np.flip(animal_ears_url_sample, 0)\n",
    "count = 0\n",
    "for idx in tqdm(range(len(animal_ears_url_sample))):\n",
    "    url = animal_ears_url_sample[idx]\n",
    "    save_dir = os.path.join('animal_ears', str(idx))\n",
    "    if pathinit not in animal_ears_url_sample[idx]:\n",
    "        url = pathinit + animal_ears_url_sample[idx]\n",
    "    count = count + download_image(save_dir, url)\n",
    "    if count >= 2000:\n",
    "        break"
   ]
  },
  {
   "cell_type": "code",
   "execution_count": null,
   "metadata": {},
   "outputs": [],
   "source": [
    "\n",
    "for idx in tqdm(range(len(boy_url_sample))):\n",
    "    if pathinit not in boy_url_sample[idx]:\n",
    "        boy_url_sample[idx] = pathinit + boy_url_sample[idx]\n",
    "print(boy_url_sample)\n",
    "for idx in tqdm(range(len(girl_url_sample))):\n",
    "    if pathinit not in girl_url_sample[idx]:\n",
    "        girl_url_sample[idx] = pathinit + girl_url_sample[idx]\n",
    "print(girl_url_sample)"
   ]
  },
  {
   "cell_type": "code",
   "execution_count": null,
   "metadata": {},
   "outputs": [],
   "source": [
    "for idx in tqdm(range(len(boy_url_sample))):\n",
    "    url = boy_url_sample[idx]\n",
    "    download_image(idx, url)\n",
    "for idx in tqdm(range(len(girl_url_sample))):\n",
    "    url = girl_url_sample[idx]\n",
    "    download_image(idx, url)"
   ]
  },
  {
   "cell_type": "code",
   "execution_count": null,
   "metadata": {},
   "outputs": [],
   "source": [
    "training_size = 90 #in percent\n",
    "arrint = np.arange(32000)\n",
    "animal_ears_train_idx = np.random.choice(animal_ears_url_sample, len(animal_ears_url_sample)*training_size//100, replace=False)\n",
    "animal_ears_train_data = np.array(animal_ears_url_sample[animal_ears_train_idx,:])\n",
    "human_ears_train_idx = np.random.choice(human_ears_url_sample, len(human_ears_url_sample)*training_size//100, replace=False)\n",
    "human_ears_train_data = np.array(human_ears_url_sample[human_ears_train_idx,:])\n",
    "animal_ears_val_idx = np.array([item for item in tqdm(arrint) if item not in animal_ears_train_idx])\n",
    "animal_ears_val_data = np.array(animal_ears_url_sample[animal_ears_val_idx,:])\n",
    "human_ears_val_idx = np.array([item for item in tqdm(arrint) if item not in human_ears_train_idx])\n",
    "human_ears_val_data = np.array(human_ears_url_sample[human_ears_val_idx,:])\n",
    "print(\"train animal_earss: \", len(animal_ears_train_data))\n",
    "print(\"train human_earss: \", len(human_ears_train_data))\n",
    "print(\"validation animal_earss: \", len(animal_ears_val_data))\n",
    "print(\"validation human_earss: \", len(human_ears_val_data))"
   ]
  },
  {
   "cell_type": "code",
   "execution_count": null,
   "metadata": {},
   "outputs": [],
   "source": []
  }
 ],
 "metadata": {
  "kernelspec": {
   "display_name": "Python 3",
   "language": "python",
   "name": "python3"
  },
  "language_info": {
   "codemirror_mode": {
    "name": "ipython",
    "version": 3
   },
   "file_extension": ".py",
   "mimetype": "text/x-python",
   "name": "python",
   "nbconvert_exporter": "python",
   "pygments_lexer": "ipython3",
   "version": "3.7.7"
  }
 },
 "nbformat": 4,
 "nbformat_minor": 4
}
