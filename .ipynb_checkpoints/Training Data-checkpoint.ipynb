{
 "cells": [
  {
   "cell_type": "code",
   "execution_count": 22,
   "metadata": {},
   "outputs": [
    {
     "name": "stdout",
     "output_type": "stream",
     "text": [
      "2.1.0\n"
     ]
    }
   ],
   "source": [
    "import os\n",
    "import tensorflow as tf\n",
    "import random\n",
    "import shutil\n",
    "from tqdm import tqdm\n",
    "from tensorflow.keras.preprocessing.image import ImageDataGenerator\n",
    "from tensorflow.keras.layers import Dense, Flatten, Dropout, Conv2D, MaxPooling2D\n",
    "from tensorflow.keras.optimizers import Adam, RMSprop\n",
    "print(tf.__version__)"
   ]
  },
  {
   "cell_type": "code",
   "execution_count": 7,
   "metadata": {},
   "outputs": [],
   "source": [
    "BOY_SAMPLE_DIR = 'sample/boy'\n",
    "GIRL_SAMPLE_DIR = 'sample/girl'\n",
    "\n",
    "boys = os.listdir(BOY_SAMPLE_DIR)\n",
    "girls = os.listdir(GIRL_SAMPLE_DIR)"
   ]
  },
  {
   "cell_type": "code",
   "execution_count": 8,
   "metadata": {},
   "outputs": [],
   "source": [
    "training_size = 90\n",
    "\n",
    "boys_train = random.sample(boys, len(boys)*training_size//100)\n",
    "girls_train = random.sample(girls, len(girls)*training_size//100)\n",
    "\n",
    "boys_test = [item for item in boys if item not in boys_train]\n",
    "girls_test = [item for item in girls if item not in girls_train]"
   ]
  },
  {
   "cell_type": "code",
   "execution_count": 9,
   "metadata": {},
   "outputs": [],
   "source": [
    "BASE_DIR = 'image'\n",
    "TRAIN_DIR = os.path.join(BASE_DIR, 'train')\n",
    "VAL_DIR = os.path.join(BASE_DIR, 'val')\n",
    "\n",
    "BOY_TRAIN_DIR = os.path.join(TRAIN_DIR, 'boy')\n",
    "GIRL_TRAIN_DIR = os.path.join(TRAIN_DIR, 'girl')\n",
    "BOY_VAL_DIR = os.path.join(VAL_DIR, 'boy')\n",
    "GIRL_VAL_DIR = os.path.join(VAL_DIR, 'girl')"
   ]
  },
  {
   "cell_type": "code",
   "execution_count": 17,
   "metadata": {},
   "outputs": [
    {
     "name": "stderr",
     "output_type": "stream",
     "text": [
      "100%|█████████████████████████████████████████████████████████████████████████████| 1800/1800 [00:03<00:00, 595.54it/s]\n",
      "100%|█████████████████████████████████████████████████████████████████████████████| 1800/1800 [00:03<00:00, 476.45it/s]\n",
      "100%|████████████████████████████████████████████████████████████████████████████████| 200/200 [00:02<00:00, 98.43it/s]\n",
      "100%|████████████████████████████████████████████████████████████████████████████████| 200/200 [00:02<00:00, 90.63it/s]\n"
     ]
    }
   ],
   "source": [
    "for image in tqdm(boys_train):\n",
    "    src = os.path.join(BOY_SAMPLE_DIR, image)\n",
    "    des = BOY_TRAIN_DIR\n",
    "    shutil.copy(src, des)\n",
    "\n",
    "for image in tqdm(girls_train):\n",
    "    src = os.path.join(GIRL_SAMPLE_DIR, image)\n",
    "    des = GIRL_TRAIN_DIR\n",
    "    shutil.copy(src, des)\n",
    "\n",
    "for image in tqdm(boys_test):\n",
    "    src = os.path.join(BOY_SAMPLE_DIR, image)\n",
    "    des = BOY_VAL_DIR\n",
    "    shutil.copy(src, des)\n",
    "\n",
    "for image in tqdm(girls_test):\n",
    "    src = os.path.join(GIRL_SAMPLE_DIR, image)\n",
    "    des = GIRL_VAL_DIR\n",
    "    shutil.copy(src, des)"
   ]
  },
  {
   "cell_type": "code",
   "execution_count": 21,
   "metadata": {},
   "outputs": [
    {
     "name": "stdout",
     "output_type": "stream",
     "text": [
      "Found 3600 images belonging to 2 classes.\n",
      "Found 400 images belonging to 2 classes.\n"
     ]
    }
   ],
   "source": [
    "train_datagen = ImageDataGenerator(rescale = 1.255)\n",
    "train_generator = train_datagen.flow_from_directory(\n",
    "    TRAIN_DIR,\n",
    "    batch_size = 32,\n",
    "    target_size= (54, 54),\n",
    "    class_mode = 'binary'\n",
    ")\n",
    "\n",
    "val_datagen =  ImageDataGenerator(rescale = 1.255)\n",
    "val_generator = val_datagen.flow_from_directory(\n",
    "    VAL_DIR,\n",
    "    batch_size = 32,\n",
    "    target_size= (54, 54),\n",
    "    class_mode = 'binary'\n",
    ")"
   ]
  },
  {
   "cell_type": "code",
   "execution_count": 30,
   "metadata": {},
   "outputs": [
    {
     "name": "stdout",
     "output_type": "stream",
     "text": [
      "Model: \"sequential_1\"\n",
      "_________________________________________________________________\n",
      "Layer (type)                 Output Shape              Param #   \n",
      "=================================================================\n",
      "conv2d_2 (Conv2D)            (None, 52, 52, 16)        448       \n",
      "_________________________________________________________________\n",
      "max_pooling2d_2 (MaxPooling2 (None, 26, 26, 16)        0         \n",
      "_________________________________________________________________\n",
      "conv2d_3 (Conv2D)            (None, 24, 24, 32)        4640      \n",
      "_________________________________________________________________\n",
      "max_pooling2d_3 (MaxPooling2 (None, 12, 12, 32)        0         \n",
      "_________________________________________________________________\n",
      "flatten_1 (Flatten)          (None, 4608)              0         \n",
      "_________________________________________________________________\n",
      "dense_2 (Dense)              (None, 64)                294976    \n",
      "_________________________________________________________________\n",
      "dropout (Dropout)            (None, 64)                0         \n",
      "_________________________________________________________________\n",
      "dense_3 (Dense)              (None, 1)                 65        \n",
      "=================================================================\n",
      "Total params: 300,129\n",
      "Trainable params: 300,129\n",
      "Non-trainable params: 0\n",
      "_________________________________________________________________\n"
     ]
    }
   ],
   "source": [
    "model = tf.keras.Sequential()\n",
    "model.add(Conv2D(16, (3, 3), activation='relu', input_shape=(54, 54, 3)))\n",
    "model.add(MaxPooling2D((2, 2)))\n",
    "model.add(Conv2D(32, (3, 3), activation='relu'))\n",
    "model.add(MaxPooling2D((2, 2)))\n",
    "model.add(Flatten())\n",
    "model.add(Dense(64, activation='relu'))\n",
    "model.add(Dropout(0.3))\n",
    "model.add(Dense(1, activation='sigmoid'))\n",
    "\n",
    "model.summary()"
   ]
  },
  {
   "cell_type": "code",
   "execution_count": 31,
   "metadata": {},
   "outputs": [],
   "source": [
    "model.compile(optimizer=RMSprop(lr=0.01), loss='binary_crossentropy', metrics=['accuracy'])"
   ]
  },
  {
   "cell_type": "code",
   "execution_count": 32,
   "metadata": {},
   "outputs": [
    {
     "name": "stdout",
     "output_type": "stream",
     "text": [
      "WARNING:tensorflow:sample_weight modes were coerced from\n",
      "  ...\n",
      "    to  \n",
      "  ['...']\n",
      "WARNING:tensorflow:sample_weight modes were coerced from\n",
      "  ...\n",
      "    to  \n",
      "  ['...']\n",
      "Train for 113 steps, validate for 13 steps\n",
      "Epoch 1/10\n",
      "113/113 [==============================] - 11s 102ms/step - loss: 299.9834 - accuracy: 0.4981 - val_loss: 0.6989 - val_accuracy: 0.5000\n",
      "Epoch 2/10\n",
      "113/113 [==============================] - 10s 88ms/step - loss: 0.8991 - accuracy: 0.5053 - val_loss: 0.6951 - val_accuracy: 0.5075\n",
      "Epoch 3/10\n",
      "113/113 [==============================] - 10s 92ms/step - loss: 0.8104 - accuracy: 0.5108 - val_loss: 0.7045 - val_accuracy: 0.5025\n",
      "Epoch 4/10\n",
      "113/113 [==============================] - 11s 93ms/step - loss: 2.2258 - accuracy: 0.5197 - val_loss: 0.7136 - val_accuracy: 0.4975\n",
      "Epoch 5/10\n",
      "113/113 [==============================] - 10s 89ms/step - loss: 3.6818 - accuracy: 0.5156 - val_loss: 0.6749 - val_accuracy: 0.5225\n",
      "Epoch 6/10\n",
      "113/113 [==============================] - 10s 87ms/step - loss: 2.5129 - accuracy: 0.5169 - val_loss: 0.7087 - val_accuracy: 0.5050\n",
      "Epoch 7/10\n",
      "113/113 [==============================] - 10s 90ms/step - loss: 6.2274 - accuracy: 0.5183 - val_loss: 0.6840 - val_accuracy: 0.5175\n",
      "Epoch 8/10\n",
      "113/113 [==============================] - 10s 90ms/step - loss: 0.7549 - accuracy: 0.5097 - val_loss: 0.7043 - val_accuracy: 0.5050\n",
      "Epoch 9/10\n",
      "113/113 [==============================] - 10s 90ms/step - loss: 0.7125 - accuracy: 0.5214 - val_loss: 0.7541 - val_accuracy: 0.5100\n",
      "Epoch 10/10\n",
      "113/113 [==============================] - 10s 92ms/step - loss: 0.7091 - accuracy: 0.5167 - val_loss: 0.6993 - val_accuracy: 0.5125\n"
     ]
    }
   ],
   "source": [
    "history = model.fit(\n",
    "    train_generator,\n",
    "    epochs = 10,\n",
    "    validation_data = val_generator,\n",
    "    verbose = 1\n",
    ")"
   ]
  },
  {
   "cell_type": "code",
   "execution_count": null,
   "metadata": {},
   "outputs": [],
   "source": []
  }
 ],
 "metadata": {
  "kernelspec": {
   "display_name": "Python 3",
   "language": "python",
   "name": "python3"
  },
  "language_info": {
   "codemirror_mode": {
    "name": "ipython",
    "version": 3
   },
   "file_extension": ".py",
   "mimetype": "text/x-python",
   "name": "python",
   "nbconvert_exporter": "python",
   "pygments_lexer": "ipython3",
   "version": "3.7.7"
  }
 },
 "nbformat": 4,
 "nbformat_minor": 4
}
