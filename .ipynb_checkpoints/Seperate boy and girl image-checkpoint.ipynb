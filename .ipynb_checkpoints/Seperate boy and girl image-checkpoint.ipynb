{
 "cells": [
  {
   "cell_type": "code",
   "execution_count": 1,
   "metadata": {},
   "outputs": [],
   "source": [
    "import pandas as pd\n",
    "import os\n",
    "import csv\n",
    "import numpy as np\n",
    "from tqdm import tqdm"
   ]
  },
  {
   "cell_type": "code",
   "execution_count": 2,
   "metadata": {},
   "outputs": [
    {
     "data": {
      "text/html": [
       "<div>\n",
       "<style scoped>\n",
       "    .dataframe tbody tr th:only-of-type {\n",
       "        vertical-align: middle;\n",
       "    }\n",
       "\n",
       "    .dataframe tbody tr th {\n",
       "        vertical-align: top;\n",
       "    }\n",
       "\n",
       "    .dataframe thead th {\n",
       "        text-align: right;\n",
       "    }\n",
       "</style>\n",
       "<table border=\"1\" class=\"dataframe\">\n",
       "  <thead>\n",
       "    <tr style=\"text-align: right;\">\n",
       "      <th></th>\n",
       "      <th>id</th>\n",
       "      <th>created_at</th>\n",
       "      <th>rating</th>\n",
       "      <th>score</th>\n",
       "      <th>sample_url</th>\n",
       "      <th>sample_width</th>\n",
       "      <th>sample_height</th>\n",
       "      <th>preview_url</th>\n",
       "      <th>tags</th>\n",
       "    </tr>\n",
       "  </thead>\n",
       "  <tbody>\n",
       "    <tr>\n",
       "      <td>0</td>\n",
       "      <td>1</td>\n",
       "      <td>1264803292</td>\n",
       "      <td>s</td>\n",
       "      <td>37</td>\n",
       "      <td>//safebooru.org/samples/1/sample_e7b3dc281d431...</td>\n",
       "      <td>850</td>\n",
       "      <td>638</td>\n",
       "      <td>//safebooru.org/thumbnails/1/thumbnail_e7b3dc2...</td>\n",
       "      <td>1girl bag black_hair blush bob_cut bowieknife ...</td>\n",
       "    </tr>\n",
       "    <tr>\n",
       "      <td>1</td>\n",
       "      <td>2</td>\n",
       "      <td>1264803292</td>\n",
       "      <td>s</td>\n",
       "      <td>12</td>\n",
       "      <td>//safebooru.org/samples/1/sample_27ff11b17a2c3...</td>\n",
       "      <td>850</td>\n",
       "      <td>1208</td>\n",
       "      <td>//safebooru.org/thumbnails/1/thumbnail_27ff11b...</td>\n",
       "      <td>barding black cape celty_sturluson dress dulla...</td>\n",
       "    </tr>\n",
       "    <tr>\n",
       "      <td>2</td>\n",
       "      <td>7</td>\n",
       "      <td>1264803305</td>\n",
       "      <td>s</td>\n",
       "      <td>2</td>\n",
       "      <td>//safebooru.org/samples/1/sample_e7fbb7b5e3d0a...</td>\n",
       "      <td>850</td>\n",
       "      <td>531</td>\n",
       "      <td>//safebooru.org/thumbnails/1/thumbnail_e7fbb7b...</td>\n",
       "      <td>blonde_hair detached_sleeves gloves green_eyes...</td>\n",
       "    </tr>\n",
       "    <tr>\n",
       "      <td>3</td>\n",
       "      <td>11</td>\n",
       "      <td>1264803309</td>\n",
       "      <td>s</td>\n",
       "      <td>7</td>\n",
       "      <td>//safebooru.org/samples/1/sample_24f0c579396f9...</td>\n",
       "      <td>850</td>\n",
       "      <td>601</td>\n",
       "      <td>//safebooru.org/thumbnails/1/thumbnail_24f0c57...</td>\n",
       "      <td>2_sing_4_u_(vocaloid) alternate_costume black_...</td>\n",
       "    </tr>\n",
       "    <tr>\n",
       "      <td>4</td>\n",
       "      <td>15</td>\n",
       "      <td>1264803312</td>\n",
       "      <td>s</td>\n",
       "      <td>27</td>\n",
       "      <td>//safebooru.org/samples/1/sample_05a8d8706fdfd...</td>\n",
       "      <td>850</td>\n",
       "      <td>606</td>\n",
       "      <td>//safebooru.org/thumbnails/1/thumbnail_05a8d87...</td>\n",
       "      <td>ahoge bad_id blush bottle brown_hair can cellp...</td>\n",
       "    </tr>\n",
       "  </tbody>\n",
       "</table>\n",
       "</div>"
      ],
      "text/plain": [
       "   id  created_at rating  score  \\\n",
       "0   1  1264803292      s     37   \n",
       "1   2  1264803292      s     12   \n",
       "2   7  1264803305      s      2   \n",
       "3  11  1264803309      s      7   \n",
       "4  15  1264803312      s     27   \n",
       "\n",
       "                                          sample_url  sample_width  \\\n",
       "0  //safebooru.org/samples/1/sample_e7b3dc281d431...           850   \n",
       "1  //safebooru.org/samples/1/sample_27ff11b17a2c3...           850   \n",
       "2  //safebooru.org/samples/1/sample_e7fbb7b5e3d0a...           850   \n",
       "3  //safebooru.org/samples/1/sample_24f0c579396f9...           850   \n",
       "4  //safebooru.org/samples/1/sample_05a8d8706fdfd...           850   \n",
       "\n",
       "   sample_height                                        preview_url  \\\n",
       "0            638  //safebooru.org/thumbnails/1/thumbnail_e7b3dc2...   \n",
       "1           1208  //safebooru.org/thumbnails/1/thumbnail_27ff11b...   \n",
       "2            531  //safebooru.org/thumbnails/1/thumbnail_e7fbb7b...   \n",
       "3            601  //safebooru.org/thumbnails/1/thumbnail_24f0c57...   \n",
       "4            606  //safebooru.org/thumbnails/1/thumbnail_05a8d87...   \n",
       "\n",
       "                                                tags  \n",
       "0  1girl bag black_hair blush bob_cut bowieknife ...  \n",
       "1  barding black cape celty_sturluson dress dulla...  \n",
       "2  blonde_hair detached_sleeves gloves green_eyes...  \n",
       "3  2_sing_4_u_(vocaloid) alternate_costume black_...  \n",
       "4  ahoge bad_id blush bottle brown_hair can cellp...  "
      ]
     },
     "execution_count": 2,
     "metadata": {},
     "output_type": "execute_result"
    }
   ],
   "source": [
    "df = pd.read_csv('data/solo_art.csv')\n",
    "df.head(5)"
   ]
  },
  {
   "cell_type": "code",
   "execution_count": 5,
   "metadata": {},
   "outputs": [],
   "source": [
    "def makedir(path):\n",
    "    try:\n",
    "        os.mkdir(path)\n",
    "    except:\n",
    "        print(\"Directory '\", path, \"' already exist\")"
   ]
  },
  {
   "cell_type": "code",
   "execution_count": 7,
   "metadata": {},
   "outputs": [],
   "source": [
    "image_dir = 'image'\n",
    "boy = 'boys'\n",
    "girl = 'girls'\n",
    "boy_dir = os.path.join(image_dir, boy)\n",
    "girl_dir = os.path.join(image_dir, girl)"
   ]
  },
  {
   "cell_type": "code",
   "execution_count": 3,
   "metadata": {},
   "outputs": [],
   "source": [
    "header = df.columns.values.tolist()\n",
    "numpy_data = df.to_numpy()"
   ]
  },
  {
   "cell_type": "code",
   "execution_count": 4,
   "metadata": {},
   "outputs": [
    {
     "name": "stderr",
     "output_type": "stream",
     "text": [
      "100%|█████████████████████████████████████████████████| 1420969/1420969 [00:07<00:00, 182538.80it/s]"
     ]
    },
    {
     "name": "stdout",
     "output_type": "stream",
     "text": [
      "Boys count:  69450\n",
      "Girls count:  1055840\n",
      "total:  1125290\n"
     ]
    },
    {
     "name": "stderr",
     "output_type": "stream",
     "text": [
      "\n"
     ]
    }
   ],
   "source": [
    "tags_idx = -1\n",
    "#both = pd.DataFrame(columns = header)\n",
    "#nan = pd.DataFrame(columns = header)\n",
    "art_boy = []\n",
    "art_girl = []\n",
    "for item in tqdm(numpy_data, ncols=100):\n",
    "    tags = item[tags_idx].split(' ')\n",
    "    if '1girl' in tags and '1boy' not in tags:\n",
    "        art_girl.append(item)\n",
    "    elif '1girl' not in tags and '1boy' in tags:\n",
    "        art_boy.append(item)\n",
    "#print(\"Hemaphrodite count: \", len(both))\n",
    "#print(\"Questionable count: \", len(nan))\n",
    "print(\"Boys count: \", len(art_boy))\n",
    "print(\"Girls count: \", len(art_girl))\n",
    "print(\"total: \", len(art_boy) + len(art_girl))"
   ]
  },
  {
   "cell_type": "code",
   "execution_count": 11,
   "metadata": {},
   "outputs": [
    {
     "name": "stderr",
     "output_type": "stream",
     "text": [
      "changing boys' tags: 100%|████████████████████████████████| 69450/69450 [00:00<00:00, 273583.18it/s]\n",
      "changing girls' tags: 100%|███████████████████████████| 1055840/1055840 [00:01<00:00, 865902.88it/s]\n"
     ]
    }
   ],
   "source": [
    "for item in tqdm(art_boy, desc=\"changing boys' tags\", ncols=100):\n",
    "    item[tags_idx] = 'boy'\n",
    "for item in tqdm(art_girl, desc=\"changing girls' tags\", ncols=100):\n",
    "    item[tags_idx] = 'girl'"
   ]
  },
  {
   "cell_type": "code",
   "execution_count": 12,
   "metadata": {},
   "outputs": [
    {
     "name": "stderr",
     "output_type": "stream",
     "text": [
      "writing boy progress:   5%|█▌                               | 3288/69450 [00:00<00:02, 32573.81it/s]"
     ]
    },
    {
     "name": "stdout",
     "output_type": "stream",
     "text": [
      "writing to boy_art.csv ...\n"
     ]
    },
    {
     "name": "stderr",
     "output_type": "stream",
     "text": [
      "writing boy progress: 100%|████████████████████████████████| 69450/69450 [00:01<00:00, 42013.21it/s]\n",
      "writing girl progress:   0%|▏                             | 4829/1055840 [00:00<00:21, 47839.97it/s]"
     ]
    },
    {
     "name": "stdout",
     "output_type": "stream",
     "text": [
      "done writing  69449  lines and  1  error lines\n",
      "writing to girl_art.csv ...\n"
     ]
    },
    {
     "name": "stderr",
     "output_type": "stream",
     "text": [
      "writing girl progress: 100%|███████████████████████████| 1055840/1055840 [00:16<00:00, 62478.77it/s]"
     ]
    },
    {
     "name": "stdout",
     "output_type": "stream",
     "text": [
      "done writing  1055840  lines and  0  error lines\n"
     ]
    },
    {
     "name": "stderr",
     "output_type": "stream",
     "text": [
      "\n"
     ]
    }
   ],
   "source": [
    "header = df.columns.values.tolist()\n",
    "#print(header)\n",
    "#with open('data/hemaphrodite.csv', 'w', encoding='utf-8') as data:\n",
    "#    writer = csv.writer(data)\n",
    "#    writer.writerow(header)\n",
    "#    for item in tqdm(both, desc=\"writing hemaphrodite progress\", ncols=100):\n",
    "#        writer.writerow(item)\n",
    "\n",
    "#with open('data/non_gender.csv', 'w', encoding='utf-8') as data:\n",
    "#    writer = csv.writer(data)\n",
    "#    writer.writerow(header)\n",
    "#    for item in tqdm(nan, desc=\"writing non gender progress\", ncols=100):\n",
    "#        writer.writerow(item)\n",
    "\n",
    "print('writing to boy_art.csv ...')\n",
    "with open('data/boy_art.csv', 'w', newline='') as data:\n",
    "    writer = csv.writer(data)\n",
    "    writer.writerow(header)\n",
    "    error = 1\n",
    "    for item in tqdm(art_boy, desc=\"writing boy progress\", ncols=100):\n",
    "        try:\n",
    "            writer.writerow(item)\n",
    "        except:\n",
    "            error = error + 1\n",
    "print('done writing ', len(art_boy) - error, ' lines and ', error, ' error lines')\n",
    "\n",
    "print('writing to girl_art.csv ...')\n",
    "with open('data/girl_art.csv', 'w', newline='') as data:\n",
    "    writer = csv.writer(data)\n",
    "    writer.writerow(header)\n",
    "    error = 0\n",
    "    for item in tqdm(art_girl, desc=\"writing girl progress\", ncols=100):\n",
    "        try:\n",
    "            writer.writerow(item)\n",
    "        except:\n",
    "            error = error + 1\n",
    "print('done writing ', len(art_girl) - error, ' lines and ', error, ' error lines')"
   ]
  },
  {
   "cell_type": "code",
   "execution_count": null,
   "metadata": {},
   "outputs": [],
   "source": []
  }
 ],
 "metadata": {
  "kernelspec": {
   "display_name": "Python 3",
   "language": "python",
   "name": "python3"
  },
  "language_info": {
   "codemirror_mode": {
    "name": "ipython",
    "version": 3
   },
   "file_extension": ".py",
   "mimetype": "text/x-python",
   "name": "python",
   "nbconvert_exporter": "python",
   "pygments_lexer": "ipython3",
   "version": "3.7.7"
  }
 },
 "nbformat": 4,
 "nbformat_minor": 4
}
